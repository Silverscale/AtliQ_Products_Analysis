{
 "cells": [
  {
   "cell_type": "markdown",
   "metadata": {},
   "source": [
    "# AtliQ Products Analysis"
   ]
  },
  {
   "cell_type": "markdown",
   "metadata": {},
   "source": [
    "## Contents\n",
    "\n",
    "1. [Introduction](#introduction)\n",
    "2. [Data loading and preprocessing](#data-loading-and-preprocessing)\n",
    "    - [Import libraries](#libraries)\n",
    "    - [Load/Download database](#loaddownload-database)\n",
    "    - [Helper functions](#helper-functions)\n",
    "    - [Basic tables info](#basic-tables-info)\n",
    "    - [Missing values](#missing-values)\n",
    "    - [Duplicates](#duplicates)\n",
    "    - [Other](#other)\n",
    "3. [Analysis](#analysis)\n",
    "    1. [Finding the bestsellers](#finding-the-bestsellers)\n",
    "    2. [Popularity across time and markets]\n",
    "    3. [Variant sales]\n",
    "    4. [Division sales]\n",
    "    5. [Product margin]\n",
    "    6. [Price vs cost]\n",
    "4. [Conclusion]\n",
    "\n",
    "---"
   ]
  },
  {
   "cell_type": "markdown",
   "metadata": {},
   "source": [
    "## Introduction"
   ]
  },
  {
   "cell_type": "markdown",
   "metadata": {},
   "source": [
    "Our team has been commissioned by AtliQ Hardware to conduct a thorough analysis of their product portfolio and sales data.\n",
    "\n",
    "As a prominent computer hardware producer in India, AtliQ is keen on enhancing their understanding of product performance. This analysis aims to identify top-selling products, uncover trends, and develop strategies to optimize sales and market share."
   ]
  },
  {
   "cell_type": "markdown",
   "metadata": {},
   "source": [
    "The primary objective of this research is to analyze AtliQ Hardware's product portfolio and sales data to better understand product performance and identify strategies for optimizing sales. We aim to answer these key questions:\n",
    "- Which items are the bestsellers?\n",
    "- How has popularity changed over time/across markets?\n",
    "- Are there some variants that contribute a disproportionate amount to the product sales?\n",
    "- Are some channels responsible for a large portion of a division’s sales?\n",
    "- What are the products with the best/worst margin?\n",
    "- Is gross price keeping up with manufacturing costs?\n",
    "\n",
    "Through this analysis, our goal is to provide AtliQ Hardware with actionable insights and recommendations to help drive business growth."
   ]
  },
  {
   "cell_type": "markdown",
   "metadata": {},
   "source": [
    "[Back to Contents](#contents)\n",
    "\n",
    "---"
   ]
  },
  {
   "cell_type": "markdown",
   "metadata": {},
   "source": [
    "## Data loading and Preprocessing"
   ]
  },
  {
   "cell_type": "markdown",
   "metadata": {},
   "source": [
    "### Libraries\n",
    "These are the libraries that we are going to use for this project:"
   ]
  },
  {
   "cell_type": "code",
   "execution_count": 1,
   "metadata": {
    "metadata": {}
   },
   "outputs": [],
   "source": [
    "import pandas as pd\n",
    "import sqlite3\n",
    "import os\n",
    "import requests\n",
    "import shutil\n",
    "import seaborn as sns\n",
    "import matplotlib.pyplot as plt\n",
    "import plotly.express as px"
   ]
  },
  {
   "cell_type": "markdown",
   "metadata": {},
   "source": [
    "[Back to Contents](#contents)\n",
    "\n",
    "---"
   ]
  },
  {
   "cell_type": "markdown",
   "metadata": {},
   "source": [
    "### Load/Download database"
   ]
  },
  {
   "cell_type": "markdown",
   "metadata": {},
   "source": [
    "We have access to an SQLite database with data on products, clients and sales. \n",
    "\n",
    "First let's check that it exists, and if doesn't, we'll download it."
   ]
  },
  {
   "cell_type": "code",
   "execution_count": 2,
   "metadata": {},
   "outputs": [],
   "source": [
    "# Local path to the Database\n",
    "db_directory_path = 'Data'\n",
    "db_file_path = os.path.join(db_directory_path, 'atliq_db.sqlite3')\n"
   ]
  },
  {
   "cell_type": "code",
   "execution_count": 3,
   "metadata": {},
   "outputs": [],
   "source": [
    "# Check if directory exists. If it doesn't, create it\n",
    "if not os.path.exists(db_directory_path):\n",
    "    os.makedirs(db_directory_path)\n"
   ]
  },
  {
   "cell_type": "code",
   "execution_count": 4,
   "metadata": {
    "metadata": {}
   },
   "outputs": [
    {
     "name": "stdout",
     "output_type": "stream",
     "text": [
      "Database found.\n"
     ]
    }
   ],
   "source": [
    "# Check if file exists. If it doesn't, download it\n",
    "if not os.path.exists(db_file_path):\n",
    "    print('Database not found. Downloading the file...')\n",
    "\n",
    "    db_url = 'https://practicum-content.s3.us-west-1.amazonaws.com/data-eng/databases/atliq_db.sqlite3'\n",
    "    \n",
    "    response = requests.get(db_url)\n",
    "    with open(db_file_path, 'wb') as f:\n",
    "        f.write(response.content)\n",
    "    \n",
    "    print('Database downloaded successfully!')\n",
    "else:\n",
    "    print('Database found.')\n"
   ]
  },
  {
   "cell_type": "markdown",
   "metadata": {},
   "source": [
    "We have our database. But we don't want to directly change the raw data, and we will be working directly with the database as much as possible. So we'll make a copy and modify that instead."
   ]
  },
  {
   "cell_type": "code",
   "execution_count": 5,
   "metadata": {
    "metadata": {}
   },
   "outputs": [
    {
     "name": "stdout",
     "output_type": "stream",
     "text": [
      "Database duplicated.\n"
     ]
    }
   ],
   "source": [
    "# Check if the copy exists\n",
    "work_db_path = os.path.join(db_directory_path, 'atliq_db_processed.sqlite3')\n",
    "\n",
    "work_db_found = False\n",
    "if os.path.exists(work_db_path):\n",
    "    work_db_found = True\n",
    "    print('Previous copy found.')\n",
    "else:\n",
    "    shutil.copyfile(db_file_path, work_db_path)\n",
    "    print('Database duplicated.')\n"
   ]
  },
  {
   "cell_type": "markdown",
   "metadata": {},
   "source": [
    "We can now connect to our working copy and start processing it. If we found that the copy already exists, we can assume that it is already processed, and we can skip those steps."
   ]
  },
  {
   "cell_type": "code",
   "execution_count": 6,
   "metadata": {},
   "outputs": [],
   "source": [
    "# Connect to the DB\n",
    "con = sqlite3.connect(work_db_path)"
   ]
  },
  {
   "cell_type": "markdown",
   "metadata": {},
   "source": [
    "Let's check that we have access to the tables that we are supposed to."
   ]
  },
  {
   "cell_type": "code",
   "execution_count": 7,
   "metadata": {
    "metadata": {}
   },
   "outputs": [
    {
     "name": "stdout",
     "output_type": "stream",
     "text": [
      "('dim_customer',)\n",
      "('dim_product',)\n",
      "('fact_pre_discount',)\n",
      "('fact_manufacturing_cost',)\n",
      "('fact_gross_price',)\n",
      "('fact_sales_monthly',)\n"
     ]
    }
   ],
   "source": [
    "# Check all tables\n",
    "cursor = con.cursor()\n",
    "cursor.execute(\"SELECT name FROM sqlite_master WHERE type='table';\")\n",
    "print(*cursor.fetchall(), sep='\\n')"
   ]
  },
  {
   "cell_type": "markdown",
   "metadata": {},
   "source": [
    "[Back to contents](#contents)\n",
    "\n",
    "---"
   ]
  },
  {
   "cell_type": "markdown",
   "metadata": {},
   "source": [
    "### Helper functions"
   ]
  },
  {
   "cell_type": "markdown",
   "metadata": {},
   "source": [
    "Lets check for missing values. We can't load the whole tables into pandas, so we'll have to rely only on SQL queries.\n",
    "\n",
    "Lets build a function to help us, similar to pandas info().\n",
    "\n",
    "We want to display the following:\n",
    "- Table name\n",
    "- Row count\n",
    "- Column info, including name, type, null count, and Primary Key status."
   ]
  },
  {
   "cell_type": "code",
   "execution_count": 8,
   "metadata": {},
   "outputs": [],
   "source": [
    "# Count rows in the table\n",
    "def row_count(table: str):\n",
    "    query = \"\"\"\n",
    "    SELECT COUNT(*)\n",
    "    from fact_sales_monthly\n",
    "    \"\"\"\n",
    "\n",
    "    cursor.execute(query)\n",
    "    return cursor.fetchone()[0]"
   ]
  },
  {
   "cell_type": "code",
   "execution_count": 9,
   "metadata": {},
   "outputs": [],
   "source": [
    "# Find Null values in a column\n",
    "def count_nulls_in_column(column: str, table: str):\n",
    "    query = f\"\"\"\n",
    "    SELECT COUNT(*)\n",
    "    FROM {table}\n",
    "    WHERE {column} IS NULL\n",
    "    \"\"\"\n",
    "\n",
    "    cursor.execute(query)\n",
    "    return cursor.fetchone()[0]"
   ]
  },
  {
   "cell_type": "code",
   "execution_count": 10,
   "metadata": {},
   "outputs": [],
   "source": [
    "# Get all the column names from a table\n",
    "def get_column_names(table: str):\n",
    "    query = f\"\"\"\n",
    "    PRAGMA table_info({table}) \n",
    "    \"\"\"\n",
    "\n",
    "    cursor.execute(query)\n",
    "    result = cursor.fetchall()\n",
    "    name_pos_in_row = 1\n",
    "\n",
    "    column_names = []\n",
    "    for row in result:\n",
    "        column_names.append(row[name_pos_in_row])\n",
    "\n",
    "    return column_names"
   ]
  },
  {
   "cell_type": "code",
   "execution_count": 11,
   "metadata": {},
   "outputs": [],
   "source": [
    "# Check missing values in all columns of the table\n",
    "def check_nulls(table: str):\n",
    "    column_names = get_column_names(table)\n",
    "    null_counts = []\n",
    "    for column in column_names:\n",
    "        null_counts.append((column, count_nulls_in_column(column, table)))\n",
    "\n",
    "    return null_counts"
   ]
  },
  {
   "cell_type": "code",
   "execution_count": 12,
   "metadata": {},
   "outputs": [],
   "source": [
    "def table_schema(table: str):\n",
    "    query = f\"\"\"\n",
    "    PRAGMA table_info({table})\n",
    "    \"\"\"\n",
    "\n",
    "    return pd.read_sql_query(query, con)[['name', 'type', 'pk']]\n"
   ]
  },
  {
   "cell_type": "code",
   "execution_count": 13,
   "metadata": {},
   "outputs": [],
   "source": [
    "def get_table_info(table: str):\n",
    "    print(f'Table: {table}')\n",
    "    print(f'Rows: {row_count(table)}')\n",
    "    null_count = check_nulls(table)\n",
    "    schema = table_schema(table)\n",
    "    schema['nulls'] = [t[1] for t in null_count]\n",
    "    display(schema)"
   ]
  },
  {
   "cell_type": "markdown",
   "metadata": {},
   "source": [
    "To find duplicates, we'll compare the row count of a regular `SELECT` vs a `SELECT DISTINCT`, using relevant columns for each table."
   ]
  },
  {
   "cell_type": "code",
   "execution_count": 14,
   "metadata": {},
   "outputs": [],
   "source": [
    "def count_duplicates(table: str, list_cols: list, verbose=True):\n",
    "\n",
    "    columns = ', '.join(list_cols)\n",
    "\n",
    "    query = f\"\"\"\n",
    "    SELECT COUNT(*)\n",
    "    FROM {table}\n",
    "    \"\"\"\n",
    "    cursor.execute(query)\n",
    "    sel = cursor.fetchone()[0]\n",
    "\n",
    "    query = f\"\"\"\n",
    "    SELECT DISTINCT COUNT(*)\n",
    "    FROM (\n",
    "        SELECT DISTINCT {columns}\n",
    "        FROM {table}\n",
    "    )\n",
    "    \"\"\"\n",
    "    cursor.execute(query)\n",
    "    dis = cursor.fetchone()[0]\n",
    "    duplicate_count = sel - dis\n",
    "\n",
    "    if verbose:\n",
    "        print(f'Table: {table}')\n",
    "        print(f'Duplicates found: {duplicate_count}')\n",
    "    return(duplicate_count)\n"
   ]
  },
  {
   "cell_type": "markdown",
   "metadata": {},
   "source": [
    "[Back to Contents](#contents)\n",
    "\n",
    "---"
   ]
  },
  {
   "cell_type": "markdown",
   "metadata": {},
   "source": [
    "### Basic tables info"
   ]
  },
  {
   "cell_type": "markdown",
   "metadata": {},
   "source": [
    "With our function ready, lets check the info on our tables."
   ]
  },
  {
   "cell_type": "code",
   "execution_count": 15,
   "metadata": {
    "metadata": {}
   },
   "outputs": [
    {
     "name": "stdout",
     "output_type": "stream",
     "text": [
      "Table: dim_customer\n",
      "Rows: 67251\n"
     ]
    },
    {
     "data": {
      "text/html": [
       "<div>\n",
       "<style scoped>\n",
       "    .dataframe tbody tr th:only-of-type {\n",
       "        vertical-align: middle;\n",
       "    }\n",
       "\n",
       "    .dataframe tbody tr th {\n",
       "        vertical-align: top;\n",
       "    }\n",
       "\n",
       "    .dataframe thead th {\n",
       "        text-align: right;\n",
       "    }\n",
       "</style>\n",
       "<table border=\"1\" class=\"dataframe\">\n",
       "  <thead>\n",
       "    <tr style=\"text-align: right;\">\n",
       "      <th></th>\n",
       "      <th>name</th>\n",
       "      <th>type</th>\n",
       "      <th>pk</th>\n",
       "      <th>nulls</th>\n",
       "    </tr>\n",
       "  </thead>\n",
       "  <tbody>\n",
       "    <tr>\n",
       "      <th>0</th>\n",
       "      <td>customer_code</td>\n",
       "      <td>INTEGER</td>\n",
       "      <td>0</td>\n",
       "      <td>0</td>\n",
       "    </tr>\n",
       "    <tr>\n",
       "      <th>1</th>\n",
       "      <td>customer</td>\n",
       "      <td>TEXT</td>\n",
       "      <td>0</td>\n",
       "      <td>0</td>\n",
       "    </tr>\n",
       "    <tr>\n",
       "      <th>2</th>\n",
       "      <td>platform</td>\n",
       "      <td>TEXT</td>\n",
       "      <td>0</td>\n",
       "      <td>0</td>\n",
       "    </tr>\n",
       "    <tr>\n",
       "      <th>3</th>\n",
       "      <td>channel</td>\n",
       "      <td>TEXT</td>\n",
       "      <td>0</td>\n",
       "      <td>0</td>\n",
       "    </tr>\n",
       "    <tr>\n",
       "      <th>4</th>\n",
       "      <td>market</td>\n",
       "      <td>TEXT</td>\n",
       "      <td>0</td>\n",
       "      <td>0</td>\n",
       "    </tr>\n",
       "    <tr>\n",
       "      <th>5</th>\n",
       "      <td>sub_zone</td>\n",
       "      <td>TEXT</td>\n",
       "      <td>0</td>\n",
       "      <td>0</td>\n",
       "    </tr>\n",
       "    <tr>\n",
       "      <th>6</th>\n",
       "      <td>region</td>\n",
       "      <td>TEXT</td>\n",
       "      <td>0</td>\n",
       "      <td>0</td>\n",
       "    </tr>\n",
       "  </tbody>\n",
       "</table>\n",
       "</div>"
      ],
      "text/plain": [
       "            name     type  pk  nulls\n",
       "0  customer_code  INTEGER   0      0\n",
       "1       customer     TEXT   0      0\n",
       "2       platform     TEXT   0      0\n",
       "3        channel     TEXT   0      0\n",
       "4         market     TEXT   0      0\n",
       "5       sub_zone     TEXT   0      0\n",
       "6         region     TEXT   0      0"
      ]
     },
     "metadata": {},
     "output_type": "display_data"
    }
   ],
   "source": [
    "get_table_info('dim_customer')"
   ]
  },
  {
   "cell_type": "code",
   "execution_count": 16,
   "metadata": {
    "metadata": {}
   },
   "outputs": [
    {
     "name": "stdout",
     "output_type": "stream",
     "text": [
      "Table: dim_product\n",
      "Rows: 67251\n"
     ]
    },
    {
     "data": {
      "text/html": [
       "<div>\n",
       "<style scoped>\n",
       "    .dataframe tbody tr th:only-of-type {\n",
       "        vertical-align: middle;\n",
       "    }\n",
       "\n",
       "    .dataframe tbody tr th {\n",
       "        vertical-align: top;\n",
       "    }\n",
       "\n",
       "    .dataframe thead th {\n",
       "        text-align: right;\n",
       "    }\n",
       "</style>\n",
       "<table border=\"1\" class=\"dataframe\">\n",
       "  <thead>\n",
       "    <tr style=\"text-align: right;\">\n",
       "      <th></th>\n",
       "      <th>name</th>\n",
       "      <th>type</th>\n",
       "      <th>pk</th>\n",
       "      <th>nulls</th>\n",
       "    </tr>\n",
       "  </thead>\n",
       "  <tbody>\n",
       "    <tr>\n",
       "      <th>0</th>\n",
       "      <td>product_code</td>\n",
       "      <td>TEXT</td>\n",
       "      <td>0</td>\n",
       "      <td>0</td>\n",
       "    </tr>\n",
       "    <tr>\n",
       "      <th>1</th>\n",
       "      <td>division</td>\n",
       "      <td>TEXT</td>\n",
       "      <td>0</td>\n",
       "      <td>0</td>\n",
       "    </tr>\n",
       "    <tr>\n",
       "      <th>2</th>\n",
       "      <td>segment</td>\n",
       "      <td>TEXT</td>\n",
       "      <td>0</td>\n",
       "      <td>0</td>\n",
       "    </tr>\n",
       "    <tr>\n",
       "      <th>3</th>\n",
       "      <td>category</td>\n",
       "      <td>TEXT</td>\n",
       "      <td>0</td>\n",
       "      <td>0</td>\n",
       "    </tr>\n",
       "    <tr>\n",
       "      <th>4</th>\n",
       "      <td>product</td>\n",
       "      <td>TEXT</td>\n",
       "      <td>0</td>\n",
       "      <td>0</td>\n",
       "    </tr>\n",
       "    <tr>\n",
       "      <th>5</th>\n",
       "      <td>variant</td>\n",
       "      <td>TEXT</td>\n",
       "      <td>0</td>\n",
       "      <td>0</td>\n",
       "    </tr>\n",
       "  </tbody>\n",
       "</table>\n",
       "</div>"
      ],
      "text/plain": [
       "           name  type  pk  nulls\n",
       "0  product_code  TEXT   0      0\n",
       "1      division  TEXT   0      0\n",
       "2       segment  TEXT   0      0\n",
       "3      category  TEXT   0      0\n",
       "4       product  TEXT   0      0\n",
       "5       variant  TEXT   0      0"
      ]
     },
     "metadata": {},
     "output_type": "display_data"
    }
   ],
   "source": [
    "get_table_info('dim_product')"
   ]
  },
  {
   "cell_type": "code",
   "execution_count": 17,
   "metadata": {
    "metadata": {}
   },
   "outputs": [
    {
     "name": "stdout",
     "output_type": "stream",
     "text": [
      "Table: fact_pre_discount\n",
      "Rows: 67251\n"
     ]
    },
    {
     "data": {
      "text/html": [
       "<div>\n",
       "<style scoped>\n",
       "    .dataframe tbody tr th:only-of-type {\n",
       "        vertical-align: middle;\n",
       "    }\n",
       "\n",
       "    .dataframe tbody tr th {\n",
       "        vertical-align: top;\n",
       "    }\n",
       "\n",
       "    .dataframe thead th {\n",
       "        text-align: right;\n",
       "    }\n",
       "</style>\n",
       "<table border=\"1\" class=\"dataframe\">\n",
       "  <thead>\n",
       "    <tr style=\"text-align: right;\">\n",
       "      <th></th>\n",
       "      <th>name</th>\n",
       "      <th>type</th>\n",
       "      <th>pk</th>\n",
       "      <th>nulls</th>\n",
       "    </tr>\n",
       "  </thead>\n",
       "  <tbody>\n",
       "    <tr>\n",
       "      <th>0</th>\n",
       "      <td>customer_code</td>\n",
       "      <td>INTEGER</td>\n",
       "      <td>0</td>\n",
       "      <td>0</td>\n",
       "    </tr>\n",
       "    <tr>\n",
       "      <th>1</th>\n",
       "      <td>fiscal_year</td>\n",
       "      <td>INTEGER</td>\n",
       "      <td>0</td>\n",
       "      <td>0</td>\n",
       "    </tr>\n",
       "    <tr>\n",
       "      <th>2</th>\n",
       "      <td>pre_invoice_discount_pct</td>\n",
       "      <td>float</td>\n",
       "      <td>0</td>\n",
       "      <td>0</td>\n",
       "    </tr>\n",
       "  </tbody>\n",
       "</table>\n",
       "</div>"
      ],
      "text/plain": [
       "                       name     type  pk  nulls\n",
       "0             customer_code  INTEGER   0      0\n",
       "1               fiscal_year  INTEGER   0      0\n",
       "2  pre_invoice_discount_pct    float   0      0"
      ]
     },
     "metadata": {},
     "output_type": "display_data"
    }
   ],
   "source": [
    "get_table_info('fact_pre_discount')"
   ]
  },
  {
   "cell_type": "code",
   "execution_count": 18,
   "metadata": {
    "metadata": {}
   },
   "outputs": [
    {
     "name": "stdout",
     "output_type": "stream",
     "text": [
      "Table: fact_manufacturing_cost\n",
      "Rows: 67251\n"
     ]
    },
    {
     "data": {
      "text/html": [
       "<div>\n",
       "<style scoped>\n",
       "    .dataframe tbody tr th:only-of-type {\n",
       "        vertical-align: middle;\n",
       "    }\n",
       "\n",
       "    .dataframe tbody tr th {\n",
       "        vertical-align: top;\n",
       "    }\n",
       "\n",
       "    .dataframe thead th {\n",
       "        text-align: right;\n",
       "    }\n",
       "</style>\n",
       "<table border=\"1\" class=\"dataframe\">\n",
       "  <thead>\n",
       "    <tr style=\"text-align: right;\">\n",
       "      <th></th>\n",
       "      <th>name</th>\n",
       "      <th>type</th>\n",
       "      <th>pk</th>\n",
       "      <th>nulls</th>\n",
       "    </tr>\n",
       "  </thead>\n",
       "  <tbody>\n",
       "    <tr>\n",
       "      <th>0</th>\n",
       "      <td>product_code</td>\n",
       "      <td>TEXT</td>\n",
       "      <td>0</td>\n",
       "      <td>0</td>\n",
       "    </tr>\n",
       "    <tr>\n",
       "      <th>1</th>\n",
       "      <td>cost_year</td>\n",
       "      <td>INTEGER</td>\n",
       "      <td>0</td>\n",
       "      <td>0</td>\n",
       "    </tr>\n",
       "    <tr>\n",
       "      <th>2</th>\n",
       "      <td>manufacturing_cost</td>\n",
       "      <td>float</td>\n",
       "      <td>0</td>\n",
       "      <td>0</td>\n",
       "    </tr>\n",
       "  </tbody>\n",
       "</table>\n",
       "</div>"
      ],
      "text/plain": [
       "                 name     type  pk  nulls\n",
       "0        product_code     TEXT   0      0\n",
       "1           cost_year  INTEGER   0      0\n",
       "2  manufacturing_cost    float   0      0"
      ]
     },
     "metadata": {},
     "output_type": "display_data"
    }
   ],
   "source": [
    "get_table_info('fact_manufacturing_cost')"
   ]
  },
  {
   "cell_type": "code",
   "execution_count": 19,
   "metadata": {
    "metadata": {}
   },
   "outputs": [
    {
     "name": "stdout",
     "output_type": "stream",
     "text": [
      "Table: fact_gross_price\n",
      "Rows: 67251\n"
     ]
    },
    {
     "data": {
      "text/html": [
       "<div>\n",
       "<style scoped>\n",
       "    .dataframe tbody tr th:only-of-type {\n",
       "        vertical-align: middle;\n",
       "    }\n",
       "\n",
       "    .dataframe tbody tr th {\n",
       "        vertical-align: top;\n",
       "    }\n",
       "\n",
       "    .dataframe thead th {\n",
       "        text-align: right;\n",
       "    }\n",
       "</style>\n",
       "<table border=\"1\" class=\"dataframe\">\n",
       "  <thead>\n",
       "    <tr style=\"text-align: right;\">\n",
       "      <th></th>\n",
       "      <th>name</th>\n",
       "      <th>type</th>\n",
       "      <th>pk</th>\n",
       "      <th>nulls</th>\n",
       "    </tr>\n",
       "  </thead>\n",
       "  <tbody>\n",
       "    <tr>\n",
       "      <th>0</th>\n",
       "      <td>product_code</td>\n",
       "      <td>TEXT</td>\n",
       "      <td>0</td>\n",
       "      <td>0</td>\n",
       "    </tr>\n",
       "    <tr>\n",
       "      <th>1</th>\n",
       "      <td>fiscal_year</td>\n",
       "      <td>INTEGER</td>\n",
       "      <td>0</td>\n",
       "      <td>0</td>\n",
       "    </tr>\n",
       "    <tr>\n",
       "      <th>2</th>\n",
       "      <td>gross_price</td>\n",
       "      <td>float</td>\n",
       "      <td>0</td>\n",
       "      <td>0</td>\n",
       "    </tr>\n",
       "  </tbody>\n",
       "</table>\n",
       "</div>"
      ],
      "text/plain": [
       "           name     type  pk  nulls\n",
       "0  product_code     TEXT   0      0\n",
       "1   fiscal_year  INTEGER   0      0\n",
       "2   gross_price    float   0      0"
      ]
     },
     "metadata": {},
     "output_type": "display_data"
    }
   ],
   "source": [
    "get_table_info('fact_gross_price')"
   ]
  },
  {
   "cell_type": "code",
   "execution_count": 20,
   "metadata": {
    "metadata": {}
   },
   "outputs": [
    {
     "name": "stdout",
     "output_type": "stream",
     "text": [
      "Table: fact_sales_monthly\n",
      "Rows: 67251\n"
     ]
    },
    {
     "data": {
      "text/html": [
       "<div>\n",
       "<style scoped>\n",
       "    .dataframe tbody tr th:only-of-type {\n",
       "        vertical-align: middle;\n",
       "    }\n",
       "\n",
       "    .dataframe tbody tr th {\n",
       "        vertical-align: top;\n",
       "    }\n",
       "\n",
       "    .dataframe thead th {\n",
       "        text-align: right;\n",
       "    }\n",
       "</style>\n",
       "<table border=\"1\" class=\"dataframe\">\n",
       "  <thead>\n",
       "    <tr style=\"text-align: right;\">\n",
       "      <th></th>\n",
       "      <th>name</th>\n",
       "      <th>type</th>\n",
       "      <th>pk</th>\n",
       "      <th>nulls</th>\n",
       "    </tr>\n",
       "  </thead>\n",
       "  <tbody>\n",
       "    <tr>\n",
       "      <th>0</th>\n",
       "      <td>date</td>\n",
       "      <td>TEXT</td>\n",
       "      <td>0</td>\n",
       "      <td>0</td>\n",
       "    </tr>\n",
       "    <tr>\n",
       "      <th>1</th>\n",
       "      <td>product_code</td>\n",
       "      <td>TEXT</td>\n",
       "      <td>0</td>\n",
       "      <td>0</td>\n",
       "    </tr>\n",
       "    <tr>\n",
       "      <th>2</th>\n",
       "      <td>customer_code</td>\n",
       "      <td>INTEGER</td>\n",
       "      <td>0</td>\n",
       "      <td>1</td>\n",
       "    </tr>\n",
       "    <tr>\n",
       "      <th>3</th>\n",
       "      <td>sold_quantity</td>\n",
       "      <td>INTEGER</td>\n",
       "      <td>0</td>\n",
       "      <td>1</td>\n",
       "    </tr>\n",
       "    <tr>\n",
       "      <th>4</th>\n",
       "      <td>fiscal_year</td>\n",
       "      <td>INTEGER</td>\n",
       "      <td>0</td>\n",
       "      <td>1</td>\n",
       "    </tr>\n",
       "  </tbody>\n",
       "</table>\n",
       "</div>"
      ],
      "text/plain": [
       "            name     type  pk  nulls\n",
       "0           date     TEXT   0      0\n",
       "1   product_code     TEXT   0      0\n",
       "2  customer_code  INTEGER   0      1\n",
       "3  sold_quantity  INTEGER   0      1\n",
       "4    fiscal_year  INTEGER   0      1"
      ]
     },
     "metadata": {},
     "output_type": "display_data"
    }
   ],
   "source": [
    "get_table_info('fact_sales_monthly')"
   ]
  },
  {
   "cell_type": "markdown",
   "metadata": {},
   "source": [
    "There is only one missing value in the whole database. \n",
    "\n",
    "Curiously, none of the tables have primary keys declared. "
   ]
  },
  {
   "cell_type": "markdown",
   "metadata": {},
   "source": [
    "[Back to contents](#contents)\n",
    "\n",
    "---"
   ]
  },
  {
   "cell_type": "markdown",
   "metadata": {},
   "source": [
    "### Missing values"
   ]
  },
  {
   "cell_type": "markdown",
   "metadata": {},
   "source": [
    "There is only one row with missing values in the whole Database. Let's print that row."
   ]
  },
  {
   "cell_type": "code",
   "execution_count": 21,
   "metadata": {},
   "outputs": [
    {
     "name": "stdout",
     "output_type": "stream",
     "text": [
      "('2019-06-01', 'A0', None, None, None)\n"
     ]
    }
   ],
   "source": [
    "query='''\n",
    "SELECT *\n",
    "FROM fact_sales_monthly\n",
    "WHERE fiscal_year IS NULL\n",
    "'''\n",
    "\n",
    "cursor.execute(query)\n",
    "print(*cursor.fetchall(), sep='\\n')"
   ]
  },
  {
   "cell_type": "markdown",
   "metadata": {},
   "source": [
    "It's for product `A0` during `June 2019`. It could mean that this product didn't get any sales that month. Let's see some more info about it."
   ]
  },
  {
   "cell_type": "code",
   "execution_count": 22,
   "metadata": {
    "metadata": {}
   },
   "outputs": [
    {
     "name": "stdout",
     "output_type": "stream",
     "text": [
      "('2019-06-01', 'A0', None, None, None)\n"
     ]
    }
   ],
   "source": [
    "# Look for other sales of this product\n",
    "query='''\n",
    "SELECT *\n",
    "FROM fact_sales_monthly\n",
    "WHERE product_code = \"A0\"\n",
    "'''\n",
    "\n",
    "cursor.execute(query)\n",
    "print(*cursor.fetchall(), sep='\\n')"
   ]
  },
  {
   "cell_type": "markdown",
   "metadata": {},
   "source": [
    "There are no other record of sales of this product."
   ]
  },
  {
   "cell_type": "code",
   "execution_count": 23,
   "metadata": {
    "metadata": {}
   },
   "outputs": [
    {
     "name": "stdout",
     "output_type": "stream",
     "text": [
      "\n"
     ]
    }
   ],
   "source": [
    "# What product is this\n",
    "query='''\n",
    "SELECT *\n",
    "FROM dim_product\n",
    "WHERE product_code = \"A0\"\n",
    "'''\n",
    "\n",
    "cursor.execute(query)\n",
    "print(*cursor.fetchall(), sep='\\n')"
   ]
  },
  {
   "cell_type": "markdown",
   "metadata": {},
   "source": [
    "There is no register of this product in `dim_product`. It doesn't exist. We can delete this row."
   ]
  },
  {
   "cell_type": "code",
   "execution_count": 24,
   "metadata": {
    "metadata": {}
   },
   "outputs": [
    {
     "name": "stdout",
     "output_type": "stream",
     "text": [
      "\n"
     ]
    }
   ],
   "source": [
    "# What product is this\n",
    "query='''\n",
    "DELETE \n",
    "FROM fact_sales_monthly\n",
    "WHERE product_code = \"A0\"\n",
    "'''\n",
    "\n",
    "cursor.execute(query)\n",
    "print(*cursor.fetchall(), sep='\\n')\n",
    "\n",
    "con.commit()"
   ]
  },
  {
   "cell_type": "markdown",
   "metadata": {},
   "source": [
    "[Back to Contents](#contents)\n",
    "\n",
    "---"
   ]
  },
  {
   "cell_type": "markdown",
   "metadata": {},
   "source": [
    "### Duplicates"
   ]
  },
  {
   "cell_type": "markdown",
   "metadata": {},
   "source": [
    "The tables don't have Primary keys set up. That means it's possible that some of them have duplicated values in critical columns.\n",
    "\n",
    "We'll be examining various column combinations in each table. Unless we encounter a non-zero value, we'll proceed to the next one."
   ]
  },
  {
   "cell_type": "code",
   "execution_count": 25,
   "metadata": {
    "metadata": {}
   },
   "outputs": [
    {
     "name": "stdout",
     "output_type": "stream",
     "text": [
      "Table: dim_customer\n",
      "Duplicates found: 0\n"
     ]
    }
   ],
   "source": [
    "# No duplicate customer codes\n",
    "table = 'dim_customer'\n",
    "columns = ['customer_code']\n",
    "count_duplicates(table, columns);"
   ]
  },
  {
   "cell_type": "code",
   "execution_count": 26,
   "metadata": {
    "metadata": {}
   },
   "outputs": [
    {
     "name": "stdout",
     "output_type": "stream",
     "text": [
      "Table: dim_customer\n",
      "Duplicates found: 101\n"
     ]
    }
   ],
   "source": [
    "# Customer codes are unique to the ['customer', 'platform', 'channel', 'region'] combination\n",
    "table = 'dim_customer'\n",
    "columns = ['customer', 'platform', 'channel', 'region']\n",
    "count_duplicates(table, columns);"
   ]
  },
  {
   "cell_type": "markdown",
   "metadata": {},
   "source": [
    "We got duplicates here. It's possible that the batabase notes are mistaken and `customer_code` is given by market, instead of by region."
   ]
  },
  {
   "cell_type": "code",
   "execution_count": 27,
   "metadata": {
    "metadata": {}
   },
   "outputs": [
    {
     "name": "stdout",
     "output_type": "stream",
     "text": [
      "Table: dim_customer\n",
      "Duplicates found: 0\n"
     ]
    }
   ],
   "source": [
    "# Check if adding 'market' to the previous query makes the results unique\n",
    "table = 'dim_customer'\n",
    "columns = ['customer', 'platform', 'channel', 'region', 'sub_zone', 'market']\n",
    "count_duplicates(table, columns);"
   ]
  },
  {
   "cell_type": "markdown",
   "metadata": {},
   "source": [
    "It seems to be the case. We can move on."
   ]
  },
  {
   "cell_type": "code",
   "execution_count": 28,
   "metadata": {
    "metadata": {}
   },
   "outputs": [
    {
     "name": "stdout",
     "output_type": "stream",
     "text": [
      "Table: dim_product\n",
      "Duplicates found: 0\n"
     ]
    }
   ],
   "source": [
    "# No duplicate product_code\n",
    "table = 'dim_product'\n",
    "columns = ['product_code']\n",
    "count_duplicates(table, columns);"
   ]
  },
  {
   "cell_type": "code",
   "execution_count": 29,
   "metadata": {
    "metadata": {}
   },
   "outputs": [
    {
     "name": "stdout",
     "output_type": "stream",
     "text": [
      "Table: dim_product\n",
      "Duplicates found: 0\n"
     ]
    }
   ],
   "source": [
    "# No duplicate variants for the same product\n",
    "table = 'dim_product'\n",
    "columns = ['product', 'variant']\n",
    "count_duplicates(table, columns);"
   ]
  },
  {
   "cell_type": "code",
   "execution_count": 30,
   "metadata": {
    "metadata": {}
   },
   "outputs": [
    {
     "name": "stdout",
     "output_type": "stream",
     "text": [
      "Table: dim_product\n",
      "Duplicates found: 0\n"
     ]
    }
   ],
   "source": [
    "# No duplicate category for the same product variant\n",
    "table = 'dim_product'\n",
    "columns = ['category', 'product', 'variant']\n",
    "count_duplicates(table, columns);"
   ]
  },
  {
   "cell_type": "code",
   "execution_count": 31,
   "metadata": {},
   "outputs": [
    {
     "name": "stdout",
     "output_type": "stream",
     "text": [
      "Table: dim_product\n",
      "Duplicates found: 0\n"
     ]
    }
   ],
   "source": [
    "# No duplicate segment for the same category product variant\n",
    "table = 'dim_product'\n",
    "columns = ['segment', 'category', 'product', 'variant']\n",
    "count_duplicates(table, columns);"
   ]
  },
  {
   "cell_type": "code",
   "execution_count": 32,
   "metadata": {
    "metadata": {}
   },
   "outputs": [
    {
     "name": "stdout",
     "output_type": "stream",
     "text": [
      "Table: dim_product\n",
      "Duplicates found: 0\n"
     ]
    }
   ],
   "source": [
    "# No duplicate division for the same category product variant\n",
    "table = 'dim_product'\n",
    "columns = ['division', 'segment', 'category', 'product', 'variant']\n",
    "count_duplicates(table, columns);"
   ]
  },
  {
   "cell_type": "code",
   "execution_count": 33,
   "metadata": {},
   "outputs": [
    {
     "name": "stdout",
     "output_type": "stream",
     "text": [
      "Table: dim_product\n",
      "Duplicates found: 0\n"
     ]
    }
   ],
   "source": [
    "# The combination ['product', 'category', 'variant', 'segment', 'division'] should be unique\n",
    "table = 'dim_product'\n",
    "columns = ['product', 'category', 'variant', 'segment', 'division']\n",
    "count_duplicates(table, columns);"
   ]
  },
  {
   "cell_type": "code",
   "execution_count": 34,
   "metadata": {
    "metadata": {}
   },
   "outputs": [
    {
     "name": "stdout",
     "output_type": "stream",
     "text": [
      "Table: fact_pre_discount\n",
      "Duplicates found: 0\n"
     ]
    }
   ],
   "source": [
    "# Each customer_code should have only one discount per fiscal_year\n",
    "table = 'fact_pre_discount'\n",
    "columns = ['customer_code', 'fiscal_year']\n",
    "count_duplicates(table, columns);"
   ]
  },
  {
   "cell_type": "code",
   "execution_count": 35,
   "metadata": {
    "metadata": {}
   },
   "outputs": [
    {
     "name": "stdout",
     "output_type": "stream",
     "text": [
      "Table: fact_manufacturing_cost\n",
      "Duplicates found: 0\n"
     ]
    }
   ],
   "source": [
    "# Each product_code should have only one cost per year\n",
    "table = 'fact_manufacturing_cost'\n",
    "columns = ['product_code', 'cost_year']\n",
    "count_duplicates(table, columns);"
   ]
  },
  {
   "cell_type": "code",
   "execution_count": 36,
   "metadata": {
    "metadata": {}
   },
   "outputs": [
    {
     "name": "stdout",
     "output_type": "stream",
     "text": [
      "Table: fact_gross_price\n",
      "Duplicates found: 0\n"
     ]
    }
   ],
   "source": [
    "# Each product_code should have only one price per year\n",
    "table = 'fact_gross_price'\n",
    "columns = ['product_code', 'fiscal_year']\n",
    "count_duplicates(table, columns);"
   ]
  },
  {
   "cell_type": "code",
   "execution_count": 37,
   "metadata": {
    "metadata": {}
   },
   "outputs": [
    {
     "name": "stdout",
     "output_type": "stream",
     "text": [
      "Table: fact_sales_monthly\n",
      "Duplicates found: 0\n"
     ]
    }
   ],
   "source": [
    "# The sales data should be aggrergated by customer, product and date.\n",
    "table = 'fact_sales_monthly'\n",
    "columns = ['date', 'product_code', 'customer_code']\n",
    "count_duplicates(table, columns);"
   ]
  },
  {
   "cell_type": "markdown",
   "metadata": {},
   "source": [
    "We only found duplicates in `dim_customer`, and they are easily explainable. There is nothing to fix here."
   ]
  },
  {
   "cell_type": "markdown",
   "metadata": {},
   "source": [
    "[Back to Contents](#contents)\n",
    "\n",
    "---"
   ]
  },
  {
   "cell_type": "markdown",
   "metadata": {},
   "source": [
    "### Other"
   ]
  },
  {
   "cell_type": "markdown",
   "metadata": {},
   "source": [
    "We should check the consistency of the data that we have, and that it obeys the rules stated in the Database documentation."
   ]
  },
  {
   "cell_type": "markdown",
   "metadata": {},
   "source": [
    "Let's see if the time period is the same in all tables."
   ]
  },
  {
   "cell_type": "code",
   "execution_count": 38,
   "metadata": {},
   "outputs": [
    {
     "data": {
      "text/plain": [
       "(2018, 2022)"
      ]
     },
     "execution_count": 38,
     "metadata": {},
     "output_type": "execute_result"
    }
   ],
   "source": [
    "# Period for fact_pre_discount data\n",
    "query = \"\"\"\n",
    "SELECT MIN(fiscal_year), MAX(fiscal_year)\n",
    "FROM fact_pre_discount\n",
    "\"\"\"\n",
    "\n",
    "cursor.execute(query)\n",
    "cursor.fetchone()"
   ]
  },
  {
   "cell_type": "code",
   "execution_count": 39,
   "metadata": {
    "metadata": {}
   },
   "outputs": [
    {
     "data": {
      "text/plain": [
       "(2018, 2022)"
      ]
     },
     "execution_count": 39,
     "metadata": {},
     "output_type": "execute_result"
    }
   ],
   "source": [
    "# Period for fact_manufacturing_cost data\n",
    "query = \"\"\"\n",
    "SELECT MIN(cost_year), MAX(cost_year)\n",
    "FROM fact_manufacturing_cost\n",
    "\"\"\"\n",
    "\n",
    "cursor.execute(query)\n",
    "cursor.fetchone()"
   ]
  },
  {
   "cell_type": "code",
   "execution_count": 40,
   "metadata": {
    "metadata": {}
   },
   "outputs": [
    {
     "data": {
      "text/plain": [
       "(2018, 2022)"
      ]
     },
     "execution_count": 40,
     "metadata": {},
     "output_type": "execute_result"
    }
   ],
   "source": [
    "# Period for fact_gross_price data\n",
    "query = \"\"\"\n",
    "SELECT MIN(fiscal_year), MAX(fiscal_year)\n",
    "FROM fact_gross_price\n",
    "\"\"\"\n",
    "\n",
    "cursor.execute(query)\n",
    "cursor.fetchone()"
   ]
  },
  {
   "cell_type": "code",
   "execution_count": 41,
   "metadata": {
    "metadata": {}
   },
   "outputs": [
    {
     "data": {
      "text/plain": [
       "(2018, 2022)"
      ]
     },
     "execution_count": 41,
     "metadata": {},
     "output_type": "execute_result"
    }
   ],
   "source": [
    "# Period for fact_sales_monthly data\n",
    "query = \"\"\"\n",
    "SELECT MIN(fiscal_year), MAX(fiscal_year)\n",
    "FROM fact_sales_monthly\n",
    "\"\"\"\n",
    "\n",
    "cursor.execute(query)\n",
    "cursor.fetchone()"
   ]
  },
  {
   "cell_type": "markdown",
   "metadata": {},
   "source": [
    "All data is from fiscal years `2018` to `2022`"
   ]
  },
  {
   "cell_type": "markdown",
   "metadata": {},
   "source": [
    "---"
   ]
  },
  {
   "cell_type": "markdown",
   "metadata": {},
   "source": [
    "Some columns are supposed to have only certain values. Let's make sure that's the case, and there are no errors or typos."
   ]
  },
  {
   "cell_type": "code",
   "execution_count": 42,
   "metadata": {},
   "outputs": [
    {
     "name": "stdout",
     "output_type": "stream",
     "text": [
      "('Brick & Mortar',)\n",
      "('E-Commerce',)\n"
     ]
    }
   ],
   "source": [
    "# dim_customer.platform should have 2 values\n",
    "query = \"\"\"\n",
    "SELECT DISTINCT platform\n",
    "FROM dim_customer\n",
    "\"\"\"\n",
    "cursor.execute(query)\n",
    "print(*cursor.fetchall(), sep=\"\\n\")"
   ]
  },
  {
   "cell_type": "code",
   "execution_count": 43,
   "metadata": {},
   "outputs": [
    {
     "name": "stdout",
     "output_type": "stream",
     "text": [
      "('Direct',)\n",
      "('Distributor',)\n",
      "('Retailer',)\n"
     ]
    }
   ],
   "source": [
    "# dim_customer.channel should have 3 values\n",
    "query = \"\"\"\n",
    "SELECT DISTINCT channel\n",
    "FROM dim_customer\n",
    "\"\"\"\n",
    "cursor.execute(query)\n",
    "print(*cursor.fetchall(), sep=\"\\n\")"
   ]
  },
  {
   "cell_type": "code",
   "execution_count": 44,
   "metadata": {
    "metadata": {}
   },
   "outputs": [
    {
     "name": "stdout",
     "output_type": "stream",
     "text": [
      "('P & A',)\n",
      "('PC',)\n",
      "('N & S',)\n"
     ]
    }
   ],
   "source": [
    "# dim_product.division should have 3 values\n",
    "query = \"\"\"\n",
    "SELECT DISTINCT division\n",
    "FROM dim_product\n",
    "\"\"\"\n",
    "cursor.execute(query)\n",
    "print(*cursor.fetchall(), sep=\"\\n\")"
   ]
  },
  {
   "cell_type": "code",
   "execution_count": 45,
   "metadata": {
    "metadata": {}
   },
   "outputs": [
    {
     "name": "stdout",
     "output_type": "stream",
     "text": [
      "('Peripherals',)\n",
      "('Accessories',)\n",
      "('Notebook',)\n",
      "('Desktop',)\n",
      "('Storage',)\n",
      "('Networking',)\n"
     ]
    }
   ],
   "source": [
    "# dim_product.segment should have 6 values\n",
    "query = \"\"\"\n",
    "SELECT DISTINCT segment\n",
    "FROM dim_product\n",
    "\"\"\"\n",
    "cursor.execute(query)\n",
    "print(*cursor.fetchall(), sep=\"\\n\")"
   ]
  },
  {
   "cell_type": "markdown",
   "metadata": {},
   "source": [
    "---"
   ]
  },
  {
   "cell_type": "markdown",
   "metadata": {},
   "source": [
    "There are some relationships that should be constant. For example, each market belongs to exactly one sub_zone. Let's check those relationships next.\n",
    "\n",
    "The following cells should output `1` if there is no errors."
   ]
  },
  {
   "cell_type": "code",
   "execution_count": 46,
   "metadata": {
    "metadata": {}
   },
   "outputs": [
    {
     "name": "stdout",
     "output_type": "stream",
     "text": [
      "Max platform count: 1\n"
     ]
    }
   ],
   "source": [
    "# Each dim_customer.customer_code should have 1 platform\n",
    "query = \"\"\"\n",
    "SELECT customer_code, count(platform) as platform_count\n",
    "FROM dim_customer\n",
    "GROUP BY customer_code\n",
    "ORDER BY platform_count DESC\n",
    "\"\"\"\n",
    "cursor.execute(query)\n",
    "print (f'Max platform count: {cursor.fetchone()[1]}')"
   ]
  },
  {
   "cell_type": "code",
   "execution_count": 47,
   "metadata": {
    "metadata": {}
   },
   "outputs": [
    {
     "name": "stdout",
     "output_type": "stream",
     "text": [
      "Max sub zone count: 1\n"
     ]
    }
   ],
   "source": [
    "# Each dim_customer.market should have 1 sub-zone\n",
    "query = \"\"\"\n",
    "SELECT market, count(sub_zone) as sub_zone_count\n",
    "FROM (\n",
    "    SELECT DISTINCT market, sub_zone\n",
    "    FROM dim_customer\n",
    ")\n",
    "GROUP BY market\n",
    "ORDER BY sub_zone_count DESC\n",
    "\"\"\"\n",
    "cursor.execute(query)\n",
    "print (f'Max sub zone count: {cursor.fetchone()[1]}')"
   ]
  },
  {
   "cell_type": "code",
   "execution_count": 48,
   "metadata": {
    "metadata": {}
   },
   "outputs": [
    {
     "name": "stdout",
     "output_type": "stream",
     "text": [
      "Max region count: 1\n"
     ]
    }
   ],
   "source": [
    "# Each dim_customer.market should have 1 region\n",
    "query = \"\"\"\n",
    "SELECT market, count(region) as region_count\n",
    "FROM (\n",
    "    SELECT DISTINCT market, region\n",
    "    FROM dim_customer\n",
    ")\n",
    "GROUP BY market\n",
    "ORDER BY region_count DESC\n",
    "\"\"\"\n",
    "cursor.execute(query)\n",
    "print (f'Max region count: {cursor.fetchone()[1]}')"
   ]
  },
  {
   "cell_type": "markdown",
   "metadata": {},
   "source": [
    "---"
   ]
  },
  {
   "cell_type": "markdown",
   "metadata": {},
   "source": [
    "Some columns should stay within reasonable values. Let's check that next."
   ]
  },
  {
   "cell_type": "code",
   "execution_count": 49,
   "metadata": {
    "metadata": {}
   },
   "outputs": [
    {
     "name": "stdout",
     "output_type": "stream",
     "text": [
      "(0.3099,)\n"
     ]
    }
   ],
   "source": [
    "# fact_pre_discount.pre_invoice_discount_pct should always be less than 1\n",
    "query = \"\"\"\n",
    "SELECT max(pre_invoice_discount_pct)\n",
    "FROM fact_pre_discount\n",
    "\"\"\"\n",
    "cursor.execute(query)\n",
    "print(*cursor.fetchall(), sep=\"\\n\")"
   ]
  },
  {
   "cell_type": "code",
   "execution_count": 50,
   "metadata": {
    "metadata": {}
   },
   "outputs": [
    {
     "name": "stdout",
     "output_type": "stream",
     "text": [
      "(2018, '2017-09-01', '2018-08-01')\n",
      "(2019, '2018-09-01', '2019-08-01')\n",
      "(2020, '2019-09-01', '2020-08-01')\n",
      "(2021, '2020-09-01', '2021-08-01')\n",
      "(2022, '2021-09-01', '2021-12-01')\n"
     ]
    }
   ],
   "source": [
    "# fact_sales_monthly.date consistently assigns the same months to the right fiscal_year\n",
    "query= \"\"\"\n",
    "SELECT fiscal_year, MIN(date), MAX(date)\n",
    "FROM fact_sales_monthly\n",
    "GROUP BY fiscal_year\n",
    "\"\"\"\n",
    "cursor.execute(query)\n",
    "print(*cursor.fetchall(), sep=\"\\n\")"
   ]
  },
  {
   "cell_type": "markdown",
   "metadata": {},
   "source": [
    "There is only 3 months worth of data for fiscal year 2022, as opposed to the full 12 months for the rest of the fiscal years."
   ]
  },
  {
   "cell_type": "code",
   "execution_count": 51,
   "metadata": {
    "metadata": {}
   },
   "outputs": [
    {
     "name": "stdout",
     "output_type": "stream",
     "text": [
      "(0,)\n"
     ]
    }
   ],
   "source": [
    "# fact_sales_monthly.sold_quantity should always be positive\n",
    "query= \"\"\"\n",
    "SELECT MIN(sold_quantity)\n",
    "FROM fact_sales_monthly\n",
    "\"\"\"\n",
    "cursor.execute(query)\n",
    "print(*cursor.fetchall(), sep=\"\\n\")"
   ]
  },
  {
   "cell_type": "markdown",
   "metadata": {},
   "source": [
    "There are some items with `sold_quantity` of `0`. It's possible that means that the item didn't get any sales that month, but unlikely. \n",
    "\n",
    "Let's see those sales."
   ]
  },
  {
   "cell_type": "code",
   "execution_count": 52,
   "metadata": {
    "metadata": {}
   },
   "outputs": [
    {
     "name": "stdout",
     "output_type": "stream",
     "text": [
      "('2017-09-01', 'A0118150101', 70012042, 0, 2018)\n",
      "('2017-09-01', 'A0118150101', 70012043, 0, 2018)\n",
      "('2017-09-01', 'A0118150101', 90012033, 0, 2018)\n",
      "('2017-09-01', 'A0118150101', 90012034, 0, 2018)\n",
      "('2017-09-01', 'A0118150101', 90012035, 0, 2018)\n",
      "('2017-09-01', 'A0118150101', 90012037, 0, 2018)\n",
      "('2017-09-01', 'A0118150101', 90012038, 0, 2018)\n",
      "('2017-09-01', 'A0118150101', 90012039, 0, 2018)\n",
      "('2017-09-01', 'A0118150101', 90012041, 0, 2018)\n",
      "('2017-09-01', 'A0118150102', 70012042, 0, 2018)\n",
      "('2017-09-01', 'A0118150102', 70012043, 0, 2018)\n",
      "('2017-09-01', 'A0118150102', 90012033, 0, 2018)\n",
      "('2017-09-01', 'A0118150102', 90012034, 0, 2018)\n",
      "('2017-09-01', 'A0118150102', 90012035, 0, 2018)\n",
      "('2017-09-01', 'A0118150102', 90012037, 0, 2018)\n",
      "('2017-09-01', 'A0118150102', 90012038, 0, 2018)\n",
      "('2017-09-01', 'A0118150102', 90012039, 0, 2018)\n",
      "('2017-09-01', 'A0118150102', 90012041, 0, 2018)\n",
      "('2017-09-01', 'A0118150103', 70012042, 0, 2018)\n",
      "('2017-09-01', 'A0118150103', 70012043, 0, 2018)\n",
      "('2017-09-01', 'A0118150103', 90012033, 0, 2018)\n",
      "('2017-09-01', 'A0118150103', 90012034, 0, 2018)\n",
      "('2017-09-01', 'A0118150103', 90012035, 0, 2018)\n",
      "('2017-09-01', 'A0118150103', 90012037, 0, 2018)\n",
      "('2017-09-01', 'A0118150103', 90012038, 0, 2018)\n",
      "('2017-09-01', 'A0118150103', 90012039, 0, 2018)\n",
      "('2017-09-01', 'A0118150103', 90012041, 0, 2018)\n",
      "('2017-09-01', 'A0118150104', 70012042, 0, 2018)\n",
      "('2017-09-01', 'A0118150104', 70012043, 0, 2018)\n",
      "('2017-09-01', 'A0118150104', 90012033, 0, 2018)\n",
      "('2017-09-01', 'A0118150104', 90012034, 0, 2018)\n",
      "('2017-09-01', 'A0118150104', 90012035, 0, 2018)\n",
      "('2017-09-01', 'A0118150104', 90012037, 0, 2018)\n",
      "('2017-09-01', 'A0118150104', 90012038, 0, 2018)\n",
      "('2017-09-01', 'A0118150104', 90012039, 0, 2018)\n",
      "('2017-09-01', 'A0118150104', 90012041, 0, 2018)\n",
      "('2017-09-01', 'A0418150101', 70012042, 0, 2018)\n",
      "('2017-09-01', 'A0418150101', 70012043, 0, 2018)\n",
      "('2017-09-01', 'A0418150101', 90012033, 0, 2018)\n",
      "('2017-09-01', 'A0418150101', 90012034, 0, 2018)\n",
      "('2017-09-01', 'A0418150101', 90012035, 0, 2018)\n",
      "('2017-09-01', 'A0418150101', 90012037, 0, 2018)\n",
      "('2017-09-01', 'A0418150101', 90012038, 0, 2018)\n",
      "('2017-09-01', 'A0418150101', 90012039, 0, 2018)\n",
      "('2017-09-01', 'A0418150101', 90012041, 0, 2018)\n",
      "('2017-09-01', 'A0418150102', 70012042, 0, 2018)\n",
      "('2017-09-01', 'A0418150102', 70012043, 0, 2018)\n",
      "('2017-09-01', 'A0418150102', 90012033, 0, 2018)\n",
      "('2017-09-01', 'A0418150102', 90012034, 0, 2018)\n",
      "('2017-09-01', 'A0418150102', 90012035, 0, 2018)\n",
      "('2017-09-01', 'A0418150102', 90012037, 0, 2018)\n",
      "('2017-09-01', 'A0418150102', 90012038, 0, 2018)\n",
      "('2017-09-01', 'A0418150102', 90012039, 0, 2018)\n",
      "('2017-09-01', 'A0418150102', 90012041, 0, 2018)\n",
      "('2017-09-01', 'A0418150103', 70012042, 0, 2018)\n",
      "('2017-09-01', 'A0418150103', 70012043, 0, 2018)\n",
      "('2017-09-01', 'A0418150103', 90012033, 0, 2018)\n",
      "('2017-09-01', 'A0418150103', 90012034, 0, 2018)\n",
      "('2017-09-01', 'A0418150103', 90012035, 0, 2018)\n",
      "('2017-09-01', 'A0418150103', 90012037, 0, 2018)\n",
      "('2017-09-01', 'A0418150103', 90012038, 0, 2018)\n",
      "('2017-09-01', 'A0418150103', 90012039, 0, 2018)\n",
      "('2017-09-01', 'A0418150103', 90012041, 0, 2018)\n",
      "('2017-09-01', 'A0418150104', 70012042, 0, 2018)\n",
      "('2017-09-01', 'A0418150104', 70012043, 0, 2018)\n",
      "('2017-09-01', 'A0418150104', 90012033, 0, 2018)\n",
      "('2017-09-01', 'A0418150104', 90012034, 0, 2018)\n",
      "('2017-09-01', 'A0418150104', 90012035, 0, 2018)\n",
      "('2017-09-01', 'A0418150104', 90012037, 0, 2018)\n",
      "('2017-09-01', 'A0418150104', 90012038, 0, 2018)\n",
      "('2017-09-01', 'A0418150104', 90012039, 0, 2018)\n",
      "('2017-09-01', 'A0418150104', 90012041, 0, 2018)\n"
     ]
    }
   ],
   "source": [
    "query= \"\"\"\n",
    "SELECT *\n",
    "FROM fact_sales_monthly\n",
    "WHERE sold_quantity = 0\n",
    "\"\"\"\n",
    "cursor.execute(query)\n",
    "print(*cursor.fetchall(), sep=\"\\n\")"
   ]
  },
  {
   "cell_type": "markdown",
   "metadata": {},
   "source": [
    "All the sales with 0 quantity are from Sept 2017."
   ]
  },
  {
   "cell_type": "code",
   "execution_count": 53,
   "metadata": {
    "metadata": {}
   },
   "outputs": [
    {
     "name": "stdout",
     "output_type": "stream",
     "text": [
      "('AQ Dracula HDD – 3.5 Inch SATA 6 Gb/s 5400 RPM 256 MB Cache',)\n",
      "('AQ Mforce Gen X',)\n"
     ]
    }
   ],
   "source": [
    "query = \"\"\"\n",
    "SELECT DISTINCT product\n",
    "FROM (\n",
    "    SELECT *\n",
    "    FROM fact_sales_monthly\n",
    "    WHERE sold_quantity = 0\n",
    ") AS zero_sales \n",
    "INNER JOIN dim_product \n",
    "ON zero_sales.product_code = dim_product.product_code\n",
    "\"\"\"\n",
    "cursor.execute(query)\n",
    "print(*cursor.fetchall(), sep='\\n')"
   ]
  },
  {
   "cell_type": "markdown",
   "metadata": {},
   "source": [
    "Only two products have this issue. We can delete these rows."
   ]
  },
  {
   "cell_type": "code",
   "execution_count": 54,
   "metadata": {},
   "outputs": [],
   "source": [
    "query = \"\"\"\n",
    "DELETE\n",
    "FROM fact_sales_monthly\n",
    "WHERE sold_quantity = 0\n",
    "\"\"\"\n",
    "cursor.execute(query);"
   ]
  },
  {
   "cell_type": "markdown",
   "metadata": {},
   "source": [
    "The data is ready for analysis."
   ]
  },
  {
   "cell_type": "markdown",
   "metadata": {},
   "source": [
    "[Back to contents](#contents)\n",
    "\n",
    "---"
   ]
  },
  {
   "cell_type": "markdown",
   "metadata": {},
   "source": [
    "## Analysis"
   ]
  },
  {
   "cell_type": "markdown",
   "metadata": {},
   "source": [
    "### Finding the bestsellers"
   ]
  },
  {
   "cell_type": "markdown",
   "metadata": {},
   "source": [
    "There are different approaches that we can take here. We can find bestsellers by month to look for seasonality, by year to look at trend, or historical to see products that perform strongly year after year.\n",
    "\n",
    "We can look at units sold, revenue, or profit. There's also the option of ranking by total values, or by their contribution (ratio) towards the grand total.\n",
    "\n",
    "Right now we will only look at two of them, and leave the rest for the Dashboard.\n",
    "\n",
    "The ones that we'll analyze here are:\n",
    "- Most units sold in the last full year (2021)\n",
    "- Most profit generated per year\n",
    "\n",
    "We'll begin by finding the most units sold."
   ]
  },
  {
   "cell_type": "code",
   "execution_count": 55,
   "metadata": {
    "metadata": {}
   },
   "outputs": [
    {
     "data": {
      "text/html": [
       "<div>\n",
       "<style scoped>\n",
       "    .dataframe tbody tr th:only-of-type {\n",
       "        vertical-align: middle;\n",
       "    }\n",
       "\n",
       "    .dataframe tbody tr th {\n",
       "        vertical-align: top;\n",
       "    }\n",
       "\n",
       "    .dataframe thead th {\n",
       "        text-align: right;\n",
       "    }\n",
       "</style>\n",
       "<table border=\"1\" class=\"dataframe\">\n",
       "  <thead>\n",
       "    <tr style=\"text-align: right;\">\n",
       "      <th></th>\n",
       "      <th>fiscal_year</th>\n",
       "      <th>product_code</th>\n",
       "      <th>product</th>\n",
       "      <th>variant</th>\n",
       "      <th>units_sold</th>\n",
       "    </tr>\n",
       "  </thead>\n",
       "  <tbody>\n",
       "    <tr>\n",
       "      <th>0</th>\n",
       "      <td>2021</td>\n",
       "      <td>A0219150201</td>\n",
       "      <td>AQ WereWolf NAS Internal</td>\n",
       "      <td>Standard</td>\n",
       "      <td>100799</td>\n",
       "    </tr>\n",
       "    <tr>\n",
       "      <th>1</th>\n",
       "      <td>2021</td>\n",
       "      <td>A0118150101</td>\n",
       "      <td>AQ Dracula HDD – 3.5 Inch</td>\n",
       "      <td>Standard</td>\n",
       "      <td>100039</td>\n",
       "    </tr>\n",
       "    <tr>\n",
       "      <th>2</th>\n",
       "      <td>2021</td>\n",
       "      <td>A0321150302</td>\n",
       "      <td>AQ Zion Saga</td>\n",
       "      <td>Plus</td>\n",
       "      <td>99955</td>\n",
       "    </tr>\n",
       "    <tr>\n",
       "      <th>3</th>\n",
       "      <td>2021</td>\n",
       "      <td>A0118150102</td>\n",
       "      <td>AQ Dracula HDD – 3.5 Inch</td>\n",
       "      <td>Plus</td>\n",
       "      <td>98124</td>\n",
       "    </tr>\n",
       "    <tr>\n",
       "      <th>4</th>\n",
       "      <td>2021</td>\n",
       "      <td>A0118150104</td>\n",
       "      <td>AQ Dracula HDD – 3.5 Inch</td>\n",
       "      <td>Premium Plus</td>\n",
       "      <td>97931</td>\n",
       "    </tr>\n",
       "  </tbody>\n",
       "</table>\n",
       "</div>"
      ],
      "text/plain": [
       "   fiscal_year product_code                    product       variant  \\\n",
       "0         2021  A0219150201  AQ WereWolf NAS Internal       Standard   \n",
       "1         2021  A0118150101  AQ Dracula HDD – 3.5 Inch      Standard   \n",
       "2         2021  A0321150302               AQ Zion Saga          Plus   \n",
       "3         2021  A0118150102  AQ Dracula HDD – 3.5 Inch          Plus   \n",
       "4         2021  A0118150104  AQ Dracula HDD – 3.5 Inch  Premium Plus   \n",
       "\n",
       "   units_sold  \n",
       "0      100799  \n",
       "1      100039  \n",
       "2       99955  \n",
       "3       98124  \n",
       "4       97931  "
      ]
     },
     "execution_count": 55,
     "metadata": {},
     "output_type": "execute_result"
    }
   ],
   "source": [
    "query = \"\"\"\n",
    "SELECT fiscal_year, dim_product.product_code, SUBSTR(product, 1, 25) as product, variant, SUM(sold_quantity) AS units_sold\n",
    "FROM fact_sales_monthly \n",
    "    JOIN dim_product \n",
    "    ON fact_sales_monthly.product_code = dim_product.product_code\n",
    "WHERE fiscal_year = 2021\n",
    "GROUP BY fiscal_year, dim_product.product_code\n",
    "ORDER BY units_sold DESC\n",
    "\"\"\"\n",
    "\n",
    "best_sell_df = pd.read_sql_query(query, con)\n",
    "best_sell_df.head(5)\n"
   ]
  },
  {
   "cell_type": "code",
   "execution_count": 56,
   "metadata": {
    "metadata": {}
   },
   "outputs": [
    {
     "data": {
      "application/vnd.plotly.v1+json": {
       "config": {
        "plotlyServerURL": "https://plot.ly"
       },
       "data": [
        {
         "alignmentgroup": "True",
         "hovertemplate": "product=AQ WereWolf NAS Internal <br>Product variants=%{x}<br>Units sold=%{y}<extra></extra>",
         "legendgroup": "AQ WereWolf NAS Internal ",
         "marker": {
          "color": "#636efa",
          "pattern": {
           "shape": ""
          }
         },
         "name": "AQ WereWolf NAS Internal ",
         "offsetgroup": "AQ WereWolf NAS Internal ",
         "orientation": "v",
         "showlegend": true,
         "textposition": "auto",
         "type": "bar",
         "x": [
          "A0219150201",
          "A0220150203",
          "A0219150202"
         ],
         "xaxis": "x",
         "y": [
          100799,
          97815,
          97091
         ],
         "yaxis": "y"
        },
        {
         "alignmentgroup": "True",
         "hovertemplate": "product=AQ Dracula HDD – 3.5 Inch<br>Product variants=%{x}<br>Units sold=%{y}<extra></extra>",
         "legendgroup": "AQ Dracula HDD – 3.5 Inch",
         "marker": {
          "color": "#EF553B",
          "pattern": {
           "shape": ""
          }
         },
         "name": "AQ Dracula HDD – 3.5 Inch",
         "offsetgroup": "AQ Dracula HDD – 3.5 Inch",
         "orientation": "v",
         "showlegend": true,
         "textposition": "auto",
         "type": "bar",
         "x": [
          "A0118150101",
          "A0118150102",
          "A0118150104",
          "A0118150103"
         ],
         "xaxis": "x",
         "y": [
          100039,
          98124,
          97931,
          94481
         ],
         "yaxis": "y"
        },
        {
         "alignmentgroup": "True",
         "hovertemplate": "product=AQ Zion Saga<br>Product variants=%{x}<br>Units sold=%{y}<extra></extra>",
         "legendgroup": "AQ Zion Saga",
         "marker": {
          "color": "#00cc96",
          "pattern": {
           "shape": ""
          }
         },
         "name": "AQ Zion Saga",
         "offsetgroup": "AQ Zion Saga",
         "orientation": "v",
         "showlegend": true,
         "textposition": "auto",
         "type": "bar",
         "x": [
          "A0321150302",
          "A0320150301",
          "A0321150303"
         ],
         "xaxis": "x",
         "y": [
          99955,
          97160,
          96691
         ],
         "yaxis": "y"
        },
        {
         "alignmentgroup": "True",
         "hovertemplate": "product=AQ Mforce Gen X<br>Product variants=%{x}<br>Units sold=%{y}<extra></extra>",
         "legendgroup": "AQ Mforce Gen X",
         "marker": {
          "color": "#ab63fa",
          "pattern": {
           "shape": ""
          }
         },
         "name": "AQ Mforce Gen X",
         "offsetgroup": "AQ Mforce Gen X",
         "orientation": "v",
         "showlegend": true,
         "textposition": "auto",
         "type": "bar",
         "x": [
          "A0418150103"
         ],
         "xaxis": "x",
         "y": [
          77857
         ],
         "yaxis": "y"
        }
       ],
       "layout": {
        "barmode": "relative",
        "legend": {
         "title": {
          "text": "product"
         },
         "tracegroupgap": 0
        },
        "template": {
         "data": {
          "bar": [
           {
            "error_x": {
             "color": "#2a3f5f"
            },
            "error_y": {
             "color": "#2a3f5f"
            },
            "marker": {
             "line": {
              "color": "#E5ECF6",
              "width": 0.5
             },
             "pattern": {
              "fillmode": "overlay",
              "size": 10,
              "solidity": 0.2
             }
            },
            "type": "bar"
           }
          ],
          "barpolar": [
           {
            "marker": {
             "line": {
              "color": "#E5ECF6",
              "width": 0.5
             },
             "pattern": {
              "fillmode": "overlay",
              "size": 10,
              "solidity": 0.2
             }
            },
            "type": "barpolar"
           }
          ],
          "carpet": [
           {
            "aaxis": {
             "endlinecolor": "#2a3f5f",
             "gridcolor": "white",
             "linecolor": "white",
             "minorgridcolor": "white",
             "startlinecolor": "#2a3f5f"
            },
            "baxis": {
             "endlinecolor": "#2a3f5f",
             "gridcolor": "white",
             "linecolor": "white",
             "minorgridcolor": "white",
             "startlinecolor": "#2a3f5f"
            },
            "type": "carpet"
           }
          ],
          "choropleth": [
           {
            "colorbar": {
             "outlinewidth": 0,
             "ticks": ""
            },
            "type": "choropleth"
           }
          ],
          "contour": [
           {
            "colorbar": {
             "outlinewidth": 0,
             "ticks": ""
            },
            "colorscale": [
             [
              0,
              "#0d0887"
             ],
             [
              0.1111111111111111,
              "#46039f"
             ],
             [
              0.2222222222222222,
              "#7201a8"
             ],
             [
              0.3333333333333333,
              "#9c179e"
             ],
             [
              0.4444444444444444,
              "#bd3786"
             ],
             [
              0.5555555555555556,
              "#d8576b"
             ],
             [
              0.6666666666666666,
              "#ed7953"
             ],
             [
              0.7777777777777778,
              "#fb9f3a"
             ],
             [
              0.8888888888888888,
              "#fdca26"
             ],
             [
              1,
              "#f0f921"
             ]
            ],
            "type": "contour"
           }
          ],
          "contourcarpet": [
           {
            "colorbar": {
             "outlinewidth": 0,
             "ticks": ""
            },
            "type": "contourcarpet"
           }
          ],
          "heatmap": [
           {
            "colorbar": {
             "outlinewidth": 0,
             "ticks": ""
            },
            "colorscale": [
             [
              0,
              "#0d0887"
             ],
             [
              0.1111111111111111,
              "#46039f"
             ],
             [
              0.2222222222222222,
              "#7201a8"
             ],
             [
              0.3333333333333333,
              "#9c179e"
             ],
             [
              0.4444444444444444,
              "#bd3786"
             ],
             [
              0.5555555555555556,
              "#d8576b"
             ],
             [
              0.6666666666666666,
              "#ed7953"
             ],
             [
              0.7777777777777778,
              "#fb9f3a"
             ],
             [
              0.8888888888888888,
              "#fdca26"
             ],
             [
              1,
              "#f0f921"
             ]
            ],
            "type": "heatmap"
           }
          ],
          "heatmapgl": [
           {
            "colorbar": {
             "outlinewidth": 0,
             "ticks": ""
            },
            "colorscale": [
             [
              0,
              "#0d0887"
             ],
             [
              0.1111111111111111,
              "#46039f"
             ],
             [
              0.2222222222222222,
              "#7201a8"
             ],
             [
              0.3333333333333333,
              "#9c179e"
             ],
             [
              0.4444444444444444,
              "#bd3786"
             ],
             [
              0.5555555555555556,
              "#d8576b"
             ],
             [
              0.6666666666666666,
              "#ed7953"
             ],
             [
              0.7777777777777778,
              "#fb9f3a"
             ],
             [
              0.8888888888888888,
              "#fdca26"
             ],
             [
              1,
              "#f0f921"
             ]
            ],
            "type": "heatmapgl"
           }
          ],
          "histogram": [
           {
            "marker": {
             "pattern": {
              "fillmode": "overlay",
              "size": 10,
              "solidity": 0.2
             }
            },
            "type": "histogram"
           }
          ],
          "histogram2d": [
           {
            "colorbar": {
             "outlinewidth": 0,
             "ticks": ""
            },
            "colorscale": [
             [
              0,
              "#0d0887"
             ],
             [
              0.1111111111111111,
              "#46039f"
             ],
             [
              0.2222222222222222,
              "#7201a8"
             ],
             [
              0.3333333333333333,
              "#9c179e"
             ],
             [
              0.4444444444444444,
              "#bd3786"
             ],
             [
              0.5555555555555556,
              "#d8576b"
             ],
             [
              0.6666666666666666,
              "#ed7953"
             ],
             [
              0.7777777777777778,
              "#fb9f3a"
             ],
             [
              0.8888888888888888,
              "#fdca26"
             ],
             [
              1,
              "#f0f921"
             ]
            ],
            "type": "histogram2d"
           }
          ],
          "histogram2dcontour": [
           {
            "colorbar": {
             "outlinewidth": 0,
             "ticks": ""
            },
            "colorscale": [
             [
              0,
              "#0d0887"
             ],
             [
              0.1111111111111111,
              "#46039f"
             ],
             [
              0.2222222222222222,
              "#7201a8"
             ],
             [
              0.3333333333333333,
              "#9c179e"
             ],
             [
              0.4444444444444444,
              "#bd3786"
             ],
             [
              0.5555555555555556,
              "#d8576b"
             ],
             [
              0.6666666666666666,
              "#ed7953"
             ],
             [
              0.7777777777777778,
              "#fb9f3a"
             ],
             [
              0.8888888888888888,
              "#fdca26"
             ],
             [
              1,
              "#f0f921"
             ]
            ],
            "type": "histogram2dcontour"
           }
          ],
          "mesh3d": [
           {
            "colorbar": {
             "outlinewidth": 0,
             "ticks": ""
            },
            "type": "mesh3d"
           }
          ],
          "parcoords": [
           {
            "line": {
             "colorbar": {
              "outlinewidth": 0,
              "ticks": ""
             }
            },
            "type": "parcoords"
           }
          ],
          "pie": [
           {
            "automargin": true,
            "type": "pie"
           }
          ],
          "scatter": [
           {
            "fillpattern": {
             "fillmode": "overlay",
             "size": 10,
             "solidity": 0.2
            },
            "type": "scatter"
           }
          ],
          "scatter3d": [
           {
            "line": {
             "colorbar": {
              "outlinewidth": 0,
              "ticks": ""
             }
            },
            "marker": {
             "colorbar": {
              "outlinewidth": 0,
              "ticks": ""
             }
            },
            "type": "scatter3d"
           }
          ],
          "scattercarpet": [
           {
            "marker": {
             "colorbar": {
              "outlinewidth": 0,
              "ticks": ""
             }
            },
            "type": "scattercarpet"
           }
          ],
          "scattergeo": [
           {
            "marker": {
             "colorbar": {
              "outlinewidth": 0,
              "ticks": ""
             }
            },
            "type": "scattergeo"
           }
          ],
          "scattergl": [
           {
            "marker": {
             "colorbar": {
              "outlinewidth": 0,
              "ticks": ""
             }
            },
            "type": "scattergl"
           }
          ],
          "scattermapbox": [
           {
            "marker": {
             "colorbar": {
              "outlinewidth": 0,
              "ticks": ""
             }
            },
            "type": "scattermapbox"
           }
          ],
          "scatterpolar": [
           {
            "marker": {
             "colorbar": {
              "outlinewidth": 0,
              "ticks": ""
             }
            },
            "type": "scatterpolar"
           }
          ],
          "scatterpolargl": [
           {
            "marker": {
             "colorbar": {
              "outlinewidth": 0,
              "ticks": ""
             }
            },
            "type": "scatterpolargl"
           }
          ],
          "scatterternary": [
           {
            "marker": {
             "colorbar": {
              "outlinewidth": 0,
              "ticks": ""
             }
            },
            "type": "scatterternary"
           }
          ],
          "surface": [
           {
            "colorbar": {
             "outlinewidth": 0,
             "ticks": ""
            },
            "colorscale": [
             [
              0,
              "#0d0887"
             ],
             [
              0.1111111111111111,
              "#46039f"
             ],
             [
              0.2222222222222222,
              "#7201a8"
             ],
             [
              0.3333333333333333,
              "#9c179e"
             ],
             [
              0.4444444444444444,
              "#bd3786"
             ],
             [
              0.5555555555555556,
              "#d8576b"
             ],
             [
              0.6666666666666666,
              "#ed7953"
             ],
             [
              0.7777777777777778,
              "#fb9f3a"
             ],
             [
              0.8888888888888888,
              "#fdca26"
             ],
             [
              1,
              "#f0f921"
             ]
            ],
            "type": "surface"
           }
          ],
          "table": [
           {
            "cells": {
             "fill": {
              "color": "#EBF0F8"
             },
             "line": {
              "color": "white"
             }
            },
            "header": {
             "fill": {
              "color": "#C8D4E3"
             },
             "line": {
              "color": "white"
             }
            },
            "type": "table"
           }
          ]
         },
         "layout": {
          "annotationdefaults": {
           "arrowcolor": "#2a3f5f",
           "arrowhead": 0,
           "arrowwidth": 1
          },
          "autotypenumbers": "strict",
          "coloraxis": {
           "colorbar": {
            "outlinewidth": 0,
            "ticks": ""
           }
          },
          "colorscale": {
           "diverging": [
            [
             0,
             "#8e0152"
            ],
            [
             0.1,
             "#c51b7d"
            ],
            [
             0.2,
             "#de77ae"
            ],
            [
             0.3,
             "#f1b6da"
            ],
            [
             0.4,
             "#fde0ef"
            ],
            [
             0.5,
             "#f7f7f7"
            ],
            [
             0.6,
             "#e6f5d0"
            ],
            [
             0.7,
             "#b8e186"
            ],
            [
             0.8,
             "#7fbc41"
            ],
            [
             0.9,
             "#4d9221"
            ],
            [
             1,
             "#276419"
            ]
           ],
           "sequential": [
            [
             0,
             "#0d0887"
            ],
            [
             0.1111111111111111,
             "#46039f"
            ],
            [
             0.2222222222222222,
             "#7201a8"
            ],
            [
             0.3333333333333333,
             "#9c179e"
            ],
            [
             0.4444444444444444,
             "#bd3786"
            ],
            [
             0.5555555555555556,
             "#d8576b"
            ],
            [
             0.6666666666666666,
             "#ed7953"
            ],
            [
             0.7777777777777778,
             "#fb9f3a"
            ],
            [
             0.8888888888888888,
             "#fdca26"
            ],
            [
             1,
             "#f0f921"
            ]
           ],
           "sequentialminus": [
            [
             0,
             "#0d0887"
            ],
            [
             0.1111111111111111,
             "#46039f"
            ],
            [
             0.2222222222222222,
             "#7201a8"
            ],
            [
             0.3333333333333333,
             "#9c179e"
            ],
            [
             0.4444444444444444,
             "#bd3786"
            ],
            [
             0.5555555555555556,
             "#d8576b"
            ],
            [
             0.6666666666666666,
             "#ed7953"
            ],
            [
             0.7777777777777778,
             "#fb9f3a"
            ],
            [
             0.8888888888888888,
             "#fdca26"
            ],
            [
             1,
             "#f0f921"
            ]
           ]
          },
          "colorway": [
           "#636efa",
           "#EF553B",
           "#00cc96",
           "#ab63fa",
           "#FFA15A",
           "#19d3f3",
           "#FF6692",
           "#B6E880",
           "#FF97FF",
           "#FECB52"
          ],
          "font": {
           "color": "#2a3f5f"
          },
          "geo": {
           "bgcolor": "white",
           "lakecolor": "white",
           "landcolor": "#E5ECF6",
           "showlakes": true,
           "showland": true,
           "subunitcolor": "white"
          },
          "hoverlabel": {
           "align": "left"
          },
          "hovermode": "closest",
          "mapbox": {
           "style": "light"
          },
          "paper_bgcolor": "white",
          "plot_bgcolor": "#E5ECF6",
          "polar": {
           "angularaxis": {
            "gridcolor": "white",
            "linecolor": "white",
            "ticks": ""
           },
           "bgcolor": "#E5ECF6",
           "radialaxis": {
            "gridcolor": "white",
            "linecolor": "white",
            "ticks": ""
           }
          },
          "scene": {
           "xaxis": {
            "backgroundcolor": "#E5ECF6",
            "gridcolor": "white",
            "gridwidth": 2,
            "linecolor": "white",
            "showbackground": true,
            "ticks": "",
            "zerolinecolor": "white"
           },
           "yaxis": {
            "backgroundcolor": "#E5ECF6",
            "gridcolor": "white",
            "gridwidth": 2,
            "linecolor": "white",
            "showbackground": true,
            "ticks": "",
            "zerolinecolor": "white"
           },
           "zaxis": {
            "backgroundcolor": "#E5ECF6",
            "gridcolor": "white",
            "gridwidth": 2,
            "linecolor": "white",
            "showbackground": true,
            "ticks": "",
            "zerolinecolor": "white"
           }
          },
          "shapedefaults": {
           "line": {
            "color": "#2a3f5f"
           }
          },
          "ternary": {
           "aaxis": {
            "gridcolor": "white",
            "linecolor": "white",
            "ticks": ""
           },
           "baxis": {
            "gridcolor": "white",
            "linecolor": "white",
            "ticks": ""
           },
           "bgcolor": "#E5ECF6",
           "caxis": {
            "gridcolor": "white",
            "linecolor": "white",
            "ticks": ""
           }
          },
          "title": {
           "x": 0.05
          },
          "xaxis": {
           "automargin": true,
           "gridcolor": "white",
           "linecolor": "white",
           "ticks": "",
           "title": {
            "standoff": 15
           },
           "zerolinecolor": "white",
           "zerolinewidth": 2
          },
          "yaxis": {
           "automargin": true,
           "gridcolor": "white",
           "linecolor": "white",
           "ticks": "",
           "title": {
            "standoff": 15
           },
           "zerolinecolor": "white",
           "zerolinewidth": 2
          }
         }
        },
        "title": {
         "text": "2021 Sales by Product Variant"
        },
        "xaxis": {
         "anchor": "y",
         "domain": [
          0,
          1
         ],
         "labelalias": {
          "A0118150101": "Standard",
          "A0118150102": "Plus",
          "A0118150103": "Premium",
          "A0118150104": "Premium Plus",
          "A0219150201": "Standard",
          "A0219150202": "Plus",
          "A0220150203": "Premium",
          "A0320150301": "Standard",
          "A0321150302": "Plus",
          "A0321150303": "Premium",
          "A0418150103": "Standard 3"
         },
         "title": {
          "text": "Product variants"
         }
        },
        "yaxis": {
         "anchor": "x",
         "domain": [
          0,
          1
         ],
         "title": {
          "text": "Units sold"
         }
        }
       }
      }
     },
     "metadata": {},
     "output_type": "display_data"
    }
   ],
   "source": [
    "\n",
    "code_to_variant = dict(zip(best_sell_df['product_code'], best_sell_df['variant']))\n",
    "\n",
    "fig = px.bar(data_frame=best_sell_df.sort_values(by='units_sold', ascending=False),\n",
    "             x='product_code',\n",
    "             y='units_sold',\n",
    "             color='product',\n",
    "             labels={\n",
    "                 'product_code': 'Product variants',\n",
    "                 'units_sold': 'Units sold'\n",
    "                 },\n",
    "             title='2021 Sales by Product Variant',\n",
    "             )\n",
    "\n",
    "fig.update_xaxes(labelalias =  code_to_variant)\n",
    "fig.show()"
   ]
  },
  {
   "cell_type": "markdown",
   "metadata": {},
   "source": [
    "Most product variants had similar sales last year. The Dracula HDD was the best selling product overall (4 variants vs 3 of the Werewolf NAS and Zion Saga).\n",
    "\n",
    "The Mforce Gen X is lagging behind."
   ]
  },
  {
   "cell_type": "markdown",
   "metadata": {},
   "source": [
    "How about yearly profit?"
   ]
  },
  {
   "cell_type": "code",
   "execution_count": 57,
   "metadata": {
    "metadata": {}
   },
   "outputs": [],
   "source": [
    "# Yearly profit\n",
    "# First we'll create a view with the profit per sale.\n",
    "\n",
    "query = \"\"\"\n",
    "CREATE VIEW IF NOT EXISTS profit_per_sale AS \n",
    "SELECT *, (total_revenue - total_cost) AS total_profit\n",
    "FROM \n",
    "    (SELECT \n",
    "        fact_sales_monthly.*,\n",
    "        gross_price,\n",
    "        manufacturing_cost,\n",
    "        pre_invoice_discount_pct,\n",
    "        ((gross_price * (1 + pre_invoice_discount_pct)) * sold_quantity) AS total_revenue,\n",
    "        (manufacturing_cost * sold_quantity) AS total_cost\n",
    "        \n",
    "    FROM fact_sales_monthly\n",
    "        JOIN fact_manufacturing_cost \n",
    "            ON fact_manufacturing_cost.product_code = fact_sales_monthly.product_code\n",
    "            AND fact_manufacturing_cost.cost_year = fact_sales_monthly.fiscal_year\n",
    "        JOIN fact_gross_price \n",
    "            ON fact_gross_price.product_code = fact_sales_monthly.product_code\n",
    "            AND fact_gross_price.fiscal_year = fact_sales_monthly.fiscal_year\n",
    "        JOIN fact_pre_discount \n",
    "            ON fact_pre_discount.customer_code = fact_sales_monthly.customer_code\n",
    "            AND fact_pre_discount.fiscal_year = fact_sales_monthly.fiscal_year)\n",
    "\n",
    "\"\"\"\n",
    "cursor.execute(query);\n",
    "con.commit()"
   ]
  },
  {
   "cell_type": "code",
   "execution_count": 63,
   "metadata": {
    "metadata": {}
   },
   "outputs": [
    {
     "data": {
      "text/html": [
       "<div>\n",
       "<style scoped>\n",
       "    .dataframe tbody tr th:only-of-type {\n",
       "        vertical-align: middle;\n",
       "    }\n",
       "\n",
       "    .dataframe tbody tr th {\n",
       "        vertical-align: top;\n",
       "    }\n",
       "\n",
       "    .dataframe thead th {\n",
       "        text-align: right;\n",
       "    }\n",
       "</style>\n",
       "<table border=\"1\" class=\"dataframe\">\n",
       "  <thead>\n",
       "    <tr style=\"text-align: right;\">\n",
       "      <th></th>\n",
       "      <th>product_code</th>\n",
       "      <th>product</th>\n",
       "      <th>variant</th>\n",
       "      <th>fiscal_year</th>\n",
       "      <th>profit</th>\n",
       "    </tr>\n",
       "  </thead>\n",
       "  <tbody>\n",
       "    <tr>\n",
       "      <th>0</th>\n",
       "      <td>A0321150302</td>\n",
       "      <td>AQ Zion Saga</td>\n",
       "      <td>Plus</td>\n",
       "      <td>2022</td>\n",
       "      <td>4.699709e+06</td>\n",
       "    </tr>\n",
       "    <tr>\n",
       "      <th>1</th>\n",
       "      <td>A0321150303</td>\n",
       "      <td>AQ Zion Saga</td>\n",
       "      <td>Premium</td>\n",
       "      <td>2022</td>\n",
       "      <td>4.492999e+06</td>\n",
       "    </tr>\n",
       "    <tr>\n",
       "      <th>2</th>\n",
       "      <td>A0418150103</td>\n",
       "      <td>AQ Mforce Gen X</td>\n",
       "      <td>Standard 3</td>\n",
       "      <td>2022</td>\n",
       "      <td>4.365895e+06</td>\n",
       "    </tr>\n",
       "    <tr>\n",
       "      <th>3</th>\n",
       "      <td>A0220150203</td>\n",
       "      <td>AQ WereWolf NAS Internal</td>\n",
       "      <td>Premium</td>\n",
       "      <td>2022</td>\n",
       "      <td>4.043253e+06</td>\n",
       "    </tr>\n",
       "    <tr>\n",
       "      <th>4</th>\n",
       "      <td>A0219150201</td>\n",
       "      <td>AQ WereWolf NAS Internal</td>\n",
       "      <td>Standard</td>\n",
       "      <td>2022</td>\n",
       "      <td>4.015272e+06</td>\n",
       "    </tr>\n",
       "  </tbody>\n",
       "</table>\n",
       "</div>"
      ],
      "text/plain": [
       "  product_code                    product     variant  fiscal_year  \\\n",
       "0  A0321150302               AQ Zion Saga        Plus         2022   \n",
       "1  A0321150303               AQ Zion Saga     Premium         2022   \n",
       "2  A0418150103            AQ Mforce Gen X  Standard 3         2022   \n",
       "3  A0220150203  AQ WereWolf NAS Internal      Premium         2022   \n",
       "4  A0219150201  AQ WereWolf NAS Internal     Standard         2022   \n",
       "\n",
       "         profit  \n",
       "0  4.699709e+06  \n",
       "1  4.492999e+06  \n",
       "2  4.365895e+06  \n",
       "3  4.043253e+06  \n",
       "4  4.015272e+06  "
      ]
     },
     "execution_count": 63,
     "metadata": {},
     "output_type": "execute_result"
    }
   ],
   "source": [
    "# Calculate the profit per year\n",
    "\n",
    "query = \"\"\"\n",
    "SELECT dim_product.product_code, SUBSTR(product, 1, 25) as product, variant, profit_per_sale.fiscal_year, SUM(total_profit) AS profit\n",
    "FROM dim_product \n",
    "    JOIN profit_per_sale \n",
    "        ON dim_product.product_code = profit_per_sale.product_code\n",
    "GROUP BY profit_per_sale.product_code, profit_per_sale.fiscal_year\n",
    "ORDER BY profit DESC\n",
    "\"\"\"\n",
    "\n",
    "yearly_profit_df = pd.read_sql_query(query, con)\n",
    "yearly_profit_df.head(5)"
   ]
  },
  {
   "cell_type": "code",
   "execution_count": 75,
   "metadata": {
    "metadata": {}
   },
   "outputs": [
    {
     "data": {
      "application/vnd.plotly.v1+json": {
       "config": {
        "plotlyServerURL": "https://plot.ly"
       },
       "data": [
        {
         "alignmentgroup": "True",
         "hovertemplate": "variant=Standard<br>fiscal_year=2018<br>product=%{x}<br>profit=%{y}<extra></extra>",
         "legendgroup": "Standard",
         "marker": {
          "color": "#636efa",
          "pattern": {
           "shape": ""
          }
         },
         "name": "Standard",
         "offsetgroup": "Standard",
         "orientation": "v",
         "showlegend": true,
         "textposition": "auto",
         "type": "bar",
         "x": [
          "AQ Dracula HDD – 3.5 Inch"
         ],
         "xaxis": "x",
         "y": [
          269461.3431222397
         ],
         "yaxis": "y"
        },
        {
         "alignmentgroup": "True",
         "hovertemplate": "variant=Standard<br>fiscal_year=2019<br>product=%{x}<br>profit=%{y}<extra></extra>",
         "legendgroup": "Standard",
         "marker": {
          "color": "#636efa",
          "pattern": {
           "shape": ""
          }
         },
         "name": "Standard",
         "offsetgroup": "Standard",
         "orientation": "v",
         "showlegend": false,
         "textposition": "auto",
         "type": "bar",
         "x": [
          "AQ WereWolf NAS Internal ",
          "AQ Dracula HDD – 3.5 Inch"
         ],
         "xaxis": "x2",
         "y": [
          727011.4405164506,
          561326.8535006401
         ],
         "yaxis": "y2"
        },
        {
         "alignmentgroup": "True",
         "hovertemplate": "variant=Standard<br>fiscal_year=2020<br>product=%{x}<br>profit=%{y}<extra></extra>",
         "legendgroup": "Standard",
         "marker": {
          "color": "#636efa",
          "pattern": {
           "shape": ""
          }
         },
         "name": "Standard",
         "offsetgroup": "Standard",
         "orientation": "v",
         "showlegend": false,
         "textposition": "auto",
         "type": "bar",
         "x": [
          "AQ Dracula HDD – 3.5 Inch",
          "AQ Zion Saga",
          "AQ WereWolf NAS Internal "
         ],
         "xaxis": "x3",
         "y": [
          937366.2788438598,
          1329916.987671518,
          1306614.0564329415
         ],
         "yaxis": "y3"
        },
        {
         "alignmentgroup": "True",
         "hovertemplate": "variant=Standard<br>fiscal_year=2021<br>product=%{x}<br>profit=%{y}<extra></extra>",
         "legendgroup": "Standard",
         "marker": {
          "color": "#636efa",
          "pattern": {
           "shape": ""
          }
         },
         "name": "Standard",
         "offsetgroup": "Standard",
         "orientation": "v",
         "showlegend": false,
         "textposition": "auto",
         "type": "bar",
         "x": [
          "AQ WereWolf NAS Internal ",
          "AQ Zion Saga",
          "AQ Dracula HDD – 3.5 Inch"
         ],
         "xaxis": "x4",
         "y": [
          2242359.4575340017,
          2133718.9741451493,
          1803521.778236843
         ],
         "yaxis": "y4"
        },
        {
         "alignmentgroup": "True",
         "hovertemplate": "variant=Standard<br>fiscal_year=2022<br>product=%{x}<br>profit=%{y}<extra></extra>",
         "legendgroup": "Standard",
         "marker": {
          "color": "#636efa",
          "pattern": {
           "shape": ""
          }
         },
         "name": "Standard",
         "offsetgroup": "Standard",
         "orientation": "v",
         "showlegend": false,
         "textposition": "auto",
         "type": "bar",
         "x": [
          "AQ Zion Saga",
          "AQ WereWolf NAS Internal "
         ],
         "xaxis": "x5",
         "y": [
          3815365.958853329,
          4015271.9386499785
         ],
         "yaxis": "y5"
        },
        {
         "alignmentgroup": "True",
         "hovertemplate": "variant=Plus 1<br>fiscal_year=2018<br>product=%{x}<br>profit=%{y}<extra></extra>",
         "legendgroup": "Plus 1",
         "marker": {
          "color": "#EF553B",
          "pattern": {
           "shape": ""
          }
         },
         "name": "Plus 1",
         "offsetgroup": "Plus 1",
         "orientation": "v",
         "showlegend": true,
         "textposition": "auto",
         "type": "bar",
         "x": [
          "AQ Mforce Gen X"
         ],
         "xaxis": "x",
         "y": [
          417342.9151364499
         ],
         "yaxis": "y"
        },
        {
         "alignmentgroup": "True",
         "hovertemplate": "variant=Plus 1<br>fiscal_year=2019<br>product=%{x}<br>profit=%{y}<extra></extra>",
         "legendgroup": "Plus 1",
         "marker": {
          "color": "#EF553B",
          "pattern": {
           "shape": ""
          }
         },
         "name": "Plus 1",
         "offsetgroup": "Plus 1",
         "orientation": "v",
         "showlegend": false,
         "textposition": "auto",
         "type": "bar",
         "x": [
          "AQ Mforce Gen X"
         ],
         "xaxis": "x2",
         "y": [
          444342.2195443307
         ],
         "yaxis": "y2"
        },
        {
         "alignmentgroup": "True",
         "hovertemplate": "variant=Standard 3<br>fiscal_year=2018<br>product=%{x}<br>profit=%{y}<extra></extra>",
         "legendgroup": "Standard 3",
         "marker": {
          "color": "#00cc96",
          "pattern": {
           "shape": ""
          }
         },
         "name": "Standard 3",
         "offsetgroup": "Standard 3",
         "orientation": "v",
         "showlegend": true,
         "textposition": "auto",
         "type": "bar",
         "x": [
          "AQ Mforce Gen X"
         ],
         "xaxis": "x",
         "y": [
          398967.83742887987
         ],
         "yaxis": "y"
        },
        {
         "alignmentgroup": "True",
         "hovertemplate": "variant=Standard 3<br>fiscal_year=2019<br>product=%{x}<br>profit=%{y}<extra></extra>",
         "legendgroup": "Standard 3",
         "marker": {
          "color": "#00cc96",
          "pattern": {
           "shape": ""
          }
         },
         "name": "Standard 3",
         "offsetgroup": "Standard 3",
         "orientation": "v",
         "showlegend": false,
         "textposition": "auto",
         "type": "bar",
         "x": [
          "AQ Mforce Gen X"
         ],
         "xaxis": "x2",
         "y": [
          509475.76449659903
         ],
         "yaxis": "y2"
        },
        {
         "alignmentgroup": "True",
         "hovertemplate": "variant=Standard 3<br>fiscal_year=2020<br>product=%{x}<br>profit=%{y}<extra></extra>",
         "legendgroup": "Standard 3",
         "marker": {
          "color": "#00cc96",
          "pattern": {
           "shape": ""
          }
         },
         "name": "Standard 3",
         "offsetgroup": "Standard 3",
         "orientation": "v",
         "showlegend": false,
         "textposition": "auto",
         "type": "bar",
         "x": [
          "AQ Mforce Gen X"
         ],
         "xaxis": "x3",
         "y": [
          736350.3193855203
         ],
         "yaxis": "y3"
        },
        {
         "alignmentgroup": "True",
         "hovertemplate": "variant=Standard 3<br>fiscal_year=2021<br>product=%{x}<br>profit=%{y}<extra></extra>",
         "legendgroup": "Standard 3",
         "marker": {
          "color": "#00cc96",
          "pattern": {
           "shape": ""
          }
         },
         "name": "Standard 3",
         "offsetgroup": "Standard 3",
         "orientation": "v",
         "showlegend": false,
         "textposition": "auto",
         "type": "bar",
         "x": [
          "AQ Mforce Gen X"
         ],
         "xaxis": "x4",
         "y": [
          1429286.2745658513
         ],
         "yaxis": "y4"
        },
        {
         "alignmentgroup": "True",
         "hovertemplate": "variant=Standard 3<br>fiscal_year=2022<br>product=%{x}<br>profit=%{y}<extra></extra>",
         "legendgroup": "Standard 3",
         "marker": {
          "color": "#00cc96",
          "pattern": {
           "shape": ""
          }
         },
         "name": "Standard 3",
         "offsetgroup": "Standard 3",
         "orientation": "v",
         "showlegend": false,
         "textposition": "auto",
         "type": "bar",
         "x": [
          "AQ Mforce Gen X"
         ],
         "xaxis": "x5",
         "y": [
          4365895.481365396
         ],
         "yaxis": "y5"
        },
        {
         "alignmentgroup": "True",
         "hovertemplate": "variant=Standard 2<br>fiscal_year=2018<br>product=%{x}<br>profit=%{y}<extra></extra>",
         "legendgroup": "Standard 2",
         "marker": {
          "color": "#ab63fa",
          "pattern": {
           "shape": ""
          }
         },
         "name": "Standard 2",
         "offsetgroup": "Standard 2",
         "orientation": "v",
         "showlegend": true,
         "textposition": "auto",
         "type": "bar",
         "x": [
          "AQ Mforce Gen X"
         ],
         "xaxis": "x",
         "y": [
          347541.4879569302
         ],
         "yaxis": "y"
        },
        {
         "alignmentgroup": "True",
         "hovertemplate": "variant=Standard 2<br>fiscal_year=2019<br>product=%{x}<br>profit=%{y}<extra></extra>",
         "legendgroup": "Standard 2",
         "marker": {
          "color": "#ab63fa",
          "pattern": {
           "shape": ""
          }
         },
         "name": "Standard 2",
         "offsetgroup": "Standard 2",
         "orientation": "v",
         "showlegend": false,
         "textposition": "auto",
         "type": "bar",
         "x": [
          "AQ Mforce Gen X"
         ],
         "xaxis": "x2",
         "y": [
          491518.98305279895
         ],
         "yaxis": "y2"
        },
        {
         "alignmentgroup": "True",
         "hovertemplate": "variant=Standard 2<br>fiscal_year=2020<br>product=%{x}<br>profit=%{y}<extra></extra>",
         "legendgroup": "Standard 2",
         "marker": {
          "color": "#ab63fa",
          "pattern": {
           "shape": ""
          }
         },
         "name": "Standard 2",
         "offsetgroup": "Standard 2",
         "orientation": "v",
         "showlegend": false,
         "textposition": "auto",
         "type": "bar",
         "x": [
          "AQ Mforce Gen X"
         ],
         "xaxis": "x3",
         "y": [
          735886.7134971187
         ],
         "yaxis": "y3"
        },
        {
         "alignmentgroup": "True",
         "hovertemplate": "variant=Standard 1<br>fiscal_year=2018<br>product=%{x}<br>profit=%{y}<extra></extra>",
         "legendgroup": "Standard 1",
         "marker": {
          "color": "#FFA15A",
          "pattern": {
           "shape": ""
          }
         },
         "name": "Standard 1",
         "offsetgroup": "Standard 1",
         "orientation": "v",
         "showlegend": true,
         "textposition": "auto",
         "type": "bar",
         "x": [
          "AQ Mforce Gen X"
         ],
         "xaxis": "x",
         "y": [
          324837.19708978
         ],
         "yaxis": "y"
        },
        {
         "alignmentgroup": "True",
         "hovertemplate": "variant=Standard 1<br>fiscal_year=2019<br>product=%{x}<br>profit=%{y}<extra></extra>",
         "legendgroup": "Standard 1",
         "marker": {
          "color": "#FFA15A",
          "pattern": {
           "shape": ""
          }
         },
         "name": "Standard 1",
         "offsetgroup": "Standard 1",
         "orientation": "v",
         "showlegend": false,
         "textposition": "auto",
         "type": "bar",
         "x": [
          "AQ Mforce Gen X"
         ],
         "xaxis": "x2",
         "y": [
          417101.8368681003
         ],
         "yaxis": "y2"
        },
        {
         "alignmentgroup": "True",
         "hovertemplate": "variant=Standard 1<br>fiscal_year=2020<br>product=%{x}<br>profit=%{y}<extra></extra>",
         "legendgroup": "Standard 1",
         "marker": {
          "color": "#FFA15A",
          "pattern": {
           "shape": ""
          }
         },
         "name": "Standard 1",
         "offsetgroup": "Standard 1",
         "orientation": "v",
         "showlegend": false,
         "textposition": "auto",
         "type": "bar",
         "x": [
          "AQ Mforce Gen X"
         ],
         "xaxis": "x3",
         "y": [
          753473.2748563997
         ],
         "yaxis": "y3"
        },
        {
         "alignmentgroup": "True",
         "hovertemplate": "variant=Premium<br>fiscal_year=2018<br>product=%{x}<br>profit=%{y}<extra></extra>",
         "legendgroup": "Premium",
         "marker": {
          "color": "#19d3f3",
          "pattern": {
           "shape": ""
          }
         },
         "name": "Premium",
         "offsetgroup": "Premium",
         "orientation": "v",
         "showlegend": true,
         "textposition": "auto",
         "type": "bar",
         "x": [
          "AQ Dracula HDD – 3.5 Inch"
         ],
         "xaxis": "x",
         "y": [
          338183.81118390046
         ],
         "yaxis": "y"
        },
        {
         "alignmentgroup": "True",
         "hovertemplate": "variant=Premium<br>fiscal_year=2019<br>product=%{x}<br>profit=%{y}<extra></extra>",
         "legendgroup": "Premium",
         "marker": {
          "color": "#19d3f3",
          "pattern": {
           "shape": ""
          }
         },
         "name": "Premium",
         "offsetgroup": "Premium",
         "orientation": "v",
         "showlegend": false,
         "textposition": "auto",
         "type": "bar",
         "x": [
          "AQ Dracula HDD – 3.5 Inch"
         ],
         "xaxis": "x2",
         "y": [
          767921.5111470988
         ],
         "yaxis": "y2"
        },
        {
         "alignmentgroup": "True",
         "hovertemplate": "variant=Premium<br>fiscal_year=2020<br>product=%{x}<br>profit=%{y}<extra></extra>",
         "legendgroup": "Premium",
         "marker": {
          "color": "#19d3f3",
          "pattern": {
           "shape": ""
          }
         },
         "name": "Premium",
         "offsetgroup": "Premium",
         "orientation": "v",
         "showlegend": false,
         "textposition": "auto",
         "type": "bar",
         "x": [
          "AQ Dracula HDD – 3.5 Inch",
          "AQ WereWolf NAS Internal "
         ],
         "xaxis": "x3",
         "y": [
          1292432.0396404506,
          1425425.9953604476
         ],
         "yaxis": "y3"
        },
        {
         "alignmentgroup": "True",
         "hovertemplate": "variant=Premium<br>fiscal_year=2021<br>product=%{x}<br>profit=%{y}<extra></extra>",
         "legendgroup": "Premium",
         "marker": {
          "color": "#19d3f3",
          "pattern": {
           "shape": ""
          }
         },
         "name": "Premium",
         "offsetgroup": "Premium",
         "orientation": "v",
         "showlegend": false,
         "textposition": "auto",
         "type": "bar",
         "x": [
          "AQ Zion Saga",
          "AQ Dracula HDD – 3.5 Inch",
          "AQ WereWolf NAS Internal "
         ],
         "xaxis": "x4",
         "y": [
          2533233.6097363518,
          1918619.255832047,
          2132642.8184937024
         ],
         "yaxis": "y4"
        },
        {
         "alignmentgroup": "True",
         "hovertemplate": "variant=Premium<br>fiscal_year=2022<br>product=%{x}<br>profit=%{y}<extra></extra>",
         "legendgroup": "Premium",
         "marker": {
          "color": "#19d3f3",
          "pattern": {
           "shape": ""
          }
         },
         "name": "Premium",
         "offsetgroup": "Premium",
         "orientation": "v",
         "showlegend": false,
         "textposition": "auto",
         "type": "bar",
         "x": [
          "AQ Dracula HDD – 3.5 Inch",
          "AQ WereWolf NAS Internal ",
          "AQ Zion Saga"
         ],
         "xaxis": "x5",
         "y": [
          3657213.4227271993,
          4043253.023438601,
          4492998.809754005
         ],
         "yaxis": "y5"
        },
        {
         "alignmentgroup": "True",
         "hovertemplate": "variant=Plus<br>fiscal_year=2018<br>product=%{x}<br>profit=%{y}<extra></extra>",
         "legendgroup": "Plus",
         "marker": {
          "color": "#FF6692",
          "pattern": {
           "shape": ""
          }
         },
         "name": "Plus",
         "offsetgroup": "Plus",
         "orientation": "v",
         "showlegend": true,
         "textposition": "auto",
         "type": "bar",
         "x": [
          "AQ Dracula HDD – 3.5 Inch"
         ],
         "xaxis": "x",
         "y": [
          335407.5518350002
         ],
         "yaxis": "y"
        },
        {
         "alignmentgroup": "True",
         "hovertemplate": "variant=Plus<br>fiscal_year=2019<br>product=%{x}<br>profit=%{y}<extra></extra>",
         "legendgroup": "Plus",
         "marker": {
          "color": "#FF6692",
          "pattern": {
           "shape": ""
          }
         },
         "name": "Plus",
         "offsetgroup": "Plus",
         "orientation": "v",
         "showlegend": false,
         "textposition": "auto",
         "type": "bar",
         "x": [
          "AQ WereWolf NAS Internal ",
          "AQ Dracula HDD – 3.5 Inch"
         ],
         "xaxis": "x2",
         "y": [
          792663.0436398203,
          732239.6437180509
         ],
         "yaxis": "y2"
        },
        {
         "alignmentgroup": "True",
         "hovertemplate": "variant=Plus<br>fiscal_year=2020<br>product=%{x}<br>profit=%{y}<extra></extra>",
         "legendgroup": "Plus",
         "marker": {
          "color": "#FF6692",
          "pattern": {
           "shape": ""
          }
         },
         "name": "Plus",
         "offsetgroup": "Plus",
         "orientation": "v",
         "showlegend": false,
         "textposition": "auto",
         "type": "bar",
         "x": [
          "AQ Dracula HDD – 3.5 Inch",
          "AQ WereWolf NAS Internal "
         ],
         "xaxis": "x3",
         "y": [
          1198787.2400875979,
          1427752.5508148188
         ],
         "yaxis": "y3"
        },
        {
         "alignmentgroup": "True",
         "hovertemplate": "variant=Plus<br>fiscal_year=2021<br>product=%{x}<br>profit=%{y}<extra></extra>",
         "legendgroup": "Plus",
         "marker": {
          "color": "#FF6692",
          "pattern": {
           "shape": ""
          }
         },
         "name": "Plus",
         "offsetgroup": "Plus",
         "orientation": "v",
         "showlegend": false,
         "textposition": "auto",
         "type": "bar",
         "x": [
          "AQ Zion Saga",
          "AQ WereWolf NAS Internal ",
          "AQ Dracula HDD – 3.5 Inch"
         ],
         "xaxis": "x4",
         "y": [
          2568407.2235043836,
          2266481.111627361,
          1982509.215256049
         ],
         "yaxis": "y4"
        },
        {
         "alignmentgroup": "True",
         "hovertemplate": "variant=Plus<br>fiscal_year=2022<br>product=%{x}<br>profit=%{y}<extra></extra>",
         "legendgroup": "Plus",
         "marker": {
          "color": "#FF6692",
          "pattern": {
           "shape": ""
          }
         },
         "name": "Plus",
         "offsetgroup": "Plus",
         "orientation": "v",
         "showlegend": false,
         "textposition": "auto",
         "type": "bar",
         "x": [
          "AQ WereWolf NAS Internal ",
          "AQ Zion Saga"
         ],
         "xaxis": "x5",
         "y": [
          4014888.291856399,
          4699708.924234493
         ],
         "yaxis": "y5"
        },
        {
         "alignmentgroup": "True",
         "hovertemplate": "variant=Premium Plus<br>fiscal_year=2018<br>product=%{x}<br>profit=%{y}<extra></extra>",
         "legendgroup": "Premium Plus",
         "marker": {
          "color": "#B6E880",
          "pattern": {
           "shape": ""
          }
         },
         "name": "Premium Plus",
         "offsetgroup": "Premium Plus",
         "orientation": "v",
         "showlegend": true,
         "textposition": "auto",
         "type": "bar",
         "x": [
          "AQ Dracula HDD – 3.5 Inch"
         ],
         "xaxis": "x",
         "y": [
          339205.9312744004
         ],
         "yaxis": "y"
        },
        {
         "alignmentgroup": "True",
         "hovertemplate": "variant=Premium Plus<br>fiscal_year=2019<br>product=%{x}<br>profit=%{y}<extra></extra>",
         "legendgroup": "Premium Plus",
         "marker": {
          "color": "#B6E880",
          "pattern": {
           "shape": ""
          }
         },
         "name": "Premium Plus",
         "offsetgroup": "Premium Plus",
         "orientation": "v",
         "showlegend": false,
         "textposition": "auto",
         "type": "bar",
         "x": [
          "AQ Dracula HDD – 3.5 Inch"
         ],
         "xaxis": "x2",
         "y": [
          732807.2566139204
         ],
         "yaxis": "y2"
        },
        {
         "alignmentgroup": "True",
         "hovertemplate": "variant=Premium Plus<br>fiscal_year=2020<br>product=%{x}<br>profit=%{y}<extra></extra>",
         "legendgroup": "Premium Plus",
         "marker": {
          "color": "#B6E880",
          "pattern": {
           "shape": ""
          }
         },
         "name": "Premium Plus",
         "offsetgroup": "Premium Plus",
         "orientation": "v",
         "showlegend": false,
         "textposition": "auto",
         "type": "bar",
         "x": [
          "AQ Dracula HDD – 3.5 Inch"
         ],
         "xaxis": "x3",
         "y": [
          1165440.2741850396
         ],
         "yaxis": "y3"
        },
        {
         "alignmentgroup": "True",
         "hovertemplate": "variant=Premium Plus<br>fiscal_year=2021<br>product=%{x}<br>profit=%{y}<extra></extra>",
         "legendgroup": "Premium Plus",
         "marker": {
          "color": "#B6E880",
          "pattern": {
           "shape": ""
          }
         },
         "name": "Premium Plus",
         "offsetgroup": "Premium Plus",
         "orientation": "v",
         "showlegend": false,
         "textposition": "auto",
         "type": "bar",
         "x": [
          "AQ Dracula HDD – 3.5 Inch"
         ],
         "xaxis": "x4",
         "y": [
          2111197.4369018814
         ],
         "yaxis": "y4"
        },
        {
         "alignmentgroup": "True",
         "hovertemplate": "variant=Premium Plus<br>fiscal_year=2022<br>product=%{x}<br>profit=%{y}<extra></extra>",
         "legendgroup": "Premium Plus",
         "marker": {
          "color": "#B6E880",
          "pattern": {
           "shape": ""
          }
         },
         "name": "Premium Plus",
         "offsetgroup": "Premium Plus",
         "orientation": "v",
         "showlegend": false,
         "textposition": "auto",
         "type": "bar",
         "x": [
          "AQ Dracula HDD – 3.5 Inch"
         ],
         "xaxis": "x5",
         "y": [
          3626424.694048778
         ],
         "yaxis": "y5"
        }
       ],
       "layout": {
        "annotations": [
         {
          "font": {},
          "showarrow": false,
          "text": "2018",
          "x": 0.1,
          "xanchor": "center",
          "xref": "paper",
          "y": 1,
          "yanchor": "bottom",
          "yref": "paper"
         },
         {
          "font": {},
          "showarrow": false,
          "text": "2019",
          "x": 0.30000000000000004,
          "xanchor": "center",
          "xref": "paper",
          "y": 1,
          "yanchor": "bottom",
          "yref": "paper"
         },
         {
          "font": {},
          "showarrow": false,
          "text": "2020",
          "x": 0.5,
          "xanchor": "center",
          "xref": "paper",
          "y": 1,
          "yanchor": "bottom",
          "yref": "paper"
         },
         {
          "font": {},
          "showarrow": false,
          "text": "2021",
          "x": 0.7,
          "xanchor": "center",
          "xref": "paper",
          "y": 1,
          "yanchor": "bottom",
          "yref": "paper"
         },
         {
          "font": {},
          "showarrow": false,
          "text": "2022",
          "x": 0.8999999999999999,
          "xanchor": "center",
          "xref": "paper",
          "y": 1,
          "yanchor": "bottom",
          "yref": "paper"
         }
        ],
        "barmode": "stack",
        "legend": {
         "title": {
          "text": "Variants"
         },
         "tracegroupgap": 0
        },
        "margin": {
         "t": 60
        },
        "showlegend": true,
        "template": {
         "data": {
          "bar": [
           {
            "error_x": {
             "color": "#2a3f5f"
            },
            "error_y": {
             "color": "#2a3f5f"
            },
            "marker": {
             "line": {
              "color": "#E5ECF6",
              "width": 0.5
             },
             "pattern": {
              "fillmode": "overlay",
              "size": 10,
              "solidity": 0.2
             }
            },
            "type": "bar"
           }
          ],
          "barpolar": [
           {
            "marker": {
             "line": {
              "color": "#E5ECF6",
              "width": 0.5
             },
             "pattern": {
              "fillmode": "overlay",
              "size": 10,
              "solidity": 0.2
             }
            },
            "type": "barpolar"
           }
          ],
          "carpet": [
           {
            "aaxis": {
             "endlinecolor": "#2a3f5f",
             "gridcolor": "white",
             "linecolor": "white",
             "minorgridcolor": "white",
             "startlinecolor": "#2a3f5f"
            },
            "baxis": {
             "endlinecolor": "#2a3f5f",
             "gridcolor": "white",
             "linecolor": "white",
             "minorgridcolor": "white",
             "startlinecolor": "#2a3f5f"
            },
            "type": "carpet"
           }
          ],
          "choropleth": [
           {
            "colorbar": {
             "outlinewidth": 0,
             "ticks": ""
            },
            "type": "choropleth"
           }
          ],
          "contour": [
           {
            "colorbar": {
             "outlinewidth": 0,
             "ticks": ""
            },
            "colorscale": [
             [
              0,
              "#0d0887"
             ],
             [
              0.1111111111111111,
              "#46039f"
             ],
             [
              0.2222222222222222,
              "#7201a8"
             ],
             [
              0.3333333333333333,
              "#9c179e"
             ],
             [
              0.4444444444444444,
              "#bd3786"
             ],
             [
              0.5555555555555556,
              "#d8576b"
             ],
             [
              0.6666666666666666,
              "#ed7953"
             ],
             [
              0.7777777777777778,
              "#fb9f3a"
             ],
             [
              0.8888888888888888,
              "#fdca26"
             ],
             [
              1,
              "#f0f921"
             ]
            ],
            "type": "contour"
           }
          ],
          "contourcarpet": [
           {
            "colorbar": {
             "outlinewidth": 0,
             "ticks": ""
            },
            "type": "contourcarpet"
           }
          ],
          "heatmap": [
           {
            "colorbar": {
             "outlinewidth": 0,
             "ticks": ""
            },
            "colorscale": [
             [
              0,
              "#0d0887"
             ],
             [
              0.1111111111111111,
              "#46039f"
             ],
             [
              0.2222222222222222,
              "#7201a8"
             ],
             [
              0.3333333333333333,
              "#9c179e"
             ],
             [
              0.4444444444444444,
              "#bd3786"
             ],
             [
              0.5555555555555556,
              "#d8576b"
             ],
             [
              0.6666666666666666,
              "#ed7953"
             ],
             [
              0.7777777777777778,
              "#fb9f3a"
             ],
             [
              0.8888888888888888,
              "#fdca26"
             ],
             [
              1,
              "#f0f921"
             ]
            ],
            "type": "heatmap"
           }
          ],
          "heatmapgl": [
           {
            "colorbar": {
             "outlinewidth": 0,
             "ticks": ""
            },
            "colorscale": [
             [
              0,
              "#0d0887"
             ],
             [
              0.1111111111111111,
              "#46039f"
             ],
             [
              0.2222222222222222,
              "#7201a8"
             ],
             [
              0.3333333333333333,
              "#9c179e"
             ],
             [
              0.4444444444444444,
              "#bd3786"
             ],
             [
              0.5555555555555556,
              "#d8576b"
             ],
             [
              0.6666666666666666,
              "#ed7953"
             ],
             [
              0.7777777777777778,
              "#fb9f3a"
             ],
             [
              0.8888888888888888,
              "#fdca26"
             ],
             [
              1,
              "#f0f921"
             ]
            ],
            "type": "heatmapgl"
           }
          ],
          "histogram": [
           {
            "marker": {
             "pattern": {
              "fillmode": "overlay",
              "size": 10,
              "solidity": 0.2
             }
            },
            "type": "histogram"
           }
          ],
          "histogram2d": [
           {
            "colorbar": {
             "outlinewidth": 0,
             "ticks": ""
            },
            "colorscale": [
             [
              0,
              "#0d0887"
             ],
             [
              0.1111111111111111,
              "#46039f"
             ],
             [
              0.2222222222222222,
              "#7201a8"
             ],
             [
              0.3333333333333333,
              "#9c179e"
             ],
             [
              0.4444444444444444,
              "#bd3786"
             ],
             [
              0.5555555555555556,
              "#d8576b"
             ],
             [
              0.6666666666666666,
              "#ed7953"
             ],
             [
              0.7777777777777778,
              "#fb9f3a"
             ],
             [
              0.8888888888888888,
              "#fdca26"
             ],
             [
              1,
              "#f0f921"
             ]
            ],
            "type": "histogram2d"
           }
          ],
          "histogram2dcontour": [
           {
            "colorbar": {
             "outlinewidth": 0,
             "ticks": ""
            },
            "colorscale": [
             [
              0,
              "#0d0887"
             ],
             [
              0.1111111111111111,
              "#46039f"
             ],
             [
              0.2222222222222222,
              "#7201a8"
             ],
             [
              0.3333333333333333,
              "#9c179e"
             ],
             [
              0.4444444444444444,
              "#bd3786"
             ],
             [
              0.5555555555555556,
              "#d8576b"
             ],
             [
              0.6666666666666666,
              "#ed7953"
             ],
             [
              0.7777777777777778,
              "#fb9f3a"
             ],
             [
              0.8888888888888888,
              "#fdca26"
             ],
             [
              1,
              "#f0f921"
             ]
            ],
            "type": "histogram2dcontour"
           }
          ],
          "mesh3d": [
           {
            "colorbar": {
             "outlinewidth": 0,
             "ticks": ""
            },
            "type": "mesh3d"
           }
          ],
          "parcoords": [
           {
            "line": {
             "colorbar": {
              "outlinewidth": 0,
              "ticks": ""
             }
            },
            "type": "parcoords"
           }
          ],
          "pie": [
           {
            "automargin": true,
            "type": "pie"
           }
          ],
          "scatter": [
           {
            "fillpattern": {
             "fillmode": "overlay",
             "size": 10,
             "solidity": 0.2
            },
            "type": "scatter"
           }
          ],
          "scatter3d": [
           {
            "line": {
             "colorbar": {
              "outlinewidth": 0,
              "ticks": ""
             }
            },
            "marker": {
             "colorbar": {
              "outlinewidth": 0,
              "ticks": ""
             }
            },
            "type": "scatter3d"
           }
          ],
          "scattercarpet": [
           {
            "marker": {
             "colorbar": {
              "outlinewidth": 0,
              "ticks": ""
             }
            },
            "type": "scattercarpet"
           }
          ],
          "scattergeo": [
           {
            "marker": {
             "colorbar": {
              "outlinewidth": 0,
              "ticks": ""
             }
            },
            "type": "scattergeo"
           }
          ],
          "scattergl": [
           {
            "marker": {
             "colorbar": {
              "outlinewidth": 0,
              "ticks": ""
             }
            },
            "type": "scattergl"
           }
          ],
          "scattermapbox": [
           {
            "marker": {
             "colorbar": {
              "outlinewidth": 0,
              "ticks": ""
             }
            },
            "type": "scattermapbox"
           }
          ],
          "scatterpolar": [
           {
            "marker": {
             "colorbar": {
              "outlinewidth": 0,
              "ticks": ""
             }
            },
            "type": "scatterpolar"
           }
          ],
          "scatterpolargl": [
           {
            "marker": {
             "colorbar": {
              "outlinewidth": 0,
              "ticks": ""
             }
            },
            "type": "scatterpolargl"
           }
          ],
          "scatterternary": [
           {
            "marker": {
             "colorbar": {
              "outlinewidth": 0,
              "ticks": ""
             }
            },
            "type": "scatterternary"
           }
          ],
          "surface": [
           {
            "colorbar": {
             "outlinewidth": 0,
             "ticks": ""
            },
            "colorscale": [
             [
              0,
              "#0d0887"
             ],
             [
              0.1111111111111111,
              "#46039f"
             ],
             [
              0.2222222222222222,
              "#7201a8"
             ],
             [
              0.3333333333333333,
              "#9c179e"
             ],
             [
              0.4444444444444444,
              "#bd3786"
             ],
             [
              0.5555555555555556,
              "#d8576b"
             ],
             [
              0.6666666666666666,
              "#ed7953"
             ],
             [
              0.7777777777777778,
              "#fb9f3a"
             ],
             [
              0.8888888888888888,
              "#fdca26"
             ],
             [
              1,
              "#f0f921"
             ]
            ],
            "type": "surface"
           }
          ],
          "table": [
           {
            "cells": {
             "fill": {
              "color": "#EBF0F8"
             },
             "line": {
              "color": "white"
             }
            },
            "header": {
             "fill": {
              "color": "#C8D4E3"
             },
             "line": {
              "color": "white"
             }
            },
            "type": "table"
           }
          ]
         },
         "layout": {
          "annotationdefaults": {
           "arrowcolor": "#2a3f5f",
           "arrowhead": 0,
           "arrowwidth": 1
          },
          "autotypenumbers": "strict",
          "coloraxis": {
           "colorbar": {
            "outlinewidth": 0,
            "ticks": ""
           }
          },
          "colorscale": {
           "diverging": [
            [
             0,
             "#8e0152"
            ],
            [
             0.1,
             "#c51b7d"
            ],
            [
             0.2,
             "#de77ae"
            ],
            [
             0.3,
             "#f1b6da"
            ],
            [
             0.4,
             "#fde0ef"
            ],
            [
             0.5,
             "#f7f7f7"
            ],
            [
             0.6,
             "#e6f5d0"
            ],
            [
             0.7,
             "#b8e186"
            ],
            [
             0.8,
             "#7fbc41"
            ],
            [
             0.9,
             "#4d9221"
            ],
            [
             1,
             "#276419"
            ]
           ],
           "sequential": [
            [
             0,
             "#0d0887"
            ],
            [
             0.1111111111111111,
             "#46039f"
            ],
            [
             0.2222222222222222,
             "#7201a8"
            ],
            [
             0.3333333333333333,
             "#9c179e"
            ],
            [
             0.4444444444444444,
             "#bd3786"
            ],
            [
             0.5555555555555556,
             "#d8576b"
            ],
            [
             0.6666666666666666,
             "#ed7953"
            ],
            [
             0.7777777777777778,
             "#fb9f3a"
            ],
            [
             0.8888888888888888,
             "#fdca26"
            ],
            [
             1,
             "#f0f921"
            ]
           ],
           "sequentialminus": [
            [
             0,
             "#0d0887"
            ],
            [
             0.1111111111111111,
             "#46039f"
            ],
            [
             0.2222222222222222,
             "#7201a8"
            ],
            [
             0.3333333333333333,
             "#9c179e"
            ],
            [
             0.4444444444444444,
             "#bd3786"
            ],
            [
             0.5555555555555556,
             "#d8576b"
            ],
            [
             0.6666666666666666,
             "#ed7953"
            ],
            [
             0.7777777777777778,
             "#fb9f3a"
            ],
            [
             0.8888888888888888,
             "#fdca26"
            ],
            [
             1,
             "#f0f921"
            ]
           ]
          },
          "colorway": [
           "#636efa",
           "#EF553B",
           "#00cc96",
           "#ab63fa",
           "#FFA15A",
           "#19d3f3",
           "#FF6692",
           "#B6E880",
           "#FF97FF",
           "#FECB52"
          ],
          "font": {
           "color": "#2a3f5f"
          },
          "geo": {
           "bgcolor": "white",
           "lakecolor": "white",
           "landcolor": "#E5ECF6",
           "showlakes": true,
           "showland": true,
           "subunitcolor": "white"
          },
          "hoverlabel": {
           "align": "left"
          },
          "hovermode": "closest",
          "mapbox": {
           "style": "light"
          },
          "paper_bgcolor": "white",
          "plot_bgcolor": "#E5ECF6",
          "polar": {
           "angularaxis": {
            "gridcolor": "white",
            "linecolor": "white",
            "ticks": ""
           },
           "bgcolor": "#E5ECF6",
           "radialaxis": {
            "gridcolor": "white",
            "linecolor": "white",
            "ticks": ""
           }
          },
          "scene": {
           "xaxis": {
            "backgroundcolor": "#E5ECF6",
            "gridcolor": "white",
            "gridwidth": 2,
            "linecolor": "white",
            "showbackground": true,
            "ticks": "",
            "zerolinecolor": "white"
           },
           "yaxis": {
            "backgroundcolor": "#E5ECF6",
            "gridcolor": "white",
            "gridwidth": 2,
            "linecolor": "white",
            "showbackground": true,
            "ticks": "",
            "zerolinecolor": "white"
           },
           "zaxis": {
            "backgroundcolor": "#E5ECF6",
            "gridcolor": "white",
            "gridwidth": 2,
            "linecolor": "white",
            "showbackground": true,
            "ticks": "",
            "zerolinecolor": "white"
           }
          },
          "shapedefaults": {
           "line": {
            "color": "#2a3f5f"
           }
          },
          "ternary": {
           "aaxis": {
            "gridcolor": "white",
            "linecolor": "white",
            "ticks": ""
           },
           "baxis": {
            "gridcolor": "white",
            "linecolor": "white",
            "ticks": ""
           },
           "bgcolor": "#E5ECF6",
           "caxis": {
            "gridcolor": "white",
            "linecolor": "white",
            "ticks": ""
           }
          },
          "title": {
           "x": 0.05
          },
          "xaxis": {
           "automargin": true,
           "gridcolor": "white",
           "linecolor": "white",
           "ticks": "",
           "title": {
            "standoff": 15
           },
           "zerolinecolor": "white",
           "zerolinewidth": 2
          },
          "yaxis": {
           "automargin": true,
           "gridcolor": "white",
           "linecolor": "white",
           "ticks": "",
           "title": {
            "standoff": 15
           },
           "zerolinecolor": "white",
           "zerolinewidth": 2
          }
         }
        },
        "title": {
         "text": "Yearly Profit by Product"
        },
        "xaxis": {
         "anchor": "y",
         "domain": [
          0,
          0.18400000000000002
         ],
         "showticklabels": true,
         "title": {
          "text": ""
         }
        },
        "xaxis2": {
         "anchor": "y2",
         "domain": [
          0.20400000000000001,
          0.388
         ],
         "matches": "x",
         "showticklabels": true,
         "title": {
          "text": ""
         }
        },
        "xaxis3": {
         "anchor": "y3",
         "domain": [
          0.40800000000000003,
          0.5920000000000001
         ],
         "matches": "x",
         "showticklabels": true,
         "title": {
          "text": ""
         }
        },
        "xaxis4": {
         "anchor": "y4",
         "domain": [
          0.6120000000000001,
          0.7960000000000002
         ],
         "matches": "x",
         "showticklabels": true,
         "title": {
          "text": ""
         }
        },
        "xaxis5": {
         "anchor": "y5",
         "domain": [
          0.8160000000000001,
          1
         ],
         "matches": "x",
         "showticklabels": true,
         "title": {
          "text": ""
         }
        },
        "yaxis": {
         "anchor": "x",
         "domain": [
          0,
          1
         ],
         "title": {
          "text": ""
         }
        },
        "yaxis2": {
         "anchor": "x2",
         "domain": [
          0,
          1
         ],
         "matches": "y",
         "showticklabels": false,
         "title": {
          "text": "Profit"
         }
        },
        "yaxis3": {
         "anchor": "x3",
         "domain": [
          0,
          1
         ],
         "matches": "y",
         "showticklabels": false,
         "title": {
          "text": "Profit"
         }
        },
        "yaxis4": {
         "anchor": "x4",
         "domain": [
          0,
          1
         ],
         "matches": "y",
         "showticklabels": false,
         "title": {
          "text": "Profit"
         }
        },
        "yaxis5": {
         "anchor": "x5",
         "domain": [
          0,
          1
         ],
         "matches": "y",
         "showticklabels": false,
         "title": {
          "text": "Profit"
         }
        }
       }
      }
     },
     "metadata": {},
     "output_type": "display_data"
    }
   ],
   "source": [
    "# Create the stacked bar chart\n",
    "fig = px.bar(yearly_profit_df.sort_values(by='fiscal_year', ascending=True),\n",
    "              x='product',\n",
    "              y='profit',\n",
    "              color='variant',\n",
    "              facet_col='fiscal_year',\n",
    "              barmode='stack',\n",
    "              facet_col_wrap=5,\n",
    "              )\n",
    "\n",
    "# Update axis titles\n",
    "fig.update_xaxes(title_text='', showticklabels=True)\n",
    "fig.update_yaxes(title_text='Profit')\n",
    "\n",
    "annot = []\n",
    "offset = 0.2\n",
    "x_pos = 0.1\n",
    "for year in yearly_profit_df.sort_values(by='fiscal_year', ascending=True)['fiscal_year'].unique():\n",
    "    annot.append(\n",
    "        dict(\n",
    "            text = f'{year}',\n",
    "            x = x_pos,\n",
    "            y = 1,\n",
    "            showarrow = False,\n",
    "            xref = 'paper',\n",
    "            yref='paper'\n",
    "        )\n",
    "    )\n",
    "    x_pos += offset\n",
    "\n",
    "# Update facet titles\n",
    "fig.update_layout(\n",
    "    title='Yearly Profit by Product',\n",
    "    showlegend=True,\n",
    "    legend_title='Variants',\n",
    "    yaxis=dict(title=''), \n",
    "    annotations=annot\n",
    ")\n",
    "\n",
    "fig.show()"
   ]
  },
  {
   "cell_type": "markdown",
   "metadata": {},
   "source": [
    "There has been a remarkable grow in the last years. Remember that this data has only the first 3 months of 2022!\n",
    "\n",
    "The Mforce Gen X is also struggling to keep up when measuring profit. "
   ]
  },
  {
   "cell_type": "markdown",
   "metadata": {},
   "source": []
  },
  {
   "cell_type": "markdown",
   "metadata": {},
   "source": []
  }
 ],
 "metadata": {
  "kernelspec": {
   "display_name": "Tripleten",
   "language": "python",
   "name": "python3"
  },
  "language_info": {
   "codemirror_mode": {
    "name": "ipython",
    "version": 3
   },
   "file_extension": ".py",
   "mimetype": "text/x-python",
   "name": "python",
   "nbconvert_exporter": "python",
   "pygments_lexer": "ipython3",
   "version": "3.12.3"
  }
 },
 "nbformat": 4,
 "nbformat_minor": 2
}

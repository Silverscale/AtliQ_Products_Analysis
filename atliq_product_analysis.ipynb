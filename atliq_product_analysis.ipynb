{
 "cells": [
  {
   "cell_type": "markdown",
   "metadata": {},
   "source": [
    "# AtliQ Products Analysis"
   ]
  },
  {
   "cell_type": "markdown",
   "metadata": {},
   "source": [
    "## Contents\n",
    "\n",
    "1. [Introduction](#introduction)\n",
    "2. [Data loading and preprocessing](#data-loading-and-preprocessing)\n",
    "    - [Import libraries](#libraries)\n",
    "    - [Load/Download database](#loaddownload-database)\n",
    "    - [Helper functions](#helper-functions)\n",
    "    - [Basic tables info](#basic-tables-info)\n",
    "    - [Missing values](#missing-values)\n",
    "    - [Duplicates](#duplicates)\n",
    "    - [Other](#other)\n",
    "3. [Analysis](#analysis)\n",
    "    1. [Finding the bestsellers](#finding-the-bestsellers)\n",
    "    2. [Popularity across time and markets](#popularity-across-time-and-markets)\n",
    "    3. [Variant sales](#variant-sales)\n",
    "    4. [Channel sales](#channel-sales)\n",
    "    5. [Product margin](#product-margins)\n",
    "    6. [Price vs cost]\n",
    "4. [Conclusion]\n",
    "\n",
    "---"
   ]
  },
  {
   "cell_type": "markdown",
   "metadata": {},
   "source": [
    "## Introduction"
   ]
  },
  {
   "cell_type": "markdown",
   "metadata": {},
   "source": [
    "Our team has been commissioned by AtliQ Hardware to conduct a thorough analysis of their product portfolio and sales data.\n",
    "\n",
    "As a prominent computer hardware producer in India, AtliQ is keen on enhancing their understanding of product performance. This analysis aims to identify top-selling products, uncover trends, and develop strategies to optimize sales and market share."
   ]
  },
  {
   "cell_type": "markdown",
   "metadata": {},
   "source": [
    "The primary objective of this research is to analyze AtliQ Hardware's product portfolio and sales data to better understand product performance and identify strategies for optimizing sales. We aim to answer these key questions:\n",
    "- Which items are the bestsellers?\n",
    "- How has popularity changed over time/across markets?\n",
    "- Are there some variants that contribute a disproportionate amount to the product sales?\n",
    "- Are some channels responsible for a large portion of a division’s sales?\n",
    "- What are the products with the best/worst margin?\n",
    "- Is gross price keeping up with manufacturing costs?\n",
    "\n",
    "Through this analysis, our goal is to provide AtliQ Hardware with actionable insights and recommendations to help drive business growth."
   ]
  },
  {
   "cell_type": "markdown",
   "metadata": {},
   "source": [
    "[Back to Contents](#contents)\n",
    "\n",
    "---"
   ]
  },
  {
   "cell_type": "markdown",
   "metadata": {},
   "source": [
    "## Data loading and Preprocessing"
   ]
  },
  {
   "cell_type": "markdown",
   "metadata": {},
   "source": [
    "### Libraries\n",
    "These are the libraries that we are going to use for this project:"
   ]
  },
  {
   "cell_type": "code",
   "execution_count": 2,
   "metadata": {
    "metadata": {}
   },
   "outputs": [],
   "source": [
    "import pandas as pd\n",
    "import sqlite3\n",
    "import os\n",
    "import requests\n",
    "import shutil\n",
    "import seaborn as sns\n",
    "import matplotlib.pyplot as plt\n",
    "import plotly.express as px"
   ]
  },
  {
   "cell_type": "markdown",
   "metadata": {},
   "source": [
    "[Back to Contents](#contents)\n",
    "\n",
    "---"
   ]
  },
  {
   "cell_type": "markdown",
   "metadata": {},
   "source": [
    "### Load/Download database"
   ]
  },
  {
   "cell_type": "markdown",
   "metadata": {},
   "source": [
    "We have access to an SQLite database with data on products, clients and sales. \n",
    "\n",
    "First let's check that it exists, and if doesn't, we'll download it."
   ]
  },
  {
   "cell_type": "code",
   "execution_count": 3,
   "metadata": {},
   "outputs": [],
   "source": [
    "# Local path to the Database\n",
    "db_directory_path = 'Data'\n",
    "db_file_path = os.path.join(db_directory_path, 'atliq_db.sqlite3')\n"
   ]
  },
  {
   "cell_type": "code",
   "execution_count": 4,
   "metadata": {},
   "outputs": [],
   "source": [
    "# Check if directory exists. If it doesn't, create it\n",
    "if not os.path.exists(db_directory_path):\n",
    "    os.makedirs(db_directory_path)\n"
   ]
  },
  {
   "cell_type": "code",
   "execution_count": 5,
   "metadata": {
    "metadata": {}
   },
   "outputs": [
    {
     "name": "stdout",
     "output_type": "stream",
     "text": [
      "Database found.\n"
     ]
    }
   ],
   "source": [
    "# Check if file exists. If it doesn't, download it\n",
    "if not os.path.exists(db_file_path):\n",
    "    print('Database not found. Downloading the file...')\n",
    "\n",
    "    db_url = 'https://practicum-content.s3.us-west-1.amazonaws.com/data-eng/databases/atliq_db.sqlite3'\n",
    "    \n",
    "    response = requests.get(db_url)\n",
    "    with open(db_file_path, 'wb') as f:\n",
    "        f.write(response.content)\n",
    "    \n",
    "    print('Database downloaded successfully!')\n",
    "else:\n",
    "    print('Database found.')\n"
   ]
  },
  {
   "cell_type": "markdown",
   "metadata": {},
   "source": [
    "We have our database. But we don't want to directly change the raw data, and we will be working directly with the database as much as possible. So we'll make a copy and modify that instead."
   ]
  },
  {
   "cell_type": "code",
   "execution_count": 6,
   "metadata": {
    "metadata": {}
   },
   "outputs": [
    {
     "name": "stdout",
     "output_type": "stream",
     "text": [
      "Previous copy found.\n"
     ]
    }
   ],
   "source": [
    "# Check if the copy exists\n",
    "work_db_path = os.path.join(db_directory_path, 'atliq_db_processed.sqlite3')\n",
    "\n",
    "if os.path.exists(work_db_path):\n",
    "    print('Previous copy found.')\n",
    "else:\n",
    "    shutil.copyfile(db_file_path, work_db_path)\n",
    "    print('Database duplicated.')\n"
   ]
  },
  {
   "cell_type": "markdown",
   "metadata": {},
   "source": [
    "We can now connect to our working copy and start processing it. If we found that the copy already exists, we can assume that it is already processed, and we can skip those steps."
   ]
  },
  {
   "cell_type": "code",
   "execution_count": 7,
   "metadata": {},
   "outputs": [],
   "source": [
    "# Connect to the DB\n",
    "con = sqlite3.connect(work_db_path)"
   ]
  },
  {
   "cell_type": "markdown",
   "metadata": {},
   "source": [
    "Let's check that we have access to the tables that we are supposed to."
   ]
  },
  {
   "cell_type": "code",
   "execution_count": 8,
   "metadata": {
    "metadata": {}
   },
   "outputs": [
    {
     "name": "stdout",
     "output_type": "stream",
     "text": [
      "('dim_customer',)\n",
      "('dim_product',)\n",
      "('fact_pre_discount',)\n",
      "('fact_manufacturing_cost',)\n",
      "('fact_gross_price',)\n",
      "('fact_sales_monthly',)\n"
     ]
    }
   ],
   "source": [
    "# Check all tables\n",
    "cursor = con.cursor()\n",
    "cursor.execute(\"SELECT name FROM sqlite_master WHERE type='table';\")\n",
    "print(*cursor.fetchall(), sep='\\n')"
   ]
  },
  {
   "cell_type": "markdown",
   "metadata": {},
   "source": [
    "[Back to contents](#contents)\n",
    "\n",
    "---"
   ]
  },
  {
   "cell_type": "markdown",
   "metadata": {},
   "source": [
    "### Helper functions"
   ]
  },
  {
   "cell_type": "markdown",
   "metadata": {},
   "source": [
    "Lets check for missing values. We can't load the whole tables into pandas, so we'll have to rely only on SQL queries.\n",
    "\n",
    "Lets build a function to help us, similar to pandas info().\n",
    "\n",
    "We want to display the following:\n",
    "- Table name\n",
    "- Row count\n",
    "- Column info, including name, type, null count, and Primary Key status."
   ]
  },
  {
   "cell_type": "code",
   "execution_count": 9,
   "metadata": {},
   "outputs": [],
   "source": [
    "# Count rows in the table\n",
    "def row_count(table: str):\n",
    "    query = f\"\"\"\n",
    "    SELECT COUNT(*)\n",
    "    from {table}\n",
    "    \"\"\"\n",
    "\n",
    "    cursor.execute(query)\n",
    "    return cursor.fetchone()[0]"
   ]
  },
  {
   "cell_type": "code",
   "execution_count": 10,
   "metadata": {},
   "outputs": [],
   "source": [
    "# Find Null values in a column\n",
    "def count_nulls_in_column(column: str, table: str):\n",
    "    query = f\"\"\"\n",
    "    SELECT COUNT(*)\n",
    "    FROM {table}\n",
    "    WHERE {column} IS NULL\n",
    "    \"\"\"\n",
    "\n",
    "    cursor.execute(query)\n",
    "    return cursor.fetchone()[0]"
   ]
  },
  {
   "cell_type": "code",
   "execution_count": 11,
   "metadata": {},
   "outputs": [],
   "source": [
    "# Get all the column names from a table\n",
    "def get_column_names(table: str):\n",
    "    query = f\"\"\"\n",
    "    PRAGMA table_info({table}) \n",
    "    \"\"\"\n",
    "\n",
    "    cursor.execute(query)\n",
    "    result = cursor.fetchall()\n",
    "    name_pos_in_row = 1\n",
    "\n",
    "    column_names = []\n",
    "    for row in result:\n",
    "        column_names.append(row[name_pos_in_row])\n",
    "\n",
    "    return column_names"
   ]
  },
  {
   "cell_type": "code",
   "execution_count": 12,
   "metadata": {},
   "outputs": [],
   "source": [
    "# Check missing values in all columns of the table\n",
    "def check_nulls(table: str):\n",
    "    column_names = get_column_names(table)\n",
    "    null_counts = []\n",
    "    for column in column_names:\n",
    "        null_counts.append((column, count_nulls_in_column(column, table)))\n",
    "\n",
    "    return null_counts"
   ]
  },
  {
   "cell_type": "code",
   "execution_count": 13,
   "metadata": {},
   "outputs": [],
   "source": [
    "def table_schema(table: str):\n",
    "    query = f\"\"\"\n",
    "    PRAGMA table_info({table})\n",
    "    \"\"\"\n",
    "\n",
    "    return pd.read_sql_query(query, con)[['name', 'type', 'pk']]\n"
   ]
  },
  {
   "cell_type": "code",
   "execution_count": 14,
   "metadata": {},
   "outputs": [],
   "source": [
    "def get_table_info(table: str):\n",
    "    print(f'Table: {table}')\n",
    "    print(f'Rows: {row_count(table)}')\n",
    "    null_count = check_nulls(table)\n",
    "    schema = table_schema(table)\n",
    "    schema['nulls'] = [t[1] for t in null_count]\n",
    "    display(schema)"
   ]
  },
  {
   "cell_type": "markdown",
   "metadata": {},
   "source": [
    "To find duplicates, we'll compare the row count of a regular `SELECT` vs a `SELECT DISTINCT`, using relevant columns for each table."
   ]
  },
  {
   "cell_type": "code",
   "execution_count": 15,
   "metadata": {},
   "outputs": [],
   "source": [
    "def count_duplicates(table: str, list_cols: list, verbose=True):\n",
    "\n",
    "    columns = ', '.join(list_cols)\n",
    "\n",
    "    query = f\"\"\"\n",
    "    SELECT COUNT(*)\n",
    "    FROM {table}\n",
    "    \"\"\"\n",
    "    cursor.execute(query)\n",
    "    sel = cursor.fetchone()[0]\n",
    "\n",
    "    query = f\"\"\"\n",
    "    SELECT DISTINCT COUNT(*)\n",
    "    FROM (\n",
    "        SELECT DISTINCT {columns}\n",
    "        FROM {table}\n",
    "    )\n",
    "    \"\"\"\n",
    "    cursor.execute(query)\n",
    "    dis = cursor.fetchone()[0]\n",
    "    duplicate_count = sel - dis\n",
    "\n",
    "    if verbose:\n",
    "        print(f'Table: {table}')\n",
    "        print(f'Duplicates found: {duplicate_count}')\n",
    "    return(duplicate_count)\n"
   ]
  },
  {
   "cell_type": "markdown",
   "metadata": {},
   "source": [
    "[Back to Contents](#contents)\n",
    "\n",
    "---"
   ]
  },
  {
   "cell_type": "markdown",
   "metadata": {},
   "source": [
    "### Basic tables info"
   ]
  },
  {
   "cell_type": "markdown",
   "metadata": {},
   "source": [
    "With our function ready, lets check the info on our tables."
   ]
  },
  {
   "cell_type": "code",
   "execution_count": 16,
   "metadata": {
    "metadata": {}
   },
   "outputs": [
    {
     "name": "stdout",
     "output_type": "stream",
     "text": [
      "Table: dim_customer\n",
      "Rows: 209\n"
     ]
    },
    {
     "data": {
      "text/html": [
       "<div>\n",
       "<style scoped>\n",
       "    .dataframe tbody tr th:only-of-type {\n",
       "        vertical-align: middle;\n",
       "    }\n",
       "\n",
       "    .dataframe tbody tr th {\n",
       "        vertical-align: top;\n",
       "    }\n",
       "\n",
       "    .dataframe thead th {\n",
       "        text-align: right;\n",
       "    }\n",
       "</style>\n",
       "<table border=\"1\" class=\"dataframe\">\n",
       "  <thead>\n",
       "    <tr style=\"text-align: right;\">\n",
       "      <th></th>\n",
       "      <th>name</th>\n",
       "      <th>type</th>\n",
       "      <th>pk</th>\n",
       "      <th>nulls</th>\n",
       "    </tr>\n",
       "  </thead>\n",
       "  <tbody>\n",
       "    <tr>\n",
       "      <th>0</th>\n",
       "      <td>customer_code</td>\n",
       "      <td>INTEGER</td>\n",
       "      <td>0</td>\n",
       "      <td>0</td>\n",
       "    </tr>\n",
       "    <tr>\n",
       "      <th>1</th>\n",
       "      <td>customer</td>\n",
       "      <td>TEXT</td>\n",
       "      <td>0</td>\n",
       "      <td>0</td>\n",
       "    </tr>\n",
       "    <tr>\n",
       "      <th>2</th>\n",
       "      <td>platform</td>\n",
       "      <td>TEXT</td>\n",
       "      <td>0</td>\n",
       "      <td>0</td>\n",
       "    </tr>\n",
       "    <tr>\n",
       "      <th>3</th>\n",
       "      <td>channel</td>\n",
       "      <td>TEXT</td>\n",
       "      <td>0</td>\n",
       "      <td>0</td>\n",
       "    </tr>\n",
       "    <tr>\n",
       "      <th>4</th>\n",
       "      <td>market</td>\n",
       "      <td>TEXT</td>\n",
       "      <td>0</td>\n",
       "      <td>0</td>\n",
       "    </tr>\n",
       "    <tr>\n",
       "      <th>5</th>\n",
       "      <td>sub_zone</td>\n",
       "      <td>TEXT</td>\n",
       "      <td>0</td>\n",
       "      <td>0</td>\n",
       "    </tr>\n",
       "    <tr>\n",
       "      <th>6</th>\n",
       "      <td>region</td>\n",
       "      <td>TEXT</td>\n",
       "      <td>0</td>\n",
       "      <td>0</td>\n",
       "    </tr>\n",
       "  </tbody>\n",
       "</table>\n",
       "</div>"
      ],
      "text/plain": [
       "            name     type  pk  nulls\n",
       "0  customer_code  INTEGER   0      0\n",
       "1       customer     TEXT   0      0\n",
       "2       platform     TEXT   0      0\n",
       "3        channel     TEXT   0      0\n",
       "4         market     TEXT   0      0\n",
       "5       sub_zone     TEXT   0      0\n",
       "6         region     TEXT   0      0"
      ]
     },
     "metadata": {},
     "output_type": "display_data"
    },
    {
     "data": {
      "text/plain": [
       "None"
      ]
     },
     "metadata": {},
     "output_type": "display_data"
    },
    {
     "name": "stdout",
     "output_type": "stream",
     "text": [
      "(70002017, 'Atliq Exclusive', 'Brick & Mortar', 'Direct', 'India', 'India', 'APAC')\n",
      "(70002018, 'Atliq e Store', 'E-Commerce', 'Direct', 'India', 'India', 'APAC')\n",
      "(70003181, 'Atliq Exclusive', 'Brick & Mortar', 'Direct', 'Indonesia', 'ROA', 'APAC')\n",
      "(70003182, 'Atliq e Store', 'E-Commerce', 'Direct', 'Indonesia', 'ROA', 'APAC')\n",
      "(70004069, 'Atliq Exclusive', 'Brick & Mortar', 'Direct', 'Japan', 'ROA', 'APAC')\n"
     ]
    }
   ],
   "source": [
    "display(get_table_info('dim_customer'))\n",
    "cursor.execute(\"SELECT * FROM dim_customer LIMIT 5\")\n",
    "print(*cursor.fetchall(), sep='\\n')"
   ]
  },
  {
   "cell_type": "code",
   "execution_count": 17,
   "metadata": {
    "metadata": {}
   },
   "outputs": [
    {
     "name": "stdout",
     "output_type": "stream",
     "text": [
      "Table: dim_product\n",
      "Rows: 397\n"
     ]
    },
    {
     "data": {
      "text/html": [
       "<div>\n",
       "<style scoped>\n",
       "    .dataframe tbody tr th:only-of-type {\n",
       "        vertical-align: middle;\n",
       "    }\n",
       "\n",
       "    .dataframe tbody tr th {\n",
       "        vertical-align: top;\n",
       "    }\n",
       "\n",
       "    .dataframe thead th {\n",
       "        text-align: right;\n",
       "    }\n",
       "</style>\n",
       "<table border=\"1\" class=\"dataframe\">\n",
       "  <thead>\n",
       "    <tr style=\"text-align: right;\">\n",
       "      <th></th>\n",
       "      <th>name</th>\n",
       "      <th>type</th>\n",
       "      <th>pk</th>\n",
       "      <th>nulls</th>\n",
       "    </tr>\n",
       "  </thead>\n",
       "  <tbody>\n",
       "    <tr>\n",
       "      <th>0</th>\n",
       "      <td>product_code</td>\n",
       "      <td>TEXT</td>\n",
       "      <td>0</td>\n",
       "      <td>0</td>\n",
       "    </tr>\n",
       "    <tr>\n",
       "      <th>1</th>\n",
       "      <td>division</td>\n",
       "      <td>TEXT</td>\n",
       "      <td>0</td>\n",
       "      <td>0</td>\n",
       "    </tr>\n",
       "    <tr>\n",
       "      <th>2</th>\n",
       "      <td>segment</td>\n",
       "      <td>TEXT</td>\n",
       "      <td>0</td>\n",
       "      <td>0</td>\n",
       "    </tr>\n",
       "    <tr>\n",
       "      <th>3</th>\n",
       "      <td>category</td>\n",
       "      <td>TEXT</td>\n",
       "      <td>0</td>\n",
       "      <td>0</td>\n",
       "    </tr>\n",
       "    <tr>\n",
       "      <th>4</th>\n",
       "      <td>product</td>\n",
       "      <td>TEXT</td>\n",
       "      <td>0</td>\n",
       "      <td>0</td>\n",
       "    </tr>\n",
       "    <tr>\n",
       "      <th>5</th>\n",
       "      <td>variant</td>\n",
       "      <td>TEXT</td>\n",
       "      <td>0</td>\n",
       "      <td>0</td>\n",
       "    </tr>\n",
       "    <tr>\n",
       "      <th>6</th>\n",
       "      <td>display_name</td>\n",
       "      <td>VARCHAR(20)</td>\n",
       "      <td>0</td>\n",
       "      <td>379</td>\n",
       "    </tr>\n",
       "  </tbody>\n",
       "</table>\n",
       "</div>"
      ],
      "text/plain": [
       "           name         type  pk  nulls\n",
       "0  product_code         TEXT   0      0\n",
       "1      division         TEXT   0      0\n",
       "2       segment         TEXT   0      0\n",
       "3      category         TEXT   0      0\n",
       "4       product         TEXT   0      0\n",
       "5       variant         TEXT   0      0\n",
       "6  display_name  VARCHAR(20)   0    379"
      ]
     },
     "metadata": {},
     "output_type": "display_data"
    },
    {
     "name": "stdout",
     "output_type": "stream",
     "text": [
      "('A0118150101', 'P & A', 'Peripherals', 'Internal HDD', 'AQ Dracula HDD – 3.5 Inch SATA 6 Gb/s 5400 RPM 256 MB Cache', 'Standard', 'AQ Dracula HDD')\n",
      "('A0118150102', 'P & A', 'Peripherals', 'Internal HDD', 'AQ Dracula HDD – 3.5 Inch SATA 6 Gb/s 5400 RPM 256 MB Cache', 'Plus', 'AQ Dracula HDD')\n",
      "('A0118150103', 'P & A', 'Peripherals', 'Internal HDD', 'AQ Dracula HDD – 3.5 Inch SATA 6 Gb/s 5400 RPM 256 MB Cache', 'Premium', 'AQ Dracula HDD')\n",
      "('A0118150104', 'P & A', 'Peripherals', 'Internal HDD', 'AQ Dracula HDD – 3.5 Inch SATA 6 Gb/s 5400 RPM 256 MB Cache', 'Premium Plus', 'AQ Dracula HDD')\n",
      "('A0219150201', 'P & A', 'Peripherals', 'Internal HDD', 'AQ WereWolf NAS Internal Hard Drive HDD – 8.89 cm', 'Standard', 'AQ Werewolf NAS HDD')\n"
     ]
    }
   ],
   "source": [
    "get_table_info('dim_product')\n",
    "cursor.execute(\"SELECT * FROM dim_product LIMIT 5\")\n",
    "print(*cursor.fetchall(), sep='\\n')"
   ]
  },
  {
   "cell_type": "code",
   "execution_count": 18,
   "metadata": {
    "metadata": {}
   },
   "outputs": [
    {
     "name": "stdout",
     "output_type": "stream",
     "text": [
      "Table: fact_pre_discount\n",
      "Rows: 1045\n"
     ]
    },
    {
     "data": {
      "text/html": [
       "<div>\n",
       "<style scoped>\n",
       "    .dataframe tbody tr th:only-of-type {\n",
       "        vertical-align: middle;\n",
       "    }\n",
       "\n",
       "    .dataframe tbody tr th {\n",
       "        vertical-align: top;\n",
       "    }\n",
       "\n",
       "    .dataframe thead th {\n",
       "        text-align: right;\n",
       "    }\n",
       "</style>\n",
       "<table border=\"1\" class=\"dataframe\">\n",
       "  <thead>\n",
       "    <tr style=\"text-align: right;\">\n",
       "      <th></th>\n",
       "      <th>name</th>\n",
       "      <th>type</th>\n",
       "      <th>pk</th>\n",
       "      <th>nulls</th>\n",
       "    </tr>\n",
       "  </thead>\n",
       "  <tbody>\n",
       "    <tr>\n",
       "      <th>0</th>\n",
       "      <td>customer_code</td>\n",
       "      <td>INTEGER</td>\n",
       "      <td>0</td>\n",
       "      <td>0</td>\n",
       "    </tr>\n",
       "    <tr>\n",
       "      <th>1</th>\n",
       "      <td>fiscal_year</td>\n",
       "      <td>INTEGER</td>\n",
       "      <td>0</td>\n",
       "      <td>0</td>\n",
       "    </tr>\n",
       "    <tr>\n",
       "      <th>2</th>\n",
       "      <td>pre_invoice_discount_pct</td>\n",
       "      <td>float</td>\n",
       "      <td>0</td>\n",
       "      <td>0</td>\n",
       "    </tr>\n",
       "  </tbody>\n",
       "</table>\n",
       "</div>"
      ],
      "text/plain": [
       "                       name     type  pk  nulls\n",
       "0             customer_code  INTEGER   0      0\n",
       "1               fiscal_year  INTEGER   0      0\n",
       "2  pre_invoice_discount_pct    float   0      0"
      ]
     },
     "metadata": {},
     "output_type": "display_data"
    },
    {
     "name": "stdout",
     "output_type": "stream",
     "text": [
      "(70002017, 2018, 0.0824)\n",
      "(70002017, 2019, 0.0777)\n",
      "(70002017, 2020, 0.0735)\n",
      "(70002017, 2021, 0.0703)\n",
      "(70002017, 2022, 0.1057)\n"
     ]
    }
   ],
   "source": [
    "get_table_info('fact_pre_discount')\n",
    "cursor.execute(\"SELECT * FROM fact_pre_discount LIMIT 5\")\n",
    "print(*cursor.fetchall(), sep='\\n')"
   ]
  },
  {
   "cell_type": "code",
   "execution_count": 19,
   "metadata": {
    "metadata": {}
   },
   "outputs": [
    {
     "name": "stdout",
     "output_type": "stream",
     "text": [
      "Table: fact_manufacturing_cost\n",
      "Rows: 1182\n"
     ]
    },
    {
     "data": {
      "text/html": [
       "<div>\n",
       "<style scoped>\n",
       "    .dataframe tbody tr th:only-of-type {\n",
       "        vertical-align: middle;\n",
       "    }\n",
       "\n",
       "    .dataframe tbody tr th {\n",
       "        vertical-align: top;\n",
       "    }\n",
       "\n",
       "    .dataframe thead th {\n",
       "        text-align: right;\n",
       "    }\n",
       "</style>\n",
       "<table border=\"1\" class=\"dataframe\">\n",
       "  <thead>\n",
       "    <tr style=\"text-align: right;\">\n",
       "      <th></th>\n",
       "      <th>name</th>\n",
       "      <th>type</th>\n",
       "      <th>pk</th>\n",
       "      <th>nulls</th>\n",
       "    </tr>\n",
       "  </thead>\n",
       "  <tbody>\n",
       "    <tr>\n",
       "      <th>0</th>\n",
       "      <td>product_code</td>\n",
       "      <td>TEXT</td>\n",
       "      <td>0</td>\n",
       "      <td>0</td>\n",
       "    </tr>\n",
       "    <tr>\n",
       "      <th>1</th>\n",
       "      <td>cost_year</td>\n",
       "      <td>INTEGER</td>\n",
       "      <td>0</td>\n",
       "      <td>0</td>\n",
       "    </tr>\n",
       "    <tr>\n",
       "      <th>2</th>\n",
       "      <td>manufacturing_cost</td>\n",
       "      <td>float</td>\n",
       "      <td>0</td>\n",
       "      <td>0</td>\n",
       "    </tr>\n",
       "  </tbody>\n",
       "</table>\n",
       "</div>"
      ],
      "text/plain": [
       "                 name     type  pk  nulls\n",
       "0        product_code     TEXT   0      0\n",
       "1           cost_year  INTEGER   0      0\n",
       "2  manufacturing_cost    float   0      0"
      ]
     },
     "metadata": {},
     "output_type": "display_data"
    },
    {
     "name": "stdout",
     "output_type": "stream",
     "text": [
      "('A0118150101', 2018, 4.619)\n",
      "('A0118150101', 2019, 4.2033)\n",
      "('A0118150101', 2020, 5.0207)\n",
      "('A0118150101', 2021, 5.5172)\n",
      "('A0118150102', 2018, 5.6036)\n"
     ]
    }
   ],
   "source": [
    "get_table_info('fact_manufacturing_cost')\n",
    "cursor.execute(\"SELECT * FROM fact_manufacturing_cost LIMIT 5\")\n",
    "print(*cursor.fetchall(), sep='\\n')"
   ]
  },
  {
   "cell_type": "code",
   "execution_count": 20,
   "metadata": {
    "metadata": {}
   },
   "outputs": [
    {
     "name": "stdout",
     "output_type": "stream",
     "text": [
      "Table: fact_gross_price\n",
      "Rows: 1182\n"
     ]
    },
    {
     "data": {
      "text/html": [
       "<div>\n",
       "<style scoped>\n",
       "    .dataframe tbody tr th:only-of-type {\n",
       "        vertical-align: middle;\n",
       "    }\n",
       "\n",
       "    .dataframe tbody tr th {\n",
       "        vertical-align: top;\n",
       "    }\n",
       "\n",
       "    .dataframe thead th {\n",
       "        text-align: right;\n",
       "    }\n",
       "</style>\n",
       "<table border=\"1\" class=\"dataframe\">\n",
       "  <thead>\n",
       "    <tr style=\"text-align: right;\">\n",
       "      <th></th>\n",
       "      <th>name</th>\n",
       "      <th>type</th>\n",
       "      <th>pk</th>\n",
       "      <th>nulls</th>\n",
       "    </tr>\n",
       "  </thead>\n",
       "  <tbody>\n",
       "    <tr>\n",
       "      <th>0</th>\n",
       "      <td>product_code</td>\n",
       "      <td>TEXT</td>\n",
       "      <td>0</td>\n",
       "      <td>0</td>\n",
       "    </tr>\n",
       "    <tr>\n",
       "      <th>1</th>\n",
       "      <td>fiscal_year</td>\n",
       "      <td>INTEGER</td>\n",
       "      <td>0</td>\n",
       "      <td>0</td>\n",
       "    </tr>\n",
       "    <tr>\n",
       "      <th>2</th>\n",
       "      <td>gross_price</td>\n",
       "      <td>float</td>\n",
       "      <td>0</td>\n",
       "      <td>0</td>\n",
       "    </tr>\n",
       "  </tbody>\n",
       "</table>\n",
       "</div>"
      ],
      "text/plain": [
       "           name     type  pk  nulls\n",
       "0  product_code     TEXT   0      0\n",
       "1   fiscal_year  INTEGER   0      0\n",
       "2   gross_price    float   0      0"
      ]
     },
     "metadata": {},
     "output_type": "display_data"
    },
    {
     "name": "stdout",
     "output_type": "stream",
     "text": [
      "('A0118150101', 2018, 15.3952)\n",
      "('A0118150101', 2019, 14.4392)\n",
      "('A0118150101', 2020, 16.2323)\n",
      "('A0118150101', 2021, 19.0573)\n",
      "('A0118150102', 2018, 19.5875)\n"
     ]
    }
   ],
   "source": [
    "get_table_info('fact_gross_price')\n",
    "cursor.execute(\"SELECT * FROM fact_gross_price LIMIT 5\")\n",
    "print(*cursor.fetchall(), sep='\\n')"
   ]
  },
  {
   "cell_type": "code",
   "execution_count": 21,
   "metadata": {
    "metadata": {}
   },
   "outputs": [
    {
     "name": "stdout",
     "output_type": "stream",
     "text": [
      "Table: fact_sales_monthly\n",
      "Rows: 67178\n"
     ]
    },
    {
     "data": {
      "text/html": [
       "<div>\n",
       "<style scoped>\n",
       "    .dataframe tbody tr th:only-of-type {\n",
       "        vertical-align: middle;\n",
       "    }\n",
       "\n",
       "    .dataframe tbody tr th {\n",
       "        vertical-align: top;\n",
       "    }\n",
       "\n",
       "    .dataframe thead th {\n",
       "        text-align: right;\n",
       "    }\n",
       "</style>\n",
       "<table border=\"1\" class=\"dataframe\">\n",
       "  <thead>\n",
       "    <tr style=\"text-align: right;\">\n",
       "      <th></th>\n",
       "      <th>name</th>\n",
       "      <th>type</th>\n",
       "      <th>pk</th>\n",
       "      <th>nulls</th>\n",
       "    </tr>\n",
       "  </thead>\n",
       "  <tbody>\n",
       "    <tr>\n",
       "      <th>0</th>\n",
       "      <td>date</td>\n",
       "      <td>TEXT</td>\n",
       "      <td>0</td>\n",
       "      <td>0</td>\n",
       "    </tr>\n",
       "    <tr>\n",
       "      <th>1</th>\n",
       "      <td>product_code</td>\n",
       "      <td>TEXT</td>\n",
       "      <td>0</td>\n",
       "      <td>0</td>\n",
       "    </tr>\n",
       "    <tr>\n",
       "      <th>2</th>\n",
       "      <td>customer_code</td>\n",
       "      <td>INTEGER</td>\n",
       "      <td>0</td>\n",
       "      <td>0</td>\n",
       "    </tr>\n",
       "    <tr>\n",
       "      <th>3</th>\n",
       "      <td>sold_quantity</td>\n",
       "      <td>INTEGER</td>\n",
       "      <td>0</td>\n",
       "      <td>0</td>\n",
       "    </tr>\n",
       "    <tr>\n",
       "      <th>4</th>\n",
       "      <td>fiscal_year</td>\n",
       "      <td>INTEGER</td>\n",
       "      <td>0</td>\n",
       "      <td>0</td>\n",
       "    </tr>\n",
       "  </tbody>\n",
       "</table>\n",
       "</div>"
      ],
      "text/plain": [
       "            name     type  pk  nulls\n",
       "0           date     TEXT   0      0\n",
       "1   product_code     TEXT   0      0\n",
       "2  customer_code  INTEGER   0      0\n",
       "3  sold_quantity  INTEGER   0      0\n",
       "4    fiscal_year  INTEGER   0      0"
      ]
     },
     "metadata": {},
     "output_type": "display_data"
    },
    {
     "name": "stdout",
     "output_type": "stream",
     "text": [
      "('2017-09-01', 'A0118150101', 70002017, 51, 2018)\n",
      "('2017-09-01', 'A0118150101', 70002018, 77, 2018)\n",
      "('2017-09-01', 'A0118150101', 70003181, 17, 2018)\n",
      "('2017-09-01', 'A0118150101', 70003182, 6, 2018)\n",
      "('2017-09-01', 'A0118150101', 70006157, 5, 2018)\n"
     ]
    }
   ],
   "source": [
    "get_table_info('fact_sales_monthly')\n",
    "cursor.execute(\"SELECT * FROM fact_sales_monthly LIMIT 5\")\n",
    "print(*cursor.fetchall(), sep='\\n')"
   ]
  },
  {
   "cell_type": "markdown",
   "metadata": {},
   "source": [
    "There is only one missing value in the whole database. \n",
    "\n",
    "Curiously, none of the tables have primary keys declared. "
   ]
  },
  {
   "cell_type": "markdown",
   "metadata": {},
   "source": [
    "The product names are too long. Let's create shorter display names."
   ]
  },
  {
   "cell_type": "code",
   "execution_count": 22,
   "metadata": {},
   "outputs": [
    {
     "name": "stdout",
     "output_type": "stream",
     "text": [
      "('AQ Dracula HDD – 3.5 Inch SATA 6 Gb/s 5400 RPM 256 MB Cache',)\n",
      "('AQ WereWolf NAS Internal Hard Drive HDD – 8.89 cm',)\n",
      "('AQ Zion Saga',)\n",
      "('AQ Mforce Gen X',)\n"
     ]
    }
   ],
   "source": [
    "# Checking which products are used\n",
    "query = \"\"\"\n",
    "SELECT DISTINCT product\n",
    "FROM dim_product JOIN fact_sales_monthly USING (product_code)\n",
    "\"\"\"\n",
    "\n",
    "cursor.execute(query)\n",
    "print(*cursor.fetchall(), sep='\\n')"
   ]
  },
  {
   "cell_type": "markdown",
   "metadata": {},
   "source": [
    "We only have sales data on this 4 products. We can ignore the rest."
   ]
  },
  {
   "cell_type": "code",
   "execution_count": 23,
   "metadata": {},
   "outputs": [],
   "source": [
    "# Define display names\n",
    "display_names = [\n",
    "    'AQ Dracula HDD', \n",
    "    'AQ Werewolf NAS HDD',\n",
    "    'AQ Zion Saga',\n",
    "    'AQ Mforce Gen X'\n",
    "]"
   ]
  },
  {
   "cell_type": "code",
   "execution_count": 24,
   "metadata": {},
   "outputs": [
    {
     "name": "stdout",
     "output_type": "stream",
     "text": [
      "The column already exists.\n"
     ]
    }
   ],
   "source": [
    "# Add the new column\n",
    "query = \"\"\"\n",
    "ALTER TABLE dim_product\n",
    "ADD display_name VARCHAR(20)\n",
    "\"\"\"\n",
    "\n",
    "try:\n",
    "    cursor.execute(query);\n",
    "except sqlite3.OperationalError:\n",
    "    print('The column already exists.')\n"
   ]
  },
  {
   "cell_type": "code",
   "execution_count": 25,
   "metadata": {},
   "outputs": [],
   "source": [
    "# Update the table with the display names\n",
    "# We match the left part of the display names with the product names\n",
    "\n",
    "for name in display_names:\n",
    "    query = f\"\"\"\n",
    "    UPDATE dim_product\n",
    "    SET display_name = '{name}'\n",
    "    WHERE SUBSTR(product, 1, 15) LIKE SUBSTR('{name}', 1, 15) || '%'\n",
    "    \"\"\"\n",
    "\n",
    "    cursor.execute(query)\n"
   ]
  },
  {
   "cell_type": "code",
   "execution_count": 26,
   "metadata": {},
   "outputs": [
    {
     "name": "stdout",
     "output_type": "stream",
     "text": [
      "('AQ Dracula HDD', 'AQ Dracula HDD – 3.5 Inch SATA 6 Gb/s 5400 RPM 256 MB Cache')\n",
      "('AQ Werewolf NAS HDD', 'AQ WereWolf NAS Internal Hard Drive HDD – 8.89 cm')\n",
      "('AQ Zion Saga', 'AQ Zion Saga')\n",
      "('AQ Mforce Gen X', 'AQ Mforce Gen X')\n"
     ]
    }
   ],
   "source": [
    "# Check that the display names were correctly applied\n",
    "query = \"\"\"\n",
    "SELECT DISTINCT display_name, product\n",
    "FROM dim_product JOIN fact_sales_monthly USING (product_code)\n",
    "\"\"\"\n",
    "\n",
    "cursor.execute(query)\n",
    "print(*cursor.fetchall(), sep='\\n')"
   ]
  },
  {
   "cell_type": "code",
   "execution_count": 27,
   "metadata": {},
   "outputs": [],
   "source": [
    "con.commit()"
   ]
  },
  {
   "cell_type": "markdown",
   "metadata": {},
   "source": [
    "Now we can use those shorter display names for our charts."
   ]
  },
  {
   "cell_type": "markdown",
   "metadata": {},
   "source": [
    "[Back to contents](#contents)\n",
    "\n",
    "---"
   ]
  },
  {
   "cell_type": "markdown",
   "metadata": {},
   "source": [
    "### Missing values"
   ]
  },
  {
   "cell_type": "markdown",
   "metadata": {},
   "source": [
    "There is only one row with missing values in the whole Database. Let's print that row."
   ]
  },
  {
   "cell_type": "code",
   "execution_count": 28,
   "metadata": {},
   "outputs": [
    {
     "name": "stdout",
     "output_type": "stream",
     "text": [
      "\n"
     ]
    }
   ],
   "source": [
    "query='''\n",
    "SELECT *\n",
    "FROM fact_sales_monthly\n",
    "WHERE fiscal_year IS NULL\n",
    "'''\n",
    "\n",
    "cursor.execute(query)\n",
    "print(*cursor.fetchall(), sep='\\n')"
   ]
  },
  {
   "cell_type": "markdown",
   "metadata": {},
   "source": [
    "It's for product `A0` during `June 2019`. It could mean that this product didn't get any sales that month. Let's see some more info about it."
   ]
  },
  {
   "cell_type": "code",
   "execution_count": 29,
   "metadata": {
    "metadata": {}
   },
   "outputs": [
    {
     "name": "stdout",
     "output_type": "stream",
     "text": [
      "\n"
     ]
    }
   ],
   "source": [
    "# Look for other sales of this product\n",
    "query='''\n",
    "SELECT *\n",
    "FROM fact_sales_monthly\n",
    "WHERE product_code = \"A0\"\n",
    "'''\n",
    "\n",
    "cursor.execute(query)\n",
    "print(*cursor.fetchall(), sep='\\n')"
   ]
  },
  {
   "cell_type": "markdown",
   "metadata": {},
   "source": [
    "There are no other record of sales of this product."
   ]
  },
  {
   "cell_type": "code",
   "execution_count": 30,
   "metadata": {
    "metadata": {}
   },
   "outputs": [
    {
     "name": "stdout",
     "output_type": "stream",
     "text": [
      "\n"
     ]
    }
   ],
   "source": [
    "# What product is this\n",
    "query='''\n",
    "SELECT *\n",
    "FROM dim_product\n",
    "WHERE product_code = \"A0\"\n",
    "'''\n",
    "\n",
    "cursor.execute(query)\n",
    "print(*cursor.fetchall(), sep='\\n')"
   ]
  },
  {
   "cell_type": "markdown",
   "metadata": {},
   "source": [
    "There is no register of this product in `dim_product`. It doesn't exist. We can delete this row."
   ]
  },
  {
   "cell_type": "code",
   "execution_count": 31,
   "metadata": {
    "metadata": {}
   },
   "outputs": [
    {
     "name": "stdout",
     "output_type": "stream",
     "text": [
      "\n"
     ]
    }
   ],
   "source": [
    "# What product is this\n",
    "query='''\n",
    "DELETE \n",
    "FROM fact_sales_monthly\n",
    "WHERE product_code = \"A0\"\n",
    "'''\n",
    "\n",
    "cursor.execute(query)\n",
    "print(*cursor.fetchall(), sep='\\n')\n",
    "\n",
    "con.commit()"
   ]
  },
  {
   "cell_type": "markdown",
   "metadata": {},
   "source": [
    "[Back to Contents](#contents)\n",
    "\n",
    "---"
   ]
  },
  {
   "cell_type": "markdown",
   "metadata": {},
   "source": [
    "### Duplicates"
   ]
  },
  {
   "cell_type": "markdown",
   "metadata": {},
   "source": [
    "The tables don't have Primary keys set up. That means it's possible that some of them have duplicated values in critical columns.\n",
    "\n",
    "We'll be examining various column combinations in each table. Unless we encounter a non-zero value, we'll proceed to the next one."
   ]
  },
  {
   "cell_type": "code",
   "execution_count": 32,
   "metadata": {
    "metadata": {}
   },
   "outputs": [
    {
     "name": "stdout",
     "output_type": "stream",
     "text": [
      "Table: dim_customer\n",
      "Duplicates found: 0\n"
     ]
    }
   ],
   "source": [
    "# No duplicate customer codes\n",
    "table = 'dim_customer'\n",
    "columns = ['customer_code']\n",
    "count_duplicates(table, columns);"
   ]
  },
  {
   "cell_type": "code",
   "execution_count": 33,
   "metadata": {
    "metadata": {}
   },
   "outputs": [
    {
     "name": "stdout",
     "output_type": "stream",
     "text": [
      "Table: dim_customer\n",
      "Duplicates found: 101\n"
     ]
    }
   ],
   "source": [
    "# Customer codes are unique to the ['customer', 'platform', 'channel', 'region'] combination\n",
    "table = 'dim_customer'\n",
    "columns = ['customer', 'platform', 'channel', 'region']\n",
    "count_duplicates(table, columns);"
   ]
  },
  {
   "cell_type": "markdown",
   "metadata": {},
   "source": [
    "We got duplicates here. It's possible that the batabase notes are mistaken and `customer_code` is given by market, instead of by region."
   ]
  },
  {
   "cell_type": "code",
   "execution_count": 34,
   "metadata": {
    "metadata": {}
   },
   "outputs": [
    {
     "name": "stdout",
     "output_type": "stream",
     "text": [
      "Table: dim_customer\n",
      "Duplicates found: 0\n"
     ]
    }
   ],
   "source": [
    "# Check if adding 'market' to the previous query makes the results unique\n",
    "table = 'dim_customer'\n",
    "columns = ['customer', 'platform', 'channel', 'region', 'sub_zone', 'market']\n",
    "count_duplicates(table, columns);"
   ]
  },
  {
   "cell_type": "markdown",
   "metadata": {},
   "source": [
    "It seems to be the case. We can move on."
   ]
  },
  {
   "cell_type": "code",
   "execution_count": 35,
   "metadata": {
    "metadata": {}
   },
   "outputs": [
    {
     "name": "stdout",
     "output_type": "stream",
     "text": [
      "Table: dim_product\n",
      "Duplicates found: 0\n"
     ]
    }
   ],
   "source": [
    "# No duplicate product_code\n",
    "table = 'dim_product'\n",
    "columns = ['product_code']\n",
    "count_duplicates(table, columns);"
   ]
  },
  {
   "cell_type": "code",
   "execution_count": 36,
   "metadata": {
    "metadata": {}
   },
   "outputs": [
    {
     "name": "stdout",
     "output_type": "stream",
     "text": [
      "Table: dim_product\n",
      "Duplicates found: 0\n"
     ]
    }
   ],
   "source": [
    "# No duplicate variants for the same product\n",
    "table = 'dim_product'\n",
    "columns = ['product', 'variant']\n",
    "count_duplicates(table, columns);"
   ]
  },
  {
   "cell_type": "code",
   "execution_count": 37,
   "metadata": {
    "metadata": {}
   },
   "outputs": [
    {
     "name": "stdout",
     "output_type": "stream",
     "text": [
      "Table: dim_product\n",
      "Duplicates found: 0\n"
     ]
    }
   ],
   "source": [
    "# No duplicate category for the same product variant\n",
    "table = 'dim_product'\n",
    "columns = ['category', 'product', 'variant']\n",
    "count_duplicates(table, columns);"
   ]
  },
  {
   "cell_type": "code",
   "execution_count": 38,
   "metadata": {},
   "outputs": [
    {
     "name": "stdout",
     "output_type": "stream",
     "text": [
      "Table: dim_product\n",
      "Duplicates found: 0\n"
     ]
    }
   ],
   "source": [
    "# No duplicate segment for the same category product variant\n",
    "table = 'dim_product'\n",
    "columns = ['segment', 'category', 'product', 'variant']\n",
    "count_duplicates(table, columns);"
   ]
  },
  {
   "cell_type": "code",
   "execution_count": 39,
   "metadata": {
    "metadata": {}
   },
   "outputs": [
    {
     "name": "stdout",
     "output_type": "stream",
     "text": [
      "Table: dim_product\n",
      "Duplicates found: 0\n"
     ]
    }
   ],
   "source": [
    "# No duplicate division for the same category product variant\n",
    "table = 'dim_product'\n",
    "columns = ['division', 'segment', 'category', 'product', 'variant']\n",
    "count_duplicates(table, columns);"
   ]
  },
  {
   "cell_type": "code",
   "execution_count": 40,
   "metadata": {},
   "outputs": [
    {
     "name": "stdout",
     "output_type": "stream",
     "text": [
      "Table: dim_product\n",
      "Duplicates found: 0\n"
     ]
    }
   ],
   "source": [
    "# The combination ['product', 'category', 'variant', 'segment', 'division'] should be unique\n",
    "table = 'dim_product'\n",
    "columns = ['product', 'category', 'variant', 'segment', 'division']\n",
    "count_duplicates(table, columns);"
   ]
  },
  {
   "cell_type": "code",
   "execution_count": 41,
   "metadata": {
    "metadata": {}
   },
   "outputs": [
    {
     "name": "stdout",
     "output_type": "stream",
     "text": [
      "Table: fact_pre_discount\n",
      "Duplicates found: 0\n"
     ]
    }
   ],
   "source": [
    "# Each customer_code should have only one discount per fiscal_year\n",
    "table = 'fact_pre_discount'\n",
    "columns = ['customer_code', 'fiscal_year']\n",
    "count_duplicates(table, columns);"
   ]
  },
  {
   "cell_type": "code",
   "execution_count": 42,
   "metadata": {
    "metadata": {}
   },
   "outputs": [
    {
     "name": "stdout",
     "output_type": "stream",
     "text": [
      "Table: fact_manufacturing_cost\n",
      "Duplicates found: 0\n"
     ]
    }
   ],
   "source": [
    "# Each product_code should have only one cost per year\n",
    "table = 'fact_manufacturing_cost'\n",
    "columns = ['product_code', 'cost_year']\n",
    "count_duplicates(table, columns);"
   ]
  },
  {
   "cell_type": "code",
   "execution_count": 43,
   "metadata": {
    "metadata": {}
   },
   "outputs": [
    {
     "name": "stdout",
     "output_type": "stream",
     "text": [
      "Table: fact_gross_price\n",
      "Duplicates found: 0\n"
     ]
    }
   ],
   "source": [
    "# Each product_code should have only one price per year\n",
    "table = 'fact_gross_price'\n",
    "columns = ['product_code', 'fiscal_year']\n",
    "count_duplicates(table, columns);"
   ]
  },
  {
   "cell_type": "code",
   "execution_count": 44,
   "metadata": {
    "metadata": {}
   },
   "outputs": [
    {
     "name": "stdout",
     "output_type": "stream",
     "text": [
      "Table: fact_sales_monthly\n",
      "Duplicates found: 0\n"
     ]
    }
   ],
   "source": [
    "# The sales data should be aggrergated by customer, product and date.\n",
    "table = 'fact_sales_monthly'\n",
    "columns = ['date', 'product_code', 'customer_code']\n",
    "count_duplicates(table, columns);"
   ]
  },
  {
   "cell_type": "markdown",
   "metadata": {},
   "source": [
    "We only found duplicates in `dim_customer`, and they are easily explainable. There is nothing to fix here."
   ]
  },
  {
   "cell_type": "markdown",
   "metadata": {},
   "source": [
    "[Back to Contents](#contents)\n",
    "\n",
    "---"
   ]
  },
  {
   "cell_type": "markdown",
   "metadata": {},
   "source": [
    "### Other"
   ]
  },
  {
   "cell_type": "markdown",
   "metadata": {},
   "source": [
    "We should check the consistency of the data that we have, and that it obeys the rules stated in the Database documentation."
   ]
  },
  {
   "cell_type": "markdown",
   "metadata": {},
   "source": [
    "Let's see if the time period is the same in all tables."
   ]
  },
  {
   "cell_type": "code",
   "execution_count": 45,
   "metadata": {},
   "outputs": [
    {
     "data": {
      "text/plain": [
       "(2018, 2022)"
      ]
     },
     "execution_count": 45,
     "metadata": {},
     "output_type": "execute_result"
    }
   ],
   "source": [
    "# Period for fact_pre_discount data\n",
    "query = \"\"\"\n",
    "SELECT MIN(fiscal_year), MAX(fiscal_year)\n",
    "FROM fact_pre_discount\n",
    "\"\"\"\n",
    "\n",
    "cursor.execute(query)\n",
    "cursor.fetchone()"
   ]
  },
  {
   "cell_type": "code",
   "execution_count": 46,
   "metadata": {
    "metadata": {}
   },
   "outputs": [
    {
     "data": {
      "text/plain": [
       "(2018, 2022)"
      ]
     },
     "execution_count": 46,
     "metadata": {},
     "output_type": "execute_result"
    }
   ],
   "source": [
    "# Period for fact_manufacturing_cost data\n",
    "query = \"\"\"\n",
    "SELECT MIN(cost_year), MAX(cost_year)\n",
    "FROM fact_manufacturing_cost\n",
    "\"\"\"\n",
    "\n",
    "cursor.execute(query)\n",
    "cursor.fetchone()"
   ]
  },
  {
   "cell_type": "code",
   "execution_count": 47,
   "metadata": {
    "metadata": {}
   },
   "outputs": [
    {
     "data": {
      "text/plain": [
       "(2018, 2022)"
      ]
     },
     "execution_count": 47,
     "metadata": {},
     "output_type": "execute_result"
    }
   ],
   "source": [
    "# Period for fact_gross_price data\n",
    "query = \"\"\"\n",
    "SELECT MIN(fiscal_year), MAX(fiscal_year)\n",
    "FROM fact_gross_price\n",
    "\"\"\"\n",
    "\n",
    "cursor.execute(query)\n",
    "cursor.fetchone()"
   ]
  },
  {
   "cell_type": "code",
   "execution_count": 48,
   "metadata": {
    "metadata": {}
   },
   "outputs": [
    {
     "data": {
      "text/plain": [
       "(2018, 2022)"
      ]
     },
     "execution_count": 48,
     "metadata": {},
     "output_type": "execute_result"
    }
   ],
   "source": [
    "# Period for fact_sales_monthly data\n",
    "query = \"\"\"\n",
    "SELECT MIN(fiscal_year), MAX(fiscal_year)\n",
    "FROM fact_sales_monthly\n",
    "\"\"\"\n",
    "\n",
    "cursor.execute(query)\n",
    "cursor.fetchone()"
   ]
  },
  {
   "cell_type": "markdown",
   "metadata": {},
   "source": [
    "All data is from fiscal years `2018` to `2022`"
   ]
  },
  {
   "cell_type": "markdown",
   "metadata": {},
   "source": [
    "---"
   ]
  },
  {
   "cell_type": "markdown",
   "metadata": {},
   "source": [
    "Some columns are supposed to have only certain values. Let's make sure that's the case, and there are no errors or typos."
   ]
  },
  {
   "cell_type": "code",
   "execution_count": 49,
   "metadata": {},
   "outputs": [
    {
     "name": "stdout",
     "output_type": "stream",
     "text": [
      "('Brick & Mortar',)\n",
      "('E-Commerce',)\n"
     ]
    }
   ],
   "source": [
    "# dim_customer.platform should have 2 values\n",
    "query = \"\"\"\n",
    "SELECT DISTINCT platform\n",
    "FROM dim_customer\n",
    "\"\"\"\n",
    "cursor.execute(query)\n",
    "print(*cursor.fetchall(), sep=\"\\n\")"
   ]
  },
  {
   "cell_type": "code",
   "execution_count": 50,
   "metadata": {},
   "outputs": [
    {
     "name": "stdout",
     "output_type": "stream",
     "text": [
      "('Direct',)\n",
      "('Distributor',)\n",
      "('Retailer',)\n"
     ]
    }
   ],
   "source": [
    "# dim_customer.channel should have 3 values\n",
    "query = \"\"\"\n",
    "SELECT DISTINCT channel\n",
    "FROM dim_customer\n",
    "\"\"\"\n",
    "cursor.execute(query)\n",
    "print(*cursor.fetchall(), sep=\"\\n\")"
   ]
  },
  {
   "cell_type": "code",
   "execution_count": 51,
   "metadata": {
    "metadata": {}
   },
   "outputs": [
    {
     "name": "stdout",
     "output_type": "stream",
     "text": [
      "('P & A',)\n",
      "('PC',)\n",
      "('N & S',)\n"
     ]
    }
   ],
   "source": [
    "# dim_product.division should have 3 values\n",
    "query = \"\"\"\n",
    "SELECT DISTINCT division\n",
    "FROM dim_product\n",
    "\"\"\"\n",
    "cursor.execute(query)\n",
    "print(*cursor.fetchall(), sep=\"\\n\")"
   ]
  },
  {
   "cell_type": "code",
   "execution_count": 52,
   "metadata": {
    "metadata": {}
   },
   "outputs": [
    {
     "name": "stdout",
     "output_type": "stream",
     "text": [
      "('Peripherals',)\n",
      "('Accessories',)\n",
      "('Notebook',)\n",
      "('Desktop',)\n",
      "('Storage',)\n",
      "('Networking',)\n"
     ]
    }
   ],
   "source": [
    "# dim_product.segment should have 6 values\n",
    "query = \"\"\"\n",
    "SELECT DISTINCT segment\n",
    "FROM dim_product\n",
    "\"\"\"\n",
    "cursor.execute(query)\n",
    "print(*cursor.fetchall(), sep=\"\\n\")"
   ]
  },
  {
   "cell_type": "markdown",
   "metadata": {},
   "source": [
    "---"
   ]
  },
  {
   "cell_type": "markdown",
   "metadata": {},
   "source": [
    "There are some relationships that should be constant. For example, each market belongs to exactly one sub_zone. Let's check those relationships next.\n",
    "\n",
    "The following cells should output `1` if there is no errors."
   ]
  },
  {
   "cell_type": "code",
   "execution_count": 53,
   "metadata": {
    "metadata": {}
   },
   "outputs": [
    {
     "name": "stdout",
     "output_type": "stream",
     "text": [
      "Max platform count: 1\n"
     ]
    }
   ],
   "source": [
    "# Each dim_customer.customer_code should have 1 platform\n",
    "query = \"\"\"\n",
    "SELECT customer_code, count(platform) as platform_count\n",
    "FROM dim_customer\n",
    "GROUP BY customer_code\n",
    "ORDER BY platform_count DESC\n",
    "\"\"\"\n",
    "cursor.execute(query)\n",
    "print (f'Max platform count: {cursor.fetchone()[1]}')"
   ]
  },
  {
   "cell_type": "code",
   "execution_count": 54,
   "metadata": {
    "metadata": {}
   },
   "outputs": [
    {
     "name": "stdout",
     "output_type": "stream",
     "text": [
      "Max sub zone count: 1\n"
     ]
    }
   ],
   "source": [
    "# Each dim_customer.market should have 1 sub-zone\n",
    "query = \"\"\"\n",
    "SELECT market, count(sub_zone) as sub_zone_count\n",
    "FROM (\n",
    "    SELECT DISTINCT market, sub_zone\n",
    "    FROM dim_customer\n",
    ")\n",
    "GROUP BY market\n",
    "ORDER BY sub_zone_count DESC\n",
    "\"\"\"\n",
    "cursor.execute(query)\n",
    "print (f'Max sub zone count: {cursor.fetchone()[1]}')"
   ]
  },
  {
   "cell_type": "code",
   "execution_count": 55,
   "metadata": {
    "metadata": {}
   },
   "outputs": [
    {
     "name": "stdout",
     "output_type": "stream",
     "text": [
      "Max region count: 1\n"
     ]
    }
   ],
   "source": [
    "# Each dim_customer.market should have 1 region\n",
    "query = \"\"\"\n",
    "SELECT market, count(region) as region_count\n",
    "FROM (\n",
    "    SELECT DISTINCT market, region\n",
    "    FROM dim_customer\n",
    ")\n",
    "GROUP BY market\n",
    "ORDER BY region_count DESC\n",
    "\"\"\"\n",
    "cursor.execute(query)\n",
    "print (f'Max region count: {cursor.fetchone()[1]}')"
   ]
  },
  {
   "cell_type": "markdown",
   "metadata": {},
   "source": [
    "---"
   ]
  },
  {
   "cell_type": "markdown",
   "metadata": {},
   "source": [
    "Some columns should stay within reasonable values. Let's check that next."
   ]
  },
  {
   "cell_type": "code",
   "execution_count": 56,
   "metadata": {
    "metadata": {}
   },
   "outputs": [
    {
     "name": "stdout",
     "output_type": "stream",
     "text": [
      "(0.3099,)\n"
     ]
    }
   ],
   "source": [
    "# fact_pre_discount.pre_invoice_discount_pct should always be less than 1\n",
    "query = \"\"\"\n",
    "SELECT max(pre_invoice_discount_pct)\n",
    "FROM fact_pre_discount\n",
    "\"\"\"\n",
    "cursor.execute(query)\n",
    "print(*cursor.fetchall(), sep=\"\\n\")"
   ]
  },
  {
   "cell_type": "code",
   "execution_count": 57,
   "metadata": {
    "metadata": {}
   },
   "outputs": [
    {
     "name": "stdout",
     "output_type": "stream",
     "text": [
      "(2018, '2017-09-01', '2018-08-01')\n",
      "(2019, '2018-09-01', '2019-08-01')\n",
      "(2020, '2019-09-01', '2020-08-01')\n",
      "(2021, '2020-09-01', '2021-08-01')\n",
      "(2022, '2021-09-01', '2021-12-01')\n"
     ]
    }
   ],
   "source": [
    "# fact_sales_monthly.date consistently assigns the same months to the right fiscal_year\n",
    "query= \"\"\"\n",
    "SELECT fiscal_year, MIN(date), MAX(date)\n",
    "FROM fact_sales_monthly\n",
    "GROUP BY fiscal_year\n",
    "\"\"\"\n",
    "cursor.execute(query)\n",
    "print(*cursor.fetchall(), sep=\"\\n\")"
   ]
  },
  {
   "cell_type": "markdown",
   "metadata": {},
   "source": [
    "There is only 3 months worth of data for fiscal year 2022, as opposed to the full 12 months for the rest of the fiscal years."
   ]
  },
  {
   "cell_type": "code",
   "execution_count": 58,
   "metadata": {
    "metadata": {}
   },
   "outputs": [
    {
     "name": "stdout",
     "output_type": "stream",
     "text": [
      "(1,)\n"
     ]
    }
   ],
   "source": [
    "# fact_sales_monthly.sold_quantity should always be positive\n",
    "query= \"\"\"\n",
    "SELECT MIN(sold_quantity)\n",
    "FROM fact_sales_monthly\n",
    "\"\"\"\n",
    "cursor.execute(query)\n",
    "print(*cursor.fetchall(), sep=\"\\n\")"
   ]
  },
  {
   "cell_type": "markdown",
   "metadata": {},
   "source": [
    "There are some items with `sold_quantity` of `0`. It's possible that means that the item didn't get any sales that month, but unlikely. \n",
    "\n",
    "Let's see those sales."
   ]
  },
  {
   "cell_type": "code",
   "execution_count": 59,
   "metadata": {
    "metadata": {}
   },
   "outputs": [
    {
     "name": "stdout",
     "output_type": "stream",
     "text": [
      "\n"
     ]
    }
   ],
   "source": [
    "query= \"\"\"\n",
    "SELECT DISTINCT date, product_code, sold_quantity\n",
    "FROM fact_sales_monthly\n",
    "WHERE sold_quantity = 0\n",
    "\"\"\"\n",
    "cursor.execute(query)\n",
    "print(*cursor.fetchall(), sep=\"\\n\")"
   ]
  },
  {
   "cell_type": "markdown",
   "metadata": {},
   "source": [
    "All the sales with 0 quantity are from Sept 2017."
   ]
  },
  {
   "cell_type": "code",
   "execution_count": 60,
   "metadata": {
    "metadata": {}
   },
   "outputs": [
    {
     "name": "stdout",
     "output_type": "stream",
     "text": [
      "\n"
     ]
    }
   ],
   "source": [
    "query = \"\"\"\n",
    "SELECT DISTINCT product\n",
    "FROM (\n",
    "    SELECT *\n",
    "    FROM fact_sales_monthly\n",
    "    WHERE sold_quantity = 0\n",
    ") AS zero_sales \n",
    "INNER JOIN dim_product \n",
    "ON zero_sales.product_code = dim_product.product_code\n",
    "\"\"\"\n",
    "cursor.execute(query)\n",
    "print(*cursor.fetchall(), sep='\\n')"
   ]
  },
  {
   "cell_type": "markdown",
   "metadata": {},
   "source": [
    "Only two products have this issue. We can delete these rows."
   ]
  },
  {
   "cell_type": "code",
   "execution_count": 61,
   "metadata": {},
   "outputs": [],
   "source": [
    "query = \"\"\"\n",
    "DELETE\n",
    "FROM fact_sales_monthly\n",
    "WHERE sold_quantity = 0\n",
    "\"\"\"\n",
    "cursor.execute(query)\n",
    "con.commit()"
   ]
  },
  {
   "cell_type": "markdown",
   "metadata": {},
   "source": [
    "The data is ready for analysis."
   ]
  },
  {
   "cell_type": "markdown",
   "metadata": {},
   "source": [
    "[Back to contents](#contents)\n",
    "\n",
    "---"
   ]
  },
  {
   "cell_type": "markdown",
   "metadata": {},
   "source": [
    "## Analysis"
   ]
  },
  {
   "cell_type": "markdown",
   "metadata": {},
   "source": [
    "### Finding the bestsellers"
   ]
  },
  {
   "cell_type": "markdown",
   "metadata": {},
   "source": [
    "There are different approaches that we can take here. We can find sales by month to look for seasonality, by year to look at trends, or historical to see products that perform strongly year after year.\n",
    "\n",
    "We can look at units sold, revenue, or profit. There's also the option of ranking by total values, or by their contribution (ratio) towards the grand total.\n",
    "\n",
    "Right now we will only look at two of them, and leave the rest for the Dashboard.\n",
    "\n",
    "The ones that we'll analyze here are:\n",
    "- Most units sold in the last full year (2021)\n",
    "- Most profit generated per year\n",
    "\n",
    "We only have access to sales data of 4 of it's products. Lets see what they are."
   ]
  },
  {
   "cell_type": "code",
   "execution_count": 62,
   "metadata": {},
   "outputs": [
    {
     "data": {
      "text/html": [
       "<div>\n",
       "<style scoped>\n",
       "    .dataframe tbody tr th:only-of-type {\n",
       "        vertical-align: middle;\n",
       "    }\n",
       "\n",
       "    .dataframe tbody tr th {\n",
       "        vertical-align: top;\n",
       "    }\n",
       "\n",
       "    .dataframe thead th {\n",
       "        text-align: right;\n",
       "    }\n",
       "</style>\n",
       "<table border=\"1\" class=\"dataframe\">\n",
       "  <thead>\n",
       "    <tr style=\"text-align: right;\">\n",
       "      <th></th>\n",
       "      <th>product_code</th>\n",
       "      <th>division</th>\n",
       "      <th>segment</th>\n",
       "      <th>category</th>\n",
       "      <th>product</th>\n",
       "      <th>variant</th>\n",
       "      <th>display_name</th>\n",
       "    </tr>\n",
       "  </thead>\n",
       "  <tbody>\n",
       "    <tr>\n",
       "      <th>0</th>\n",
       "      <td>A0118150101</td>\n",
       "      <td>P &amp; A</td>\n",
       "      <td>Peripherals</td>\n",
       "      <td>Internal HDD</td>\n",
       "      <td>AQ Dracula HDD – 3.5 Inch SATA 6 Gb/s 5400 RPM...</td>\n",
       "      <td>Standard</td>\n",
       "      <td>AQ Dracula HDD</td>\n",
       "    </tr>\n",
       "  </tbody>\n",
       "</table>\n",
       "</div>"
      ],
      "text/plain": [
       "  product_code division      segment      category  \\\n",
       "0  A0118150101    P & A  Peripherals  Internal HDD   \n",
       "\n",
       "                                             product   variant    display_name  \n",
       "0  AQ Dracula HDD – 3.5 Inch SATA 6 Gb/s 5400 RPM...  Standard  AQ Dracula HDD  "
      ]
     },
     "execution_count": 62,
     "metadata": {},
     "output_type": "execute_result"
    }
   ],
   "source": [
    "pd.read_sql('SELECT * from dim_product LIMIT 1', con)"
   ]
  },
  {
   "cell_type": "code",
   "execution_count": 63,
   "metadata": {},
   "outputs": [
    {
     "data": {
      "text/html": [
       "<div>\n",
       "<style scoped>\n",
       "    .dataframe tbody tr th:only-of-type {\n",
       "        vertical-align: middle;\n",
       "    }\n",
       "\n",
       "    .dataframe tbody tr th {\n",
       "        vertical-align: top;\n",
       "    }\n",
       "\n",
       "    .dataframe thead th {\n",
       "        text-align: right;\n",
       "    }\n",
       "</style>\n",
       "<table border=\"1\" class=\"dataframe\">\n",
       "  <thead>\n",
       "    <tr style=\"text-align: right;\">\n",
       "      <th></th>\n",
       "      <th>display_name</th>\n",
       "      <th>product</th>\n",
       "      <th>division</th>\n",
       "      <th>segment</th>\n",
       "      <th>category</th>\n",
       "    </tr>\n",
       "  </thead>\n",
       "  <tbody>\n",
       "    <tr>\n",
       "      <th>0</th>\n",
       "      <td>AQ Dracula HDD</td>\n",
       "      <td>AQ Dracula HDD – 3.5 Inch SATA 6 Gb/s 5400 RPM...</td>\n",
       "      <td>P &amp; A</td>\n",
       "      <td>Peripherals</td>\n",
       "      <td>Internal HDD</td>\n",
       "    </tr>\n",
       "    <tr>\n",
       "      <th>1</th>\n",
       "      <td>AQ Mforce Gen X</td>\n",
       "      <td>AQ Mforce Gen X</td>\n",
       "      <td>P &amp; A</td>\n",
       "      <td>Peripherals</td>\n",
       "      <td>Graphic Card</td>\n",
       "    </tr>\n",
       "    <tr>\n",
       "      <th>2</th>\n",
       "      <td>AQ Werewolf NAS HDD</td>\n",
       "      <td>AQ WereWolf NAS Internal Hard Drive HDD – 8.89 cm</td>\n",
       "      <td>P &amp; A</td>\n",
       "      <td>Peripherals</td>\n",
       "      <td>Internal HDD</td>\n",
       "    </tr>\n",
       "    <tr>\n",
       "      <th>3</th>\n",
       "      <td>AQ Zion Saga</td>\n",
       "      <td>AQ Zion Saga</td>\n",
       "      <td>P &amp; A</td>\n",
       "      <td>Peripherals</td>\n",
       "      <td>Internal HDD</td>\n",
       "    </tr>\n",
       "  </tbody>\n",
       "</table>\n",
       "</div>"
      ],
      "text/plain": [
       "          display_name                                            product  \\\n",
       "0       AQ Dracula HDD  AQ Dracula HDD – 3.5 Inch SATA 6 Gb/s 5400 RPM...   \n",
       "1      AQ Mforce Gen X                                    AQ Mforce Gen X   \n",
       "2  AQ Werewolf NAS HDD  AQ WereWolf NAS Internal Hard Drive HDD – 8.89 cm   \n",
       "3         AQ Zion Saga                                       AQ Zion Saga   \n",
       "\n",
       "  division      segment      category  \n",
       "0    P & A  Peripherals  Internal HDD  \n",
       "1    P & A  Peripherals  Graphic Card  \n",
       "2    P & A  Peripherals  Internal HDD  \n",
       "3    P & A  Peripherals  Internal HDD  "
      ]
     },
     "execution_count": 63,
     "metadata": {},
     "output_type": "execute_result"
    }
   ],
   "source": [
    "query=\"\"\"\n",
    "SELECT display_name, product, division, segment, category\n",
    "FROM dim_product\n",
    "    JOIN fact_sales_monthly USING(product_code)\n",
    "GROUP BY product\n",
    "\"\"\"\n",
    "\n",
    "pd.read_sql(query, con)"
   ]
  },
  {
   "cell_type": "markdown",
   "metadata": {},
   "source": [
    "There isn't more details about the `Zion Saga`, so we'll assume it is a general use HDD, as the Dracula HDD.\n",
    "\n",
    "So there is two general HDD, one NAS HDD, and a graphic card."
   ]
  },
  {
   "cell_type": "markdown",
   "metadata": {},
   "source": [
    "We'll begin by finding the most units sold."
   ]
  },
  {
   "cell_type": "code",
   "execution_count": 64,
   "metadata": {
    "metadata": {}
   },
   "outputs": [
    {
     "data": {
      "text/html": [
       "<div>\n",
       "<style scoped>\n",
       "    .dataframe tbody tr th:only-of-type {\n",
       "        vertical-align: middle;\n",
       "    }\n",
       "\n",
       "    .dataframe tbody tr th {\n",
       "        vertical-align: top;\n",
       "    }\n",
       "\n",
       "    .dataframe thead th {\n",
       "        text-align: right;\n",
       "    }\n",
       "</style>\n",
       "<table border=\"1\" class=\"dataframe\">\n",
       "  <thead>\n",
       "    <tr style=\"text-align: right;\">\n",
       "      <th></th>\n",
       "      <th>fiscal_year</th>\n",
       "      <th>product_code</th>\n",
       "      <th>display_name</th>\n",
       "      <th>variant</th>\n",
       "      <th>units_sold</th>\n",
       "    </tr>\n",
       "  </thead>\n",
       "  <tbody>\n",
       "    <tr>\n",
       "      <th>0</th>\n",
       "      <td>2021</td>\n",
       "      <td>A0219150201</td>\n",
       "      <td>AQ Werewolf NAS HDD</td>\n",
       "      <td>Standard</td>\n",
       "      <td>100799</td>\n",
       "    </tr>\n",
       "    <tr>\n",
       "      <th>1</th>\n",
       "      <td>2021</td>\n",
       "      <td>A0118150101</td>\n",
       "      <td>AQ Dracula HDD</td>\n",
       "      <td>Standard</td>\n",
       "      <td>100039</td>\n",
       "    </tr>\n",
       "    <tr>\n",
       "      <th>2</th>\n",
       "      <td>2021</td>\n",
       "      <td>A0321150302</td>\n",
       "      <td>AQ Zion Saga</td>\n",
       "      <td>Plus</td>\n",
       "      <td>99955</td>\n",
       "    </tr>\n",
       "    <tr>\n",
       "      <th>3</th>\n",
       "      <td>2021</td>\n",
       "      <td>A0118150102</td>\n",
       "      <td>AQ Dracula HDD</td>\n",
       "      <td>Plus</td>\n",
       "      <td>98124</td>\n",
       "    </tr>\n",
       "    <tr>\n",
       "      <th>4</th>\n",
       "      <td>2021</td>\n",
       "      <td>A0118150104</td>\n",
       "      <td>AQ Dracula HDD</td>\n",
       "      <td>Premium Plus</td>\n",
       "      <td>97931</td>\n",
       "    </tr>\n",
       "  </tbody>\n",
       "</table>\n",
       "</div>"
      ],
      "text/plain": [
       "   fiscal_year product_code         display_name       variant  units_sold\n",
       "0         2021  A0219150201  AQ Werewolf NAS HDD      Standard      100799\n",
       "1         2021  A0118150101       AQ Dracula HDD      Standard      100039\n",
       "2         2021  A0321150302         AQ Zion Saga          Plus       99955\n",
       "3         2021  A0118150102       AQ Dracula HDD          Plus       98124\n",
       "4         2021  A0118150104       AQ Dracula HDD  Premium Plus       97931"
      ]
     },
     "execution_count": 64,
     "metadata": {},
     "output_type": "execute_result"
    }
   ],
   "source": [
    "query = \"\"\"\n",
    "SELECT fiscal_year, dim_product.product_code, display_name, variant, SUM(sold_quantity) AS units_sold\n",
    "FROM fact_sales_monthly \n",
    "    JOIN dim_product USING(product_code)\n",
    "WHERE fiscal_year = 2021\n",
    "GROUP BY fiscal_year, dim_product.product_code\n",
    "ORDER BY units_sold DESC\n",
    "\"\"\"\n",
    "\n",
    "best_sell_df = pd.read_sql_query(query, con)\n",
    "best_sell_df.head(5)\n"
   ]
  },
  {
   "cell_type": "code",
   "execution_count": 65,
   "metadata": {
    "metadata": {}
   },
   "outputs": [
    {
     "data": {
      "application/vnd.plotly.v1+json": {
       "config": {
        "plotlyServerURL": "https://plot.ly"
       },
       "data": [
        {
         "alignmentgroup": "True",
         "hovertemplate": "display_name=AQ Werewolf NAS HDD<br>Product variants=%{x}<br>Units sold=%{y}<extra></extra>",
         "legendgroup": "AQ Werewolf NAS HDD",
         "marker": {
          "color": "#636efa",
          "pattern": {
           "shape": ""
          }
         },
         "name": "AQ Werewolf NAS HDD",
         "offsetgroup": "AQ Werewolf NAS HDD",
         "orientation": "v",
         "showlegend": true,
         "textposition": "auto",
         "type": "bar",
         "x": [
          "A0219150201",
          "A0220150203",
          "A0219150202"
         ],
         "xaxis": "x",
         "y": [
          100799,
          97815,
          97091
         ],
         "yaxis": "y"
        },
        {
         "alignmentgroup": "True",
         "hovertemplate": "display_name=AQ Dracula HDD<br>Product variants=%{x}<br>Units sold=%{y}<extra></extra>",
         "legendgroup": "AQ Dracula HDD",
         "marker": {
          "color": "#EF553B",
          "pattern": {
           "shape": ""
          }
         },
         "name": "AQ Dracula HDD",
         "offsetgroup": "AQ Dracula HDD",
         "orientation": "v",
         "showlegend": true,
         "textposition": "auto",
         "type": "bar",
         "x": [
          "A0118150101",
          "A0118150102",
          "A0118150104",
          "A0118150103"
         ],
         "xaxis": "x",
         "y": [
          100039,
          98124,
          97931,
          94481
         ],
         "yaxis": "y"
        },
        {
         "alignmentgroup": "True",
         "hovertemplate": "display_name=AQ Zion Saga<br>Product variants=%{x}<br>Units sold=%{y}<extra></extra>",
         "legendgroup": "AQ Zion Saga",
         "marker": {
          "color": "#00cc96",
          "pattern": {
           "shape": ""
          }
         },
         "name": "AQ Zion Saga",
         "offsetgroup": "AQ Zion Saga",
         "orientation": "v",
         "showlegend": true,
         "textposition": "auto",
         "type": "bar",
         "x": [
          "A0321150302",
          "A0320150301",
          "A0321150303"
         ],
         "xaxis": "x",
         "y": [
          99955,
          97160,
          96691
         ],
         "yaxis": "y"
        },
        {
         "alignmentgroup": "True",
         "hovertemplate": "display_name=AQ Mforce Gen X<br>Product variants=%{x}<br>Units sold=%{y}<extra></extra>",
         "legendgroup": "AQ Mforce Gen X",
         "marker": {
          "color": "#ab63fa",
          "pattern": {
           "shape": ""
          }
         },
         "name": "AQ Mforce Gen X",
         "offsetgroup": "AQ Mforce Gen X",
         "orientation": "v",
         "showlegend": true,
         "textposition": "auto",
         "type": "bar",
         "x": [
          "A0418150103"
         ],
         "xaxis": "x",
         "y": [
          77857
         ],
         "yaxis": "y"
        }
       ],
       "layout": {
        "barmode": "relative",
        "legend": {
         "title": {
          "text": "Product"
         },
         "tracegroupgap": 0
        },
        "template": {
         "data": {
          "bar": [
           {
            "error_x": {
             "color": "#2a3f5f"
            },
            "error_y": {
             "color": "#2a3f5f"
            },
            "marker": {
             "line": {
              "color": "#E5ECF6",
              "width": 0.5
             },
             "pattern": {
              "fillmode": "overlay",
              "size": 10,
              "solidity": 0.2
             }
            },
            "type": "bar"
           }
          ],
          "barpolar": [
           {
            "marker": {
             "line": {
              "color": "#E5ECF6",
              "width": 0.5
             },
             "pattern": {
              "fillmode": "overlay",
              "size": 10,
              "solidity": 0.2
             }
            },
            "type": "barpolar"
           }
          ],
          "carpet": [
           {
            "aaxis": {
             "endlinecolor": "#2a3f5f",
             "gridcolor": "white",
             "linecolor": "white",
             "minorgridcolor": "white",
             "startlinecolor": "#2a3f5f"
            },
            "baxis": {
             "endlinecolor": "#2a3f5f",
             "gridcolor": "white",
             "linecolor": "white",
             "minorgridcolor": "white",
             "startlinecolor": "#2a3f5f"
            },
            "type": "carpet"
           }
          ],
          "choropleth": [
           {
            "colorbar": {
             "outlinewidth": 0,
             "ticks": ""
            },
            "type": "choropleth"
           }
          ],
          "contour": [
           {
            "colorbar": {
             "outlinewidth": 0,
             "ticks": ""
            },
            "colorscale": [
             [
              0,
              "#0d0887"
             ],
             [
              0.1111111111111111,
              "#46039f"
             ],
             [
              0.2222222222222222,
              "#7201a8"
             ],
             [
              0.3333333333333333,
              "#9c179e"
             ],
             [
              0.4444444444444444,
              "#bd3786"
             ],
             [
              0.5555555555555556,
              "#d8576b"
             ],
             [
              0.6666666666666666,
              "#ed7953"
             ],
             [
              0.7777777777777778,
              "#fb9f3a"
             ],
             [
              0.8888888888888888,
              "#fdca26"
             ],
             [
              1,
              "#f0f921"
             ]
            ],
            "type": "contour"
           }
          ],
          "contourcarpet": [
           {
            "colorbar": {
             "outlinewidth": 0,
             "ticks": ""
            },
            "type": "contourcarpet"
           }
          ],
          "heatmap": [
           {
            "colorbar": {
             "outlinewidth": 0,
             "ticks": ""
            },
            "colorscale": [
             [
              0,
              "#0d0887"
             ],
             [
              0.1111111111111111,
              "#46039f"
             ],
             [
              0.2222222222222222,
              "#7201a8"
             ],
             [
              0.3333333333333333,
              "#9c179e"
             ],
             [
              0.4444444444444444,
              "#bd3786"
             ],
             [
              0.5555555555555556,
              "#d8576b"
             ],
             [
              0.6666666666666666,
              "#ed7953"
             ],
             [
              0.7777777777777778,
              "#fb9f3a"
             ],
             [
              0.8888888888888888,
              "#fdca26"
             ],
             [
              1,
              "#f0f921"
             ]
            ],
            "type": "heatmap"
           }
          ],
          "heatmapgl": [
           {
            "colorbar": {
             "outlinewidth": 0,
             "ticks": ""
            },
            "colorscale": [
             [
              0,
              "#0d0887"
             ],
             [
              0.1111111111111111,
              "#46039f"
             ],
             [
              0.2222222222222222,
              "#7201a8"
             ],
             [
              0.3333333333333333,
              "#9c179e"
             ],
             [
              0.4444444444444444,
              "#bd3786"
             ],
             [
              0.5555555555555556,
              "#d8576b"
             ],
             [
              0.6666666666666666,
              "#ed7953"
             ],
             [
              0.7777777777777778,
              "#fb9f3a"
             ],
             [
              0.8888888888888888,
              "#fdca26"
             ],
             [
              1,
              "#f0f921"
             ]
            ],
            "type": "heatmapgl"
           }
          ],
          "histogram": [
           {
            "marker": {
             "pattern": {
              "fillmode": "overlay",
              "size": 10,
              "solidity": 0.2
             }
            },
            "type": "histogram"
           }
          ],
          "histogram2d": [
           {
            "colorbar": {
             "outlinewidth": 0,
             "ticks": ""
            },
            "colorscale": [
             [
              0,
              "#0d0887"
             ],
             [
              0.1111111111111111,
              "#46039f"
             ],
             [
              0.2222222222222222,
              "#7201a8"
             ],
             [
              0.3333333333333333,
              "#9c179e"
             ],
             [
              0.4444444444444444,
              "#bd3786"
             ],
             [
              0.5555555555555556,
              "#d8576b"
             ],
             [
              0.6666666666666666,
              "#ed7953"
             ],
             [
              0.7777777777777778,
              "#fb9f3a"
             ],
             [
              0.8888888888888888,
              "#fdca26"
             ],
             [
              1,
              "#f0f921"
             ]
            ],
            "type": "histogram2d"
           }
          ],
          "histogram2dcontour": [
           {
            "colorbar": {
             "outlinewidth": 0,
             "ticks": ""
            },
            "colorscale": [
             [
              0,
              "#0d0887"
             ],
             [
              0.1111111111111111,
              "#46039f"
             ],
             [
              0.2222222222222222,
              "#7201a8"
             ],
             [
              0.3333333333333333,
              "#9c179e"
             ],
             [
              0.4444444444444444,
              "#bd3786"
             ],
             [
              0.5555555555555556,
              "#d8576b"
             ],
             [
              0.6666666666666666,
              "#ed7953"
             ],
             [
              0.7777777777777778,
              "#fb9f3a"
             ],
             [
              0.8888888888888888,
              "#fdca26"
             ],
             [
              1,
              "#f0f921"
             ]
            ],
            "type": "histogram2dcontour"
           }
          ],
          "mesh3d": [
           {
            "colorbar": {
             "outlinewidth": 0,
             "ticks": ""
            },
            "type": "mesh3d"
           }
          ],
          "parcoords": [
           {
            "line": {
             "colorbar": {
              "outlinewidth": 0,
              "ticks": ""
             }
            },
            "type": "parcoords"
           }
          ],
          "pie": [
           {
            "automargin": true,
            "type": "pie"
           }
          ],
          "scatter": [
           {
            "fillpattern": {
             "fillmode": "overlay",
             "size": 10,
             "solidity": 0.2
            },
            "type": "scatter"
           }
          ],
          "scatter3d": [
           {
            "line": {
             "colorbar": {
              "outlinewidth": 0,
              "ticks": ""
             }
            },
            "marker": {
             "colorbar": {
              "outlinewidth": 0,
              "ticks": ""
             }
            },
            "type": "scatter3d"
           }
          ],
          "scattercarpet": [
           {
            "marker": {
             "colorbar": {
              "outlinewidth": 0,
              "ticks": ""
             }
            },
            "type": "scattercarpet"
           }
          ],
          "scattergeo": [
           {
            "marker": {
             "colorbar": {
              "outlinewidth": 0,
              "ticks": ""
             }
            },
            "type": "scattergeo"
           }
          ],
          "scattergl": [
           {
            "marker": {
             "colorbar": {
              "outlinewidth": 0,
              "ticks": ""
             }
            },
            "type": "scattergl"
           }
          ],
          "scattermapbox": [
           {
            "marker": {
             "colorbar": {
              "outlinewidth": 0,
              "ticks": ""
             }
            },
            "type": "scattermapbox"
           }
          ],
          "scatterpolar": [
           {
            "marker": {
             "colorbar": {
              "outlinewidth": 0,
              "ticks": ""
             }
            },
            "type": "scatterpolar"
           }
          ],
          "scatterpolargl": [
           {
            "marker": {
             "colorbar": {
              "outlinewidth": 0,
              "ticks": ""
             }
            },
            "type": "scatterpolargl"
           }
          ],
          "scatterternary": [
           {
            "marker": {
             "colorbar": {
              "outlinewidth": 0,
              "ticks": ""
             }
            },
            "type": "scatterternary"
           }
          ],
          "surface": [
           {
            "colorbar": {
             "outlinewidth": 0,
             "ticks": ""
            },
            "colorscale": [
             [
              0,
              "#0d0887"
             ],
             [
              0.1111111111111111,
              "#46039f"
             ],
             [
              0.2222222222222222,
              "#7201a8"
             ],
             [
              0.3333333333333333,
              "#9c179e"
             ],
             [
              0.4444444444444444,
              "#bd3786"
             ],
             [
              0.5555555555555556,
              "#d8576b"
             ],
             [
              0.6666666666666666,
              "#ed7953"
             ],
             [
              0.7777777777777778,
              "#fb9f3a"
             ],
             [
              0.8888888888888888,
              "#fdca26"
             ],
             [
              1,
              "#f0f921"
             ]
            ],
            "type": "surface"
           }
          ],
          "table": [
           {
            "cells": {
             "fill": {
              "color": "#EBF0F8"
             },
             "line": {
              "color": "white"
             }
            },
            "header": {
             "fill": {
              "color": "#C8D4E3"
             },
             "line": {
              "color": "white"
             }
            },
            "type": "table"
           }
          ]
         },
         "layout": {
          "annotationdefaults": {
           "arrowcolor": "#2a3f5f",
           "arrowhead": 0,
           "arrowwidth": 1
          },
          "autotypenumbers": "strict",
          "coloraxis": {
           "colorbar": {
            "outlinewidth": 0,
            "ticks": ""
           }
          },
          "colorscale": {
           "diverging": [
            [
             0,
             "#8e0152"
            ],
            [
             0.1,
             "#c51b7d"
            ],
            [
             0.2,
             "#de77ae"
            ],
            [
             0.3,
             "#f1b6da"
            ],
            [
             0.4,
             "#fde0ef"
            ],
            [
             0.5,
             "#f7f7f7"
            ],
            [
             0.6,
             "#e6f5d0"
            ],
            [
             0.7,
             "#b8e186"
            ],
            [
             0.8,
             "#7fbc41"
            ],
            [
             0.9,
             "#4d9221"
            ],
            [
             1,
             "#276419"
            ]
           ],
           "sequential": [
            [
             0,
             "#0d0887"
            ],
            [
             0.1111111111111111,
             "#46039f"
            ],
            [
             0.2222222222222222,
             "#7201a8"
            ],
            [
             0.3333333333333333,
             "#9c179e"
            ],
            [
             0.4444444444444444,
             "#bd3786"
            ],
            [
             0.5555555555555556,
             "#d8576b"
            ],
            [
             0.6666666666666666,
             "#ed7953"
            ],
            [
             0.7777777777777778,
             "#fb9f3a"
            ],
            [
             0.8888888888888888,
             "#fdca26"
            ],
            [
             1,
             "#f0f921"
            ]
           ],
           "sequentialminus": [
            [
             0,
             "#0d0887"
            ],
            [
             0.1111111111111111,
             "#46039f"
            ],
            [
             0.2222222222222222,
             "#7201a8"
            ],
            [
             0.3333333333333333,
             "#9c179e"
            ],
            [
             0.4444444444444444,
             "#bd3786"
            ],
            [
             0.5555555555555556,
             "#d8576b"
            ],
            [
             0.6666666666666666,
             "#ed7953"
            ],
            [
             0.7777777777777778,
             "#fb9f3a"
            ],
            [
             0.8888888888888888,
             "#fdca26"
            ],
            [
             1,
             "#f0f921"
            ]
           ]
          },
          "colorway": [
           "#636efa",
           "#EF553B",
           "#00cc96",
           "#ab63fa",
           "#FFA15A",
           "#19d3f3",
           "#FF6692",
           "#B6E880",
           "#FF97FF",
           "#FECB52"
          ],
          "font": {
           "color": "#2a3f5f"
          },
          "geo": {
           "bgcolor": "white",
           "lakecolor": "white",
           "landcolor": "#E5ECF6",
           "showlakes": true,
           "showland": true,
           "subunitcolor": "white"
          },
          "hoverlabel": {
           "align": "left"
          },
          "hovermode": "closest",
          "mapbox": {
           "style": "light"
          },
          "paper_bgcolor": "white",
          "plot_bgcolor": "#E5ECF6",
          "polar": {
           "angularaxis": {
            "gridcolor": "white",
            "linecolor": "white",
            "ticks": ""
           },
           "bgcolor": "#E5ECF6",
           "radialaxis": {
            "gridcolor": "white",
            "linecolor": "white",
            "ticks": ""
           }
          },
          "scene": {
           "xaxis": {
            "backgroundcolor": "#E5ECF6",
            "gridcolor": "white",
            "gridwidth": 2,
            "linecolor": "white",
            "showbackground": true,
            "ticks": "",
            "zerolinecolor": "white"
           },
           "yaxis": {
            "backgroundcolor": "#E5ECF6",
            "gridcolor": "white",
            "gridwidth": 2,
            "linecolor": "white",
            "showbackground": true,
            "ticks": "",
            "zerolinecolor": "white"
           },
           "zaxis": {
            "backgroundcolor": "#E5ECF6",
            "gridcolor": "white",
            "gridwidth": 2,
            "linecolor": "white",
            "showbackground": true,
            "ticks": "",
            "zerolinecolor": "white"
           }
          },
          "shapedefaults": {
           "line": {
            "color": "#2a3f5f"
           }
          },
          "ternary": {
           "aaxis": {
            "gridcolor": "white",
            "linecolor": "white",
            "ticks": ""
           },
           "baxis": {
            "gridcolor": "white",
            "linecolor": "white",
            "ticks": ""
           },
           "bgcolor": "#E5ECF6",
           "caxis": {
            "gridcolor": "white",
            "linecolor": "white",
            "ticks": ""
           }
          },
          "title": {
           "x": 0.05
          },
          "xaxis": {
           "automargin": true,
           "gridcolor": "white",
           "linecolor": "white",
           "ticks": "",
           "title": {
            "standoff": 15
           },
           "zerolinecolor": "white",
           "zerolinewidth": 2
          },
          "yaxis": {
           "automargin": true,
           "gridcolor": "white",
           "linecolor": "white",
           "ticks": "",
           "title": {
            "standoff": 15
           },
           "zerolinecolor": "white",
           "zerolinewidth": 2
          }
         }
        },
        "title": {
         "text": "2021 Sales by Product Variant"
        },
        "xaxis": {
         "anchor": "y",
         "domain": [
          0,
          1
         ],
         "labelalias": {
          "A0118150101": "Standard",
          "A0118150102": "Plus",
          "A0118150103": "Premium",
          "A0118150104": "Premium Plus",
          "A0219150201": "Standard",
          "A0219150202": "Plus",
          "A0220150203": "Premium",
          "A0320150301": "Standard",
          "A0321150302": "Plus",
          "A0321150303": "Premium",
          "A0418150103": "Standard 3"
         },
         "title": {
          "text": "Product variants"
         }
        },
        "yaxis": {
         "anchor": "x",
         "domain": [
          0,
          1
         ],
         "title": {
          "text": "Units sold"
         }
        }
       }
      }
     },
     "metadata": {},
     "output_type": "display_data"
    }
   ],
   "source": [
    "\n",
    "code_to_variant = dict(zip(best_sell_df['product_code'], best_sell_df['variant']))\n",
    "\n",
    "fig = px.bar(data_frame=best_sell_df.sort_values(by='units_sold', ascending=False),\n",
    "             x='product_code',\n",
    "             y='units_sold',\n",
    "             color='display_name',\n",
    "             labels={\n",
    "                 'product_code': 'Product variants',\n",
    "                 'units_sold': 'Units sold'\n",
    "                 },\n",
    "             title='2021 Sales by Product Variant',\n",
    "             )\n",
    "\n",
    "fig.update_xaxes(labelalias =  code_to_variant)\n",
    "fig.update_layout(legend_title_text='Product')\n",
    "fig.show()"
   ]
  },
  {
   "cell_type": "markdown",
   "metadata": {},
   "source": [
    "Most product variants had similar sales last year. The Dracula HDD was the best selling product overall (4 variants vs 3 of the Werewolf NAS and Zion Saga).\n",
    "\n",
    "The Mforce Gen X is lagging behind."
   ]
  },
  {
   "cell_type": "markdown",
   "metadata": {},
   "source": [
    "How about yearly profit?"
   ]
  },
  {
   "cell_type": "code",
   "execution_count": 66,
   "metadata": {
    "metadata": {}
   },
   "outputs": [],
   "source": [
    "# Yearly profit\n",
    "# First we'll create a view with the profit per sale.\n",
    "\n",
    "query = \"\"\"\n",
    "CREATE VIEW IF NOT EXISTS profit_per_sale AS \n",
    "SELECT *, CAST((total_revenue - total_cost) AS int) AS total_profit\n",
    "FROM (\n",
    "    SELECT \n",
    "        fact_sales_monthly.*,\n",
    "        gross_price,\n",
    "        manufacturing_cost,\n",
    "        pre_invoice_discount_pct,\n",
    "        ((gross_price * (1 - pre_invoice_discount_pct)) * sold_quantity) AS total_revenue,\n",
    "        (manufacturing_cost * sold_quantity) AS total_cost\n",
    "        \n",
    "    FROM fact_sales_monthly\n",
    "        JOIN fact_manufacturing_cost \n",
    "            ON fact_manufacturing_cost.product_code = fact_sales_monthly.product_code\n",
    "            AND fact_manufacturing_cost.cost_year = fact_sales_monthly.fiscal_year\n",
    "        JOIN fact_gross_price \n",
    "            ON fact_gross_price.product_code = fact_sales_monthly.product_code\n",
    "            AND fact_gross_price.fiscal_year = fact_sales_monthly.fiscal_year\n",
    "        JOIN fact_pre_discount \n",
    "            ON fact_pre_discount.customer_code = fact_sales_monthly.customer_code\n",
    "            AND fact_pre_discount.fiscal_year = fact_sales_monthly.fiscal_year\n",
    ")\n",
    "\n",
    "\"\"\"\n",
    "cursor.execute(query);"
   ]
  },
  {
   "cell_type": "code",
   "execution_count": 67,
   "metadata": {},
   "outputs": [
    {
     "data": {
      "text/html": [
       "<div>\n",
       "<style scoped>\n",
       "    .dataframe tbody tr th:only-of-type {\n",
       "        vertical-align: middle;\n",
       "    }\n",
       "\n",
       "    .dataframe tbody tr th {\n",
       "        vertical-align: top;\n",
       "    }\n",
       "\n",
       "    .dataframe thead th {\n",
       "        text-align: right;\n",
       "    }\n",
       "</style>\n",
       "<table border=\"1\" class=\"dataframe\">\n",
       "  <thead>\n",
       "    <tr style=\"text-align: right;\">\n",
       "      <th></th>\n",
       "      <th>product_code</th>\n",
       "      <th>display_name</th>\n",
       "      <th>variant</th>\n",
       "      <th>fiscal_year</th>\n",
       "      <th>profit</th>\n",
       "    </tr>\n",
       "  </thead>\n",
       "  <tbody>\n",
       "    <tr>\n",
       "      <th>0</th>\n",
       "      <td>A0321150302</td>\n",
       "      <td>AQ Zion Saga</td>\n",
       "      <td>Plus</td>\n",
       "      <td>2022</td>\n",
       "      <td>2383543</td>\n",
       "    </tr>\n",
       "    <tr>\n",
       "      <th>1</th>\n",
       "      <td>A0321150303</td>\n",
       "      <td>AQ Zion Saga</td>\n",
       "      <td>Premium</td>\n",
       "      <td>2022</td>\n",
       "      <td>2227494</td>\n",
       "    </tr>\n",
       "    <tr>\n",
       "      <th>2</th>\n",
       "      <td>A0418150103</td>\n",
       "      <td>AQ Mforce Gen X</td>\n",
       "      <td>Standard 3</td>\n",
       "      <td>2022</td>\n",
       "      <td>2201061</td>\n",
       "    </tr>\n",
       "    <tr>\n",
       "      <th>3</th>\n",
       "      <td>A0219150202</td>\n",
       "      <td>AQ Werewolf NAS HDD</td>\n",
       "      <td>Plus</td>\n",
       "      <td>2022</td>\n",
       "      <td>2032675</td>\n",
       "    </tr>\n",
       "    <tr>\n",
       "      <th>4</th>\n",
       "      <td>A0220150203</td>\n",
       "      <td>AQ Werewolf NAS HDD</td>\n",
       "      <td>Premium</td>\n",
       "      <td>2022</td>\n",
       "      <td>2031093</td>\n",
       "    </tr>\n",
       "  </tbody>\n",
       "</table>\n",
       "</div>"
      ],
      "text/plain": [
       "  product_code         display_name     variant  fiscal_year   profit\n",
       "0  A0321150302         AQ Zion Saga        Plus         2022  2383543\n",
       "1  A0321150303         AQ Zion Saga     Premium         2022  2227494\n",
       "2  A0418150103      AQ Mforce Gen X  Standard 3         2022  2201061\n",
       "3  A0219150202  AQ Werewolf NAS HDD        Plus         2022  2032675\n",
       "4  A0220150203  AQ Werewolf NAS HDD     Premium         2022  2031093"
      ]
     },
     "execution_count": 67,
     "metadata": {},
     "output_type": "execute_result"
    }
   ],
   "source": [
    "# Calculate the profit per year\n",
    "\n",
    "query = \"\"\"\n",
    "SELECT dim_product.product_code, display_name, variant, profit_per_sale.fiscal_year, SUM(total_profit) AS profit\n",
    "FROM dim_product \n",
    "    JOIN profit_per_sale USING(product_code)\n",
    "GROUP BY profit_per_sale.product_code, profit_per_sale.fiscal_year\n",
    "ORDER BY profit DESC\n",
    "\"\"\"\n",
    "\n",
    "yearly_profit_df = pd.read_sql_query(query, con)\n",
    "yearly_profit_df.head(5)"
   ]
  },
  {
   "cell_type": "code",
   "execution_count": 68,
   "metadata": {
    "metadata": {}
   },
   "outputs": [
    {
     "data": {
      "application/vnd.plotly.v1+json": {
       "config": {
        "plotlyServerURL": "https://plot.ly"
       },
       "data": [
        {
         "alignmentgroup": "True",
         "hovertemplate": "variant=Standard<br>fiscal_year=2018<br>display_name=%{x}<br>profit=%{y}<extra></extra>",
         "legendgroup": "Standard",
         "marker": {
          "color": "#636efa",
          "pattern": {
           "shape": ""
          }
         },
         "name": "Standard",
         "offsetgroup": "Standard",
         "orientation": "v",
         "showlegend": true,
         "textposition": "auto",
         "type": "bar",
         "x": [
          "AQ Dracula HDD"
         ],
         "xaxis": "x",
         "y": [
          132350
         ],
         "yaxis": "y"
        },
        {
         "alignmentgroup": "True",
         "hovertemplate": "variant=Standard<br>fiscal_year=2019<br>display_name=%{x}<br>profit=%{y}<extra></extra>",
         "legendgroup": "Standard",
         "marker": {
          "color": "#636efa",
          "pattern": {
           "shape": ""
          }
         },
         "name": "Standard",
         "offsetgroup": "Standard",
         "orientation": "v",
         "showlegend": false,
         "textposition": "auto",
         "type": "bar",
         "x": [
          "AQ Werewolf NAS HDD",
          "AQ Dracula HDD"
         ],
         "xaxis": "x2",
         "y": [
          366302,
          289742
         ],
         "yaxis": "y2"
        },
        {
         "alignmentgroup": "True",
         "hovertemplate": "variant=Standard<br>fiscal_year=2020<br>display_name=%{x}<br>profit=%{y}<extra></extra>",
         "legendgroup": "Standard",
         "marker": {
          "color": "#636efa",
          "pattern": {
           "shape": ""
          }
         },
         "name": "Standard",
         "offsetgroup": "Standard",
         "orientation": "v",
         "showlegend": false,
         "textposition": "auto",
         "type": "bar",
         "x": [
          "AQ Dracula HDD",
          "AQ Zion Saga",
          "AQ Werewolf NAS HDD"
         ],
         "xaxis": "x3",
         "y": [
          466088,
          661579,
          659313
         ],
         "yaxis": "y3"
        },
        {
         "alignmentgroup": "True",
         "hovertemplate": "variant=Standard<br>fiscal_year=2021<br>display_name=%{x}<br>profit=%{y}<extra></extra>",
         "legendgroup": "Standard",
         "marker": {
          "color": "#636efa",
          "pattern": {
           "shape": ""
          }
         },
         "name": "Standard",
         "offsetgroup": "Standard",
         "orientation": "v",
         "showlegend": false,
         "textposition": "auto",
         "type": "bar",
         "x": [
          "AQ Werewolf NAS HDD",
          "AQ Zion Saga",
          "AQ Dracula HDD"
         ],
         "xaxis": "x4",
         "y": [
          1113091,
          1045599,
          904598
         ],
         "yaxis": "y4"
        },
        {
         "alignmentgroup": "True",
         "hovertemplate": "variant=Standard<br>fiscal_year=2022<br>display_name=%{x}<br>profit=%{y}<extra></extra>",
         "legendgroup": "Standard",
         "marker": {
          "color": "#636efa",
          "pattern": {
           "shape": ""
          }
         },
         "name": "Standard",
         "offsetgroup": "Standard",
         "orientation": "v",
         "showlegend": false,
         "textposition": "auto",
         "type": "bar",
         "x": [
          "AQ Zion Saga",
          "AQ Werewolf NAS HDD"
         ],
         "xaxis": "x5",
         "y": [
          1898232,
          1999345
         ],
         "yaxis": "y5"
        },
        {
         "alignmentgroup": "True",
         "hovertemplate": "variant=Plus 1<br>fiscal_year=2018<br>display_name=%{x}<br>profit=%{y}<extra></extra>",
         "legendgroup": "Plus 1",
         "marker": {
          "color": "#EF553B",
          "pattern": {
           "shape": ""
          }
         },
         "name": "Plus 1",
         "offsetgroup": "Plus 1",
         "orientation": "v",
         "showlegend": true,
         "textposition": "auto",
         "type": "bar",
         "x": [
          "AQ Mforce Gen X"
         ],
         "xaxis": "x",
         "y": [
          207468
         ],
         "yaxis": "y"
        },
        {
         "alignmentgroup": "True",
         "hovertemplate": "variant=Plus 1<br>fiscal_year=2019<br>display_name=%{x}<br>profit=%{y}<extra></extra>",
         "legendgroup": "Plus 1",
         "marker": {
          "color": "#EF553B",
          "pattern": {
           "shape": ""
          }
         },
         "name": "Plus 1",
         "offsetgroup": "Plus 1",
         "orientation": "v",
         "showlegend": false,
         "textposition": "auto",
         "type": "bar",
         "x": [
          "AQ Mforce Gen X"
         ],
         "xaxis": "x2",
         "y": [
          224667
         ],
         "yaxis": "y2"
        },
        {
         "alignmentgroup": "True",
         "hovertemplate": "variant=Standard 3<br>fiscal_year=2018<br>display_name=%{x}<br>profit=%{y}<extra></extra>",
         "legendgroup": "Standard 3",
         "marker": {
          "color": "#00cc96",
          "pattern": {
           "shape": ""
          }
         },
         "name": "Standard 3",
         "offsetgroup": "Standard 3",
         "orientation": "v",
         "showlegend": true,
         "textposition": "auto",
         "type": "bar",
         "x": [
          "AQ Mforce Gen X"
         ],
         "xaxis": "x",
         "y": [
          197334
         ],
         "yaxis": "y"
        },
        {
         "alignmentgroup": "True",
         "hovertemplate": "variant=Standard 3<br>fiscal_year=2019<br>display_name=%{x}<br>profit=%{y}<extra></extra>",
         "legendgroup": "Standard 3",
         "marker": {
          "color": "#00cc96",
          "pattern": {
           "shape": ""
          }
         },
         "name": "Standard 3",
         "offsetgroup": "Standard 3",
         "orientation": "v",
         "showlegend": false,
         "textposition": "auto",
         "type": "bar",
         "x": [
          "AQ Mforce Gen X"
         ],
         "xaxis": "x2",
         "y": [
          258163
         ],
         "yaxis": "y2"
        },
        {
         "alignmentgroup": "True",
         "hovertemplate": "variant=Standard 3<br>fiscal_year=2020<br>display_name=%{x}<br>profit=%{y}<extra></extra>",
         "legendgroup": "Standard 3",
         "marker": {
          "color": "#00cc96",
          "pattern": {
           "shape": ""
          }
         },
         "name": "Standard 3",
         "offsetgroup": "Standard 3",
         "orientation": "v",
         "showlegend": false,
         "textposition": "auto",
         "type": "bar",
         "x": [
          "AQ Mforce Gen X"
         ],
         "xaxis": "x3",
         "y": [
          365696
         ],
         "yaxis": "y3"
        },
        {
         "alignmentgroup": "True",
         "hovertemplate": "variant=Standard 3<br>fiscal_year=2021<br>display_name=%{x}<br>profit=%{y}<extra></extra>",
         "legendgroup": "Standard 3",
         "marker": {
          "color": "#00cc96",
          "pattern": {
           "shape": ""
          }
         },
         "name": "Standard 3",
         "offsetgroup": "Standard 3",
         "orientation": "v",
         "showlegend": false,
         "textposition": "auto",
         "type": "bar",
         "x": [
          "AQ Mforce Gen X"
         ],
         "xaxis": "x4",
         "y": [
          714951
         ],
         "yaxis": "y4"
        },
        {
         "alignmentgroup": "True",
         "hovertemplate": "variant=Standard 3<br>fiscal_year=2022<br>display_name=%{x}<br>profit=%{y}<extra></extra>",
         "legendgroup": "Standard 3",
         "marker": {
          "color": "#00cc96",
          "pattern": {
           "shape": ""
          }
         },
         "name": "Standard 3",
         "offsetgroup": "Standard 3",
         "orientation": "v",
         "showlegend": false,
         "textposition": "auto",
         "type": "bar",
         "x": [
          "AQ Mforce Gen X"
         ],
         "xaxis": "x5",
         "y": [
          2201061
         ],
         "yaxis": "y5"
        },
        {
         "alignmentgroup": "True",
         "hovertemplate": "variant=Standard 2<br>fiscal_year=2018<br>display_name=%{x}<br>profit=%{y}<extra></extra>",
         "legendgroup": "Standard 2",
         "marker": {
          "color": "#ab63fa",
          "pattern": {
           "shape": ""
          }
         },
         "name": "Standard 2",
         "offsetgroup": "Standard 2",
         "orientation": "v",
         "showlegend": true,
         "textposition": "auto",
         "type": "bar",
         "x": [
          "AQ Mforce Gen X"
         ],
         "xaxis": "x",
         "y": [
          170616
         ],
         "yaxis": "y"
        },
        {
         "alignmentgroup": "True",
         "hovertemplate": "variant=Standard 2<br>fiscal_year=2019<br>display_name=%{x}<br>profit=%{y}<extra></extra>",
         "legendgroup": "Standard 2",
         "marker": {
          "color": "#ab63fa",
          "pattern": {
           "shape": ""
          }
         },
         "name": "Standard 2",
         "offsetgroup": "Standard 2",
         "orientation": "v",
         "showlegend": false,
         "textposition": "auto",
         "type": "bar",
         "x": [
          "AQ Mforce Gen X"
         ],
         "xaxis": "x2",
         "y": [
          252842
         ],
         "yaxis": "y2"
        },
        {
         "alignmentgroup": "True",
         "hovertemplate": "variant=Standard 2<br>fiscal_year=2020<br>display_name=%{x}<br>profit=%{y}<extra></extra>",
         "legendgroup": "Standard 2",
         "marker": {
          "color": "#ab63fa",
          "pattern": {
           "shape": ""
          }
         },
         "name": "Standard 2",
         "offsetgroup": "Standard 2",
         "orientation": "v",
         "showlegend": false,
         "textposition": "auto",
         "type": "bar",
         "x": [
          "AQ Mforce Gen X"
         ],
         "xaxis": "x3",
         "y": [
          363685
         ],
         "yaxis": "y3"
        },
        {
         "alignmentgroup": "True",
         "hovertemplate": "variant=Standard 1<br>fiscal_year=2018<br>display_name=%{x}<br>profit=%{y}<extra></extra>",
         "legendgroup": "Standard 1",
         "marker": {
          "color": "#FFA15A",
          "pattern": {
           "shape": ""
          }
         },
         "name": "Standard 1",
         "offsetgroup": "Standard 1",
         "orientation": "v",
         "showlegend": true,
         "textposition": "auto",
         "type": "bar",
         "x": [
          "AQ Mforce Gen X"
         ],
         "xaxis": "x",
         "y": [
          159785
         ],
         "yaxis": "y"
        },
        {
         "alignmentgroup": "True",
         "hovertemplate": "variant=Standard 1<br>fiscal_year=2019<br>display_name=%{x}<br>profit=%{y}<extra></extra>",
         "legendgroup": "Standard 1",
         "marker": {
          "color": "#FFA15A",
          "pattern": {
           "shape": ""
          }
         },
         "name": "Standard 1",
         "offsetgroup": "Standard 1",
         "orientation": "v",
         "showlegend": false,
         "textposition": "auto",
         "type": "bar",
         "x": [
          "AQ Mforce Gen X"
         ],
         "xaxis": "x2",
         "y": [
          209551
         ],
         "yaxis": "y2"
        },
        {
         "alignmentgroup": "True",
         "hovertemplate": "variant=Standard 1<br>fiscal_year=2020<br>display_name=%{x}<br>profit=%{y}<extra></extra>",
         "legendgroup": "Standard 1",
         "marker": {
          "color": "#FFA15A",
          "pattern": {
           "shape": ""
          }
         },
         "name": "Standard 1",
         "offsetgroup": "Standard 1",
         "orientation": "v",
         "showlegend": false,
         "textposition": "auto",
         "type": "bar",
         "x": [
          "AQ Mforce Gen X"
         ],
         "xaxis": "x3",
         "y": [
          379978
         ],
         "yaxis": "y3"
        },
        {
         "alignmentgroup": "True",
         "hovertemplate": "variant=Plus<br>fiscal_year=2018<br>display_name=%{x}<br>profit=%{y}<extra></extra>",
         "legendgroup": "Plus",
         "marker": {
          "color": "#19d3f3",
          "pattern": {
           "shape": ""
          }
         },
         "name": "Plus",
         "offsetgroup": "Plus",
         "orientation": "v",
         "showlegend": true,
         "textposition": "auto",
         "type": "bar",
         "x": [
          "AQ Dracula HDD"
         ],
         "xaxis": "x",
         "y": [
          166258
         ],
         "yaxis": "y"
        },
        {
         "alignmentgroup": "True",
         "hovertemplate": "variant=Plus<br>fiscal_year=2019<br>display_name=%{x}<br>profit=%{y}<extra></extra>",
         "legendgroup": "Plus",
         "marker": {
          "color": "#19d3f3",
          "pattern": {
           "shape": ""
          }
         },
         "name": "Plus",
         "offsetgroup": "Plus",
         "orientation": "v",
         "showlegend": false,
         "textposition": "auto",
         "type": "bar",
         "x": [
          "AQ Werewolf NAS HDD",
          "AQ Dracula HDD"
         ],
         "xaxis": "x2",
         "y": [
          404799,
          377407
         ],
         "yaxis": "y2"
        },
        {
         "alignmentgroup": "True",
         "hovertemplate": "variant=Plus<br>fiscal_year=2020<br>display_name=%{x}<br>profit=%{y}<extra></extra>",
         "legendgroup": "Plus",
         "marker": {
          "color": "#19d3f3",
          "pattern": {
           "shape": ""
          }
         },
         "name": "Plus",
         "offsetgroup": "Plus",
         "orientation": "v",
         "showlegend": false,
         "textposition": "auto",
         "type": "bar",
         "x": [
          "AQ Dracula HDD",
          "AQ Werewolf NAS HDD"
         ],
         "xaxis": "x3",
         "y": [
          607409,
          719674
         ],
         "yaxis": "y3"
        },
        {
         "alignmentgroup": "True",
         "hovertemplate": "variant=Plus<br>fiscal_year=2021<br>display_name=%{x}<br>profit=%{y}<extra></extra>",
         "legendgroup": "Plus",
         "marker": {
          "color": "#19d3f3",
          "pattern": {
           "shape": ""
          }
         },
         "name": "Plus",
         "offsetgroup": "Plus",
         "orientation": "v",
         "showlegend": false,
         "textposition": "auto",
         "type": "bar",
         "x": [
          "AQ Zion Saga",
          "AQ Werewolf NAS HDD",
          "AQ Dracula HDD"
         ],
         "xaxis": "x4",
         "y": [
          1286222,
          1136227,
          994218
         ],
         "yaxis": "y4"
        },
        {
         "alignmentgroup": "True",
         "hovertemplate": "variant=Plus<br>fiscal_year=2022<br>display_name=%{x}<br>profit=%{y}<extra></extra>",
         "legendgroup": "Plus",
         "marker": {
          "color": "#19d3f3",
          "pattern": {
           "shape": ""
          }
         },
         "name": "Plus",
         "offsetgroup": "Plus",
         "orientation": "v",
         "showlegend": false,
         "textposition": "auto",
         "type": "bar",
         "x": [
          "AQ Werewolf NAS HDD",
          "AQ Zion Saga"
         ],
         "xaxis": "x5",
         "y": [
          2032675,
          2383543
         ],
         "yaxis": "y5"
        },
        {
         "alignmentgroup": "True",
         "hovertemplate": "variant=Premium<br>fiscal_year=2018<br>display_name=%{x}<br>profit=%{y}<extra></extra>",
         "legendgroup": "Premium",
         "marker": {
          "color": "#FF6692",
          "pattern": {
           "shape": ""
          }
         },
         "name": "Premium",
         "offsetgroup": "Premium",
         "orientation": "v",
         "showlegend": true,
         "textposition": "auto",
         "type": "bar",
         "x": [
          "AQ Dracula HDD"
         ],
         "xaxis": "x",
         "y": [
          164597
         ],
         "yaxis": "y"
        },
        {
         "alignmentgroup": "True",
         "hovertemplate": "variant=Premium<br>fiscal_year=2019<br>display_name=%{x}<br>profit=%{y}<extra></extra>",
         "legendgroup": "Premium",
         "marker": {
          "color": "#FF6692",
          "pattern": {
           "shape": ""
          }
         },
         "name": "Premium",
         "offsetgroup": "Premium",
         "orientation": "v",
         "showlegend": false,
         "textposition": "auto",
         "type": "bar",
         "x": [
          "AQ Dracula HDD"
         ],
         "xaxis": "x2",
         "y": [
          396959
         ],
         "yaxis": "y2"
        },
        {
         "alignmentgroup": "True",
         "hovertemplate": "variant=Premium<br>fiscal_year=2020<br>display_name=%{x}<br>profit=%{y}<extra></extra>",
         "legendgroup": "Premium",
         "marker": {
          "color": "#FF6692",
          "pattern": {
           "shape": ""
          }
         },
         "name": "Premium",
         "offsetgroup": "Premium",
         "orientation": "v",
         "showlegend": false,
         "textposition": "auto",
         "type": "bar",
         "x": [
          "AQ Dracula HDD",
          "AQ Werewolf NAS HDD"
         ],
         "xaxis": "x3",
         "y": [
          658529,
          720554
         ],
         "yaxis": "y3"
        },
        {
         "alignmentgroup": "True",
         "hovertemplate": "variant=Premium<br>fiscal_year=2021<br>display_name=%{x}<br>profit=%{y}<extra></extra>",
         "legendgroup": "Premium",
         "marker": {
          "color": "#FF6692",
          "pattern": {
           "shape": ""
          }
         },
         "name": "Premium",
         "offsetgroup": "Premium",
         "orientation": "v",
         "showlegend": false,
         "textposition": "auto",
         "type": "bar",
         "x": [
          "AQ Zion Saga",
          "AQ Dracula HDD",
          "AQ Werewolf NAS HDD"
         ],
         "xaxis": "x4",
         "y": [
          1251616,
          950699,
          1047157
         ],
         "yaxis": "y4"
        },
        {
         "alignmentgroup": "True",
         "hovertemplate": "variant=Premium<br>fiscal_year=2022<br>display_name=%{x}<br>profit=%{y}<extra></extra>",
         "legendgroup": "Premium",
         "marker": {
          "color": "#FF6692",
          "pattern": {
           "shape": ""
          }
         },
         "name": "Premium",
         "offsetgroup": "Premium",
         "orientation": "v",
         "showlegend": false,
         "textposition": "auto",
         "type": "bar",
         "x": [
          "AQ Dracula HDD",
          "AQ Werewolf NAS HDD",
          "AQ Zion Saga"
         ],
         "xaxis": "x5",
         "y": [
          1821241,
          2031093,
          2227494
         ],
         "yaxis": "y5"
        },
        {
         "alignmentgroup": "True",
         "hovertemplate": "variant=Premium Plus<br>fiscal_year=2018<br>display_name=%{x}<br>profit=%{y}<extra></extra>",
         "legendgroup": "Premium Plus",
         "marker": {
          "color": "#B6E880",
          "pattern": {
           "shape": ""
          }
         },
         "name": "Premium Plus",
         "offsetgroup": "Premium Plus",
         "orientation": "v",
         "showlegend": true,
         "textposition": "auto",
         "type": "bar",
         "x": [
          "AQ Dracula HDD"
         ],
         "xaxis": "x",
         "y": [
          167384
         ],
         "yaxis": "y"
        },
        {
         "alignmentgroup": "True",
         "hovertemplate": "variant=Premium Plus<br>fiscal_year=2019<br>display_name=%{x}<br>profit=%{y}<extra></extra>",
         "legendgroup": "Premium Plus",
         "marker": {
          "color": "#B6E880",
          "pattern": {
           "shape": ""
          }
         },
         "name": "Premium Plus",
         "offsetgroup": "Premium Plus",
         "orientation": "v",
         "showlegend": false,
         "textposition": "auto",
         "type": "bar",
         "x": [
          "AQ Dracula HDD"
         ],
         "xaxis": "x2",
         "y": [
          376138
         ],
         "yaxis": "y2"
        },
        {
         "alignmentgroup": "True",
         "hovertemplate": "variant=Premium Plus<br>fiscal_year=2020<br>display_name=%{x}<br>profit=%{y}<extra></extra>",
         "legendgroup": "Premium Plus",
         "marker": {
          "color": "#B6E880",
          "pattern": {
           "shape": ""
          }
         },
         "name": "Premium Plus",
         "offsetgroup": "Premium Plus",
         "orientation": "v",
         "showlegend": false,
         "textposition": "auto",
         "type": "bar",
         "x": [
          "AQ Dracula HDD"
         ],
         "xaxis": "x3",
         "y": [
          576467
         ],
         "yaxis": "y3"
        },
        {
         "alignmentgroup": "True",
         "hovertemplate": "variant=Premium Plus<br>fiscal_year=2021<br>display_name=%{x}<br>profit=%{y}<extra></extra>",
         "legendgroup": "Premium Plus",
         "marker": {
          "color": "#B6E880",
          "pattern": {
           "shape": ""
          }
         },
         "name": "Premium Plus",
         "offsetgroup": "Premium Plus",
         "orientation": "v",
         "showlegend": false,
         "textposition": "auto",
         "type": "bar",
         "x": [
          "AQ Dracula HDD"
         ],
         "xaxis": "x4",
         "y": [
          1051605
         ],
         "yaxis": "y4"
        },
        {
         "alignmentgroup": "True",
         "hovertemplate": "variant=Premium Plus<br>fiscal_year=2022<br>display_name=%{x}<br>profit=%{y}<extra></extra>",
         "legendgroup": "Premium Plus",
         "marker": {
          "color": "#B6E880",
          "pattern": {
           "shape": ""
          }
         },
         "name": "Premium Plus",
         "offsetgroup": "Premium Plus",
         "orientation": "v",
         "showlegend": false,
         "textposition": "auto",
         "type": "bar",
         "x": [
          "AQ Dracula HDD"
         ],
         "xaxis": "x5",
         "y": [
          1796918
         ],
         "yaxis": "y5"
        }
       ],
       "layout": {
        "annotations": [
         {
          "font": {},
          "showarrow": false,
          "text": "2018",
          "x": 0.1,
          "xanchor": "center",
          "xref": "paper",
          "y": 1,
          "yanchor": "bottom",
          "yref": "paper"
         },
         {
          "font": {},
          "showarrow": false,
          "text": "2019",
          "x": 0.30000000000000004,
          "xanchor": "center",
          "xref": "paper",
          "y": 1,
          "yanchor": "bottom",
          "yref": "paper"
         },
         {
          "font": {},
          "showarrow": false,
          "text": "2020",
          "x": 0.5,
          "xanchor": "center",
          "xref": "paper",
          "y": 1,
          "yanchor": "bottom",
          "yref": "paper"
         },
         {
          "font": {},
          "showarrow": false,
          "text": "2021",
          "x": 0.7,
          "xanchor": "center",
          "xref": "paper",
          "y": 1,
          "yanchor": "bottom",
          "yref": "paper"
         },
         {
          "font": {},
          "showarrow": false,
          "text": "2022",
          "x": 0.8999999999999999,
          "xanchor": "center",
          "xref": "paper",
          "y": 1,
          "yanchor": "bottom",
          "yref": "paper"
         }
        ],
        "barmode": "stack",
        "legend": {
         "title": {
          "text": "Variants"
         },
         "tracegroupgap": 0
        },
        "margin": {
         "t": 60
        },
        "showlegend": true,
        "template": {
         "data": {
          "bar": [
           {
            "error_x": {
             "color": "#2a3f5f"
            },
            "error_y": {
             "color": "#2a3f5f"
            },
            "marker": {
             "line": {
              "color": "#E5ECF6",
              "width": 0.5
             },
             "pattern": {
              "fillmode": "overlay",
              "size": 10,
              "solidity": 0.2
             }
            },
            "type": "bar"
           }
          ],
          "barpolar": [
           {
            "marker": {
             "line": {
              "color": "#E5ECF6",
              "width": 0.5
             },
             "pattern": {
              "fillmode": "overlay",
              "size": 10,
              "solidity": 0.2
             }
            },
            "type": "barpolar"
           }
          ],
          "carpet": [
           {
            "aaxis": {
             "endlinecolor": "#2a3f5f",
             "gridcolor": "white",
             "linecolor": "white",
             "minorgridcolor": "white",
             "startlinecolor": "#2a3f5f"
            },
            "baxis": {
             "endlinecolor": "#2a3f5f",
             "gridcolor": "white",
             "linecolor": "white",
             "minorgridcolor": "white",
             "startlinecolor": "#2a3f5f"
            },
            "type": "carpet"
           }
          ],
          "choropleth": [
           {
            "colorbar": {
             "outlinewidth": 0,
             "ticks": ""
            },
            "type": "choropleth"
           }
          ],
          "contour": [
           {
            "colorbar": {
             "outlinewidth": 0,
             "ticks": ""
            },
            "colorscale": [
             [
              0,
              "#0d0887"
             ],
             [
              0.1111111111111111,
              "#46039f"
             ],
             [
              0.2222222222222222,
              "#7201a8"
             ],
             [
              0.3333333333333333,
              "#9c179e"
             ],
             [
              0.4444444444444444,
              "#bd3786"
             ],
             [
              0.5555555555555556,
              "#d8576b"
             ],
             [
              0.6666666666666666,
              "#ed7953"
             ],
             [
              0.7777777777777778,
              "#fb9f3a"
             ],
             [
              0.8888888888888888,
              "#fdca26"
             ],
             [
              1,
              "#f0f921"
             ]
            ],
            "type": "contour"
           }
          ],
          "contourcarpet": [
           {
            "colorbar": {
             "outlinewidth": 0,
             "ticks": ""
            },
            "type": "contourcarpet"
           }
          ],
          "heatmap": [
           {
            "colorbar": {
             "outlinewidth": 0,
             "ticks": ""
            },
            "colorscale": [
             [
              0,
              "#0d0887"
             ],
             [
              0.1111111111111111,
              "#46039f"
             ],
             [
              0.2222222222222222,
              "#7201a8"
             ],
             [
              0.3333333333333333,
              "#9c179e"
             ],
             [
              0.4444444444444444,
              "#bd3786"
             ],
             [
              0.5555555555555556,
              "#d8576b"
             ],
             [
              0.6666666666666666,
              "#ed7953"
             ],
             [
              0.7777777777777778,
              "#fb9f3a"
             ],
             [
              0.8888888888888888,
              "#fdca26"
             ],
             [
              1,
              "#f0f921"
             ]
            ],
            "type": "heatmap"
           }
          ],
          "heatmapgl": [
           {
            "colorbar": {
             "outlinewidth": 0,
             "ticks": ""
            },
            "colorscale": [
             [
              0,
              "#0d0887"
             ],
             [
              0.1111111111111111,
              "#46039f"
             ],
             [
              0.2222222222222222,
              "#7201a8"
             ],
             [
              0.3333333333333333,
              "#9c179e"
             ],
             [
              0.4444444444444444,
              "#bd3786"
             ],
             [
              0.5555555555555556,
              "#d8576b"
             ],
             [
              0.6666666666666666,
              "#ed7953"
             ],
             [
              0.7777777777777778,
              "#fb9f3a"
             ],
             [
              0.8888888888888888,
              "#fdca26"
             ],
             [
              1,
              "#f0f921"
             ]
            ],
            "type": "heatmapgl"
           }
          ],
          "histogram": [
           {
            "marker": {
             "pattern": {
              "fillmode": "overlay",
              "size": 10,
              "solidity": 0.2
             }
            },
            "type": "histogram"
           }
          ],
          "histogram2d": [
           {
            "colorbar": {
             "outlinewidth": 0,
             "ticks": ""
            },
            "colorscale": [
             [
              0,
              "#0d0887"
             ],
             [
              0.1111111111111111,
              "#46039f"
             ],
             [
              0.2222222222222222,
              "#7201a8"
             ],
             [
              0.3333333333333333,
              "#9c179e"
             ],
             [
              0.4444444444444444,
              "#bd3786"
             ],
             [
              0.5555555555555556,
              "#d8576b"
             ],
             [
              0.6666666666666666,
              "#ed7953"
             ],
             [
              0.7777777777777778,
              "#fb9f3a"
             ],
             [
              0.8888888888888888,
              "#fdca26"
             ],
             [
              1,
              "#f0f921"
             ]
            ],
            "type": "histogram2d"
           }
          ],
          "histogram2dcontour": [
           {
            "colorbar": {
             "outlinewidth": 0,
             "ticks": ""
            },
            "colorscale": [
             [
              0,
              "#0d0887"
             ],
             [
              0.1111111111111111,
              "#46039f"
             ],
             [
              0.2222222222222222,
              "#7201a8"
             ],
             [
              0.3333333333333333,
              "#9c179e"
             ],
             [
              0.4444444444444444,
              "#bd3786"
             ],
             [
              0.5555555555555556,
              "#d8576b"
             ],
             [
              0.6666666666666666,
              "#ed7953"
             ],
             [
              0.7777777777777778,
              "#fb9f3a"
             ],
             [
              0.8888888888888888,
              "#fdca26"
             ],
             [
              1,
              "#f0f921"
             ]
            ],
            "type": "histogram2dcontour"
           }
          ],
          "mesh3d": [
           {
            "colorbar": {
             "outlinewidth": 0,
             "ticks": ""
            },
            "type": "mesh3d"
           }
          ],
          "parcoords": [
           {
            "line": {
             "colorbar": {
              "outlinewidth": 0,
              "ticks": ""
             }
            },
            "type": "parcoords"
           }
          ],
          "pie": [
           {
            "automargin": true,
            "type": "pie"
           }
          ],
          "scatter": [
           {
            "fillpattern": {
             "fillmode": "overlay",
             "size": 10,
             "solidity": 0.2
            },
            "type": "scatter"
           }
          ],
          "scatter3d": [
           {
            "line": {
             "colorbar": {
              "outlinewidth": 0,
              "ticks": ""
             }
            },
            "marker": {
             "colorbar": {
              "outlinewidth": 0,
              "ticks": ""
             }
            },
            "type": "scatter3d"
           }
          ],
          "scattercarpet": [
           {
            "marker": {
             "colorbar": {
              "outlinewidth": 0,
              "ticks": ""
             }
            },
            "type": "scattercarpet"
           }
          ],
          "scattergeo": [
           {
            "marker": {
             "colorbar": {
              "outlinewidth": 0,
              "ticks": ""
             }
            },
            "type": "scattergeo"
           }
          ],
          "scattergl": [
           {
            "marker": {
             "colorbar": {
              "outlinewidth": 0,
              "ticks": ""
             }
            },
            "type": "scattergl"
           }
          ],
          "scattermapbox": [
           {
            "marker": {
             "colorbar": {
              "outlinewidth": 0,
              "ticks": ""
             }
            },
            "type": "scattermapbox"
           }
          ],
          "scatterpolar": [
           {
            "marker": {
             "colorbar": {
              "outlinewidth": 0,
              "ticks": ""
             }
            },
            "type": "scatterpolar"
           }
          ],
          "scatterpolargl": [
           {
            "marker": {
             "colorbar": {
              "outlinewidth": 0,
              "ticks": ""
             }
            },
            "type": "scatterpolargl"
           }
          ],
          "scatterternary": [
           {
            "marker": {
             "colorbar": {
              "outlinewidth": 0,
              "ticks": ""
             }
            },
            "type": "scatterternary"
           }
          ],
          "surface": [
           {
            "colorbar": {
             "outlinewidth": 0,
             "ticks": ""
            },
            "colorscale": [
             [
              0,
              "#0d0887"
             ],
             [
              0.1111111111111111,
              "#46039f"
             ],
             [
              0.2222222222222222,
              "#7201a8"
             ],
             [
              0.3333333333333333,
              "#9c179e"
             ],
             [
              0.4444444444444444,
              "#bd3786"
             ],
             [
              0.5555555555555556,
              "#d8576b"
             ],
             [
              0.6666666666666666,
              "#ed7953"
             ],
             [
              0.7777777777777778,
              "#fb9f3a"
             ],
             [
              0.8888888888888888,
              "#fdca26"
             ],
             [
              1,
              "#f0f921"
             ]
            ],
            "type": "surface"
           }
          ],
          "table": [
           {
            "cells": {
             "fill": {
              "color": "#EBF0F8"
             },
             "line": {
              "color": "white"
             }
            },
            "header": {
             "fill": {
              "color": "#C8D4E3"
             },
             "line": {
              "color": "white"
             }
            },
            "type": "table"
           }
          ]
         },
         "layout": {
          "annotationdefaults": {
           "arrowcolor": "#2a3f5f",
           "arrowhead": 0,
           "arrowwidth": 1
          },
          "autotypenumbers": "strict",
          "coloraxis": {
           "colorbar": {
            "outlinewidth": 0,
            "ticks": ""
           }
          },
          "colorscale": {
           "diverging": [
            [
             0,
             "#8e0152"
            ],
            [
             0.1,
             "#c51b7d"
            ],
            [
             0.2,
             "#de77ae"
            ],
            [
             0.3,
             "#f1b6da"
            ],
            [
             0.4,
             "#fde0ef"
            ],
            [
             0.5,
             "#f7f7f7"
            ],
            [
             0.6,
             "#e6f5d0"
            ],
            [
             0.7,
             "#b8e186"
            ],
            [
             0.8,
             "#7fbc41"
            ],
            [
             0.9,
             "#4d9221"
            ],
            [
             1,
             "#276419"
            ]
           ],
           "sequential": [
            [
             0,
             "#0d0887"
            ],
            [
             0.1111111111111111,
             "#46039f"
            ],
            [
             0.2222222222222222,
             "#7201a8"
            ],
            [
             0.3333333333333333,
             "#9c179e"
            ],
            [
             0.4444444444444444,
             "#bd3786"
            ],
            [
             0.5555555555555556,
             "#d8576b"
            ],
            [
             0.6666666666666666,
             "#ed7953"
            ],
            [
             0.7777777777777778,
             "#fb9f3a"
            ],
            [
             0.8888888888888888,
             "#fdca26"
            ],
            [
             1,
             "#f0f921"
            ]
           ],
           "sequentialminus": [
            [
             0,
             "#0d0887"
            ],
            [
             0.1111111111111111,
             "#46039f"
            ],
            [
             0.2222222222222222,
             "#7201a8"
            ],
            [
             0.3333333333333333,
             "#9c179e"
            ],
            [
             0.4444444444444444,
             "#bd3786"
            ],
            [
             0.5555555555555556,
             "#d8576b"
            ],
            [
             0.6666666666666666,
             "#ed7953"
            ],
            [
             0.7777777777777778,
             "#fb9f3a"
            ],
            [
             0.8888888888888888,
             "#fdca26"
            ],
            [
             1,
             "#f0f921"
            ]
           ]
          },
          "colorway": [
           "#636efa",
           "#EF553B",
           "#00cc96",
           "#ab63fa",
           "#FFA15A",
           "#19d3f3",
           "#FF6692",
           "#B6E880",
           "#FF97FF",
           "#FECB52"
          ],
          "font": {
           "color": "#2a3f5f"
          },
          "geo": {
           "bgcolor": "white",
           "lakecolor": "white",
           "landcolor": "#E5ECF6",
           "showlakes": true,
           "showland": true,
           "subunitcolor": "white"
          },
          "hoverlabel": {
           "align": "left"
          },
          "hovermode": "closest",
          "mapbox": {
           "style": "light"
          },
          "paper_bgcolor": "white",
          "plot_bgcolor": "#E5ECF6",
          "polar": {
           "angularaxis": {
            "gridcolor": "white",
            "linecolor": "white",
            "ticks": ""
           },
           "bgcolor": "#E5ECF6",
           "radialaxis": {
            "gridcolor": "white",
            "linecolor": "white",
            "ticks": ""
           }
          },
          "scene": {
           "xaxis": {
            "backgroundcolor": "#E5ECF6",
            "gridcolor": "white",
            "gridwidth": 2,
            "linecolor": "white",
            "showbackground": true,
            "ticks": "",
            "zerolinecolor": "white"
           },
           "yaxis": {
            "backgroundcolor": "#E5ECF6",
            "gridcolor": "white",
            "gridwidth": 2,
            "linecolor": "white",
            "showbackground": true,
            "ticks": "",
            "zerolinecolor": "white"
           },
           "zaxis": {
            "backgroundcolor": "#E5ECF6",
            "gridcolor": "white",
            "gridwidth": 2,
            "linecolor": "white",
            "showbackground": true,
            "ticks": "",
            "zerolinecolor": "white"
           }
          },
          "shapedefaults": {
           "line": {
            "color": "#2a3f5f"
           }
          },
          "ternary": {
           "aaxis": {
            "gridcolor": "white",
            "linecolor": "white",
            "ticks": ""
           },
           "baxis": {
            "gridcolor": "white",
            "linecolor": "white",
            "ticks": ""
           },
           "bgcolor": "#E5ECF6",
           "caxis": {
            "gridcolor": "white",
            "linecolor": "white",
            "ticks": ""
           }
          },
          "title": {
           "x": 0.05
          },
          "xaxis": {
           "automargin": true,
           "gridcolor": "white",
           "linecolor": "white",
           "ticks": "",
           "title": {
            "standoff": 15
           },
           "zerolinecolor": "white",
           "zerolinewidth": 2
          },
          "yaxis": {
           "automargin": true,
           "gridcolor": "white",
           "linecolor": "white",
           "ticks": "",
           "title": {
            "standoff": 15
           },
           "zerolinecolor": "white",
           "zerolinewidth": 2
          }
         }
        },
        "title": {
         "text": "Yearly Profit by Product"
        },
        "xaxis": {
         "anchor": "y",
         "domain": [
          0,
          0.18400000000000002
         ],
         "showticklabels": true,
         "title": {
          "text": ""
         }
        },
        "xaxis2": {
         "anchor": "y2",
         "domain": [
          0.20400000000000001,
          0.388
         ],
         "matches": "x",
         "showticklabels": true,
         "title": {
          "text": ""
         }
        },
        "xaxis3": {
         "anchor": "y3",
         "domain": [
          0.40800000000000003,
          0.5920000000000001
         ],
         "matches": "x",
         "showticklabels": true,
         "title": {
          "text": ""
         }
        },
        "xaxis4": {
         "anchor": "y4",
         "domain": [
          0.6120000000000001,
          0.7960000000000002
         ],
         "matches": "x",
         "showticklabels": true,
         "title": {
          "text": ""
         }
        },
        "xaxis5": {
         "anchor": "y5",
         "domain": [
          0.8160000000000001,
          1
         ],
         "matches": "x",
         "showticklabels": true,
         "title": {
          "text": ""
         }
        },
        "yaxis": {
         "anchor": "x",
         "domain": [
          0,
          1
         ],
         "title": {
          "text": ""
         }
        },
        "yaxis2": {
         "anchor": "x2",
         "domain": [
          0,
          1
         ],
         "matches": "y",
         "showticklabels": false,
         "title": {
          "text": "Profit"
         }
        },
        "yaxis3": {
         "anchor": "x3",
         "domain": [
          0,
          1
         ],
         "matches": "y",
         "showticklabels": false,
         "title": {
          "text": "Profit"
         }
        },
        "yaxis4": {
         "anchor": "x4",
         "domain": [
          0,
          1
         ],
         "matches": "y",
         "showticklabels": false,
         "title": {
          "text": "Profit"
         }
        },
        "yaxis5": {
         "anchor": "x5",
         "domain": [
          0,
          1
         ],
         "matches": "y",
         "showticklabels": false,
         "title": {
          "text": "Profit"
         }
        }
       }
      }
     },
     "metadata": {},
     "output_type": "display_data"
    }
   ],
   "source": [
    "# Create the stacked bar chart\n",
    "fig = px.bar(yearly_profit_df.sort_values(by='fiscal_year', ascending=True),\n",
    "              x='display_name',\n",
    "              y='profit',\n",
    "              color='variant',\n",
    "              facet_col='fiscal_year',\n",
    "              barmode='stack',\n",
    "              facet_col_wrap=5,\n",
    "              )\n",
    "\n",
    "# Update axis titles\n",
    "fig.update_xaxes(title_text='', showticklabels=True)\n",
    "fig.update_yaxes(title_text='Profit')\n",
    "\n",
    "\n",
    "annot = []\n",
    "offset = 0.2\n",
    "x_pos = 0.1\n",
    "for year in yearly_profit_df.sort_values(by='fiscal_year', ascending=True)['fiscal_year'].unique():\n",
    "    annot.append(\n",
    "        dict(\n",
    "            text = f'{year}',\n",
    "            x = x_pos,\n",
    "            y = 1,\n",
    "            showarrow = False,\n",
    "            xref = 'paper',\n",
    "            yref='paper'\n",
    "        )\n",
    "    )\n",
    "    x_pos += offset\n",
    "\n",
    "# Update facet titles\n",
    "fig.update_layout(\n",
    "    title='Yearly Profit by Product',\n",
    "    showlegend=True,\n",
    "    legend_title='Variants',\n",
    "    yaxis=dict(title=''), \n",
    "    annotations=annot\n",
    ")\n",
    "\n",
    "fig.show()"
   ]
  },
  {
   "cell_type": "markdown",
   "metadata": {},
   "source": [
    "There has been a remarkable grow in the last years. Remember that this data has only the first 3 months of 2022!\n",
    "\n",
    "The Mforce Gen X is also struggling to keep up when measuring profit. "
   ]
  },
  {
   "cell_type": "markdown",
   "metadata": {},
   "source": [
    "[Back to Contents](#contents)\n",
    "\n",
    "---"
   ]
  },
  {
   "cell_type": "markdown",
   "metadata": {},
   "source": [
    "### Popularity across time and markets"
   ]
  },
  {
   "cell_type": "markdown",
   "metadata": {},
   "source": [
    "How has popularity changed over time and across markets?\n",
    "\n",
    "In this section we'll be looking for seasonality, and patterns in markets."
   ]
  },
  {
   "cell_type": "markdown",
   "metadata": {},
   "source": [
    "First, lets see how each product sells during each month. Since we only have 3 months on 2022 we'll exclude it from this chart. We only want full years."
   ]
  },
  {
   "cell_type": "code",
   "execution_count": 69,
   "metadata": {},
   "outputs": [],
   "source": [
    "# Product sales per month\n",
    "query = \"\"\"\n",
    "SELECT \n",
    "    display_name,\n",
    "    date, \n",
    "    CAST(fiscal_year AS text) as fiscal_year, \n",
    "    SUBSTR('JanFebMarAprMayJunJulAugSepOctNovDec', 3 * CAST(strftime('%m', date) AS int) - 2, 3) AS month, \n",
    "    SUM(sold_quantity) as total_sold\n",
    "FROM fact_sales_monthly\n",
    "    JOIN dim_product USING(product_code)\n",
    "WHERE fiscal_year != 2022\n",
    "GROUP BY product, date\n",
    "ORDER BY product, date ASC\n",
    "\"\"\"\n",
    "\n",
    "sales_by_month_df = pd.read_sql_query(query, con)\n"
   ]
  },
  {
   "cell_type": "code",
   "execution_count": 70,
   "metadata": {},
   "outputs": [],
   "source": [
    "# We'll use this color palette for the next few charts\n",
    "custom_colors=['#003f5c','#58508d', '#bc5090', '#ff6361', '#ffa600']"
   ]
  },
  {
   "cell_type": "code",
   "execution_count": 71,
   "metadata": {},
   "outputs": [
    {
     "data": {
      "application/vnd.plotly.v1+json": {
       "config": {
        "plotlyServerURL": "https://plot.ly"
       },
       "data": [
        {
         "alignmentgroup": "True",
         "hovertemplate": "fiscal_year=2018<br>display_name=AQ Dracula HDD<br>month=%{x}<br>total_sold=%{y}<extra></extra>",
         "legendgroup": "2018",
         "marker": {
          "color": "#003f5c",
          "pattern": {
           "shape": ""
          }
         },
         "name": "2018",
         "offsetgroup": "2018",
         "orientation": "v",
         "showlegend": true,
         "textposition": "auto",
         "type": "bar",
         "x": [
          "Sep",
          "Oct",
          "Nov",
          "Dec",
          "Jan",
          "Feb",
          "Mar",
          "Apr",
          "May",
          "Jun",
          "Jul",
          "Aug"
         ],
         "xaxis": "x4",
         "y": [
          5237,
          6472,
          9642,
          9572,
          5223,
          5056,
          5838,
          5590,
          5112,
          5254,
          5510,
          5399
         ],
         "yaxis": "y4"
        },
        {
         "alignmentgroup": "True",
         "hovertemplate": "fiscal_year=2018<br>display_name=AQ Mforce Gen X<br>month=%{x}<br>total_sold=%{y}<extra></extra>",
         "legendgroup": "2018",
         "marker": {
          "color": "#003f5c",
          "pattern": {
           "shape": ""
          }
         },
         "name": "2018",
         "offsetgroup": "2018",
         "orientation": "v",
         "showlegend": false,
         "textposition": "auto",
         "type": "bar",
         "x": [
          "Sep",
          "Oct",
          "Nov",
          "Dec",
          "Jan",
          "Feb",
          "Mar",
          "Apr",
          "May",
          "Jun",
          "Jul",
          "Aug"
         ],
         "xaxis": "x3",
         "y": [
          6188,
          8388,
          11370,
          12043,
          6490,
          6601,
          6765,
          6692,
          6735,
          6764,
          6311,
          7019
         ],
         "yaxis": "y3"
        },
        {
         "alignmentgroup": "True",
         "hovertemplate": "fiscal_year=2019<br>display_name=AQ Dracula HDD<br>month=%{x}<br>total_sold=%{y}<extra></extra>",
         "legendgroup": "2019",
         "marker": {
          "color": "#58508d",
          "pattern": {
           "shape": ""
          }
         },
         "name": "2019",
         "offsetgroup": "2019",
         "orientation": "v",
         "showlegend": true,
         "textposition": "auto",
         "type": "bar",
         "x": [
          "Sep",
          "Oct",
          "Nov",
          "Dec",
          "Jan",
          "Feb",
          "Mar",
          "Apr",
          "May",
          "Jun",
          "Jul",
          "Aug"
         ],
         "xaxis": "x4",
         "y": [
          12582,
          15863,
          20295,
          21290,
          12342,
          12615,
          11947,
          12094,
          12125,
          12175,
          12228,
          12596
         ],
         "yaxis": "y4"
        },
        {
         "alignmentgroup": "True",
         "hovertemplate": "fiscal_year=2019<br>display_name=AQ Mforce Gen X<br>month=%{x}<br>total_sold=%{y}<extra></extra>",
         "legendgroup": "2019",
         "marker": {
          "color": "#58508d",
          "pattern": {
           "shape": ""
          }
         },
         "name": "2019",
         "offsetgroup": "2019",
         "orientation": "v",
         "showlegend": false,
         "textposition": "auto",
         "type": "bar",
         "x": [
          "Sep",
          "Oct",
          "Nov",
          "Dec",
          "Jan",
          "Feb",
          "Mar",
          "Apr",
          "May",
          "Jun",
          "Jul",
          "Aug"
         ],
         "xaxis": "x3",
         "y": [
          10209,
          12303,
          15721,
          17051,
          9826,
          9696,
          9522,
          9872,
          10156,
          8994,
          7051,
          6960
         ],
         "yaxis": "y3"
        },
        {
         "alignmentgroup": "True",
         "hovertemplate": "fiscal_year=2019<br>display_name=AQ Werewolf NAS HDD<br>month=%{x}<br>total_sold=%{y}<extra></extra>",
         "legendgroup": "2019",
         "marker": {
          "color": "#58508d",
          "pattern": {
           "shape": ""
          }
         },
         "name": "2019",
         "offsetgroup": "2019",
         "orientation": "v",
         "showlegend": false,
         "textposition": "auto",
         "type": "bar",
         "x": [
          "Sep",
          "Oct",
          "Nov",
          "Dec",
          "Jan",
          "Feb",
          "Mar",
          "Apr",
          "May",
          "Jun",
          "Jul",
          "Aug"
         ],
         "xaxis": "x2",
         "y": [
          6349,
          7446,
          9886,
          11564,
          6105,
          6201,
          5886,
          6210,
          6239,
          6414,
          6217,
          5489
         ],
         "yaxis": "y2"
        },
        {
         "alignmentgroup": "True",
         "hovertemplate": "fiscal_year=2020<br>display_name=AQ Dracula HDD<br>month=%{x}<br>total_sold=%{y}<extra></extra>",
         "legendgroup": "2020",
         "marker": {
          "color": "#bc5090",
          "pattern": {
           "shape": ""
          }
         },
         "name": "2020",
         "offsetgroup": "2020",
         "orientation": "v",
         "showlegend": true,
         "textposition": "auto",
         "type": "bar",
         "x": [
          "Sep",
          "Oct",
          "Nov",
          "Dec",
          "Jan",
          "Feb",
          "Mar",
          "Apr",
          "May",
          "Jun",
          "Jul",
          "Aug"
         ],
         "xaxis": "x4",
         "y": [
          21057,
          26592,
          37368,
          38007,
          21387,
          21013,
          2978,
          9650,
          12399,
          19325,
          19425,
          20041
         ],
         "yaxis": "y4"
        },
        {
         "alignmentgroup": "True",
         "hovertemplate": "fiscal_year=2020<br>display_name=AQ Mforce Gen X<br>month=%{x}<br>total_sold=%{y}<extra></extra>",
         "legendgroup": "2020",
         "marker": {
          "color": "#bc5090",
          "pattern": {
           "shape": ""
          }
         },
         "name": "2020",
         "offsetgroup": "2020",
         "orientation": "v",
         "showlegend": false,
         "textposition": "auto",
         "type": "bar",
         "x": [
          "Sep",
          "Oct",
          "Nov",
          "Dec",
          "Jan",
          "Feb",
          "Mar",
          "Apr",
          "May",
          "Jun",
          "Jul",
          "Aug"
         ],
         "xaxis": "x3",
         "y": [
          12119,
          15463,
          19745,
          21810,
          11700,
          10634,
          1602,
          5229,
          6874,
          10386,
          10555,
          11752
         ],
         "yaxis": "y3"
        },
        {
         "alignmentgroup": "True",
         "hovertemplate": "fiscal_year=2020<br>display_name=AQ Werewolf NAS HDD<br>month=%{x}<br>total_sold=%{y}<extra></extra>",
         "legendgroup": "2020",
         "marker": {
          "color": "#bc5090",
          "pattern": {
           "shape": ""
          }
         },
         "name": "2020",
         "offsetgroup": "2020",
         "orientation": "v",
         "showlegend": false,
         "textposition": "auto",
         "type": "bar",
         "x": [
          "Sep",
          "Oct",
          "Nov",
          "Dec",
          "Jan",
          "Feb",
          "Mar",
          "Apr",
          "May",
          "Jun",
          "Jul",
          "Aug"
         ],
         "xaxis": "x2",
         "y": [
          16848,
          19716,
          27680,
          30699,
          15591,
          16040,
          2151,
          7379,
          8973,
          13182,
          15380,
          15332
         ],
         "yaxis": "y2"
        },
        {
         "alignmentgroup": "True",
         "hovertemplate": "fiscal_year=2020<br>display_name=AQ Zion Saga<br>month=%{x}<br>total_sold=%{y}<extra></extra>",
         "legendgroup": "2020",
         "marker": {
          "color": "#bc5090",
          "pattern": {
           "shape": ""
          }
         },
         "name": "2020",
         "offsetgroup": "2020",
         "orientation": "v",
         "showlegend": false,
         "textposition": "auto",
         "type": "bar",
         "x": [
          "Sep",
          "Oct",
          "Nov",
          "Dec",
          "Jan",
          "Feb",
          "Mar",
          "Apr",
          "May",
          "Jun",
          "Jul",
          "Aug"
         ],
         "xaxis": "x",
         "y": [
          5534,
          6287,
          9783,
          9838,
          5756,
          5241,
          742,
          2647,
          3247,
          5235,
          5024,
          5168
         ],
         "yaxis": "y"
        },
        {
         "alignmentgroup": "True",
         "hovertemplate": "fiscal_year=2021<br>display_name=AQ Dracula HDD<br>month=%{x}<br>total_sold=%{y}<extra></extra>",
         "legendgroup": "2021",
         "marker": {
          "color": "#ff6361",
          "pattern": {
           "shape": ""
          }
         },
         "name": "2021",
         "offsetgroup": "2021",
         "orientation": "v",
         "showlegend": true,
         "textposition": "auto",
         "type": "bar",
         "x": [
          "Sep",
          "Oct",
          "Nov",
          "Dec",
          "Jan",
          "Feb",
          "Mar",
          "Apr",
          "May",
          "Jun",
          "Jul",
          "Aug"
         ],
         "xaxis": "x4",
         "y": [
          28694,
          35933,
          50056,
          51811,
          28161,
          28305,
          26895,
          29475,
          27650,
          26412,
          28745,
          28438
         ],
         "yaxis": "y4"
        },
        {
         "alignmentgroup": "True",
         "hovertemplate": "fiscal_year=2021<br>display_name=AQ Mforce Gen X<br>month=%{x}<br>total_sold=%{y}<extra></extra>",
         "legendgroup": "2021",
         "marker": {
          "color": "#ff6361",
          "pattern": {
           "shape": ""
          }
         },
         "name": "2021",
         "offsetgroup": "2021",
         "orientation": "v",
         "showlegend": false,
         "textposition": "auto",
         "type": "bar",
         "x": [
          "Sep",
          "Oct",
          "Nov",
          "Dec",
          "Jan",
          "Feb",
          "Mar",
          "Apr",
          "May",
          "Jun",
          "Jul",
          "Aug"
         ],
         "xaxis": "x3",
         "y": [
          5421,
          7129,
          10007,
          10167,
          5400,
          5564,
          5562,
          5874,
          5580,
          5424,
          5768,
          5961
         ],
         "yaxis": "y3"
        },
        {
         "alignmentgroup": "True",
         "hovertemplate": "fiscal_year=2021<br>display_name=AQ Werewolf NAS HDD<br>month=%{x}<br>total_sold=%{y}<extra></extra>",
         "legendgroup": "2021",
         "marker": {
          "color": "#ff6361",
          "pattern": {
           "shape": ""
          }
         },
         "name": "2021",
         "offsetgroup": "2021",
         "orientation": "v",
         "showlegend": false,
         "textposition": "auto",
         "type": "bar",
         "x": [
          "Sep",
          "Oct",
          "Nov",
          "Dec",
          "Jan",
          "Feb",
          "Mar",
          "Apr",
          "May",
          "Jun",
          "Jul",
          "Aug"
         ],
         "xaxis": "x2",
         "y": [
          21216,
          27228,
          35962,
          38406,
          22242,
          21393,
          21152,
          20742,
          22597,
          20728,
          21291,
          22748
         ],
         "yaxis": "y2"
        },
        {
         "alignmentgroup": "True",
         "hovertemplate": "fiscal_year=2021<br>display_name=AQ Zion Saga<br>month=%{x}<br>total_sold=%{y}<extra></extra>",
         "legendgroup": "2021",
         "marker": {
          "color": "#ff6361",
          "pattern": {
           "shape": ""
          }
         },
         "name": "2021",
         "offsetgroup": "2021",
         "orientation": "v",
         "showlegend": false,
         "textposition": "auto",
         "type": "bar",
         "x": [
          "Sep",
          "Oct",
          "Nov",
          "Dec",
          "Jan",
          "Feb",
          "Mar",
          "Apr",
          "May",
          "Jun",
          "Jul",
          "Aug"
         ],
         "xaxis": "x",
         "y": [
          21660,
          26818,
          34031,
          39566,
          20906,
          21941,
          22216,
          21677,
          20987,
          21655,
          21080,
          21269
         ],
         "yaxis": "y"
        }
       ],
       "layout": {
        "annotations": [
         {
          "font": {},
          "showarrow": false,
          "text": "AQ Zion Saga",
          "x": 0.5,
          "xanchor": "center",
          "xref": "paper",
          "y": 0.16,
          "yanchor": "bottom",
          "yref": "paper"
         },
         {
          "font": {},
          "showarrow": false,
          "text": "AQ Werewolf NAS HDD",
          "x": 0.5,
          "xanchor": "center",
          "xref": "paper",
          "y": 0.44000000000000006,
          "yanchor": "bottom",
          "yref": "paper"
         },
         {
          "font": {},
          "showarrow": false,
          "text": "AQ Mforce Gen X",
          "x": 0.5,
          "xanchor": "center",
          "xref": "paper",
          "y": 0.7200000000000001,
          "yanchor": "bottom",
          "yref": "paper"
         },
         {
          "font": {},
          "showarrow": false,
          "text": "AQ Dracula HDD",
          "x": 0.5,
          "xanchor": "center",
          "xref": "paper",
          "y": 1,
          "yanchor": "bottom",
          "yref": "paper"
         }
        ],
        "barmode": "relative",
        "height": 800,
        "legend": {
         "title": {
          "text": "Fiscal year"
         },
         "tracegroupgap": 0
        },
        "margin": {
         "t": 60
        },
        "showlegend": true,
        "template": {
         "data": {
          "bar": [
           {
            "error_x": {
             "color": "#2a3f5f"
            },
            "error_y": {
             "color": "#2a3f5f"
            },
            "marker": {
             "line": {
              "color": "#E5ECF6",
              "width": 0.5
             },
             "pattern": {
              "fillmode": "overlay",
              "size": 10,
              "solidity": 0.2
             }
            },
            "type": "bar"
           }
          ],
          "barpolar": [
           {
            "marker": {
             "line": {
              "color": "#E5ECF6",
              "width": 0.5
             },
             "pattern": {
              "fillmode": "overlay",
              "size": 10,
              "solidity": 0.2
             }
            },
            "type": "barpolar"
           }
          ],
          "carpet": [
           {
            "aaxis": {
             "endlinecolor": "#2a3f5f",
             "gridcolor": "white",
             "linecolor": "white",
             "minorgridcolor": "white",
             "startlinecolor": "#2a3f5f"
            },
            "baxis": {
             "endlinecolor": "#2a3f5f",
             "gridcolor": "white",
             "linecolor": "white",
             "minorgridcolor": "white",
             "startlinecolor": "#2a3f5f"
            },
            "type": "carpet"
           }
          ],
          "choropleth": [
           {
            "colorbar": {
             "outlinewidth": 0,
             "ticks": ""
            },
            "type": "choropleth"
           }
          ],
          "contour": [
           {
            "colorbar": {
             "outlinewidth": 0,
             "ticks": ""
            },
            "colorscale": [
             [
              0,
              "#0d0887"
             ],
             [
              0.1111111111111111,
              "#46039f"
             ],
             [
              0.2222222222222222,
              "#7201a8"
             ],
             [
              0.3333333333333333,
              "#9c179e"
             ],
             [
              0.4444444444444444,
              "#bd3786"
             ],
             [
              0.5555555555555556,
              "#d8576b"
             ],
             [
              0.6666666666666666,
              "#ed7953"
             ],
             [
              0.7777777777777778,
              "#fb9f3a"
             ],
             [
              0.8888888888888888,
              "#fdca26"
             ],
             [
              1,
              "#f0f921"
             ]
            ],
            "type": "contour"
           }
          ],
          "contourcarpet": [
           {
            "colorbar": {
             "outlinewidth": 0,
             "ticks": ""
            },
            "type": "contourcarpet"
           }
          ],
          "heatmap": [
           {
            "colorbar": {
             "outlinewidth": 0,
             "ticks": ""
            },
            "colorscale": [
             [
              0,
              "#0d0887"
             ],
             [
              0.1111111111111111,
              "#46039f"
             ],
             [
              0.2222222222222222,
              "#7201a8"
             ],
             [
              0.3333333333333333,
              "#9c179e"
             ],
             [
              0.4444444444444444,
              "#bd3786"
             ],
             [
              0.5555555555555556,
              "#d8576b"
             ],
             [
              0.6666666666666666,
              "#ed7953"
             ],
             [
              0.7777777777777778,
              "#fb9f3a"
             ],
             [
              0.8888888888888888,
              "#fdca26"
             ],
             [
              1,
              "#f0f921"
             ]
            ],
            "type": "heatmap"
           }
          ],
          "heatmapgl": [
           {
            "colorbar": {
             "outlinewidth": 0,
             "ticks": ""
            },
            "colorscale": [
             [
              0,
              "#0d0887"
             ],
             [
              0.1111111111111111,
              "#46039f"
             ],
             [
              0.2222222222222222,
              "#7201a8"
             ],
             [
              0.3333333333333333,
              "#9c179e"
             ],
             [
              0.4444444444444444,
              "#bd3786"
             ],
             [
              0.5555555555555556,
              "#d8576b"
             ],
             [
              0.6666666666666666,
              "#ed7953"
             ],
             [
              0.7777777777777778,
              "#fb9f3a"
             ],
             [
              0.8888888888888888,
              "#fdca26"
             ],
             [
              1,
              "#f0f921"
             ]
            ],
            "type": "heatmapgl"
           }
          ],
          "histogram": [
           {
            "marker": {
             "pattern": {
              "fillmode": "overlay",
              "size": 10,
              "solidity": 0.2
             }
            },
            "type": "histogram"
           }
          ],
          "histogram2d": [
           {
            "colorbar": {
             "outlinewidth": 0,
             "ticks": ""
            },
            "colorscale": [
             [
              0,
              "#0d0887"
             ],
             [
              0.1111111111111111,
              "#46039f"
             ],
             [
              0.2222222222222222,
              "#7201a8"
             ],
             [
              0.3333333333333333,
              "#9c179e"
             ],
             [
              0.4444444444444444,
              "#bd3786"
             ],
             [
              0.5555555555555556,
              "#d8576b"
             ],
             [
              0.6666666666666666,
              "#ed7953"
             ],
             [
              0.7777777777777778,
              "#fb9f3a"
             ],
             [
              0.8888888888888888,
              "#fdca26"
             ],
             [
              1,
              "#f0f921"
             ]
            ],
            "type": "histogram2d"
           }
          ],
          "histogram2dcontour": [
           {
            "colorbar": {
             "outlinewidth": 0,
             "ticks": ""
            },
            "colorscale": [
             [
              0,
              "#0d0887"
             ],
             [
              0.1111111111111111,
              "#46039f"
             ],
             [
              0.2222222222222222,
              "#7201a8"
             ],
             [
              0.3333333333333333,
              "#9c179e"
             ],
             [
              0.4444444444444444,
              "#bd3786"
             ],
             [
              0.5555555555555556,
              "#d8576b"
             ],
             [
              0.6666666666666666,
              "#ed7953"
             ],
             [
              0.7777777777777778,
              "#fb9f3a"
             ],
             [
              0.8888888888888888,
              "#fdca26"
             ],
             [
              1,
              "#f0f921"
             ]
            ],
            "type": "histogram2dcontour"
           }
          ],
          "mesh3d": [
           {
            "colorbar": {
             "outlinewidth": 0,
             "ticks": ""
            },
            "type": "mesh3d"
           }
          ],
          "parcoords": [
           {
            "line": {
             "colorbar": {
              "outlinewidth": 0,
              "ticks": ""
             }
            },
            "type": "parcoords"
           }
          ],
          "pie": [
           {
            "automargin": true,
            "type": "pie"
           }
          ],
          "scatter": [
           {
            "fillpattern": {
             "fillmode": "overlay",
             "size": 10,
             "solidity": 0.2
            },
            "type": "scatter"
           }
          ],
          "scatter3d": [
           {
            "line": {
             "colorbar": {
              "outlinewidth": 0,
              "ticks": ""
             }
            },
            "marker": {
             "colorbar": {
              "outlinewidth": 0,
              "ticks": ""
             }
            },
            "type": "scatter3d"
           }
          ],
          "scattercarpet": [
           {
            "marker": {
             "colorbar": {
              "outlinewidth": 0,
              "ticks": ""
             }
            },
            "type": "scattercarpet"
           }
          ],
          "scattergeo": [
           {
            "marker": {
             "colorbar": {
              "outlinewidth": 0,
              "ticks": ""
             }
            },
            "type": "scattergeo"
           }
          ],
          "scattergl": [
           {
            "marker": {
             "colorbar": {
              "outlinewidth": 0,
              "ticks": ""
             }
            },
            "type": "scattergl"
           }
          ],
          "scattermapbox": [
           {
            "marker": {
             "colorbar": {
              "outlinewidth": 0,
              "ticks": ""
             }
            },
            "type": "scattermapbox"
           }
          ],
          "scatterpolar": [
           {
            "marker": {
             "colorbar": {
              "outlinewidth": 0,
              "ticks": ""
             }
            },
            "type": "scatterpolar"
           }
          ],
          "scatterpolargl": [
           {
            "marker": {
             "colorbar": {
              "outlinewidth": 0,
              "ticks": ""
             }
            },
            "type": "scatterpolargl"
           }
          ],
          "scatterternary": [
           {
            "marker": {
             "colorbar": {
              "outlinewidth": 0,
              "ticks": ""
             }
            },
            "type": "scatterternary"
           }
          ],
          "surface": [
           {
            "colorbar": {
             "outlinewidth": 0,
             "ticks": ""
            },
            "colorscale": [
             [
              0,
              "#0d0887"
             ],
             [
              0.1111111111111111,
              "#46039f"
             ],
             [
              0.2222222222222222,
              "#7201a8"
             ],
             [
              0.3333333333333333,
              "#9c179e"
             ],
             [
              0.4444444444444444,
              "#bd3786"
             ],
             [
              0.5555555555555556,
              "#d8576b"
             ],
             [
              0.6666666666666666,
              "#ed7953"
             ],
             [
              0.7777777777777778,
              "#fb9f3a"
             ],
             [
              0.8888888888888888,
              "#fdca26"
             ],
             [
              1,
              "#f0f921"
             ]
            ],
            "type": "surface"
           }
          ],
          "table": [
           {
            "cells": {
             "fill": {
              "color": "#EBF0F8"
             },
             "line": {
              "color": "white"
             }
            },
            "header": {
             "fill": {
              "color": "#C8D4E3"
             },
             "line": {
              "color": "white"
             }
            },
            "type": "table"
           }
          ]
         },
         "layout": {
          "annotationdefaults": {
           "arrowcolor": "#2a3f5f",
           "arrowhead": 0,
           "arrowwidth": 1
          },
          "autotypenumbers": "strict",
          "coloraxis": {
           "colorbar": {
            "outlinewidth": 0,
            "ticks": ""
           }
          },
          "colorscale": {
           "diverging": [
            [
             0,
             "#8e0152"
            ],
            [
             0.1,
             "#c51b7d"
            ],
            [
             0.2,
             "#de77ae"
            ],
            [
             0.3,
             "#f1b6da"
            ],
            [
             0.4,
             "#fde0ef"
            ],
            [
             0.5,
             "#f7f7f7"
            ],
            [
             0.6,
             "#e6f5d0"
            ],
            [
             0.7,
             "#b8e186"
            ],
            [
             0.8,
             "#7fbc41"
            ],
            [
             0.9,
             "#4d9221"
            ],
            [
             1,
             "#276419"
            ]
           ],
           "sequential": [
            [
             0,
             "#0d0887"
            ],
            [
             0.1111111111111111,
             "#46039f"
            ],
            [
             0.2222222222222222,
             "#7201a8"
            ],
            [
             0.3333333333333333,
             "#9c179e"
            ],
            [
             0.4444444444444444,
             "#bd3786"
            ],
            [
             0.5555555555555556,
             "#d8576b"
            ],
            [
             0.6666666666666666,
             "#ed7953"
            ],
            [
             0.7777777777777778,
             "#fb9f3a"
            ],
            [
             0.8888888888888888,
             "#fdca26"
            ],
            [
             1,
             "#f0f921"
            ]
           ],
           "sequentialminus": [
            [
             0,
             "#0d0887"
            ],
            [
             0.1111111111111111,
             "#46039f"
            ],
            [
             0.2222222222222222,
             "#7201a8"
            ],
            [
             0.3333333333333333,
             "#9c179e"
            ],
            [
             0.4444444444444444,
             "#bd3786"
            ],
            [
             0.5555555555555556,
             "#d8576b"
            ],
            [
             0.6666666666666666,
             "#ed7953"
            ],
            [
             0.7777777777777778,
             "#fb9f3a"
            ],
            [
             0.8888888888888888,
             "#fdca26"
            ],
            [
             1,
             "#f0f921"
            ]
           ]
          },
          "colorway": [
           "#636efa",
           "#EF553B",
           "#00cc96",
           "#ab63fa",
           "#FFA15A",
           "#19d3f3",
           "#FF6692",
           "#B6E880",
           "#FF97FF",
           "#FECB52"
          ],
          "font": {
           "color": "#2a3f5f"
          },
          "geo": {
           "bgcolor": "white",
           "lakecolor": "white",
           "landcolor": "#E5ECF6",
           "showlakes": true,
           "showland": true,
           "subunitcolor": "white"
          },
          "hoverlabel": {
           "align": "left"
          },
          "hovermode": "closest",
          "mapbox": {
           "style": "light"
          },
          "paper_bgcolor": "white",
          "plot_bgcolor": "#E5ECF6",
          "polar": {
           "angularaxis": {
            "gridcolor": "white",
            "linecolor": "white",
            "ticks": ""
           },
           "bgcolor": "#E5ECF6",
           "radialaxis": {
            "gridcolor": "white",
            "linecolor": "white",
            "ticks": ""
           }
          },
          "scene": {
           "xaxis": {
            "backgroundcolor": "#E5ECF6",
            "gridcolor": "white",
            "gridwidth": 2,
            "linecolor": "white",
            "showbackground": true,
            "ticks": "",
            "zerolinecolor": "white"
           },
           "yaxis": {
            "backgroundcolor": "#E5ECF6",
            "gridcolor": "white",
            "gridwidth": 2,
            "linecolor": "white",
            "showbackground": true,
            "ticks": "",
            "zerolinecolor": "white"
           },
           "zaxis": {
            "backgroundcolor": "#E5ECF6",
            "gridcolor": "white",
            "gridwidth": 2,
            "linecolor": "white",
            "showbackground": true,
            "ticks": "",
            "zerolinecolor": "white"
           }
          },
          "shapedefaults": {
           "line": {
            "color": "#2a3f5f"
           }
          },
          "ternary": {
           "aaxis": {
            "gridcolor": "white",
            "linecolor": "white",
            "ticks": ""
           },
           "baxis": {
            "gridcolor": "white",
            "linecolor": "white",
            "ticks": ""
           },
           "bgcolor": "#E5ECF6",
           "caxis": {
            "gridcolor": "white",
            "linecolor": "white",
            "ticks": ""
           }
          },
          "title": {
           "x": 0.05
          },
          "xaxis": {
           "automargin": true,
           "gridcolor": "white",
           "linecolor": "white",
           "ticks": "",
           "title": {
            "standoff": 15
           },
           "zerolinecolor": "white",
           "zerolinewidth": 2
          },
          "yaxis": {
           "automargin": true,
           "gridcolor": "white",
           "linecolor": "white",
           "ticks": "",
           "title": {
            "standoff": 15
           },
           "zerolinecolor": "white",
           "zerolinewidth": 2
          }
         }
        },
        "title": {
         "text": "Total sales by month"
        },
        "width": 800,
        "xaxis": {
         "anchor": "y",
         "domain": [
          0,
          1
         ],
         "showticklabels": true,
         "title": {
          "text": ""
         }
        },
        "xaxis2": {
         "anchor": "y2",
         "domain": [
          0,
          1
         ],
         "matches": "x",
         "showticklabels": true,
         "title": {
          "text": ""
         }
        },
        "xaxis3": {
         "anchor": "y3",
         "domain": [
          0,
          1
         ],
         "matches": "x",
         "showticklabels": true,
         "title": {
          "text": ""
         }
        },
        "xaxis4": {
         "anchor": "y4",
         "domain": [
          0,
          1
         ],
         "matches": "x",
         "showticklabels": true,
         "title": {
          "text": ""
         }
        },
        "yaxis": {
         "anchor": "x",
         "domain": [
          0,
          0.16
         ],
         "title": {
          "text": ""
         }
        },
        "yaxis2": {
         "anchor": "x2",
         "domain": [
          0.28,
          0.44000000000000006
         ],
         "matches": "y",
         "title": {
          "text": ""
         }
        },
        "yaxis3": {
         "anchor": "x3",
         "domain": [
          0.56,
          0.7200000000000001
         ],
         "matches": "y",
         "title": {
          "text": ""
         }
        },
        "yaxis4": {
         "anchor": "x4",
         "domain": [
          0.84,
          1
         ],
         "matches": "y",
         "title": {
          "text": ""
         }
        }
       }
      }
     },
     "metadata": {},
     "output_type": "display_data"
    }
   ],
   "source": [
    "# Build a stacked bar chart with sales on each year.\n",
    "fig = px.bar(data_frame=sales_by_month_df,\n",
    "             x='month',\n",
    "             y='total_sold',\n",
    "             facet_col='display_name',\n",
    "             color='fiscal_year',\n",
    "             facet_col_wrap=1,\n",
    "             facet_row_spacing=0.12,\n",
    "             width=800,\n",
    "             height=800,\n",
    "             color_discrete_sequence=custom_colors\n",
    "             )\n",
    "\n",
    "# Update axis titles\n",
    "fig.update_xaxes(title_text='', showticklabels=True)\n",
    "fig.update_yaxes(title_text='')\n",
    "\n",
    "# Remove \"product=\" prefix from facet labels\n",
    "fig.for_each_annotation(lambda a: a.update(text=a.text.split(\"=\")[1]))\n",
    "\n",
    "fig.update_layout(\n",
    "    title='Total sales by month',\n",
    "    legend_title_text='Fiscal year',\n",
    "    showlegend=True\n",
    ")\n",
    "\n",
    "\n",
    "fig.show()"
   ]
  },
  {
   "cell_type": "markdown",
   "metadata": {},
   "source": [
    "Notice that the chart starts in September. That is the start of Atliq's fiscal year.\n",
    "\n",
    "There is a jump in sales in the last months of the year. It happens with all the products.\n",
    "\n",
    "It shows very clearly if we plot a historic chart."
   ]
  },
  {
   "cell_type": "code",
   "execution_count": 72,
   "metadata": {},
   "outputs": [
    {
     "data": {
      "application/vnd.plotly.v1+json": {
       "config": {
        "plotlyServerURL": "https://plot.ly"
       },
       "data": [
        {
         "alignmentgroup": "True",
         "hovertemplate": "fiscal_year=2018<br>display_name=AQ Dracula HDD<br>date=%{x}<br>total_sold=%{y}<extra></extra>",
         "legendgroup": "2018",
         "marker": {
          "color": "#003f5c",
          "pattern": {
           "shape": ""
          }
         },
         "name": "2018",
         "offsetgroup": "2018",
         "orientation": "v",
         "showlegend": true,
         "textposition": "auto",
         "type": "bar",
         "x": [
          "2017-09-01",
          "2017-10-01",
          "2017-11-01",
          "2017-12-01",
          "2018-01-01",
          "2018-02-01",
          "2018-03-01",
          "2018-04-01",
          "2018-05-01",
          "2018-06-01",
          "2018-07-01",
          "2018-08-01"
         ],
         "xaxis": "x4",
         "y": [
          5237,
          6472,
          9642,
          9572,
          5223,
          5056,
          5838,
          5590,
          5112,
          5254,
          5510,
          5399
         ],
         "yaxis": "y4"
        },
        {
         "alignmentgroup": "True",
         "hovertemplate": "fiscal_year=2018<br>display_name=AQ Mforce Gen X<br>date=%{x}<br>total_sold=%{y}<extra></extra>",
         "legendgroup": "2018",
         "marker": {
          "color": "#003f5c",
          "pattern": {
           "shape": ""
          }
         },
         "name": "2018",
         "offsetgroup": "2018",
         "orientation": "v",
         "showlegend": false,
         "textposition": "auto",
         "type": "bar",
         "x": [
          "2017-09-01",
          "2017-10-01",
          "2017-11-01",
          "2017-12-01",
          "2018-01-01",
          "2018-02-01",
          "2018-03-01",
          "2018-04-01",
          "2018-05-01",
          "2018-06-01",
          "2018-07-01",
          "2018-08-01"
         ],
         "xaxis": "x3",
         "y": [
          6188,
          8388,
          11370,
          12043,
          6490,
          6601,
          6765,
          6692,
          6735,
          6764,
          6311,
          7019
         ],
         "yaxis": "y3"
        },
        {
         "alignmentgroup": "True",
         "hovertemplate": "fiscal_year=2019<br>display_name=AQ Dracula HDD<br>date=%{x}<br>total_sold=%{y}<extra></extra>",
         "legendgroup": "2019",
         "marker": {
          "color": "#58508d",
          "pattern": {
           "shape": ""
          }
         },
         "name": "2019",
         "offsetgroup": "2019",
         "orientation": "v",
         "showlegend": true,
         "textposition": "auto",
         "type": "bar",
         "x": [
          "2018-09-01",
          "2018-10-01",
          "2018-11-01",
          "2018-12-01",
          "2019-01-01",
          "2019-02-01",
          "2019-03-01",
          "2019-04-01",
          "2019-05-01",
          "2019-06-01",
          "2019-07-01",
          "2019-08-01"
         ],
         "xaxis": "x4",
         "y": [
          12582,
          15863,
          20295,
          21290,
          12342,
          12615,
          11947,
          12094,
          12125,
          12175,
          12228,
          12596
         ],
         "yaxis": "y4"
        },
        {
         "alignmentgroup": "True",
         "hovertemplate": "fiscal_year=2019<br>display_name=AQ Mforce Gen X<br>date=%{x}<br>total_sold=%{y}<extra></extra>",
         "legendgroup": "2019",
         "marker": {
          "color": "#58508d",
          "pattern": {
           "shape": ""
          }
         },
         "name": "2019",
         "offsetgroup": "2019",
         "orientation": "v",
         "showlegend": false,
         "textposition": "auto",
         "type": "bar",
         "x": [
          "2018-09-01",
          "2018-10-01",
          "2018-11-01",
          "2018-12-01",
          "2019-01-01",
          "2019-02-01",
          "2019-03-01",
          "2019-04-01",
          "2019-05-01",
          "2019-06-01",
          "2019-07-01",
          "2019-08-01"
         ],
         "xaxis": "x3",
         "y": [
          10209,
          12303,
          15721,
          17051,
          9826,
          9696,
          9522,
          9872,
          10156,
          8994,
          7051,
          6960
         ],
         "yaxis": "y3"
        },
        {
         "alignmentgroup": "True",
         "hovertemplate": "fiscal_year=2019<br>display_name=AQ Werewolf NAS HDD<br>date=%{x}<br>total_sold=%{y}<extra></extra>",
         "legendgroup": "2019",
         "marker": {
          "color": "#58508d",
          "pattern": {
           "shape": ""
          }
         },
         "name": "2019",
         "offsetgroup": "2019",
         "orientation": "v",
         "showlegend": false,
         "textposition": "auto",
         "type": "bar",
         "x": [
          "2018-09-01",
          "2018-10-01",
          "2018-11-01",
          "2018-12-01",
          "2019-01-01",
          "2019-02-01",
          "2019-03-01",
          "2019-04-01",
          "2019-05-01",
          "2019-06-01",
          "2019-07-01",
          "2019-08-01"
         ],
         "xaxis": "x2",
         "y": [
          6349,
          7446,
          9886,
          11564,
          6105,
          6201,
          5886,
          6210,
          6239,
          6414,
          6217,
          5489
         ],
         "yaxis": "y2"
        },
        {
         "alignmentgroup": "True",
         "hovertemplate": "fiscal_year=2020<br>display_name=AQ Dracula HDD<br>date=%{x}<br>total_sold=%{y}<extra></extra>",
         "legendgroup": "2020",
         "marker": {
          "color": "#bc5090",
          "pattern": {
           "shape": ""
          }
         },
         "name": "2020",
         "offsetgroup": "2020",
         "orientation": "v",
         "showlegend": true,
         "textposition": "auto",
         "type": "bar",
         "x": [
          "2019-09-01",
          "2019-10-01",
          "2019-11-01",
          "2019-12-01",
          "2020-01-01",
          "2020-02-01",
          "2020-03-01",
          "2020-04-01",
          "2020-05-01",
          "2020-06-01",
          "2020-07-01",
          "2020-08-01"
         ],
         "xaxis": "x4",
         "y": [
          21057,
          26592,
          37368,
          38007,
          21387,
          21013,
          2978,
          9650,
          12399,
          19325,
          19425,
          20041
         ],
         "yaxis": "y4"
        },
        {
         "alignmentgroup": "True",
         "hovertemplate": "fiscal_year=2020<br>display_name=AQ Mforce Gen X<br>date=%{x}<br>total_sold=%{y}<extra></extra>",
         "legendgroup": "2020",
         "marker": {
          "color": "#bc5090",
          "pattern": {
           "shape": ""
          }
         },
         "name": "2020",
         "offsetgroup": "2020",
         "orientation": "v",
         "showlegend": false,
         "textposition": "auto",
         "type": "bar",
         "x": [
          "2019-09-01",
          "2019-10-01",
          "2019-11-01",
          "2019-12-01",
          "2020-01-01",
          "2020-02-01",
          "2020-03-01",
          "2020-04-01",
          "2020-05-01",
          "2020-06-01",
          "2020-07-01",
          "2020-08-01"
         ],
         "xaxis": "x3",
         "y": [
          12119,
          15463,
          19745,
          21810,
          11700,
          10634,
          1602,
          5229,
          6874,
          10386,
          10555,
          11752
         ],
         "yaxis": "y3"
        },
        {
         "alignmentgroup": "True",
         "hovertemplate": "fiscal_year=2020<br>display_name=AQ Werewolf NAS HDD<br>date=%{x}<br>total_sold=%{y}<extra></extra>",
         "legendgroup": "2020",
         "marker": {
          "color": "#bc5090",
          "pattern": {
           "shape": ""
          }
         },
         "name": "2020",
         "offsetgroup": "2020",
         "orientation": "v",
         "showlegend": false,
         "textposition": "auto",
         "type": "bar",
         "x": [
          "2019-09-01",
          "2019-10-01",
          "2019-11-01",
          "2019-12-01",
          "2020-01-01",
          "2020-02-01",
          "2020-03-01",
          "2020-04-01",
          "2020-05-01",
          "2020-06-01",
          "2020-07-01",
          "2020-08-01"
         ],
         "xaxis": "x2",
         "y": [
          16848,
          19716,
          27680,
          30699,
          15591,
          16040,
          2151,
          7379,
          8973,
          13182,
          15380,
          15332
         ],
         "yaxis": "y2"
        },
        {
         "alignmentgroup": "True",
         "hovertemplate": "fiscal_year=2020<br>display_name=AQ Zion Saga<br>date=%{x}<br>total_sold=%{y}<extra></extra>",
         "legendgroup": "2020",
         "marker": {
          "color": "#bc5090",
          "pattern": {
           "shape": ""
          }
         },
         "name": "2020",
         "offsetgroup": "2020",
         "orientation": "v",
         "showlegend": false,
         "textposition": "auto",
         "type": "bar",
         "x": [
          "2019-09-01",
          "2019-10-01",
          "2019-11-01",
          "2019-12-01",
          "2020-01-01",
          "2020-02-01",
          "2020-03-01",
          "2020-04-01",
          "2020-05-01",
          "2020-06-01",
          "2020-07-01",
          "2020-08-01"
         ],
         "xaxis": "x",
         "y": [
          5534,
          6287,
          9783,
          9838,
          5756,
          5241,
          742,
          2647,
          3247,
          5235,
          5024,
          5168
         ],
         "yaxis": "y"
        },
        {
         "alignmentgroup": "True",
         "hovertemplate": "fiscal_year=2021<br>display_name=AQ Dracula HDD<br>date=%{x}<br>total_sold=%{y}<extra></extra>",
         "legendgroup": "2021",
         "marker": {
          "color": "#ff6361",
          "pattern": {
           "shape": ""
          }
         },
         "name": "2021",
         "offsetgroup": "2021",
         "orientation": "v",
         "showlegend": true,
         "textposition": "auto",
         "type": "bar",
         "x": [
          "2020-09-01",
          "2020-10-01",
          "2020-11-01",
          "2020-12-01",
          "2021-01-01",
          "2021-02-01",
          "2021-03-01",
          "2021-04-01",
          "2021-05-01",
          "2021-06-01",
          "2021-07-01",
          "2021-08-01"
         ],
         "xaxis": "x4",
         "y": [
          28694,
          35933,
          50056,
          51811,
          28161,
          28305,
          26895,
          29475,
          27650,
          26412,
          28745,
          28438
         ],
         "yaxis": "y4"
        },
        {
         "alignmentgroup": "True",
         "hovertemplate": "fiscal_year=2021<br>display_name=AQ Mforce Gen X<br>date=%{x}<br>total_sold=%{y}<extra></extra>",
         "legendgroup": "2021",
         "marker": {
          "color": "#ff6361",
          "pattern": {
           "shape": ""
          }
         },
         "name": "2021",
         "offsetgroup": "2021",
         "orientation": "v",
         "showlegend": false,
         "textposition": "auto",
         "type": "bar",
         "x": [
          "2020-09-01",
          "2020-10-01",
          "2020-11-01",
          "2020-12-01",
          "2021-01-01",
          "2021-02-01",
          "2021-03-01",
          "2021-04-01",
          "2021-05-01",
          "2021-06-01",
          "2021-07-01",
          "2021-08-01"
         ],
         "xaxis": "x3",
         "y": [
          5421,
          7129,
          10007,
          10167,
          5400,
          5564,
          5562,
          5874,
          5580,
          5424,
          5768,
          5961
         ],
         "yaxis": "y3"
        },
        {
         "alignmentgroup": "True",
         "hovertemplate": "fiscal_year=2021<br>display_name=AQ Werewolf NAS HDD<br>date=%{x}<br>total_sold=%{y}<extra></extra>",
         "legendgroup": "2021",
         "marker": {
          "color": "#ff6361",
          "pattern": {
           "shape": ""
          }
         },
         "name": "2021",
         "offsetgroup": "2021",
         "orientation": "v",
         "showlegend": false,
         "textposition": "auto",
         "type": "bar",
         "x": [
          "2020-09-01",
          "2020-10-01",
          "2020-11-01",
          "2020-12-01",
          "2021-01-01",
          "2021-02-01",
          "2021-03-01",
          "2021-04-01",
          "2021-05-01",
          "2021-06-01",
          "2021-07-01",
          "2021-08-01"
         ],
         "xaxis": "x2",
         "y": [
          21216,
          27228,
          35962,
          38406,
          22242,
          21393,
          21152,
          20742,
          22597,
          20728,
          21291,
          22748
         ],
         "yaxis": "y2"
        },
        {
         "alignmentgroup": "True",
         "hovertemplate": "fiscal_year=2021<br>display_name=AQ Zion Saga<br>date=%{x}<br>total_sold=%{y}<extra></extra>",
         "legendgroup": "2021",
         "marker": {
          "color": "#ff6361",
          "pattern": {
           "shape": ""
          }
         },
         "name": "2021",
         "offsetgroup": "2021",
         "orientation": "v",
         "showlegend": false,
         "textposition": "auto",
         "type": "bar",
         "x": [
          "2020-09-01",
          "2020-10-01",
          "2020-11-01",
          "2020-12-01",
          "2021-01-01",
          "2021-02-01",
          "2021-03-01",
          "2021-04-01",
          "2021-05-01",
          "2021-06-01",
          "2021-07-01",
          "2021-08-01"
         ],
         "xaxis": "x",
         "y": [
          21660,
          26818,
          34031,
          39566,
          20906,
          21941,
          22216,
          21677,
          20987,
          21655,
          21080,
          21269
         ],
         "yaxis": "y"
        }
       ],
       "layout": {
        "annotations": [
         {
          "font": {},
          "showarrow": false,
          "text": "AQ Zion Saga",
          "x": 0.5,
          "xanchor": "center",
          "xref": "paper",
          "y": 0.16,
          "yanchor": "bottom",
          "yref": "paper"
         },
         {
          "font": {},
          "showarrow": false,
          "text": "AQ Werewolf NAS HDD",
          "x": 0.5,
          "xanchor": "center",
          "xref": "paper",
          "y": 0.44000000000000006,
          "yanchor": "bottom",
          "yref": "paper"
         },
         {
          "font": {},
          "showarrow": false,
          "text": "AQ Mforce Gen X",
          "x": 0.5,
          "xanchor": "center",
          "xref": "paper",
          "y": 0.7200000000000001,
          "yanchor": "bottom",
          "yref": "paper"
         },
         {
          "font": {},
          "showarrow": false,
          "text": "AQ Dracula HDD",
          "x": 0.5,
          "xanchor": "center",
          "xref": "paper",
          "y": 1,
          "yanchor": "bottom",
          "yref": "paper"
         }
        ],
        "barmode": "relative",
        "height": 600,
        "legend": {
         "title": {
          "text": "Fiscal year"
         },
         "tracegroupgap": 0
        },
        "margin": {
         "t": 60
        },
        "template": {
         "data": {
          "bar": [
           {
            "error_x": {
             "color": "#2a3f5f"
            },
            "error_y": {
             "color": "#2a3f5f"
            },
            "marker": {
             "line": {
              "color": "#E5ECF6",
              "width": 0.5
             },
             "pattern": {
              "fillmode": "overlay",
              "size": 10,
              "solidity": 0.2
             }
            },
            "type": "bar"
           }
          ],
          "barpolar": [
           {
            "marker": {
             "line": {
              "color": "#E5ECF6",
              "width": 0.5
             },
             "pattern": {
              "fillmode": "overlay",
              "size": 10,
              "solidity": 0.2
             }
            },
            "type": "barpolar"
           }
          ],
          "carpet": [
           {
            "aaxis": {
             "endlinecolor": "#2a3f5f",
             "gridcolor": "white",
             "linecolor": "white",
             "minorgridcolor": "white",
             "startlinecolor": "#2a3f5f"
            },
            "baxis": {
             "endlinecolor": "#2a3f5f",
             "gridcolor": "white",
             "linecolor": "white",
             "minorgridcolor": "white",
             "startlinecolor": "#2a3f5f"
            },
            "type": "carpet"
           }
          ],
          "choropleth": [
           {
            "colorbar": {
             "outlinewidth": 0,
             "ticks": ""
            },
            "type": "choropleth"
           }
          ],
          "contour": [
           {
            "colorbar": {
             "outlinewidth": 0,
             "ticks": ""
            },
            "colorscale": [
             [
              0,
              "#0d0887"
             ],
             [
              0.1111111111111111,
              "#46039f"
             ],
             [
              0.2222222222222222,
              "#7201a8"
             ],
             [
              0.3333333333333333,
              "#9c179e"
             ],
             [
              0.4444444444444444,
              "#bd3786"
             ],
             [
              0.5555555555555556,
              "#d8576b"
             ],
             [
              0.6666666666666666,
              "#ed7953"
             ],
             [
              0.7777777777777778,
              "#fb9f3a"
             ],
             [
              0.8888888888888888,
              "#fdca26"
             ],
             [
              1,
              "#f0f921"
             ]
            ],
            "type": "contour"
           }
          ],
          "contourcarpet": [
           {
            "colorbar": {
             "outlinewidth": 0,
             "ticks": ""
            },
            "type": "contourcarpet"
           }
          ],
          "heatmap": [
           {
            "colorbar": {
             "outlinewidth": 0,
             "ticks": ""
            },
            "colorscale": [
             [
              0,
              "#0d0887"
             ],
             [
              0.1111111111111111,
              "#46039f"
             ],
             [
              0.2222222222222222,
              "#7201a8"
             ],
             [
              0.3333333333333333,
              "#9c179e"
             ],
             [
              0.4444444444444444,
              "#bd3786"
             ],
             [
              0.5555555555555556,
              "#d8576b"
             ],
             [
              0.6666666666666666,
              "#ed7953"
             ],
             [
              0.7777777777777778,
              "#fb9f3a"
             ],
             [
              0.8888888888888888,
              "#fdca26"
             ],
             [
              1,
              "#f0f921"
             ]
            ],
            "type": "heatmap"
           }
          ],
          "heatmapgl": [
           {
            "colorbar": {
             "outlinewidth": 0,
             "ticks": ""
            },
            "colorscale": [
             [
              0,
              "#0d0887"
             ],
             [
              0.1111111111111111,
              "#46039f"
             ],
             [
              0.2222222222222222,
              "#7201a8"
             ],
             [
              0.3333333333333333,
              "#9c179e"
             ],
             [
              0.4444444444444444,
              "#bd3786"
             ],
             [
              0.5555555555555556,
              "#d8576b"
             ],
             [
              0.6666666666666666,
              "#ed7953"
             ],
             [
              0.7777777777777778,
              "#fb9f3a"
             ],
             [
              0.8888888888888888,
              "#fdca26"
             ],
             [
              1,
              "#f0f921"
             ]
            ],
            "type": "heatmapgl"
           }
          ],
          "histogram": [
           {
            "marker": {
             "pattern": {
              "fillmode": "overlay",
              "size": 10,
              "solidity": 0.2
             }
            },
            "type": "histogram"
           }
          ],
          "histogram2d": [
           {
            "colorbar": {
             "outlinewidth": 0,
             "ticks": ""
            },
            "colorscale": [
             [
              0,
              "#0d0887"
             ],
             [
              0.1111111111111111,
              "#46039f"
             ],
             [
              0.2222222222222222,
              "#7201a8"
             ],
             [
              0.3333333333333333,
              "#9c179e"
             ],
             [
              0.4444444444444444,
              "#bd3786"
             ],
             [
              0.5555555555555556,
              "#d8576b"
             ],
             [
              0.6666666666666666,
              "#ed7953"
             ],
             [
              0.7777777777777778,
              "#fb9f3a"
             ],
             [
              0.8888888888888888,
              "#fdca26"
             ],
             [
              1,
              "#f0f921"
             ]
            ],
            "type": "histogram2d"
           }
          ],
          "histogram2dcontour": [
           {
            "colorbar": {
             "outlinewidth": 0,
             "ticks": ""
            },
            "colorscale": [
             [
              0,
              "#0d0887"
             ],
             [
              0.1111111111111111,
              "#46039f"
             ],
             [
              0.2222222222222222,
              "#7201a8"
             ],
             [
              0.3333333333333333,
              "#9c179e"
             ],
             [
              0.4444444444444444,
              "#bd3786"
             ],
             [
              0.5555555555555556,
              "#d8576b"
             ],
             [
              0.6666666666666666,
              "#ed7953"
             ],
             [
              0.7777777777777778,
              "#fb9f3a"
             ],
             [
              0.8888888888888888,
              "#fdca26"
             ],
             [
              1,
              "#f0f921"
             ]
            ],
            "type": "histogram2dcontour"
           }
          ],
          "mesh3d": [
           {
            "colorbar": {
             "outlinewidth": 0,
             "ticks": ""
            },
            "type": "mesh3d"
           }
          ],
          "parcoords": [
           {
            "line": {
             "colorbar": {
              "outlinewidth": 0,
              "ticks": ""
             }
            },
            "type": "parcoords"
           }
          ],
          "pie": [
           {
            "automargin": true,
            "type": "pie"
           }
          ],
          "scatter": [
           {
            "fillpattern": {
             "fillmode": "overlay",
             "size": 10,
             "solidity": 0.2
            },
            "type": "scatter"
           }
          ],
          "scatter3d": [
           {
            "line": {
             "colorbar": {
              "outlinewidth": 0,
              "ticks": ""
             }
            },
            "marker": {
             "colorbar": {
              "outlinewidth": 0,
              "ticks": ""
             }
            },
            "type": "scatter3d"
           }
          ],
          "scattercarpet": [
           {
            "marker": {
             "colorbar": {
              "outlinewidth": 0,
              "ticks": ""
             }
            },
            "type": "scattercarpet"
           }
          ],
          "scattergeo": [
           {
            "marker": {
             "colorbar": {
              "outlinewidth": 0,
              "ticks": ""
             }
            },
            "type": "scattergeo"
           }
          ],
          "scattergl": [
           {
            "marker": {
             "colorbar": {
              "outlinewidth": 0,
              "ticks": ""
             }
            },
            "type": "scattergl"
           }
          ],
          "scattermapbox": [
           {
            "marker": {
             "colorbar": {
              "outlinewidth": 0,
              "ticks": ""
             }
            },
            "type": "scattermapbox"
           }
          ],
          "scatterpolar": [
           {
            "marker": {
             "colorbar": {
              "outlinewidth": 0,
              "ticks": ""
             }
            },
            "type": "scatterpolar"
           }
          ],
          "scatterpolargl": [
           {
            "marker": {
             "colorbar": {
              "outlinewidth": 0,
              "ticks": ""
             }
            },
            "type": "scatterpolargl"
           }
          ],
          "scatterternary": [
           {
            "marker": {
             "colorbar": {
              "outlinewidth": 0,
              "ticks": ""
             }
            },
            "type": "scatterternary"
           }
          ],
          "surface": [
           {
            "colorbar": {
             "outlinewidth": 0,
             "ticks": ""
            },
            "colorscale": [
             [
              0,
              "#0d0887"
             ],
             [
              0.1111111111111111,
              "#46039f"
             ],
             [
              0.2222222222222222,
              "#7201a8"
             ],
             [
              0.3333333333333333,
              "#9c179e"
             ],
             [
              0.4444444444444444,
              "#bd3786"
             ],
             [
              0.5555555555555556,
              "#d8576b"
             ],
             [
              0.6666666666666666,
              "#ed7953"
             ],
             [
              0.7777777777777778,
              "#fb9f3a"
             ],
             [
              0.8888888888888888,
              "#fdca26"
             ],
             [
              1,
              "#f0f921"
             ]
            ],
            "type": "surface"
           }
          ],
          "table": [
           {
            "cells": {
             "fill": {
              "color": "#EBF0F8"
             },
             "line": {
              "color": "white"
             }
            },
            "header": {
             "fill": {
              "color": "#C8D4E3"
             },
             "line": {
              "color": "white"
             }
            },
            "type": "table"
           }
          ]
         },
         "layout": {
          "annotationdefaults": {
           "arrowcolor": "#2a3f5f",
           "arrowhead": 0,
           "arrowwidth": 1
          },
          "autotypenumbers": "strict",
          "coloraxis": {
           "colorbar": {
            "outlinewidth": 0,
            "ticks": ""
           }
          },
          "colorscale": {
           "diverging": [
            [
             0,
             "#8e0152"
            ],
            [
             0.1,
             "#c51b7d"
            ],
            [
             0.2,
             "#de77ae"
            ],
            [
             0.3,
             "#f1b6da"
            ],
            [
             0.4,
             "#fde0ef"
            ],
            [
             0.5,
             "#f7f7f7"
            ],
            [
             0.6,
             "#e6f5d0"
            ],
            [
             0.7,
             "#b8e186"
            ],
            [
             0.8,
             "#7fbc41"
            ],
            [
             0.9,
             "#4d9221"
            ],
            [
             1,
             "#276419"
            ]
           ],
           "sequential": [
            [
             0,
             "#0d0887"
            ],
            [
             0.1111111111111111,
             "#46039f"
            ],
            [
             0.2222222222222222,
             "#7201a8"
            ],
            [
             0.3333333333333333,
             "#9c179e"
            ],
            [
             0.4444444444444444,
             "#bd3786"
            ],
            [
             0.5555555555555556,
             "#d8576b"
            ],
            [
             0.6666666666666666,
             "#ed7953"
            ],
            [
             0.7777777777777778,
             "#fb9f3a"
            ],
            [
             0.8888888888888888,
             "#fdca26"
            ],
            [
             1,
             "#f0f921"
            ]
           ],
           "sequentialminus": [
            [
             0,
             "#0d0887"
            ],
            [
             0.1111111111111111,
             "#46039f"
            ],
            [
             0.2222222222222222,
             "#7201a8"
            ],
            [
             0.3333333333333333,
             "#9c179e"
            ],
            [
             0.4444444444444444,
             "#bd3786"
            ],
            [
             0.5555555555555556,
             "#d8576b"
            ],
            [
             0.6666666666666666,
             "#ed7953"
            ],
            [
             0.7777777777777778,
             "#fb9f3a"
            ],
            [
             0.8888888888888888,
             "#fdca26"
            ],
            [
             1,
             "#f0f921"
            ]
           ]
          },
          "colorway": [
           "#636efa",
           "#EF553B",
           "#00cc96",
           "#ab63fa",
           "#FFA15A",
           "#19d3f3",
           "#FF6692",
           "#B6E880",
           "#FF97FF",
           "#FECB52"
          ],
          "font": {
           "color": "#2a3f5f"
          },
          "geo": {
           "bgcolor": "white",
           "lakecolor": "white",
           "landcolor": "#E5ECF6",
           "showlakes": true,
           "showland": true,
           "subunitcolor": "white"
          },
          "hoverlabel": {
           "align": "left"
          },
          "hovermode": "closest",
          "mapbox": {
           "style": "light"
          },
          "paper_bgcolor": "white",
          "plot_bgcolor": "#E5ECF6",
          "polar": {
           "angularaxis": {
            "gridcolor": "white",
            "linecolor": "white",
            "ticks": ""
           },
           "bgcolor": "#E5ECF6",
           "radialaxis": {
            "gridcolor": "white",
            "linecolor": "white",
            "ticks": ""
           }
          },
          "scene": {
           "xaxis": {
            "backgroundcolor": "#E5ECF6",
            "gridcolor": "white",
            "gridwidth": 2,
            "linecolor": "white",
            "showbackground": true,
            "ticks": "",
            "zerolinecolor": "white"
           },
           "yaxis": {
            "backgroundcolor": "#E5ECF6",
            "gridcolor": "white",
            "gridwidth": 2,
            "linecolor": "white",
            "showbackground": true,
            "ticks": "",
            "zerolinecolor": "white"
           },
           "zaxis": {
            "backgroundcolor": "#E5ECF6",
            "gridcolor": "white",
            "gridwidth": 2,
            "linecolor": "white",
            "showbackground": true,
            "ticks": "",
            "zerolinecolor": "white"
           }
          },
          "shapedefaults": {
           "line": {
            "color": "#2a3f5f"
           }
          },
          "ternary": {
           "aaxis": {
            "gridcolor": "white",
            "linecolor": "white",
            "ticks": ""
           },
           "baxis": {
            "gridcolor": "white",
            "linecolor": "white",
            "ticks": ""
           },
           "bgcolor": "#E5ECF6",
           "caxis": {
            "gridcolor": "white",
            "linecolor": "white",
            "ticks": ""
           }
          },
          "title": {
           "x": 0.05
          },
          "xaxis": {
           "automargin": true,
           "gridcolor": "white",
           "linecolor": "white",
           "ticks": "",
           "title": {
            "standoff": 15
           },
           "zerolinecolor": "white",
           "zerolinewidth": 2
          },
          "yaxis": {
           "automargin": true,
           "gridcolor": "white",
           "linecolor": "white",
           "ticks": "",
           "title": {
            "standoff": 15
           },
           "zerolinecolor": "white",
           "zerolinewidth": 2
          }
         }
        },
        "title": {
         "text": "Historic sales by month"
        },
        "width": 800,
        "xaxis": {
         "anchor": "y",
         "domain": [
          0,
          1
         ],
         "title": {
          "text": ""
         }
        },
        "xaxis2": {
         "anchor": "y2",
         "domain": [
          0,
          1
         ],
         "matches": "x",
         "showticklabels": false,
         "title": {
          "text": ""
         }
        },
        "xaxis3": {
         "anchor": "y3",
         "domain": [
          0,
          1
         ],
         "matches": "x",
         "showticklabels": false,
         "title": {
          "text": ""
         }
        },
        "xaxis4": {
         "anchor": "y4",
         "domain": [
          0,
          1
         ],
         "matches": "x",
         "showticklabels": false,
         "title": {
          "text": ""
         }
        },
        "yaxis": {
         "anchor": "x",
         "domain": [
          0,
          0.16
         ],
         "title": {
          "text": ""
         }
        },
        "yaxis2": {
         "anchor": "x2",
         "domain": [
          0.28,
          0.44000000000000006
         ],
         "matches": "y",
         "title": {
          "text": ""
         }
        },
        "yaxis3": {
         "anchor": "x3",
         "domain": [
          0.56,
          0.7200000000000001
         ],
         "matches": "y",
         "title": {
          "text": ""
         }
        },
        "yaxis4": {
         "anchor": "x4",
         "domain": [
          0.84,
          1
         ],
         "matches": "y",
         "title": {
          "text": ""
         }
        }
       }
      }
     },
     "metadata": {},
     "output_type": "display_data"
    }
   ],
   "source": [
    "# Build a stacked bar chart with sales on each year.\n",
    "\n",
    "fig = px.bar(data_frame=sales_by_month_df,\n",
    "             x='date',\n",
    "             y='total_sold',\n",
    "             facet_col='display_name',\n",
    "             facet_col_wrap=1,\n",
    "             color='fiscal_year',\n",
    "             width =800,\n",
    "             height=600,\n",
    "             facet_row_spacing=0.12,\n",
    "\n",
    "             color_discrete_sequence=custom_colors)\n",
    "\n",
    "fig.update_yaxes(title='')\n",
    "fig.update_xaxes(title='')\n",
    "\n",
    "fig.for_each_annotation(lambda a: a.update(text = a.text.split('=')[1]))\n",
    "\n",
    "fig.update_layout(\n",
    "    title='Historic sales by month',\n",
    "    legend_title_text='Fiscal year'\n",
    ")\n",
    "fig.show()"
   ]
  },
  {
   "cell_type": "markdown",
   "metadata": {},
   "source": [
    "When it comes to popularity, three of our four products are growing year after year. These are:  Dracula HDD, WereWolf NAS and Zion Saga.\n",
    "\n",
    "On the other hand, the Mforce Gen X has been dropping, and it appears that 2021 was it's weakest year."
   ]
  },
  {
   "cell_type": "markdown",
   "metadata": {},
   "source": [
    "---\n",
    "\n",
    "Now lets analyze their performance in different markets.\n",
    "\n",
    "First let's see which are our best performing markets."
   ]
  },
  {
   "cell_type": "code",
   "execution_count": 73,
   "metadata": {},
   "outputs": [
    {
     "data": {
      "text/html": [
       "<div>\n",
       "<style scoped>\n",
       "    .dataframe tbody tr th:only-of-type {\n",
       "        vertical-align: middle;\n",
       "    }\n",
       "\n",
       "    .dataframe tbody tr th {\n",
       "        vertical-align: top;\n",
       "    }\n",
       "\n",
       "    .dataframe thead th {\n",
       "        text-align: right;\n",
       "    }\n",
       "</style>\n",
       "<table border=\"1\" class=\"dataframe\">\n",
       "  <thead>\n",
       "    <tr style=\"text-align: right;\">\n",
       "      <th></th>\n",
       "      <th>market</th>\n",
       "      <th>active_since</th>\n",
       "      <th>units_sold</th>\n",
       "    </tr>\n",
       "  </thead>\n",
       "  <tbody>\n",
       "    <tr>\n",
       "      <th>0</th>\n",
       "      <td>India</td>\n",
       "      <td>2018</td>\n",
       "      <td>1087710</td>\n",
       "    </tr>\n",
       "    <tr>\n",
       "      <th>1</th>\n",
       "      <td>USA</td>\n",
       "      <td>2018</td>\n",
       "      <td>609825</td>\n",
       "    </tr>\n",
       "    <tr>\n",
       "      <th>2</th>\n",
       "      <td>South Korea</td>\n",
       "      <td>2018</td>\n",
       "      <td>341767</td>\n",
       "    </tr>\n",
       "    <tr>\n",
       "      <th>3</th>\n",
       "      <td>Canada</td>\n",
       "      <td>2018</td>\n",
       "      <td>197068</td>\n",
       "    </tr>\n",
       "    <tr>\n",
       "      <th>4</th>\n",
       "      <td>Philiphines</td>\n",
       "      <td>2018</td>\n",
       "      <td>191884</td>\n",
       "    </tr>\n",
       "  </tbody>\n",
       "</table>\n",
       "</div>"
      ],
      "text/plain": [
       "        market  active_since  units_sold\n",
       "0        India          2018     1087710\n",
       "1          USA          2018      609825\n",
       "2  South Korea          2018      341767\n",
       "3       Canada          2018      197068\n",
       "4  Philiphines          2018      191884"
      ]
     },
     "execution_count": 73,
     "metadata": {},
     "output_type": "execute_result"
    }
   ],
   "source": [
    "query = \"\"\"\n",
    "SELECT market, MIN(fiscal_year) AS active_since, SUM(sold_quantity) AS units_sold\n",
    "FROM fact_sales_monthly\n",
    "    JOIN dim_customer USING(customer_code)\n",
    "GROUP BY market\n",
    "ORDER BY units_sold DESC\n",
    "\"\"\"\n",
    "\n",
    "market_sales_df = pd.read_sql_query(query,con)\n",
    "market_sales_df.head(5)"
   ]
  },
  {
   "cell_type": "markdown",
   "metadata": {},
   "source": [
    "Now lets see how our products perform in these markets.\n"
   ]
  },
  {
   "cell_type": "code",
   "execution_count": 74,
   "metadata": {},
   "outputs": [],
   "source": [
    "top_markets = ', '.join(market_sales_df.head(5)['market'].apply(lambda x: f\"'{x}'\"))"
   ]
  },
  {
   "cell_type": "code",
   "execution_count": 75,
   "metadata": {},
   "outputs": [],
   "source": [
    "# yearly sales for a line chart\n",
    "query = f\"\"\"\n",
    "SELECT fiscal_year, market, display_name, SUM(sold_quantity) AS sales\n",
    "FROM fact_sales_monthly\n",
    "    JOIN dim_product USING(product_code)\n",
    "    JOIN dim_customer USING(customer_code)\n",
    "GROUP BY fiscal_year, market, product\n",
    "HAVING market IN ({top_markets})\n",
    "\"\"\"\n",
    "\n",
    "top_market_totals = pd.read_sql_query(query, con)"
   ]
  },
  {
   "cell_type": "code",
   "execution_count": 76,
   "metadata": {},
   "outputs": [
    {
     "data": {
      "application/vnd.plotly.v1+json": {
       "config": {
        "plotlyServerURL": "https://plot.ly"
       },
       "data": [
        {
         "hovertemplate": "market=Canada<br>display_name=AQ Dracula HDD<br>fiscal_year=%{x}<br>sales=%{y}<extra></extra>",
         "legendgroup": "Canada",
         "line": {
          "color": "#636efa",
          "dash": "solid"
         },
         "marker": {
          "symbol": "circle"
         },
         "mode": "lines",
         "name": "Canada",
         "orientation": "v",
         "showlegend": true,
         "type": "scatter",
         "x": [
          2018,
          2019,
          2020,
          2021,
          2022
         ],
         "xaxis": "x",
         "y": [
          1381,
          8788,
          13812,
          21592,
          18751
         ],
         "yaxis": "y"
        },
        {
         "hovertemplate": "market=Canada<br>display_name=AQ Mforce Gen X<br>fiscal_year=%{x}<br>sales=%{y}<extra></extra>",
         "legendgroup": "Canada",
         "line": {
          "color": "#636efa",
          "dash": "solid"
         },
         "marker": {
          "symbol": "circle"
         },
         "mode": "lines",
         "name": "Canada",
         "orientation": "v",
         "showlegend": false,
         "type": "scatter",
         "x": [
          2018,
          2019,
          2020,
          2021,
          2022
         ],
         "xaxis": "x2",
         "y": [
          1594,
          6313,
          7351,
          3963,
          10305
         ],
         "yaxis": "y2"
        },
        {
         "hovertemplate": "market=Canada<br>display_name=AQ Werewolf NAS HDD<br>fiscal_year=%{x}<br>sales=%{y}<extra></extra>",
         "legendgroup": "Canada",
         "line": {
          "color": "#636efa",
          "dash": "solid"
         },
         "marker": {
          "symbol": "circle"
         },
         "mode": "lines",
         "name": "Canada",
         "orientation": "v",
         "showlegend": false,
         "type": "scatter",
         "x": [
          2019,
          2020,
          2021,
          2022
         ],
         "xaxis": "x3",
         "y": [
          4402,
          10718,
          15487,
          25928
         ],
         "yaxis": "y3"
        },
        {
         "hovertemplate": "market=Canada<br>display_name=AQ Zion Saga<br>fiscal_year=%{x}<br>sales=%{y}<extra></extra>",
         "legendgroup": "Canada",
         "line": {
          "color": "#636efa",
          "dash": "solid"
         },
         "marker": {
          "symbol": "circle"
         },
         "mode": "lines",
         "name": "Canada",
         "orientation": "v",
         "showlegend": false,
         "type": "scatter",
         "x": [
          2020,
          2021,
          2022
         ],
         "xaxis": "x4",
         "y": [
          3330,
          16307,
          27046
         ],
         "yaxis": "y4"
        },
        {
         "hovertemplate": "market=India<br>display_name=AQ Dracula HDD<br>fiscal_year=%{x}<br>sales=%{y}<extra></extra>",
         "legendgroup": "India",
         "line": {
          "color": "#EF553B",
          "dash": "solid"
         },
         "marker": {
          "symbol": "circle"
         },
         "mode": "lines",
         "name": "India",
         "orientation": "v",
         "showlegend": true,
         "type": "scatter",
         "x": [
          2018,
          2019,
          2020,
          2021,
          2022
         ],
         "xaxis": "x",
         "y": [
          32297,
          55794,
          65461,
          105492,
          92227
         ],
         "yaxis": "y"
        },
        {
         "hovertemplate": "market=India<br>display_name=AQ Mforce Gen X<br>fiscal_year=%{x}<br>sales=%{y}<extra></extra>",
         "legendgroup": "India",
         "line": {
          "color": "#EF553B",
          "dash": "solid"
         },
         "marker": {
          "symbol": "circle"
         },
         "mode": "lines",
         "name": "India",
         "orientation": "v",
         "showlegend": false,
         "type": "scatter",
         "x": [
          2018,
          2019,
          2020,
          2021,
          2022
         ],
         "xaxis": "x2",
         "y": [
          41166,
          43195,
          35742,
          22579,
          58272
         ],
         "yaxis": "y2"
        },
        {
         "hovertemplate": "market=India<br>display_name=AQ Werewolf NAS HDD<br>fiscal_year=%{x}<br>sales=%{y}<extra></extra>",
         "legendgroup": "India",
         "line": {
          "color": "#EF553B",
          "dash": "solid"
         },
         "marker": {
          "symbol": "circle"
         },
         "mode": "lines",
         "name": "India",
         "orientation": "v",
         "showlegend": false,
         "type": "scatter",
         "x": [
          2019,
          2020,
          2021,
          2022
         ],
         "xaxis": "x3",
         "y": [
          27298,
          47626,
          80002,
          145650
         ],
         "yaxis": "y3"
        },
        {
         "hovertemplate": "market=India<br>display_name=AQ Zion Saga<br>fiscal_year=%{x}<br>sales=%{y}<extra></extra>",
         "legendgroup": "India",
         "line": {
          "color": "#EF553B",
          "dash": "solid"
         },
         "marker": {
          "symbol": "circle"
         },
         "mode": "lines",
         "name": "India",
         "orientation": "v",
         "showlegend": false,
         "type": "scatter",
         "x": [
          2020,
          2021,
          2022
         ],
         "xaxis": "x4",
         "y": [
          17091,
          80703,
          137115
         ],
         "yaxis": "y4"
        },
        {
         "hovertemplate": "market=Philiphines<br>display_name=AQ Dracula HDD<br>fiscal_year=%{x}<br>sales=%{y}<extra></extra>",
         "legendgroup": "Philiphines",
         "line": {
          "color": "#00cc96",
          "dash": "solid"
         },
         "marker": {
          "symbol": "circle"
         },
         "mode": "lines",
         "name": "Philiphines",
         "orientation": "v",
         "showlegend": true,
         "type": "scatter",
         "x": [
          2018,
          2019,
          2020,
          2021,
          2022
         ],
         "xaxis": "x",
         "y": [
          2995,
          10590,
          13499,
          19218,
          17513
         ],
         "yaxis": "y"
        },
        {
         "hovertemplate": "market=Philiphines<br>display_name=AQ Mforce Gen X<br>fiscal_year=%{x}<br>sales=%{y}<extra></extra>",
         "legendgroup": "Philiphines",
         "line": {
          "color": "#00cc96",
          "dash": "solid"
         },
         "marker": {
          "symbol": "circle"
         },
         "mode": "lines",
         "name": "Philiphines",
         "orientation": "v",
         "showlegend": false,
         "type": "scatter",
         "x": [
          2018,
          2019,
          2020,
          2021,
          2022
         ],
         "xaxis": "x2",
         "y": [
          3570,
          7410,
          7673,
          3651,
          11135
         ],
         "yaxis": "y2"
        },
        {
         "hovertemplate": "market=Philiphines<br>display_name=AQ Werewolf NAS HDD<br>fiscal_year=%{x}<br>sales=%{y}<extra></extra>",
         "legendgroup": "Philiphines",
         "line": {
          "color": "#00cc96",
          "dash": "solid"
         },
         "marker": {
          "symbol": "circle"
         },
         "mode": "lines",
         "name": "Philiphines",
         "orientation": "v",
         "showlegend": false,
         "type": "scatter",
         "x": [
          2019,
          2020,
          2021,
          2022
         ],
         "xaxis": "x3",
         "y": [
          5491,
          10784,
          14620,
          22663
         ],
         "yaxis": "y3"
        },
        {
         "hovertemplate": "market=Philiphines<br>display_name=AQ Zion Saga<br>fiscal_year=%{x}<br>sales=%{y}<extra></extra>",
         "legendgroup": "Philiphines",
         "line": {
          "color": "#00cc96",
          "dash": "solid"
         },
         "marker": {
          "symbol": "circle"
         },
         "mode": "lines",
         "name": "Philiphines",
         "orientation": "v",
         "showlegend": false,
         "type": "scatter",
         "x": [
          2020,
          2021,
          2022
         ],
         "xaxis": "x4",
         "y": [
          3891,
          13303,
          23878
         ],
         "yaxis": "y4"
        },
        {
         "hovertemplate": "market=South Korea<br>display_name=AQ Dracula HDD<br>fiscal_year=%{x}<br>sales=%{y}<extra></extra>",
         "legendgroup": "South Korea",
         "line": {
          "color": "#ab63fa",
          "dash": "solid"
         },
         "marker": {
          "symbol": "circle"
         },
         "mode": "lines",
         "name": "South Korea",
         "orientation": "v",
         "showlegend": true,
         "type": "scatter",
         "x": [
          2018,
          2019,
          2020,
          2021,
          2022
         ],
         "xaxis": "x",
         "y": [
          12501,
          18950,
          23220,
          29951,
          28422
         ],
         "yaxis": "y"
        },
        {
         "hovertemplate": "market=South Korea<br>display_name=AQ Mforce Gen X<br>fiscal_year=%{x}<br>sales=%{y}<extra></extra>",
         "legendgroup": "South Korea",
         "line": {
          "color": "#ab63fa",
          "dash": "solid"
         },
         "marker": {
          "symbol": "circle"
         },
         "mode": "lines",
         "name": "South Korea",
         "orientation": "v",
         "showlegend": false,
         "type": "scatter",
         "x": [
          2018,
          2019,
          2020,
          2021,
          2022
         ],
         "xaxis": "x2",
         "y": [
          14877,
          15121,
          13654,
          6331,
          22963
         ],
         "yaxis": "y2"
        },
        {
         "hovertemplate": "market=South Korea<br>display_name=AQ Werewolf NAS HDD<br>fiscal_year=%{x}<br>sales=%{y}<extra></extra>",
         "legendgroup": "South Korea",
         "line": {
          "color": "#ab63fa",
          "dash": "solid"
         },
         "marker": {
          "symbol": "circle"
         },
         "mode": "lines",
         "name": "South Korea",
         "orientation": "v",
         "showlegend": false,
         "type": "scatter",
         "x": [
          2019,
          2020,
          2021,
          2022
         ],
         "xaxis": "x3",
         "y": [
          10010,
          17183,
          23584,
          37474
         ],
         "yaxis": "y3"
        },
        {
         "hovertemplate": "market=South Korea<br>display_name=AQ Zion Saga<br>fiscal_year=%{x}<br>sales=%{y}<extra></extra>",
         "legendgroup": "South Korea",
         "line": {
          "color": "#ab63fa",
          "dash": "solid"
         },
         "marker": {
          "symbol": "circle"
         },
         "mode": "lines",
         "name": "South Korea",
         "orientation": "v",
         "showlegend": false,
         "type": "scatter",
         "x": [
          2020,
          2021,
          2022
         ],
         "xaxis": "x4",
         "y": [
          5661,
          23917,
          37948
         ],
         "yaxis": "y4"
        },
        {
         "hovertemplate": "market=USA<br>display_name=AQ Dracula HDD<br>fiscal_year=%{x}<br>sales=%{y}<extra></extra>",
         "legendgroup": "USA",
         "line": {
          "color": "#FFA15A",
          "dash": "solid"
         },
         "marker": {
          "symbol": "circle"
         },
         "mode": "lines",
         "name": "USA",
         "orientation": "v",
         "showlegend": true,
         "type": "scatter",
         "x": [
          2018,
          2019,
          2020,
          2021,
          2022
         ],
         "xaxis": "x",
         "y": [
          13836,
          28592,
          40571,
          62549,
          51220
         ],
         "yaxis": "y"
        },
        {
         "hovertemplate": "market=USA<br>display_name=AQ Mforce Gen X<br>fiscal_year=%{x}<br>sales=%{y}<extra></extra>",
         "legendgroup": "USA",
         "line": {
          "color": "#FFA15A",
          "dash": "solid"
         },
         "marker": {
          "symbol": "circle"
         },
         "mode": "lines",
         "name": "USA",
         "orientation": "v",
         "showlegend": false,
         "type": "scatter",
         "x": [
          2018,
          2019,
          2020,
          2021,
          2022
         ],
         "xaxis": "x2",
         "y": [
          17006,
          21020,
          22696,
          12211,
          32714
         ],
         "yaxis": "y2"
        },
        {
         "hovertemplate": "market=USA<br>display_name=AQ Werewolf NAS HDD<br>fiscal_year=%{x}<br>sales=%{y}<extra></extra>",
         "legendgroup": "USA",
         "line": {
          "color": "#FFA15A",
          "dash": "solid"
         },
         "marker": {
          "symbol": "circle"
         },
         "mode": "lines",
         "name": "USA",
         "orientation": "v",
         "showlegend": false,
         "type": "scatter",
         "x": [
          2019,
          2020,
          2021,
          2022
         ],
         "xaxis": "x3",
         "y": [
          14251,
          31398,
          47940,
          81315
         ],
         "yaxis": "y3"
        },
        {
         "hovertemplate": "market=USA<br>display_name=AQ Zion Saga<br>fiscal_year=%{x}<br>sales=%{y}<extra></extra>",
         "legendgroup": "USA",
         "line": {
          "color": "#FFA15A",
          "dash": "solid"
         },
         "marker": {
          "symbol": "circle"
         },
         "mode": "lines",
         "name": "USA",
         "orientation": "v",
         "showlegend": false,
         "type": "scatter",
         "x": [
          2020,
          2021,
          2022
         ],
         "xaxis": "x4",
         "y": [
          11281,
          47593,
          73632
         ],
         "yaxis": "y4"
        }
       ],
       "layout": {
        "annotations": [
         {
          "font": {},
          "showarrow": false,
          "text": "AQ Dracula HDD",
          "x": 0.11,
          "xanchor": "center",
          "xref": "paper",
          "y": 1,
          "yanchor": "bottom",
          "yref": "paper"
         },
         {
          "font": {},
          "showarrow": false,
          "text": "AQ Mforce Gen X",
          "x": 0.37,
          "xanchor": "center",
          "xref": "paper",
          "y": 1,
          "yanchor": "bottom",
          "yref": "paper"
         },
         {
          "font": {},
          "showarrow": false,
          "text": "AQ Werewolf NAS HDD",
          "x": 0.63,
          "xanchor": "center",
          "xref": "paper",
          "y": 1,
          "yanchor": "bottom",
          "yref": "paper"
         },
         {
          "font": {},
          "showarrow": false,
          "text": "AQ Zion Saga",
          "x": 0.89,
          "xanchor": "center",
          "xref": "paper",
          "y": 1,
          "yanchor": "bottom",
          "yref": "paper"
         }
        ],
        "legend": {
         "title": {
          "text": "Market"
         },
         "tracegroupgap": 0
        },
        "margin": {
         "t": 60
        },
        "template": {
         "data": {
          "bar": [
           {
            "error_x": {
             "color": "#2a3f5f"
            },
            "error_y": {
             "color": "#2a3f5f"
            },
            "marker": {
             "line": {
              "color": "#E5ECF6",
              "width": 0.5
             },
             "pattern": {
              "fillmode": "overlay",
              "size": 10,
              "solidity": 0.2
             }
            },
            "type": "bar"
           }
          ],
          "barpolar": [
           {
            "marker": {
             "line": {
              "color": "#E5ECF6",
              "width": 0.5
             },
             "pattern": {
              "fillmode": "overlay",
              "size": 10,
              "solidity": 0.2
             }
            },
            "type": "barpolar"
           }
          ],
          "carpet": [
           {
            "aaxis": {
             "endlinecolor": "#2a3f5f",
             "gridcolor": "white",
             "linecolor": "white",
             "minorgridcolor": "white",
             "startlinecolor": "#2a3f5f"
            },
            "baxis": {
             "endlinecolor": "#2a3f5f",
             "gridcolor": "white",
             "linecolor": "white",
             "minorgridcolor": "white",
             "startlinecolor": "#2a3f5f"
            },
            "type": "carpet"
           }
          ],
          "choropleth": [
           {
            "colorbar": {
             "outlinewidth": 0,
             "ticks": ""
            },
            "type": "choropleth"
           }
          ],
          "contour": [
           {
            "colorbar": {
             "outlinewidth": 0,
             "ticks": ""
            },
            "colorscale": [
             [
              0,
              "#0d0887"
             ],
             [
              0.1111111111111111,
              "#46039f"
             ],
             [
              0.2222222222222222,
              "#7201a8"
             ],
             [
              0.3333333333333333,
              "#9c179e"
             ],
             [
              0.4444444444444444,
              "#bd3786"
             ],
             [
              0.5555555555555556,
              "#d8576b"
             ],
             [
              0.6666666666666666,
              "#ed7953"
             ],
             [
              0.7777777777777778,
              "#fb9f3a"
             ],
             [
              0.8888888888888888,
              "#fdca26"
             ],
             [
              1,
              "#f0f921"
             ]
            ],
            "type": "contour"
           }
          ],
          "contourcarpet": [
           {
            "colorbar": {
             "outlinewidth": 0,
             "ticks": ""
            },
            "type": "contourcarpet"
           }
          ],
          "heatmap": [
           {
            "colorbar": {
             "outlinewidth": 0,
             "ticks": ""
            },
            "colorscale": [
             [
              0,
              "#0d0887"
             ],
             [
              0.1111111111111111,
              "#46039f"
             ],
             [
              0.2222222222222222,
              "#7201a8"
             ],
             [
              0.3333333333333333,
              "#9c179e"
             ],
             [
              0.4444444444444444,
              "#bd3786"
             ],
             [
              0.5555555555555556,
              "#d8576b"
             ],
             [
              0.6666666666666666,
              "#ed7953"
             ],
             [
              0.7777777777777778,
              "#fb9f3a"
             ],
             [
              0.8888888888888888,
              "#fdca26"
             ],
             [
              1,
              "#f0f921"
             ]
            ],
            "type": "heatmap"
           }
          ],
          "heatmapgl": [
           {
            "colorbar": {
             "outlinewidth": 0,
             "ticks": ""
            },
            "colorscale": [
             [
              0,
              "#0d0887"
             ],
             [
              0.1111111111111111,
              "#46039f"
             ],
             [
              0.2222222222222222,
              "#7201a8"
             ],
             [
              0.3333333333333333,
              "#9c179e"
             ],
             [
              0.4444444444444444,
              "#bd3786"
             ],
             [
              0.5555555555555556,
              "#d8576b"
             ],
             [
              0.6666666666666666,
              "#ed7953"
             ],
             [
              0.7777777777777778,
              "#fb9f3a"
             ],
             [
              0.8888888888888888,
              "#fdca26"
             ],
             [
              1,
              "#f0f921"
             ]
            ],
            "type": "heatmapgl"
           }
          ],
          "histogram": [
           {
            "marker": {
             "pattern": {
              "fillmode": "overlay",
              "size": 10,
              "solidity": 0.2
             }
            },
            "type": "histogram"
           }
          ],
          "histogram2d": [
           {
            "colorbar": {
             "outlinewidth": 0,
             "ticks": ""
            },
            "colorscale": [
             [
              0,
              "#0d0887"
             ],
             [
              0.1111111111111111,
              "#46039f"
             ],
             [
              0.2222222222222222,
              "#7201a8"
             ],
             [
              0.3333333333333333,
              "#9c179e"
             ],
             [
              0.4444444444444444,
              "#bd3786"
             ],
             [
              0.5555555555555556,
              "#d8576b"
             ],
             [
              0.6666666666666666,
              "#ed7953"
             ],
             [
              0.7777777777777778,
              "#fb9f3a"
             ],
             [
              0.8888888888888888,
              "#fdca26"
             ],
             [
              1,
              "#f0f921"
             ]
            ],
            "type": "histogram2d"
           }
          ],
          "histogram2dcontour": [
           {
            "colorbar": {
             "outlinewidth": 0,
             "ticks": ""
            },
            "colorscale": [
             [
              0,
              "#0d0887"
             ],
             [
              0.1111111111111111,
              "#46039f"
             ],
             [
              0.2222222222222222,
              "#7201a8"
             ],
             [
              0.3333333333333333,
              "#9c179e"
             ],
             [
              0.4444444444444444,
              "#bd3786"
             ],
             [
              0.5555555555555556,
              "#d8576b"
             ],
             [
              0.6666666666666666,
              "#ed7953"
             ],
             [
              0.7777777777777778,
              "#fb9f3a"
             ],
             [
              0.8888888888888888,
              "#fdca26"
             ],
             [
              1,
              "#f0f921"
             ]
            ],
            "type": "histogram2dcontour"
           }
          ],
          "mesh3d": [
           {
            "colorbar": {
             "outlinewidth": 0,
             "ticks": ""
            },
            "type": "mesh3d"
           }
          ],
          "parcoords": [
           {
            "line": {
             "colorbar": {
              "outlinewidth": 0,
              "ticks": ""
             }
            },
            "type": "parcoords"
           }
          ],
          "pie": [
           {
            "automargin": true,
            "type": "pie"
           }
          ],
          "scatter": [
           {
            "fillpattern": {
             "fillmode": "overlay",
             "size": 10,
             "solidity": 0.2
            },
            "type": "scatter"
           }
          ],
          "scatter3d": [
           {
            "line": {
             "colorbar": {
              "outlinewidth": 0,
              "ticks": ""
             }
            },
            "marker": {
             "colorbar": {
              "outlinewidth": 0,
              "ticks": ""
             }
            },
            "type": "scatter3d"
           }
          ],
          "scattercarpet": [
           {
            "marker": {
             "colorbar": {
              "outlinewidth": 0,
              "ticks": ""
             }
            },
            "type": "scattercarpet"
           }
          ],
          "scattergeo": [
           {
            "marker": {
             "colorbar": {
              "outlinewidth": 0,
              "ticks": ""
             }
            },
            "type": "scattergeo"
           }
          ],
          "scattergl": [
           {
            "marker": {
             "colorbar": {
              "outlinewidth": 0,
              "ticks": ""
             }
            },
            "type": "scattergl"
           }
          ],
          "scattermapbox": [
           {
            "marker": {
             "colorbar": {
              "outlinewidth": 0,
              "ticks": ""
             }
            },
            "type": "scattermapbox"
           }
          ],
          "scatterpolar": [
           {
            "marker": {
             "colorbar": {
              "outlinewidth": 0,
              "ticks": ""
             }
            },
            "type": "scatterpolar"
           }
          ],
          "scatterpolargl": [
           {
            "marker": {
             "colorbar": {
              "outlinewidth": 0,
              "ticks": ""
             }
            },
            "type": "scatterpolargl"
           }
          ],
          "scatterternary": [
           {
            "marker": {
             "colorbar": {
              "outlinewidth": 0,
              "ticks": ""
             }
            },
            "type": "scatterternary"
           }
          ],
          "surface": [
           {
            "colorbar": {
             "outlinewidth": 0,
             "ticks": ""
            },
            "colorscale": [
             [
              0,
              "#0d0887"
             ],
             [
              0.1111111111111111,
              "#46039f"
             ],
             [
              0.2222222222222222,
              "#7201a8"
             ],
             [
              0.3333333333333333,
              "#9c179e"
             ],
             [
              0.4444444444444444,
              "#bd3786"
             ],
             [
              0.5555555555555556,
              "#d8576b"
             ],
             [
              0.6666666666666666,
              "#ed7953"
             ],
             [
              0.7777777777777778,
              "#fb9f3a"
             ],
             [
              0.8888888888888888,
              "#fdca26"
             ],
             [
              1,
              "#f0f921"
             ]
            ],
            "type": "surface"
           }
          ],
          "table": [
           {
            "cells": {
             "fill": {
              "color": "#EBF0F8"
             },
             "line": {
              "color": "white"
             }
            },
            "header": {
             "fill": {
              "color": "#C8D4E3"
             },
             "line": {
              "color": "white"
             }
            },
            "type": "table"
           }
          ]
         },
         "layout": {
          "annotationdefaults": {
           "arrowcolor": "#2a3f5f",
           "arrowhead": 0,
           "arrowwidth": 1
          },
          "autotypenumbers": "strict",
          "coloraxis": {
           "colorbar": {
            "outlinewidth": 0,
            "ticks": ""
           }
          },
          "colorscale": {
           "diverging": [
            [
             0,
             "#8e0152"
            ],
            [
             0.1,
             "#c51b7d"
            ],
            [
             0.2,
             "#de77ae"
            ],
            [
             0.3,
             "#f1b6da"
            ],
            [
             0.4,
             "#fde0ef"
            ],
            [
             0.5,
             "#f7f7f7"
            ],
            [
             0.6,
             "#e6f5d0"
            ],
            [
             0.7,
             "#b8e186"
            ],
            [
             0.8,
             "#7fbc41"
            ],
            [
             0.9,
             "#4d9221"
            ],
            [
             1,
             "#276419"
            ]
           ],
           "sequential": [
            [
             0,
             "#0d0887"
            ],
            [
             0.1111111111111111,
             "#46039f"
            ],
            [
             0.2222222222222222,
             "#7201a8"
            ],
            [
             0.3333333333333333,
             "#9c179e"
            ],
            [
             0.4444444444444444,
             "#bd3786"
            ],
            [
             0.5555555555555556,
             "#d8576b"
            ],
            [
             0.6666666666666666,
             "#ed7953"
            ],
            [
             0.7777777777777778,
             "#fb9f3a"
            ],
            [
             0.8888888888888888,
             "#fdca26"
            ],
            [
             1,
             "#f0f921"
            ]
           ],
           "sequentialminus": [
            [
             0,
             "#0d0887"
            ],
            [
             0.1111111111111111,
             "#46039f"
            ],
            [
             0.2222222222222222,
             "#7201a8"
            ],
            [
             0.3333333333333333,
             "#9c179e"
            ],
            [
             0.4444444444444444,
             "#bd3786"
            ],
            [
             0.5555555555555556,
             "#d8576b"
            ],
            [
             0.6666666666666666,
             "#ed7953"
            ],
            [
             0.7777777777777778,
             "#fb9f3a"
            ],
            [
             0.8888888888888888,
             "#fdca26"
            ],
            [
             1,
             "#f0f921"
            ]
           ]
          },
          "colorway": [
           "#636efa",
           "#EF553B",
           "#00cc96",
           "#ab63fa",
           "#FFA15A",
           "#19d3f3",
           "#FF6692",
           "#B6E880",
           "#FF97FF",
           "#FECB52"
          ],
          "font": {
           "color": "#2a3f5f"
          },
          "geo": {
           "bgcolor": "white",
           "lakecolor": "white",
           "landcolor": "#E5ECF6",
           "showlakes": true,
           "showland": true,
           "subunitcolor": "white"
          },
          "hoverlabel": {
           "align": "left"
          },
          "hovermode": "closest",
          "mapbox": {
           "style": "light"
          },
          "paper_bgcolor": "white",
          "plot_bgcolor": "#E5ECF6",
          "polar": {
           "angularaxis": {
            "gridcolor": "white",
            "linecolor": "white",
            "ticks": ""
           },
           "bgcolor": "#E5ECF6",
           "radialaxis": {
            "gridcolor": "white",
            "linecolor": "white",
            "ticks": ""
           }
          },
          "scene": {
           "xaxis": {
            "backgroundcolor": "#E5ECF6",
            "gridcolor": "white",
            "gridwidth": 2,
            "linecolor": "white",
            "showbackground": true,
            "ticks": "",
            "zerolinecolor": "white"
           },
           "yaxis": {
            "backgroundcolor": "#E5ECF6",
            "gridcolor": "white",
            "gridwidth": 2,
            "linecolor": "white",
            "showbackground": true,
            "ticks": "",
            "zerolinecolor": "white"
           },
           "zaxis": {
            "backgroundcolor": "#E5ECF6",
            "gridcolor": "white",
            "gridwidth": 2,
            "linecolor": "white",
            "showbackground": true,
            "ticks": "",
            "zerolinecolor": "white"
           }
          },
          "shapedefaults": {
           "line": {
            "color": "#2a3f5f"
           }
          },
          "ternary": {
           "aaxis": {
            "gridcolor": "white",
            "linecolor": "white",
            "ticks": ""
           },
           "baxis": {
            "gridcolor": "white",
            "linecolor": "white",
            "ticks": ""
           },
           "bgcolor": "#E5ECF6",
           "caxis": {
            "gridcolor": "white",
            "linecolor": "white",
            "ticks": ""
           }
          },
          "title": {
           "x": 0.05
          },
          "xaxis": {
           "automargin": true,
           "gridcolor": "white",
           "linecolor": "white",
           "ticks": "",
           "title": {
            "standoff": 15
           },
           "zerolinecolor": "white",
           "zerolinewidth": 2
          },
          "yaxis": {
           "automargin": true,
           "gridcolor": "white",
           "linecolor": "white",
           "ticks": "",
           "title": {
            "standoff": 15
           },
           "zerolinecolor": "white",
           "zerolinewidth": 2
          }
         }
        },
        "title": {
         "text": "Product sales"
        },
        "xaxis": {
         "anchor": "y",
         "domain": [
          0,
          0.22
         ],
         "ticktext": [
          "'18",
          "'19",
          "'20",
          "'21",
          "'22"
         ],
         "tickvals": [
          2018,
          2019,
          2020,
          2021,
          2022
         ],
         "title": {
          "text": "Year"
         }
        },
        "xaxis2": {
         "anchor": "y2",
         "domain": [
          0.26,
          0.48
         ],
         "matches": "x",
         "ticktext": [
          "'18",
          "'19",
          "'20",
          "'21",
          "'22"
         ],
         "tickvals": [
          2018,
          2019,
          2020,
          2021,
          2022
         ],
         "title": {
          "text": "Year"
         }
        },
        "xaxis3": {
         "anchor": "y3",
         "domain": [
          0.52,
          0.74
         ],
         "matches": "x",
         "ticktext": [
          "'18",
          "'19",
          "'20",
          "'21",
          "'22"
         ],
         "tickvals": [
          2018,
          2019,
          2020,
          2021,
          2022
         ],
         "title": {
          "text": "Year"
         }
        },
        "xaxis4": {
         "anchor": "y4",
         "domain": [
          0.78,
          1
         ],
         "matches": "x",
         "ticktext": [
          "'18",
          "'19",
          "'20",
          "'21",
          "'22"
         ],
         "tickvals": [
          2018,
          2019,
          2020,
          2021,
          2022
         ],
         "title": {
          "text": "Year"
         }
        },
        "yaxis": {
         "anchor": "x",
         "domain": [
          0,
          1
         ],
         "title": {
          "text": "Units sold"
         }
        },
        "yaxis2": {
         "anchor": "x2",
         "domain": [
          0,
          1
         ],
         "matches": "y",
         "showticklabels": false,
         "title": {
          "text": ""
         }
        },
        "yaxis3": {
         "anchor": "x3",
         "domain": [
          0,
          1
         ],
         "matches": "y",
         "showticklabels": false,
         "title": {
          "text": ""
         }
        },
        "yaxis4": {
         "anchor": "x4",
         "domain": [
          0,
          1
         ],
         "matches": "y",
         "showticklabels": false,
         "title": {
          "text": ""
         }
        }
       }
      }
     },
     "metadata": {},
     "output_type": "display_data"
    }
   ],
   "source": [
    "# Plot the sales line chart\n",
    "fig = px.line(top_market_totals,\n",
    "            x='fiscal_year',\n",
    "            y='sales',\n",
    "            line_group='market',\n",
    "            facet_col='display_name',\n",
    "            color='market',\n",
    "            facet_col_spacing=0.04\n",
    "            )\n",
    "\n",
    "# Set the title and shorten the tick labels\n",
    "fig.update_xaxes(title='Year',\n",
    "                 tickvals=[2018, 2019, 2020, 2021, 2022],\n",
    "                 ticktext=[\"'18\", \"'19\", \"'20\", \"'21\", \"'22\"])\n",
    "\n",
    "# Remove the 'market=' part of the carets labels\n",
    "fig.for_each_annotation(lambda a: a.update(text = a.text.split('=')[1]))\n",
    "\n",
    "\n",
    "# Set y-axis title only for the outer facet (anchor == 'x')\n",
    "# If we simply do:\n",
    "#                   fig.update_yaxes(title='Units sold')\n",
    "# Then the title will show up twice.\n",
    "fig.for_each_yaxis(lambda y: y.update(title='Units sold') if y.anchor == 'x' else y.update(title=''))\n",
    "\n",
    "fig.update_layout(\n",
    "    title='Product sales',\n",
    "    legend_title_text='Market'\n",
    ")\n",
    "\n",
    "fig.show()"
   ]
  },
  {
   "cell_type": "markdown",
   "metadata": {},
   "source": [
    "The Dracula HDD is the only product that on 2022 still hasn't cought up with the sales of the previous years, but since we only have 3 months of data for 2022, it is likely that the final sales will outperform every other year \n",
    "\n",
    "The Mforce Gen X saw a marked decline on 2021. It is recovering on 2022, and already surpassing the sales of previous years.\n",
    "\n",
    "The Werewolf NAS and Zion Saga have seen continious growth since they were introduced."
   ]
  },
  {
   "cell_type": "markdown",
   "metadata": {},
   "source": [
    "[Back to Contents](#contents)\n",
    "\n",
    "---"
   ]
  },
  {
   "cell_type": "markdown",
   "metadata": {},
   "source": [
    "### Variant sales"
   ]
  },
  {
   "cell_type": "markdown",
   "metadata": {},
   "source": [
    "Each one of our products have several variants. Is there any variant with a disproportionate contribution the to product total sales? "
   ]
  },
  {
   "cell_type": "markdown",
   "metadata": {},
   "source": [
    "To answer this question, lets start by taking a look at the total monthly sales of each variant, and their contribution to the monthly total.\n",
    "\n",
    "First we'll create a view that contains the monthly info on sales, cost and price."
   ]
  },
  {
   "cell_type": "code",
   "execution_count": 77,
   "metadata": {},
   "outputs": [],
   "source": [
    "# Create the VIEW with info on the monthly sales\n",
    "\n",
    "query=\"\"\"\n",
    "CREATE VIEW IF NOT EXISTS monthly_sales_full AS\n",
    "SELECT \n",
    "    dim_product.display_name, \n",
    "    dim_product.variant,\n",
    "    fact_sales_monthly.product_code, \n",
    "    fact_sales_monthly.date,\n",
    "    fact_sales_monthly.fiscal_year,\n",
    "    SUM(fact_sales_monthly.sold_quantity) as variant_sales,\n",
    "    fact_gross_price.gross_price,\n",
    "    fact_manufacturing_cost.manufacturing_cost,\n",
    "    monthly_product_sales.product_sales,\n",
    "    CAST(SUM(fact_sales_monthly.sold_quantity) as REAL) / monthly_product_sales.product_sales AS variant_ratio\n",
    "FROM\n",
    "    fact_sales_monthly\n",
    "    JOIN dim_product USING(product_code)\n",
    "    JOIN fact_gross_price USING(product_code, fiscal_year)\n",
    "    JOIN fact_manufacturing_cost ON \n",
    "        fact_sales_monthly.product_code = fact_manufacturing_cost.product_code\n",
    "        AND fact_sales_monthly.fiscal_year = fact_manufacturing_cost.cost_year\n",
    "    JOIN (\n",
    "        SELECT display_name, date, SUM(sold_quantity) AS product_sales\n",
    "        FROM fact_sales_monthly\n",
    "            JOIN dim_product USING(product_code)\n",
    "        GROUP BY \n",
    "            display_name,\n",
    "            date\n",
    "        ) AS monthly_product_sales\n",
    "        USING(display_name, date)\n",
    "GROUP BY \n",
    "    fact_sales_monthly.product_code, \n",
    "    fact_sales_monthly.date,\n",
    "    fact_sales_monthly.fiscal_year\n",
    "\"\"\"\n",
    "\n",
    "cursor.execute(query);"
   ]
  },
  {
   "cell_type": "markdown",
   "metadata": {},
   "source": [
    "Now we can check if there are some extreme values for ratios."
   ]
  },
  {
   "cell_type": "code",
   "execution_count": 78,
   "metadata": {},
   "outputs": [
    {
     "data": {
      "text/html": [
       "<div>\n",
       "<style scoped>\n",
       "    .dataframe tbody tr th:only-of-type {\n",
       "        vertical-align: middle;\n",
       "    }\n",
       "\n",
       "    .dataframe tbody tr th {\n",
       "        vertical-align: top;\n",
       "    }\n",
       "\n",
       "    .dataframe thead th {\n",
       "        text-align: right;\n",
       "    }\n",
       "</style>\n",
       "<table border=\"1\" class=\"dataframe\">\n",
       "  <thead>\n",
       "    <tr style=\"text-align: right;\">\n",
       "      <th></th>\n",
       "      <th>MIN(variant_ratio)</th>\n",
       "      <th>MAX(variant_ratio)</th>\n",
       "      <th>AVG(variant_ratio)</th>\n",
       "    </tr>\n",
       "  </thead>\n",
       "  <tbody>\n",
       "    <tr>\n",
       "      <th>0</th>\n",
       "      <td>0.183456</td>\n",
       "      <td>1.0</td>\n",
       "      <td>0.33463</td>\n",
       "    </tr>\n",
       "  </tbody>\n",
       "</table>\n",
       "</div>"
      ],
      "text/plain": [
       "   MIN(variant_ratio)  MAX(variant_ratio)  AVG(variant_ratio)\n",
       "0            0.183456                 1.0             0.33463"
      ]
     },
     "execution_count": 78,
     "metadata": {},
     "output_type": "execute_result"
    }
   ],
   "source": [
    "query=\"\"\"\n",
    "SELECT MIN(variant_ratio), MAX(variant_ratio), AVG(variant_ratio)\n",
    "FROM monthly_sales_full\n",
    "\"\"\"\n",
    "\n",
    "pd.read_sql(query, con)"
   ]
  },
  {
   "cell_type": "markdown",
   "metadata": {},
   "source": [
    "The MIN being `0.18` tells us that that the variants are contributing a significant amount to their product sales.\n",
    "\n",
    "The MAX being `1` means that at some point, some products had only one variant available for sale."
   ]
  },
  {
   "cell_type": "code",
   "execution_count": 79,
   "metadata": {},
   "outputs": [
    {
     "data": {
      "text/html": [
       "<div>\n",
       "<style scoped>\n",
       "    .dataframe tbody tr th:only-of-type {\n",
       "        vertical-align: middle;\n",
       "    }\n",
       "\n",
       "    .dataframe tbody tr th {\n",
       "        vertical-align: top;\n",
       "    }\n",
       "\n",
       "    .dataframe thead th {\n",
       "        text-align: right;\n",
       "    }\n",
       "</style>\n",
       "<table border=\"1\" class=\"dataframe\">\n",
       "  <thead>\n",
       "    <tr style=\"text-align: right;\">\n",
       "      <th></th>\n",
       "      <th>display_name</th>\n",
       "      <th>MIN(date)</th>\n",
       "      <th>MAX(date)</th>\n",
       "    </tr>\n",
       "  </thead>\n",
       "  <tbody>\n",
       "    <tr>\n",
       "      <th>0</th>\n",
       "      <td>AQ Mforce Gen X</td>\n",
       "      <td>2020-09-01</td>\n",
       "      <td>2021-12-01</td>\n",
       "    </tr>\n",
       "    <tr>\n",
       "      <th>1</th>\n",
       "      <td>AQ Zion Saga</td>\n",
       "      <td>2019-09-01</td>\n",
       "      <td>2020-08-01</td>\n",
       "    </tr>\n",
       "  </tbody>\n",
       "</table>\n",
       "</div>"
      ],
      "text/plain": [
       "      display_name   MIN(date)   MAX(date)\n",
       "0  AQ Mforce Gen X  2020-09-01  2021-12-01\n",
       "1     AQ Zion Saga  2019-09-01  2020-08-01"
      ]
     },
     "execution_count": 79,
     "metadata": {},
     "output_type": "execute_result"
    }
   ],
   "source": [
    "query=\"\"\"\n",
    "SELECT DISTINCT display_name, MIN(date), MAX(date)\n",
    "FROM monthly_sales_full\n",
    "WHERE variant_ratio = 1\n",
    "GROUP BY display_name\n",
    "\"\"\"\n",
    "\n",
    "pd.read_sql(query,con)"
   ]
  },
  {
   "cell_type": "markdown",
   "metadata": {},
   "source": [
    "The products with no variants were:\n",
    "- AQ Zion Saga for it's first year in the market. After that more variants were introduced.\n",
    "- AQ Mforce Gen X after a few years. It makes sense to simplify the offer on an ageing graphic card."
   ]
  },
  {
   "cell_type": "code",
   "execution_count": 80,
   "metadata": {},
   "outputs": [
    {
     "data": {
      "application/vnd.plotly.v1+json": {
       "config": {
        "plotlyServerURL": "https://plot.ly"
       },
       "data": [
        {
         "fillpattern": {
          "shape": ""
         },
         "hovertemplate": "variant=Standard<br>display_name=AQ Dracula HDD<br>date=%{x}<br>variant_sales=%{y}<extra></extra>",
         "legendgroup": "Standard",
         "line": {
          "color": "#636efa"
         },
         "marker": {
          "symbol": "circle"
         },
         "mode": "lines",
         "name": "Standard",
         "orientation": "v",
         "showlegend": true,
         "stackgroup": "1",
         "type": "scatter",
         "x": [
          "2017-09-01",
          "2017-10-01",
          "2017-11-01",
          "2017-12-01",
          "2018-01-01",
          "2018-02-01",
          "2018-03-01",
          "2018-04-01",
          "2018-05-01",
          "2018-06-01",
          "2018-07-01",
          "2018-08-01",
          "2018-09-01",
          "2018-10-01",
          "2018-11-01",
          "2018-12-01",
          "2019-01-01",
          "2019-02-01",
          "2019-03-01",
          "2019-04-01",
          "2019-05-01",
          "2019-06-01",
          "2019-07-01",
          "2019-08-01",
          "2019-09-01",
          "2019-10-01",
          "2019-11-01",
          "2019-12-01",
          "2020-01-01",
          "2020-02-01",
          "2020-03-01",
          "2020-04-01",
          "2020-05-01",
          "2020-06-01",
          "2020-07-01",
          "2020-08-01",
          "2020-09-01",
          "2020-10-01",
          "2020-11-01",
          "2020-12-01",
          "2021-01-01",
          "2021-02-01",
          "2021-03-01",
          "2021-04-01",
          "2021-05-01",
          "2021-06-01",
          "2021-07-01",
          "2021-08-01"
         ],
         "xaxis": "x4",
         "y": [
          1308,
          1631,
          2435,
          2342,
          1207,
          1353,
          1535,
          1361,
          1297,
          1412,
          1448,
          1335,
          3070,
          4094,
          4876,
          5554,
          2952,
          2948,
          2923,
          3008,
          2730,
          3085,
          3163,
          3205,
          5169,
          6508,
          9735,
          9530,
          5552,
          5107,
          750,
          2276,
          3235,
          4685,
          4760,
          5324,
          7569,
          9611,
          12826,
          13943,
          7400,
          7214,
          6199,
          7428,
          6722,
          6753,
          7083,
          7291
         ],
         "yaxis": "y4"
        },
        {
         "fillpattern": {
          "shape": ""
         },
         "hovertemplate": "variant=Standard<br>display_name=AQ Werewolf NAS HDD<br>date=%{x}<br>variant_sales=%{y}<extra></extra>",
         "legendgroup": "Standard",
         "line": {
          "color": "#636efa"
         },
         "marker": {
          "symbol": "circle"
         },
         "mode": "lines",
         "name": "Standard",
         "orientation": "v",
         "showlegend": false,
         "stackgroup": "1",
         "type": "scatter",
         "x": [
          "2018-09-01",
          "2018-10-01",
          "2018-11-01",
          "2018-12-01",
          "2019-01-01",
          "2019-02-01",
          "2019-03-01",
          "2019-04-01",
          "2019-05-01",
          "2019-06-01",
          "2019-07-01",
          "2019-08-01",
          "2019-09-01",
          "2019-10-01",
          "2019-11-01",
          "2019-12-01",
          "2020-01-01",
          "2020-02-01",
          "2020-03-01",
          "2020-04-01",
          "2020-05-01",
          "2020-06-01",
          "2020-07-01",
          "2020-08-01",
          "2020-09-01",
          "2020-10-01",
          "2020-11-01",
          "2020-12-01",
          "2021-01-01",
          "2021-02-01",
          "2021-03-01",
          "2021-04-01",
          "2021-05-01",
          "2021-06-01",
          "2021-07-01",
          "2021-08-01",
          "2021-09-01",
          "2021-10-01",
          "2021-11-01",
          "2021-12-01"
         ],
         "xaxis": "x3",
         "y": [
          3334,
          4082,
          5248,
          6014,
          3224,
          3106,
          2834,
          3299,
          2903,
          3120,
          2954,
          2814,
          5923,
          6870,
          8566,
          10471,
          5481,
          5064,
          691,
          2404,
          2732,
          4126,
          5162,
          4974,
          7171,
          8860,
          12663,
          14246,
          7708,
          7135,
          7060,
          6729,
          8237,
          6614,
          6792,
          7584,
          29093,
          38526,
          50520,
          53861
         ],
         "yaxis": "y3"
        },
        {
         "fillpattern": {
          "shape": ""
         },
         "hovertemplate": "variant=Standard<br>display_name=AQ Zion Saga<br>date=%{x}<br>variant_sales=%{y}<extra></extra>",
         "legendgroup": "Standard",
         "line": {
          "color": "#636efa"
         },
         "marker": {
          "symbol": "circle"
         },
         "mode": "lines",
         "name": "Standard",
         "orientation": "v",
         "showlegend": false,
         "stackgroup": "1",
         "type": "scatter",
         "x": [
          "2019-09-01",
          "2019-10-01",
          "2019-11-01",
          "2019-12-01",
          "2020-01-01",
          "2020-02-01",
          "2020-03-01",
          "2020-04-01",
          "2020-05-01",
          "2020-06-01",
          "2020-07-01",
          "2020-08-01",
          "2020-09-01",
          "2020-10-01",
          "2020-11-01",
          "2020-12-01",
          "2021-01-01",
          "2021-02-01",
          "2021-03-01",
          "2021-04-01",
          "2021-05-01",
          "2021-06-01",
          "2021-07-01",
          "2021-08-01",
          "2021-09-01",
          "2021-10-01",
          "2021-11-01",
          "2021-12-01"
         ],
         "xaxis": "x2",
         "y": [
          5534,
          6287,
          9783,
          9838,
          5756,
          5241,
          742,
          2647,
          3247,
          5235,
          5024,
          5168,
          6951,
          8446,
          11138,
          13228,
          7046,
          7197,
          7679,
          7622,
          7019,
          7062,
          6574,
          7198,
          26856,
          35057,
          50121,
          45872
         ],
         "yaxis": "y2"
        },
        {
         "fillpattern": {
          "shape": ""
         },
         "hovertemplate": "variant=Plus<br>display_name=AQ Dracula HDD<br>date=%{x}<br>variant_sales=%{y}<extra></extra>",
         "legendgroup": "Plus",
         "line": {
          "color": "#EF553B"
         },
         "marker": {
          "symbol": "circle"
         },
         "mode": "lines",
         "name": "Plus",
         "orientation": "v",
         "showlegend": true,
         "stackgroup": "1",
         "type": "scatter",
         "x": [
          "2017-09-01",
          "2017-10-01",
          "2017-11-01",
          "2017-12-01",
          "2018-01-01",
          "2018-02-01",
          "2018-03-01",
          "2018-04-01",
          "2018-05-01",
          "2018-06-01",
          "2018-07-01",
          "2018-08-01",
          "2018-09-01",
          "2018-10-01",
          "2018-11-01",
          "2018-12-01",
          "2019-01-01",
          "2019-02-01",
          "2019-03-01",
          "2019-04-01",
          "2019-05-01",
          "2019-06-01",
          "2019-07-01",
          "2019-08-01",
          "2019-09-01",
          "2019-10-01",
          "2019-11-01",
          "2019-12-01",
          "2020-01-01",
          "2020-02-01",
          "2020-03-01",
          "2020-04-01",
          "2020-05-01",
          "2020-06-01",
          "2020-07-01",
          "2020-08-01",
          "2020-09-01",
          "2020-10-01",
          "2020-11-01",
          "2020-12-01",
          "2021-01-01",
          "2021-02-01",
          "2021-03-01",
          "2021-04-01",
          "2021-05-01",
          "2021-06-01",
          "2021-07-01",
          "2021-08-01"
         ],
         "xaxis": "x4",
         "y": [
          1171,
          1577,
          2443,
          1960,
          1491,
          1320,
          1327,
          1246,
          1281,
          1467,
          1329,
          1341,
          3184,
          3740,
          5108,
          5227,
          3228,
          3041,
          3121,
          2981,
          3123,
          3122,
          3012,
          3058,
          5400,
          6861,
          9642,
          9992,
          5747,
          5037,
          673,
          2426,
          3158,
          5034,
          5079,
          4853,
          6867,
          9656,
          11464,
          12998,
          6873,
          7391,
          6889,
          8031,
          6737,
          6927,
          7168,
          7123
         ],
         "yaxis": "y4"
        },
        {
         "fillpattern": {
          "shape": ""
         },
         "hovertemplate": "variant=Plus<br>display_name=AQ Werewolf NAS HDD<br>date=%{x}<br>variant_sales=%{y}<extra></extra>",
         "legendgroup": "Plus",
         "line": {
          "color": "#EF553B"
         },
         "marker": {
          "symbol": "circle"
         },
         "mode": "lines",
         "name": "Plus",
         "orientation": "v",
         "showlegend": false,
         "stackgroup": "1",
         "type": "scatter",
         "x": [
          "2018-09-01",
          "2018-10-01",
          "2018-11-01",
          "2018-12-01",
          "2019-01-01",
          "2019-02-01",
          "2019-03-01",
          "2019-04-01",
          "2019-05-01",
          "2019-06-01",
          "2019-07-01",
          "2019-08-01",
          "2019-09-01",
          "2019-10-01",
          "2019-11-01",
          "2019-12-01",
          "2020-01-01",
          "2020-02-01",
          "2020-03-01",
          "2020-04-01",
          "2020-05-01",
          "2020-06-01",
          "2020-07-01",
          "2020-08-01",
          "2020-09-01",
          "2020-10-01",
          "2020-11-01",
          "2020-12-01",
          "2021-01-01",
          "2021-02-01",
          "2021-03-01",
          "2021-04-01",
          "2021-05-01",
          "2021-06-01",
          "2021-07-01",
          "2021-08-01",
          "2021-09-01",
          "2021-10-01",
          "2021-11-01",
          "2021-12-01"
         ],
         "xaxis": "x3",
         "y": [
          3015,
          3364,
          4638,
          5550,
          2881,
          3095,
          3052,
          2911,
          3336,
          3294,
          3263,
          2675,
          5468,
          6295,
          9109,
          10132,
          5065,
          5749,
          714,
          2249,
          3120,
          4178,
          5376,
          5372,
          7112,
          9244,
          11828,
          11787,
          7791,
          6786,
          6947,
          7039,
          7215,
          7030,
          6923,
          7389,
          29888,
          35850,
          49983,
          53435
         ],
         "yaxis": "y3"
        },
        {
         "fillpattern": {
          "shape": ""
         },
         "hovertemplate": "variant=Plus<br>display_name=AQ Zion Saga<br>date=%{x}<br>variant_sales=%{y}<extra></extra>",
         "legendgroup": "Plus",
         "line": {
          "color": "#EF553B"
         },
         "marker": {
          "symbol": "circle"
         },
         "mode": "lines",
         "name": "Plus",
         "orientation": "v",
         "showlegend": false,
         "stackgroup": "1",
         "type": "scatter",
         "x": [
          "2020-09-01",
          "2020-10-01",
          "2020-11-01",
          "2020-12-01",
          "2021-01-01",
          "2021-02-01",
          "2021-03-01",
          "2021-04-01",
          "2021-05-01",
          "2021-06-01",
          "2021-07-01",
          "2021-08-01",
          "2021-09-01",
          "2021-10-01",
          "2021-11-01",
          "2021-12-01"
         ],
         "xaxis": "x2",
         "y": [
          7507,
          9534,
          11215,
          13455,
          7688,
          7206,
          6805,
          7488,
          7307,
          6999,
          7414,
          7337,
          27723,
          34167,
          48936,
          57301
         ],
         "yaxis": "y2"
        },
        {
         "fillpattern": {
          "shape": ""
         },
         "hovertemplate": "variant=Premium<br>display_name=AQ Dracula HDD<br>date=%{x}<br>variant_sales=%{y}<extra></extra>",
         "legendgroup": "Premium",
         "line": {
          "color": "#00cc96"
         },
         "marker": {
          "symbol": "circle"
         },
         "mode": "lines",
         "name": "Premium",
         "orientation": "v",
         "showlegend": true,
         "stackgroup": "1",
         "type": "scatter",
         "x": [
          "2017-09-01",
          "2017-10-01",
          "2017-11-01",
          "2017-12-01",
          "2018-01-01",
          "2018-02-01",
          "2018-03-01",
          "2018-04-01",
          "2018-05-01",
          "2018-06-01",
          "2018-07-01",
          "2018-08-01",
          "2018-09-01",
          "2018-10-01",
          "2018-11-01",
          "2018-12-01",
          "2019-01-01",
          "2019-02-01",
          "2019-03-01",
          "2019-04-01",
          "2019-05-01",
          "2019-06-01",
          "2019-07-01",
          "2019-08-01",
          "2019-09-01",
          "2019-10-01",
          "2019-11-01",
          "2019-12-01",
          "2020-01-01",
          "2020-02-01",
          "2020-03-01",
          "2020-04-01",
          "2020-05-01",
          "2020-06-01",
          "2020-07-01",
          "2020-08-01",
          "2020-09-01",
          "2020-10-01",
          "2020-11-01",
          "2020-12-01",
          "2021-01-01",
          "2021-02-01",
          "2021-03-01",
          "2021-04-01",
          "2021-05-01",
          "2021-06-01",
          "2021-07-01",
          "2021-08-01",
          "2021-09-01",
          "2021-10-01",
          "2021-11-01",
          "2021-12-01"
         ],
         "xaxis": "x4",
         "y": [
          1388,
          1453,
          2489,
          2894,
          1142,
          1143,
          1386,
          1426,
          1432,
          1092,
          1428,
          1481,
          3145,
          3851,
          5465,
          5226,
          3073,
          3391,
          2818,
          3054,
          3217,
          2892,
          3085,
          2974,
          5244,
          6835,
          8944,
          8852,
          5450,
          5336,
          783,
          2673,
          2923,
          4824,
          4950,
          4934,
          6938,
          8054,
          12863,
          11491,
          7287,
          6785,
          6636,
          7044,
          7332,
          6002,
          6745,
          7304,
          27681,
          35984,
          48859,
          50448
         ],
         "yaxis": "y4"
        },
        {
         "fillpattern": {
          "shape": ""
         },
         "hovertemplate": "variant=Premium<br>display_name=AQ Werewolf NAS HDD<br>date=%{x}<br>variant_sales=%{y}<extra></extra>",
         "legendgroup": "Premium",
         "line": {
          "color": "#00cc96"
         },
         "marker": {
          "symbol": "circle"
         },
         "mode": "lines",
         "name": "Premium",
         "orientation": "v",
         "showlegend": false,
         "stackgroup": "1",
         "type": "scatter",
         "x": [
          "2019-09-01",
          "2019-10-01",
          "2019-11-01",
          "2019-12-01",
          "2020-01-01",
          "2020-02-01",
          "2020-03-01",
          "2020-04-01",
          "2020-05-01",
          "2020-06-01",
          "2020-07-01",
          "2020-08-01",
          "2020-09-01",
          "2020-10-01",
          "2020-11-01",
          "2020-12-01",
          "2021-01-01",
          "2021-02-01",
          "2021-03-01",
          "2021-04-01",
          "2021-05-01",
          "2021-06-01",
          "2021-07-01",
          "2021-08-01",
          "2021-09-01",
          "2021-10-01",
          "2021-11-01",
          "2021-12-01"
         ],
         "xaxis": "x3",
         "y": [
          5457,
          6551,
          10005,
          10096,
          5045,
          5227,
          746,
          2726,
          3121,
          4878,
          4842,
          4986,
          6933,
          9124,
          11471,
          12373,
          6743,
          7472,
          7145,
          6974,
          7145,
          7084,
          7576,
          7775,
          27388,
          35391,
          51993,
          50744
         ],
         "yaxis": "y3"
        },
        {
         "fillpattern": {
          "shape": ""
         },
         "hovertemplate": "variant=Premium<br>display_name=AQ Zion Saga<br>date=%{x}<br>variant_sales=%{y}<extra></extra>",
         "legendgroup": "Premium",
         "line": {
          "color": "#00cc96"
         },
         "marker": {
          "symbol": "circle"
         },
         "mode": "lines",
         "name": "Premium",
         "orientation": "v",
         "showlegend": false,
         "stackgroup": "1",
         "type": "scatter",
         "x": [
          "2020-09-01",
          "2020-10-01",
          "2020-11-01",
          "2020-12-01",
          "2021-01-01",
          "2021-02-01",
          "2021-03-01",
          "2021-04-01",
          "2021-05-01",
          "2021-06-01",
          "2021-07-01",
          "2021-08-01",
          "2021-09-01",
          "2021-10-01",
          "2021-11-01",
          "2021-12-01"
         ],
         "xaxis": "x2",
         "y": [
          7202,
          8838,
          11678,
          12883,
          6172,
          7538,
          7732,
          6567,
          6661,
          7594,
          7092,
          6734,
          29667,
          33167,
          45287,
          51002
         ],
         "yaxis": "y2"
        },
        {
         "fillpattern": {
          "shape": ""
         },
         "hovertemplate": "variant=Premium Plus<br>display_name=AQ Dracula HDD<br>date=%{x}<br>variant_sales=%{y}<extra></extra>",
         "legendgroup": "Premium Plus",
         "line": {
          "color": "#ab63fa"
         },
         "marker": {
          "symbol": "circle"
         },
         "mode": "lines",
         "name": "Premium Plus",
         "orientation": "v",
         "showlegend": true,
         "stackgroup": "1",
         "type": "scatter",
         "x": [
          "2017-09-01",
          "2017-10-01",
          "2017-11-01",
          "2017-12-01",
          "2018-01-01",
          "2018-02-01",
          "2018-03-01",
          "2018-04-01",
          "2018-05-01",
          "2018-06-01",
          "2018-07-01",
          "2018-08-01",
          "2018-09-01",
          "2018-10-01",
          "2018-11-01",
          "2018-12-01",
          "2019-01-01",
          "2019-02-01",
          "2019-03-01",
          "2019-04-01",
          "2019-05-01",
          "2019-06-01",
          "2019-07-01",
          "2019-08-01",
          "2019-09-01",
          "2019-10-01",
          "2019-11-01",
          "2019-12-01",
          "2020-01-01",
          "2020-02-01",
          "2020-03-01",
          "2020-04-01",
          "2020-05-01",
          "2020-06-01",
          "2020-07-01",
          "2020-08-01",
          "2020-09-01",
          "2020-10-01",
          "2020-11-01",
          "2020-12-01",
          "2021-01-01",
          "2021-02-01",
          "2021-03-01",
          "2021-04-01",
          "2021-05-01",
          "2021-06-01",
          "2021-07-01",
          "2021-08-01",
          "2021-09-01",
          "2021-10-01",
          "2021-11-01",
          "2021-12-01"
         ],
         "xaxis": "x4",
         "y": [
          1370,
          1811,
          2275,
          2376,
          1383,
          1240,
          1590,
          1557,
          1102,
          1283,
          1305,
          1242,
          3183,
          4178,
          4846,
          5283,
          3089,
          3235,
          3085,
          3051,
          3055,
          3076,
          2968,
          3359,
          5244,
          6388,
          9047,
          9633,
          4638,
          5533,
          772,
          2275,
          3083,
          4782,
          4636,
          4930,
          7320,
          8612,
          12903,
          13379,
          6601,
          6915,
          7171,
          6972,
          6859,
          6730,
          7749,
          6720,
          28543,
          36631,
          47383,
          54178
         ],
         "yaxis": "y4"
        },
        {
         "fillpattern": {
          "shape": ""
         },
         "hovertemplate": "variant=Standard 1<br>display_name=AQ Mforce Gen X<br>date=%{x}<br>variant_sales=%{y}<extra></extra>",
         "legendgroup": "Standard 1",
         "line": {
          "color": "#FFA15A"
         },
         "marker": {
          "symbol": "circle"
         },
         "mode": "lines",
         "name": "Standard 1",
         "orientation": "v",
         "showlegend": true,
         "stackgroup": "1",
         "type": "scatter",
         "x": [
          "2017-09-01",
          "2017-10-01",
          "2017-11-01",
          "2017-12-01",
          "2018-01-01",
          "2018-02-01",
          "2018-03-01",
          "2018-04-01",
          "2018-05-01",
          "2018-06-01",
          "2018-07-01",
          "2018-08-01",
          "2018-09-01",
          "2018-10-01",
          "2018-11-01",
          "2018-12-01",
          "2019-01-01",
          "2019-02-01",
          "2019-03-01",
          "2019-04-01",
          "2019-05-01",
          "2019-06-01",
          "2019-07-01",
          "2019-08-01",
          "2019-09-01",
          "2019-10-01",
          "2019-11-01",
          "2019-12-01",
          "2020-01-01",
          "2020-02-01",
          "2020-03-01",
          "2020-04-01",
          "2020-05-01",
          "2020-06-01",
          "2020-07-01",
          "2020-08-01"
         ],
         "xaxis": "x",
         "y": [
          1460,
          2041,
          2873,
          2563,
          1614,
          1348,
          1819,
          1529,
          1577,
          1773,
          1479,
          1766,
          2574,
          3177,
          3908,
          3729,
          2549,
          2492,
          2155,
          2430,
          2637,
          2486,
          2178,
          2138,
          3823,
          5418,
          6156,
          7419,
          3679,
          3660,
          579,
          1889,
          2251,
          3483,
          3534,
          3867
         ],
         "yaxis": "y"
        },
        {
         "fillpattern": {
          "shape": ""
         },
         "hovertemplate": "variant=Standard 2<br>display_name=AQ Mforce Gen X<br>date=%{x}<br>variant_sales=%{y}<extra></extra>",
         "legendgroup": "Standard 2",
         "line": {
          "color": "#19d3f3"
         },
         "marker": {
          "symbol": "circle"
         },
         "mode": "lines",
         "name": "Standard 2",
         "orientation": "v",
         "showlegend": true,
         "stackgroup": "1",
         "type": "scatter",
         "x": [
          "2017-09-01",
          "2017-10-01",
          "2017-11-01",
          "2017-12-01",
          "2018-01-01",
          "2018-02-01",
          "2018-03-01",
          "2018-04-01",
          "2018-05-01",
          "2018-06-01",
          "2018-07-01",
          "2018-08-01",
          "2018-09-01",
          "2018-10-01",
          "2018-11-01",
          "2018-12-01",
          "2019-01-01",
          "2019-02-01",
          "2019-03-01",
          "2019-04-01",
          "2019-05-01",
          "2019-06-01",
          "2019-07-01",
          "2019-08-01",
          "2019-09-01",
          "2019-10-01",
          "2019-11-01",
          "2019-12-01",
          "2020-01-01",
          "2020-02-01",
          "2020-03-01",
          "2020-04-01",
          "2020-05-01",
          "2020-06-01",
          "2020-07-01",
          "2020-08-01"
         ],
         "xaxis": "x",
         "y": [
          1669,
          1971,
          2204,
          3122,
          1768,
          1581,
          1547,
          1620,
          1836,
          1648,
          1623,
          1726,
          2489,
          2970,
          3809,
          4249,
          2593,
          2415,
          2417,
          2313,
          2400,
          2407,
          2472,
          2346,
          4064,
          5296,
          7377,
          7080,
          4222,
          3382,
          489,
          1657,
          2434,
          3183,
          3482,
          3864
         ],
         "yaxis": "y"
        },
        {
         "fillpattern": {
          "shape": ""
         },
         "hovertemplate": "variant=Standard 3<br>display_name=AQ Mforce Gen X<br>date=%{x}<br>variant_sales=%{y}<extra></extra>",
         "legendgroup": "Standard 3",
         "line": {
          "color": "#FF6692"
         },
         "marker": {
          "symbol": "circle"
         },
         "mode": "lines",
         "name": "Standard 3",
         "orientation": "v",
         "showlegend": true,
         "stackgroup": "1",
         "type": "scatter",
         "x": [
          "2017-09-01",
          "2017-10-01",
          "2017-11-01",
          "2017-12-01",
          "2018-01-01",
          "2018-02-01",
          "2018-03-01",
          "2018-04-01",
          "2018-05-01",
          "2018-06-01",
          "2018-07-01",
          "2018-08-01",
          "2018-09-01",
          "2018-10-01",
          "2018-11-01",
          "2018-12-01",
          "2019-01-01",
          "2019-02-01",
          "2019-03-01",
          "2019-04-01",
          "2019-05-01",
          "2019-06-01",
          "2019-07-01",
          "2019-08-01",
          "2019-09-01",
          "2019-10-01",
          "2019-11-01",
          "2019-12-01",
          "2020-01-01",
          "2020-02-01",
          "2020-03-01",
          "2020-04-01",
          "2020-05-01",
          "2020-06-01",
          "2020-07-01",
          "2020-08-01",
          "2020-09-01",
          "2020-10-01",
          "2020-11-01",
          "2020-12-01",
          "2021-01-01",
          "2021-02-01",
          "2021-03-01",
          "2021-04-01",
          "2021-05-01",
          "2021-06-01",
          "2021-07-01",
          "2021-08-01",
          "2021-09-01",
          "2021-10-01",
          "2021-11-01",
          "2021-12-01"
         ],
         "xaxis": "x",
         "y": [
          1465,
          2270,
          3084,
          3177,
          1552,
          2046,
          1670,
          1519,
          1616,
          1762,
          1731,
          1775,
          2537,
          3314,
          4138,
          4772,
          2309,
          2469,
          2523,
          2775,
          2398,
          2451,
          2401,
          2476,
          4232,
          4749,
          6212,
          7311,
          3799,
          3592,
          534,
          1683,
          2189,
          3720,
          3539,
          4021,
          5421,
          7129,
          10007,
          10167,
          5400,
          5564,
          5562,
          5874,
          5580,
          5424,
          5768,
          5961,
          38538,
          48098,
          62828,
          68619
         ],
         "yaxis": "y"
        },
        {
         "fillpattern": {
          "shape": ""
         },
         "hovertemplate": "variant=Plus 1<br>display_name=AQ Mforce Gen X<br>date=%{x}<br>variant_sales=%{y}<extra></extra>",
         "legendgroup": "Plus 1",
         "line": {
          "color": "#B6E880"
         },
         "marker": {
          "symbol": "circle"
         },
         "mode": "lines",
         "name": "Plus 1",
         "orientation": "v",
         "showlegend": true,
         "stackgroup": "1",
         "type": "scatter",
         "x": [
          "2017-09-01",
          "2017-10-01",
          "2017-11-01",
          "2017-12-01",
          "2018-01-01",
          "2018-02-01",
          "2018-03-01",
          "2018-04-01",
          "2018-05-01",
          "2018-06-01",
          "2018-07-01",
          "2018-08-01",
          "2018-09-01",
          "2018-10-01",
          "2018-11-01",
          "2018-12-01",
          "2019-01-01",
          "2019-02-01",
          "2019-03-01",
          "2019-04-01",
          "2019-05-01",
          "2019-06-01"
         ],
         "xaxis": "x",
         "y": [
          1594,
          2106,
          3209,
          3181,
          1556,
          1626,
          1729,
          2024,
          1706,
          1581,
          1478,
          1752,
          2609,
          2842,
          3866,
          4301,
          2375,
          2320,
          2427,
          2354,
          2721,
          1650
         ],
         "yaxis": "y"
        }
       ],
       "layout": {
        "annotations": [
         {
          "font": {},
          "showarrow": false,
          "text": "AQ Mforce Gen X",
          "x": 0.5,
          "xanchor": "center",
          "xref": "paper",
          "y": 0.2125,
          "yanchor": "bottom",
          "yref": "paper"
         },
         {
          "font": {},
          "showarrow": false,
          "text": "AQ Zion Saga",
          "x": 0.5,
          "xanchor": "center",
          "xref": "paper",
          "y": 0.475,
          "yanchor": "bottom",
          "yref": "paper"
         },
         {
          "font": {},
          "showarrow": false,
          "text": "AQ Werewolf NAS HDD",
          "x": 0.5,
          "xanchor": "center",
          "xref": "paper",
          "y": 0.7375,
          "yanchor": "bottom",
          "yref": "paper"
         },
         {
          "font": {},
          "showarrow": false,
          "text": "AQ Dracula HDD",
          "x": 0.5,
          "xanchor": "center",
          "xref": "paper",
          "y": 1,
          "yanchor": "bottom",
          "yref": "paper"
         }
        ],
        "height": 1200,
        "legend": {
         "title": {
          "text": "Variants"
         },
         "tracegroupgap": 0
        },
        "margin": {
         "t": 60
        },
        "template": {
         "data": {
          "bar": [
           {
            "error_x": {
             "color": "#2a3f5f"
            },
            "error_y": {
             "color": "#2a3f5f"
            },
            "marker": {
             "line": {
              "color": "#E5ECF6",
              "width": 0.5
             },
             "pattern": {
              "fillmode": "overlay",
              "size": 10,
              "solidity": 0.2
             }
            },
            "type": "bar"
           }
          ],
          "barpolar": [
           {
            "marker": {
             "line": {
              "color": "#E5ECF6",
              "width": 0.5
             },
             "pattern": {
              "fillmode": "overlay",
              "size": 10,
              "solidity": 0.2
             }
            },
            "type": "barpolar"
           }
          ],
          "carpet": [
           {
            "aaxis": {
             "endlinecolor": "#2a3f5f",
             "gridcolor": "white",
             "linecolor": "white",
             "minorgridcolor": "white",
             "startlinecolor": "#2a3f5f"
            },
            "baxis": {
             "endlinecolor": "#2a3f5f",
             "gridcolor": "white",
             "linecolor": "white",
             "minorgridcolor": "white",
             "startlinecolor": "#2a3f5f"
            },
            "type": "carpet"
           }
          ],
          "choropleth": [
           {
            "colorbar": {
             "outlinewidth": 0,
             "ticks": ""
            },
            "type": "choropleth"
           }
          ],
          "contour": [
           {
            "colorbar": {
             "outlinewidth": 0,
             "ticks": ""
            },
            "colorscale": [
             [
              0,
              "#0d0887"
             ],
             [
              0.1111111111111111,
              "#46039f"
             ],
             [
              0.2222222222222222,
              "#7201a8"
             ],
             [
              0.3333333333333333,
              "#9c179e"
             ],
             [
              0.4444444444444444,
              "#bd3786"
             ],
             [
              0.5555555555555556,
              "#d8576b"
             ],
             [
              0.6666666666666666,
              "#ed7953"
             ],
             [
              0.7777777777777778,
              "#fb9f3a"
             ],
             [
              0.8888888888888888,
              "#fdca26"
             ],
             [
              1,
              "#f0f921"
             ]
            ],
            "type": "contour"
           }
          ],
          "contourcarpet": [
           {
            "colorbar": {
             "outlinewidth": 0,
             "ticks": ""
            },
            "type": "contourcarpet"
           }
          ],
          "heatmap": [
           {
            "colorbar": {
             "outlinewidth": 0,
             "ticks": ""
            },
            "colorscale": [
             [
              0,
              "#0d0887"
             ],
             [
              0.1111111111111111,
              "#46039f"
             ],
             [
              0.2222222222222222,
              "#7201a8"
             ],
             [
              0.3333333333333333,
              "#9c179e"
             ],
             [
              0.4444444444444444,
              "#bd3786"
             ],
             [
              0.5555555555555556,
              "#d8576b"
             ],
             [
              0.6666666666666666,
              "#ed7953"
             ],
             [
              0.7777777777777778,
              "#fb9f3a"
             ],
             [
              0.8888888888888888,
              "#fdca26"
             ],
             [
              1,
              "#f0f921"
             ]
            ],
            "type": "heatmap"
           }
          ],
          "heatmapgl": [
           {
            "colorbar": {
             "outlinewidth": 0,
             "ticks": ""
            },
            "colorscale": [
             [
              0,
              "#0d0887"
             ],
             [
              0.1111111111111111,
              "#46039f"
             ],
             [
              0.2222222222222222,
              "#7201a8"
             ],
             [
              0.3333333333333333,
              "#9c179e"
             ],
             [
              0.4444444444444444,
              "#bd3786"
             ],
             [
              0.5555555555555556,
              "#d8576b"
             ],
             [
              0.6666666666666666,
              "#ed7953"
             ],
             [
              0.7777777777777778,
              "#fb9f3a"
             ],
             [
              0.8888888888888888,
              "#fdca26"
             ],
             [
              1,
              "#f0f921"
             ]
            ],
            "type": "heatmapgl"
           }
          ],
          "histogram": [
           {
            "marker": {
             "pattern": {
              "fillmode": "overlay",
              "size": 10,
              "solidity": 0.2
             }
            },
            "type": "histogram"
           }
          ],
          "histogram2d": [
           {
            "colorbar": {
             "outlinewidth": 0,
             "ticks": ""
            },
            "colorscale": [
             [
              0,
              "#0d0887"
             ],
             [
              0.1111111111111111,
              "#46039f"
             ],
             [
              0.2222222222222222,
              "#7201a8"
             ],
             [
              0.3333333333333333,
              "#9c179e"
             ],
             [
              0.4444444444444444,
              "#bd3786"
             ],
             [
              0.5555555555555556,
              "#d8576b"
             ],
             [
              0.6666666666666666,
              "#ed7953"
             ],
             [
              0.7777777777777778,
              "#fb9f3a"
             ],
             [
              0.8888888888888888,
              "#fdca26"
             ],
             [
              1,
              "#f0f921"
             ]
            ],
            "type": "histogram2d"
           }
          ],
          "histogram2dcontour": [
           {
            "colorbar": {
             "outlinewidth": 0,
             "ticks": ""
            },
            "colorscale": [
             [
              0,
              "#0d0887"
             ],
             [
              0.1111111111111111,
              "#46039f"
             ],
             [
              0.2222222222222222,
              "#7201a8"
             ],
             [
              0.3333333333333333,
              "#9c179e"
             ],
             [
              0.4444444444444444,
              "#bd3786"
             ],
             [
              0.5555555555555556,
              "#d8576b"
             ],
             [
              0.6666666666666666,
              "#ed7953"
             ],
             [
              0.7777777777777778,
              "#fb9f3a"
             ],
             [
              0.8888888888888888,
              "#fdca26"
             ],
             [
              1,
              "#f0f921"
             ]
            ],
            "type": "histogram2dcontour"
           }
          ],
          "mesh3d": [
           {
            "colorbar": {
             "outlinewidth": 0,
             "ticks": ""
            },
            "type": "mesh3d"
           }
          ],
          "parcoords": [
           {
            "line": {
             "colorbar": {
              "outlinewidth": 0,
              "ticks": ""
             }
            },
            "type": "parcoords"
           }
          ],
          "pie": [
           {
            "automargin": true,
            "type": "pie"
           }
          ],
          "scatter": [
           {
            "fillpattern": {
             "fillmode": "overlay",
             "size": 10,
             "solidity": 0.2
            },
            "type": "scatter"
           }
          ],
          "scatter3d": [
           {
            "line": {
             "colorbar": {
              "outlinewidth": 0,
              "ticks": ""
             }
            },
            "marker": {
             "colorbar": {
              "outlinewidth": 0,
              "ticks": ""
             }
            },
            "type": "scatter3d"
           }
          ],
          "scattercarpet": [
           {
            "marker": {
             "colorbar": {
              "outlinewidth": 0,
              "ticks": ""
             }
            },
            "type": "scattercarpet"
           }
          ],
          "scattergeo": [
           {
            "marker": {
             "colorbar": {
              "outlinewidth": 0,
              "ticks": ""
             }
            },
            "type": "scattergeo"
           }
          ],
          "scattergl": [
           {
            "marker": {
             "colorbar": {
              "outlinewidth": 0,
              "ticks": ""
             }
            },
            "type": "scattergl"
           }
          ],
          "scattermapbox": [
           {
            "marker": {
             "colorbar": {
              "outlinewidth": 0,
              "ticks": ""
             }
            },
            "type": "scattermapbox"
           }
          ],
          "scatterpolar": [
           {
            "marker": {
             "colorbar": {
              "outlinewidth": 0,
              "ticks": ""
             }
            },
            "type": "scatterpolar"
           }
          ],
          "scatterpolargl": [
           {
            "marker": {
             "colorbar": {
              "outlinewidth": 0,
              "ticks": ""
             }
            },
            "type": "scatterpolargl"
           }
          ],
          "scatterternary": [
           {
            "marker": {
             "colorbar": {
              "outlinewidth": 0,
              "ticks": ""
             }
            },
            "type": "scatterternary"
           }
          ],
          "surface": [
           {
            "colorbar": {
             "outlinewidth": 0,
             "ticks": ""
            },
            "colorscale": [
             [
              0,
              "#0d0887"
             ],
             [
              0.1111111111111111,
              "#46039f"
             ],
             [
              0.2222222222222222,
              "#7201a8"
             ],
             [
              0.3333333333333333,
              "#9c179e"
             ],
             [
              0.4444444444444444,
              "#bd3786"
             ],
             [
              0.5555555555555556,
              "#d8576b"
             ],
             [
              0.6666666666666666,
              "#ed7953"
             ],
             [
              0.7777777777777778,
              "#fb9f3a"
             ],
             [
              0.8888888888888888,
              "#fdca26"
             ],
             [
              1,
              "#f0f921"
             ]
            ],
            "type": "surface"
           }
          ],
          "table": [
           {
            "cells": {
             "fill": {
              "color": "#EBF0F8"
             },
             "line": {
              "color": "white"
             }
            },
            "header": {
             "fill": {
              "color": "#C8D4E3"
             },
             "line": {
              "color": "white"
             }
            },
            "type": "table"
           }
          ]
         },
         "layout": {
          "annotationdefaults": {
           "arrowcolor": "#2a3f5f",
           "arrowhead": 0,
           "arrowwidth": 1
          },
          "autotypenumbers": "strict",
          "coloraxis": {
           "colorbar": {
            "outlinewidth": 0,
            "ticks": ""
           }
          },
          "colorscale": {
           "diverging": [
            [
             0,
             "#8e0152"
            ],
            [
             0.1,
             "#c51b7d"
            ],
            [
             0.2,
             "#de77ae"
            ],
            [
             0.3,
             "#f1b6da"
            ],
            [
             0.4,
             "#fde0ef"
            ],
            [
             0.5,
             "#f7f7f7"
            ],
            [
             0.6,
             "#e6f5d0"
            ],
            [
             0.7,
             "#b8e186"
            ],
            [
             0.8,
             "#7fbc41"
            ],
            [
             0.9,
             "#4d9221"
            ],
            [
             1,
             "#276419"
            ]
           ],
           "sequential": [
            [
             0,
             "#0d0887"
            ],
            [
             0.1111111111111111,
             "#46039f"
            ],
            [
             0.2222222222222222,
             "#7201a8"
            ],
            [
             0.3333333333333333,
             "#9c179e"
            ],
            [
             0.4444444444444444,
             "#bd3786"
            ],
            [
             0.5555555555555556,
             "#d8576b"
            ],
            [
             0.6666666666666666,
             "#ed7953"
            ],
            [
             0.7777777777777778,
             "#fb9f3a"
            ],
            [
             0.8888888888888888,
             "#fdca26"
            ],
            [
             1,
             "#f0f921"
            ]
           ],
           "sequentialminus": [
            [
             0,
             "#0d0887"
            ],
            [
             0.1111111111111111,
             "#46039f"
            ],
            [
             0.2222222222222222,
             "#7201a8"
            ],
            [
             0.3333333333333333,
             "#9c179e"
            ],
            [
             0.4444444444444444,
             "#bd3786"
            ],
            [
             0.5555555555555556,
             "#d8576b"
            ],
            [
             0.6666666666666666,
             "#ed7953"
            ],
            [
             0.7777777777777778,
             "#fb9f3a"
            ],
            [
             0.8888888888888888,
             "#fdca26"
            ],
            [
             1,
             "#f0f921"
            ]
           ]
          },
          "colorway": [
           "#636efa",
           "#EF553B",
           "#00cc96",
           "#ab63fa",
           "#FFA15A",
           "#19d3f3",
           "#FF6692",
           "#B6E880",
           "#FF97FF",
           "#FECB52"
          ],
          "font": {
           "color": "#2a3f5f"
          },
          "geo": {
           "bgcolor": "white",
           "lakecolor": "white",
           "landcolor": "#E5ECF6",
           "showlakes": true,
           "showland": true,
           "subunitcolor": "white"
          },
          "hoverlabel": {
           "align": "left"
          },
          "hovermode": "closest",
          "mapbox": {
           "style": "light"
          },
          "paper_bgcolor": "white",
          "plot_bgcolor": "#E5ECF6",
          "polar": {
           "angularaxis": {
            "gridcolor": "white",
            "linecolor": "white",
            "ticks": ""
           },
           "bgcolor": "#E5ECF6",
           "radialaxis": {
            "gridcolor": "white",
            "linecolor": "white",
            "ticks": ""
           }
          },
          "scene": {
           "xaxis": {
            "backgroundcolor": "#E5ECF6",
            "gridcolor": "white",
            "gridwidth": 2,
            "linecolor": "white",
            "showbackground": true,
            "ticks": "",
            "zerolinecolor": "white"
           },
           "yaxis": {
            "backgroundcolor": "#E5ECF6",
            "gridcolor": "white",
            "gridwidth": 2,
            "linecolor": "white",
            "showbackground": true,
            "ticks": "",
            "zerolinecolor": "white"
           },
           "zaxis": {
            "backgroundcolor": "#E5ECF6",
            "gridcolor": "white",
            "gridwidth": 2,
            "linecolor": "white",
            "showbackground": true,
            "ticks": "",
            "zerolinecolor": "white"
           }
          },
          "shapedefaults": {
           "line": {
            "color": "#2a3f5f"
           }
          },
          "ternary": {
           "aaxis": {
            "gridcolor": "white",
            "linecolor": "white",
            "ticks": ""
           },
           "baxis": {
            "gridcolor": "white",
            "linecolor": "white",
            "ticks": ""
           },
           "bgcolor": "#E5ECF6",
           "caxis": {
            "gridcolor": "white",
            "linecolor": "white",
            "ticks": ""
           }
          },
          "title": {
           "x": 0.05
          },
          "xaxis": {
           "automargin": true,
           "gridcolor": "white",
           "linecolor": "white",
           "ticks": "",
           "title": {
            "standoff": 15
           },
           "zerolinecolor": "white",
           "zerolinewidth": 2
          },
          "yaxis": {
           "automargin": true,
           "gridcolor": "white",
           "linecolor": "white",
           "ticks": "",
           "title": {
            "standoff": 15
           },
           "zerolinecolor": "white",
           "zerolinewidth": 2
          }
         }
        },
        "title": {
         "text": "Historic variant sales"
        },
        "width": 1000,
        "xaxis": {
         "anchor": "y",
         "domain": [
          0,
          1
         ],
         "showticklabels": true,
         "title": {
          "text": ""
         }
        },
        "xaxis2": {
         "anchor": "y2",
         "domain": [
          0,
          1
         ],
         "matches": "x",
         "showticklabels": true,
         "title": {
          "text": ""
         }
        },
        "xaxis3": {
         "anchor": "y3",
         "domain": [
          0,
          1
         ],
         "matches": "x",
         "showticklabels": true,
         "title": {
          "text": ""
         }
        },
        "xaxis4": {
         "anchor": "y4",
         "domain": [
          0,
          1
         ],
         "matches": "x",
         "showticklabels": true,
         "title": {
          "text": ""
         }
        },
        "yaxis": {
         "anchor": "x",
         "domain": [
          0,
          0.2125
         ],
         "title": {
          "text": "Units sold"
         }
        },
        "yaxis2": {
         "anchor": "x2",
         "domain": [
          0.2625,
          0.475
         ],
         "matches": "y",
         "title": {
          "text": "Units sold"
         }
        },
        "yaxis3": {
         "anchor": "x3",
         "domain": [
          0.525,
          0.7375
         ],
         "matches": "y",
         "title": {
          "text": "Units sold"
         }
        },
        "yaxis4": {
         "anchor": "x4",
         "domain": [
          0.7875,
          1
         ],
         "matches": "y",
         "title": {
          "text": "Units sold"
         }
        }
       }
      }
     },
     "metadata": {},
     "output_type": "display_data"
    }
   ],
   "source": [
    "# Dataframe for the chart\n",
    "variant_sales_df = pd.read_sql(\"SELECT display_name, variant, date, variant_sales FROM monthly_sales_full\", con)\n",
    "\n",
    "\n",
    "# Build a stacked area chart with the monthly sales per product.\n",
    "\n",
    "fig = px.area(data_frame=variant_sales_df,\n",
    "             x='date',\n",
    "             y='variant_sales',\n",
    "             facet_col='display_name',\n",
    "             facet_col_wrap=1,\n",
    "             color='variant',\n",
    "             facet_row_spacing=0.05,\n",
    "             width=1000,\n",
    "             height=1200,\n",
    "             )\n",
    "\n",
    "# Set labels\n",
    "fig.update_xaxes(title='')\n",
    "fig.update_yaxes(title='Units sold')\n",
    "\n",
    "# remove the 'display_name=' part of the label\n",
    "fig.for_each_annotation(lambda a: a.update(text = a.text.split('=')[1]))\n",
    "\n",
    "# Show x-axis tick labels on all facets\n",
    "for axis in fig.layout:\n",
    "    if axis.startswith('xaxis'):\n",
    "        fig.layout[axis]['showticklabels'] = True\n",
    "\n",
    "fig.update_layout(\n",
    "    title='Historic variant sales',\n",
    "    legend_title_text='Variants'\n",
    ")\n",
    "\n",
    "fig.show()"
   ]
  },
  {
   "cell_type": "markdown",
   "metadata": {},
   "source": [
    "This shows us that all the variants that are introduced have a significant contribution to the total sales. None of the variants being currently offered is irrelevant."
   ]
  },
  {
   "cell_type": "markdown",
   "metadata": {},
   "source": [
    "[Back to Contents](#contents)\n",
    "\n",
    "---"
   ]
  },
  {
   "cell_type": "markdown",
   "metadata": {},
   "source": [
    "### Channel sales"
   ]
  },
  {
   "cell_type": "markdown",
   "metadata": {},
   "source": [
    "To understand the distribution of sales across different customer channels, we will analyze the contribution of each channel to the sales of our products. This will help identify if certain channels drive the demand of some of our products."
   ]
  },
  {
   "cell_type": "code",
   "execution_count": 81,
   "metadata": {},
   "outputs": [],
   "source": [
    "# calculate channel sales per product\n",
    "\n",
    "query = \"\"\"\n",
    "SELECT display_name, channel, SUM(sales_by_channel.channel_sales) as channel_sales, SUM(total_sales.variant_sales) as total_sales\n",
    "FROM (\n",
    "    SELECT display_name, variant, product_code, channel, SUM(sold_quantity) as channel_sales\n",
    "    FROM fact_sales_monthly\n",
    "        JOIN dim_customer USING(customer_code)\n",
    "        JOIN dim_product USING(product_code)\n",
    "    GROUP BY fact_sales_monthly.product_code, channel) as sales_by_channel\n",
    "    JOIN (\n",
    "        SELECT product_code, SUM(sold_quantity) as variant_sales\n",
    "        FROM fact_sales_monthly\n",
    "        GROUP BY product_code) as total_sales USING(product_code)\n",
    "GROUP BY display_name, channel\n",
    "\"\"\"\n",
    "\n",
    "channel_sales_df = pd.read_sql_query(query, con)"
   ]
  },
  {
   "cell_type": "code",
   "execution_count": 82,
   "metadata": {},
   "outputs": [
    {
     "data": {
      "application/vnd.plotly.v1+json": {
       "config": {
        "plotlyServerURL": "https://plot.ly"
       },
       "data": [
        {
         "alignmentgroup": "True",
         "hovertemplate": "channel=Direct<br>display_name=%{x}<br>channel_sales=%{y}<extra></extra>",
         "legendgroup": "Direct",
         "marker": {
          "color": "#636efa",
          "pattern": {
           "shape": ""
          }
         },
         "name": "Direct",
         "offsetgroup": "Direct",
         "orientation": "v",
         "showlegend": true,
         "textposition": "auto",
         "type": "bar",
         "x": [
          "AQ Dracula HDD",
          "AQ Mforce Gen X",
          "AQ Werewolf NAS HDD",
          "AQ Zion Saga"
         ],
         "xaxis": "x",
         "y": [
          196967,
          104265,
          172014,
          131645
         ],
         "yaxis": "y"
        },
        {
         "alignmentgroup": "True",
         "hovertemplate": "channel=Distributor<br>display_name=%{x}<br>channel_sales=%{y}<extra></extra>",
         "legendgroup": "Distributor",
         "marker": {
          "color": "#EF553B",
          "pattern": {
           "shape": ""
          }
         },
         "name": "Distributor",
         "offsetgroup": "Distributor",
         "orientation": "v",
         "showlegend": true,
         "textposition": "auto",
         "type": "bar",
         "x": [
          "AQ Dracula HDD",
          "AQ Mforce Gen X",
          "AQ Werewolf NAS HDD",
          "AQ Zion Saga"
         ],
         "xaxis": "x",
         "y": [
          144035,
          83211,
          123013,
          93027
         ],
         "yaxis": "y"
        },
        {
         "alignmentgroup": "True",
         "hovertemplate": "channel=Retailer<br>display_name=%{x}<br>channel_sales=%{y}<extra></extra>",
         "legendgroup": "Retailer",
         "marker": {
          "color": "#00cc96",
          "pattern": {
           "shape": ""
          }
         },
         "name": "Retailer",
         "offsetgroup": "Retailer",
         "orientation": "v",
         "showlegend": true,
         "textposition": "auto",
         "type": "bar",
         "x": [
          "AQ Dracula HDD",
          "AQ Mforce Gen X",
          "AQ Werewolf NAS HDD",
          "AQ Zion Saga"
         ],
         "xaxis": "x",
         "y": [
          870579,
          465060,
          780327,
          618792
         ],
         "yaxis": "y"
        }
       ],
       "layout": {
        "barmode": "stack",
        "legend": {
         "title": {
          "text": "Channel"
         },
         "tracegroupgap": 0
        },
        "template": {
         "data": {
          "bar": [
           {
            "error_x": {
             "color": "#2a3f5f"
            },
            "error_y": {
             "color": "#2a3f5f"
            },
            "marker": {
             "line": {
              "color": "#E5ECF6",
              "width": 0.5
             },
             "pattern": {
              "fillmode": "overlay",
              "size": 10,
              "solidity": 0.2
             }
            },
            "type": "bar"
           }
          ],
          "barpolar": [
           {
            "marker": {
             "line": {
              "color": "#E5ECF6",
              "width": 0.5
             },
             "pattern": {
              "fillmode": "overlay",
              "size": 10,
              "solidity": 0.2
             }
            },
            "type": "barpolar"
           }
          ],
          "carpet": [
           {
            "aaxis": {
             "endlinecolor": "#2a3f5f",
             "gridcolor": "white",
             "linecolor": "white",
             "minorgridcolor": "white",
             "startlinecolor": "#2a3f5f"
            },
            "baxis": {
             "endlinecolor": "#2a3f5f",
             "gridcolor": "white",
             "linecolor": "white",
             "minorgridcolor": "white",
             "startlinecolor": "#2a3f5f"
            },
            "type": "carpet"
           }
          ],
          "choropleth": [
           {
            "colorbar": {
             "outlinewidth": 0,
             "ticks": ""
            },
            "type": "choropleth"
           }
          ],
          "contour": [
           {
            "colorbar": {
             "outlinewidth": 0,
             "ticks": ""
            },
            "colorscale": [
             [
              0,
              "#0d0887"
             ],
             [
              0.1111111111111111,
              "#46039f"
             ],
             [
              0.2222222222222222,
              "#7201a8"
             ],
             [
              0.3333333333333333,
              "#9c179e"
             ],
             [
              0.4444444444444444,
              "#bd3786"
             ],
             [
              0.5555555555555556,
              "#d8576b"
             ],
             [
              0.6666666666666666,
              "#ed7953"
             ],
             [
              0.7777777777777778,
              "#fb9f3a"
             ],
             [
              0.8888888888888888,
              "#fdca26"
             ],
             [
              1,
              "#f0f921"
             ]
            ],
            "type": "contour"
           }
          ],
          "contourcarpet": [
           {
            "colorbar": {
             "outlinewidth": 0,
             "ticks": ""
            },
            "type": "contourcarpet"
           }
          ],
          "heatmap": [
           {
            "colorbar": {
             "outlinewidth": 0,
             "ticks": ""
            },
            "colorscale": [
             [
              0,
              "#0d0887"
             ],
             [
              0.1111111111111111,
              "#46039f"
             ],
             [
              0.2222222222222222,
              "#7201a8"
             ],
             [
              0.3333333333333333,
              "#9c179e"
             ],
             [
              0.4444444444444444,
              "#bd3786"
             ],
             [
              0.5555555555555556,
              "#d8576b"
             ],
             [
              0.6666666666666666,
              "#ed7953"
             ],
             [
              0.7777777777777778,
              "#fb9f3a"
             ],
             [
              0.8888888888888888,
              "#fdca26"
             ],
             [
              1,
              "#f0f921"
             ]
            ],
            "type": "heatmap"
           }
          ],
          "heatmapgl": [
           {
            "colorbar": {
             "outlinewidth": 0,
             "ticks": ""
            },
            "colorscale": [
             [
              0,
              "#0d0887"
             ],
             [
              0.1111111111111111,
              "#46039f"
             ],
             [
              0.2222222222222222,
              "#7201a8"
             ],
             [
              0.3333333333333333,
              "#9c179e"
             ],
             [
              0.4444444444444444,
              "#bd3786"
             ],
             [
              0.5555555555555556,
              "#d8576b"
             ],
             [
              0.6666666666666666,
              "#ed7953"
             ],
             [
              0.7777777777777778,
              "#fb9f3a"
             ],
             [
              0.8888888888888888,
              "#fdca26"
             ],
             [
              1,
              "#f0f921"
             ]
            ],
            "type": "heatmapgl"
           }
          ],
          "histogram": [
           {
            "marker": {
             "pattern": {
              "fillmode": "overlay",
              "size": 10,
              "solidity": 0.2
             }
            },
            "type": "histogram"
           }
          ],
          "histogram2d": [
           {
            "colorbar": {
             "outlinewidth": 0,
             "ticks": ""
            },
            "colorscale": [
             [
              0,
              "#0d0887"
             ],
             [
              0.1111111111111111,
              "#46039f"
             ],
             [
              0.2222222222222222,
              "#7201a8"
             ],
             [
              0.3333333333333333,
              "#9c179e"
             ],
             [
              0.4444444444444444,
              "#bd3786"
             ],
             [
              0.5555555555555556,
              "#d8576b"
             ],
             [
              0.6666666666666666,
              "#ed7953"
             ],
             [
              0.7777777777777778,
              "#fb9f3a"
             ],
             [
              0.8888888888888888,
              "#fdca26"
             ],
             [
              1,
              "#f0f921"
             ]
            ],
            "type": "histogram2d"
           }
          ],
          "histogram2dcontour": [
           {
            "colorbar": {
             "outlinewidth": 0,
             "ticks": ""
            },
            "colorscale": [
             [
              0,
              "#0d0887"
             ],
             [
              0.1111111111111111,
              "#46039f"
             ],
             [
              0.2222222222222222,
              "#7201a8"
             ],
             [
              0.3333333333333333,
              "#9c179e"
             ],
             [
              0.4444444444444444,
              "#bd3786"
             ],
             [
              0.5555555555555556,
              "#d8576b"
             ],
             [
              0.6666666666666666,
              "#ed7953"
             ],
             [
              0.7777777777777778,
              "#fb9f3a"
             ],
             [
              0.8888888888888888,
              "#fdca26"
             ],
             [
              1,
              "#f0f921"
             ]
            ],
            "type": "histogram2dcontour"
           }
          ],
          "mesh3d": [
           {
            "colorbar": {
             "outlinewidth": 0,
             "ticks": ""
            },
            "type": "mesh3d"
           }
          ],
          "parcoords": [
           {
            "line": {
             "colorbar": {
              "outlinewidth": 0,
              "ticks": ""
             }
            },
            "type": "parcoords"
           }
          ],
          "pie": [
           {
            "automargin": true,
            "type": "pie"
           }
          ],
          "scatter": [
           {
            "fillpattern": {
             "fillmode": "overlay",
             "size": 10,
             "solidity": 0.2
            },
            "type": "scatter"
           }
          ],
          "scatter3d": [
           {
            "line": {
             "colorbar": {
              "outlinewidth": 0,
              "ticks": ""
             }
            },
            "marker": {
             "colorbar": {
              "outlinewidth": 0,
              "ticks": ""
             }
            },
            "type": "scatter3d"
           }
          ],
          "scattercarpet": [
           {
            "marker": {
             "colorbar": {
              "outlinewidth": 0,
              "ticks": ""
             }
            },
            "type": "scattercarpet"
           }
          ],
          "scattergeo": [
           {
            "marker": {
             "colorbar": {
              "outlinewidth": 0,
              "ticks": ""
             }
            },
            "type": "scattergeo"
           }
          ],
          "scattergl": [
           {
            "marker": {
             "colorbar": {
              "outlinewidth": 0,
              "ticks": ""
             }
            },
            "type": "scattergl"
           }
          ],
          "scattermapbox": [
           {
            "marker": {
             "colorbar": {
              "outlinewidth": 0,
              "ticks": ""
             }
            },
            "type": "scattermapbox"
           }
          ],
          "scatterpolar": [
           {
            "marker": {
             "colorbar": {
              "outlinewidth": 0,
              "ticks": ""
             }
            },
            "type": "scatterpolar"
           }
          ],
          "scatterpolargl": [
           {
            "marker": {
             "colorbar": {
              "outlinewidth": 0,
              "ticks": ""
             }
            },
            "type": "scatterpolargl"
           }
          ],
          "scatterternary": [
           {
            "marker": {
             "colorbar": {
              "outlinewidth": 0,
              "ticks": ""
             }
            },
            "type": "scatterternary"
           }
          ],
          "surface": [
           {
            "colorbar": {
             "outlinewidth": 0,
             "ticks": ""
            },
            "colorscale": [
             [
              0,
              "#0d0887"
             ],
             [
              0.1111111111111111,
              "#46039f"
             ],
             [
              0.2222222222222222,
              "#7201a8"
             ],
             [
              0.3333333333333333,
              "#9c179e"
             ],
             [
              0.4444444444444444,
              "#bd3786"
             ],
             [
              0.5555555555555556,
              "#d8576b"
             ],
             [
              0.6666666666666666,
              "#ed7953"
             ],
             [
              0.7777777777777778,
              "#fb9f3a"
             ],
             [
              0.8888888888888888,
              "#fdca26"
             ],
             [
              1,
              "#f0f921"
             ]
            ],
            "type": "surface"
           }
          ],
          "table": [
           {
            "cells": {
             "fill": {
              "color": "#EBF0F8"
             },
             "line": {
              "color": "white"
             }
            },
            "header": {
             "fill": {
              "color": "#C8D4E3"
             },
             "line": {
              "color": "white"
             }
            },
            "type": "table"
           }
          ]
         },
         "layout": {
          "annotationdefaults": {
           "arrowcolor": "#2a3f5f",
           "arrowhead": 0,
           "arrowwidth": 1
          },
          "autotypenumbers": "strict",
          "coloraxis": {
           "colorbar": {
            "outlinewidth": 0,
            "ticks": ""
           }
          },
          "colorscale": {
           "diverging": [
            [
             0,
             "#8e0152"
            ],
            [
             0.1,
             "#c51b7d"
            ],
            [
             0.2,
             "#de77ae"
            ],
            [
             0.3,
             "#f1b6da"
            ],
            [
             0.4,
             "#fde0ef"
            ],
            [
             0.5,
             "#f7f7f7"
            ],
            [
             0.6,
             "#e6f5d0"
            ],
            [
             0.7,
             "#b8e186"
            ],
            [
             0.8,
             "#7fbc41"
            ],
            [
             0.9,
             "#4d9221"
            ],
            [
             1,
             "#276419"
            ]
           ],
           "sequential": [
            [
             0,
             "#0d0887"
            ],
            [
             0.1111111111111111,
             "#46039f"
            ],
            [
             0.2222222222222222,
             "#7201a8"
            ],
            [
             0.3333333333333333,
             "#9c179e"
            ],
            [
             0.4444444444444444,
             "#bd3786"
            ],
            [
             0.5555555555555556,
             "#d8576b"
            ],
            [
             0.6666666666666666,
             "#ed7953"
            ],
            [
             0.7777777777777778,
             "#fb9f3a"
            ],
            [
             0.8888888888888888,
             "#fdca26"
            ],
            [
             1,
             "#f0f921"
            ]
           ],
           "sequentialminus": [
            [
             0,
             "#0d0887"
            ],
            [
             0.1111111111111111,
             "#46039f"
            ],
            [
             0.2222222222222222,
             "#7201a8"
            ],
            [
             0.3333333333333333,
             "#9c179e"
            ],
            [
             0.4444444444444444,
             "#bd3786"
            ],
            [
             0.5555555555555556,
             "#d8576b"
            ],
            [
             0.6666666666666666,
             "#ed7953"
            ],
            [
             0.7777777777777778,
             "#fb9f3a"
            ],
            [
             0.8888888888888888,
             "#fdca26"
            ],
            [
             1,
             "#f0f921"
            ]
           ]
          },
          "colorway": [
           "#636efa",
           "#EF553B",
           "#00cc96",
           "#ab63fa",
           "#FFA15A",
           "#19d3f3",
           "#FF6692",
           "#B6E880",
           "#FF97FF",
           "#FECB52"
          ],
          "font": {
           "color": "#2a3f5f"
          },
          "geo": {
           "bgcolor": "white",
           "lakecolor": "white",
           "landcolor": "#E5ECF6",
           "showlakes": true,
           "showland": true,
           "subunitcolor": "white"
          },
          "hoverlabel": {
           "align": "left"
          },
          "hovermode": "closest",
          "mapbox": {
           "style": "light"
          },
          "paper_bgcolor": "white",
          "plot_bgcolor": "#E5ECF6",
          "polar": {
           "angularaxis": {
            "gridcolor": "white",
            "linecolor": "white",
            "ticks": ""
           },
           "bgcolor": "#E5ECF6",
           "radialaxis": {
            "gridcolor": "white",
            "linecolor": "white",
            "ticks": ""
           }
          },
          "scene": {
           "xaxis": {
            "backgroundcolor": "#E5ECF6",
            "gridcolor": "white",
            "gridwidth": 2,
            "linecolor": "white",
            "showbackground": true,
            "ticks": "",
            "zerolinecolor": "white"
           },
           "yaxis": {
            "backgroundcolor": "#E5ECF6",
            "gridcolor": "white",
            "gridwidth": 2,
            "linecolor": "white",
            "showbackground": true,
            "ticks": "",
            "zerolinecolor": "white"
           },
           "zaxis": {
            "backgroundcolor": "#E5ECF6",
            "gridcolor": "white",
            "gridwidth": 2,
            "linecolor": "white",
            "showbackground": true,
            "ticks": "",
            "zerolinecolor": "white"
           }
          },
          "shapedefaults": {
           "line": {
            "color": "#2a3f5f"
           }
          },
          "ternary": {
           "aaxis": {
            "gridcolor": "white",
            "linecolor": "white",
            "ticks": ""
           },
           "baxis": {
            "gridcolor": "white",
            "linecolor": "white",
            "ticks": ""
           },
           "bgcolor": "#E5ECF6",
           "caxis": {
            "gridcolor": "white",
            "linecolor": "white",
            "ticks": ""
           }
          },
          "title": {
           "x": 0.05
          },
          "xaxis": {
           "automargin": true,
           "gridcolor": "white",
           "linecolor": "white",
           "ticks": "",
           "title": {
            "standoff": 15
           },
           "zerolinecolor": "white",
           "zerolinewidth": 2
          },
          "yaxis": {
           "automargin": true,
           "gridcolor": "white",
           "linecolor": "white",
           "ticks": "",
           "title": {
            "standoff": 15
           },
           "zerolinecolor": "white",
           "zerolinewidth": 2
          }
         }
        },
        "title": {
         "text": "Sales by channel"
        },
        "xaxis": {
         "anchor": "y",
         "domain": [
          0,
          1
         ],
         "title": {
          "text": ""
         }
        },
        "yaxis": {
         "anchor": "x",
         "domain": [
          0,
          1
         ],
         "title": {
          "text": "Units sold"
         }
        }
       }
      }
     },
     "metadata": {},
     "output_type": "display_data"
    }
   ],
   "source": [
    "# Plot a stacked bar chart\n",
    "\n",
    "fig = px.bar(channel_sales_df,\n",
    "             x='display_name',\n",
    "             y='channel_sales',\n",
    "             color='channel',\n",
    "             barmode='stack',\n",
    "             title='Sales by channel'\n",
    ")\n",
    "\n",
    "# Fix titles\n",
    "fig.update_yaxes(title='Units sold')\n",
    "fig.update_xaxes(title='')\n",
    "fig.update_legends(title='Channel')\n",
    "\n",
    "\n",
    "fig.show()"
   ]
  },
  {
   "cell_type": "markdown",
   "metadata": {},
   "source": [
    "According to the total sales, retailers are the main sales channel for these products. \n",
    "\n",
    "Let's see if that is true in an historical chart."
   ]
  },
  {
   "cell_type": "code",
   "execution_count": 83,
   "metadata": {},
   "outputs": [],
   "source": [
    "# calculate MONTHLY channel sales per product \n",
    "\n",
    "query = \"\"\"\n",
    "SELECT display_name, channel, date, SUM(sales_by_channel.channel_sales) as channel_sales\n",
    "FROM (\n",
    "    SELECT display_name, date, variant, product_code, channel, SUM(sold_quantity) as channel_sales\n",
    "    FROM fact_sales_monthly\n",
    "        JOIN dim_customer USING(customer_code)\n",
    "        JOIN dim_product USING(product_code)\n",
    "    GROUP BY fact_sales_monthly.product_code, channel, date) as sales_by_channel\n",
    "\n",
    "GROUP BY display_name, channel, date\n",
    "\"\"\"\n",
    "\"\"\"\n",
    "    JOIN (\n",
    "        SELECT product_code, SUM(sold_quantity) as variant_sales\n",
    "        FROM fact_sales_monthly\n",
    "        GROUP BY product_code) as total_sales USING(product_code)\n",
    "\"\"\"\n",
    "\n",
    "monthly_channel_sales_df = pd.read_sql_query(query, con)"
   ]
  },
  {
   "cell_type": "code",
   "execution_count": 84,
   "metadata": {},
   "outputs": [
    {
     "data": {
      "application/vnd.plotly.v1+json": {
       "config": {
        "plotlyServerURL": "https://plot.ly"
       },
       "data": [
        {
         "alignmentgroup": "True",
         "hovertemplate": "channel=Direct<br>display_name=AQ Dracula HDD<br>date=%{x}<br>channel_sales=%{y}<extra></extra>",
         "legendgroup": "Direct",
         "marker": {
          "color": "#636efa",
          "pattern": {
           "shape": ""
          }
         },
         "name": "Direct",
         "offsetgroup": "Direct",
         "orientation": "v",
         "showlegend": true,
         "textposition": "auto",
         "type": "bar",
         "x": [
          "2017-09-01",
          "2017-10-01",
          "2017-11-01",
          "2017-12-01",
          "2018-01-01",
          "2018-02-01",
          "2018-03-01",
          "2018-04-01",
          "2018-05-01",
          "2018-06-01",
          "2018-07-01",
          "2018-08-01",
          "2018-09-01",
          "2018-10-01",
          "2018-11-01",
          "2018-12-01",
          "2019-01-01",
          "2019-02-01",
          "2019-03-01",
          "2019-04-01",
          "2019-05-01",
          "2019-06-01",
          "2019-07-01",
          "2019-08-01",
          "2019-09-01",
          "2019-10-01",
          "2019-11-01",
          "2019-12-01",
          "2020-01-01",
          "2020-02-01",
          "2020-03-01",
          "2020-04-01",
          "2020-05-01",
          "2020-06-01",
          "2020-07-01",
          "2020-08-01",
          "2020-09-01",
          "2020-10-01",
          "2020-11-01",
          "2020-12-01",
          "2021-01-01",
          "2021-02-01",
          "2021-03-01",
          "2021-04-01",
          "2021-05-01",
          "2021-06-01",
          "2021-07-01",
          "2021-08-01",
          "2021-09-01",
          "2021-10-01",
          "2021-11-01",
          "2021-12-01"
         ],
         "xaxis": "x4",
         "y": [
          992,
          1186,
          1129,
          1203,
          891,
          1025,
          711,
          768,
          1019,
          995,
          704,
          500,
          2132,
          2830,
          3093,
          3182,
          2484,
          2474,
          1727,
          1588,
          2346,
          2112,
          1631,
          1709,
          3663,
          5010,
          4930,
          5048,
          3799,
          4124,
          501,
          2750,
          3927,
          4208,
          3352,
          2897,
          5016,
          7138,
          6701,
          7480,
          4966,
          5504,
          3844,
          4039,
          4691,
          4970,
          3945,
          3784,
          11091,
          12904,
          13949,
          14305
         ],
         "yaxis": "y4"
        },
        {
         "alignmentgroup": "True",
         "hovertemplate": "channel=Direct<br>display_name=AQ Mforce Gen X<br>date=%{x}<br>channel_sales=%{y}<extra></extra>",
         "legendgroup": "Direct",
         "marker": {
          "color": "#636efa",
          "pattern": {
           "shape": ""
          }
         },
         "name": "Direct",
         "offsetgroup": "Direct",
         "orientation": "v",
         "showlegend": false,
         "textposition": "auto",
         "type": "bar",
         "x": [
          "2017-09-01",
          "2017-10-01",
          "2017-11-01",
          "2017-12-01",
          "2018-01-01",
          "2018-02-01",
          "2018-03-01",
          "2018-04-01",
          "2018-05-01",
          "2018-06-01",
          "2018-07-01",
          "2018-08-01",
          "2018-09-01",
          "2018-10-01",
          "2018-11-01",
          "2018-12-01",
          "2019-01-01",
          "2019-02-01",
          "2019-03-01",
          "2019-04-01",
          "2019-05-01",
          "2019-06-01",
          "2019-07-01",
          "2019-08-01",
          "2019-09-01",
          "2019-10-01",
          "2019-11-01",
          "2019-12-01",
          "2020-01-01",
          "2020-02-01",
          "2020-03-01",
          "2020-04-01",
          "2020-05-01",
          "2020-06-01",
          "2020-07-01",
          "2020-08-01",
          "2020-09-01",
          "2020-10-01",
          "2020-11-01",
          "2020-12-01",
          "2021-01-01",
          "2021-02-01",
          "2021-03-01",
          "2021-04-01",
          "2021-05-01",
          "2021-06-01",
          "2021-07-01",
          "2021-08-01",
          "2021-09-01",
          "2021-10-01",
          "2021-11-01",
          "2021-12-01"
         ],
         "xaxis": "x3",
         "y": [
          1035,
          1534,
          1372,
          1507,
          1323,
          1233,
          799,
          862,
          1149,
          1249,
          902,
          783,
          2032,
          2468,
          2186,
          2369,
          1911,
          1718,
          1315,
          1205,
          1752,
          1870,
          950,
          885,
          2121,
          2754,
          2290,
          3127,
          2122,
          1778,
          265,
          1594,
          2149,
          2491,
          1762,
          1740,
          1022,
          1619,
          1340,
          1441,
          937,
          1114,
          716,
          834,
          857,
          820,
          679,
          923,
          6245,
          10038,
          7857,
          9221
         ],
         "yaxis": "y3"
        },
        {
         "alignmentgroup": "True",
         "hovertemplate": "channel=Direct<br>display_name=AQ Werewolf NAS HDD<br>date=%{x}<br>channel_sales=%{y}<extra></extra>",
         "legendgroup": "Direct",
         "marker": {
          "color": "#636efa",
          "pattern": {
           "shape": ""
          }
         },
         "name": "Direct",
         "offsetgroup": "Direct",
         "orientation": "v",
         "showlegend": false,
         "textposition": "auto",
         "type": "bar",
         "x": [
          "2018-09-01",
          "2018-10-01",
          "2018-11-01",
          "2018-12-01",
          "2019-01-01",
          "2019-02-01",
          "2019-03-01",
          "2019-04-01",
          "2019-05-01",
          "2019-06-01",
          "2019-07-01",
          "2019-08-01",
          "2019-09-01",
          "2019-10-01",
          "2019-11-01",
          "2019-12-01",
          "2020-01-01",
          "2020-02-01",
          "2020-03-01",
          "2020-04-01",
          "2020-05-01",
          "2020-06-01",
          "2020-07-01",
          "2020-08-01",
          "2020-09-01",
          "2020-10-01",
          "2020-11-01",
          "2020-12-01",
          "2021-01-01",
          "2021-02-01",
          "2021-03-01",
          "2021-04-01",
          "2021-05-01",
          "2021-06-01",
          "2021-07-01",
          "2021-08-01",
          "2021-09-01",
          "2021-10-01",
          "2021-11-01",
          "2021-12-01"
         ],
         "xaxis": "x2",
         "y": [
          1056,
          1435,
          1514,
          1734,
          1176,
          1194,
          753,
          845,
          1065,
          1216,
          1001,
          852,
          2714,
          3568,
          3742,
          4256,
          3159,
          2746,
          359,
          1953,
          2764,
          3347,
          2912,
          2140,
          3621,
          5057,
          4601,
          5131,
          4015,
          3830,
          2905,
          3091,
          3853,
          3726,
          2867,
          3138,
          15564,
          20139,
          22519,
          20456
         ],
         "yaxis": "y2"
        },
        {
         "alignmentgroup": "True",
         "hovertemplate": "channel=Direct<br>display_name=AQ Zion Saga<br>date=%{x}<br>channel_sales=%{y}<extra></extra>",
         "legendgroup": "Direct",
         "marker": {
          "color": "#636efa",
          "pattern": {
           "shape": ""
          }
         },
         "name": "Direct",
         "offsetgroup": "Direct",
         "orientation": "v",
         "showlegend": false,
         "textposition": "auto",
         "type": "bar",
         "x": [
          "2019-09-01",
          "2019-10-01",
          "2019-11-01",
          "2019-12-01",
          "2020-01-01",
          "2020-02-01",
          "2020-03-01",
          "2020-04-01",
          "2020-05-01",
          "2020-06-01",
          "2020-07-01",
          "2020-08-01",
          "2020-09-01",
          "2020-10-01",
          "2020-11-01",
          "2020-12-01",
          "2021-01-01",
          "2021-02-01",
          "2021-03-01",
          "2021-04-01",
          "2021-05-01",
          "2021-06-01",
          "2021-07-01",
          "2021-08-01",
          "2021-09-01",
          "2021-10-01",
          "2021-11-01",
          "2021-12-01"
         ],
         "xaxis": "x",
         "y": [
          916,
          1194,
          1164,
          1781,
          1068,
          944,
          138,
          661,
          1161,
          1170,
          662,
          651,
          3817,
          4556,
          4493,
          5768,
          3429,
          4047,
          2730,
          3128,
          3378,
          3826,
          2786,
          3306,
          14427,
          18188,
          21051,
          21205
         ],
         "yaxis": "y"
        },
        {
         "alignmentgroup": "True",
         "hovertemplate": "channel=Distributor<br>display_name=AQ Dracula HDD<br>date=%{x}<br>channel_sales=%{y}<extra></extra>",
         "legendgroup": "Distributor",
         "marker": {
          "color": "#EF553B",
          "pattern": {
           "shape": ""
          }
         },
         "name": "Distributor",
         "offsetgroup": "Distributor",
         "orientation": "v",
         "showlegend": true,
         "textposition": "auto",
         "type": "bar",
         "x": [
          "2017-09-01",
          "2017-10-01",
          "2017-11-01",
          "2017-12-01",
          "2018-01-01",
          "2018-02-01",
          "2018-03-01",
          "2018-04-01",
          "2018-05-01",
          "2018-06-01",
          "2018-07-01",
          "2018-08-01",
          "2018-09-01",
          "2018-10-01",
          "2018-11-01",
          "2018-12-01",
          "2019-01-01",
          "2019-02-01",
          "2019-03-01",
          "2019-04-01",
          "2019-05-01",
          "2019-06-01",
          "2019-07-01",
          "2019-08-01",
          "2019-09-01",
          "2019-10-01",
          "2019-11-01",
          "2019-12-01",
          "2020-01-01",
          "2020-02-01",
          "2020-03-01",
          "2020-04-01",
          "2020-05-01",
          "2020-06-01",
          "2020-07-01",
          "2020-08-01",
          "2020-09-01",
          "2020-10-01",
          "2020-11-01",
          "2020-12-01",
          "2021-01-01",
          "2021-02-01",
          "2021-03-01",
          "2021-04-01",
          "2021-05-01",
          "2021-06-01",
          "2021-07-01",
          "2021-08-01",
          "2021-09-01",
          "2021-10-01",
          "2021-11-01",
          "2021-12-01"
         ],
         "xaxis": "x4",
         "y": [
          611,
          576,
          1986,
          1826,
          603,
          362,
          1204,
          1133,
          471,
          699,
          846,
          1163,
          1493,
          1521,
          3013,
          3702,
          1719,
          708,
          1591,
          1974,
          1508,
          1252,
          1618,
          1969,
          2193,
          2090,
          5723,
          7388,
          2585,
          1352,
          343,
          453,
          385,
          608,
          1812,
          2640,
          3138,
          2039,
          6229,
          7450,
          3759,
          1512,
          2619,
          4681,
          2899,
          1791,
          3406,
          4809,
          5586,
          6237,
          10207,
          16553
         ],
         "yaxis": "y4"
        },
        {
         "alignmentgroup": "True",
         "hovertemplate": "channel=Distributor<br>display_name=AQ Mforce Gen X<br>date=%{x}<br>channel_sales=%{y}<extra></extra>",
         "legendgroup": "Distributor",
         "marker": {
          "color": "#EF553B",
          "pattern": {
           "shape": ""
          }
         },
         "name": "Distributor",
         "offsetgroup": "Distributor",
         "orientation": "v",
         "showlegend": false,
         "textposition": "auto",
         "type": "bar",
         "x": [
          "2017-09-01",
          "2017-10-01",
          "2017-11-01",
          "2017-12-01",
          "2018-01-01",
          "2018-02-01",
          "2018-03-01",
          "2018-04-01",
          "2018-05-01",
          "2018-06-01",
          "2018-07-01",
          "2018-08-01",
          "2018-09-01",
          "2018-10-01",
          "2018-11-01",
          "2018-12-01",
          "2019-01-01",
          "2019-02-01",
          "2019-03-01",
          "2019-04-01",
          "2019-05-01",
          "2019-06-01",
          "2019-07-01",
          "2019-08-01",
          "2019-09-01",
          "2019-10-01",
          "2019-11-01",
          "2019-12-01",
          "2020-01-01",
          "2020-02-01",
          "2020-03-01",
          "2020-04-01",
          "2020-05-01",
          "2020-06-01",
          "2020-07-01",
          "2020-08-01",
          "2020-09-01",
          "2020-10-01",
          "2020-11-01",
          "2020-12-01",
          "2021-01-01",
          "2021-02-01",
          "2021-03-01",
          "2021-04-01",
          "2021-05-01",
          "2021-06-01",
          "2021-07-01",
          "2021-08-01",
          "2021-09-01",
          "2021-10-01",
          "2021-11-01",
          "2021-12-01"
         ],
         "xaxis": "x3",
         "y": [
          656,
          1037,
          2181,
          2229,
          607,
          852,
          1080,
          1042,
          805,
          694,
          886,
          1772,
          1252,
          1024,
          2188,
          2732,
          1335,
          1012,
          1367,
          2027,
          1224,
          834,
          939,
          1037,
          1727,
          1358,
          2644,
          3465,
          1288,
          695,
          155,
          308,
          246,
          256,
          970,
          2082,
          682,
          518,
          1295,
          1244,
          311,
          257,
          533,
          836,
          632,
          322,
          850,
          640,
          5581,
          1288,
          10724,
          11492
         ],
         "yaxis": "y3"
        },
        {
         "alignmentgroup": "True",
         "hovertemplate": "channel=Distributor<br>display_name=AQ Werewolf NAS HDD<br>date=%{x}<br>channel_sales=%{y}<extra></extra>",
         "legendgroup": "Distributor",
         "marker": {
          "color": "#EF553B",
          "pattern": {
           "shape": ""
          }
         },
         "name": "Distributor",
         "offsetgroup": "Distributor",
         "orientation": "v",
         "showlegend": false,
         "textposition": "auto",
         "type": "bar",
         "x": [
          "2018-09-01",
          "2018-10-01",
          "2018-11-01",
          "2018-12-01",
          "2019-01-01",
          "2019-02-01",
          "2019-03-01",
          "2019-04-01",
          "2019-05-01",
          "2019-06-01",
          "2019-07-01",
          "2019-08-01",
          "2019-09-01",
          "2019-10-01",
          "2019-11-01",
          "2019-12-01",
          "2020-01-01",
          "2020-02-01",
          "2020-03-01",
          "2020-04-01",
          "2020-05-01",
          "2020-06-01",
          "2020-07-01",
          "2020-08-01",
          "2020-09-01",
          "2020-10-01",
          "2020-11-01",
          "2020-12-01",
          "2021-01-01",
          "2021-02-01",
          "2021-03-01",
          "2021-04-01",
          "2021-05-01",
          "2021-06-01",
          "2021-07-01",
          "2021-08-01",
          "2021-09-01",
          "2021-10-01",
          "2021-11-01",
          "2021-12-01"
         ],
         "xaxis": "x2",
         "y": [
          1127,
          532,
          1552,
          2327,
          801,
          585,
          877,
          967,
          1034,
          601,
          825,
          635,
          2312,
          1803,
          3583,
          5735,
          1626,
          1214,
          194,
          373,
          389,
          445,
          1026,
          2685,
          2091,
          1427,
          4803,
          5715,
          2753,
          1543,
          3009,
          2612,
          2746,
          1250,
          2269,
          3588,
          7665,
          8222,
          20350,
          19722
         ],
         "yaxis": "y2"
        },
        {
         "alignmentgroup": "True",
         "hovertemplate": "channel=Distributor<br>display_name=AQ Zion Saga<br>date=%{x}<br>channel_sales=%{y}<extra></extra>",
         "legendgroup": "Distributor",
         "marker": {
          "color": "#EF553B",
          "pattern": {
           "shape": ""
          }
         },
         "name": "Distributor",
         "offsetgroup": "Distributor",
         "orientation": "v",
         "showlegend": false,
         "textposition": "auto",
         "type": "bar",
         "x": [
          "2019-09-01",
          "2019-10-01",
          "2019-11-01",
          "2019-12-01",
          "2020-01-01",
          "2020-02-01",
          "2020-03-01",
          "2020-04-01",
          "2020-05-01",
          "2020-06-01",
          "2020-07-01",
          "2020-08-01",
          "2020-09-01",
          "2020-10-01",
          "2020-11-01",
          "2020-12-01",
          "2021-01-01",
          "2021-02-01",
          "2021-03-01",
          "2021-04-01",
          "2021-05-01",
          "2021-06-01",
          "2021-07-01",
          "2021-08-01",
          "2021-09-01",
          "2021-10-01",
          "2021-11-01",
          "2021-12-01"
         ],
         "xaxis": "x",
         "y": [
          810,
          175,
          1538,
          1777,
          835,
          497,
          67,
          114,
          108,
          213,
          274,
          888,
          1792,
          2014,
          3686,
          5248,
          2421,
          1175,
          3057,
          3512,
          1896,
          1174,
          2895,
          3211,
          8566,
          5895,
          15786,
          23403
         ],
         "yaxis": "y"
        },
        {
         "alignmentgroup": "True",
         "hovertemplate": "channel=Retailer<br>display_name=AQ Dracula HDD<br>date=%{x}<br>channel_sales=%{y}<extra></extra>",
         "legendgroup": "Retailer",
         "marker": {
          "color": "#00cc96",
          "pattern": {
           "shape": ""
          }
         },
         "name": "Retailer",
         "offsetgroup": "Retailer",
         "orientation": "v",
         "showlegend": true,
         "textposition": "auto",
         "type": "bar",
         "x": [
          "2017-09-01",
          "2017-10-01",
          "2017-11-01",
          "2017-12-01",
          "2018-01-01",
          "2018-02-01",
          "2018-03-01",
          "2018-04-01",
          "2018-05-01",
          "2018-06-01",
          "2018-07-01",
          "2018-08-01",
          "2018-09-01",
          "2018-10-01",
          "2018-11-01",
          "2018-12-01",
          "2019-01-01",
          "2019-02-01",
          "2019-03-01",
          "2019-04-01",
          "2019-05-01",
          "2019-06-01",
          "2019-07-01",
          "2019-08-01",
          "2019-09-01",
          "2019-10-01",
          "2019-11-01",
          "2019-12-01",
          "2020-01-01",
          "2020-02-01",
          "2020-03-01",
          "2020-04-01",
          "2020-05-01",
          "2020-06-01",
          "2020-07-01",
          "2020-08-01",
          "2020-09-01",
          "2020-10-01",
          "2020-11-01",
          "2020-12-01",
          "2021-01-01",
          "2021-02-01",
          "2021-03-01",
          "2021-04-01",
          "2021-05-01",
          "2021-06-01",
          "2021-07-01",
          "2021-08-01",
          "2021-09-01",
          "2021-10-01",
          "2021-11-01",
          "2021-12-01"
         ],
         "xaxis": "x4",
         "y": [
          3634,
          4710,
          6527,
          6543,
          3729,
          3669,
          3923,
          3689,
          3622,
          3560,
          3960,
          3736,
          8957,
          11512,
          14189,
          14406,
          8139,
          9433,
          8629,
          8532,
          8271,
          8811,
          8979,
          8918,
          15201,
          19492,
          26715,
          25571,
          15003,
          15537,
          2134,
          6447,
          8087,
          14509,
          14261,
          14504,
          20540,
          26756,
          37126,
          36881,
          19436,
          21289,
          20432,
          20755,
          20060,
          19651,
          21394,
          19845,
          39547,
          53474,
          72086,
          73768
         ],
         "yaxis": "y4"
        },
        {
         "alignmentgroup": "True",
         "hovertemplate": "channel=Retailer<br>display_name=AQ Mforce Gen X<br>date=%{x}<br>channel_sales=%{y}<extra></extra>",
         "legendgroup": "Retailer",
         "marker": {
          "color": "#00cc96",
          "pattern": {
           "shape": ""
          }
         },
         "name": "Retailer",
         "offsetgroup": "Retailer",
         "orientation": "v",
         "showlegend": false,
         "textposition": "auto",
         "type": "bar",
         "x": [
          "2017-09-01",
          "2017-10-01",
          "2017-11-01",
          "2017-12-01",
          "2018-01-01",
          "2018-02-01",
          "2018-03-01",
          "2018-04-01",
          "2018-05-01",
          "2018-06-01",
          "2018-07-01",
          "2018-08-01",
          "2018-09-01",
          "2018-10-01",
          "2018-11-01",
          "2018-12-01",
          "2019-01-01",
          "2019-02-01",
          "2019-03-01",
          "2019-04-01",
          "2019-05-01",
          "2019-06-01",
          "2019-07-01",
          "2019-08-01",
          "2019-09-01",
          "2019-10-01",
          "2019-11-01",
          "2019-12-01",
          "2020-01-01",
          "2020-02-01",
          "2020-03-01",
          "2020-04-01",
          "2020-05-01",
          "2020-06-01",
          "2020-07-01",
          "2020-08-01",
          "2020-09-01",
          "2020-10-01",
          "2020-11-01",
          "2020-12-01",
          "2021-01-01",
          "2021-02-01",
          "2021-03-01",
          "2021-04-01",
          "2021-05-01",
          "2021-06-01",
          "2021-07-01",
          "2021-08-01",
          "2021-09-01",
          "2021-10-01",
          "2021-11-01",
          "2021-12-01"
         ],
         "xaxis": "x3",
         "y": [
          4497,
          5817,
          7817,
          8307,
          4560,
          4516,
          4886,
          4788,
          4781,
          4821,
          4523,
          4464,
          6925,
          8811,
          11347,
          11950,
          6580,
          6966,
          6840,
          6640,
          7180,
          6290,
          5162,
          5038,
          8271,
          11351,
          14811,
          15218,
          8290,
          8161,
          1182,
          3327,
          4479,
          7639,
          7823,
          7930,
          3717,
          4992,
          7372,
          7482,
          4152,
          4193,
          4313,
          4204,
          4091,
          4282,
          4239,
          4398,
          26712,
          36772,
          44247,
          47906
         ],
         "yaxis": "y3"
        },
        {
         "alignmentgroup": "True",
         "hovertemplate": "channel=Retailer<br>display_name=AQ Werewolf NAS HDD<br>date=%{x}<br>channel_sales=%{y}<extra></extra>",
         "legendgroup": "Retailer",
         "marker": {
          "color": "#00cc96",
          "pattern": {
           "shape": ""
          }
         },
         "name": "Retailer",
         "offsetgroup": "Retailer",
         "orientation": "v",
         "showlegend": false,
         "textposition": "auto",
         "type": "bar",
         "x": [
          "2018-09-01",
          "2018-10-01",
          "2018-11-01",
          "2018-12-01",
          "2019-01-01",
          "2019-02-01",
          "2019-03-01",
          "2019-04-01",
          "2019-05-01",
          "2019-06-01",
          "2019-07-01",
          "2019-08-01",
          "2019-09-01",
          "2019-10-01",
          "2019-11-01",
          "2019-12-01",
          "2020-01-01",
          "2020-02-01",
          "2020-03-01",
          "2020-04-01",
          "2020-05-01",
          "2020-06-01",
          "2020-07-01",
          "2020-08-01",
          "2020-09-01",
          "2020-10-01",
          "2020-11-01",
          "2020-12-01",
          "2021-01-01",
          "2021-02-01",
          "2021-03-01",
          "2021-04-01",
          "2021-05-01",
          "2021-06-01",
          "2021-07-01",
          "2021-08-01",
          "2021-09-01",
          "2021-10-01",
          "2021-11-01",
          "2021-12-01"
         ],
         "xaxis": "x2",
         "y": [
          4166,
          5479,
          6820,
          7503,
          4128,
          4422,
          4256,
          4398,
          4140,
          4597,
          4391,
          4002,
          11822,
          14345,
          20355,
          20708,
          10806,
          12080,
          1598,
          5053,
          5820,
          9390,
          11442,
          10507,
          15504,
          20744,
          26558,
          27560,
          15474,
          16020,
          15238,
          15039,
          15998,
          15752,
          16155,
          16022,
          63140,
          81406,
          109627,
          117862
         ],
         "yaxis": "y2"
        },
        {
         "alignmentgroup": "True",
         "hovertemplate": "channel=Retailer<br>display_name=AQ Zion Saga<br>date=%{x}<br>channel_sales=%{y}<extra></extra>",
         "legendgroup": "Retailer",
         "marker": {
          "color": "#00cc96",
          "pattern": {
           "shape": ""
          }
         },
         "name": "Retailer",
         "offsetgroup": "Retailer",
         "orientation": "v",
         "showlegend": false,
         "textposition": "auto",
         "type": "bar",
         "x": [
          "2019-09-01",
          "2019-10-01",
          "2019-11-01",
          "2019-12-01",
          "2020-01-01",
          "2020-02-01",
          "2020-03-01",
          "2020-04-01",
          "2020-05-01",
          "2020-06-01",
          "2020-07-01",
          "2020-08-01",
          "2020-09-01",
          "2020-10-01",
          "2020-11-01",
          "2020-12-01",
          "2021-01-01",
          "2021-02-01",
          "2021-03-01",
          "2021-04-01",
          "2021-05-01",
          "2021-06-01",
          "2021-07-01",
          "2021-08-01",
          "2021-09-01",
          "2021-10-01",
          "2021-11-01",
          "2021-12-01"
         ],
         "xaxis": "x",
         "y": [
          3808,
          4918,
          7081,
          6280,
          3853,
          3800,
          537,
          1872,
          1978,
          3852,
          4088,
          3629,
          16051,
          20248,
          25852,
          28550,
          15056,
          16719,
          16429,
          15037,
          15713,
          16655,
          15399,
          14752,
          61253,
          78308,
          107507,
          109567
         ],
         "yaxis": "y"
        }
       ],
       "layout": {
        "annotations": [
         {
          "font": {},
          "showarrow": false,
          "text": "AQ Zion Saga",
          "x": 0.5,
          "xanchor": "center",
          "xref": "paper",
          "y": 0.1975,
          "yanchor": "bottom",
          "yref": "paper"
         },
         {
          "font": {},
          "showarrow": false,
          "text": "AQ Werewolf NAS HDD",
          "x": 0.5,
          "xanchor": "center",
          "xref": "paper",
          "y": 0.465,
          "yanchor": "bottom",
          "yref": "paper"
         },
         {
          "font": {},
          "showarrow": false,
          "text": "AQ Mforce Gen X",
          "x": 0.5,
          "xanchor": "center",
          "xref": "paper",
          "y": 0.7325,
          "yanchor": "bottom",
          "yref": "paper"
         },
         {
          "font": {},
          "showarrow": false,
          "text": "AQ Dracula HDD",
          "x": 0.5,
          "xanchor": "center",
          "xref": "paper",
          "y": 1,
          "yanchor": "bottom",
          "yref": "paper"
         }
        ],
        "barmode": "stack",
        "height": 800,
        "legend": {
         "title": {
          "text": "channel"
         },
         "tracegroupgap": 0
        },
        "template": {
         "data": {
          "bar": [
           {
            "error_x": {
             "color": "#2a3f5f"
            },
            "error_y": {
             "color": "#2a3f5f"
            },
            "marker": {
             "line": {
              "color": "#E5ECF6",
              "width": 0.5
             },
             "pattern": {
              "fillmode": "overlay",
              "size": 10,
              "solidity": 0.2
             }
            },
            "type": "bar"
           }
          ],
          "barpolar": [
           {
            "marker": {
             "line": {
              "color": "#E5ECF6",
              "width": 0.5
             },
             "pattern": {
              "fillmode": "overlay",
              "size": 10,
              "solidity": 0.2
             }
            },
            "type": "barpolar"
           }
          ],
          "carpet": [
           {
            "aaxis": {
             "endlinecolor": "#2a3f5f",
             "gridcolor": "white",
             "linecolor": "white",
             "minorgridcolor": "white",
             "startlinecolor": "#2a3f5f"
            },
            "baxis": {
             "endlinecolor": "#2a3f5f",
             "gridcolor": "white",
             "linecolor": "white",
             "minorgridcolor": "white",
             "startlinecolor": "#2a3f5f"
            },
            "type": "carpet"
           }
          ],
          "choropleth": [
           {
            "colorbar": {
             "outlinewidth": 0,
             "ticks": ""
            },
            "type": "choropleth"
           }
          ],
          "contour": [
           {
            "colorbar": {
             "outlinewidth": 0,
             "ticks": ""
            },
            "colorscale": [
             [
              0,
              "#0d0887"
             ],
             [
              0.1111111111111111,
              "#46039f"
             ],
             [
              0.2222222222222222,
              "#7201a8"
             ],
             [
              0.3333333333333333,
              "#9c179e"
             ],
             [
              0.4444444444444444,
              "#bd3786"
             ],
             [
              0.5555555555555556,
              "#d8576b"
             ],
             [
              0.6666666666666666,
              "#ed7953"
             ],
             [
              0.7777777777777778,
              "#fb9f3a"
             ],
             [
              0.8888888888888888,
              "#fdca26"
             ],
             [
              1,
              "#f0f921"
             ]
            ],
            "type": "contour"
           }
          ],
          "contourcarpet": [
           {
            "colorbar": {
             "outlinewidth": 0,
             "ticks": ""
            },
            "type": "contourcarpet"
           }
          ],
          "heatmap": [
           {
            "colorbar": {
             "outlinewidth": 0,
             "ticks": ""
            },
            "colorscale": [
             [
              0,
              "#0d0887"
             ],
             [
              0.1111111111111111,
              "#46039f"
             ],
             [
              0.2222222222222222,
              "#7201a8"
             ],
             [
              0.3333333333333333,
              "#9c179e"
             ],
             [
              0.4444444444444444,
              "#bd3786"
             ],
             [
              0.5555555555555556,
              "#d8576b"
             ],
             [
              0.6666666666666666,
              "#ed7953"
             ],
             [
              0.7777777777777778,
              "#fb9f3a"
             ],
             [
              0.8888888888888888,
              "#fdca26"
             ],
             [
              1,
              "#f0f921"
             ]
            ],
            "type": "heatmap"
           }
          ],
          "heatmapgl": [
           {
            "colorbar": {
             "outlinewidth": 0,
             "ticks": ""
            },
            "colorscale": [
             [
              0,
              "#0d0887"
             ],
             [
              0.1111111111111111,
              "#46039f"
             ],
             [
              0.2222222222222222,
              "#7201a8"
             ],
             [
              0.3333333333333333,
              "#9c179e"
             ],
             [
              0.4444444444444444,
              "#bd3786"
             ],
             [
              0.5555555555555556,
              "#d8576b"
             ],
             [
              0.6666666666666666,
              "#ed7953"
             ],
             [
              0.7777777777777778,
              "#fb9f3a"
             ],
             [
              0.8888888888888888,
              "#fdca26"
             ],
             [
              1,
              "#f0f921"
             ]
            ],
            "type": "heatmapgl"
           }
          ],
          "histogram": [
           {
            "marker": {
             "pattern": {
              "fillmode": "overlay",
              "size": 10,
              "solidity": 0.2
             }
            },
            "type": "histogram"
           }
          ],
          "histogram2d": [
           {
            "colorbar": {
             "outlinewidth": 0,
             "ticks": ""
            },
            "colorscale": [
             [
              0,
              "#0d0887"
             ],
             [
              0.1111111111111111,
              "#46039f"
             ],
             [
              0.2222222222222222,
              "#7201a8"
             ],
             [
              0.3333333333333333,
              "#9c179e"
             ],
             [
              0.4444444444444444,
              "#bd3786"
             ],
             [
              0.5555555555555556,
              "#d8576b"
             ],
             [
              0.6666666666666666,
              "#ed7953"
             ],
             [
              0.7777777777777778,
              "#fb9f3a"
             ],
             [
              0.8888888888888888,
              "#fdca26"
             ],
             [
              1,
              "#f0f921"
             ]
            ],
            "type": "histogram2d"
           }
          ],
          "histogram2dcontour": [
           {
            "colorbar": {
             "outlinewidth": 0,
             "ticks": ""
            },
            "colorscale": [
             [
              0,
              "#0d0887"
             ],
             [
              0.1111111111111111,
              "#46039f"
             ],
             [
              0.2222222222222222,
              "#7201a8"
             ],
             [
              0.3333333333333333,
              "#9c179e"
             ],
             [
              0.4444444444444444,
              "#bd3786"
             ],
             [
              0.5555555555555556,
              "#d8576b"
             ],
             [
              0.6666666666666666,
              "#ed7953"
             ],
             [
              0.7777777777777778,
              "#fb9f3a"
             ],
             [
              0.8888888888888888,
              "#fdca26"
             ],
             [
              1,
              "#f0f921"
             ]
            ],
            "type": "histogram2dcontour"
           }
          ],
          "mesh3d": [
           {
            "colorbar": {
             "outlinewidth": 0,
             "ticks": ""
            },
            "type": "mesh3d"
           }
          ],
          "parcoords": [
           {
            "line": {
             "colorbar": {
              "outlinewidth": 0,
              "ticks": ""
             }
            },
            "type": "parcoords"
           }
          ],
          "pie": [
           {
            "automargin": true,
            "type": "pie"
           }
          ],
          "scatter": [
           {
            "fillpattern": {
             "fillmode": "overlay",
             "size": 10,
             "solidity": 0.2
            },
            "type": "scatter"
           }
          ],
          "scatter3d": [
           {
            "line": {
             "colorbar": {
              "outlinewidth": 0,
              "ticks": ""
             }
            },
            "marker": {
             "colorbar": {
              "outlinewidth": 0,
              "ticks": ""
             }
            },
            "type": "scatter3d"
           }
          ],
          "scattercarpet": [
           {
            "marker": {
             "colorbar": {
              "outlinewidth": 0,
              "ticks": ""
             }
            },
            "type": "scattercarpet"
           }
          ],
          "scattergeo": [
           {
            "marker": {
             "colorbar": {
              "outlinewidth": 0,
              "ticks": ""
             }
            },
            "type": "scattergeo"
           }
          ],
          "scattergl": [
           {
            "marker": {
             "colorbar": {
              "outlinewidth": 0,
              "ticks": ""
             }
            },
            "type": "scattergl"
           }
          ],
          "scattermapbox": [
           {
            "marker": {
             "colorbar": {
              "outlinewidth": 0,
              "ticks": ""
             }
            },
            "type": "scattermapbox"
           }
          ],
          "scatterpolar": [
           {
            "marker": {
             "colorbar": {
              "outlinewidth": 0,
              "ticks": ""
             }
            },
            "type": "scatterpolar"
           }
          ],
          "scatterpolargl": [
           {
            "marker": {
             "colorbar": {
              "outlinewidth": 0,
              "ticks": ""
             }
            },
            "type": "scatterpolargl"
           }
          ],
          "scatterternary": [
           {
            "marker": {
             "colorbar": {
              "outlinewidth": 0,
              "ticks": ""
             }
            },
            "type": "scatterternary"
           }
          ],
          "surface": [
           {
            "colorbar": {
             "outlinewidth": 0,
             "ticks": ""
            },
            "colorscale": [
             [
              0,
              "#0d0887"
             ],
             [
              0.1111111111111111,
              "#46039f"
             ],
             [
              0.2222222222222222,
              "#7201a8"
             ],
             [
              0.3333333333333333,
              "#9c179e"
             ],
             [
              0.4444444444444444,
              "#bd3786"
             ],
             [
              0.5555555555555556,
              "#d8576b"
             ],
             [
              0.6666666666666666,
              "#ed7953"
             ],
             [
              0.7777777777777778,
              "#fb9f3a"
             ],
             [
              0.8888888888888888,
              "#fdca26"
             ],
             [
              1,
              "#f0f921"
             ]
            ],
            "type": "surface"
           }
          ],
          "table": [
           {
            "cells": {
             "fill": {
              "color": "#EBF0F8"
             },
             "line": {
              "color": "white"
             }
            },
            "header": {
             "fill": {
              "color": "#C8D4E3"
             },
             "line": {
              "color": "white"
             }
            },
            "type": "table"
           }
          ]
         },
         "layout": {
          "annotationdefaults": {
           "arrowcolor": "#2a3f5f",
           "arrowhead": 0,
           "arrowwidth": 1
          },
          "autotypenumbers": "strict",
          "coloraxis": {
           "colorbar": {
            "outlinewidth": 0,
            "ticks": ""
           }
          },
          "colorscale": {
           "diverging": [
            [
             0,
             "#8e0152"
            ],
            [
             0.1,
             "#c51b7d"
            ],
            [
             0.2,
             "#de77ae"
            ],
            [
             0.3,
             "#f1b6da"
            ],
            [
             0.4,
             "#fde0ef"
            ],
            [
             0.5,
             "#f7f7f7"
            ],
            [
             0.6,
             "#e6f5d0"
            ],
            [
             0.7,
             "#b8e186"
            ],
            [
             0.8,
             "#7fbc41"
            ],
            [
             0.9,
             "#4d9221"
            ],
            [
             1,
             "#276419"
            ]
           ],
           "sequential": [
            [
             0,
             "#0d0887"
            ],
            [
             0.1111111111111111,
             "#46039f"
            ],
            [
             0.2222222222222222,
             "#7201a8"
            ],
            [
             0.3333333333333333,
             "#9c179e"
            ],
            [
             0.4444444444444444,
             "#bd3786"
            ],
            [
             0.5555555555555556,
             "#d8576b"
            ],
            [
             0.6666666666666666,
             "#ed7953"
            ],
            [
             0.7777777777777778,
             "#fb9f3a"
            ],
            [
             0.8888888888888888,
             "#fdca26"
            ],
            [
             1,
             "#f0f921"
            ]
           ],
           "sequentialminus": [
            [
             0,
             "#0d0887"
            ],
            [
             0.1111111111111111,
             "#46039f"
            ],
            [
             0.2222222222222222,
             "#7201a8"
            ],
            [
             0.3333333333333333,
             "#9c179e"
            ],
            [
             0.4444444444444444,
             "#bd3786"
            ],
            [
             0.5555555555555556,
             "#d8576b"
            ],
            [
             0.6666666666666666,
             "#ed7953"
            ],
            [
             0.7777777777777778,
             "#fb9f3a"
            ],
            [
             0.8888888888888888,
             "#fdca26"
            ],
            [
             1,
             "#f0f921"
            ]
           ]
          },
          "colorway": [
           "#636efa",
           "#EF553B",
           "#00cc96",
           "#ab63fa",
           "#FFA15A",
           "#19d3f3",
           "#FF6692",
           "#B6E880",
           "#FF97FF",
           "#FECB52"
          ],
          "font": {
           "color": "#2a3f5f"
          },
          "geo": {
           "bgcolor": "white",
           "lakecolor": "white",
           "landcolor": "#E5ECF6",
           "showlakes": true,
           "showland": true,
           "subunitcolor": "white"
          },
          "hoverlabel": {
           "align": "left"
          },
          "hovermode": "closest",
          "mapbox": {
           "style": "light"
          },
          "paper_bgcolor": "white",
          "plot_bgcolor": "#E5ECF6",
          "polar": {
           "angularaxis": {
            "gridcolor": "white",
            "linecolor": "white",
            "ticks": ""
           },
           "bgcolor": "#E5ECF6",
           "radialaxis": {
            "gridcolor": "white",
            "linecolor": "white",
            "ticks": ""
           }
          },
          "scene": {
           "xaxis": {
            "backgroundcolor": "#E5ECF6",
            "gridcolor": "white",
            "gridwidth": 2,
            "linecolor": "white",
            "showbackground": true,
            "ticks": "",
            "zerolinecolor": "white"
           },
           "yaxis": {
            "backgroundcolor": "#E5ECF6",
            "gridcolor": "white",
            "gridwidth": 2,
            "linecolor": "white",
            "showbackground": true,
            "ticks": "",
            "zerolinecolor": "white"
           },
           "zaxis": {
            "backgroundcolor": "#E5ECF6",
            "gridcolor": "white",
            "gridwidth": 2,
            "linecolor": "white",
            "showbackground": true,
            "ticks": "",
            "zerolinecolor": "white"
           }
          },
          "shapedefaults": {
           "line": {
            "color": "#2a3f5f"
           }
          },
          "ternary": {
           "aaxis": {
            "gridcolor": "white",
            "linecolor": "white",
            "ticks": ""
           },
           "baxis": {
            "gridcolor": "white",
            "linecolor": "white",
            "ticks": ""
           },
           "bgcolor": "#E5ECF6",
           "caxis": {
            "gridcolor": "white",
            "linecolor": "white",
            "ticks": ""
           }
          },
          "title": {
           "x": 0.05
          },
          "xaxis": {
           "automargin": true,
           "gridcolor": "white",
           "linecolor": "white",
           "ticks": "",
           "title": {
            "standoff": 15
           },
           "zerolinecolor": "white",
           "zerolinewidth": 2
          },
          "yaxis": {
           "automargin": true,
           "gridcolor": "white",
           "linecolor": "white",
           "ticks": "",
           "title": {
            "standoff": 15
           },
           "zerolinecolor": "white",
           "zerolinewidth": 2
          }
         }
        },
        "title": {
         "text": "Retailers are the main demand drivers"
        },
        "xaxis": {
         "anchor": "y",
         "domain": [
          0,
          1
         ],
         "title": {
          "text": "date"
         }
        },
        "xaxis2": {
         "anchor": "y2",
         "domain": [
          0,
          1
         ],
         "matches": "x",
         "showticklabels": false
        },
        "xaxis3": {
         "anchor": "y3",
         "domain": [
          0,
          1
         ],
         "matches": "x",
         "showticklabels": false
        },
        "xaxis4": {
         "anchor": "y4",
         "domain": [
          0,
          1
         ],
         "matches": "x",
         "showticklabels": false
        },
        "yaxis": {
         "anchor": "x",
         "domain": [
          0,
          0.1975
         ],
         "title": {
          "text": "Units sold"
         }
        },
        "yaxis2": {
         "anchor": "x2",
         "domain": [
          0.2675,
          0.465
         ],
         "matches": "y",
         "title": {
          "text": "Units sold"
         }
        },
        "yaxis3": {
         "anchor": "x3",
         "domain": [
          0.535,
          0.7325
         ],
         "matches": "y",
         "title": {
          "text": "Units sold"
         }
        },
        "yaxis4": {
         "anchor": "x4",
         "domain": [
          0.8025,
          1
         ],
         "matches": "y",
         "title": {
          "text": "Units sold"
         }
        }
       }
      }
     },
     "metadata": {},
     "output_type": "display_data"
    }
   ],
   "source": [
    "# Plot historic bar chart\n",
    "\n",
    "fig=px.bar(monthly_channel_sales_df,\n",
    "           x='date',\n",
    "           y='channel_sales',\n",
    "           color='channel',\n",
    "           barmode='stack',\n",
    "           facet_col='display_name',\n",
    "           facet_col_wrap=1,\n",
    "           height=800,\n",
    "           title='Retailers are the main demand drivers')\n",
    "\n",
    "# Remove the 'display_name=' part of the annotations\n",
    "fig.for_each_annotation(lambda a: a.update(text = a.text.split('=')[1]))\n",
    "\n",
    "fig.update_yaxes(title='Units sold')\n",
    "\n",
    "fig.show()"
   ]
  },
  {
   "cell_type": "markdown",
   "metadata": {},
   "source": [
    "The `Direct` and `Distributor` channels show an activity increase on the last fiscal year (Sept 2021). Before that, almost all the demand was from `Retailer`, and is still the predominant channel."
   ]
  },
  {
   "cell_type": "markdown",
   "metadata": {},
   "source": [
    "[Back to Contents](#contents)\n",
    "\n",
    "---"
   ]
  },
  {
   "cell_type": "markdown",
   "metadata": {},
   "source": [
    "### Product margins"
   ]
  },
  {
   "cell_type": "markdown",
   "metadata": {},
   "source": [
    "What are the products with the best and worst margins? \n",
    "\n",
    "So far we mostly analyzed sales by units. Now it's time to see what kind of margins do they leave."
   ]
  },
  {
   "cell_type": "code",
   "execution_count": 95,
   "metadata": {},
   "outputs": [],
   "source": [
    "# Create a view with profit margin data\n",
    "query = \"\"\"\n",
    "CREATE VIEW IF NOT EXISTS product_margins as\n",
    "SELECT \n",
    "    prod.product_code,\n",
    "    prod.product,\n",
    "    prod.variant,\n",
    "    price.fiscal_year,\n",
    "    cost.manufacturing_cost,\n",
    "    price.gross_price,\n",
    "    (price.gross_price - cost.manufacturing_cost) as margin,\n",
    "    (price.gross_price - cost.manufacturing_cost) / price.gross_price as margin_rate\n",
    "FROM\n",
    "    dim_product as prod\n",
    "    JOIN fact_manufacturing_cost as cost USING(product_code)\n",
    "    JOIN fact_gross_price as price ON prod.product_code = price.product_code AND cost.cost_year = price.fiscal_year\n",
    "\"\"\"\n",
    "\n",
    "cursor.execute(query);"
   ]
  },
  {
   "cell_type": "markdown",
   "metadata": {},
   "source": [
    "Now let's check the best and worst margins."
   ]
  },
  {
   "cell_type": "code",
   "execution_count": 97,
   "metadata": {},
   "outputs": [
    {
     "data": {
      "text/html": [
       "<div>\n",
       "<style scoped>\n",
       "    .dataframe tbody tr th:only-of-type {\n",
       "        vertical-align: middle;\n",
       "    }\n",
       "\n",
       "    .dataframe tbody tr th {\n",
       "        vertical-align: top;\n",
       "    }\n",
       "\n",
       "    .dataframe thead th {\n",
       "        text-align: right;\n",
       "    }\n",
       "</style>\n",
       "<table border=\"1\" class=\"dataframe\">\n",
       "  <thead>\n",
       "    <tr style=\"text-align: right;\">\n",
       "      <th></th>\n",
       "      <th>MAX(margin)</th>\n",
       "      <th>MIN(margin)</th>\n",
       "      <th>MAX(margin_rate)</th>\n",
       "      <th>MIN(margin_rate)</th>\n",
       "    </tr>\n",
       "  </thead>\n",
       "  <tbody>\n",
       "    <tr>\n",
       "      <th>0</th>\n",
       "      <td>630.6054</td>\n",
       "      <td>1.9791</td>\n",
       "      <td>0.714225</td>\n",
       "      <td>0.687511</td>\n",
       "    </tr>\n",
       "  </tbody>\n",
       "</table>\n",
       "</div>"
      ],
      "text/plain": [
       "   MAX(margin)  MIN(margin)  MAX(margin_rate)  MIN(margin_rate)\n",
       "0     630.6054       1.9791          0.714225          0.687511"
      ]
     },
     "execution_count": 97,
     "metadata": {},
     "output_type": "execute_result"
    }
   ],
   "source": [
    "# Looking for the best and worst margins\n",
    "query=\"\"\"\n",
    "SELECT MAX(margin), MIN(margin), MAX(margin_rate), MIN(margin_rate)\n",
    "FROM product_margins\n",
    "\"\"\"\n",
    "\n",
    "pd.read_sql_query(query, con)"
   ]
  },
  {
   "cell_type": "markdown",
   "metadata": {},
   "source": [
    "Based on rates, the margins have a very narrow range around `0.7`.\n",
    "\n",
    "The flat margins are much different, however since the margin is almost constant, that only tells us that the company has a wide array of products with diferent price ranges."
   ]
  },
  {
   "cell_type": "code",
   "execution_count": 120,
   "metadata": {},
   "outputs": [
    {
     "data": {
      "text/html": [
       "<div>\n",
       "<style scoped>\n",
       "    .dataframe tbody tr th:only-of-type {\n",
       "        vertical-align: middle;\n",
       "    }\n",
       "\n",
       "    .dataframe tbody tr th {\n",
       "        vertical-align: top;\n",
       "    }\n",
       "\n",
       "    .dataframe thead th {\n",
       "        text-align: right;\n",
       "    }\n",
       "</style>\n",
       "<table border=\"1\" class=\"dataframe\">\n",
       "  <thead>\n",
       "    <tr style=\"text-align: right;\">\n",
       "      <th></th>\n",
       "      <th>product</th>\n",
       "      <th>variant</th>\n",
       "      <th>fiscal_year</th>\n",
       "      <th>margin</th>\n",
       "    </tr>\n",
       "  </thead>\n",
       "  <tbody>\n",
       "    <tr>\n",
       "      <th>0</th>\n",
       "      <td>AQ HOME Allin1 Gen 2</td>\n",
       "      <td>Plus 2</td>\n",
       "      <td>2022</td>\n",
       "      <td>630.6054</td>\n",
       "    </tr>\n",
       "    <tr>\n",
       "      <th>1</th>\n",
       "      <td>AQ HOME Allin1 Gen 2</td>\n",
       "      <td>Plus 3</td>\n",
       "      <td>2022</td>\n",
       "      <td>625.1927</td>\n",
       "    </tr>\n",
       "    <tr>\n",
       "      <th>2</th>\n",
       "      <td>AQ HOME Allin1 Gen 2</td>\n",
       "      <td>Standard 1</td>\n",
       "      <td>2022</td>\n",
       "      <td>623.9115</td>\n",
       "    </tr>\n",
       "    <tr>\n",
       "      <th>3</th>\n",
       "      <td>AQ BZ Allin1 Gen 2</td>\n",
       "      <td>Premium 2</td>\n",
       "      <td>2022</td>\n",
       "      <td>612.9470</td>\n",
       "    </tr>\n",
       "    <tr>\n",
       "      <th>4</th>\n",
       "      <td>AQ BZ Allin1 Gen 2</td>\n",
       "      <td>Plus 2</td>\n",
       "      <td>2022</td>\n",
       "      <td>608.2999</td>\n",
       "    </tr>\n",
       "  </tbody>\n",
       "</table>\n",
       "</div>"
      ],
      "text/plain": [
       "                product     variant  fiscal_year    margin\n",
       "0  AQ HOME Allin1 Gen 2      Plus 2         2022  630.6054\n",
       "1  AQ HOME Allin1 Gen 2      Plus 3         2022  625.1927\n",
       "2  AQ HOME Allin1 Gen 2  Standard 1         2022  623.9115\n",
       "3    AQ BZ Allin1 Gen 2   Premium 2         2022  612.9470\n",
       "4    AQ BZ Allin1 Gen 2      Plus 2         2022  608.2999"
      ]
     },
     "execution_count": 120,
     "metadata": {},
     "output_type": "execute_result"
    }
   ],
   "source": [
    "# Best flat margin\n",
    "\n",
    "query=\"\"\"\n",
    "SELECT product, variant, fiscal_year, margin\n",
    "FROM product_margins\n",
    "ORDER BY margin DESC\n",
    "LIMIT 5\n",
    "\"\"\"\n",
    "\n",
    "pd.read_sql_query(query, con)"
   ]
  },
  {
   "cell_type": "code",
   "execution_count": 119,
   "metadata": {},
   "outputs": [
    {
     "data": {
      "text/html": [
       "<div>\n",
       "<style scoped>\n",
       "    .dataframe tbody tr th:only-of-type {\n",
       "        vertical-align: middle;\n",
       "    }\n",
       "\n",
       "    .dataframe tbody tr th {\n",
       "        vertical-align: top;\n",
       "    }\n",
       "\n",
       "    .dataframe thead th {\n",
       "        text-align: right;\n",
       "    }\n",
       "</style>\n",
       "<table border=\"1\" class=\"dataframe\">\n",
       "  <thead>\n",
       "    <tr style=\"text-align: right;\">\n",
       "      <th></th>\n",
       "      <th>product</th>\n",
       "      <th>variant</th>\n",
       "      <th>fiscal_year</th>\n",
       "      <th>margin</th>\n",
       "    </tr>\n",
       "  </thead>\n",
       "  <tbody>\n",
       "    <tr>\n",
       "      <th>0</th>\n",
       "      <td>AQ Master wired x1 Ms</td>\n",
       "      <td>Standard 1</td>\n",
       "      <td>2019</td>\n",
       "      <td>1.9791</td>\n",
       "    </tr>\n",
       "    <tr>\n",
       "      <th>1</th>\n",
       "      <td>AQ Master wired x1 Ms</td>\n",
       "      <td>Standard 1</td>\n",
       "      <td>2021</td>\n",
       "      <td>2.0239</td>\n",
       "    </tr>\n",
       "    <tr>\n",
       "      <th>2</th>\n",
       "      <td>AQ Master wired x1 Ms</td>\n",
       "      <td>Standard 1</td>\n",
       "      <td>2020</td>\n",
       "      <td>2.0248</td>\n",
       "    </tr>\n",
       "    <tr>\n",
       "      <th>3</th>\n",
       "      <td>AQ Master wired x1 Ms</td>\n",
       "      <td>Standard 1</td>\n",
       "      <td>2018</td>\n",
       "      <td>2.0555</td>\n",
       "    </tr>\n",
       "    <tr>\n",
       "      <th>4</th>\n",
       "      <td>AQ Pen Drive DRC</td>\n",
       "      <td>Standard</td>\n",
       "      <td>2020</td>\n",
       "      <td>2.0680</td>\n",
       "    </tr>\n",
       "  </tbody>\n",
       "</table>\n",
       "</div>"
      ],
      "text/plain": [
       "                 product     variant  fiscal_year  margin\n",
       "0  AQ Master wired x1 Ms  Standard 1         2019  1.9791\n",
       "1  AQ Master wired x1 Ms  Standard 1         2021  2.0239\n",
       "2  AQ Master wired x1 Ms  Standard 1         2020  2.0248\n",
       "3  AQ Master wired x1 Ms  Standard 1         2018  2.0555\n",
       "4       AQ Pen Drive DRC    Standard         2020  2.0680"
      ]
     },
     "execution_count": 119,
     "metadata": {},
     "output_type": "execute_result"
    }
   ],
   "source": [
    "# Worst flat margin\n",
    "\n",
    "query=\"\"\"\n",
    "SELECT product, variant, fiscal_year, margin\n",
    "FROM product_margins\n",
    "ORDER BY margin\n",
    "LIMIT 5\n",
    "\"\"\"\n",
    "\n",
    "pd.read_sql_query(query, con)"
   ]
  },
  {
   "cell_type": "code",
   "execution_count": 121,
   "metadata": {},
   "outputs": [
    {
     "data": {
      "text/html": [
       "<div>\n",
       "<style scoped>\n",
       "    .dataframe tbody tr th:only-of-type {\n",
       "        vertical-align: middle;\n",
       "    }\n",
       "\n",
       "    .dataframe tbody tr th {\n",
       "        vertical-align: top;\n",
       "    }\n",
       "\n",
       "    .dataframe thead th {\n",
       "        text-align: right;\n",
       "    }\n",
       "</style>\n",
       "<table border=\"1\" class=\"dataframe\">\n",
       "  <thead>\n",
       "    <tr style=\"text-align: right;\">\n",
       "      <th></th>\n",
       "      <th>product</th>\n",
       "      <th>variant</th>\n",
       "      <th>fiscal_year</th>\n",
       "      <th>margin_rate</th>\n",
       "    </tr>\n",
       "  </thead>\n",
       "  <tbody>\n",
       "    <tr>\n",
       "      <th>0</th>\n",
       "      <td>AQ Wi Power Dx1</td>\n",
       "      <td>Premium</td>\n",
       "      <td>2020</td>\n",
       "      <td>0.714225</td>\n",
       "    </tr>\n",
       "    <tr>\n",
       "      <th>1</th>\n",
       "      <td>AQ Mforce Gen Y</td>\n",
       "      <td>Premium 1</td>\n",
       "      <td>2021</td>\n",
       "      <td>0.714204</td>\n",
       "    </tr>\n",
       "    <tr>\n",
       "      <th>2</th>\n",
       "      <td>AQ GEN Z</td>\n",
       "      <td>Standard Red</td>\n",
       "      <td>2022</td>\n",
       "      <td>0.714203</td>\n",
       "    </tr>\n",
       "    <tr>\n",
       "      <th>3</th>\n",
       "      <td>AQ Master wired x1</td>\n",
       "      <td>Plus 2</td>\n",
       "      <td>2018</td>\n",
       "      <td>0.714185</td>\n",
       "    </tr>\n",
       "    <tr>\n",
       "      <th>4</th>\n",
       "      <td>AQ Smash 1</td>\n",
       "      <td>Standard Firey Red</td>\n",
       "      <td>2021</td>\n",
       "      <td>0.714167</td>\n",
       "    </tr>\n",
       "  </tbody>\n",
       "</table>\n",
       "</div>"
      ],
      "text/plain": [
       "              product             variant  fiscal_year  margin_rate\n",
       "0     AQ Wi Power Dx1             Premium         2020     0.714225\n",
       "1     AQ Mforce Gen Y           Premium 1         2021     0.714204\n",
       "2            AQ GEN Z        Standard Red         2022     0.714203\n",
       "3  AQ Master wired x1              Plus 2         2018     0.714185\n",
       "4          AQ Smash 1  Standard Firey Red         2021     0.714167"
      ]
     },
     "execution_count": 121,
     "metadata": {},
     "output_type": "execute_result"
    }
   ],
   "source": [
    "# Best margin rate\n",
    "\n",
    "query=\"\"\"\n",
    "SELECT product, variant, fiscal_year, margin_rate\n",
    "FROM product_margins\n",
    "ORDER BY margin_rate DESC\n",
    "LIMIT 5\n",
    "\"\"\"\n",
    "\n",
    "pd.read_sql_query(query, con)"
   ]
  },
  {
   "cell_type": "code",
   "execution_count": 122,
   "metadata": {},
   "outputs": [
    {
     "data": {
      "text/html": [
       "<div>\n",
       "<style scoped>\n",
       "    .dataframe tbody tr th:only-of-type {\n",
       "        vertical-align: middle;\n",
       "    }\n",
       "\n",
       "    .dataframe tbody tr th {\n",
       "        vertical-align: top;\n",
       "    }\n",
       "\n",
       "    .dataframe thead th {\n",
       "        text-align: right;\n",
       "    }\n",
       "</style>\n",
       "<table border=\"1\" class=\"dataframe\">\n",
       "  <thead>\n",
       "    <tr style=\"text-align: right;\">\n",
       "      <th></th>\n",
       "      <th>product</th>\n",
       "      <th>variant</th>\n",
       "      <th>fiscal_year</th>\n",
       "      <th>margin_rate</th>\n",
       "    </tr>\n",
       "  </thead>\n",
       "  <tbody>\n",
       "    <tr>\n",
       "      <th>0</th>\n",
       "      <td>AQ Digit SSD</td>\n",
       "      <td>Premium</td>\n",
       "      <td>2020</td>\n",
       "      <td>0.687511</td>\n",
       "    </tr>\n",
       "    <tr>\n",
       "      <th>1</th>\n",
       "      <td>AQ Master wired x1 Ms</td>\n",
       "      <td>Standard 1</td>\n",
       "      <td>2021</td>\n",
       "      <td>0.687606</td>\n",
       "    </tr>\n",
       "    <tr>\n",
       "      <th>2</th>\n",
       "      <td>AQ Master wireless x1</td>\n",
       "      <td>Premium 2</td>\n",
       "      <td>2021</td>\n",
       "      <td>0.687636</td>\n",
       "    </tr>\n",
       "    <tr>\n",
       "      <th>3</th>\n",
       "      <td>AQ Gamers</td>\n",
       "      <td>Plus 2</td>\n",
       "      <td>2020</td>\n",
       "      <td>0.687637</td>\n",
       "    </tr>\n",
       "    <tr>\n",
       "      <th>4</th>\n",
       "      <td>AQ Aspiron</td>\n",
       "      <td>Plus Red</td>\n",
       "      <td>2022</td>\n",
       "      <td>0.687677</td>\n",
       "    </tr>\n",
       "  </tbody>\n",
       "</table>\n",
       "</div>"
      ],
      "text/plain": [
       "                 product     variant  fiscal_year  margin_rate\n",
       "0           AQ Digit SSD     Premium         2020     0.687511\n",
       "1  AQ Master wired x1 Ms  Standard 1         2021     0.687606\n",
       "2  AQ Master wireless x1   Premium 2         2021     0.687636\n",
       "3             AQ Gamers       Plus 2         2020     0.687637\n",
       "4             AQ Aspiron    Plus Red         2022     0.687677"
      ]
     },
     "execution_count": 122,
     "metadata": {},
     "output_type": "execute_result"
    }
   ],
   "source": [
    "# Worst margin rate\n",
    "\n",
    "query=\"\"\"\n",
    "SELECT product, variant, fiscal_year, margin_rate\n",
    "FROM product_margins\n",
    "ORDER BY margin_rate\n",
    "LIMIT 5\n",
    "\"\"\"\n",
    "\n",
    "pd.read_sql_query(query, con)"
   ]
  },
  {
   "cell_type": "markdown",
   "metadata": {},
   "source": [
    "There are no products generating losses. \n",
    "\n",
    "All products are maintaining a consistent profit margin of 0.7 ± 0.015, indicating that prices are effectively tracking production costs to preserve this margin and prevent losses."
   ]
  },
  {
   "cell_type": "markdown",
   "metadata": {},
   "source": [
    "[Back to Contents](#contents)\n",
    "\n",
    "---"
   ]
  },
  {
   "cell_type": "markdown",
   "metadata": {},
   "source": [
    "---\n",
    "\n",
    "HYPOTHESIS: The Dracula HDD sales on 2022 will outperform every other year. "
   ]
  },
  {
   "cell_type": "code",
   "execution_count": 123,
   "metadata": {},
   "outputs": [],
   "source": [
    "query=\"\"\"\n",
    "SELECT product, fiscal_year, margin_rate\n",
    "FROM product_margins\n",
    "\"\"\"\n",
    "\n",
    "margins_df = pd.read_sql_query(query, con)"
   ]
  },
  {
   "cell_type": "code",
   "execution_count": 124,
   "metadata": {},
   "outputs": [
    {
     "data": {
      "application/vnd.plotly.v1+json": {
       "config": {
        "plotlyServerURL": "https://plot.ly"
       },
       "data": [
        {
         "hovertemplate": "fiscal_year=%{x}<br>margin_rate=%{y}<extra></extra>",
         "legendgroup": "",
         "marker": {
          "color": "#636efa",
          "symbol": "circle"
         },
         "mode": "markers",
         "name": "",
         "showlegend": false,
         "type": "scattergl",
         "x": [
          2018,
          2019,
          2020,
          2021,
          2018,
          2019,
          2020,
          2021,
          2018,
          2019,
          2020,
          2021,
          2022,
          2018,
          2019,
          2020,
          2021,
          2022,
          2019,
          2020,
          2021,
          2022,
          2019,
          2020,
          2021,
          2022,
          2020,
          2021,
          2022,
          2020,
          2021,
          2022,
          2021,
          2022,
          2021,
          2022,
          2018,
          2019,
          2020,
          2018,
          2019,
          2020,
          2018,
          2019,
          2020,
          2021,
          2022,
          2018,
          2019,
          2020,
          2021,
          2022,
          2018,
          2019,
          2020,
          2021,
          2022,
          2019,
          2020,
          2021,
          2022,
          2019,
          2020,
          2019,
          2020,
          2019,
          2020,
          2021,
          2019,
          2020,
          2021,
          2019,
          2020,
          2021,
          2019,
          2020,
          2021,
          2022,
          2019,
          2020,
          2021,
          2022,
          2019,
          2020,
          2021,
          2022,
          2019,
          2020,
          2021,
          2022,
          2019,
          2020,
          2021,
          2022,
          2020,
          2021,
          2022,
          2020,
          2021,
          2022,
          2020,
          2021,
          2022,
          2020,
          2021,
          2022,
          2020,
          2021,
          2022,
          2020,
          2021,
          2022,
          2020,
          2021,
          2022,
          2020,
          2021,
          2022,
          2020,
          2021,
          2022,
          2020,
          2021,
          2022,
          2021,
          2022,
          2021,
          2022,
          2021,
          2022,
          2021,
          2022,
          2021,
          2022,
          2021,
          2022,
          2021,
          2022,
          2022,
          2022,
          2022,
          2018,
          2019,
          2020,
          2021,
          2018,
          2019,
          2020,
          2021,
          2018,
          2019,
          2020,
          2021,
          2018,
          2019,
          2020,
          2021,
          2022,
          2018,
          2019,
          2020,
          2021,
          2022,
          2018,
          2019,
          2020,
          2021,
          2022,
          2018,
          2019,
          2020,
          2021,
          2022,
          2019,
          2020,
          2021,
          2022,
          2019,
          2020,
          2021,
          2022,
          2020,
          2021,
          2022,
          2020,
          2021,
          2022,
          2020,
          2021,
          2022,
          2020,
          2021,
          2022,
          2021,
          2022,
          2021,
          2022,
          2021,
          2022,
          2021,
          2022,
          2022,
          2018,
          2019,
          2020,
          2021,
          2018,
          2019,
          2020,
          2021,
          2018,
          2019,
          2020,
          2021,
          2018,
          2019,
          2020,
          2021,
          2018,
          2019,
          2020,
          2021,
          2022,
          2019,
          2020,
          2021,
          2022,
          2019,
          2020,
          2021,
          2022,
          2019,
          2020,
          2021,
          2022,
          2019,
          2020,
          2021,
          2022,
          2020,
          2021,
          2022,
          2020,
          2021,
          2022,
          2020,
          2021,
          2022,
          2021,
          2022,
          2021,
          2022,
          2021,
          2022,
          2021,
          2022,
          2021,
          2022,
          2021,
          2022,
          2021,
          2022,
          2022,
          2018,
          2019,
          2020,
          2021,
          2018,
          2019,
          2020,
          2021,
          2018,
          2019,
          2020,
          2021,
          2022,
          2018,
          2019,
          2020,
          2021,
          2022,
          2018,
          2019,
          2020,
          2021,
          2022,
          2018,
          2019,
          2020,
          2021,
          2022,
          2018,
          2019,
          2020,
          2021,
          2022,
          2018,
          2019,
          2020,
          2021,
          2022,
          2018,
          2019,
          2020,
          2021,
          2022,
          2019,
          2020,
          2021,
          2022,
          2019,
          2020,
          2021,
          2022,
          2019,
          2020,
          2021,
          2022,
          2019,
          2020,
          2021,
          2022,
          2019,
          2020,
          2021,
          2022,
          2019,
          2020,
          2021,
          2022,
          2019,
          2020,
          2021,
          2022,
          2019,
          2020,
          2021,
          2022,
          2020,
          2021,
          2022,
          2020,
          2021,
          2022,
          2020,
          2021,
          2022,
          2020,
          2021,
          2022,
          2020,
          2021,
          2022,
          2020,
          2021,
          2022,
          2020,
          2021,
          2022,
          2021,
          2022,
          2021,
          2022,
          2021,
          2022,
          2021,
          2022,
          2021,
          2022,
          2021,
          2022,
          2021,
          2022,
          2021,
          2022,
          2021,
          2022,
          2021,
          2022,
          2021,
          2022,
          2021,
          2022,
          2021,
          2022,
          2021,
          2022,
          2021,
          2022,
          2021,
          2022,
          2021,
          2022,
          2021,
          2022,
          2021,
          2022,
          2022,
          2022,
          2022,
          2022,
          2022,
          2018,
          2019,
          2020,
          2021,
          2018,
          2019,
          2020,
          2021,
          2018,
          2019,
          2020,
          2021,
          2018,
          2019,
          2020,
          2021,
          2022,
          2018,
          2019,
          2020,
          2021,
          2022,
          2018,
          2019,
          2020,
          2021,
          2022,
          2018,
          2019,
          2020,
          2021,
          2022,
          2018,
          2019,
          2020,
          2021,
          2022,
          2018,
          2019,
          2020,
          2021,
          2022,
          2018,
          2019,
          2020,
          2021,
          2022,
          2018,
          2019,
          2020,
          2021,
          2022,
          2018,
          2019,
          2020,
          2021,
          2022,
          2019,
          2020,
          2021,
          2022,
          2019,
          2020,
          2021,
          2022,
          2019,
          2020,
          2021,
          2022,
          2019,
          2020,
          2021,
          2022,
          2019,
          2020,
          2021,
          2022,
          2019,
          2020,
          2021,
          2022,
          2019,
          2020,
          2021,
          2022,
          2019,
          2020,
          2021,
          2022,
          2020,
          2021,
          2022,
          2020,
          2021,
          2022,
          2020,
          2021,
          2022,
          2020,
          2021,
          2022,
          2020,
          2021,
          2022,
          2020,
          2021,
          2022,
          2020,
          2021,
          2022,
          2020,
          2021,
          2022,
          2021,
          2022,
          2021,
          2022,
          2021,
          2022,
          2021,
          2022,
          2021,
          2022,
          2021,
          2022,
          2021,
          2022,
          2021,
          2022,
          2021,
          2022,
          2021,
          2022,
          2021,
          2022,
          2021,
          2022,
          2021,
          2022,
          2022,
          2022,
          2022,
          2022,
          2022,
          2022,
          2022,
          2018,
          2019,
          2020,
          2021,
          2022,
          2018,
          2019,
          2020,
          2021,
          2022,
          2018,
          2019,
          2020,
          2021,
          2022,
          2018,
          2019,
          2020,
          2018,
          2019,
          2020,
          2021,
          2022,
          2018,
          2019,
          2020,
          2021,
          2022,
          2018,
          2019,
          2020,
          2021,
          2022,
          2019,
          2020,
          2021,
          2022,
          2019,
          2020,
          2021,
          2019,
          2020,
          2021,
          2022,
          2020,
          2021,
          2022,
          2020,
          2021,
          2022,
          2020,
          2021,
          2022,
          2020,
          2021,
          2020,
          2021,
          2022,
          2020,
          2021,
          2022,
          2020,
          2021,
          2022,
          2021,
          2022,
          2021,
          2022,
          2021,
          2022,
          2018,
          2019,
          2020,
          2018,
          2019,
          2020,
          2018,
          2019,
          2020,
          2018,
          2019,
          2020,
          2018,
          2019,
          2020,
          2021,
          2022,
          2018,
          2019,
          2020,
          2021,
          2022,
          2018,
          2019,
          2020,
          2021,
          2022,
          2018,
          2019,
          2020,
          2021,
          2022,
          2018,
          2019,
          2020,
          2021,
          2022,
          2018,
          2019,
          2020,
          2021,
          2022,
          2018,
          2019,
          2020,
          2021,
          2022,
          2018,
          2019,
          2020,
          2021,
          2022,
          2019,
          2020,
          2021,
          2022,
          2019,
          2020,
          2021,
          2022,
          2019,
          2020,
          2021,
          2022,
          2019,
          2020,
          2021,
          2022,
          2019,
          2020,
          2021,
          2022,
          2019,
          2020,
          2021,
          2022,
          2019,
          2020,
          2021,
          2022,
          2019,
          2020,
          2021,
          2022,
          2019,
          2020,
          2021,
          2022,
          2019,
          2020,
          2021,
          2022,
          2019,
          2020,
          2021,
          2022,
          2019,
          2020,
          2021,
          2022,
          2020,
          2021,
          2022,
          2020,
          2021,
          2022,
          2020,
          2021,
          2022,
          2020,
          2021,
          2022,
          2020,
          2021,
          2022,
          2020,
          2021,
          2022,
          2020,
          2021,
          2022,
          2020,
          2021,
          2022,
          2020,
          2021,
          2022,
          2021,
          2022,
          2021,
          2022,
          2021,
          2022,
          2021,
          2022,
          2021,
          2022,
          2021,
          2022,
          2021,
          2022,
          2021,
          2022,
          2021,
          2022,
          2021,
          2022,
          2021,
          2022,
          2021,
          2022,
          2021,
          2022,
          2021,
          2022,
          2021,
          2022,
          2021,
          2022,
          2021,
          2022,
          2022,
          2022,
          2022,
          2022,
          2022,
          2022,
          2022,
          2022,
          2022,
          2022,
          2022,
          2018,
          2019,
          2020,
          2021,
          2022,
          2018,
          2019,
          2020,
          2021,
          2022,
          2018,
          2019,
          2020,
          2021,
          2022,
          2018,
          2019,
          2020,
          2021,
          2022,
          2018,
          2019,
          2020,
          2021,
          2022,
          2018,
          2019,
          2020,
          2021,
          2022,
          2018,
          2019,
          2020,
          2021,
          2022,
          2018,
          2019,
          2020,
          2021,
          2022,
          2019,
          2020,
          2021,
          2022,
          2019,
          2020,
          2021,
          2022,
          2019,
          2020,
          2021,
          2022,
          2019,
          2020,
          2021,
          2022,
          2019,
          2020,
          2021,
          2022,
          2019,
          2020,
          2021,
          2022,
          2019,
          2020,
          2021,
          2022,
          2019,
          2020,
          2020,
          2021,
          2022,
          2020,
          2021,
          2022,
          2020,
          2021,
          2022,
          2020,
          2021,
          2022,
          2020,
          2021,
          2022,
          2020,
          2021,
          2022,
          2020,
          2021,
          2022,
          2020,
          2020,
          2021,
          2022,
          2020,
          2021,
          2022,
          2021,
          2022,
          2021,
          2022,
          2018,
          2019,
          2020,
          2018,
          2019,
          2020,
          2018,
          2019,
          2020,
          2021,
          2022,
          2018,
          2019,
          2020,
          2021,
          2022,
          2018,
          2019,
          2020,
          2021,
          2022,
          2018,
          2019,
          2020,
          2021,
          2022,
          2018,
          2019,
          2020,
          2021,
          2022,
          2018,
          2019,
          2020,
          2021,
          2022,
          2018,
          2019,
          2020,
          2021,
          2022,
          2018,
          2019,
          2020,
          2021,
          2022,
          2018,
          2019,
          2020,
          2021,
          2022,
          2018,
          2019,
          2020,
          2021,
          2022,
          2018,
          2019,
          2020,
          2021,
          2022,
          2019,
          2020,
          2021,
          2022,
          2019,
          2020,
          2021,
          2022,
          2019,
          2020,
          2021,
          2022,
          2019,
          2020,
          2021,
          2022,
          2019,
          2020,
          2021,
          2019,
          2020,
          2021,
          2019,
          2020,
          2021,
          2019,
          2020,
          2021,
          2022,
          2019,
          2020,
          2021,
          2022,
          2019,
          2020,
          2021,
          2022,
          2019,
          2020,
          2021,
          2022,
          2019,
          2020,
          2021,
          2022,
          2019,
          2020,
          2021,
          2022,
          2019,
          2020,
          2021,
          2022,
          2019,
          2020,
          2021,
          2022,
          2019,
          2020,
          2021,
          2022,
          2020,
          2021,
          2022,
          2020,
          2021,
          2022,
          2020,
          2021,
          2022,
          2020,
          2021,
          2022,
          2021,
          2022,
          2021,
          2022,
          2021,
          2022,
          2021,
          2022,
          2021,
          2022,
          2022,
          2022,
          2021,
          2022,
          2021,
          2022,
          2021,
          2022,
          2021,
          2022,
          2021,
          2021,
          2022,
          2021,
          2022,
          2021,
          2022,
          2022,
          2022,
          2022,
          2022,
          2022,
          2022,
          2022,
          2018,
          2019,
          2020,
          2021,
          2018,
          2019,
          2020,
          2021,
          2019,
          2020,
          2021,
          2022,
          2019,
          2020,
          2021,
          2022,
          2019,
          2020,
          2021,
          2022,
          2020,
          2021,
          2022,
          2020,
          2021,
          2022,
          2021,
          2022,
          2021,
          2022,
          2021,
          2022,
          2021,
          2022,
          2021,
          2022,
          2021,
          2022,
          2021,
          2022,
          2022,
          2022,
          2018,
          2019,
          2020,
          2021,
          2018,
          2019,
          2020,
          2021,
          2019,
          2020,
          2021,
          2022,
          2019,
          2020,
          2021,
          2022,
          2019,
          2020,
          2021,
          2022,
          2019,
          2020,
          2021,
          2022,
          2020,
          2021,
          2022,
          2020,
          2021,
          2022,
          2020,
          2021,
          2022,
          2020,
          2021,
          2022,
          2021,
          2022,
          2021,
          2022,
          2021,
          2022,
          2022,
          2022,
          2020,
          2021,
          2022,
          2020,
          2021,
          2022,
          2021,
          2022,
          2021,
          2022,
          2018,
          2019,
          2020,
          2021,
          2019,
          2020,
          2021,
          2019,
          2020,
          2021,
          2019,
          2020,
          2021,
          2022,
          2020,
          2021,
          2022,
          2020,
          2021,
          2022,
          2021,
          2022,
          2021,
          2022,
          2021,
          2022
         ],
         "xaxis": "x",
         "y": [
          0.6999714196632717,
          0.7088966147709015,
          0.6906969437479593,
          0.7104941413526575,
          0.7139195915762604,
          0.7131657641639053,
          0.7120512446053672,
          0.7071516789783981,
          0.6928730052161339,
          0.7140951809844812,
          0.7141475801678135,
          0.6974218875548107,
          0.7006043681227075,
          0.6987989353386839,
          0.7069140658770642,
          0.6881155708742912,
          0.7031328217160219,
          0.6882961345419766,
          0.6899757937431971,
          0.7082384906746799,
          0.7025237671264668,
          0.6986127869717045,
          0.7004845766317842,
          0.707776885437279,
          0.7087444200038818,
          0.7107511619492918,
          0.7047530655161313,
          0.6884956426738484,
          0.7118026733280063,
          0.6930125282693758,
          0.6898993773790906,
          0.7008122586367844,
          0.7116117582381092,
          0.7139235787511649,
          0.6990241342002934,
          0.6968356101102092,
          0.6994513489508859,
          0.6876952082814557,
          0.7094637910112874,
          0.6988110487668464,
          0.70868151113335,
          0.6938834188074311,
          0.706476360192548,
          0.6975807210769086,
          0.6935953587562201,
          0.7056316746485005,
          0.713886768477998,
          0.7121802882165862,
          0.6964525473212705,
          0.7034396589739821,
          0.7076977900912974,
          0.6990154996731843,
          0.7048881879902827,
          0.7104769511914703,
          0.7113075994654942,
          0.7099210025601944,
          0.70518560749409,
          0.6937765248527505,
          0.7006247811006542,
          0.7078825270232989,
          0.692522680926709,
          0.7113931558033332,
          0.711394436090948,
          0.713081982717854,
          0.6878425121376924,
          0.6906999840875295,
          0.7121445829181398,
          0.7057825558968498,
          0.7093081956848923,
          0.6954621820920475,
          0.698770146571573,
          0.7121651204938183,
          0.7074533062967091,
          0.7060190844432075,
          0.705017359072841,
          0.6883219071676155,
          0.6918197800682547,
          0.7033273652301855,
          0.6880629635284004,
          0.6936859159224249,
          0.6981394440553791,
          0.7044153357468473,
          0.68833893710741,
          0.6900647295633587,
          0.7081414292069812,
          0.706335957927703,
          0.7123247160643563,
          0.6893135637358274,
          0.7142038116432973,
          0.7101646697141939,
          0.7121980161305276,
          0.7109217712797244,
          0.6943031103670181,
          0.7039202814679174,
          0.6959035258549073,
          0.6881514690051724,
          0.693069306930693,
          0.7038789205052146,
          0.7078449026755784,
          0.7031113914600942,
          0.6921715554098946,
          0.6889332149574198,
          0.6987425689445984,
          0.6883489924013209,
          0.7125105767030487,
          0.698566522777882,
          0.6990578767000608,
          0.700341009464585,
          0.6940822308901806,
          0.7016269511459248,
          0.7059646448765982,
          0.6929902941711522,
          0.703730880101513,
          0.6913175916166806,
          0.6991767972656431,
          0.7111930796392801,
          0.7121500545699129,
          0.7121430517489097,
          0.7005225972366776,
          0.7058572311040044,
          0.7027586390746211,
          0.6999009744834772,
          0.7005070695975375,
          0.6882814750260338,
          0.6958192320415277,
          0.708536815659952,
          0.690520557749575,
          0.7082275214673993,
          0.6934962581448002,
          0.6912006789531829,
          0.7062055681046548,
          0.6985121308846364,
          0.6962634572870486,
          0.69652441726201,
          0.7120283462030583,
          0.6946806337308828,
          0.7042387863704019,
          0.6885292428876765,
          0.6880146570295356,
          0.6899312720073815,
          0.7005483372067058,
          0.7070092048618858,
          0.7101774269147518,
          0.7027117269220249,
          0.6882549260329999,
          0.7045012826774617,
          0.7004509964617144,
          0.7019251370677447,
          0.7114327294284,
          0.6883330274679768,
          0.7127649675077988,
          0.699486000317156,
          0.7069203551962173,
          0.7027217103246625,
          0.7124930139835562,
          0.7034464263307202,
          0.6904380995300329,
          0.7119483747797278,
          0.6958050922942962,
          0.7047010106303522,
          0.7007685095809683,
          0.6907278390166657,
          0.7045003933590972,
          0.6937453247093324,
          0.7116613634519872,
          0.6899326942955872,
          0.7031184549687554,
          0.7109740380685846,
          0.6992376200387755,
          0.7035833380202589,
          0.7069752072255572,
          0.6933333922946414,
          0.6922317752269181,
          0.712107072691552,
          0.7081327184447709,
          0.7112197669403655,
          0.6933262015827655,
          0.7118901051803448,
          0.7101861474746243,
          0.7051522244966776,
          0.6927770285718072,
          0.7036928917496708,
          0.7024360276157351,
          0.702403325893342,
          0.7122392249595615,
          0.6970468235215814,
          0.7114350976280162,
          0.7072517183603733,
          0.712449094909989,
          0.7039120696560214,
          0.6977441501261494,
          0.7020955938699704,
          0.6960834507337917,
          0.7007195874451843,
          0.6911889177789198,
          0.6938146859904477,
          0.7075048250763838,
          0.7087744649922675,
          0.7013968838744339,
          0.6913543035448634,
          0.707424836280087,
          0.7031957851304002,
          0.7105540183733224,
          0.6877898093846534,
          0.6984075608493009,
          0.7036007837748428,
          0.694291731459147,
          0.701430068421377,
          0.6926979789098769,
          0.7116537734143253,
          0.690481441042163,
          0.7120638792465418,
          0.695792571463008,
          0.6927887858049118,
          0.6965810931791236,
          0.7110666325319431,
          0.7114173779208061,
          0.6891821958235621,
          0.7062424958985216,
          0.6931739169866078,
          0.7043495554621431,
          0.6919165383613778,
          0.7054476672891503,
          0.7116279491257402,
          0.7032315153285424,
          0.6920906545770603,
          0.7012646666776374,
          0.7089233108429154,
          0.6902795945062132,
          0.7113606026806122,
          0.7117335336356244,
          0.6959514760581185,
          0.6972236773179675,
          0.6977932399266175,
          0.7094610674076333,
          0.6884244629152615,
          0.7005344356736701,
          0.7026349981809678,
          0.7121786113526271,
          0.692571733600008,
          0.7002268993036539,
          0.699418001563231,
          0.7055633452293039,
          0.6976988357500528,
          0.7136298492172046,
          0.7130924561477634,
          0.6959691517984452,
          0.7050019866672552,
          0.7094745696945283,
          0.7033212248496902,
          0.7112140834132749,
          0.7032160054404457,
          0.704905818334031,
          0.7066038513309342,
          0.7070757863410129,
          0.7082296639602281,
          0.7110438582920792,
          0.6950447181554968,
          0.6965466121056426,
          0.713376594808623,
          0.7099303001692426,
          0.7061886164781132,
          0.695432950737564,
          0.7016316220644457,
          0.6957637546141677,
          0.6941854086670324,
          0.6876061697356799,
          0.7101913585591827,
          0.7060310024962249,
          0.7021385653672011,
          0.7126356317815891,
          0.6911313458899837,
          0.7059406974316141,
          0.7097298300993409,
          0.7123965117562645,
          0.7052345753507316,
          0.7058905998083977,
          0.7065754465982517,
          0.7138259498455624,
          0.7114687171763214,
          0.6905911901081917,
          0.7080877825666286,
          0.6928321764387338,
          0.7080878857402699,
          0.6896000341122294,
          0.694673095014111,
          0.7122191385013117,
          0.6907589055240062,
          0.7067299477930707,
          0.6937307297019527,
          0.6913244957648041,
          0.6888336169655714,
          0.7136825547943788,
          0.6999867476950455,
          0.6900134233124322,
          0.6926050987675164,
          0.6921386275293349,
          0.695558936197511,
          0.6994126159870605,
          0.7128828800699409,
          0.69156527458073,
          0.7021926539483926,
          0.6963318906643409,
          0.7012397899649943,
          0.6925751474718058,
          0.6993405810016041,
          0.7115899129048784,
          0.7040823189185553,
          0.697766776378424,
          0.6955046009956253,
          0.693084742527163,
          0.6898402704231891,
          0.7023667823537519,
          0.7136117036075305,
          0.6944763552323931,
          0.7014389374000738,
          0.7052516437681056,
          0.6918713172052848,
          0.699293502447708,
          0.7135499849547485,
          0.7040797782926719,
          0.7060580663185266,
          0.7003976396337753,
          0.6903331858127332,
          0.7101923226660438,
          0.7061267338232338,
          0.7082612325899393,
          0.7058068166978627,
          0.706460091298935,
          0.7071203191046019,
          0.6976241426611798,
          0.6933361124344926,
          0.6922341330936284,
          0.6888047812433811,
          0.7097276978087467,
          0.6958906360732516,
          0.6916355274504168,
          0.7002529222776676,
          0.702464688053983,
          0.7038073238295953,
          0.6938219974191603,
          0.6885707463636906,
          0.7130515810465997,
          0.7029097148059315,
          0.7120066847873066,
          0.7079392655492426,
          0.7103646187919578,
          0.706302745333121,
          0.6904659169153087,
          0.7059039833073937,
          0.71089130105158,
          0.6904119244919713,
          0.7024444109025334,
          0.7043481173229731,
          0.7113393971261075,
          0.7083615593053331,
          0.6879456201282511,
          0.6946795794403923,
          0.7055541312904345,
          0.6888863110971174,
          0.6943074095569742,
          0.7098721664245837,
          0.696563375462458,
          0.6971245465196708,
          0.7073247509558442,
          0.6994957983193277,
          0.7111459660817567,
          0.7121940933830603,
          0.6964517524881003,
          0.6949140907624402,
          0.7129899788069672,
          0.696596941206472,
          0.6892912550012248,
          0.7091940645912133,
          0.6908836929986032,
          0.7074759687593872,
          0.6962449510072501,
          0.7036576007154468,
          0.7137184866664356,
          0.6997383682376629,
          0.6923487264723058,
          0.6986893059279118,
          0.7116748122277511,
          0.6996144327363574,
          0.6926270248288638,
          0.7021430892044926,
          0.6880746039388312,
          0.6877882293198231,
          0.6952981988293521,
          0.6987440008169099,
          0.6981538782463581,
          0.6919739025571783,
          0.7019186043723655,
          0.6943057889566514,
          0.7094370714247745,
          0.7141231956816109,
          0.7077746290142962,
          0.7097483362132384,
          0.6977525621308659,
          0.7054291294069278,
          0.6918623737879237,
          0.6999695705597091,
          0.7060255527760522,
          0.6905509955621884,
          0.7095566591694717,
          0.7001058109028714,
          0.7095535812218933,
          0.6921323563156848,
          0.7110892294935414,
          0.6974295529027756,
          0.7085866784053704,
          0.708242268195563,
          0.7096323559042003,
          0.6942452988042681,
          0.714184961892845,
          0.7060207371264267,
          0.7037061146552098,
          0.6918247424983802,
          0.7134327488786625,
          0.6993453355155483,
          0.6898405798922124,
          0.7030241890783318,
          0.6923507659799261,
          0.6912033118862865,
          0.7111774788890874,
          0.7076444249036782,
          0.6975658211385444,
          0.6984489576534726,
          0.6991174996419877,
          0.6915103995866003,
          0.7134208557241004,
          0.6905189601058055,
          0.6876846834329119,
          0.6930639847407664,
          0.7039760512727784,
          0.6886877721825075,
          0.7115799456986647,
          0.6949440845427237,
          0.7137169772024544,
          0.7104512963667893,
          0.7021734736027984,
          0.6877599810843237,
          0.7089438253097246,
          0.7053979729361265,
          0.7043590771585815,
          0.701292920300265,
          0.689546074568051,
          0.6895553007904424,
          0.7108651597817615,
          0.7072439825575811,
          0.7074293550124884,
          0.7134238046937847,
          0.7011426532458157,
          0.6879363055242205,
          0.6987866564741474,
          0.7050174269737012,
          0.7004944922721027,
          0.6876355581534865,
          0.6990878272114074,
          0.7084407952727628,
          0.6969966371613002,
          0.6879484084969013,
          0.6990851247016331,
          0.6963456491015546,
          0.7090537790490827,
          0.7096510769512188,
          0.7076345335870939,
          0.6913593715906612,
          0.7078856298088231,
          0.7121860510938569,
          0.6941354448693398,
          0.7140836452348599,
          0.6876373177096294,
          0.7052603301748559,
          0.6998774061227218,
          0.7079946350186961,
          0.7125731411445696,
          0.6948375791885698,
          0.6964103960044501,
          0.7026782929618463,
          0.6987965540410828,
          0.7141391584586768,
          0.6928588751460635,
          0.7102445974195438,
          0.6927110036866134,
          0.6975338347490848,
          0.6937234793046445,
          0.7007224455059914,
          0.7122861506868209,
          0.6942169867036984,
          0.7103820504125693,
          0.6952914966314279,
          0.6907567637373281,
          0.6934756276885807,
          0.691408283245577,
          0.6880289220981549,
          0.7071779817886057,
          0.6885904708353316,
          0.6925375498244595,
          0.7037771393585457,
          0.7061969980082544,
          0.7050773244829206,
          0.7135355782646404,
          0.6903074976621376,
          0.7031210153598682,
          0.6905917419798613,
          0.7097152892443664,
          0.7139519236086788,
          0.7125714850915369,
          0.6897935597425594,
          0.6952997369845688,
          0.7115722551922314,
          0.7069600881778315,
          0.7022693491038714,
          0.6944264119447279,
          0.7078849786002668,
          0.6882827177614642,
          0.6904930199681922,
          0.6890151699917076,
          0.6974642842606537,
          0.6973413375869939,
          0.6899376788500204,
          0.7129633101131515,
          0.7128274961318259,
          0.694272967383643,
          0.6981273162333304,
          0.700157570744479,
          0.7126672291189586,
          0.7003117081156236,
          0.7081652393422511,
          0.7139054176093544,
          0.7027413295584473,
          0.7132747434776607,
          0.7070372494347658,
          0.7052931103299986,
          0.7057056962523413,
          0.707140147378344,
          0.6969004835745257,
          0.6966476403917311,
          0.704688885411777,
          0.6929177392932366,
          0.712196854698388,
          0.7112246665064139,
          0.6996084928233013,
          0.7141285994946717,
          0.7006761968848988,
          0.6942498005648865,
          0.698080850947662,
          0.7063886286588531,
          0.6953237727848287,
          0.7003794956005663,
          0.7076432079550891,
          0.7113128459803632,
          0.6982265653275426,
          0.7104615503556334,
          0.7039985112883957,
          0.6906623606496289,
          0.713995770227862,
          0.704808763580394,
          0.7072368863370491,
          0.705314546341042,
          0.707786700968144,
          0.7077629647817766,
          0.7093155003817827,
          0.689484559669958,
          0.7050499961010838,
          0.6968316188126363,
          0.6901409445260422,
          0.7036962754096814,
          0.7067638315808155,
          0.6964415643474307,
          0.688388409457658,
          0.7042615404658165,
          0.6926272648566499,
          0.6893100412399796,
          0.700835491548448,
          0.6925836220375877,
          0.7113161017146313,
          0.6883156041199315,
          0.6894581528222515,
          0.6917623063599722,
          0.6929551350882692,
          0.6909661994280625,
          0.6927107888561936,
          0.6979110663629877,
          0.7042484383998582,
          0.6897904927339745,
          0.696294269186853,
          0.6989488993190983,
          0.6942207726021812,
          0.6914507604157989,
          0.6914814845978442,
          0.6976430392312771,
          0.6920398818716302,
          0.7063808383029331,
          0.7105220854841302,
          0.7021164478230822,
          0.7120313869458088,
          0.6933842239185751,
          0.7141516472297483,
          0.6925100947863626,
          0.7060567840805304,
          0.700146141621613,
          0.6938666770379589,
          0.7013542357200616,
          0.6905133754653277,
          0.6898391244542791,
          0.6926907338229943,
          0.6954308036694027,
          0.6923505856967953,
          0.7091072056239016,
          0.6907150647047432,
          0.7133687124903565,
          0.6984053839013393,
          0.6943456962911128,
          0.7100991241346799,
          0.7002829394156371,
          0.695229112480906,
          0.6902688792763982,
          0.7108135834962576,
          0.6998197575817389,
          0.6934808618406658,
          0.7080624238737271,
          0.7103743881894107,
          0.6919715786676909,
          0.7039224335771198,
          0.6949999258617923,
          0.7124659283760155,
          0.6945285090321379,
          0.6945662374515357,
          0.6885153581072009,
          0.6913867740304797,
          0.6961194969114864,
          0.6991730693103954,
          0.6965377163793389,
          0.6938193856723254,
          0.6935262017566729,
          0.6887385042934107,
          0.7032872391590455,
          0.6876769677312993,
          0.6879878711973897,
          0.7061071942664828,
          0.7116913003770433,
          0.7111350391603297,
          0.7073892257932594,
          0.705526533666864,
          0.692262936854793,
          0.705155268221992,
          0.7115050840551806,
          0.7011290193787958,
          0.6908332703615698,
          0.7124145782820164,
          0.7132543822433871,
          0.6976512741618855,
          0.6954412205806443,
          0.696389924515202,
          0.6877761210435239,
          0.6967662071351401,
          0.7088203181272763,
          0.7075699069427516,
          0.7006988330521778,
          0.7068696566586344,
          0.6979967947652854,
          0.697255279749836,
          0.7108882790790356,
          0.7087464018229994,
          0.6994935367038662,
          0.7126399309375787,
          0.6990904900177104,
          0.7045761898005303,
          0.7111851165247856,
          0.6941939662497887,
          0.6889839307766531,
          0.707624371442428,
          0.6923305420961264,
          0.691065793000093,
          0.7010287387764556,
          0.6988012070377556,
          0.7043565620551989,
          0.6906399476082445,
          0.6929082864071718,
          0.7033530626208626,
          0.713700994712261,
          0.7122742252556623,
          0.713114091424254,
          0.7046773306602475,
          0.6877513668704522,
          0.6917879733068265,
          0.7083519984910694,
          0.6966418932665267,
          0.6893498985266462,
          0.7057558918618885,
          0.6978637639938675,
          0.7010971979199175,
          0.7000308104468647,
          0.7079952158718942,
          0.7036020633287351,
          0.7026694140668319,
          0.7130662322105572,
          0.6986174203513899,
          0.7087213862528747,
          0.7092979179376057,
          0.696536270299981,
          0.7072197956400577,
          0.7016203356254128,
          0.6952217467217516,
          0.6943715890909355,
          0.7034849249412997,
          0.6899251917562413,
          0.6912485831324122,
          0.7037545744591029,
          0.7118137267041029,
          0.6994116695702507,
          0.707043825107908,
          0.6983379770373027,
          0.6908778404668316,
          0.7036489807509313,
          0.7029715723802389,
          0.7067322847083518,
          0.6997869969497795,
          0.7037748166713252,
          0.71065623484556,
          0.6994935906439095,
          0.700245756098594,
          0.7100033989129166,
          0.6916922897165387,
          0.6998942039143224,
          0.6904493825348185,
          0.6878822261658876,
          0.7124803703945574,
          0.7048730982486022,
          0.6909352225398507,
          0.7066559873185728,
          0.7092633687932677,
          0.7041411674463411,
          0.7053730534810864,
          0.6977487532364661,
          0.6887284917183252,
          0.6941978598045043,
          0.6962042590664111,
          0.6901598435286976,
          0.7024630556412371,
          0.6918344279133215,
          0.7087204884028323,
          0.6904177175105461,
          0.6915692236165792,
          0.6937695721039332,
          0.6916076285732996,
          0.7064480375364421,
          0.6886864724567152,
          0.6951540813468059,
          0.692402466576784,
          0.7043598017273339,
          0.7009872500125272,
          0.6942772092937326,
          0.6998421638323267,
          0.7116634729634506,
          0.7132031802569022,
          0.711636352591454,
          0.6979120822479412,
          0.6987025934285042,
          0.6941470712450161,
          0.7112365419126481,
          0.6911012444858875,
          0.6888754723908964,
          0.6895676575532701,
          0.703846918223844,
          0.7024042659262993,
          0.699765207615766,
          0.7055587810194067,
          0.7129561992340416,
          0.7041348918572752,
          0.7090657165479018,
          0.694037267012047,
          0.7142033201323276,
          0.7051478464964456,
          0.688415212633188,
          0.7005173991254533,
          0.6965037561682175,
          0.6908360818107642,
          0.6946248155873226,
          0.6917258502658081,
          0.7020335076548289,
          0.6963425946005267,
          0.7139501127616444,
          0.7049513544827025,
          0.7077305330683473,
          0.7072490572960463,
          0.7056064457490708,
          0.6947754226431645,
          0.6983867415740866,
          0.7128538577656137,
          0.7063472838119399,
          0.691434458923037,
          0.7065442850638778,
          0.7011921825586421,
          0.6913192201849702,
          0.697847887872536,
          0.7106207228939146,
          0.7084523633558543,
          0.6974608394679606,
          0.7040378202953006,
          0.7020103082462757,
          0.6939483833868471,
          0.7121010860904095,
          0.7067379924336237,
          0.6962014200504667,
          0.7129388829126867,
          0.7093226847541879,
          0.7001040534705184,
          0.7016889433126708,
          0.6921938881282552,
          0.7076111912913015,
          0.7007506449454057,
          0.7052314873790096,
          0.7016410220658791,
          0.7103461542375172,
          0.7088898159978445,
          0.7074398214446311,
          0.6882762367331597,
          0.7072029585239983,
          0.7062094322492664,
          0.7031073656591783,
          0.6996841700173838,
          0.6951101715491084,
          0.6946666885477604,
          0.6994686717122005,
          0.6878799574046665,
          0.695357977297666,
          0.6934777896564539,
          0.7044253467373293,
          0.6887481187718141,
          0.7117232987292881,
          0.6920108553031613,
          0.7136623952980097,
          0.6952158299470732,
          0.7048011752178089,
          0.6943702383460256,
          0.6927722152217171,
          0.6926215128288483,
          0.7042524428102924,
          0.7121645545978037,
          0.7132632151847064,
          0.6988371369203762,
          0.6974579968915356,
          0.7083448580155809,
          0.6941235966471548,
          0.6928246434830142,
          0.7008730511449781,
          0.7102300877095767,
          0.7060260262325327,
          0.6911799598158768,
          0.6927197050387803,
          0.6893270722313091,
          0.7074170049570835,
          0.6942421008676287,
          0.691590237213466,
          0.7013178187395929,
          0.7126641365544526,
          0.6969672813492211,
          0.6994848033571346,
          0.6923017088166217,
          0.7052810439952383,
          0.7122284966291885,
          0.693477526677557,
          0.7079175014452325,
          0.713264038142576,
          0.710227743591928,
          0.7043610720447725,
          0.6994100674032503,
          0.7022057582692769,
          0.6990756003503268,
          0.6988907033905525,
          0.6986042806950548,
          0.7127915728070344,
          0.6948765188248122,
          0.687957479850383,
          0.7118381776882362,
          0.6950953297265039,
          0.7076544843118409,
          0.6925558552230727,
          0.6906537212522019,
          0.7077114646397127,
          0.7004018913391257,
          0.6976679213540298,
          0.696221126022244,
          0.7136493370904354,
          0.6925937910698939,
          0.7106737603536408,
          0.7105541234840498,
          0.6917843079980722,
          0.7090832235827308,
          0.6908623038037169,
          0.707126402533621,
          0.7099833940117843,
          0.7091639407848873,
          0.7012824010100603,
          0.6982148525918972,
          0.6893393284563618,
          0.7004451035995259,
          0.6968288123229869,
          0.7102393925728437,
          0.6918448396027305,
          0.6882729974864815,
          0.6892647906036227,
          0.6940509567661041,
          0.7102827438204148,
          0.7030533418421497,
          0.7013233253605343,
          0.6954613813159688,
          0.7037834192493923,
          0.6917243619659575,
          0.703377570226428,
          0.6990616185302096,
          0.6891850149745413,
          0.7007991954243411,
          0.6976166278506531,
          0.6903008981904325,
          0.7134589364527717,
          0.7005310872966091,
          0.711182584649263,
          0.6970516343160985,
          0.7000228513029739,
          0.6928084369804616,
          0.6932122249518937,
          0.6944635789046355,
          0.7011068022700858,
          0.6922054792110582,
          0.6883032568368276,
          0.7026293418873794,
          0.70352089964021,
          0.7029179301275572,
          0.6988530237676676,
          0.6930602590768395,
          0.696393605724304,
          0.6956548405248211,
          0.6923679113041092,
          0.701920575578068,
          0.7000342803273771,
          0.694892193226719,
          0.7014238748392163,
          0.704202235467772,
          0.7043221544429589,
          0.698945475709412,
          0.697461173480526,
          0.7019132347392188,
          0.707553572613282,
          0.7010349787152227,
          0.7081110097866861,
          0.6991715354702676,
          0.7117677680140182,
          0.6886576057304867,
          0.7004794339793814,
          0.7123673280764538,
          0.7072520519175399,
          0.7032375517710099,
          0.6896764979188099,
          0.7032322834864299,
          0.7075810933360394,
          0.7020442227377727,
          0.7009459292227229,
          0.7003530825873552,
          0.708122519237352,
          0.7055308370876732,
          0.7107360249182938,
          0.6967379336982682,
          0.6900551008038921,
          0.6940016559809042,
          0.7132557357732355,
          0.6988100461336756,
          0.7034322510645777,
          0.7021448040666539,
          0.7095037215644873,
          0.6908959189978238,
          0.7008528111756277,
          0.7081715674547505,
          0.7068961520933202,
          0.6965736342916946,
          0.7095657078888811,
          0.6914013534633545,
          0.7112905610141528,
          0.7139232783729248,
          0.6891786186791039,
          0.7110285603388107,
          0.7140579000552775,
          0.7093745206270133,
          0.7065845338438523,
          0.7111691596006796,
          0.6999168241792374,
          0.6955480991513534,
          0.7011618770502943,
          0.6984364724448022,
          0.6899109141102621,
          0.7126046157982212,
          0.7088334538595928,
          0.7075025984225205,
          0.7141667463568603,
          0.7000701057695979,
          0.6886838214378689,
          0.713100399312777,
          0.6886241964657545,
          0.6947042222780277,
          0.7106631182566062,
          0.7070327379354597,
          0.7065669284227855,
          0.6997857366271499,
          0.7122756849740915,
          0.7031926655034614,
          0.7105908262592088,
          0.689340981132812,
          0.7035025484199796,
          0.6941162308894855,
          0.6902103013655473,
          0.7046685311807355,
          0.7062506493278697,
          0.7093634680405607,
          0.699410636511614,
          0.6960422386469857,
          0.7128969825468429,
          0.689315765801022,
          0.6909865514416936,
          0.7101599461394212,
          0.7102045783675871,
          0.6894437496508125,
          0.7041927039682903,
          0.6930581775033156,
          0.6928734009794364,
          0.6887473623151678,
          0.7135065645393249,
          0.6922181797490916,
          0.7021724068317204,
          0.6968478038000638,
          0.6993617695134479,
          0.7063767735767424,
          0.7123296777721339,
          0.699663259790126,
          0.6944136335484635,
          0.7105144265876783,
          0.6881113843460361,
          0.7069704411288911,
          0.6950483123817923,
          0.6971478513856161,
          0.7099126500636267,
          0.710836639170787,
          0.6910438870778748,
          0.6980504130922898,
          0.6972208337104164,
          0.6882966689106316,
          0.6889838111472169,
          0.7041558133466184,
          0.703018768930149,
          0.7065143795929715,
          0.7063957106924769,
          0.6933210501133193,
          0.6926302727110302,
          0.7119894514557271,
          0.7105344369220993,
          0.6895967141566699,
          0.713223662003867,
          0.7129502501473713,
          0.7130079674890365,
          0.7097486007325138,
          0.69202863281221,
          0.7138610822283301,
          0.7111610097156149,
          0.7098566841486078,
          0.71241315841902,
          0.7001275563958683,
          0.6951046402885579,
          0.6989376031133968,
          0.7024233737135996,
          0.7085686218860666,
          0.706888329664253,
          0.6947352805831221,
          0.6911742070837928,
          0.7109827986198164,
          0.7135661092057851,
          0.706304322563104,
          0.6961441977483255,
          0.6983782305187723,
          0.6929656969678196,
          0.70354198149945,
          0.7039816062031583,
          0.7119741007233662,
          0.7027451176971566,
          0.7121065625069312,
          0.7060527406526694,
          0.6942191227474342,
          0.7120237877248438,
          0.7126600542840714,
          0.698473112400393,
          0.7016141027902816,
          0.6899272119844562,
          0.6886622685248494,
          0.7042182493504601,
          0.6952683284361288,
          0.7122013046521286,
          0.708436819345889,
          0.7032625325775836,
          0.7122626005703865,
          0.6976638663574944,
          0.6973840945217844,
          0.70519434280996,
          0.7063368383064581,
          0.7010021093196898,
          0.6956105957731663,
          0.7129032482970669,
          0.7103228707356695,
          0.6897897231886669,
          0.7034974849325489,
          0.6890364403988383,
          0.687511263290683,
          0.699134371760029,
          0.7083022942905485,
          0.6964621831421309,
          0.6936504473052585,
          0.6998271789849646,
          0.7073323230503482,
          0.7032662539638268,
          0.6951303987448566,
          0.71119833309105,
          0.7141116813108164,
          0.6995365171894785,
          0.6894202947501155,
          0.7028893725476004,
          0.6992941408756602,
          0.7105422965514647,
          0.6944221339788703,
          0.7031875925492946,
          0.6895979131474012,
          0.707858257549956,
          0.7072641884156172,
          0.7006034416909461,
          0.6948205770086168,
          0.7089762622037611,
          0.7036720432118223,
          0.7091808821572386,
          0.7073487121035086,
          0.6997966774113563,
          0.6924676557863502,
          0.7047643659258563,
          0.7119463643416319,
          0.7116352338861419,
          0.6944616972697768,
          0.6917349560966627,
          0.7001912611942334,
          0.6884696112429276,
          0.6894237914030308,
          0.6887534532571332,
          0.696507359132397,
          0.6933977992664222,
          0.7140614819641059,
          0.7016947393008227,
          0.704755729569316,
          0.6993958889063235,
          0.6898416961398067,
          0.7013502779984114,
          0.6990508477470977,
          0.6882103250478011,
          0.7107498180053385,
          0.6944002639549246,
          0.6980089031659548,
          0.7055342440119761,
          0.6998568981154892,
          0.7142254896920467,
          0.6884122946033864,
          0.6915791451610969,
          0.6990321672415006,
          0.7116923310323903,
          0.7052718746087213,
          0.7121043346489195,
          0.7018034216439002,
          0.709004585067886,
          0.7018838962868017,
          0.6953551912568307,
          0.7026425708389554,
          0.6957058884089873,
          0.6995719983865908,
          0.7140262967463579,
          0.7133920794788868,
          0.6977663057810928,
          0.6937567585562462
         ],
         "yaxis": "y"
        }
       ],
       "layout": {
        "legend": {
         "tracegroupgap": 0
        },
        "margin": {
         "t": 60
        },
        "template": {
         "data": {
          "bar": [
           {
            "error_x": {
             "color": "#2a3f5f"
            },
            "error_y": {
             "color": "#2a3f5f"
            },
            "marker": {
             "line": {
              "color": "#E5ECF6",
              "width": 0.5
             },
             "pattern": {
              "fillmode": "overlay",
              "size": 10,
              "solidity": 0.2
             }
            },
            "type": "bar"
           }
          ],
          "barpolar": [
           {
            "marker": {
             "line": {
              "color": "#E5ECF6",
              "width": 0.5
             },
             "pattern": {
              "fillmode": "overlay",
              "size": 10,
              "solidity": 0.2
             }
            },
            "type": "barpolar"
           }
          ],
          "carpet": [
           {
            "aaxis": {
             "endlinecolor": "#2a3f5f",
             "gridcolor": "white",
             "linecolor": "white",
             "minorgridcolor": "white",
             "startlinecolor": "#2a3f5f"
            },
            "baxis": {
             "endlinecolor": "#2a3f5f",
             "gridcolor": "white",
             "linecolor": "white",
             "minorgridcolor": "white",
             "startlinecolor": "#2a3f5f"
            },
            "type": "carpet"
           }
          ],
          "choropleth": [
           {
            "colorbar": {
             "outlinewidth": 0,
             "ticks": ""
            },
            "type": "choropleth"
           }
          ],
          "contour": [
           {
            "colorbar": {
             "outlinewidth": 0,
             "ticks": ""
            },
            "colorscale": [
             [
              0,
              "#0d0887"
             ],
             [
              0.1111111111111111,
              "#46039f"
             ],
             [
              0.2222222222222222,
              "#7201a8"
             ],
             [
              0.3333333333333333,
              "#9c179e"
             ],
             [
              0.4444444444444444,
              "#bd3786"
             ],
             [
              0.5555555555555556,
              "#d8576b"
             ],
             [
              0.6666666666666666,
              "#ed7953"
             ],
             [
              0.7777777777777778,
              "#fb9f3a"
             ],
             [
              0.8888888888888888,
              "#fdca26"
             ],
             [
              1,
              "#f0f921"
             ]
            ],
            "type": "contour"
           }
          ],
          "contourcarpet": [
           {
            "colorbar": {
             "outlinewidth": 0,
             "ticks": ""
            },
            "type": "contourcarpet"
           }
          ],
          "heatmap": [
           {
            "colorbar": {
             "outlinewidth": 0,
             "ticks": ""
            },
            "colorscale": [
             [
              0,
              "#0d0887"
             ],
             [
              0.1111111111111111,
              "#46039f"
             ],
             [
              0.2222222222222222,
              "#7201a8"
             ],
             [
              0.3333333333333333,
              "#9c179e"
             ],
             [
              0.4444444444444444,
              "#bd3786"
             ],
             [
              0.5555555555555556,
              "#d8576b"
             ],
             [
              0.6666666666666666,
              "#ed7953"
             ],
             [
              0.7777777777777778,
              "#fb9f3a"
             ],
             [
              0.8888888888888888,
              "#fdca26"
             ],
             [
              1,
              "#f0f921"
             ]
            ],
            "type": "heatmap"
           }
          ],
          "heatmapgl": [
           {
            "colorbar": {
             "outlinewidth": 0,
             "ticks": ""
            },
            "colorscale": [
             [
              0,
              "#0d0887"
             ],
             [
              0.1111111111111111,
              "#46039f"
             ],
             [
              0.2222222222222222,
              "#7201a8"
             ],
             [
              0.3333333333333333,
              "#9c179e"
             ],
             [
              0.4444444444444444,
              "#bd3786"
             ],
             [
              0.5555555555555556,
              "#d8576b"
             ],
             [
              0.6666666666666666,
              "#ed7953"
             ],
             [
              0.7777777777777778,
              "#fb9f3a"
             ],
             [
              0.8888888888888888,
              "#fdca26"
             ],
             [
              1,
              "#f0f921"
             ]
            ],
            "type": "heatmapgl"
           }
          ],
          "histogram": [
           {
            "marker": {
             "pattern": {
              "fillmode": "overlay",
              "size": 10,
              "solidity": 0.2
             }
            },
            "type": "histogram"
           }
          ],
          "histogram2d": [
           {
            "colorbar": {
             "outlinewidth": 0,
             "ticks": ""
            },
            "colorscale": [
             [
              0,
              "#0d0887"
             ],
             [
              0.1111111111111111,
              "#46039f"
             ],
             [
              0.2222222222222222,
              "#7201a8"
             ],
             [
              0.3333333333333333,
              "#9c179e"
             ],
             [
              0.4444444444444444,
              "#bd3786"
             ],
             [
              0.5555555555555556,
              "#d8576b"
             ],
             [
              0.6666666666666666,
              "#ed7953"
             ],
             [
              0.7777777777777778,
              "#fb9f3a"
             ],
             [
              0.8888888888888888,
              "#fdca26"
             ],
             [
              1,
              "#f0f921"
             ]
            ],
            "type": "histogram2d"
           }
          ],
          "histogram2dcontour": [
           {
            "colorbar": {
             "outlinewidth": 0,
             "ticks": ""
            },
            "colorscale": [
             [
              0,
              "#0d0887"
             ],
             [
              0.1111111111111111,
              "#46039f"
             ],
             [
              0.2222222222222222,
              "#7201a8"
             ],
             [
              0.3333333333333333,
              "#9c179e"
             ],
             [
              0.4444444444444444,
              "#bd3786"
             ],
             [
              0.5555555555555556,
              "#d8576b"
             ],
             [
              0.6666666666666666,
              "#ed7953"
             ],
             [
              0.7777777777777778,
              "#fb9f3a"
             ],
             [
              0.8888888888888888,
              "#fdca26"
             ],
             [
              1,
              "#f0f921"
             ]
            ],
            "type": "histogram2dcontour"
           }
          ],
          "mesh3d": [
           {
            "colorbar": {
             "outlinewidth": 0,
             "ticks": ""
            },
            "type": "mesh3d"
           }
          ],
          "parcoords": [
           {
            "line": {
             "colorbar": {
              "outlinewidth": 0,
              "ticks": ""
             }
            },
            "type": "parcoords"
           }
          ],
          "pie": [
           {
            "automargin": true,
            "type": "pie"
           }
          ],
          "scatter": [
           {
            "fillpattern": {
             "fillmode": "overlay",
             "size": 10,
             "solidity": 0.2
            },
            "type": "scatter"
           }
          ],
          "scatter3d": [
           {
            "line": {
             "colorbar": {
              "outlinewidth": 0,
              "ticks": ""
             }
            },
            "marker": {
             "colorbar": {
              "outlinewidth": 0,
              "ticks": ""
             }
            },
            "type": "scatter3d"
           }
          ],
          "scattercarpet": [
           {
            "marker": {
             "colorbar": {
              "outlinewidth": 0,
              "ticks": ""
             }
            },
            "type": "scattercarpet"
           }
          ],
          "scattergeo": [
           {
            "marker": {
             "colorbar": {
              "outlinewidth": 0,
              "ticks": ""
             }
            },
            "type": "scattergeo"
           }
          ],
          "scattergl": [
           {
            "marker": {
             "colorbar": {
              "outlinewidth": 0,
              "ticks": ""
             }
            },
            "type": "scattergl"
           }
          ],
          "scattermapbox": [
           {
            "marker": {
             "colorbar": {
              "outlinewidth": 0,
              "ticks": ""
             }
            },
            "type": "scattermapbox"
           }
          ],
          "scatterpolar": [
           {
            "marker": {
             "colorbar": {
              "outlinewidth": 0,
              "ticks": ""
             }
            },
            "type": "scatterpolar"
           }
          ],
          "scatterpolargl": [
           {
            "marker": {
             "colorbar": {
              "outlinewidth": 0,
              "ticks": ""
             }
            },
            "type": "scatterpolargl"
           }
          ],
          "scatterternary": [
           {
            "marker": {
             "colorbar": {
              "outlinewidth": 0,
              "ticks": ""
             }
            },
            "type": "scatterternary"
           }
          ],
          "surface": [
           {
            "colorbar": {
             "outlinewidth": 0,
             "ticks": ""
            },
            "colorscale": [
             [
              0,
              "#0d0887"
             ],
             [
              0.1111111111111111,
              "#46039f"
             ],
             [
              0.2222222222222222,
              "#7201a8"
             ],
             [
              0.3333333333333333,
              "#9c179e"
             ],
             [
              0.4444444444444444,
              "#bd3786"
             ],
             [
              0.5555555555555556,
              "#d8576b"
             ],
             [
              0.6666666666666666,
              "#ed7953"
             ],
             [
              0.7777777777777778,
              "#fb9f3a"
             ],
             [
              0.8888888888888888,
              "#fdca26"
             ],
             [
              1,
              "#f0f921"
             ]
            ],
            "type": "surface"
           }
          ],
          "table": [
           {
            "cells": {
             "fill": {
              "color": "#EBF0F8"
             },
             "line": {
              "color": "white"
             }
            },
            "header": {
             "fill": {
              "color": "#C8D4E3"
             },
             "line": {
              "color": "white"
             }
            },
            "type": "table"
           }
          ]
         },
         "layout": {
          "annotationdefaults": {
           "arrowcolor": "#2a3f5f",
           "arrowhead": 0,
           "arrowwidth": 1
          },
          "autotypenumbers": "strict",
          "coloraxis": {
           "colorbar": {
            "outlinewidth": 0,
            "ticks": ""
           }
          },
          "colorscale": {
           "diverging": [
            [
             0,
             "#8e0152"
            ],
            [
             0.1,
             "#c51b7d"
            ],
            [
             0.2,
             "#de77ae"
            ],
            [
             0.3,
             "#f1b6da"
            ],
            [
             0.4,
             "#fde0ef"
            ],
            [
             0.5,
             "#f7f7f7"
            ],
            [
             0.6,
             "#e6f5d0"
            ],
            [
             0.7,
             "#b8e186"
            ],
            [
             0.8,
             "#7fbc41"
            ],
            [
             0.9,
             "#4d9221"
            ],
            [
             1,
             "#276419"
            ]
           ],
           "sequential": [
            [
             0,
             "#0d0887"
            ],
            [
             0.1111111111111111,
             "#46039f"
            ],
            [
             0.2222222222222222,
             "#7201a8"
            ],
            [
             0.3333333333333333,
             "#9c179e"
            ],
            [
             0.4444444444444444,
             "#bd3786"
            ],
            [
             0.5555555555555556,
             "#d8576b"
            ],
            [
             0.6666666666666666,
             "#ed7953"
            ],
            [
             0.7777777777777778,
             "#fb9f3a"
            ],
            [
             0.8888888888888888,
             "#fdca26"
            ],
            [
             1,
             "#f0f921"
            ]
           ],
           "sequentialminus": [
            [
             0,
             "#0d0887"
            ],
            [
             0.1111111111111111,
             "#46039f"
            ],
            [
             0.2222222222222222,
             "#7201a8"
            ],
            [
             0.3333333333333333,
             "#9c179e"
            ],
            [
             0.4444444444444444,
             "#bd3786"
            ],
            [
             0.5555555555555556,
             "#d8576b"
            ],
            [
             0.6666666666666666,
             "#ed7953"
            ],
            [
             0.7777777777777778,
             "#fb9f3a"
            ],
            [
             0.8888888888888888,
             "#fdca26"
            ],
            [
             1,
             "#f0f921"
            ]
           ]
          },
          "colorway": [
           "#636efa",
           "#EF553B",
           "#00cc96",
           "#ab63fa",
           "#FFA15A",
           "#19d3f3",
           "#FF6692",
           "#B6E880",
           "#FF97FF",
           "#FECB52"
          ],
          "font": {
           "color": "#2a3f5f"
          },
          "geo": {
           "bgcolor": "white",
           "lakecolor": "white",
           "landcolor": "#E5ECF6",
           "showlakes": true,
           "showland": true,
           "subunitcolor": "white"
          },
          "hoverlabel": {
           "align": "left"
          },
          "hovermode": "closest",
          "mapbox": {
           "style": "light"
          },
          "paper_bgcolor": "white",
          "plot_bgcolor": "#E5ECF6",
          "polar": {
           "angularaxis": {
            "gridcolor": "white",
            "linecolor": "white",
            "ticks": ""
           },
           "bgcolor": "#E5ECF6",
           "radialaxis": {
            "gridcolor": "white",
            "linecolor": "white",
            "ticks": ""
           }
          },
          "scene": {
           "xaxis": {
            "backgroundcolor": "#E5ECF6",
            "gridcolor": "white",
            "gridwidth": 2,
            "linecolor": "white",
            "showbackground": true,
            "ticks": "",
            "zerolinecolor": "white"
           },
           "yaxis": {
            "backgroundcolor": "#E5ECF6",
            "gridcolor": "white",
            "gridwidth": 2,
            "linecolor": "white",
            "showbackground": true,
            "ticks": "",
            "zerolinecolor": "white"
           },
           "zaxis": {
            "backgroundcolor": "#E5ECF6",
            "gridcolor": "white",
            "gridwidth": 2,
            "linecolor": "white",
            "showbackground": true,
            "ticks": "",
            "zerolinecolor": "white"
           }
          },
          "shapedefaults": {
           "line": {
            "color": "#2a3f5f"
           }
          },
          "ternary": {
           "aaxis": {
            "gridcolor": "white",
            "linecolor": "white",
            "ticks": ""
           },
           "baxis": {
            "gridcolor": "white",
            "linecolor": "white",
            "ticks": ""
           },
           "bgcolor": "#E5ECF6",
           "caxis": {
            "gridcolor": "white",
            "linecolor": "white",
            "ticks": ""
           }
          },
          "title": {
           "x": 0.05
          },
          "xaxis": {
           "automargin": true,
           "gridcolor": "white",
           "linecolor": "white",
           "ticks": "",
           "title": {
            "standoff": 15
           },
           "zerolinecolor": "white",
           "zerolinewidth": 2
          },
          "yaxis": {
           "automargin": true,
           "gridcolor": "white",
           "linecolor": "white",
           "ticks": "",
           "title": {
            "standoff": 15
           },
           "zerolinecolor": "white",
           "zerolinewidth": 2
          }
         }
        },
        "xaxis": {
         "anchor": "y",
         "domain": [
          0,
          1
         ],
         "title": {
          "text": "fiscal_year"
         }
        },
        "yaxis": {
         "anchor": "x",
         "domain": [
          0,
          1
         ],
         "title": {
          "text": "margin_rate"
         }
        }
       }
      }
     },
     "metadata": {},
     "output_type": "display_data"
    }
   ],
   "source": [
    "\n",
    "\n",
    "fig = px.scatter(margins_df,\n",
    "                 x='fiscal_year',\n",
    "                 y='margin_rate')\n",
    "\n",
    "fig.show()"
   ]
  },
  {
   "cell_type": "code",
   "execution_count": null,
   "metadata": {},
   "outputs": [],
   "source": []
  }
 ],
 "metadata": {
  "kernelspec": {
   "display_name": "Tripleten",
   "language": "python",
   "name": "python3"
  },
  "language_info": {
   "codemirror_mode": {
    "name": "ipython",
    "version": 3
   },
   "file_extension": ".py",
   "mimetype": "text/x-python",
   "name": "python",
   "nbconvert_exporter": "python",
   "pygments_lexer": "ipython3",
   "version": "3.10.14"
  }
 },
 "nbformat": 4,
 "nbformat_minor": 2
}

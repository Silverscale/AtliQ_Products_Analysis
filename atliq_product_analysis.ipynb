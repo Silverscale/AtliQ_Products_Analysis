{
 "cells": [
  {
   "cell_type": "markdown",
   "metadata": {},
   "source": [
    "# AtliQ Products Analysis"
   ]
  },
  {
   "cell_type": "markdown",
   "metadata": {},
   "source": [
    "## Contents\n",
    "\n",
    "1. [Introduction](#introduction)\n",
    "2. [Data loading and preprocessing](#data-loading-and-preprocessing)\n",
    "    - [Import libraries](#libraries)\n",
    "    - [Load/Download database](#loaddownload-database)\n",
    "    - [Helper functions](#helper-functions)\n",
    "    - [Basic tables info](#basic-tables-info)\n",
    "    - [Missing values](#missing-values)\n",
    "    - [Duplicates](#duplicates)\n",
    "    - [Other](#other)\n",
    "3. [Analysis](#analysis)\n",
    "    1. [Finding the bestsellers](#finding-the-bestsellers)\n",
    "    2. [Popularity across time and markets](#popularity-across-time-and-markets)\n",
    "    3. [Variant sales]\n",
    "    4. [Division sales]\n",
    "    5. [Product margin]\n",
    "    6. [Price vs cost]\n",
    "4. [Conclusion]\n",
    "\n",
    "---"
   ]
  },
  {
   "cell_type": "markdown",
   "metadata": {},
   "source": [
    "## Introduction"
   ]
  },
  {
   "cell_type": "markdown",
   "metadata": {},
   "source": [
    "Our team has been commissioned by AtliQ Hardware to conduct a thorough analysis of their product portfolio and sales data.\n",
    "\n",
    "As a prominent computer hardware producer in India, AtliQ is keen on enhancing their understanding of product performance. This analysis aims to identify top-selling products, uncover trends, and develop strategies to optimize sales and market share."
   ]
  },
  {
   "cell_type": "markdown",
   "metadata": {},
   "source": [
    "The primary objective of this research is to analyze AtliQ Hardware's product portfolio and sales data to better understand product performance and identify strategies for optimizing sales. We aim to answer these key questions:\n",
    "- Which items are the bestsellers?\n",
    "- How has popularity changed over time/across markets?\n",
    "- Are there some variants that contribute a disproportionate amount to the product sales?\n",
    "- Are some channels responsible for a large portion of a division’s sales?\n",
    "- What are the products with the best/worst margin?\n",
    "- Is gross price keeping up with manufacturing costs?\n",
    "\n",
    "Through this analysis, our goal is to provide AtliQ Hardware with actionable insights and recommendations to help drive business growth."
   ]
  },
  {
   "cell_type": "markdown",
   "metadata": {},
   "source": [
    "[Back to Contents](#contents)\n",
    "\n",
    "---"
   ]
  },
  {
   "cell_type": "markdown",
   "metadata": {},
   "source": [
    "## Data loading and Preprocessing"
   ]
  },
  {
   "cell_type": "markdown",
   "metadata": {},
   "source": [
    "### Libraries\n",
    "These are the libraries that we are going to use for this project:"
   ]
  },
  {
   "cell_type": "code",
   "execution_count": 1,
   "metadata": {
    "metadata": {}
   },
   "outputs": [],
   "source": [
    "import pandas as pd\n",
    "import sqlite3\n",
    "import os\n",
    "import requests\n",
    "import shutil\n",
    "import seaborn as sns\n",
    "import matplotlib.pyplot as plt\n",
    "import plotly.express as px"
   ]
  },
  {
   "cell_type": "markdown",
   "metadata": {},
   "source": [
    "[Back to Contents](#contents)\n",
    "\n",
    "---"
   ]
  },
  {
   "cell_type": "markdown",
   "metadata": {},
   "source": [
    "### Load/Download database"
   ]
  },
  {
   "cell_type": "markdown",
   "metadata": {},
   "source": [
    "We have access to an SQLite database with data on products, clients and sales. \n",
    "\n",
    "First let's check that it exists, and if doesn't, we'll download it."
   ]
  },
  {
   "cell_type": "code",
   "execution_count": 2,
   "metadata": {},
   "outputs": [],
   "source": [
    "# Local path to the Database\n",
    "db_directory_path = 'Data'\n",
    "db_file_path = os.path.join(db_directory_path, 'atliq_db.sqlite3')\n"
   ]
  },
  {
   "cell_type": "code",
   "execution_count": 3,
   "metadata": {},
   "outputs": [],
   "source": [
    "# Check if directory exists. If it doesn't, create it\n",
    "if not os.path.exists(db_directory_path):\n",
    "    os.makedirs(db_directory_path)\n"
   ]
  },
  {
   "cell_type": "code",
   "execution_count": 4,
   "metadata": {
    "metadata": {}
   },
   "outputs": [
    {
     "name": "stdout",
     "output_type": "stream",
     "text": [
      "Database found.\n"
     ]
    }
   ],
   "source": [
    "# Check if file exists. If it doesn't, download it\n",
    "if not os.path.exists(db_file_path):\n",
    "    print('Database not found. Downloading the file...')\n",
    "\n",
    "    db_url = 'https://practicum-content.s3.us-west-1.amazonaws.com/data-eng/databases/atliq_db.sqlite3'\n",
    "    \n",
    "    response = requests.get(db_url)\n",
    "    with open(db_file_path, 'wb') as f:\n",
    "        f.write(response.content)\n",
    "    \n",
    "    print('Database downloaded successfully!')\n",
    "else:\n",
    "    print('Database found.')\n"
   ]
  },
  {
   "cell_type": "markdown",
   "metadata": {},
   "source": [
    "We have our database. But we don't want to directly change the raw data, and we will be working directly with the database as much as possible. So we'll make a copy and modify that instead."
   ]
  },
  {
   "cell_type": "code",
   "execution_count": 5,
   "metadata": {
    "metadata": {}
   },
   "outputs": [
    {
     "name": "stdout",
     "output_type": "stream",
     "text": [
      "Previous copy found.\n"
     ]
    }
   ],
   "source": [
    "# Check if the copy exists\n",
    "work_db_path = os.path.join(db_directory_path, 'atliq_db_processed.sqlite3')\n",
    "\n",
    "work_db_found = False\n",
    "if os.path.exists(work_db_path):\n",
    "    work_db_found = True\n",
    "    print('Previous copy found.')\n",
    "else:\n",
    "    shutil.copyfile(db_file_path, work_db_path)\n",
    "    print('Database duplicated.')\n"
   ]
  },
  {
   "cell_type": "markdown",
   "metadata": {},
   "source": [
    "We can now connect to our working copy and start processing it. If we found that the copy already exists, we can assume that it is already processed, and we can skip those steps."
   ]
  },
  {
   "cell_type": "code",
   "execution_count": 6,
   "metadata": {},
   "outputs": [],
   "source": [
    "# Connect to the DB\n",
    "con = sqlite3.connect(work_db_path)"
   ]
  },
  {
   "cell_type": "markdown",
   "metadata": {},
   "source": [
    "Let's check that we have access to the tables that we are supposed to."
   ]
  },
  {
   "cell_type": "code",
   "execution_count": 7,
   "metadata": {
    "metadata": {}
   },
   "outputs": [
    {
     "name": "stdout",
     "output_type": "stream",
     "text": [
      "('dim_customer',)\n",
      "('dim_product',)\n",
      "('fact_pre_discount',)\n",
      "('fact_manufacturing_cost',)\n",
      "('fact_gross_price',)\n",
      "('fact_sales_monthly',)\n"
     ]
    }
   ],
   "source": [
    "# Check all tables\n",
    "cursor = con.cursor()\n",
    "cursor.execute(\"SELECT name FROM sqlite_master WHERE type='table';\")\n",
    "print(*cursor.fetchall(), sep='\\n')"
   ]
  },
  {
   "cell_type": "markdown",
   "metadata": {},
   "source": [
    "[Back to contents](#contents)\n",
    "\n",
    "---"
   ]
  },
  {
   "cell_type": "markdown",
   "metadata": {},
   "source": [
    "### Helper functions"
   ]
  },
  {
   "cell_type": "markdown",
   "metadata": {},
   "source": [
    "Lets check for missing values. We can't load the whole tables into pandas, so we'll have to rely only on SQL queries.\n",
    "\n",
    "Lets build a function to help us, similar to pandas info().\n",
    "\n",
    "We want to display the following:\n",
    "- Table name\n",
    "- Row count\n",
    "- Column info, including name, type, null count, and Primary Key status."
   ]
  },
  {
   "cell_type": "code",
   "execution_count": 8,
   "metadata": {},
   "outputs": [],
   "source": [
    "# Count rows in the table\n",
    "def row_count(table: str):\n",
    "    query = \"\"\"\n",
    "    SELECT COUNT(*)\n",
    "    from fact_sales_monthly\n",
    "    \"\"\"\n",
    "\n",
    "    cursor.execute(query)\n",
    "    return cursor.fetchone()[0]"
   ]
  },
  {
   "cell_type": "code",
   "execution_count": 9,
   "metadata": {},
   "outputs": [],
   "source": [
    "# Find Null values in a column\n",
    "def count_nulls_in_column(column: str, table: str):\n",
    "    query = f\"\"\"\n",
    "    SELECT COUNT(*)\n",
    "    FROM {table}\n",
    "    WHERE {column} IS NULL\n",
    "    \"\"\"\n",
    "\n",
    "    cursor.execute(query)\n",
    "    return cursor.fetchone()[0]"
   ]
  },
  {
   "cell_type": "code",
   "execution_count": 10,
   "metadata": {},
   "outputs": [],
   "source": [
    "# Get all the column names from a table\n",
    "def get_column_names(table: str):\n",
    "    query = f\"\"\"\n",
    "    PRAGMA table_info({table}) \n",
    "    \"\"\"\n",
    "\n",
    "    cursor.execute(query)\n",
    "    result = cursor.fetchall()\n",
    "    name_pos_in_row = 1\n",
    "\n",
    "    column_names = []\n",
    "    for row in result:\n",
    "        column_names.append(row[name_pos_in_row])\n",
    "\n",
    "    return column_names"
   ]
  },
  {
   "cell_type": "code",
   "execution_count": 11,
   "metadata": {},
   "outputs": [],
   "source": [
    "# Check missing values in all columns of the table\n",
    "def check_nulls(table: str):\n",
    "    column_names = get_column_names(table)\n",
    "    null_counts = []\n",
    "    for column in column_names:\n",
    "        null_counts.append((column, count_nulls_in_column(column, table)))\n",
    "\n",
    "    return null_counts"
   ]
  },
  {
   "cell_type": "code",
   "execution_count": 12,
   "metadata": {},
   "outputs": [],
   "source": [
    "def table_schema(table: str):\n",
    "    query = f\"\"\"\n",
    "    PRAGMA table_info({table})\n",
    "    \"\"\"\n",
    "\n",
    "    return pd.read_sql_query(query, con)[['name', 'type', 'pk']]\n"
   ]
  },
  {
   "cell_type": "code",
   "execution_count": 13,
   "metadata": {},
   "outputs": [],
   "source": [
    "def get_table_info(table: str):\n",
    "    print(f'Table: {table}')\n",
    "    print(f'Rows: {row_count(table)}')\n",
    "    null_count = check_nulls(table)\n",
    "    schema = table_schema(table)\n",
    "    schema['nulls'] = [t[1] for t in null_count]\n",
    "    display(schema)"
   ]
  },
  {
   "cell_type": "markdown",
   "metadata": {},
   "source": [
    "To find duplicates, we'll compare the row count of a regular `SELECT` vs a `SELECT DISTINCT`, using relevant columns for each table."
   ]
  },
  {
   "cell_type": "code",
   "execution_count": 14,
   "metadata": {},
   "outputs": [],
   "source": [
    "def count_duplicates(table: str, list_cols: list, verbose=True):\n",
    "\n",
    "    columns = ', '.join(list_cols)\n",
    "\n",
    "    query = f\"\"\"\n",
    "    SELECT COUNT(*)\n",
    "    FROM {table}\n",
    "    \"\"\"\n",
    "    cursor.execute(query)\n",
    "    sel = cursor.fetchone()[0]\n",
    "\n",
    "    query = f\"\"\"\n",
    "    SELECT DISTINCT COUNT(*)\n",
    "    FROM (\n",
    "        SELECT DISTINCT {columns}\n",
    "        FROM {table}\n",
    "    )\n",
    "    \"\"\"\n",
    "    cursor.execute(query)\n",
    "    dis = cursor.fetchone()[0]\n",
    "    duplicate_count = sel - dis\n",
    "\n",
    "    if verbose:\n",
    "        print(f'Table: {table}')\n",
    "        print(f'Duplicates found: {duplicate_count}')\n",
    "    return(duplicate_count)\n"
   ]
  },
  {
   "cell_type": "markdown",
   "metadata": {},
   "source": [
    "[Back to Contents](#contents)\n",
    "\n",
    "---"
   ]
  },
  {
   "cell_type": "markdown",
   "metadata": {},
   "source": [
    "### Basic tables info"
   ]
  },
  {
   "cell_type": "markdown",
   "metadata": {},
   "source": [
    "With our function ready, lets check the info on our tables."
   ]
  },
  {
   "cell_type": "code",
   "execution_count": 15,
   "metadata": {
    "metadata": {}
   },
   "outputs": [
    {
     "name": "stdout",
     "output_type": "stream",
     "text": [
      "Table: dim_customer\n",
      "Rows: 67250\n"
     ]
    },
    {
     "data": {
      "text/html": [
       "<div>\n",
       "<style scoped>\n",
       "    .dataframe tbody tr th:only-of-type {\n",
       "        vertical-align: middle;\n",
       "    }\n",
       "\n",
       "    .dataframe tbody tr th {\n",
       "        vertical-align: top;\n",
       "    }\n",
       "\n",
       "    .dataframe thead th {\n",
       "        text-align: right;\n",
       "    }\n",
       "</style>\n",
       "<table border=\"1\" class=\"dataframe\">\n",
       "  <thead>\n",
       "    <tr style=\"text-align: right;\">\n",
       "      <th></th>\n",
       "      <th>name</th>\n",
       "      <th>type</th>\n",
       "      <th>pk</th>\n",
       "      <th>nulls</th>\n",
       "    </tr>\n",
       "  </thead>\n",
       "  <tbody>\n",
       "    <tr>\n",
       "      <th>0</th>\n",
       "      <td>customer_code</td>\n",
       "      <td>INTEGER</td>\n",
       "      <td>0</td>\n",
       "      <td>0</td>\n",
       "    </tr>\n",
       "    <tr>\n",
       "      <th>1</th>\n",
       "      <td>customer</td>\n",
       "      <td>TEXT</td>\n",
       "      <td>0</td>\n",
       "      <td>0</td>\n",
       "    </tr>\n",
       "    <tr>\n",
       "      <th>2</th>\n",
       "      <td>platform</td>\n",
       "      <td>TEXT</td>\n",
       "      <td>0</td>\n",
       "      <td>0</td>\n",
       "    </tr>\n",
       "    <tr>\n",
       "      <th>3</th>\n",
       "      <td>channel</td>\n",
       "      <td>TEXT</td>\n",
       "      <td>0</td>\n",
       "      <td>0</td>\n",
       "    </tr>\n",
       "    <tr>\n",
       "      <th>4</th>\n",
       "      <td>market</td>\n",
       "      <td>TEXT</td>\n",
       "      <td>0</td>\n",
       "      <td>0</td>\n",
       "    </tr>\n",
       "    <tr>\n",
       "      <th>5</th>\n",
       "      <td>sub_zone</td>\n",
       "      <td>TEXT</td>\n",
       "      <td>0</td>\n",
       "      <td>0</td>\n",
       "    </tr>\n",
       "    <tr>\n",
       "      <th>6</th>\n",
       "      <td>region</td>\n",
       "      <td>TEXT</td>\n",
       "      <td>0</td>\n",
       "      <td>0</td>\n",
       "    </tr>\n",
       "  </tbody>\n",
       "</table>\n",
       "</div>"
      ],
      "text/plain": [
       "            name     type  pk  nulls\n",
       "0  customer_code  INTEGER   0      0\n",
       "1       customer     TEXT   0      0\n",
       "2       platform     TEXT   0      0\n",
       "3        channel     TEXT   0      0\n",
       "4         market     TEXT   0      0\n",
       "5       sub_zone     TEXT   0      0\n",
       "6         region     TEXT   0      0"
      ]
     },
     "metadata": {},
     "output_type": "display_data"
    },
    {
     "data": {
      "text/plain": [
       "None"
      ]
     },
     "metadata": {},
     "output_type": "display_data"
    },
    {
     "name": "stdout",
     "output_type": "stream",
     "text": [
      "(70002017, 'Atliq Exclusive', 'Brick & Mortar', 'Direct', 'India', 'India', 'APAC')\n",
      "(70002018, 'Atliq e Store', 'E-Commerce', 'Direct', 'India', 'India', 'APAC')\n",
      "(70003181, 'Atliq Exclusive', 'Brick & Mortar', 'Direct', 'Indonesia', 'ROA', 'APAC')\n",
      "(70003182, 'Atliq e Store', 'E-Commerce', 'Direct', 'Indonesia', 'ROA', 'APAC')\n",
      "(70004069, 'Atliq Exclusive', 'Brick & Mortar', 'Direct', 'Japan', 'ROA', 'APAC')\n"
     ]
    }
   ],
   "source": [
    "display(get_table_info('dim_customer'))\n",
    "cursor.execute(\"SELECT * FROM dim_customer LIMIT 5\")\n",
    "print(*cursor.fetchall(), sep='\\n')"
   ]
  },
  {
   "cell_type": "code",
   "execution_count": 16,
   "metadata": {
    "metadata": {}
   },
   "outputs": [
    {
     "name": "stdout",
     "output_type": "stream",
     "text": [
      "Table: dim_product\n",
      "Rows: 67250\n"
     ]
    },
    {
     "data": {
      "text/html": [
       "<div>\n",
       "<style scoped>\n",
       "    .dataframe tbody tr th:only-of-type {\n",
       "        vertical-align: middle;\n",
       "    }\n",
       "\n",
       "    .dataframe tbody tr th {\n",
       "        vertical-align: top;\n",
       "    }\n",
       "\n",
       "    .dataframe thead th {\n",
       "        text-align: right;\n",
       "    }\n",
       "</style>\n",
       "<table border=\"1\" class=\"dataframe\">\n",
       "  <thead>\n",
       "    <tr style=\"text-align: right;\">\n",
       "      <th></th>\n",
       "      <th>name</th>\n",
       "      <th>type</th>\n",
       "      <th>pk</th>\n",
       "      <th>nulls</th>\n",
       "    </tr>\n",
       "  </thead>\n",
       "  <tbody>\n",
       "    <tr>\n",
       "      <th>0</th>\n",
       "      <td>product_code</td>\n",
       "      <td>TEXT</td>\n",
       "      <td>0</td>\n",
       "      <td>0</td>\n",
       "    </tr>\n",
       "    <tr>\n",
       "      <th>1</th>\n",
       "      <td>division</td>\n",
       "      <td>TEXT</td>\n",
       "      <td>0</td>\n",
       "      <td>0</td>\n",
       "    </tr>\n",
       "    <tr>\n",
       "      <th>2</th>\n",
       "      <td>segment</td>\n",
       "      <td>TEXT</td>\n",
       "      <td>0</td>\n",
       "      <td>0</td>\n",
       "    </tr>\n",
       "    <tr>\n",
       "      <th>3</th>\n",
       "      <td>category</td>\n",
       "      <td>TEXT</td>\n",
       "      <td>0</td>\n",
       "      <td>0</td>\n",
       "    </tr>\n",
       "    <tr>\n",
       "      <th>4</th>\n",
       "      <td>product</td>\n",
       "      <td>TEXT</td>\n",
       "      <td>0</td>\n",
       "      <td>0</td>\n",
       "    </tr>\n",
       "    <tr>\n",
       "      <th>5</th>\n",
       "      <td>variant</td>\n",
       "      <td>TEXT</td>\n",
       "      <td>0</td>\n",
       "      <td>0</td>\n",
       "    </tr>\n",
       "    <tr>\n",
       "      <th>6</th>\n",
       "      <td>display_name</td>\n",
       "      <td>VARCHAR(15)</td>\n",
       "      <td>0</td>\n",
       "      <td>379</td>\n",
       "    </tr>\n",
       "  </tbody>\n",
       "</table>\n",
       "</div>"
      ],
      "text/plain": [
       "           name         type  pk  nulls\n",
       "0  product_code         TEXT   0      0\n",
       "1      division         TEXT   0      0\n",
       "2       segment         TEXT   0      0\n",
       "3      category         TEXT   0      0\n",
       "4       product         TEXT   0      0\n",
       "5       variant         TEXT   0      0\n",
       "6  display_name  VARCHAR(15)   0    379"
      ]
     },
     "metadata": {},
     "output_type": "display_data"
    },
    {
     "name": "stdout",
     "output_type": "stream",
     "text": [
      "('A0118150101', 'P & A', 'Peripherals', 'Internal HDD', 'AQ Dracula HDD – 3.5 Inch SATA 6 Gb/s 5400 RPM 256 MB Cache', 'Standard', 'AQ Dracula HDD')\n",
      "('A0118150102', 'P & A', 'Peripherals', 'Internal HDD', 'AQ Dracula HDD – 3.5 Inch SATA 6 Gb/s 5400 RPM 256 MB Cache', 'Plus', 'AQ Dracula HDD')\n",
      "('A0118150103', 'P & A', 'Peripherals', 'Internal HDD', 'AQ Dracula HDD – 3.5 Inch SATA 6 Gb/s 5400 RPM 256 MB Cache', 'Premium', 'AQ Dracula HDD')\n",
      "('A0118150104', 'P & A', 'Peripherals', 'Internal HDD', 'AQ Dracula HDD – 3.5 Inch SATA 6 Gb/s 5400 RPM 256 MB Cache', 'Premium Plus', 'AQ Dracula HDD')\n",
      "('A0219150201', 'P & A', 'Peripherals', 'Internal HDD', 'AQ WereWolf NAS Internal Hard Drive HDD – 8.89 cm', 'Standard', 'AQ Werewolf NAS')\n"
     ]
    }
   ],
   "source": [
    "get_table_info('dim_product')\n",
    "cursor.execute(\"SELECT * FROM dim_product LIMIT 5\")\n",
    "print(*cursor.fetchall(), sep='\\n')"
   ]
  },
  {
   "cell_type": "code",
   "execution_count": 17,
   "metadata": {
    "metadata": {}
   },
   "outputs": [
    {
     "name": "stdout",
     "output_type": "stream",
     "text": [
      "Table: fact_pre_discount\n",
      "Rows: 67250\n"
     ]
    },
    {
     "data": {
      "text/html": [
       "<div>\n",
       "<style scoped>\n",
       "    .dataframe tbody tr th:only-of-type {\n",
       "        vertical-align: middle;\n",
       "    }\n",
       "\n",
       "    .dataframe tbody tr th {\n",
       "        vertical-align: top;\n",
       "    }\n",
       "\n",
       "    .dataframe thead th {\n",
       "        text-align: right;\n",
       "    }\n",
       "</style>\n",
       "<table border=\"1\" class=\"dataframe\">\n",
       "  <thead>\n",
       "    <tr style=\"text-align: right;\">\n",
       "      <th></th>\n",
       "      <th>name</th>\n",
       "      <th>type</th>\n",
       "      <th>pk</th>\n",
       "      <th>nulls</th>\n",
       "    </tr>\n",
       "  </thead>\n",
       "  <tbody>\n",
       "    <tr>\n",
       "      <th>0</th>\n",
       "      <td>customer_code</td>\n",
       "      <td>INTEGER</td>\n",
       "      <td>0</td>\n",
       "      <td>0</td>\n",
       "    </tr>\n",
       "    <tr>\n",
       "      <th>1</th>\n",
       "      <td>fiscal_year</td>\n",
       "      <td>INTEGER</td>\n",
       "      <td>0</td>\n",
       "      <td>0</td>\n",
       "    </tr>\n",
       "    <tr>\n",
       "      <th>2</th>\n",
       "      <td>pre_invoice_discount_pct</td>\n",
       "      <td>float</td>\n",
       "      <td>0</td>\n",
       "      <td>0</td>\n",
       "    </tr>\n",
       "  </tbody>\n",
       "</table>\n",
       "</div>"
      ],
      "text/plain": [
       "                       name     type  pk  nulls\n",
       "0             customer_code  INTEGER   0      0\n",
       "1               fiscal_year  INTEGER   0      0\n",
       "2  pre_invoice_discount_pct    float   0      0"
      ]
     },
     "metadata": {},
     "output_type": "display_data"
    },
    {
     "name": "stdout",
     "output_type": "stream",
     "text": [
      "(70002017, 2018, 0.0824)\n",
      "(70002017, 2019, 0.0777)\n",
      "(70002017, 2020, 0.0735)\n",
      "(70002017, 2021, 0.0703)\n",
      "(70002017, 2022, 0.1057)\n"
     ]
    }
   ],
   "source": [
    "get_table_info('fact_pre_discount')\n",
    "cursor.execute(\"SELECT * FROM fact_pre_discount LIMIT 5\")\n",
    "print(*cursor.fetchall(), sep='\\n')"
   ]
  },
  {
   "cell_type": "code",
   "execution_count": 18,
   "metadata": {
    "metadata": {}
   },
   "outputs": [
    {
     "name": "stdout",
     "output_type": "stream",
     "text": [
      "Table: fact_manufacturing_cost\n",
      "Rows: 67250\n"
     ]
    },
    {
     "data": {
      "text/html": [
       "<div>\n",
       "<style scoped>\n",
       "    .dataframe tbody tr th:only-of-type {\n",
       "        vertical-align: middle;\n",
       "    }\n",
       "\n",
       "    .dataframe tbody tr th {\n",
       "        vertical-align: top;\n",
       "    }\n",
       "\n",
       "    .dataframe thead th {\n",
       "        text-align: right;\n",
       "    }\n",
       "</style>\n",
       "<table border=\"1\" class=\"dataframe\">\n",
       "  <thead>\n",
       "    <tr style=\"text-align: right;\">\n",
       "      <th></th>\n",
       "      <th>name</th>\n",
       "      <th>type</th>\n",
       "      <th>pk</th>\n",
       "      <th>nulls</th>\n",
       "    </tr>\n",
       "  </thead>\n",
       "  <tbody>\n",
       "    <tr>\n",
       "      <th>0</th>\n",
       "      <td>product_code</td>\n",
       "      <td>TEXT</td>\n",
       "      <td>0</td>\n",
       "      <td>0</td>\n",
       "    </tr>\n",
       "    <tr>\n",
       "      <th>1</th>\n",
       "      <td>cost_year</td>\n",
       "      <td>INTEGER</td>\n",
       "      <td>0</td>\n",
       "      <td>0</td>\n",
       "    </tr>\n",
       "    <tr>\n",
       "      <th>2</th>\n",
       "      <td>manufacturing_cost</td>\n",
       "      <td>float</td>\n",
       "      <td>0</td>\n",
       "      <td>0</td>\n",
       "    </tr>\n",
       "  </tbody>\n",
       "</table>\n",
       "</div>"
      ],
      "text/plain": [
       "                 name     type  pk  nulls\n",
       "0        product_code     TEXT   0      0\n",
       "1           cost_year  INTEGER   0      0\n",
       "2  manufacturing_cost    float   0      0"
      ]
     },
     "metadata": {},
     "output_type": "display_data"
    },
    {
     "name": "stdout",
     "output_type": "stream",
     "text": [
      "('A0118150101', 2018, 4.619)\n",
      "('A0118150101', 2019, 4.2033)\n",
      "('A0118150101', 2020, 5.0207)\n",
      "('A0118150101', 2021, 5.5172)\n",
      "('A0118150102', 2018, 5.6036)\n"
     ]
    }
   ],
   "source": [
    "get_table_info('fact_manufacturing_cost')\n",
    "cursor.execute(\"SELECT * FROM fact_manufacturing_cost LIMIT 5\")\n",
    "print(*cursor.fetchall(), sep='\\n')"
   ]
  },
  {
   "cell_type": "code",
   "execution_count": 19,
   "metadata": {
    "metadata": {}
   },
   "outputs": [
    {
     "name": "stdout",
     "output_type": "stream",
     "text": [
      "Table: fact_gross_price\n",
      "Rows: 67250\n"
     ]
    },
    {
     "data": {
      "text/html": [
       "<div>\n",
       "<style scoped>\n",
       "    .dataframe tbody tr th:only-of-type {\n",
       "        vertical-align: middle;\n",
       "    }\n",
       "\n",
       "    .dataframe tbody tr th {\n",
       "        vertical-align: top;\n",
       "    }\n",
       "\n",
       "    .dataframe thead th {\n",
       "        text-align: right;\n",
       "    }\n",
       "</style>\n",
       "<table border=\"1\" class=\"dataframe\">\n",
       "  <thead>\n",
       "    <tr style=\"text-align: right;\">\n",
       "      <th></th>\n",
       "      <th>name</th>\n",
       "      <th>type</th>\n",
       "      <th>pk</th>\n",
       "      <th>nulls</th>\n",
       "    </tr>\n",
       "  </thead>\n",
       "  <tbody>\n",
       "    <tr>\n",
       "      <th>0</th>\n",
       "      <td>product_code</td>\n",
       "      <td>TEXT</td>\n",
       "      <td>0</td>\n",
       "      <td>0</td>\n",
       "    </tr>\n",
       "    <tr>\n",
       "      <th>1</th>\n",
       "      <td>fiscal_year</td>\n",
       "      <td>INTEGER</td>\n",
       "      <td>0</td>\n",
       "      <td>0</td>\n",
       "    </tr>\n",
       "    <tr>\n",
       "      <th>2</th>\n",
       "      <td>gross_price</td>\n",
       "      <td>float</td>\n",
       "      <td>0</td>\n",
       "      <td>0</td>\n",
       "    </tr>\n",
       "  </tbody>\n",
       "</table>\n",
       "</div>"
      ],
      "text/plain": [
       "           name     type  pk  nulls\n",
       "0  product_code     TEXT   0      0\n",
       "1   fiscal_year  INTEGER   0      0\n",
       "2   gross_price    float   0      0"
      ]
     },
     "metadata": {},
     "output_type": "display_data"
    },
    {
     "name": "stdout",
     "output_type": "stream",
     "text": [
      "('A0118150101', 2018, 15.3952)\n",
      "('A0118150101', 2019, 14.4392)\n",
      "('A0118150101', 2020, 16.2323)\n",
      "('A0118150101', 2021, 19.0573)\n",
      "('A0118150102', 2018, 19.5875)\n"
     ]
    }
   ],
   "source": [
    "get_table_info('fact_gross_price')\n",
    "cursor.execute(\"SELECT * FROM fact_gross_price LIMIT 5\")\n",
    "print(*cursor.fetchall(), sep='\\n')"
   ]
  },
  {
   "cell_type": "code",
   "execution_count": 20,
   "metadata": {
    "metadata": {}
   },
   "outputs": [
    {
     "name": "stdout",
     "output_type": "stream",
     "text": [
      "Table: fact_sales_monthly\n",
      "Rows: 67250\n"
     ]
    },
    {
     "data": {
      "text/html": [
       "<div>\n",
       "<style scoped>\n",
       "    .dataframe tbody tr th:only-of-type {\n",
       "        vertical-align: middle;\n",
       "    }\n",
       "\n",
       "    .dataframe tbody tr th {\n",
       "        vertical-align: top;\n",
       "    }\n",
       "\n",
       "    .dataframe thead th {\n",
       "        text-align: right;\n",
       "    }\n",
       "</style>\n",
       "<table border=\"1\" class=\"dataframe\">\n",
       "  <thead>\n",
       "    <tr style=\"text-align: right;\">\n",
       "      <th></th>\n",
       "      <th>name</th>\n",
       "      <th>type</th>\n",
       "      <th>pk</th>\n",
       "      <th>nulls</th>\n",
       "    </tr>\n",
       "  </thead>\n",
       "  <tbody>\n",
       "    <tr>\n",
       "      <th>0</th>\n",
       "      <td>date</td>\n",
       "      <td>TEXT</td>\n",
       "      <td>0</td>\n",
       "      <td>0</td>\n",
       "    </tr>\n",
       "    <tr>\n",
       "      <th>1</th>\n",
       "      <td>product_code</td>\n",
       "      <td>TEXT</td>\n",
       "      <td>0</td>\n",
       "      <td>0</td>\n",
       "    </tr>\n",
       "    <tr>\n",
       "      <th>2</th>\n",
       "      <td>customer_code</td>\n",
       "      <td>INTEGER</td>\n",
       "      <td>0</td>\n",
       "      <td>0</td>\n",
       "    </tr>\n",
       "    <tr>\n",
       "      <th>3</th>\n",
       "      <td>sold_quantity</td>\n",
       "      <td>INTEGER</td>\n",
       "      <td>0</td>\n",
       "      <td>0</td>\n",
       "    </tr>\n",
       "    <tr>\n",
       "      <th>4</th>\n",
       "      <td>fiscal_year</td>\n",
       "      <td>INTEGER</td>\n",
       "      <td>0</td>\n",
       "      <td>0</td>\n",
       "    </tr>\n",
       "  </tbody>\n",
       "</table>\n",
       "</div>"
      ],
      "text/plain": [
       "            name     type  pk  nulls\n",
       "0           date     TEXT   0      0\n",
       "1   product_code     TEXT   0      0\n",
       "2  customer_code  INTEGER   0      0\n",
       "3  sold_quantity  INTEGER   0      0\n",
       "4    fiscal_year  INTEGER   0      0"
      ]
     },
     "metadata": {},
     "output_type": "display_data"
    },
    {
     "name": "stdout",
     "output_type": "stream",
     "text": [
      "('2017-09-01', 'A0118150101', 70002017, 51, 2018)\n",
      "('2017-09-01', 'A0118150101', 70002018, 77, 2018)\n",
      "('2017-09-01', 'A0118150101', 70003181, 17, 2018)\n",
      "('2017-09-01', 'A0118150101', 70003182, 6, 2018)\n",
      "('2017-09-01', 'A0118150101', 70006157, 5, 2018)\n"
     ]
    }
   ],
   "source": [
    "get_table_info('fact_sales_monthly')\n",
    "cursor.execute(\"SELECT * FROM fact_sales_monthly LIMIT 5\")\n",
    "print(*cursor.fetchall(), sep='\\n')"
   ]
  },
  {
   "cell_type": "markdown",
   "metadata": {},
   "source": [
    "There is only one missing value in the whole database. \n",
    "\n",
    "Curiously, none of the tables have primary keys declared. "
   ]
  },
  {
   "cell_type": "markdown",
   "metadata": {},
   "source": [
    "The product names are too long. Let's create shorter display names."
   ]
  },
  {
   "cell_type": "code",
   "execution_count": 21,
   "metadata": {},
   "outputs": [
    {
     "name": "stdout",
     "output_type": "stream",
     "text": [
      "('AQ Dracula HDD – 3.5 Inch SATA 6 Gb/s 5400 RPM 256 MB Cache',)\n",
      "('AQ WereWolf NAS Internal Hard Drive HDD – 8.89 cm',)\n",
      "('AQ Zion Saga',)\n",
      "('AQ Mforce Gen X',)\n"
     ]
    }
   ],
   "source": [
    "# Checking which products are used\n",
    "query = \"\"\"\n",
    "SELECT DISTINCT product\n",
    "FROM dim_product JOIN fact_sales_monthly USING (product_code)\n",
    "\"\"\"\n",
    "\n",
    "cursor.execute(query)\n",
    "print(*cursor.fetchall(), sep='\\n')"
   ]
  },
  {
   "cell_type": "markdown",
   "metadata": {},
   "source": [
    "We only have sales data on this 4 products. We can ignore the rest."
   ]
  },
  {
   "cell_type": "code",
   "execution_count": 22,
   "metadata": {},
   "outputs": [],
   "source": [
    "# Define display names\n",
    "display_names = [\n",
    "    'AQ Dracula HDD', \n",
    "    'AQ Werewolf NAS',\n",
    "    'AQ Zion Saga',\n",
    "    'AQ Mforce Gen X'\n",
    "]"
   ]
  },
  {
   "cell_type": "code",
   "execution_count": 23,
   "metadata": {},
   "outputs": [
    {
     "name": "stdout",
     "output_type": "stream",
     "text": [
      "The column already exists.\n"
     ]
    }
   ],
   "source": [
    "# Add the new column\n",
    "query = \"\"\"\n",
    "ALTER TABLE dim_product\n",
    "ADD display_name VARCHAR(15)\n",
    "\"\"\"\n",
    "\n",
    "try:\n",
    "    cursor.execute(query);\n",
    "except sqlite3.OperationalError:\n",
    "    print('The column already exists.')\n"
   ]
  },
  {
   "cell_type": "code",
   "execution_count": 24,
   "metadata": {},
   "outputs": [],
   "source": [
    "# Update the table with the display names\n",
    "for name in display_names:\n",
    "    query = f\"\"\"\n",
    "    UPDATE dim_product\n",
    "    SET display_name = '{name}'\n",
    "    WHERE product LIKE '{name}%'\n",
    "    \"\"\"\n",
    "\n",
    "    cursor.execute(query)\n"
   ]
  },
  {
   "cell_type": "code",
   "execution_count": 25,
   "metadata": {},
   "outputs": [
    {
     "name": "stdout",
     "output_type": "stream",
     "text": [
      "('AQ Dracula HDD', 'AQ Dracula HDD – 3.5 Inch SATA 6 Gb/s 5400 RPM 256 MB Cache')\n",
      "('AQ Werewolf NAS', 'AQ WereWolf NAS Internal Hard Drive HDD – 8.89 cm')\n",
      "('AQ Zion Saga', 'AQ Zion Saga')\n",
      "('AQ Mforce Gen X', 'AQ Mforce Gen X')\n"
     ]
    }
   ],
   "source": [
    "# Check that the display names were correctly applied\n",
    "query = \"\"\"\n",
    "SELECT DISTINCT display_name, product\n",
    "FROM dim_product JOIN fact_sales_monthly USING (product_code)\n",
    "\"\"\"\n",
    "\n",
    "cursor.execute(query)\n",
    "print(*cursor.fetchall(), sep='\\n')"
   ]
  },
  {
   "cell_type": "code",
   "execution_count": 26,
   "metadata": {},
   "outputs": [],
   "source": [
    "con.commit()"
   ]
  },
  {
   "cell_type": "markdown",
   "metadata": {},
   "source": [
    "Now we can use those shorter display names for our charts."
   ]
  },
  {
   "cell_type": "markdown",
   "metadata": {},
   "source": [
    "[Back to contents](#contents)\n",
    "\n",
    "---"
   ]
  },
  {
   "cell_type": "markdown",
   "metadata": {},
   "source": [
    "### Missing values"
   ]
  },
  {
   "cell_type": "markdown",
   "metadata": {},
   "source": [
    "There is only one row with missing values in the whole Database. Let's print that row."
   ]
  },
  {
   "cell_type": "code",
   "execution_count": 27,
   "metadata": {},
   "outputs": [
    {
     "name": "stdout",
     "output_type": "stream",
     "text": [
      "\n"
     ]
    }
   ],
   "source": [
    "query='''\n",
    "SELECT *\n",
    "FROM fact_sales_monthly\n",
    "WHERE fiscal_year IS NULL\n",
    "'''\n",
    "\n",
    "cursor.execute(query)\n",
    "print(*cursor.fetchall(), sep='\\n')"
   ]
  },
  {
   "cell_type": "markdown",
   "metadata": {},
   "source": [
    "It's for product `A0` during `June 2019`. It could mean that this product didn't get any sales that month. Let's see some more info about it."
   ]
  },
  {
   "cell_type": "code",
   "execution_count": 28,
   "metadata": {
    "metadata": {}
   },
   "outputs": [
    {
     "name": "stdout",
     "output_type": "stream",
     "text": [
      "\n"
     ]
    }
   ],
   "source": [
    "# Look for other sales of this product\n",
    "query='''\n",
    "SELECT *\n",
    "FROM fact_sales_monthly\n",
    "WHERE product_code = \"A0\"\n",
    "'''\n",
    "\n",
    "cursor.execute(query)\n",
    "print(*cursor.fetchall(), sep='\\n')"
   ]
  },
  {
   "cell_type": "markdown",
   "metadata": {},
   "source": [
    "There are no other record of sales of this product."
   ]
  },
  {
   "cell_type": "code",
   "execution_count": 29,
   "metadata": {
    "metadata": {}
   },
   "outputs": [
    {
     "name": "stdout",
     "output_type": "stream",
     "text": [
      "\n"
     ]
    }
   ],
   "source": [
    "# What product is this\n",
    "query='''\n",
    "SELECT *\n",
    "FROM dim_product\n",
    "WHERE product_code = \"A0\"\n",
    "'''\n",
    "\n",
    "cursor.execute(query)\n",
    "print(*cursor.fetchall(), sep='\\n')"
   ]
  },
  {
   "cell_type": "markdown",
   "metadata": {},
   "source": [
    "There is no register of this product in `dim_product`. It doesn't exist. We can delete this row."
   ]
  },
  {
   "cell_type": "code",
   "execution_count": 30,
   "metadata": {
    "metadata": {}
   },
   "outputs": [
    {
     "name": "stdout",
     "output_type": "stream",
     "text": [
      "\n"
     ]
    }
   ],
   "source": [
    "# What product is this\n",
    "query='''\n",
    "DELETE \n",
    "FROM fact_sales_monthly\n",
    "WHERE product_code = \"A0\"\n",
    "'''\n",
    "\n",
    "cursor.execute(query)\n",
    "print(*cursor.fetchall(), sep='\\n')\n",
    "\n",
    "con.commit()"
   ]
  },
  {
   "cell_type": "markdown",
   "metadata": {},
   "source": [
    "[Back to Contents](#contents)\n",
    "\n",
    "---"
   ]
  },
  {
   "cell_type": "markdown",
   "metadata": {},
   "source": [
    "### Duplicates"
   ]
  },
  {
   "cell_type": "markdown",
   "metadata": {},
   "source": [
    "The tables don't have Primary keys set up. That means it's possible that some of them have duplicated values in critical columns.\n",
    "\n",
    "We'll be examining various column combinations in each table. Unless we encounter a non-zero value, we'll proceed to the next one."
   ]
  },
  {
   "cell_type": "code",
   "execution_count": 31,
   "metadata": {
    "metadata": {}
   },
   "outputs": [
    {
     "name": "stdout",
     "output_type": "stream",
     "text": [
      "Table: dim_customer\n",
      "Duplicates found: 0\n"
     ]
    }
   ],
   "source": [
    "# No duplicate customer codes\n",
    "table = 'dim_customer'\n",
    "columns = ['customer_code']\n",
    "count_duplicates(table, columns);"
   ]
  },
  {
   "cell_type": "code",
   "execution_count": 32,
   "metadata": {
    "metadata": {}
   },
   "outputs": [
    {
     "name": "stdout",
     "output_type": "stream",
     "text": [
      "Table: dim_customer\n",
      "Duplicates found: 101\n"
     ]
    }
   ],
   "source": [
    "# Customer codes are unique to the ['customer', 'platform', 'channel', 'region'] combination\n",
    "table = 'dim_customer'\n",
    "columns = ['customer', 'platform', 'channel', 'region']\n",
    "count_duplicates(table, columns);"
   ]
  },
  {
   "cell_type": "markdown",
   "metadata": {},
   "source": [
    "We got duplicates here. It's possible that the batabase notes are mistaken and `customer_code` is given by market, instead of by region."
   ]
  },
  {
   "cell_type": "code",
   "execution_count": 33,
   "metadata": {
    "metadata": {}
   },
   "outputs": [
    {
     "name": "stdout",
     "output_type": "stream",
     "text": [
      "Table: dim_customer\n",
      "Duplicates found: 0\n"
     ]
    }
   ],
   "source": [
    "# Check if adding 'market' to the previous query makes the results unique\n",
    "table = 'dim_customer'\n",
    "columns = ['customer', 'platform', 'channel', 'region', 'sub_zone', 'market']\n",
    "count_duplicates(table, columns);"
   ]
  },
  {
   "cell_type": "markdown",
   "metadata": {},
   "source": [
    "It seems to be the case. We can move on."
   ]
  },
  {
   "cell_type": "code",
   "execution_count": 34,
   "metadata": {
    "metadata": {}
   },
   "outputs": [
    {
     "name": "stdout",
     "output_type": "stream",
     "text": [
      "Table: dim_product\n",
      "Duplicates found: 0\n"
     ]
    }
   ],
   "source": [
    "# No duplicate product_code\n",
    "table = 'dim_product'\n",
    "columns = ['product_code']\n",
    "count_duplicates(table, columns);"
   ]
  },
  {
   "cell_type": "code",
   "execution_count": 35,
   "metadata": {
    "metadata": {}
   },
   "outputs": [
    {
     "name": "stdout",
     "output_type": "stream",
     "text": [
      "Table: dim_product\n",
      "Duplicates found: 0\n"
     ]
    }
   ],
   "source": [
    "# No duplicate variants for the same product\n",
    "table = 'dim_product'\n",
    "columns = ['product', 'variant']\n",
    "count_duplicates(table, columns);"
   ]
  },
  {
   "cell_type": "code",
   "execution_count": 36,
   "metadata": {
    "metadata": {}
   },
   "outputs": [
    {
     "name": "stdout",
     "output_type": "stream",
     "text": [
      "Table: dim_product\n",
      "Duplicates found: 0\n"
     ]
    }
   ],
   "source": [
    "# No duplicate category for the same product variant\n",
    "table = 'dim_product'\n",
    "columns = ['category', 'product', 'variant']\n",
    "count_duplicates(table, columns);"
   ]
  },
  {
   "cell_type": "code",
   "execution_count": 37,
   "metadata": {},
   "outputs": [
    {
     "name": "stdout",
     "output_type": "stream",
     "text": [
      "Table: dim_product\n",
      "Duplicates found: 0\n"
     ]
    }
   ],
   "source": [
    "# No duplicate segment for the same category product variant\n",
    "table = 'dim_product'\n",
    "columns = ['segment', 'category', 'product', 'variant']\n",
    "count_duplicates(table, columns);"
   ]
  },
  {
   "cell_type": "code",
   "execution_count": 38,
   "metadata": {
    "metadata": {}
   },
   "outputs": [
    {
     "name": "stdout",
     "output_type": "stream",
     "text": [
      "Table: dim_product\n",
      "Duplicates found: 0\n"
     ]
    }
   ],
   "source": [
    "# No duplicate division for the same category product variant\n",
    "table = 'dim_product'\n",
    "columns = ['division', 'segment', 'category', 'product', 'variant']\n",
    "count_duplicates(table, columns);"
   ]
  },
  {
   "cell_type": "code",
   "execution_count": 39,
   "metadata": {},
   "outputs": [
    {
     "name": "stdout",
     "output_type": "stream",
     "text": [
      "Table: dim_product\n",
      "Duplicates found: 0\n"
     ]
    }
   ],
   "source": [
    "# The combination ['product', 'category', 'variant', 'segment', 'division'] should be unique\n",
    "table = 'dim_product'\n",
    "columns = ['product', 'category', 'variant', 'segment', 'division']\n",
    "count_duplicates(table, columns);"
   ]
  },
  {
   "cell_type": "code",
   "execution_count": 40,
   "metadata": {
    "metadata": {}
   },
   "outputs": [
    {
     "name": "stdout",
     "output_type": "stream",
     "text": [
      "Table: fact_pre_discount\n",
      "Duplicates found: 0\n"
     ]
    }
   ],
   "source": [
    "# Each customer_code should have only one discount per fiscal_year\n",
    "table = 'fact_pre_discount'\n",
    "columns = ['customer_code', 'fiscal_year']\n",
    "count_duplicates(table, columns);"
   ]
  },
  {
   "cell_type": "code",
   "execution_count": 41,
   "metadata": {
    "metadata": {}
   },
   "outputs": [
    {
     "name": "stdout",
     "output_type": "stream",
     "text": [
      "Table: fact_manufacturing_cost\n",
      "Duplicates found: 0\n"
     ]
    }
   ],
   "source": [
    "# Each product_code should have only one cost per year\n",
    "table = 'fact_manufacturing_cost'\n",
    "columns = ['product_code', 'cost_year']\n",
    "count_duplicates(table, columns);"
   ]
  },
  {
   "cell_type": "code",
   "execution_count": 42,
   "metadata": {
    "metadata": {}
   },
   "outputs": [
    {
     "name": "stdout",
     "output_type": "stream",
     "text": [
      "Table: fact_gross_price\n",
      "Duplicates found: 0\n"
     ]
    }
   ],
   "source": [
    "# Each product_code should have only one price per year\n",
    "table = 'fact_gross_price'\n",
    "columns = ['product_code', 'fiscal_year']\n",
    "count_duplicates(table, columns);"
   ]
  },
  {
   "cell_type": "code",
   "execution_count": 43,
   "metadata": {
    "metadata": {}
   },
   "outputs": [
    {
     "name": "stdout",
     "output_type": "stream",
     "text": [
      "Table: fact_sales_monthly\n",
      "Duplicates found: 0\n"
     ]
    }
   ],
   "source": [
    "# The sales data should be aggrergated by customer, product and date.\n",
    "table = 'fact_sales_monthly'\n",
    "columns = ['date', 'product_code', 'customer_code']\n",
    "count_duplicates(table, columns);"
   ]
  },
  {
   "cell_type": "markdown",
   "metadata": {},
   "source": [
    "We only found duplicates in `dim_customer`, and they are easily explainable. There is nothing to fix here."
   ]
  },
  {
   "cell_type": "markdown",
   "metadata": {},
   "source": [
    "[Back to Contents](#contents)\n",
    "\n",
    "---"
   ]
  },
  {
   "cell_type": "markdown",
   "metadata": {},
   "source": [
    "### Other"
   ]
  },
  {
   "cell_type": "markdown",
   "metadata": {},
   "source": [
    "We should check the consistency of the data that we have, and that it obeys the rules stated in the Database documentation."
   ]
  },
  {
   "cell_type": "markdown",
   "metadata": {},
   "source": [
    "Let's see if the time period is the same in all tables."
   ]
  },
  {
   "cell_type": "code",
   "execution_count": 44,
   "metadata": {},
   "outputs": [
    {
     "data": {
      "text/plain": [
       "(2018, 2022)"
      ]
     },
     "execution_count": 44,
     "metadata": {},
     "output_type": "execute_result"
    }
   ],
   "source": [
    "# Period for fact_pre_discount data\n",
    "query = \"\"\"\n",
    "SELECT MIN(fiscal_year), MAX(fiscal_year)\n",
    "FROM fact_pre_discount\n",
    "\"\"\"\n",
    "\n",
    "cursor.execute(query)\n",
    "cursor.fetchone()"
   ]
  },
  {
   "cell_type": "code",
   "execution_count": 45,
   "metadata": {
    "metadata": {}
   },
   "outputs": [
    {
     "data": {
      "text/plain": [
       "(2018, 2022)"
      ]
     },
     "execution_count": 45,
     "metadata": {},
     "output_type": "execute_result"
    }
   ],
   "source": [
    "# Period for fact_manufacturing_cost data\n",
    "query = \"\"\"\n",
    "SELECT MIN(cost_year), MAX(cost_year)\n",
    "FROM fact_manufacturing_cost\n",
    "\"\"\"\n",
    "\n",
    "cursor.execute(query)\n",
    "cursor.fetchone()"
   ]
  },
  {
   "cell_type": "code",
   "execution_count": 46,
   "metadata": {
    "metadata": {}
   },
   "outputs": [
    {
     "data": {
      "text/plain": [
       "(2018, 2022)"
      ]
     },
     "execution_count": 46,
     "metadata": {},
     "output_type": "execute_result"
    }
   ],
   "source": [
    "# Period for fact_gross_price data\n",
    "query = \"\"\"\n",
    "SELECT MIN(fiscal_year), MAX(fiscal_year)\n",
    "FROM fact_gross_price\n",
    "\"\"\"\n",
    "\n",
    "cursor.execute(query)\n",
    "cursor.fetchone()"
   ]
  },
  {
   "cell_type": "code",
   "execution_count": 47,
   "metadata": {
    "metadata": {}
   },
   "outputs": [
    {
     "data": {
      "text/plain": [
       "(2018, 2022)"
      ]
     },
     "execution_count": 47,
     "metadata": {},
     "output_type": "execute_result"
    }
   ],
   "source": [
    "# Period for fact_sales_monthly data\n",
    "query = \"\"\"\n",
    "SELECT MIN(fiscal_year), MAX(fiscal_year)\n",
    "FROM fact_sales_monthly\n",
    "\"\"\"\n",
    "\n",
    "cursor.execute(query)\n",
    "cursor.fetchone()"
   ]
  },
  {
   "cell_type": "markdown",
   "metadata": {},
   "source": [
    "All data is from fiscal years `2018` to `2022`"
   ]
  },
  {
   "cell_type": "markdown",
   "metadata": {},
   "source": [
    "---"
   ]
  },
  {
   "cell_type": "markdown",
   "metadata": {},
   "source": [
    "Some columns are supposed to have only certain values. Let's make sure that's the case, and there are no errors or typos."
   ]
  },
  {
   "cell_type": "code",
   "execution_count": 48,
   "metadata": {},
   "outputs": [
    {
     "name": "stdout",
     "output_type": "stream",
     "text": [
      "('Brick & Mortar',)\n",
      "('E-Commerce',)\n"
     ]
    }
   ],
   "source": [
    "# dim_customer.platform should have 2 values\n",
    "query = \"\"\"\n",
    "SELECT DISTINCT platform\n",
    "FROM dim_customer\n",
    "\"\"\"\n",
    "cursor.execute(query)\n",
    "print(*cursor.fetchall(), sep=\"\\n\")"
   ]
  },
  {
   "cell_type": "code",
   "execution_count": 49,
   "metadata": {},
   "outputs": [
    {
     "name": "stdout",
     "output_type": "stream",
     "text": [
      "('Direct',)\n",
      "('Distributor',)\n",
      "('Retailer',)\n"
     ]
    }
   ],
   "source": [
    "# dim_customer.channel should have 3 values\n",
    "query = \"\"\"\n",
    "SELECT DISTINCT channel\n",
    "FROM dim_customer\n",
    "\"\"\"\n",
    "cursor.execute(query)\n",
    "print(*cursor.fetchall(), sep=\"\\n\")"
   ]
  },
  {
   "cell_type": "code",
   "execution_count": 50,
   "metadata": {
    "metadata": {}
   },
   "outputs": [
    {
     "name": "stdout",
     "output_type": "stream",
     "text": [
      "('P & A',)\n",
      "('PC',)\n",
      "('N & S',)\n"
     ]
    }
   ],
   "source": [
    "# dim_product.division should have 3 values\n",
    "query = \"\"\"\n",
    "SELECT DISTINCT division\n",
    "FROM dim_product\n",
    "\"\"\"\n",
    "cursor.execute(query)\n",
    "print(*cursor.fetchall(), sep=\"\\n\")"
   ]
  },
  {
   "cell_type": "code",
   "execution_count": 51,
   "metadata": {
    "metadata": {}
   },
   "outputs": [
    {
     "name": "stdout",
     "output_type": "stream",
     "text": [
      "('Peripherals',)\n",
      "('Accessories',)\n",
      "('Notebook',)\n",
      "('Desktop',)\n",
      "('Storage',)\n",
      "('Networking',)\n"
     ]
    }
   ],
   "source": [
    "# dim_product.segment should have 6 values\n",
    "query = \"\"\"\n",
    "SELECT DISTINCT segment\n",
    "FROM dim_product\n",
    "\"\"\"\n",
    "cursor.execute(query)\n",
    "print(*cursor.fetchall(), sep=\"\\n\")"
   ]
  },
  {
   "cell_type": "markdown",
   "metadata": {},
   "source": [
    "---"
   ]
  },
  {
   "cell_type": "markdown",
   "metadata": {},
   "source": [
    "There are some relationships that should be constant. For example, each market belongs to exactly one sub_zone. Let's check those relationships next.\n",
    "\n",
    "The following cells should output `1` if there is no errors."
   ]
  },
  {
   "cell_type": "code",
   "execution_count": 52,
   "metadata": {
    "metadata": {}
   },
   "outputs": [
    {
     "name": "stdout",
     "output_type": "stream",
     "text": [
      "Max platform count: 1\n"
     ]
    }
   ],
   "source": [
    "# Each dim_customer.customer_code should have 1 platform\n",
    "query = \"\"\"\n",
    "SELECT customer_code, count(platform) as platform_count\n",
    "FROM dim_customer\n",
    "GROUP BY customer_code\n",
    "ORDER BY platform_count DESC\n",
    "\"\"\"\n",
    "cursor.execute(query)\n",
    "print (f'Max platform count: {cursor.fetchone()[1]}')"
   ]
  },
  {
   "cell_type": "code",
   "execution_count": 53,
   "metadata": {
    "metadata": {}
   },
   "outputs": [
    {
     "name": "stdout",
     "output_type": "stream",
     "text": [
      "Max sub zone count: 1\n"
     ]
    }
   ],
   "source": [
    "# Each dim_customer.market should have 1 sub-zone\n",
    "query = \"\"\"\n",
    "SELECT market, count(sub_zone) as sub_zone_count\n",
    "FROM (\n",
    "    SELECT DISTINCT market, sub_zone\n",
    "    FROM dim_customer\n",
    ")\n",
    "GROUP BY market\n",
    "ORDER BY sub_zone_count DESC\n",
    "\"\"\"\n",
    "cursor.execute(query)\n",
    "print (f'Max sub zone count: {cursor.fetchone()[1]}')"
   ]
  },
  {
   "cell_type": "code",
   "execution_count": 54,
   "metadata": {
    "metadata": {}
   },
   "outputs": [
    {
     "name": "stdout",
     "output_type": "stream",
     "text": [
      "Max region count: 1\n"
     ]
    }
   ],
   "source": [
    "# Each dim_customer.market should have 1 region\n",
    "query = \"\"\"\n",
    "SELECT market, count(region) as region_count\n",
    "FROM (\n",
    "    SELECT DISTINCT market, region\n",
    "    FROM dim_customer\n",
    ")\n",
    "GROUP BY market\n",
    "ORDER BY region_count DESC\n",
    "\"\"\"\n",
    "cursor.execute(query)\n",
    "print (f'Max region count: {cursor.fetchone()[1]}')"
   ]
  },
  {
   "cell_type": "markdown",
   "metadata": {},
   "source": [
    "---"
   ]
  },
  {
   "cell_type": "markdown",
   "metadata": {},
   "source": [
    "Some columns should stay within reasonable values. Let's check that next."
   ]
  },
  {
   "cell_type": "code",
   "execution_count": 55,
   "metadata": {
    "metadata": {}
   },
   "outputs": [
    {
     "name": "stdout",
     "output_type": "stream",
     "text": [
      "(0.3099,)\n"
     ]
    }
   ],
   "source": [
    "# fact_pre_discount.pre_invoice_discount_pct should always be less than 1\n",
    "query = \"\"\"\n",
    "SELECT max(pre_invoice_discount_pct)\n",
    "FROM fact_pre_discount\n",
    "\"\"\"\n",
    "cursor.execute(query)\n",
    "print(*cursor.fetchall(), sep=\"\\n\")"
   ]
  },
  {
   "cell_type": "code",
   "execution_count": 56,
   "metadata": {
    "metadata": {}
   },
   "outputs": [
    {
     "name": "stdout",
     "output_type": "stream",
     "text": [
      "(2018, '2017-09-01', '2018-08-01')\n",
      "(2019, '2018-09-01', '2019-08-01')\n",
      "(2020, '2019-09-01', '2020-08-01')\n",
      "(2021, '2020-09-01', '2021-08-01')\n",
      "(2022, '2021-09-01', '2021-12-01')\n"
     ]
    }
   ],
   "source": [
    "# fact_sales_monthly.date consistently assigns the same months to the right fiscal_year\n",
    "query= \"\"\"\n",
    "SELECT fiscal_year, MIN(date), MAX(date)\n",
    "FROM fact_sales_monthly\n",
    "GROUP BY fiscal_year\n",
    "\"\"\"\n",
    "cursor.execute(query)\n",
    "print(*cursor.fetchall(), sep=\"\\n\")"
   ]
  },
  {
   "cell_type": "markdown",
   "metadata": {},
   "source": [
    "There is only 3 months worth of data for fiscal year 2022, as opposed to the full 12 months for the rest of the fiscal years."
   ]
  },
  {
   "cell_type": "code",
   "execution_count": 57,
   "metadata": {
    "metadata": {}
   },
   "outputs": [
    {
     "name": "stdout",
     "output_type": "stream",
     "text": [
      "(0,)\n"
     ]
    }
   ],
   "source": [
    "# fact_sales_monthly.sold_quantity should always be positive\n",
    "query= \"\"\"\n",
    "SELECT MIN(sold_quantity)\n",
    "FROM fact_sales_monthly\n",
    "\"\"\"\n",
    "cursor.execute(query)\n",
    "print(*cursor.fetchall(), sep=\"\\n\")"
   ]
  },
  {
   "cell_type": "markdown",
   "metadata": {},
   "source": [
    "There are some items with `sold_quantity` of `0`. It's possible that means that the item didn't get any sales that month, but unlikely. \n",
    "\n",
    "Let's see those sales."
   ]
  },
  {
   "cell_type": "code",
   "execution_count": 58,
   "metadata": {
    "metadata": {}
   },
   "outputs": [
    {
     "name": "stdout",
     "output_type": "stream",
     "text": [
      "('2017-09-01', 'A0118150101', 70012042, 0, 2018)\n",
      "('2017-09-01', 'A0118150101', 70012043, 0, 2018)\n",
      "('2017-09-01', 'A0118150101', 90012033, 0, 2018)\n",
      "('2017-09-01', 'A0118150101', 90012034, 0, 2018)\n",
      "('2017-09-01', 'A0118150101', 90012035, 0, 2018)\n",
      "('2017-09-01', 'A0118150101', 90012037, 0, 2018)\n",
      "('2017-09-01', 'A0118150101', 90012038, 0, 2018)\n",
      "('2017-09-01', 'A0118150101', 90012039, 0, 2018)\n",
      "('2017-09-01', 'A0118150101', 90012041, 0, 2018)\n",
      "('2017-09-01', 'A0118150102', 70012042, 0, 2018)\n",
      "('2017-09-01', 'A0118150102', 70012043, 0, 2018)\n",
      "('2017-09-01', 'A0118150102', 90012033, 0, 2018)\n",
      "('2017-09-01', 'A0118150102', 90012034, 0, 2018)\n",
      "('2017-09-01', 'A0118150102', 90012035, 0, 2018)\n",
      "('2017-09-01', 'A0118150102', 90012037, 0, 2018)\n",
      "('2017-09-01', 'A0118150102', 90012038, 0, 2018)\n",
      "('2017-09-01', 'A0118150102', 90012039, 0, 2018)\n",
      "('2017-09-01', 'A0118150102', 90012041, 0, 2018)\n",
      "('2017-09-01', 'A0118150103', 70012042, 0, 2018)\n",
      "('2017-09-01', 'A0118150103', 70012043, 0, 2018)\n",
      "('2017-09-01', 'A0118150103', 90012033, 0, 2018)\n",
      "('2017-09-01', 'A0118150103', 90012034, 0, 2018)\n",
      "('2017-09-01', 'A0118150103', 90012035, 0, 2018)\n",
      "('2017-09-01', 'A0118150103', 90012037, 0, 2018)\n",
      "('2017-09-01', 'A0118150103', 90012038, 0, 2018)\n",
      "('2017-09-01', 'A0118150103', 90012039, 0, 2018)\n",
      "('2017-09-01', 'A0118150103', 90012041, 0, 2018)\n",
      "('2017-09-01', 'A0118150104', 70012042, 0, 2018)\n",
      "('2017-09-01', 'A0118150104', 70012043, 0, 2018)\n",
      "('2017-09-01', 'A0118150104', 90012033, 0, 2018)\n",
      "('2017-09-01', 'A0118150104', 90012034, 0, 2018)\n",
      "('2017-09-01', 'A0118150104', 90012035, 0, 2018)\n",
      "('2017-09-01', 'A0118150104', 90012037, 0, 2018)\n",
      "('2017-09-01', 'A0118150104', 90012038, 0, 2018)\n",
      "('2017-09-01', 'A0118150104', 90012039, 0, 2018)\n",
      "('2017-09-01', 'A0118150104', 90012041, 0, 2018)\n",
      "('2017-09-01', 'A0418150101', 70012042, 0, 2018)\n",
      "('2017-09-01', 'A0418150101', 70012043, 0, 2018)\n",
      "('2017-09-01', 'A0418150101', 90012033, 0, 2018)\n",
      "('2017-09-01', 'A0418150101', 90012034, 0, 2018)\n",
      "('2017-09-01', 'A0418150101', 90012035, 0, 2018)\n",
      "('2017-09-01', 'A0418150101', 90012037, 0, 2018)\n",
      "('2017-09-01', 'A0418150101', 90012038, 0, 2018)\n",
      "('2017-09-01', 'A0418150101', 90012039, 0, 2018)\n",
      "('2017-09-01', 'A0418150101', 90012041, 0, 2018)\n",
      "('2017-09-01', 'A0418150102', 70012042, 0, 2018)\n",
      "('2017-09-01', 'A0418150102', 70012043, 0, 2018)\n",
      "('2017-09-01', 'A0418150102', 90012033, 0, 2018)\n",
      "('2017-09-01', 'A0418150102', 90012034, 0, 2018)\n",
      "('2017-09-01', 'A0418150102', 90012035, 0, 2018)\n",
      "('2017-09-01', 'A0418150102', 90012037, 0, 2018)\n",
      "('2017-09-01', 'A0418150102', 90012038, 0, 2018)\n",
      "('2017-09-01', 'A0418150102', 90012039, 0, 2018)\n",
      "('2017-09-01', 'A0418150102', 90012041, 0, 2018)\n",
      "('2017-09-01', 'A0418150103', 70012042, 0, 2018)\n",
      "('2017-09-01', 'A0418150103', 70012043, 0, 2018)\n",
      "('2017-09-01', 'A0418150103', 90012033, 0, 2018)\n",
      "('2017-09-01', 'A0418150103', 90012034, 0, 2018)\n",
      "('2017-09-01', 'A0418150103', 90012035, 0, 2018)\n",
      "('2017-09-01', 'A0418150103', 90012037, 0, 2018)\n",
      "('2017-09-01', 'A0418150103', 90012038, 0, 2018)\n",
      "('2017-09-01', 'A0418150103', 90012039, 0, 2018)\n",
      "('2017-09-01', 'A0418150103', 90012041, 0, 2018)\n",
      "('2017-09-01', 'A0418150104', 70012042, 0, 2018)\n",
      "('2017-09-01', 'A0418150104', 70012043, 0, 2018)\n",
      "('2017-09-01', 'A0418150104', 90012033, 0, 2018)\n",
      "('2017-09-01', 'A0418150104', 90012034, 0, 2018)\n",
      "('2017-09-01', 'A0418150104', 90012035, 0, 2018)\n",
      "('2017-09-01', 'A0418150104', 90012037, 0, 2018)\n",
      "('2017-09-01', 'A0418150104', 90012038, 0, 2018)\n",
      "('2017-09-01', 'A0418150104', 90012039, 0, 2018)\n",
      "('2017-09-01', 'A0418150104', 90012041, 0, 2018)\n"
     ]
    }
   ],
   "source": [
    "query= \"\"\"\n",
    "SELECT *\n",
    "FROM fact_sales_monthly\n",
    "WHERE sold_quantity = 0\n",
    "\"\"\"\n",
    "cursor.execute(query)\n",
    "print(*cursor.fetchall(), sep=\"\\n\")"
   ]
  },
  {
   "cell_type": "markdown",
   "metadata": {},
   "source": [
    "All the sales with 0 quantity are from Sept 2017."
   ]
  },
  {
   "cell_type": "code",
   "execution_count": 59,
   "metadata": {
    "metadata": {}
   },
   "outputs": [
    {
     "name": "stdout",
     "output_type": "stream",
     "text": [
      "('AQ Dracula HDD – 3.5 Inch SATA 6 Gb/s 5400 RPM 256 MB Cache',)\n",
      "('AQ Mforce Gen X',)\n"
     ]
    }
   ],
   "source": [
    "query = \"\"\"\n",
    "SELECT DISTINCT product\n",
    "FROM (\n",
    "    SELECT *\n",
    "    FROM fact_sales_monthly\n",
    "    WHERE sold_quantity = 0\n",
    ") AS zero_sales \n",
    "INNER JOIN dim_product \n",
    "ON zero_sales.product_code = dim_product.product_code\n",
    "\"\"\"\n",
    "cursor.execute(query)\n",
    "print(*cursor.fetchall(), sep='\\n')"
   ]
  },
  {
   "cell_type": "markdown",
   "metadata": {},
   "source": [
    "Only two products have this issue. We can delete these rows."
   ]
  },
  {
   "cell_type": "code",
   "execution_count": 60,
   "metadata": {},
   "outputs": [],
   "source": [
    "query = \"\"\"\n",
    "DELETE\n",
    "FROM fact_sales_monthly\n",
    "WHERE sold_quantity = 0\n",
    "\"\"\"\n",
    "cursor.execute(query);"
   ]
  },
  {
   "cell_type": "markdown",
   "metadata": {},
   "source": [
    "The data is ready for analysis."
   ]
  },
  {
   "cell_type": "markdown",
   "metadata": {},
   "source": [
    "[Back to contents](#contents)\n",
    "\n",
    "---"
   ]
  },
  {
   "cell_type": "markdown",
   "metadata": {},
   "source": [
    "## Analysis"
   ]
  },
  {
   "cell_type": "markdown",
   "metadata": {},
   "source": [
    "### Finding the bestsellers"
   ]
  },
  {
   "cell_type": "markdown",
   "metadata": {},
   "source": [
    "There are different approaches that we can take here. We can find bestsellers by month to look for seasonality, by year to look at trend, or historical to see products that perform strongly year after year.\n",
    "\n",
    "We can look at units sold, revenue, or profit. There's also the option of ranking by total values, or by their contribution (ratio) towards the grand total.\n",
    "\n",
    "Right now we will only look at two of them, and leave the rest for the Dashboard.\n",
    "\n",
    "The ones that we'll analyze here are:\n",
    "- Most units sold in the last full year (2021)\n",
    "- Most profit generated per year\n",
    "\n",
    "We'll begin by finding the most units sold."
   ]
  },
  {
   "cell_type": "code",
   "execution_count": 61,
   "metadata": {
    "metadata": {}
   },
   "outputs": [
    {
     "data": {
      "text/html": [
       "<div>\n",
       "<style scoped>\n",
       "    .dataframe tbody tr th:only-of-type {\n",
       "        vertical-align: middle;\n",
       "    }\n",
       "\n",
       "    .dataframe tbody tr th {\n",
       "        vertical-align: top;\n",
       "    }\n",
       "\n",
       "    .dataframe thead th {\n",
       "        text-align: right;\n",
       "    }\n",
       "</style>\n",
       "<table border=\"1\" class=\"dataframe\">\n",
       "  <thead>\n",
       "    <tr style=\"text-align: right;\">\n",
       "      <th></th>\n",
       "      <th>fiscal_year</th>\n",
       "      <th>product_code</th>\n",
       "      <th>display_name</th>\n",
       "      <th>variant</th>\n",
       "      <th>units_sold</th>\n",
       "    </tr>\n",
       "  </thead>\n",
       "  <tbody>\n",
       "    <tr>\n",
       "      <th>0</th>\n",
       "      <td>2021</td>\n",
       "      <td>A0219150201</td>\n",
       "      <td>AQ Werewolf NAS</td>\n",
       "      <td>Standard</td>\n",
       "      <td>100799</td>\n",
       "    </tr>\n",
       "    <tr>\n",
       "      <th>1</th>\n",
       "      <td>2021</td>\n",
       "      <td>A0118150101</td>\n",
       "      <td>AQ Dracula HDD</td>\n",
       "      <td>Standard</td>\n",
       "      <td>100039</td>\n",
       "    </tr>\n",
       "    <tr>\n",
       "      <th>2</th>\n",
       "      <td>2021</td>\n",
       "      <td>A0321150302</td>\n",
       "      <td>AQ Zion Saga</td>\n",
       "      <td>Plus</td>\n",
       "      <td>99955</td>\n",
       "    </tr>\n",
       "    <tr>\n",
       "      <th>3</th>\n",
       "      <td>2021</td>\n",
       "      <td>A0118150102</td>\n",
       "      <td>AQ Dracula HDD</td>\n",
       "      <td>Plus</td>\n",
       "      <td>98124</td>\n",
       "    </tr>\n",
       "    <tr>\n",
       "      <th>4</th>\n",
       "      <td>2021</td>\n",
       "      <td>A0118150104</td>\n",
       "      <td>AQ Dracula HDD</td>\n",
       "      <td>Premium Plus</td>\n",
       "      <td>97931</td>\n",
       "    </tr>\n",
       "  </tbody>\n",
       "</table>\n",
       "</div>"
      ],
      "text/plain": [
       "   fiscal_year product_code     display_name       variant  units_sold\n",
       "0         2021  A0219150201  AQ Werewolf NAS      Standard      100799\n",
       "1         2021  A0118150101   AQ Dracula HDD      Standard      100039\n",
       "2         2021  A0321150302     AQ Zion Saga          Plus       99955\n",
       "3         2021  A0118150102   AQ Dracula HDD          Plus       98124\n",
       "4         2021  A0118150104   AQ Dracula HDD  Premium Plus       97931"
      ]
     },
     "execution_count": 61,
     "metadata": {},
     "output_type": "execute_result"
    }
   ],
   "source": [
    "query = \"\"\"\n",
    "SELECT fiscal_year, dim_product.product_code, display_name, variant, SUM(sold_quantity) AS units_sold\n",
    "FROM fact_sales_monthly \n",
    "    JOIN dim_product USING(product_code)\n",
    "WHERE fiscal_year = 2021\n",
    "GROUP BY fiscal_year, dim_product.product_code\n",
    "ORDER BY units_sold DESC\n",
    "\"\"\"\n",
    "\n",
    "best_sell_df = pd.read_sql_query(query, con)\n",
    "best_sell_df.head(5)\n"
   ]
  },
  {
   "cell_type": "code",
   "execution_count": 62,
   "metadata": {
    "metadata": {}
   },
   "outputs": [
    {
     "data": {
      "application/vnd.plotly.v1+json": {
       "config": {
        "plotlyServerURL": "https://plot.ly"
       },
       "data": [
        {
         "alignmentgroup": "True",
         "hovertemplate": "display_name=AQ Werewolf NAS<br>Product variants=%{x}<br>Units sold=%{y}<extra></extra>",
         "legendgroup": "AQ Werewolf NAS",
         "marker": {
          "color": "#636efa",
          "pattern": {
           "shape": ""
          }
         },
         "name": "AQ Werewolf NAS",
         "offsetgroup": "AQ Werewolf NAS",
         "orientation": "v",
         "showlegend": true,
         "textposition": "auto",
         "type": "bar",
         "x": [
          "A0219150201",
          "A0220150203",
          "A0219150202"
         ],
         "xaxis": "x",
         "y": [
          100799,
          97815,
          97091
         ],
         "yaxis": "y"
        },
        {
         "alignmentgroup": "True",
         "hovertemplate": "display_name=AQ Dracula HDD<br>Product variants=%{x}<br>Units sold=%{y}<extra></extra>",
         "legendgroup": "AQ Dracula HDD",
         "marker": {
          "color": "#EF553B",
          "pattern": {
           "shape": ""
          }
         },
         "name": "AQ Dracula HDD",
         "offsetgroup": "AQ Dracula HDD",
         "orientation": "v",
         "showlegend": true,
         "textposition": "auto",
         "type": "bar",
         "x": [
          "A0118150101",
          "A0118150102",
          "A0118150104",
          "A0118150103"
         ],
         "xaxis": "x",
         "y": [
          100039,
          98124,
          97931,
          94481
         ],
         "yaxis": "y"
        },
        {
         "alignmentgroup": "True",
         "hovertemplate": "display_name=AQ Zion Saga<br>Product variants=%{x}<br>Units sold=%{y}<extra></extra>",
         "legendgroup": "AQ Zion Saga",
         "marker": {
          "color": "#00cc96",
          "pattern": {
           "shape": ""
          }
         },
         "name": "AQ Zion Saga",
         "offsetgroup": "AQ Zion Saga",
         "orientation": "v",
         "showlegend": true,
         "textposition": "auto",
         "type": "bar",
         "x": [
          "A0321150302",
          "A0320150301",
          "A0321150303"
         ],
         "xaxis": "x",
         "y": [
          99955,
          97160,
          96691
         ],
         "yaxis": "y"
        },
        {
         "alignmentgroup": "True",
         "hovertemplate": "display_name=AQ Mforce Gen X<br>Product variants=%{x}<br>Units sold=%{y}<extra></extra>",
         "legendgroup": "AQ Mforce Gen X",
         "marker": {
          "color": "#ab63fa",
          "pattern": {
           "shape": ""
          }
         },
         "name": "AQ Mforce Gen X",
         "offsetgroup": "AQ Mforce Gen X",
         "orientation": "v",
         "showlegend": true,
         "textposition": "auto",
         "type": "bar",
         "x": [
          "A0418150103"
         ],
         "xaxis": "x",
         "y": [
          77857
         ],
         "yaxis": "y"
        }
       ],
       "layout": {
        "barmode": "relative",
        "legend": {
         "title": {
          "text": "Product"
         },
         "tracegroupgap": 0
        },
        "template": {
         "data": {
          "bar": [
           {
            "error_x": {
             "color": "#2a3f5f"
            },
            "error_y": {
             "color": "#2a3f5f"
            },
            "marker": {
             "line": {
              "color": "#E5ECF6",
              "width": 0.5
             },
             "pattern": {
              "fillmode": "overlay",
              "size": 10,
              "solidity": 0.2
             }
            },
            "type": "bar"
           }
          ],
          "barpolar": [
           {
            "marker": {
             "line": {
              "color": "#E5ECF6",
              "width": 0.5
             },
             "pattern": {
              "fillmode": "overlay",
              "size": 10,
              "solidity": 0.2
             }
            },
            "type": "barpolar"
           }
          ],
          "carpet": [
           {
            "aaxis": {
             "endlinecolor": "#2a3f5f",
             "gridcolor": "white",
             "linecolor": "white",
             "minorgridcolor": "white",
             "startlinecolor": "#2a3f5f"
            },
            "baxis": {
             "endlinecolor": "#2a3f5f",
             "gridcolor": "white",
             "linecolor": "white",
             "minorgridcolor": "white",
             "startlinecolor": "#2a3f5f"
            },
            "type": "carpet"
           }
          ],
          "choropleth": [
           {
            "colorbar": {
             "outlinewidth": 0,
             "ticks": ""
            },
            "type": "choropleth"
           }
          ],
          "contour": [
           {
            "colorbar": {
             "outlinewidth": 0,
             "ticks": ""
            },
            "colorscale": [
             [
              0,
              "#0d0887"
             ],
             [
              0.1111111111111111,
              "#46039f"
             ],
             [
              0.2222222222222222,
              "#7201a8"
             ],
             [
              0.3333333333333333,
              "#9c179e"
             ],
             [
              0.4444444444444444,
              "#bd3786"
             ],
             [
              0.5555555555555556,
              "#d8576b"
             ],
             [
              0.6666666666666666,
              "#ed7953"
             ],
             [
              0.7777777777777778,
              "#fb9f3a"
             ],
             [
              0.8888888888888888,
              "#fdca26"
             ],
             [
              1,
              "#f0f921"
             ]
            ],
            "type": "contour"
           }
          ],
          "contourcarpet": [
           {
            "colorbar": {
             "outlinewidth": 0,
             "ticks": ""
            },
            "type": "contourcarpet"
           }
          ],
          "heatmap": [
           {
            "colorbar": {
             "outlinewidth": 0,
             "ticks": ""
            },
            "colorscale": [
             [
              0,
              "#0d0887"
             ],
             [
              0.1111111111111111,
              "#46039f"
             ],
             [
              0.2222222222222222,
              "#7201a8"
             ],
             [
              0.3333333333333333,
              "#9c179e"
             ],
             [
              0.4444444444444444,
              "#bd3786"
             ],
             [
              0.5555555555555556,
              "#d8576b"
             ],
             [
              0.6666666666666666,
              "#ed7953"
             ],
             [
              0.7777777777777778,
              "#fb9f3a"
             ],
             [
              0.8888888888888888,
              "#fdca26"
             ],
             [
              1,
              "#f0f921"
             ]
            ],
            "type": "heatmap"
           }
          ],
          "heatmapgl": [
           {
            "colorbar": {
             "outlinewidth": 0,
             "ticks": ""
            },
            "colorscale": [
             [
              0,
              "#0d0887"
             ],
             [
              0.1111111111111111,
              "#46039f"
             ],
             [
              0.2222222222222222,
              "#7201a8"
             ],
             [
              0.3333333333333333,
              "#9c179e"
             ],
             [
              0.4444444444444444,
              "#bd3786"
             ],
             [
              0.5555555555555556,
              "#d8576b"
             ],
             [
              0.6666666666666666,
              "#ed7953"
             ],
             [
              0.7777777777777778,
              "#fb9f3a"
             ],
             [
              0.8888888888888888,
              "#fdca26"
             ],
             [
              1,
              "#f0f921"
             ]
            ],
            "type": "heatmapgl"
           }
          ],
          "histogram": [
           {
            "marker": {
             "pattern": {
              "fillmode": "overlay",
              "size": 10,
              "solidity": 0.2
             }
            },
            "type": "histogram"
           }
          ],
          "histogram2d": [
           {
            "colorbar": {
             "outlinewidth": 0,
             "ticks": ""
            },
            "colorscale": [
             [
              0,
              "#0d0887"
             ],
             [
              0.1111111111111111,
              "#46039f"
             ],
             [
              0.2222222222222222,
              "#7201a8"
             ],
             [
              0.3333333333333333,
              "#9c179e"
             ],
             [
              0.4444444444444444,
              "#bd3786"
             ],
             [
              0.5555555555555556,
              "#d8576b"
             ],
             [
              0.6666666666666666,
              "#ed7953"
             ],
             [
              0.7777777777777778,
              "#fb9f3a"
             ],
             [
              0.8888888888888888,
              "#fdca26"
             ],
             [
              1,
              "#f0f921"
             ]
            ],
            "type": "histogram2d"
           }
          ],
          "histogram2dcontour": [
           {
            "colorbar": {
             "outlinewidth": 0,
             "ticks": ""
            },
            "colorscale": [
             [
              0,
              "#0d0887"
             ],
             [
              0.1111111111111111,
              "#46039f"
             ],
             [
              0.2222222222222222,
              "#7201a8"
             ],
             [
              0.3333333333333333,
              "#9c179e"
             ],
             [
              0.4444444444444444,
              "#bd3786"
             ],
             [
              0.5555555555555556,
              "#d8576b"
             ],
             [
              0.6666666666666666,
              "#ed7953"
             ],
             [
              0.7777777777777778,
              "#fb9f3a"
             ],
             [
              0.8888888888888888,
              "#fdca26"
             ],
             [
              1,
              "#f0f921"
             ]
            ],
            "type": "histogram2dcontour"
           }
          ],
          "mesh3d": [
           {
            "colorbar": {
             "outlinewidth": 0,
             "ticks": ""
            },
            "type": "mesh3d"
           }
          ],
          "parcoords": [
           {
            "line": {
             "colorbar": {
              "outlinewidth": 0,
              "ticks": ""
             }
            },
            "type": "parcoords"
           }
          ],
          "pie": [
           {
            "automargin": true,
            "type": "pie"
           }
          ],
          "scatter": [
           {
            "fillpattern": {
             "fillmode": "overlay",
             "size": 10,
             "solidity": 0.2
            },
            "type": "scatter"
           }
          ],
          "scatter3d": [
           {
            "line": {
             "colorbar": {
              "outlinewidth": 0,
              "ticks": ""
             }
            },
            "marker": {
             "colorbar": {
              "outlinewidth": 0,
              "ticks": ""
             }
            },
            "type": "scatter3d"
           }
          ],
          "scattercarpet": [
           {
            "marker": {
             "colorbar": {
              "outlinewidth": 0,
              "ticks": ""
             }
            },
            "type": "scattercarpet"
           }
          ],
          "scattergeo": [
           {
            "marker": {
             "colorbar": {
              "outlinewidth": 0,
              "ticks": ""
             }
            },
            "type": "scattergeo"
           }
          ],
          "scattergl": [
           {
            "marker": {
             "colorbar": {
              "outlinewidth": 0,
              "ticks": ""
             }
            },
            "type": "scattergl"
           }
          ],
          "scattermapbox": [
           {
            "marker": {
             "colorbar": {
              "outlinewidth": 0,
              "ticks": ""
             }
            },
            "type": "scattermapbox"
           }
          ],
          "scatterpolar": [
           {
            "marker": {
             "colorbar": {
              "outlinewidth": 0,
              "ticks": ""
             }
            },
            "type": "scatterpolar"
           }
          ],
          "scatterpolargl": [
           {
            "marker": {
             "colorbar": {
              "outlinewidth": 0,
              "ticks": ""
             }
            },
            "type": "scatterpolargl"
           }
          ],
          "scatterternary": [
           {
            "marker": {
             "colorbar": {
              "outlinewidth": 0,
              "ticks": ""
             }
            },
            "type": "scatterternary"
           }
          ],
          "surface": [
           {
            "colorbar": {
             "outlinewidth": 0,
             "ticks": ""
            },
            "colorscale": [
             [
              0,
              "#0d0887"
             ],
             [
              0.1111111111111111,
              "#46039f"
             ],
             [
              0.2222222222222222,
              "#7201a8"
             ],
             [
              0.3333333333333333,
              "#9c179e"
             ],
             [
              0.4444444444444444,
              "#bd3786"
             ],
             [
              0.5555555555555556,
              "#d8576b"
             ],
             [
              0.6666666666666666,
              "#ed7953"
             ],
             [
              0.7777777777777778,
              "#fb9f3a"
             ],
             [
              0.8888888888888888,
              "#fdca26"
             ],
             [
              1,
              "#f0f921"
             ]
            ],
            "type": "surface"
           }
          ],
          "table": [
           {
            "cells": {
             "fill": {
              "color": "#EBF0F8"
             },
             "line": {
              "color": "white"
             }
            },
            "header": {
             "fill": {
              "color": "#C8D4E3"
             },
             "line": {
              "color": "white"
             }
            },
            "type": "table"
           }
          ]
         },
         "layout": {
          "annotationdefaults": {
           "arrowcolor": "#2a3f5f",
           "arrowhead": 0,
           "arrowwidth": 1
          },
          "autotypenumbers": "strict",
          "coloraxis": {
           "colorbar": {
            "outlinewidth": 0,
            "ticks": ""
           }
          },
          "colorscale": {
           "diverging": [
            [
             0,
             "#8e0152"
            ],
            [
             0.1,
             "#c51b7d"
            ],
            [
             0.2,
             "#de77ae"
            ],
            [
             0.3,
             "#f1b6da"
            ],
            [
             0.4,
             "#fde0ef"
            ],
            [
             0.5,
             "#f7f7f7"
            ],
            [
             0.6,
             "#e6f5d0"
            ],
            [
             0.7,
             "#b8e186"
            ],
            [
             0.8,
             "#7fbc41"
            ],
            [
             0.9,
             "#4d9221"
            ],
            [
             1,
             "#276419"
            ]
           ],
           "sequential": [
            [
             0,
             "#0d0887"
            ],
            [
             0.1111111111111111,
             "#46039f"
            ],
            [
             0.2222222222222222,
             "#7201a8"
            ],
            [
             0.3333333333333333,
             "#9c179e"
            ],
            [
             0.4444444444444444,
             "#bd3786"
            ],
            [
             0.5555555555555556,
             "#d8576b"
            ],
            [
             0.6666666666666666,
             "#ed7953"
            ],
            [
             0.7777777777777778,
             "#fb9f3a"
            ],
            [
             0.8888888888888888,
             "#fdca26"
            ],
            [
             1,
             "#f0f921"
            ]
           ],
           "sequentialminus": [
            [
             0,
             "#0d0887"
            ],
            [
             0.1111111111111111,
             "#46039f"
            ],
            [
             0.2222222222222222,
             "#7201a8"
            ],
            [
             0.3333333333333333,
             "#9c179e"
            ],
            [
             0.4444444444444444,
             "#bd3786"
            ],
            [
             0.5555555555555556,
             "#d8576b"
            ],
            [
             0.6666666666666666,
             "#ed7953"
            ],
            [
             0.7777777777777778,
             "#fb9f3a"
            ],
            [
             0.8888888888888888,
             "#fdca26"
            ],
            [
             1,
             "#f0f921"
            ]
           ]
          },
          "colorway": [
           "#636efa",
           "#EF553B",
           "#00cc96",
           "#ab63fa",
           "#FFA15A",
           "#19d3f3",
           "#FF6692",
           "#B6E880",
           "#FF97FF",
           "#FECB52"
          ],
          "font": {
           "color": "#2a3f5f"
          },
          "geo": {
           "bgcolor": "white",
           "lakecolor": "white",
           "landcolor": "#E5ECF6",
           "showlakes": true,
           "showland": true,
           "subunitcolor": "white"
          },
          "hoverlabel": {
           "align": "left"
          },
          "hovermode": "closest",
          "mapbox": {
           "style": "light"
          },
          "paper_bgcolor": "white",
          "plot_bgcolor": "#E5ECF6",
          "polar": {
           "angularaxis": {
            "gridcolor": "white",
            "linecolor": "white",
            "ticks": ""
           },
           "bgcolor": "#E5ECF6",
           "radialaxis": {
            "gridcolor": "white",
            "linecolor": "white",
            "ticks": ""
           }
          },
          "scene": {
           "xaxis": {
            "backgroundcolor": "#E5ECF6",
            "gridcolor": "white",
            "gridwidth": 2,
            "linecolor": "white",
            "showbackground": true,
            "ticks": "",
            "zerolinecolor": "white"
           },
           "yaxis": {
            "backgroundcolor": "#E5ECF6",
            "gridcolor": "white",
            "gridwidth": 2,
            "linecolor": "white",
            "showbackground": true,
            "ticks": "",
            "zerolinecolor": "white"
           },
           "zaxis": {
            "backgroundcolor": "#E5ECF6",
            "gridcolor": "white",
            "gridwidth": 2,
            "linecolor": "white",
            "showbackground": true,
            "ticks": "",
            "zerolinecolor": "white"
           }
          },
          "shapedefaults": {
           "line": {
            "color": "#2a3f5f"
           }
          },
          "ternary": {
           "aaxis": {
            "gridcolor": "white",
            "linecolor": "white",
            "ticks": ""
           },
           "baxis": {
            "gridcolor": "white",
            "linecolor": "white",
            "ticks": ""
           },
           "bgcolor": "#E5ECF6",
           "caxis": {
            "gridcolor": "white",
            "linecolor": "white",
            "ticks": ""
           }
          },
          "title": {
           "x": 0.05
          },
          "xaxis": {
           "automargin": true,
           "gridcolor": "white",
           "linecolor": "white",
           "ticks": "",
           "title": {
            "standoff": 15
           },
           "zerolinecolor": "white",
           "zerolinewidth": 2
          },
          "yaxis": {
           "automargin": true,
           "gridcolor": "white",
           "linecolor": "white",
           "ticks": "",
           "title": {
            "standoff": 15
           },
           "zerolinecolor": "white",
           "zerolinewidth": 2
          }
         }
        },
        "title": {
         "text": "2021 Sales by Product Variant"
        },
        "xaxis": {
         "anchor": "y",
         "domain": [
          0,
          1
         ],
         "labelalias": {
          "A0118150101": "Standard",
          "A0118150102": "Plus",
          "A0118150103": "Premium",
          "A0118150104": "Premium Plus",
          "A0219150201": "Standard",
          "A0219150202": "Plus",
          "A0220150203": "Premium",
          "A0320150301": "Standard",
          "A0321150302": "Plus",
          "A0321150303": "Premium",
          "A0418150103": "Standard 3"
         },
         "title": {
          "text": "Product variants"
         }
        },
        "yaxis": {
         "anchor": "x",
         "domain": [
          0,
          1
         ],
         "title": {
          "text": "Units sold"
         }
        }
       }
      }
     },
     "metadata": {},
     "output_type": "display_data"
    }
   ],
   "source": [
    "\n",
    "code_to_variant = dict(zip(best_sell_df['product_code'], best_sell_df['variant']))\n",
    "\n",
    "fig = px.bar(data_frame=best_sell_df.sort_values(by='units_sold', ascending=False),\n",
    "             x='product_code',\n",
    "             y='units_sold',\n",
    "             color='display_name',\n",
    "             labels={\n",
    "                 'product_code': 'Product variants',\n",
    "                 'units_sold': 'Units sold'\n",
    "                 },\n",
    "             title='2021 Sales by Product Variant',\n",
    "             )\n",
    "\n",
    "fig.update_xaxes(labelalias =  code_to_variant)\n",
    "fig.update_layout(legend_title_text='Product')\n",
    "fig.show()"
   ]
  },
  {
   "cell_type": "markdown",
   "metadata": {},
   "source": [
    "Most product variants had similar sales last year. The Dracula HDD was the best selling product overall (4 variants vs 3 of the Werewolf NAS and Zion Saga).\n",
    "\n",
    "The Mforce Gen X is lagging behind."
   ]
  },
  {
   "cell_type": "markdown",
   "metadata": {},
   "source": [
    "How about yearly profit?"
   ]
  },
  {
   "cell_type": "code",
   "execution_count": 63,
   "metadata": {
    "metadata": {}
   },
   "outputs": [],
   "source": [
    "# Yearly profit\n",
    "# First we'll create a view with the profit per sale.\n",
    "\n",
    "query = \"\"\"\n",
    "CREATE VIEW IF NOT EXISTS profit_per_sale AS \n",
    "SELECT *, CAST((total_revenue - total_cost) AS int) AS total_profit\n",
    "FROM (\n",
    "    SELECT \n",
    "        fact_sales_monthly.*,\n",
    "        gross_price,\n",
    "        manufacturing_cost,\n",
    "        pre_invoice_discount_pct,\n",
    "        ((gross_price * (1 - pre_invoice_discount_pct)) * sold_quantity) AS total_revenue,\n",
    "        (manufacturing_cost * sold_quantity) AS total_cost\n",
    "        \n",
    "    FROM fact_sales_monthly\n",
    "        JOIN fact_manufacturing_cost \n",
    "            ON fact_manufacturing_cost.product_code = fact_sales_monthly.product_code\n",
    "            AND fact_manufacturing_cost.cost_year = fact_sales_monthly.fiscal_year\n",
    "        JOIN fact_gross_price \n",
    "            ON fact_gross_price.product_code = fact_sales_monthly.product_code\n",
    "            AND fact_gross_price.fiscal_year = fact_sales_monthly.fiscal_year\n",
    "        JOIN fact_pre_discount \n",
    "            ON fact_pre_discount.customer_code = fact_sales_monthly.customer_code\n",
    "            AND fact_pre_discount.fiscal_year = fact_sales_monthly.fiscal_year\n",
    ")\n",
    "\n",
    "\"\"\"\n",
    "cursor.execute(query);"
   ]
  },
  {
   "cell_type": "code",
   "execution_count": 64,
   "metadata": {
    "metadata": {}
   },
   "outputs": [
    {
     "data": {
      "text/html": [
       "<div>\n",
       "<style scoped>\n",
       "    .dataframe tbody tr th:only-of-type {\n",
       "        vertical-align: middle;\n",
       "    }\n",
       "\n",
       "    .dataframe tbody tr th {\n",
       "        vertical-align: top;\n",
       "    }\n",
       "\n",
       "    .dataframe thead th {\n",
       "        text-align: right;\n",
       "    }\n",
       "</style>\n",
       "<table border=\"1\" class=\"dataframe\">\n",
       "  <thead>\n",
       "    <tr style=\"text-align: right;\">\n",
       "      <th></th>\n",
       "      <th>product_code</th>\n",
       "      <th>display_name</th>\n",
       "      <th>variant</th>\n",
       "      <th>fiscal_year</th>\n",
       "      <th>profit</th>\n",
       "    </tr>\n",
       "  </thead>\n",
       "  <tbody>\n",
       "    <tr>\n",
       "      <th>0</th>\n",
       "      <td>A0321150302</td>\n",
       "      <td>AQ Zion Saga</td>\n",
       "      <td>Plus</td>\n",
       "      <td>2022</td>\n",
       "      <td>2383543</td>\n",
       "    </tr>\n",
       "    <tr>\n",
       "      <th>1</th>\n",
       "      <td>A0321150303</td>\n",
       "      <td>AQ Zion Saga</td>\n",
       "      <td>Premium</td>\n",
       "      <td>2022</td>\n",
       "      <td>2227494</td>\n",
       "    </tr>\n",
       "    <tr>\n",
       "      <th>2</th>\n",
       "      <td>A0418150103</td>\n",
       "      <td>AQ Mforce Gen X</td>\n",
       "      <td>Standard 3</td>\n",
       "      <td>2022</td>\n",
       "      <td>2201061</td>\n",
       "    </tr>\n",
       "    <tr>\n",
       "      <th>3</th>\n",
       "      <td>A0219150202</td>\n",
       "      <td>AQ Werewolf NAS</td>\n",
       "      <td>Plus</td>\n",
       "      <td>2022</td>\n",
       "      <td>2032675</td>\n",
       "    </tr>\n",
       "    <tr>\n",
       "      <th>4</th>\n",
       "      <td>A0220150203</td>\n",
       "      <td>AQ Werewolf NAS</td>\n",
       "      <td>Premium</td>\n",
       "      <td>2022</td>\n",
       "      <td>2031093</td>\n",
       "    </tr>\n",
       "  </tbody>\n",
       "</table>\n",
       "</div>"
      ],
      "text/plain": [
       "  product_code     display_name     variant  fiscal_year   profit\n",
       "0  A0321150302     AQ Zion Saga        Plus         2022  2383543\n",
       "1  A0321150303     AQ Zion Saga     Premium         2022  2227494\n",
       "2  A0418150103  AQ Mforce Gen X  Standard 3         2022  2201061\n",
       "3  A0219150202  AQ Werewolf NAS        Plus         2022  2032675\n",
       "4  A0220150203  AQ Werewolf NAS     Premium         2022  2031093"
      ]
     },
     "execution_count": 64,
     "metadata": {},
     "output_type": "execute_result"
    }
   ],
   "source": [
    "# Calculate the profit per year\n",
    "\n",
    "query = \"\"\"\n",
    "SELECT dim_product.product_code, display_name, variant, profit_per_sale.fiscal_year, SUM(total_profit) AS profit\n",
    "FROM dim_product \n",
    "    JOIN profit_per_sale USING(product_code)\n",
    "GROUP BY profit_per_sale.product_code, profit_per_sale.fiscal_year\n",
    "ORDER BY profit DESC\n",
    "\"\"\"\n",
    "\n",
    "yearly_profit_df = pd.read_sql_query(query, con)\n",
    "yearly_profit_df.head(5)"
   ]
  },
  {
   "cell_type": "code",
   "execution_count": 65,
   "metadata": {},
   "outputs": [
    {
     "data": {
      "text/html": [
       "<div>\n",
       "<style scoped>\n",
       "    .dataframe tbody tr th:only-of-type {\n",
       "        vertical-align: middle;\n",
       "    }\n",
       "\n",
       "    .dataframe tbody tr th {\n",
       "        vertical-align: top;\n",
       "    }\n",
       "\n",
       "    .dataframe thead th {\n",
       "        text-align: right;\n",
       "    }\n",
       "</style>\n",
       "<table border=\"1\" class=\"dataframe\">\n",
       "  <thead>\n",
       "    <tr style=\"text-align: right;\">\n",
       "      <th></th>\n",
       "      <th>product_code</th>\n",
       "      <th>display_name</th>\n",
       "      <th>variant</th>\n",
       "      <th>fiscal_year</th>\n",
       "      <th>profit</th>\n",
       "    </tr>\n",
       "  </thead>\n",
       "  <tbody>\n",
       "    <tr>\n",
       "      <th>0</th>\n",
       "      <td>A0321150302</td>\n",
       "      <td>AQ Zion Saga</td>\n",
       "      <td>Plus</td>\n",
       "      <td>2022</td>\n",
       "      <td>2383543</td>\n",
       "    </tr>\n",
       "    <tr>\n",
       "      <th>1</th>\n",
       "      <td>A0321150303</td>\n",
       "      <td>AQ Zion Saga</td>\n",
       "      <td>Premium</td>\n",
       "      <td>2022</td>\n",
       "      <td>2227494</td>\n",
       "    </tr>\n",
       "    <tr>\n",
       "      <th>2</th>\n",
       "      <td>A0418150103</td>\n",
       "      <td>AQ Mforce Gen X</td>\n",
       "      <td>Standard 3</td>\n",
       "      <td>2022</td>\n",
       "      <td>2201061</td>\n",
       "    </tr>\n",
       "    <tr>\n",
       "      <th>3</th>\n",
       "      <td>A0219150202</td>\n",
       "      <td>AQ Werewolf NAS</td>\n",
       "      <td>Plus</td>\n",
       "      <td>2022</td>\n",
       "      <td>2032675</td>\n",
       "    </tr>\n",
       "    <tr>\n",
       "      <th>4</th>\n",
       "      <td>A0220150203</td>\n",
       "      <td>AQ Werewolf NAS</td>\n",
       "      <td>Premium</td>\n",
       "      <td>2022</td>\n",
       "      <td>2031093</td>\n",
       "    </tr>\n",
       "  </tbody>\n",
       "</table>\n",
       "</div>"
      ],
      "text/plain": [
       "  product_code     display_name     variant  fiscal_year   profit\n",
       "0  A0321150302     AQ Zion Saga        Plus         2022  2383543\n",
       "1  A0321150303     AQ Zion Saga     Premium         2022  2227494\n",
       "2  A0418150103  AQ Mforce Gen X  Standard 3         2022  2201061\n",
       "3  A0219150202  AQ Werewolf NAS        Plus         2022  2032675\n",
       "4  A0220150203  AQ Werewolf NAS     Premium         2022  2031093"
      ]
     },
     "execution_count": 65,
     "metadata": {},
     "output_type": "execute_result"
    }
   ],
   "source": [
    "# Calculate the profit per year\n",
    "\n",
    "query = \"\"\"\n",
    "SELECT dim_product.product_code, display_name, variant, profit_per_sale.fiscal_year, SUM(total_profit) AS profit\n",
    "FROM dim_product \n",
    "    JOIN profit_per_sale USING(product_code)\n",
    "GROUP BY profit_per_sale.product_code, profit_per_sale.fiscal_year\n",
    "ORDER BY profit DESC\n",
    "\"\"\"\n",
    "\n",
    "yearly_profit_df = pd.read_sql_query(query, con)\n",
    "yearly_profit_df.head(5)"
   ]
  },
  {
   "cell_type": "code",
   "execution_count": 71,
   "metadata": {
    "metadata": {}
   },
   "outputs": [
    {
     "data": {
      "application/vnd.plotly.v1+json": {
       "config": {
        "plotlyServerURL": "https://plot.ly"
       },
       "data": [
        {
         "alignmentgroup": "True",
         "hovertemplate": "variant=Standard<br>fiscal_year=2018<br>display_name=%{x}<br>profit=%{y}<extra></extra>",
         "legendgroup": "Standard",
         "marker": {
          "color": "#636efa",
          "pattern": {
           "shape": ""
          }
         },
         "name": "Standard",
         "offsetgroup": "Standard",
         "orientation": "v",
         "showlegend": true,
         "textposition": "auto",
         "type": "bar",
         "x": [
          "AQ Dracula HDD"
         ],
         "xaxis": "x",
         "y": [
          132350
         ],
         "yaxis": "y"
        },
        {
         "alignmentgroup": "True",
         "hovertemplate": "variant=Standard<br>fiscal_year=2019<br>display_name=%{x}<br>profit=%{y}<extra></extra>",
         "legendgroup": "Standard",
         "marker": {
          "color": "#636efa",
          "pattern": {
           "shape": ""
          }
         },
         "name": "Standard",
         "offsetgroup": "Standard",
         "orientation": "v",
         "showlegend": false,
         "textposition": "auto",
         "type": "bar",
         "x": [
          "AQ Werewolf NAS",
          "AQ Dracula HDD"
         ],
         "xaxis": "x2",
         "y": [
          366302,
          289742
         ],
         "yaxis": "y2"
        },
        {
         "alignmentgroup": "True",
         "hovertemplate": "variant=Standard<br>fiscal_year=2020<br>display_name=%{x}<br>profit=%{y}<extra></extra>",
         "legendgroup": "Standard",
         "marker": {
          "color": "#636efa",
          "pattern": {
           "shape": ""
          }
         },
         "name": "Standard",
         "offsetgroup": "Standard",
         "orientation": "v",
         "showlegend": false,
         "textposition": "auto",
         "type": "bar",
         "x": [
          "AQ Dracula HDD",
          "AQ Zion Saga",
          "AQ Werewolf NAS"
         ],
         "xaxis": "x3",
         "y": [
          466088,
          661579,
          659313
         ],
         "yaxis": "y3"
        },
        {
         "alignmentgroup": "True",
         "hovertemplate": "variant=Standard<br>fiscal_year=2021<br>display_name=%{x}<br>profit=%{y}<extra></extra>",
         "legendgroup": "Standard",
         "marker": {
          "color": "#636efa",
          "pattern": {
           "shape": ""
          }
         },
         "name": "Standard",
         "offsetgroup": "Standard",
         "orientation": "v",
         "showlegend": false,
         "textposition": "auto",
         "type": "bar",
         "x": [
          "AQ Werewolf NAS",
          "AQ Zion Saga",
          "AQ Dracula HDD"
         ],
         "xaxis": "x4",
         "y": [
          1113091,
          1045599,
          904598
         ],
         "yaxis": "y4"
        },
        {
         "alignmentgroup": "True",
         "hovertemplate": "variant=Standard<br>fiscal_year=2022<br>display_name=%{x}<br>profit=%{y}<extra></extra>",
         "legendgroup": "Standard",
         "marker": {
          "color": "#636efa",
          "pattern": {
           "shape": ""
          }
         },
         "name": "Standard",
         "offsetgroup": "Standard",
         "orientation": "v",
         "showlegend": false,
         "textposition": "auto",
         "type": "bar",
         "x": [
          "AQ Zion Saga",
          "AQ Werewolf NAS"
         ],
         "xaxis": "x5",
         "y": [
          1898232,
          1999345
         ],
         "yaxis": "y5"
        },
        {
         "alignmentgroup": "True",
         "hovertemplate": "variant=Plus 1<br>fiscal_year=2018<br>display_name=%{x}<br>profit=%{y}<extra></extra>",
         "legendgroup": "Plus 1",
         "marker": {
          "color": "#EF553B",
          "pattern": {
           "shape": ""
          }
         },
         "name": "Plus 1",
         "offsetgroup": "Plus 1",
         "orientation": "v",
         "showlegend": true,
         "textposition": "auto",
         "type": "bar",
         "x": [
          "AQ Mforce Gen X"
         ],
         "xaxis": "x",
         "y": [
          207468
         ],
         "yaxis": "y"
        },
        {
         "alignmentgroup": "True",
         "hovertemplate": "variant=Plus 1<br>fiscal_year=2019<br>display_name=%{x}<br>profit=%{y}<extra></extra>",
         "legendgroup": "Plus 1",
         "marker": {
          "color": "#EF553B",
          "pattern": {
           "shape": ""
          }
         },
         "name": "Plus 1",
         "offsetgroup": "Plus 1",
         "orientation": "v",
         "showlegend": false,
         "textposition": "auto",
         "type": "bar",
         "x": [
          "AQ Mforce Gen X"
         ],
         "xaxis": "x2",
         "y": [
          224667
         ],
         "yaxis": "y2"
        },
        {
         "alignmentgroup": "True",
         "hovertemplate": "variant=Standard 3<br>fiscal_year=2018<br>display_name=%{x}<br>profit=%{y}<extra></extra>",
         "legendgroup": "Standard 3",
         "marker": {
          "color": "#00cc96",
          "pattern": {
           "shape": ""
          }
         },
         "name": "Standard 3",
         "offsetgroup": "Standard 3",
         "orientation": "v",
         "showlegend": true,
         "textposition": "auto",
         "type": "bar",
         "x": [
          "AQ Mforce Gen X"
         ],
         "xaxis": "x",
         "y": [
          197334
         ],
         "yaxis": "y"
        },
        {
         "alignmentgroup": "True",
         "hovertemplate": "variant=Standard 3<br>fiscal_year=2019<br>display_name=%{x}<br>profit=%{y}<extra></extra>",
         "legendgroup": "Standard 3",
         "marker": {
          "color": "#00cc96",
          "pattern": {
           "shape": ""
          }
         },
         "name": "Standard 3",
         "offsetgroup": "Standard 3",
         "orientation": "v",
         "showlegend": false,
         "textposition": "auto",
         "type": "bar",
         "x": [
          "AQ Mforce Gen X"
         ],
         "xaxis": "x2",
         "y": [
          258163
         ],
         "yaxis": "y2"
        },
        {
         "alignmentgroup": "True",
         "hovertemplate": "variant=Standard 3<br>fiscal_year=2020<br>display_name=%{x}<br>profit=%{y}<extra></extra>",
         "legendgroup": "Standard 3",
         "marker": {
          "color": "#00cc96",
          "pattern": {
           "shape": ""
          }
         },
         "name": "Standard 3",
         "offsetgroup": "Standard 3",
         "orientation": "v",
         "showlegend": false,
         "textposition": "auto",
         "type": "bar",
         "x": [
          "AQ Mforce Gen X"
         ],
         "xaxis": "x3",
         "y": [
          365696
         ],
         "yaxis": "y3"
        },
        {
         "alignmentgroup": "True",
         "hovertemplate": "variant=Standard 3<br>fiscal_year=2021<br>display_name=%{x}<br>profit=%{y}<extra></extra>",
         "legendgroup": "Standard 3",
         "marker": {
          "color": "#00cc96",
          "pattern": {
           "shape": ""
          }
         },
         "name": "Standard 3",
         "offsetgroup": "Standard 3",
         "orientation": "v",
         "showlegend": false,
         "textposition": "auto",
         "type": "bar",
         "x": [
          "AQ Mforce Gen X"
         ],
         "xaxis": "x4",
         "y": [
          714951
         ],
         "yaxis": "y4"
        },
        {
         "alignmentgroup": "True",
         "hovertemplate": "variant=Standard 3<br>fiscal_year=2022<br>display_name=%{x}<br>profit=%{y}<extra></extra>",
         "legendgroup": "Standard 3",
         "marker": {
          "color": "#00cc96",
          "pattern": {
           "shape": ""
          }
         },
         "name": "Standard 3",
         "offsetgroup": "Standard 3",
         "orientation": "v",
         "showlegend": false,
         "textposition": "auto",
         "type": "bar",
         "x": [
          "AQ Mforce Gen X"
         ],
         "xaxis": "x5",
         "y": [
          2201061
         ],
         "yaxis": "y5"
        },
        {
         "alignmentgroup": "True",
         "hovertemplate": "variant=Standard 2<br>fiscal_year=2018<br>display_name=%{x}<br>profit=%{y}<extra></extra>",
         "legendgroup": "Standard 2",
         "marker": {
          "color": "#ab63fa",
          "pattern": {
           "shape": ""
          }
         },
         "name": "Standard 2",
         "offsetgroup": "Standard 2",
         "orientation": "v",
         "showlegend": true,
         "textposition": "auto",
         "type": "bar",
         "x": [
          "AQ Mforce Gen X"
         ],
         "xaxis": "x",
         "y": [
          170616
         ],
         "yaxis": "y"
        },
        {
         "alignmentgroup": "True",
         "hovertemplate": "variant=Standard 2<br>fiscal_year=2019<br>display_name=%{x}<br>profit=%{y}<extra></extra>",
         "legendgroup": "Standard 2",
         "marker": {
          "color": "#ab63fa",
          "pattern": {
           "shape": ""
          }
         },
         "name": "Standard 2",
         "offsetgroup": "Standard 2",
         "orientation": "v",
         "showlegend": false,
         "textposition": "auto",
         "type": "bar",
         "x": [
          "AQ Mforce Gen X"
         ],
         "xaxis": "x2",
         "y": [
          252842
         ],
         "yaxis": "y2"
        },
        {
         "alignmentgroup": "True",
         "hovertemplate": "variant=Standard 2<br>fiscal_year=2020<br>display_name=%{x}<br>profit=%{y}<extra></extra>",
         "legendgroup": "Standard 2",
         "marker": {
          "color": "#ab63fa",
          "pattern": {
           "shape": ""
          }
         },
         "name": "Standard 2",
         "offsetgroup": "Standard 2",
         "orientation": "v",
         "showlegend": false,
         "textposition": "auto",
         "type": "bar",
         "x": [
          "AQ Mforce Gen X"
         ],
         "xaxis": "x3",
         "y": [
          363685
         ],
         "yaxis": "y3"
        },
        {
         "alignmentgroup": "True",
         "hovertemplate": "variant=Standard 1<br>fiscal_year=2018<br>display_name=%{x}<br>profit=%{y}<extra></extra>",
         "legendgroup": "Standard 1",
         "marker": {
          "color": "#FFA15A",
          "pattern": {
           "shape": ""
          }
         },
         "name": "Standard 1",
         "offsetgroup": "Standard 1",
         "orientation": "v",
         "showlegend": true,
         "textposition": "auto",
         "type": "bar",
         "x": [
          "AQ Mforce Gen X"
         ],
         "xaxis": "x",
         "y": [
          159785
         ],
         "yaxis": "y"
        },
        {
         "alignmentgroup": "True",
         "hovertemplate": "variant=Standard 1<br>fiscal_year=2019<br>display_name=%{x}<br>profit=%{y}<extra></extra>",
         "legendgroup": "Standard 1",
         "marker": {
          "color": "#FFA15A",
          "pattern": {
           "shape": ""
          }
         },
         "name": "Standard 1",
         "offsetgroup": "Standard 1",
         "orientation": "v",
         "showlegend": false,
         "textposition": "auto",
         "type": "bar",
         "x": [
          "AQ Mforce Gen X"
         ],
         "xaxis": "x2",
         "y": [
          209551
         ],
         "yaxis": "y2"
        },
        {
         "alignmentgroup": "True",
         "hovertemplate": "variant=Standard 1<br>fiscal_year=2020<br>display_name=%{x}<br>profit=%{y}<extra></extra>",
         "legendgroup": "Standard 1",
         "marker": {
          "color": "#FFA15A",
          "pattern": {
           "shape": ""
          }
         },
         "name": "Standard 1",
         "offsetgroup": "Standard 1",
         "orientation": "v",
         "showlegend": false,
         "textposition": "auto",
         "type": "bar",
         "x": [
          "AQ Mforce Gen X"
         ],
         "xaxis": "x3",
         "y": [
          379978
         ],
         "yaxis": "y3"
        },
        {
         "alignmentgroup": "True",
         "hovertemplate": "variant=Plus<br>fiscal_year=2018<br>display_name=%{x}<br>profit=%{y}<extra></extra>",
         "legendgroup": "Plus",
         "marker": {
          "color": "#19d3f3",
          "pattern": {
           "shape": ""
          }
         },
         "name": "Plus",
         "offsetgroup": "Plus",
         "orientation": "v",
         "showlegend": true,
         "textposition": "auto",
         "type": "bar",
         "x": [
          "AQ Dracula HDD"
         ],
         "xaxis": "x",
         "y": [
          166258
         ],
         "yaxis": "y"
        },
        {
         "alignmentgroup": "True",
         "hovertemplate": "variant=Plus<br>fiscal_year=2019<br>display_name=%{x}<br>profit=%{y}<extra></extra>",
         "legendgroup": "Plus",
         "marker": {
          "color": "#19d3f3",
          "pattern": {
           "shape": ""
          }
         },
         "name": "Plus",
         "offsetgroup": "Plus",
         "orientation": "v",
         "showlegend": false,
         "textposition": "auto",
         "type": "bar",
         "x": [
          "AQ Werewolf NAS",
          "AQ Dracula HDD"
         ],
         "xaxis": "x2",
         "y": [
          404799,
          377407
         ],
         "yaxis": "y2"
        },
        {
         "alignmentgroup": "True",
         "hovertemplate": "variant=Plus<br>fiscal_year=2020<br>display_name=%{x}<br>profit=%{y}<extra></extra>",
         "legendgroup": "Plus",
         "marker": {
          "color": "#19d3f3",
          "pattern": {
           "shape": ""
          }
         },
         "name": "Plus",
         "offsetgroup": "Plus",
         "orientation": "v",
         "showlegend": false,
         "textposition": "auto",
         "type": "bar",
         "x": [
          "AQ Dracula HDD",
          "AQ Werewolf NAS"
         ],
         "xaxis": "x3",
         "y": [
          607409,
          719674
         ],
         "yaxis": "y3"
        },
        {
         "alignmentgroup": "True",
         "hovertemplate": "variant=Plus<br>fiscal_year=2021<br>display_name=%{x}<br>profit=%{y}<extra></extra>",
         "legendgroup": "Plus",
         "marker": {
          "color": "#19d3f3",
          "pattern": {
           "shape": ""
          }
         },
         "name": "Plus",
         "offsetgroup": "Plus",
         "orientation": "v",
         "showlegend": false,
         "textposition": "auto",
         "type": "bar",
         "x": [
          "AQ Zion Saga",
          "AQ Werewolf NAS",
          "AQ Dracula HDD"
         ],
         "xaxis": "x4",
         "y": [
          1286222,
          1136227,
          994218
         ],
         "yaxis": "y4"
        },
        {
         "alignmentgroup": "True",
         "hovertemplate": "variant=Plus<br>fiscal_year=2022<br>display_name=%{x}<br>profit=%{y}<extra></extra>",
         "legendgroup": "Plus",
         "marker": {
          "color": "#19d3f3",
          "pattern": {
           "shape": ""
          }
         },
         "name": "Plus",
         "offsetgroup": "Plus",
         "orientation": "v",
         "showlegend": false,
         "textposition": "auto",
         "type": "bar",
         "x": [
          "AQ Werewolf NAS",
          "AQ Zion Saga"
         ],
         "xaxis": "x5",
         "y": [
          2032675,
          2383543
         ],
         "yaxis": "y5"
        },
        {
         "alignmentgroup": "True",
         "hovertemplate": "variant=Premium<br>fiscal_year=2018<br>display_name=%{x}<br>profit=%{y}<extra></extra>",
         "legendgroup": "Premium",
         "marker": {
          "color": "#FF6692",
          "pattern": {
           "shape": ""
          }
         },
         "name": "Premium",
         "offsetgroup": "Premium",
         "orientation": "v",
         "showlegend": true,
         "textposition": "auto",
         "type": "bar",
         "x": [
          "AQ Dracula HDD"
         ],
         "xaxis": "x",
         "y": [
          164597
         ],
         "yaxis": "y"
        },
        {
         "alignmentgroup": "True",
         "hovertemplate": "variant=Premium<br>fiscal_year=2019<br>display_name=%{x}<br>profit=%{y}<extra></extra>",
         "legendgroup": "Premium",
         "marker": {
          "color": "#FF6692",
          "pattern": {
           "shape": ""
          }
         },
         "name": "Premium",
         "offsetgroup": "Premium",
         "orientation": "v",
         "showlegend": false,
         "textposition": "auto",
         "type": "bar",
         "x": [
          "AQ Dracula HDD"
         ],
         "xaxis": "x2",
         "y": [
          396959
         ],
         "yaxis": "y2"
        },
        {
         "alignmentgroup": "True",
         "hovertemplate": "variant=Premium<br>fiscal_year=2020<br>display_name=%{x}<br>profit=%{y}<extra></extra>",
         "legendgroup": "Premium",
         "marker": {
          "color": "#FF6692",
          "pattern": {
           "shape": ""
          }
         },
         "name": "Premium",
         "offsetgroup": "Premium",
         "orientation": "v",
         "showlegend": false,
         "textposition": "auto",
         "type": "bar",
         "x": [
          "AQ Dracula HDD",
          "AQ Werewolf NAS"
         ],
         "xaxis": "x3",
         "y": [
          658529,
          720554
         ],
         "yaxis": "y3"
        },
        {
         "alignmentgroup": "True",
         "hovertemplate": "variant=Premium<br>fiscal_year=2021<br>display_name=%{x}<br>profit=%{y}<extra></extra>",
         "legendgroup": "Premium",
         "marker": {
          "color": "#FF6692",
          "pattern": {
           "shape": ""
          }
         },
         "name": "Premium",
         "offsetgroup": "Premium",
         "orientation": "v",
         "showlegend": false,
         "textposition": "auto",
         "type": "bar",
         "x": [
          "AQ Zion Saga",
          "AQ Dracula HDD",
          "AQ Werewolf NAS"
         ],
         "xaxis": "x4",
         "y": [
          1251616,
          950699,
          1047157
         ],
         "yaxis": "y4"
        },
        {
         "alignmentgroup": "True",
         "hovertemplate": "variant=Premium<br>fiscal_year=2022<br>display_name=%{x}<br>profit=%{y}<extra></extra>",
         "legendgroup": "Premium",
         "marker": {
          "color": "#FF6692",
          "pattern": {
           "shape": ""
          }
         },
         "name": "Premium",
         "offsetgroup": "Premium",
         "orientation": "v",
         "showlegend": false,
         "textposition": "auto",
         "type": "bar",
         "x": [
          "AQ Dracula HDD",
          "AQ Werewolf NAS",
          "AQ Zion Saga"
         ],
         "xaxis": "x5",
         "y": [
          1821241,
          2031093,
          2227494
         ],
         "yaxis": "y5"
        },
        {
         "alignmentgroup": "True",
         "hovertemplate": "variant=Premium Plus<br>fiscal_year=2018<br>display_name=%{x}<br>profit=%{y}<extra></extra>",
         "legendgroup": "Premium Plus",
         "marker": {
          "color": "#B6E880",
          "pattern": {
           "shape": ""
          }
         },
         "name": "Premium Plus",
         "offsetgroup": "Premium Plus",
         "orientation": "v",
         "showlegend": true,
         "textposition": "auto",
         "type": "bar",
         "x": [
          "AQ Dracula HDD"
         ],
         "xaxis": "x",
         "y": [
          167384
         ],
         "yaxis": "y"
        },
        {
         "alignmentgroup": "True",
         "hovertemplate": "variant=Premium Plus<br>fiscal_year=2019<br>display_name=%{x}<br>profit=%{y}<extra></extra>",
         "legendgroup": "Premium Plus",
         "marker": {
          "color": "#B6E880",
          "pattern": {
           "shape": ""
          }
         },
         "name": "Premium Plus",
         "offsetgroup": "Premium Plus",
         "orientation": "v",
         "showlegend": false,
         "textposition": "auto",
         "type": "bar",
         "x": [
          "AQ Dracula HDD"
         ],
         "xaxis": "x2",
         "y": [
          376138
         ],
         "yaxis": "y2"
        },
        {
         "alignmentgroup": "True",
         "hovertemplate": "variant=Premium Plus<br>fiscal_year=2020<br>display_name=%{x}<br>profit=%{y}<extra></extra>",
         "legendgroup": "Premium Plus",
         "marker": {
          "color": "#B6E880",
          "pattern": {
           "shape": ""
          }
         },
         "name": "Premium Plus",
         "offsetgroup": "Premium Plus",
         "orientation": "v",
         "showlegend": false,
         "textposition": "auto",
         "type": "bar",
         "x": [
          "AQ Dracula HDD"
         ],
         "xaxis": "x3",
         "y": [
          576467
         ],
         "yaxis": "y3"
        },
        {
         "alignmentgroup": "True",
         "hovertemplate": "variant=Premium Plus<br>fiscal_year=2021<br>display_name=%{x}<br>profit=%{y}<extra></extra>",
         "legendgroup": "Premium Plus",
         "marker": {
          "color": "#B6E880",
          "pattern": {
           "shape": ""
          }
         },
         "name": "Premium Plus",
         "offsetgroup": "Premium Plus",
         "orientation": "v",
         "showlegend": false,
         "textposition": "auto",
         "type": "bar",
         "x": [
          "AQ Dracula HDD"
         ],
         "xaxis": "x4",
         "y": [
          1051605
         ],
         "yaxis": "y4"
        },
        {
         "alignmentgroup": "True",
         "hovertemplate": "variant=Premium Plus<br>fiscal_year=2022<br>display_name=%{x}<br>profit=%{y}<extra></extra>",
         "legendgroup": "Premium Plus",
         "marker": {
          "color": "#B6E880",
          "pattern": {
           "shape": ""
          }
         },
         "name": "Premium Plus",
         "offsetgroup": "Premium Plus",
         "orientation": "v",
         "showlegend": false,
         "textposition": "auto",
         "type": "bar",
         "x": [
          "AQ Dracula HDD"
         ],
         "xaxis": "x5",
         "y": [
          1796918
         ],
         "yaxis": "y5"
        }
       ],
       "layout": {
        "annotations": [
         {
          "font": {},
          "showarrow": false,
          "text": "2018",
          "x": 0.1,
          "xanchor": "center",
          "xref": "paper",
          "y": 1,
          "yanchor": "bottom",
          "yref": "paper"
         },
         {
          "font": {},
          "showarrow": false,
          "text": "2019",
          "x": 0.30000000000000004,
          "xanchor": "center",
          "xref": "paper",
          "y": 1,
          "yanchor": "bottom",
          "yref": "paper"
         },
         {
          "font": {},
          "showarrow": false,
          "text": "2020",
          "x": 0.5,
          "xanchor": "center",
          "xref": "paper",
          "y": 1,
          "yanchor": "bottom",
          "yref": "paper"
         },
         {
          "font": {},
          "showarrow": false,
          "text": "2021",
          "x": 0.7,
          "xanchor": "center",
          "xref": "paper",
          "y": 1,
          "yanchor": "bottom",
          "yref": "paper"
         },
         {
          "font": {},
          "showarrow": false,
          "text": "2022",
          "x": 0.8999999999999999,
          "xanchor": "center",
          "xref": "paper",
          "y": 1,
          "yanchor": "bottom",
          "yref": "paper"
         }
        ],
        "barmode": "stack",
        "legend": {
         "title": {
          "text": "Variants"
         },
         "tracegroupgap": 0
        },
        "margin": {
         "t": 60
        },
        "showlegend": true,
        "template": {
         "data": {
          "bar": [
           {
            "error_x": {
             "color": "#2a3f5f"
            },
            "error_y": {
             "color": "#2a3f5f"
            },
            "marker": {
             "line": {
              "color": "#E5ECF6",
              "width": 0.5
             },
             "pattern": {
              "fillmode": "overlay",
              "size": 10,
              "solidity": 0.2
             }
            },
            "type": "bar"
           }
          ],
          "barpolar": [
           {
            "marker": {
             "line": {
              "color": "#E5ECF6",
              "width": 0.5
             },
             "pattern": {
              "fillmode": "overlay",
              "size": 10,
              "solidity": 0.2
             }
            },
            "type": "barpolar"
           }
          ],
          "carpet": [
           {
            "aaxis": {
             "endlinecolor": "#2a3f5f",
             "gridcolor": "white",
             "linecolor": "white",
             "minorgridcolor": "white",
             "startlinecolor": "#2a3f5f"
            },
            "baxis": {
             "endlinecolor": "#2a3f5f",
             "gridcolor": "white",
             "linecolor": "white",
             "minorgridcolor": "white",
             "startlinecolor": "#2a3f5f"
            },
            "type": "carpet"
           }
          ],
          "choropleth": [
           {
            "colorbar": {
             "outlinewidth": 0,
             "ticks": ""
            },
            "type": "choropleth"
           }
          ],
          "contour": [
           {
            "colorbar": {
             "outlinewidth": 0,
             "ticks": ""
            },
            "colorscale": [
             [
              0,
              "#0d0887"
             ],
             [
              0.1111111111111111,
              "#46039f"
             ],
             [
              0.2222222222222222,
              "#7201a8"
             ],
             [
              0.3333333333333333,
              "#9c179e"
             ],
             [
              0.4444444444444444,
              "#bd3786"
             ],
             [
              0.5555555555555556,
              "#d8576b"
             ],
             [
              0.6666666666666666,
              "#ed7953"
             ],
             [
              0.7777777777777778,
              "#fb9f3a"
             ],
             [
              0.8888888888888888,
              "#fdca26"
             ],
             [
              1,
              "#f0f921"
             ]
            ],
            "type": "contour"
           }
          ],
          "contourcarpet": [
           {
            "colorbar": {
             "outlinewidth": 0,
             "ticks": ""
            },
            "type": "contourcarpet"
           }
          ],
          "heatmap": [
           {
            "colorbar": {
             "outlinewidth": 0,
             "ticks": ""
            },
            "colorscale": [
             [
              0,
              "#0d0887"
             ],
             [
              0.1111111111111111,
              "#46039f"
             ],
             [
              0.2222222222222222,
              "#7201a8"
             ],
             [
              0.3333333333333333,
              "#9c179e"
             ],
             [
              0.4444444444444444,
              "#bd3786"
             ],
             [
              0.5555555555555556,
              "#d8576b"
             ],
             [
              0.6666666666666666,
              "#ed7953"
             ],
             [
              0.7777777777777778,
              "#fb9f3a"
             ],
             [
              0.8888888888888888,
              "#fdca26"
             ],
             [
              1,
              "#f0f921"
             ]
            ],
            "type": "heatmap"
           }
          ],
          "heatmapgl": [
           {
            "colorbar": {
             "outlinewidth": 0,
             "ticks": ""
            },
            "colorscale": [
             [
              0,
              "#0d0887"
             ],
             [
              0.1111111111111111,
              "#46039f"
             ],
             [
              0.2222222222222222,
              "#7201a8"
             ],
             [
              0.3333333333333333,
              "#9c179e"
             ],
             [
              0.4444444444444444,
              "#bd3786"
             ],
             [
              0.5555555555555556,
              "#d8576b"
             ],
             [
              0.6666666666666666,
              "#ed7953"
             ],
             [
              0.7777777777777778,
              "#fb9f3a"
             ],
             [
              0.8888888888888888,
              "#fdca26"
             ],
             [
              1,
              "#f0f921"
             ]
            ],
            "type": "heatmapgl"
           }
          ],
          "histogram": [
           {
            "marker": {
             "pattern": {
              "fillmode": "overlay",
              "size": 10,
              "solidity": 0.2
             }
            },
            "type": "histogram"
           }
          ],
          "histogram2d": [
           {
            "colorbar": {
             "outlinewidth": 0,
             "ticks": ""
            },
            "colorscale": [
             [
              0,
              "#0d0887"
             ],
             [
              0.1111111111111111,
              "#46039f"
             ],
             [
              0.2222222222222222,
              "#7201a8"
             ],
             [
              0.3333333333333333,
              "#9c179e"
             ],
             [
              0.4444444444444444,
              "#bd3786"
             ],
             [
              0.5555555555555556,
              "#d8576b"
             ],
             [
              0.6666666666666666,
              "#ed7953"
             ],
             [
              0.7777777777777778,
              "#fb9f3a"
             ],
             [
              0.8888888888888888,
              "#fdca26"
             ],
             [
              1,
              "#f0f921"
             ]
            ],
            "type": "histogram2d"
           }
          ],
          "histogram2dcontour": [
           {
            "colorbar": {
             "outlinewidth": 0,
             "ticks": ""
            },
            "colorscale": [
             [
              0,
              "#0d0887"
             ],
             [
              0.1111111111111111,
              "#46039f"
             ],
             [
              0.2222222222222222,
              "#7201a8"
             ],
             [
              0.3333333333333333,
              "#9c179e"
             ],
             [
              0.4444444444444444,
              "#bd3786"
             ],
             [
              0.5555555555555556,
              "#d8576b"
             ],
             [
              0.6666666666666666,
              "#ed7953"
             ],
             [
              0.7777777777777778,
              "#fb9f3a"
             ],
             [
              0.8888888888888888,
              "#fdca26"
             ],
             [
              1,
              "#f0f921"
             ]
            ],
            "type": "histogram2dcontour"
           }
          ],
          "mesh3d": [
           {
            "colorbar": {
             "outlinewidth": 0,
             "ticks": ""
            },
            "type": "mesh3d"
           }
          ],
          "parcoords": [
           {
            "line": {
             "colorbar": {
              "outlinewidth": 0,
              "ticks": ""
             }
            },
            "type": "parcoords"
           }
          ],
          "pie": [
           {
            "automargin": true,
            "type": "pie"
           }
          ],
          "scatter": [
           {
            "fillpattern": {
             "fillmode": "overlay",
             "size": 10,
             "solidity": 0.2
            },
            "type": "scatter"
           }
          ],
          "scatter3d": [
           {
            "line": {
             "colorbar": {
              "outlinewidth": 0,
              "ticks": ""
             }
            },
            "marker": {
             "colorbar": {
              "outlinewidth": 0,
              "ticks": ""
             }
            },
            "type": "scatter3d"
           }
          ],
          "scattercarpet": [
           {
            "marker": {
             "colorbar": {
              "outlinewidth": 0,
              "ticks": ""
             }
            },
            "type": "scattercarpet"
           }
          ],
          "scattergeo": [
           {
            "marker": {
             "colorbar": {
              "outlinewidth": 0,
              "ticks": ""
             }
            },
            "type": "scattergeo"
           }
          ],
          "scattergl": [
           {
            "marker": {
             "colorbar": {
              "outlinewidth": 0,
              "ticks": ""
             }
            },
            "type": "scattergl"
           }
          ],
          "scattermapbox": [
           {
            "marker": {
             "colorbar": {
              "outlinewidth": 0,
              "ticks": ""
             }
            },
            "type": "scattermapbox"
           }
          ],
          "scatterpolar": [
           {
            "marker": {
             "colorbar": {
              "outlinewidth": 0,
              "ticks": ""
             }
            },
            "type": "scatterpolar"
           }
          ],
          "scatterpolargl": [
           {
            "marker": {
             "colorbar": {
              "outlinewidth": 0,
              "ticks": ""
             }
            },
            "type": "scatterpolargl"
           }
          ],
          "scatterternary": [
           {
            "marker": {
             "colorbar": {
              "outlinewidth": 0,
              "ticks": ""
             }
            },
            "type": "scatterternary"
           }
          ],
          "surface": [
           {
            "colorbar": {
             "outlinewidth": 0,
             "ticks": ""
            },
            "colorscale": [
             [
              0,
              "#0d0887"
             ],
             [
              0.1111111111111111,
              "#46039f"
             ],
             [
              0.2222222222222222,
              "#7201a8"
             ],
             [
              0.3333333333333333,
              "#9c179e"
             ],
             [
              0.4444444444444444,
              "#bd3786"
             ],
             [
              0.5555555555555556,
              "#d8576b"
             ],
             [
              0.6666666666666666,
              "#ed7953"
             ],
             [
              0.7777777777777778,
              "#fb9f3a"
             ],
             [
              0.8888888888888888,
              "#fdca26"
             ],
             [
              1,
              "#f0f921"
             ]
            ],
            "type": "surface"
           }
          ],
          "table": [
           {
            "cells": {
             "fill": {
              "color": "#EBF0F8"
             },
             "line": {
              "color": "white"
             }
            },
            "header": {
             "fill": {
              "color": "#C8D4E3"
             },
             "line": {
              "color": "white"
             }
            },
            "type": "table"
           }
          ]
         },
         "layout": {
          "annotationdefaults": {
           "arrowcolor": "#2a3f5f",
           "arrowhead": 0,
           "arrowwidth": 1
          },
          "autotypenumbers": "strict",
          "coloraxis": {
           "colorbar": {
            "outlinewidth": 0,
            "ticks": ""
           }
          },
          "colorscale": {
           "diverging": [
            [
             0,
             "#8e0152"
            ],
            [
             0.1,
             "#c51b7d"
            ],
            [
             0.2,
             "#de77ae"
            ],
            [
             0.3,
             "#f1b6da"
            ],
            [
             0.4,
             "#fde0ef"
            ],
            [
             0.5,
             "#f7f7f7"
            ],
            [
             0.6,
             "#e6f5d0"
            ],
            [
             0.7,
             "#b8e186"
            ],
            [
             0.8,
             "#7fbc41"
            ],
            [
             0.9,
             "#4d9221"
            ],
            [
             1,
             "#276419"
            ]
           ],
           "sequential": [
            [
             0,
             "#0d0887"
            ],
            [
             0.1111111111111111,
             "#46039f"
            ],
            [
             0.2222222222222222,
             "#7201a8"
            ],
            [
             0.3333333333333333,
             "#9c179e"
            ],
            [
             0.4444444444444444,
             "#bd3786"
            ],
            [
             0.5555555555555556,
             "#d8576b"
            ],
            [
             0.6666666666666666,
             "#ed7953"
            ],
            [
             0.7777777777777778,
             "#fb9f3a"
            ],
            [
             0.8888888888888888,
             "#fdca26"
            ],
            [
             1,
             "#f0f921"
            ]
           ],
           "sequentialminus": [
            [
             0,
             "#0d0887"
            ],
            [
             0.1111111111111111,
             "#46039f"
            ],
            [
             0.2222222222222222,
             "#7201a8"
            ],
            [
             0.3333333333333333,
             "#9c179e"
            ],
            [
             0.4444444444444444,
             "#bd3786"
            ],
            [
             0.5555555555555556,
             "#d8576b"
            ],
            [
             0.6666666666666666,
             "#ed7953"
            ],
            [
             0.7777777777777778,
             "#fb9f3a"
            ],
            [
             0.8888888888888888,
             "#fdca26"
            ],
            [
             1,
             "#f0f921"
            ]
           ]
          },
          "colorway": [
           "#636efa",
           "#EF553B",
           "#00cc96",
           "#ab63fa",
           "#FFA15A",
           "#19d3f3",
           "#FF6692",
           "#B6E880",
           "#FF97FF",
           "#FECB52"
          ],
          "font": {
           "color": "#2a3f5f"
          },
          "geo": {
           "bgcolor": "white",
           "lakecolor": "white",
           "landcolor": "#E5ECF6",
           "showlakes": true,
           "showland": true,
           "subunitcolor": "white"
          },
          "hoverlabel": {
           "align": "left"
          },
          "hovermode": "closest",
          "mapbox": {
           "style": "light"
          },
          "paper_bgcolor": "white",
          "plot_bgcolor": "#E5ECF6",
          "polar": {
           "angularaxis": {
            "gridcolor": "white",
            "linecolor": "white",
            "ticks": ""
           },
           "bgcolor": "#E5ECF6",
           "radialaxis": {
            "gridcolor": "white",
            "linecolor": "white",
            "ticks": ""
           }
          },
          "scene": {
           "xaxis": {
            "backgroundcolor": "#E5ECF6",
            "gridcolor": "white",
            "gridwidth": 2,
            "linecolor": "white",
            "showbackground": true,
            "ticks": "",
            "zerolinecolor": "white"
           },
           "yaxis": {
            "backgroundcolor": "#E5ECF6",
            "gridcolor": "white",
            "gridwidth": 2,
            "linecolor": "white",
            "showbackground": true,
            "ticks": "",
            "zerolinecolor": "white"
           },
           "zaxis": {
            "backgroundcolor": "#E5ECF6",
            "gridcolor": "white",
            "gridwidth": 2,
            "linecolor": "white",
            "showbackground": true,
            "ticks": "",
            "zerolinecolor": "white"
           }
          },
          "shapedefaults": {
           "line": {
            "color": "#2a3f5f"
           }
          },
          "ternary": {
           "aaxis": {
            "gridcolor": "white",
            "linecolor": "white",
            "ticks": ""
           },
           "baxis": {
            "gridcolor": "white",
            "linecolor": "white",
            "ticks": ""
           },
           "bgcolor": "#E5ECF6",
           "caxis": {
            "gridcolor": "white",
            "linecolor": "white",
            "ticks": ""
           }
          },
          "title": {
           "x": 0.05
          },
          "xaxis": {
           "automargin": true,
           "gridcolor": "white",
           "linecolor": "white",
           "ticks": "",
           "title": {
            "standoff": 15
           },
           "zerolinecolor": "white",
           "zerolinewidth": 2
          },
          "yaxis": {
           "automargin": true,
           "gridcolor": "white",
           "linecolor": "white",
           "ticks": "",
           "title": {
            "standoff": 15
           },
           "zerolinecolor": "white",
           "zerolinewidth": 2
          }
         }
        },
        "title": {
         "text": "Yearly Profit by Product"
        },
        "xaxis": {
         "anchor": "y",
         "domain": [
          0,
          0.18400000000000002
         ],
         "showticklabels": true,
         "title": {
          "text": ""
         }
        },
        "xaxis2": {
         "anchor": "y2",
         "domain": [
          0.20400000000000001,
          0.388
         ],
         "matches": "x",
         "showticklabels": true,
         "title": {
          "text": ""
         }
        },
        "xaxis3": {
         "anchor": "y3",
         "domain": [
          0.40800000000000003,
          0.5920000000000001
         ],
         "matches": "x",
         "showticklabels": true,
         "title": {
          "text": ""
         }
        },
        "xaxis4": {
         "anchor": "y4",
         "domain": [
          0.6120000000000001,
          0.7960000000000002
         ],
         "matches": "x",
         "showticklabels": true,
         "title": {
          "text": ""
         }
        },
        "xaxis5": {
         "anchor": "y5",
         "domain": [
          0.8160000000000001,
          1
         ],
         "matches": "x",
         "showticklabels": true,
         "title": {
          "text": ""
         }
        },
        "yaxis": {
         "anchor": "x",
         "domain": [
          0,
          1
         ],
         "title": {
          "text": ""
         }
        },
        "yaxis2": {
         "anchor": "x2",
         "domain": [
          0,
          1
         ],
         "matches": "y",
         "showticklabels": false,
         "title": {
          "text": "Profit"
         }
        },
        "yaxis3": {
         "anchor": "x3",
         "domain": [
          0,
          1
         ],
         "matches": "y",
         "showticklabels": false,
         "title": {
          "text": "Profit"
         }
        },
        "yaxis4": {
         "anchor": "x4",
         "domain": [
          0,
          1
         ],
         "matches": "y",
         "showticklabels": false,
         "title": {
          "text": "Profit"
         }
        },
        "yaxis5": {
         "anchor": "x5",
         "domain": [
          0,
          1
         ],
         "matches": "y",
         "showticklabels": false,
         "title": {
          "text": "Profit"
         }
        }
       }
      }
     },
     "metadata": {},
     "output_type": "display_data"
    }
   ],
   "source": [
    "# Create the stacked bar chart\n",
    "fig = px.bar(yearly_profit_df.sort_values(by='fiscal_year', ascending=True),\n",
    "              x='display_name',\n",
    "              y='profit',\n",
    "              color='variant',\n",
    "              facet_col='fiscal_year',\n",
    "              barmode='stack',\n",
    "              facet_col_wrap=5,\n",
    "              )\n",
    "\n",
    "# Update axis titles\n",
    "fig.update_xaxes(title_text='', showticklabels=True)\n",
    "fig.update_yaxes(title_text='Profit')\n",
    "\n",
    "annot = []\n",
    "offset = 0.2\n",
    "x_pos = 0.1\n",
    "for year in yearly_profit_df.sort_values(by='fiscal_year', ascending=True)['fiscal_year'].unique():\n",
    "    annot.append(\n",
    "        dict(\n",
    "            text = f'{year}',\n",
    "            x = x_pos,\n",
    "            y = 1,\n",
    "            showarrow = False,\n",
    "            xref = 'paper',\n",
    "            yref='paper'\n",
    "        )\n",
    "    )\n",
    "    x_pos += offset\n",
    "\n",
    "# Update facet titles\n",
    "fig.update_layout(\n",
    "    title='Yearly Profit by Product',\n",
    "    showlegend=True,\n",
    "    legend_title='Variants',\n",
    "    yaxis=dict(title=''), \n",
    "    annotations=annot\n",
    ")\n",
    "\n",
    "fig.show()"
   ]
  },
  {
   "cell_type": "markdown",
   "metadata": {},
   "source": [
    "There has been a remarkable grow in the last years. Remember that this data has only the first 3 months of 2022!\n",
    "\n",
    "The Mforce Gen X is also struggling to keep up when measuring profit. "
   ]
  },
  {
   "cell_type": "markdown",
   "metadata": {},
   "source": [
    "[Back to Contents](#contents)"
   ]
  },
  {
   "cell_type": "markdown",
   "metadata": {},
   "source": [
    "### Popularity across time and markets"
   ]
  },
  {
   "cell_type": "markdown",
   "metadata": {},
   "source": [
    "How has popularity changed over time and across markets?\n",
    "\n",
    "In this section we'll be looking for seasonality, and patterns in markets."
   ]
  },
  {
   "cell_type": "markdown",
   "metadata": {},
   "source": [
    "First, lets see how each product sells during each month. Since we only have 3 months on 2022 we'll exclude it from this chart. We only want full years."
   ]
  },
  {
   "cell_type": "code",
   "execution_count": 72,
   "metadata": {},
   "outputs": [],
   "source": [
    "# Product sales per month\n",
    "query = \"\"\"\n",
    "SELECT \n",
    "    display_name,\n",
    "    date, \n",
    "    CAST(fiscal_year AS text) as fiscal_year, \n",
    "    SUBSTR('JanFebMarAprMayJunJulAugSepOctNovDec', 3 * CAST(strftime('%m', date) AS int) - 2, 3) AS month, \n",
    "    SUM(sold_quantity) as total_sold\n",
    "FROM fact_sales_monthly\n",
    "    JOIN dim_product USING(product_code)\n",
    "WHERE fiscal_year != 2022\n",
    "GROUP BY product, date\n",
    "ORDER BY product, date ASC\n",
    "\"\"\"\n",
    "\n",
    "sales_by_month_df = pd.read_sql_query(query, con)\n"
   ]
  },
  {
   "cell_type": "code",
   "execution_count": 73,
   "metadata": {},
   "outputs": [
    {
     "data": {
      "application/vnd.plotly.v1+json": {
       "config": {
        "plotlyServerURL": "https://plot.ly"
       },
       "data": [
        {
         "alignmentgroup": "True",
         "hovertemplate": "fiscal_year=2018<br>display_name=AQ Dracula HDD<br>month=%{x}<br>total_sold=%{y}<extra></extra>",
         "legendgroup": "2018",
         "marker": {
          "color": "#003f5c",
          "pattern": {
           "shape": ""
          }
         },
         "name": "2018",
         "offsetgroup": "2018",
         "orientation": "v",
         "showlegend": true,
         "textposition": "auto",
         "type": "bar",
         "x": [
          "Sep",
          "Oct",
          "Nov",
          "Dec",
          "Jan",
          "Feb",
          "Mar",
          "Apr",
          "May",
          "Jun",
          "Jul",
          "Aug"
         ],
         "xaxis": "x4",
         "y": [
          5237,
          6472,
          9642,
          9572,
          5223,
          5056,
          5838,
          5590,
          5112,
          5254,
          5510,
          5399
         ],
         "yaxis": "y4"
        },
        {
         "alignmentgroup": "True",
         "hovertemplate": "fiscal_year=2018<br>display_name=AQ Mforce Gen X<br>month=%{x}<br>total_sold=%{y}<extra></extra>",
         "legendgroup": "2018",
         "marker": {
          "color": "#003f5c",
          "pattern": {
           "shape": ""
          }
         },
         "name": "2018",
         "offsetgroup": "2018",
         "orientation": "v",
         "showlegend": false,
         "textposition": "auto",
         "type": "bar",
         "x": [
          "Sep",
          "Oct",
          "Nov",
          "Dec",
          "Jan",
          "Feb",
          "Mar",
          "Apr",
          "May",
          "Jun",
          "Jul",
          "Aug"
         ],
         "xaxis": "x3",
         "y": [
          6188,
          8388,
          11370,
          12043,
          6490,
          6601,
          6765,
          6692,
          6735,
          6764,
          6311,
          7019
         ],
         "yaxis": "y3"
        },
        {
         "alignmentgroup": "True",
         "hovertemplate": "fiscal_year=2019<br>display_name=AQ Dracula HDD<br>month=%{x}<br>total_sold=%{y}<extra></extra>",
         "legendgroup": "2019",
         "marker": {
          "color": "#58508d",
          "pattern": {
           "shape": ""
          }
         },
         "name": "2019",
         "offsetgroup": "2019",
         "orientation": "v",
         "showlegend": true,
         "textposition": "auto",
         "type": "bar",
         "x": [
          "Sep",
          "Oct",
          "Nov",
          "Dec",
          "Jan",
          "Feb",
          "Mar",
          "Apr",
          "May",
          "Jun",
          "Jul",
          "Aug"
         ],
         "xaxis": "x4",
         "y": [
          12582,
          15863,
          20295,
          21290,
          12342,
          12615,
          11947,
          12094,
          12125,
          12175,
          12228,
          12596
         ],
         "yaxis": "y4"
        },
        {
         "alignmentgroup": "True",
         "hovertemplate": "fiscal_year=2019<br>display_name=AQ Mforce Gen X<br>month=%{x}<br>total_sold=%{y}<extra></extra>",
         "legendgroup": "2019",
         "marker": {
          "color": "#58508d",
          "pattern": {
           "shape": ""
          }
         },
         "name": "2019",
         "offsetgroup": "2019",
         "orientation": "v",
         "showlegend": false,
         "textposition": "auto",
         "type": "bar",
         "x": [
          "Sep",
          "Oct",
          "Nov",
          "Dec",
          "Jan",
          "Feb",
          "Mar",
          "Apr",
          "May",
          "Jun",
          "Jul",
          "Aug"
         ],
         "xaxis": "x3",
         "y": [
          10209,
          12303,
          15721,
          17051,
          9826,
          9696,
          9522,
          9872,
          10156,
          8994,
          7051,
          6960
         ],
         "yaxis": "y3"
        },
        {
         "alignmentgroup": "True",
         "hovertemplate": "fiscal_year=2019<br>display_name=AQ Werewolf NAS<br>month=%{x}<br>total_sold=%{y}<extra></extra>",
         "legendgroup": "2019",
         "marker": {
          "color": "#58508d",
          "pattern": {
           "shape": ""
          }
         },
         "name": "2019",
         "offsetgroup": "2019",
         "orientation": "v",
         "showlegend": false,
         "textposition": "auto",
         "type": "bar",
         "x": [
          "Sep",
          "Oct",
          "Nov",
          "Dec",
          "Jan",
          "Feb",
          "Mar",
          "Apr",
          "May",
          "Jun",
          "Jul",
          "Aug"
         ],
         "xaxis": "x2",
         "y": [
          6349,
          7446,
          9886,
          11564,
          6105,
          6201,
          5886,
          6210,
          6239,
          6414,
          6217,
          5489
         ],
         "yaxis": "y2"
        },
        {
         "alignmentgroup": "True",
         "hovertemplate": "fiscal_year=2020<br>display_name=AQ Dracula HDD<br>month=%{x}<br>total_sold=%{y}<extra></extra>",
         "legendgroup": "2020",
         "marker": {
          "color": "#bc5090",
          "pattern": {
           "shape": ""
          }
         },
         "name": "2020",
         "offsetgroup": "2020",
         "orientation": "v",
         "showlegend": true,
         "textposition": "auto",
         "type": "bar",
         "x": [
          "Sep",
          "Oct",
          "Nov",
          "Dec",
          "Jan",
          "Feb",
          "Mar",
          "Apr",
          "May",
          "Jun",
          "Jul",
          "Aug"
         ],
         "xaxis": "x4",
         "y": [
          21057,
          26592,
          37368,
          38007,
          21387,
          21013,
          2978,
          9650,
          12399,
          19325,
          19425,
          20041
         ],
         "yaxis": "y4"
        },
        {
         "alignmentgroup": "True",
         "hovertemplate": "fiscal_year=2020<br>display_name=AQ Mforce Gen X<br>month=%{x}<br>total_sold=%{y}<extra></extra>",
         "legendgroup": "2020",
         "marker": {
          "color": "#bc5090",
          "pattern": {
           "shape": ""
          }
         },
         "name": "2020",
         "offsetgroup": "2020",
         "orientation": "v",
         "showlegend": false,
         "textposition": "auto",
         "type": "bar",
         "x": [
          "Sep",
          "Oct",
          "Nov",
          "Dec",
          "Jan",
          "Feb",
          "Mar",
          "Apr",
          "May",
          "Jun",
          "Jul",
          "Aug"
         ],
         "xaxis": "x3",
         "y": [
          12119,
          15463,
          19745,
          21810,
          11700,
          10634,
          1602,
          5229,
          6874,
          10386,
          10555,
          11752
         ],
         "yaxis": "y3"
        },
        {
         "alignmentgroup": "True",
         "hovertemplate": "fiscal_year=2020<br>display_name=AQ Werewolf NAS<br>month=%{x}<br>total_sold=%{y}<extra></extra>",
         "legendgroup": "2020",
         "marker": {
          "color": "#bc5090",
          "pattern": {
           "shape": ""
          }
         },
         "name": "2020",
         "offsetgroup": "2020",
         "orientation": "v",
         "showlegend": false,
         "textposition": "auto",
         "type": "bar",
         "x": [
          "Sep",
          "Oct",
          "Nov",
          "Dec",
          "Jan",
          "Feb",
          "Mar",
          "Apr",
          "May",
          "Jun",
          "Jul",
          "Aug"
         ],
         "xaxis": "x2",
         "y": [
          16848,
          19716,
          27680,
          30699,
          15591,
          16040,
          2151,
          7379,
          8973,
          13182,
          15380,
          15332
         ],
         "yaxis": "y2"
        },
        {
         "alignmentgroup": "True",
         "hovertemplate": "fiscal_year=2020<br>display_name=AQ Zion Saga<br>month=%{x}<br>total_sold=%{y}<extra></extra>",
         "legendgroup": "2020",
         "marker": {
          "color": "#bc5090",
          "pattern": {
           "shape": ""
          }
         },
         "name": "2020",
         "offsetgroup": "2020",
         "orientation": "v",
         "showlegend": false,
         "textposition": "auto",
         "type": "bar",
         "x": [
          "Sep",
          "Oct",
          "Nov",
          "Dec",
          "Jan",
          "Feb",
          "Mar",
          "Apr",
          "May",
          "Jun",
          "Jul",
          "Aug"
         ],
         "xaxis": "x",
         "y": [
          5534,
          6287,
          9783,
          9838,
          5756,
          5241,
          742,
          2647,
          3247,
          5235,
          5024,
          5168
         ],
         "yaxis": "y"
        },
        {
         "alignmentgroup": "True",
         "hovertemplate": "fiscal_year=2021<br>display_name=AQ Dracula HDD<br>month=%{x}<br>total_sold=%{y}<extra></extra>",
         "legendgroup": "2021",
         "marker": {
          "color": "#ff6361",
          "pattern": {
           "shape": ""
          }
         },
         "name": "2021",
         "offsetgroup": "2021",
         "orientation": "v",
         "showlegend": true,
         "textposition": "auto",
         "type": "bar",
         "x": [
          "Sep",
          "Oct",
          "Nov",
          "Dec",
          "Jan",
          "Feb",
          "Mar",
          "Apr",
          "May",
          "Jun",
          "Jul",
          "Aug"
         ],
         "xaxis": "x4",
         "y": [
          28694,
          35933,
          50056,
          51811,
          28161,
          28305,
          26895,
          29475,
          27650,
          26412,
          28745,
          28438
         ],
         "yaxis": "y4"
        },
        {
         "alignmentgroup": "True",
         "hovertemplate": "fiscal_year=2021<br>display_name=AQ Mforce Gen X<br>month=%{x}<br>total_sold=%{y}<extra></extra>",
         "legendgroup": "2021",
         "marker": {
          "color": "#ff6361",
          "pattern": {
           "shape": ""
          }
         },
         "name": "2021",
         "offsetgroup": "2021",
         "orientation": "v",
         "showlegend": false,
         "textposition": "auto",
         "type": "bar",
         "x": [
          "Sep",
          "Oct",
          "Nov",
          "Dec",
          "Jan",
          "Feb",
          "Mar",
          "Apr",
          "May",
          "Jun",
          "Jul",
          "Aug"
         ],
         "xaxis": "x3",
         "y": [
          5421,
          7129,
          10007,
          10167,
          5400,
          5564,
          5562,
          5874,
          5580,
          5424,
          5768,
          5961
         ],
         "yaxis": "y3"
        },
        {
         "alignmentgroup": "True",
         "hovertemplate": "fiscal_year=2021<br>display_name=AQ Werewolf NAS<br>month=%{x}<br>total_sold=%{y}<extra></extra>",
         "legendgroup": "2021",
         "marker": {
          "color": "#ff6361",
          "pattern": {
           "shape": ""
          }
         },
         "name": "2021",
         "offsetgroup": "2021",
         "orientation": "v",
         "showlegend": false,
         "textposition": "auto",
         "type": "bar",
         "x": [
          "Sep",
          "Oct",
          "Nov",
          "Dec",
          "Jan",
          "Feb",
          "Mar",
          "Apr",
          "May",
          "Jun",
          "Jul",
          "Aug"
         ],
         "xaxis": "x2",
         "y": [
          21216,
          27228,
          35962,
          38406,
          22242,
          21393,
          21152,
          20742,
          22597,
          20728,
          21291,
          22748
         ],
         "yaxis": "y2"
        },
        {
         "alignmentgroup": "True",
         "hovertemplate": "fiscal_year=2021<br>display_name=AQ Zion Saga<br>month=%{x}<br>total_sold=%{y}<extra></extra>",
         "legendgroup": "2021",
         "marker": {
          "color": "#ff6361",
          "pattern": {
           "shape": ""
          }
         },
         "name": "2021",
         "offsetgroup": "2021",
         "orientation": "v",
         "showlegend": false,
         "textposition": "auto",
         "type": "bar",
         "x": [
          "Sep",
          "Oct",
          "Nov",
          "Dec",
          "Jan",
          "Feb",
          "Mar",
          "Apr",
          "May",
          "Jun",
          "Jul",
          "Aug"
         ],
         "xaxis": "x",
         "y": [
          21660,
          26818,
          34031,
          39566,
          20906,
          21941,
          22216,
          21677,
          20987,
          21655,
          21080,
          21269
         ],
         "yaxis": "y"
        }
       ],
       "layout": {
        "annotations": [
         {
          "font": {},
          "showarrow": false,
          "text": "AQ Zion Saga",
          "x": 0.5,
          "xanchor": "center",
          "xref": "paper",
          "y": 0.16,
          "yanchor": "bottom",
          "yref": "paper"
         },
         {
          "font": {},
          "showarrow": false,
          "text": "AQ Werewolf NAS",
          "x": 0.5,
          "xanchor": "center",
          "xref": "paper",
          "y": 0.44000000000000006,
          "yanchor": "bottom",
          "yref": "paper"
         },
         {
          "font": {},
          "showarrow": false,
          "text": "AQ Mforce Gen X",
          "x": 0.5,
          "xanchor": "center",
          "xref": "paper",
          "y": 0.7200000000000001,
          "yanchor": "bottom",
          "yref": "paper"
         },
         {
          "font": {},
          "showarrow": false,
          "text": "AQ Dracula HDD",
          "x": 0.5,
          "xanchor": "center",
          "xref": "paper",
          "y": 1,
          "yanchor": "bottom",
          "yref": "paper"
         }
        ],
        "barmode": "relative",
        "height": 800,
        "legend": {
         "title": {
          "text": "Fiscal year"
         },
         "tracegroupgap": 0
        },
        "margin": {
         "t": 60
        },
        "showlegend": true,
        "template": {
         "data": {
          "bar": [
           {
            "error_x": {
             "color": "#2a3f5f"
            },
            "error_y": {
             "color": "#2a3f5f"
            },
            "marker": {
             "line": {
              "color": "#E5ECF6",
              "width": 0.5
             },
             "pattern": {
              "fillmode": "overlay",
              "size": 10,
              "solidity": 0.2
             }
            },
            "type": "bar"
           }
          ],
          "barpolar": [
           {
            "marker": {
             "line": {
              "color": "#E5ECF6",
              "width": 0.5
             },
             "pattern": {
              "fillmode": "overlay",
              "size": 10,
              "solidity": 0.2
             }
            },
            "type": "barpolar"
           }
          ],
          "carpet": [
           {
            "aaxis": {
             "endlinecolor": "#2a3f5f",
             "gridcolor": "white",
             "linecolor": "white",
             "minorgridcolor": "white",
             "startlinecolor": "#2a3f5f"
            },
            "baxis": {
             "endlinecolor": "#2a3f5f",
             "gridcolor": "white",
             "linecolor": "white",
             "minorgridcolor": "white",
             "startlinecolor": "#2a3f5f"
            },
            "type": "carpet"
           }
          ],
          "choropleth": [
           {
            "colorbar": {
             "outlinewidth": 0,
             "ticks": ""
            },
            "type": "choropleth"
           }
          ],
          "contour": [
           {
            "colorbar": {
             "outlinewidth": 0,
             "ticks": ""
            },
            "colorscale": [
             [
              0,
              "#0d0887"
             ],
             [
              0.1111111111111111,
              "#46039f"
             ],
             [
              0.2222222222222222,
              "#7201a8"
             ],
             [
              0.3333333333333333,
              "#9c179e"
             ],
             [
              0.4444444444444444,
              "#bd3786"
             ],
             [
              0.5555555555555556,
              "#d8576b"
             ],
             [
              0.6666666666666666,
              "#ed7953"
             ],
             [
              0.7777777777777778,
              "#fb9f3a"
             ],
             [
              0.8888888888888888,
              "#fdca26"
             ],
             [
              1,
              "#f0f921"
             ]
            ],
            "type": "contour"
           }
          ],
          "contourcarpet": [
           {
            "colorbar": {
             "outlinewidth": 0,
             "ticks": ""
            },
            "type": "contourcarpet"
           }
          ],
          "heatmap": [
           {
            "colorbar": {
             "outlinewidth": 0,
             "ticks": ""
            },
            "colorscale": [
             [
              0,
              "#0d0887"
             ],
             [
              0.1111111111111111,
              "#46039f"
             ],
             [
              0.2222222222222222,
              "#7201a8"
             ],
             [
              0.3333333333333333,
              "#9c179e"
             ],
             [
              0.4444444444444444,
              "#bd3786"
             ],
             [
              0.5555555555555556,
              "#d8576b"
             ],
             [
              0.6666666666666666,
              "#ed7953"
             ],
             [
              0.7777777777777778,
              "#fb9f3a"
             ],
             [
              0.8888888888888888,
              "#fdca26"
             ],
             [
              1,
              "#f0f921"
             ]
            ],
            "type": "heatmap"
           }
          ],
          "heatmapgl": [
           {
            "colorbar": {
             "outlinewidth": 0,
             "ticks": ""
            },
            "colorscale": [
             [
              0,
              "#0d0887"
             ],
             [
              0.1111111111111111,
              "#46039f"
             ],
             [
              0.2222222222222222,
              "#7201a8"
             ],
             [
              0.3333333333333333,
              "#9c179e"
             ],
             [
              0.4444444444444444,
              "#bd3786"
             ],
             [
              0.5555555555555556,
              "#d8576b"
             ],
             [
              0.6666666666666666,
              "#ed7953"
             ],
             [
              0.7777777777777778,
              "#fb9f3a"
             ],
             [
              0.8888888888888888,
              "#fdca26"
             ],
             [
              1,
              "#f0f921"
             ]
            ],
            "type": "heatmapgl"
           }
          ],
          "histogram": [
           {
            "marker": {
             "pattern": {
              "fillmode": "overlay",
              "size": 10,
              "solidity": 0.2
             }
            },
            "type": "histogram"
           }
          ],
          "histogram2d": [
           {
            "colorbar": {
             "outlinewidth": 0,
             "ticks": ""
            },
            "colorscale": [
             [
              0,
              "#0d0887"
             ],
             [
              0.1111111111111111,
              "#46039f"
             ],
             [
              0.2222222222222222,
              "#7201a8"
             ],
             [
              0.3333333333333333,
              "#9c179e"
             ],
             [
              0.4444444444444444,
              "#bd3786"
             ],
             [
              0.5555555555555556,
              "#d8576b"
             ],
             [
              0.6666666666666666,
              "#ed7953"
             ],
             [
              0.7777777777777778,
              "#fb9f3a"
             ],
             [
              0.8888888888888888,
              "#fdca26"
             ],
             [
              1,
              "#f0f921"
             ]
            ],
            "type": "histogram2d"
           }
          ],
          "histogram2dcontour": [
           {
            "colorbar": {
             "outlinewidth": 0,
             "ticks": ""
            },
            "colorscale": [
             [
              0,
              "#0d0887"
             ],
             [
              0.1111111111111111,
              "#46039f"
             ],
             [
              0.2222222222222222,
              "#7201a8"
             ],
             [
              0.3333333333333333,
              "#9c179e"
             ],
             [
              0.4444444444444444,
              "#bd3786"
             ],
             [
              0.5555555555555556,
              "#d8576b"
             ],
             [
              0.6666666666666666,
              "#ed7953"
             ],
             [
              0.7777777777777778,
              "#fb9f3a"
             ],
             [
              0.8888888888888888,
              "#fdca26"
             ],
             [
              1,
              "#f0f921"
             ]
            ],
            "type": "histogram2dcontour"
           }
          ],
          "mesh3d": [
           {
            "colorbar": {
             "outlinewidth": 0,
             "ticks": ""
            },
            "type": "mesh3d"
           }
          ],
          "parcoords": [
           {
            "line": {
             "colorbar": {
              "outlinewidth": 0,
              "ticks": ""
             }
            },
            "type": "parcoords"
           }
          ],
          "pie": [
           {
            "automargin": true,
            "type": "pie"
           }
          ],
          "scatter": [
           {
            "fillpattern": {
             "fillmode": "overlay",
             "size": 10,
             "solidity": 0.2
            },
            "type": "scatter"
           }
          ],
          "scatter3d": [
           {
            "line": {
             "colorbar": {
              "outlinewidth": 0,
              "ticks": ""
             }
            },
            "marker": {
             "colorbar": {
              "outlinewidth": 0,
              "ticks": ""
             }
            },
            "type": "scatter3d"
           }
          ],
          "scattercarpet": [
           {
            "marker": {
             "colorbar": {
              "outlinewidth": 0,
              "ticks": ""
             }
            },
            "type": "scattercarpet"
           }
          ],
          "scattergeo": [
           {
            "marker": {
             "colorbar": {
              "outlinewidth": 0,
              "ticks": ""
             }
            },
            "type": "scattergeo"
           }
          ],
          "scattergl": [
           {
            "marker": {
             "colorbar": {
              "outlinewidth": 0,
              "ticks": ""
             }
            },
            "type": "scattergl"
           }
          ],
          "scattermapbox": [
           {
            "marker": {
             "colorbar": {
              "outlinewidth": 0,
              "ticks": ""
             }
            },
            "type": "scattermapbox"
           }
          ],
          "scatterpolar": [
           {
            "marker": {
             "colorbar": {
              "outlinewidth": 0,
              "ticks": ""
             }
            },
            "type": "scatterpolar"
           }
          ],
          "scatterpolargl": [
           {
            "marker": {
             "colorbar": {
              "outlinewidth": 0,
              "ticks": ""
             }
            },
            "type": "scatterpolargl"
           }
          ],
          "scatterternary": [
           {
            "marker": {
             "colorbar": {
              "outlinewidth": 0,
              "ticks": ""
             }
            },
            "type": "scatterternary"
           }
          ],
          "surface": [
           {
            "colorbar": {
             "outlinewidth": 0,
             "ticks": ""
            },
            "colorscale": [
             [
              0,
              "#0d0887"
             ],
             [
              0.1111111111111111,
              "#46039f"
             ],
             [
              0.2222222222222222,
              "#7201a8"
             ],
             [
              0.3333333333333333,
              "#9c179e"
             ],
             [
              0.4444444444444444,
              "#bd3786"
             ],
             [
              0.5555555555555556,
              "#d8576b"
             ],
             [
              0.6666666666666666,
              "#ed7953"
             ],
             [
              0.7777777777777778,
              "#fb9f3a"
             ],
             [
              0.8888888888888888,
              "#fdca26"
             ],
             [
              1,
              "#f0f921"
             ]
            ],
            "type": "surface"
           }
          ],
          "table": [
           {
            "cells": {
             "fill": {
              "color": "#EBF0F8"
             },
             "line": {
              "color": "white"
             }
            },
            "header": {
             "fill": {
              "color": "#C8D4E3"
             },
             "line": {
              "color": "white"
             }
            },
            "type": "table"
           }
          ]
         },
         "layout": {
          "annotationdefaults": {
           "arrowcolor": "#2a3f5f",
           "arrowhead": 0,
           "arrowwidth": 1
          },
          "autotypenumbers": "strict",
          "coloraxis": {
           "colorbar": {
            "outlinewidth": 0,
            "ticks": ""
           }
          },
          "colorscale": {
           "diverging": [
            [
             0,
             "#8e0152"
            ],
            [
             0.1,
             "#c51b7d"
            ],
            [
             0.2,
             "#de77ae"
            ],
            [
             0.3,
             "#f1b6da"
            ],
            [
             0.4,
             "#fde0ef"
            ],
            [
             0.5,
             "#f7f7f7"
            ],
            [
             0.6,
             "#e6f5d0"
            ],
            [
             0.7,
             "#b8e186"
            ],
            [
             0.8,
             "#7fbc41"
            ],
            [
             0.9,
             "#4d9221"
            ],
            [
             1,
             "#276419"
            ]
           ],
           "sequential": [
            [
             0,
             "#0d0887"
            ],
            [
             0.1111111111111111,
             "#46039f"
            ],
            [
             0.2222222222222222,
             "#7201a8"
            ],
            [
             0.3333333333333333,
             "#9c179e"
            ],
            [
             0.4444444444444444,
             "#bd3786"
            ],
            [
             0.5555555555555556,
             "#d8576b"
            ],
            [
             0.6666666666666666,
             "#ed7953"
            ],
            [
             0.7777777777777778,
             "#fb9f3a"
            ],
            [
             0.8888888888888888,
             "#fdca26"
            ],
            [
             1,
             "#f0f921"
            ]
           ],
           "sequentialminus": [
            [
             0,
             "#0d0887"
            ],
            [
             0.1111111111111111,
             "#46039f"
            ],
            [
             0.2222222222222222,
             "#7201a8"
            ],
            [
             0.3333333333333333,
             "#9c179e"
            ],
            [
             0.4444444444444444,
             "#bd3786"
            ],
            [
             0.5555555555555556,
             "#d8576b"
            ],
            [
             0.6666666666666666,
             "#ed7953"
            ],
            [
             0.7777777777777778,
             "#fb9f3a"
            ],
            [
             0.8888888888888888,
             "#fdca26"
            ],
            [
             1,
             "#f0f921"
            ]
           ]
          },
          "colorway": [
           "#636efa",
           "#EF553B",
           "#00cc96",
           "#ab63fa",
           "#FFA15A",
           "#19d3f3",
           "#FF6692",
           "#B6E880",
           "#FF97FF",
           "#FECB52"
          ],
          "font": {
           "color": "#2a3f5f"
          },
          "geo": {
           "bgcolor": "white",
           "lakecolor": "white",
           "landcolor": "#E5ECF6",
           "showlakes": true,
           "showland": true,
           "subunitcolor": "white"
          },
          "hoverlabel": {
           "align": "left"
          },
          "hovermode": "closest",
          "mapbox": {
           "style": "light"
          },
          "paper_bgcolor": "white",
          "plot_bgcolor": "#E5ECF6",
          "polar": {
           "angularaxis": {
            "gridcolor": "white",
            "linecolor": "white",
            "ticks": ""
           },
           "bgcolor": "#E5ECF6",
           "radialaxis": {
            "gridcolor": "white",
            "linecolor": "white",
            "ticks": ""
           }
          },
          "scene": {
           "xaxis": {
            "backgroundcolor": "#E5ECF6",
            "gridcolor": "white",
            "gridwidth": 2,
            "linecolor": "white",
            "showbackground": true,
            "ticks": "",
            "zerolinecolor": "white"
           },
           "yaxis": {
            "backgroundcolor": "#E5ECF6",
            "gridcolor": "white",
            "gridwidth": 2,
            "linecolor": "white",
            "showbackground": true,
            "ticks": "",
            "zerolinecolor": "white"
           },
           "zaxis": {
            "backgroundcolor": "#E5ECF6",
            "gridcolor": "white",
            "gridwidth": 2,
            "linecolor": "white",
            "showbackground": true,
            "ticks": "",
            "zerolinecolor": "white"
           }
          },
          "shapedefaults": {
           "line": {
            "color": "#2a3f5f"
           }
          },
          "ternary": {
           "aaxis": {
            "gridcolor": "white",
            "linecolor": "white",
            "ticks": ""
           },
           "baxis": {
            "gridcolor": "white",
            "linecolor": "white",
            "ticks": ""
           },
           "bgcolor": "#E5ECF6",
           "caxis": {
            "gridcolor": "white",
            "linecolor": "white",
            "ticks": ""
           }
          },
          "title": {
           "x": 0.05
          },
          "xaxis": {
           "automargin": true,
           "gridcolor": "white",
           "linecolor": "white",
           "ticks": "",
           "title": {
            "standoff": 15
           },
           "zerolinecolor": "white",
           "zerolinewidth": 2
          },
          "yaxis": {
           "automargin": true,
           "gridcolor": "white",
           "linecolor": "white",
           "ticks": "",
           "title": {
            "standoff": 15
           },
           "zerolinecolor": "white",
           "zerolinewidth": 2
          }
         }
        },
        "title": {
         "text": "Total sales by month"
        },
        "width": 800,
        "xaxis": {
         "anchor": "y",
         "domain": [
          0,
          1
         ],
         "showticklabels": true,
         "title": {
          "text": ""
         }
        },
        "xaxis2": {
         "anchor": "y2",
         "domain": [
          0,
          1
         ],
         "matches": "x",
         "showticklabels": true,
         "title": {
          "text": ""
         }
        },
        "xaxis3": {
         "anchor": "y3",
         "domain": [
          0,
          1
         ],
         "matches": "x",
         "showticklabels": true,
         "title": {
          "text": ""
         }
        },
        "xaxis4": {
         "anchor": "y4",
         "domain": [
          0,
          1
         ],
         "matches": "x",
         "showticklabels": true,
         "title": {
          "text": ""
         }
        },
        "yaxis": {
         "anchor": "x",
         "domain": [
          0,
          0.16
         ],
         "title": {
          "text": ""
         }
        },
        "yaxis2": {
         "anchor": "x2",
         "domain": [
          0.28,
          0.44000000000000006
         ],
         "matches": "y",
         "title": {
          "text": ""
         }
        },
        "yaxis3": {
         "anchor": "x3",
         "domain": [
          0.56,
          0.7200000000000001
         ],
         "matches": "y",
         "title": {
          "text": ""
         }
        },
        "yaxis4": {
         "anchor": "x4",
         "domain": [
          0.84,
          1
         ],
         "matches": "y",
         "title": {
          "text": ""
         }
        }
       }
      }
     },
     "metadata": {},
     "output_type": "display_data"
    }
   ],
   "source": [
    "custom_colors=['#003f5c','#58508d', '#bc5090', '#ff6361', '#ffa600']\n",
    "# Build a stacked bar chart with sales on each year.\n",
    "fig = px.bar(data_frame=sales_by_month_df,\n",
    "             x='month',\n",
    "             y='total_sold',\n",
    "             facet_col='display_name',\n",
    "             color='fiscal_year',\n",
    "             facet_col_wrap=1,\n",
    "             facet_row_spacing=0.12,\n",
    "             width=800,\n",
    "             height=800,\n",
    "             color_discrete_sequence=custom_colors\n",
    "             )\n",
    "\n",
    "# Update axis titles\n",
    "fig.update_xaxes(title_text='', showticklabels=True)\n",
    "fig.update_yaxes(title_text='')\n",
    "\n",
    "# Remove \"product=\" prefix from facet labels\n",
    "fig.for_each_annotation(lambda a: a.update(text=a.text.split(\"=\")[1]))\n",
    "\n",
    "fig.update_layout(\n",
    "    title='Total sales by month',\n",
    "    legend_title_text='Fiscal year',\n",
    "    showlegend=True\n",
    ")\n",
    "\n",
    "\n",
    "fig.show()"
   ]
  },
  {
   "cell_type": "markdown",
   "metadata": {},
   "source": [
    "There is a jump in sales in the last months of the year. It happens with all the products.\n",
    "\n",
    "It shows very clearly if we plot a historic chart."
   ]
  },
  {
   "cell_type": "code",
   "execution_count": 74,
   "metadata": {},
   "outputs": [
    {
     "data": {
      "application/vnd.plotly.v1+json": {
       "config": {
        "plotlyServerURL": "https://plot.ly"
       },
       "data": [
        {
         "alignmentgroup": "True",
         "hovertemplate": "fiscal_year=2018<br>display_name=AQ Dracula HDD<br>date=%{x}<br>total_sold=%{y}<extra></extra>",
         "legendgroup": "2018",
         "marker": {
          "color": "#003f5c",
          "pattern": {
           "shape": ""
          }
         },
         "name": "2018",
         "offsetgroup": "2018",
         "orientation": "v",
         "showlegend": true,
         "textposition": "auto",
         "type": "bar",
         "x": [
          "2017-09-01",
          "2017-10-01",
          "2017-11-01",
          "2017-12-01",
          "2018-01-01",
          "2018-02-01",
          "2018-03-01",
          "2018-04-01",
          "2018-05-01",
          "2018-06-01",
          "2018-07-01",
          "2018-08-01"
         ],
         "xaxis": "x4",
         "y": [
          5237,
          6472,
          9642,
          9572,
          5223,
          5056,
          5838,
          5590,
          5112,
          5254,
          5510,
          5399
         ],
         "yaxis": "y4"
        },
        {
         "alignmentgroup": "True",
         "hovertemplate": "fiscal_year=2018<br>display_name=AQ Mforce Gen X<br>date=%{x}<br>total_sold=%{y}<extra></extra>",
         "legendgroup": "2018",
         "marker": {
          "color": "#003f5c",
          "pattern": {
           "shape": ""
          }
         },
         "name": "2018",
         "offsetgroup": "2018",
         "orientation": "v",
         "showlegend": false,
         "textposition": "auto",
         "type": "bar",
         "x": [
          "2017-09-01",
          "2017-10-01",
          "2017-11-01",
          "2017-12-01",
          "2018-01-01",
          "2018-02-01",
          "2018-03-01",
          "2018-04-01",
          "2018-05-01",
          "2018-06-01",
          "2018-07-01",
          "2018-08-01"
         ],
         "xaxis": "x3",
         "y": [
          6188,
          8388,
          11370,
          12043,
          6490,
          6601,
          6765,
          6692,
          6735,
          6764,
          6311,
          7019
         ],
         "yaxis": "y3"
        },
        {
         "alignmentgroup": "True",
         "hovertemplate": "fiscal_year=2019<br>display_name=AQ Dracula HDD<br>date=%{x}<br>total_sold=%{y}<extra></extra>",
         "legendgroup": "2019",
         "marker": {
          "color": "#58508d",
          "pattern": {
           "shape": ""
          }
         },
         "name": "2019",
         "offsetgroup": "2019",
         "orientation": "v",
         "showlegend": true,
         "textposition": "auto",
         "type": "bar",
         "x": [
          "2018-09-01",
          "2018-10-01",
          "2018-11-01",
          "2018-12-01",
          "2019-01-01",
          "2019-02-01",
          "2019-03-01",
          "2019-04-01",
          "2019-05-01",
          "2019-06-01",
          "2019-07-01",
          "2019-08-01"
         ],
         "xaxis": "x4",
         "y": [
          12582,
          15863,
          20295,
          21290,
          12342,
          12615,
          11947,
          12094,
          12125,
          12175,
          12228,
          12596
         ],
         "yaxis": "y4"
        },
        {
         "alignmentgroup": "True",
         "hovertemplate": "fiscal_year=2019<br>display_name=AQ Mforce Gen X<br>date=%{x}<br>total_sold=%{y}<extra></extra>",
         "legendgroup": "2019",
         "marker": {
          "color": "#58508d",
          "pattern": {
           "shape": ""
          }
         },
         "name": "2019",
         "offsetgroup": "2019",
         "orientation": "v",
         "showlegend": false,
         "textposition": "auto",
         "type": "bar",
         "x": [
          "2018-09-01",
          "2018-10-01",
          "2018-11-01",
          "2018-12-01",
          "2019-01-01",
          "2019-02-01",
          "2019-03-01",
          "2019-04-01",
          "2019-05-01",
          "2019-06-01",
          "2019-07-01",
          "2019-08-01"
         ],
         "xaxis": "x3",
         "y": [
          10209,
          12303,
          15721,
          17051,
          9826,
          9696,
          9522,
          9872,
          10156,
          8994,
          7051,
          6960
         ],
         "yaxis": "y3"
        },
        {
         "alignmentgroup": "True",
         "hovertemplate": "fiscal_year=2019<br>display_name=AQ Werewolf NAS<br>date=%{x}<br>total_sold=%{y}<extra></extra>",
         "legendgroup": "2019",
         "marker": {
          "color": "#58508d",
          "pattern": {
           "shape": ""
          }
         },
         "name": "2019",
         "offsetgroup": "2019",
         "orientation": "v",
         "showlegend": false,
         "textposition": "auto",
         "type": "bar",
         "x": [
          "2018-09-01",
          "2018-10-01",
          "2018-11-01",
          "2018-12-01",
          "2019-01-01",
          "2019-02-01",
          "2019-03-01",
          "2019-04-01",
          "2019-05-01",
          "2019-06-01",
          "2019-07-01",
          "2019-08-01"
         ],
         "xaxis": "x2",
         "y": [
          6349,
          7446,
          9886,
          11564,
          6105,
          6201,
          5886,
          6210,
          6239,
          6414,
          6217,
          5489
         ],
         "yaxis": "y2"
        },
        {
         "alignmentgroup": "True",
         "hovertemplate": "fiscal_year=2020<br>display_name=AQ Dracula HDD<br>date=%{x}<br>total_sold=%{y}<extra></extra>",
         "legendgroup": "2020",
         "marker": {
          "color": "#bc5090",
          "pattern": {
           "shape": ""
          }
         },
         "name": "2020",
         "offsetgroup": "2020",
         "orientation": "v",
         "showlegend": true,
         "textposition": "auto",
         "type": "bar",
         "x": [
          "2019-09-01",
          "2019-10-01",
          "2019-11-01",
          "2019-12-01",
          "2020-01-01",
          "2020-02-01",
          "2020-03-01",
          "2020-04-01",
          "2020-05-01",
          "2020-06-01",
          "2020-07-01",
          "2020-08-01"
         ],
         "xaxis": "x4",
         "y": [
          21057,
          26592,
          37368,
          38007,
          21387,
          21013,
          2978,
          9650,
          12399,
          19325,
          19425,
          20041
         ],
         "yaxis": "y4"
        },
        {
         "alignmentgroup": "True",
         "hovertemplate": "fiscal_year=2020<br>display_name=AQ Mforce Gen X<br>date=%{x}<br>total_sold=%{y}<extra></extra>",
         "legendgroup": "2020",
         "marker": {
          "color": "#bc5090",
          "pattern": {
           "shape": ""
          }
         },
         "name": "2020",
         "offsetgroup": "2020",
         "orientation": "v",
         "showlegend": false,
         "textposition": "auto",
         "type": "bar",
         "x": [
          "2019-09-01",
          "2019-10-01",
          "2019-11-01",
          "2019-12-01",
          "2020-01-01",
          "2020-02-01",
          "2020-03-01",
          "2020-04-01",
          "2020-05-01",
          "2020-06-01",
          "2020-07-01",
          "2020-08-01"
         ],
         "xaxis": "x3",
         "y": [
          12119,
          15463,
          19745,
          21810,
          11700,
          10634,
          1602,
          5229,
          6874,
          10386,
          10555,
          11752
         ],
         "yaxis": "y3"
        },
        {
         "alignmentgroup": "True",
         "hovertemplate": "fiscal_year=2020<br>display_name=AQ Werewolf NAS<br>date=%{x}<br>total_sold=%{y}<extra></extra>",
         "legendgroup": "2020",
         "marker": {
          "color": "#bc5090",
          "pattern": {
           "shape": ""
          }
         },
         "name": "2020",
         "offsetgroup": "2020",
         "orientation": "v",
         "showlegend": false,
         "textposition": "auto",
         "type": "bar",
         "x": [
          "2019-09-01",
          "2019-10-01",
          "2019-11-01",
          "2019-12-01",
          "2020-01-01",
          "2020-02-01",
          "2020-03-01",
          "2020-04-01",
          "2020-05-01",
          "2020-06-01",
          "2020-07-01",
          "2020-08-01"
         ],
         "xaxis": "x2",
         "y": [
          16848,
          19716,
          27680,
          30699,
          15591,
          16040,
          2151,
          7379,
          8973,
          13182,
          15380,
          15332
         ],
         "yaxis": "y2"
        },
        {
         "alignmentgroup": "True",
         "hovertemplate": "fiscal_year=2020<br>display_name=AQ Zion Saga<br>date=%{x}<br>total_sold=%{y}<extra></extra>",
         "legendgroup": "2020",
         "marker": {
          "color": "#bc5090",
          "pattern": {
           "shape": ""
          }
         },
         "name": "2020",
         "offsetgroup": "2020",
         "orientation": "v",
         "showlegend": false,
         "textposition": "auto",
         "type": "bar",
         "x": [
          "2019-09-01",
          "2019-10-01",
          "2019-11-01",
          "2019-12-01",
          "2020-01-01",
          "2020-02-01",
          "2020-03-01",
          "2020-04-01",
          "2020-05-01",
          "2020-06-01",
          "2020-07-01",
          "2020-08-01"
         ],
         "xaxis": "x",
         "y": [
          5534,
          6287,
          9783,
          9838,
          5756,
          5241,
          742,
          2647,
          3247,
          5235,
          5024,
          5168
         ],
         "yaxis": "y"
        },
        {
         "alignmentgroup": "True",
         "hovertemplate": "fiscal_year=2021<br>display_name=AQ Dracula HDD<br>date=%{x}<br>total_sold=%{y}<extra></extra>",
         "legendgroup": "2021",
         "marker": {
          "color": "#ff6361",
          "pattern": {
           "shape": ""
          }
         },
         "name": "2021",
         "offsetgroup": "2021",
         "orientation": "v",
         "showlegend": true,
         "textposition": "auto",
         "type": "bar",
         "x": [
          "2020-09-01",
          "2020-10-01",
          "2020-11-01",
          "2020-12-01",
          "2021-01-01",
          "2021-02-01",
          "2021-03-01",
          "2021-04-01",
          "2021-05-01",
          "2021-06-01",
          "2021-07-01",
          "2021-08-01"
         ],
         "xaxis": "x4",
         "y": [
          28694,
          35933,
          50056,
          51811,
          28161,
          28305,
          26895,
          29475,
          27650,
          26412,
          28745,
          28438
         ],
         "yaxis": "y4"
        },
        {
         "alignmentgroup": "True",
         "hovertemplate": "fiscal_year=2021<br>display_name=AQ Mforce Gen X<br>date=%{x}<br>total_sold=%{y}<extra></extra>",
         "legendgroup": "2021",
         "marker": {
          "color": "#ff6361",
          "pattern": {
           "shape": ""
          }
         },
         "name": "2021",
         "offsetgroup": "2021",
         "orientation": "v",
         "showlegend": false,
         "textposition": "auto",
         "type": "bar",
         "x": [
          "2020-09-01",
          "2020-10-01",
          "2020-11-01",
          "2020-12-01",
          "2021-01-01",
          "2021-02-01",
          "2021-03-01",
          "2021-04-01",
          "2021-05-01",
          "2021-06-01",
          "2021-07-01",
          "2021-08-01"
         ],
         "xaxis": "x3",
         "y": [
          5421,
          7129,
          10007,
          10167,
          5400,
          5564,
          5562,
          5874,
          5580,
          5424,
          5768,
          5961
         ],
         "yaxis": "y3"
        },
        {
         "alignmentgroup": "True",
         "hovertemplate": "fiscal_year=2021<br>display_name=AQ Werewolf NAS<br>date=%{x}<br>total_sold=%{y}<extra></extra>",
         "legendgroup": "2021",
         "marker": {
          "color": "#ff6361",
          "pattern": {
           "shape": ""
          }
         },
         "name": "2021",
         "offsetgroup": "2021",
         "orientation": "v",
         "showlegend": false,
         "textposition": "auto",
         "type": "bar",
         "x": [
          "2020-09-01",
          "2020-10-01",
          "2020-11-01",
          "2020-12-01",
          "2021-01-01",
          "2021-02-01",
          "2021-03-01",
          "2021-04-01",
          "2021-05-01",
          "2021-06-01",
          "2021-07-01",
          "2021-08-01"
         ],
         "xaxis": "x2",
         "y": [
          21216,
          27228,
          35962,
          38406,
          22242,
          21393,
          21152,
          20742,
          22597,
          20728,
          21291,
          22748
         ],
         "yaxis": "y2"
        },
        {
         "alignmentgroup": "True",
         "hovertemplate": "fiscal_year=2021<br>display_name=AQ Zion Saga<br>date=%{x}<br>total_sold=%{y}<extra></extra>",
         "legendgroup": "2021",
         "marker": {
          "color": "#ff6361",
          "pattern": {
           "shape": ""
          }
         },
         "name": "2021",
         "offsetgroup": "2021",
         "orientation": "v",
         "showlegend": false,
         "textposition": "auto",
         "type": "bar",
         "x": [
          "2020-09-01",
          "2020-10-01",
          "2020-11-01",
          "2020-12-01",
          "2021-01-01",
          "2021-02-01",
          "2021-03-01",
          "2021-04-01",
          "2021-05-01",
          "2021-06-01",
          "2021-07-01",
          "2021-08-01"
         ],
         "xaxis": "x",
         "y": [
          21660,
          26818,
          34031,
          39566,
          20906,
          21941,
          22216,
          21677,
          20987,
          21655,
          21080,
          21269
         ],
         "yaxis": "y"
        }
       ],
       "layout": {
        "annotations": [
         {
          "font": {},
          "showarrow": false,
          "text": "AQ Zion Saga",
          "x": 0.5,
          "xanchor": "center",
          "xref": "paper",
          "y": 0.16,
          "yanchor": "bottom",
          "yref": "paper"
         },
         {
          "font": {},
          "showarrow": false,
          "text": "AQ Werewolf NAS",
          "x": 0.5,
          "xanchor": "center",
          "xref": "paper",
          "y": 0.44000000000000006,
          "yanchor": "bottom",
          "yref": "paper"
         },
         {
          "font": {},
          "showarrow": false,
          "text": "AQ Mforce Gen X",
          "x": 0.5,
          "xanchor": "center",
          "xref": "paper",
          "y": 0.7200000000000001,
          "yanchor": "bottom",
          "yref": "paper"
         },
         {
          "font": {},
          "showarrow": false,
          "text": "AQ Dracula HDD",
          "x": 0.5,
          "xanchor": "center",
          "xref": "paper",
          "y": 1,
          "yanchor": "bottom",
          "yref": "paper"
         }
        ],
        "barmode": "relative",
        "height": 600,
        "legend": {
         "title": {
          "text": "Fiscal year"
         },
         "tracegroupgap": 0
        },
        "margin": {
         "t": 60
        },
        "template": {
         "data": {
          "bar": [
           {
            "error_x": {
             "color": "#2a3f5f"
            },
            "error_y": {
             "color": "#2a3f5f"
            },
            "marker": {
             "line": {
              "color": "#E5ECF6",
              "width": 0.5
             },
             "pattern": {
              "fillmode": "overlay",
              "size": 10,
              "solidity": 0.2
             }
            },
            "type": "bar"
           }
          ],
          "barpolar": [
           {
            "marker": {
             "line": {
              "color": "#E5ECF6",
              "width": 0.5
             },
             "pattern": {
              "fillmode": "overlay",
              "size": 10,
              "solidity": 0.2
             }
            },
            "type": "barpolar"
           }
          ],
          "carpet": [
           {
            "aaxis": {
             "endlinecolor": "#2a3f5f",
             "gridcolor": "white",
             "linecolor": "white",
             "minorgridcolor": "white",
             "startlinecolor": "#2a3f5f"
            },
            "baxis": {
             "endlinecolor": "#2a3f5f",
             "gridcolor": "white",
             "linecolor": "white",
             "minorgridcolor": "white",
             "startlinecolor": "#2a3f5f"
            },
            "type": "carpet"
           }
          ],
          "choropleth": [
           {
            "colorbar": {
             "outlinewidth": 0,
             "ticks": ""
            },
            "type": "choropleth"
           }
          ],
          "contour": [
           {
            "colorbar": {
             "outlinewidth": 0,
             "ticks": ""
            },
            "colorscale": [
             [
              0,
              "#0d0887"
             ],
             [
              0.1111111111111111,
              "#46039f"
             ],
             [
              0.2222222222222222,
              "#7201a8"
             ],
             [
              0.3333333333333333,
              "#9c179e"
             ],
             [
              0.4444444444444444,
              "#bd3786"
             ],
             [
              0.5555555555555556,
              "#d8576b"
             ],
             [
              0.6666666666666666,
              "#ed7953"
             ],
             [
              0.7777777777777778,
              "#fb9f3a"
             ],
             [
              0.8888888888888888,
              "#fdca26"
             ],
             [
              1,
              "#f0f921"
             ]
            ],
            "type": "contour"
           }
          ],
          "contourcarpet": [
           {
            "colorbar": {
             "outlinewidth": 0,
             "ticks": ""
            },
            "type": "contourcarpet"
           }
          ],
          "heatmap": [
           {
            "colorbar": {
             "outlinewidth": 0,
             "ticks": ""
            },
            "colorscale": [
             [
              0,
              "#0d0887"
             ],
             [
              0.1111111111111111,
              "#46039f"
             ],
             [
              0.2222222222222222,
              "#7201a8"
             ],
             [
              0.3333333333333333,
              "#9c179e"
             ],
             [
              0.4444444444444444,
              "#bd3786"
             ],
             [
              0.5555555555555556,
              "#d8576b"
             ],
             [
              0.6666666666666666,
              "#ed7953"
             ],
             [
              0.7777777777777778,
              "#fb9f3a"
             ],
             [
              0.8888888888888888,
              "#fdca26"
             ],
             [
              1,
              "#f0f921"
             ]
            ],
            "type": "heatmap"
           }
          ],
          "heatmapgl": [
           {
            "colorbar": {
             "outlinewidth": 0,
             "ticks": ""
            },
            "colorscale": [
             [
              0,
              "#0d0887"
             ],
             [
              0.1111111111111111,
              "#46039f"
             ],
             [
              0.2222222222222222,
              "#7201a8"
             ],
             [
              0.3333333333333333,
              "#9c179e"
             ],
             [
              0.4444444444444444,
              "#bd3786"
             ],
             [
              0.5555555555555556,
              "#d8576b"
             ],
             [
              0.6666666666666666,
              "#ed7953"
             ],
             [
              0.7777777777777778,
              "#fb9f3a"
             ],
             [
              0.8888888888888888,
              "#fdca26"
             ],
             [
              1,
              "#f0f921"
             ]
            ],
            "type": "heatmapgl"
           }
          ],
          "histogram": [
           {
            "marker": {
             "pattern": {
              "fillmode": "overlay",
              "size": 10,
              "solidity": 0.2
             }
            },
            "type": "histogram"
           }
          ],
          "histogram2d": [
           {
            "colorbar": {
             "outlinewidth": 0,
             "ticks": ""
            },
            "colorscale": [
             [
              0,
              "#0d0887"
             ],
             [
              0.1111111111111111,
              "#46039f"
             ],
             [
              0.2222222222222222,
              "#7201a8"
             ],
             [
              0.3333333333333333,
              "#9c179e"
             ],
             [
              0.4444444444444444,
              "#bd3786"
             ],
             [
              0.5555555555555556,
              "#d8576b"
             ],
             [
              0.6666666666666666,
              "#ed7953"
             ],
             [
              0.7777777777777778,
              "#fb9f3a"
             ],
             [
              0.8888888888888888,
              "#fdca26"
             ],
             [
              1,
              "#f0f921"
             ]
            ],
            "type": "histogram2d"
           }
          ],
          "histogram2dcontour": [
           {
            "colorbar": {
             "outlinewidth": 0,
             "ticks": ""
            },
            "colorscale": [
             [
              0,
              "#0d0887"
             ],
             [
              0.1111111111111111,
              "#46039f"
             ],
             [
              0.2222222222222222,
              "#7201a8"
             ],
             [
              0.3333333333333333,
              "#9c179e"
             ],
             [
              0.4444444444444444,
              "#bd3786"
             ],
             [
              0.5555555555555556,
              "#d8576b"
             ],
             [
              0.6666666666666666,
              "#ed7953"
             ],
             [
              0.7777777777777778,
              "#fb9f3a"
             ],
             [
              0.8888888888888888,
              "#fdca26"
             ],
             [
              1,
              "#f0f921"
             ]
            ],
            "type": "histogram2dcontour"
           }
          ],
          "mesh3d": [
           {
            "colorbar": {
             "outlinewidth": 0,
             "ticks": ""
            },
            "type": "mesh3d"
           }
          ],
          "parcoords": [
           {
            "line": {
             "colorbar": {
              "outlinewidth": 0,
              "ticks": ""
             }
            },
            "type": "parcoords"
           }
          ],
          "pie": [
           {
            "automargin": true,
            "type": "pie"
           }
          ],
          "scatter": [
           {
            "fillpattern": {
             "fillmode": "overlay",
             "size": 10,
             "solidity": 0.2
            },
            "type": "scatter"
           }
          ],
          "scatter3d": [
           {
            "line": {
             "colorbar": {
              "outlinewidth": 0,
              "ticks": ""
             }
            },
            "marker": {
             "colorbar": {
              "outlinewidth": 0,
              "ticks": ""
             }
            },
            "type": "scatter3d"
           }
          ],
          "scattercarpet": [
           {
            "marker": {
             "colorbar": {
              "outlinewidth": 0,
              "ticks": ""
             }
            },
            "type": "scattercarpet"
           }
          ],
          "scattergeo": [
           {
            "marker": {
             "colorbar": {
              "outlinewidth": 0,
              "ticks": ""
             }
            },
            "type": "scattergeo"
           }
          ],
          "scattergl": [
           {
            "marker": {
             "colorbar": {
              "outlinewidth": 0,
              "ticks": ""
             }
            },
            "type": "scattergl"
           }
          ],
          "scattermapbox": [
           {
            "marker": {
             "colorbar": {
              "outlinewidth": 0,
              "ticks": ""
             }
            },
            "type": "scattermapbox"
           }
          ],
          "scatterpolar": [
           {
            "marker": {
             "colorbar": {
              "outlinewidth": 0,
              "ticks": ""
             }
            },
            "type": "scatterpolar"
           }
          ],
          "scatterpolargl": [
           {
            "marker": {
             "colorbar": {
              "outlinewidth": 0,
              "ticks": ""
             }
            },
            "type": "scatterpolargl"
           }
          ],
          "scatterternary": [
           {
            "marker": {
             "colorbar": {
              "outlinewidth": 0,
              "ticks": ""
             }
            },
            "type": "scatterternary"
           }
          ],
          "surface": [
           {
            "colorbar": {
             "outlinewidth": 0,
             "ticks": ""
            },
            "colorscale": [
             [
              0,
              "#0d0887"
             ],
             [
              0.1111111111111111,
              "#46039f"
             ],
             [
              0.2222222222222222,
              "#7201a8"
             ],
             [
              0.3333333333333333,
              "#9c179e"
             ],
             [
              0.4444444444444444,
              "#bd3786"
             ],
             [
              0.5555555555555556,
              "#d8576b"
             ],
             [
              0.6666666666666666,
              "#ed7953"
             ],
             [
              0.7777777777777778,
              "#fb9f3a"
             ],
             [
              0.8888888888888888,
              "#fdca26"
             ],
             [
              1,
              "#f0f921"
             ]
            ],
            "type": "surface"
           }
          ],
          "table": [
           {
            "cells": {
             "fill": {
              "color": "#EBF0F8"
             },
             "line": {
              "color": "white"
             }
            },
            "header": {
             "fill": {
              "color": "#C8D4E3"
             },
             "line": {
              "color": "white"
             }
            },
            "type": "table"
           }
          ]
         },
         "layout": {
          "annotationdefaults": {
           "arrowcolor": "#2a3f5f",
           "arrowhead": 0,
           "arrowwidth": 1
          },
          "autotypenumbers": "strict",
          "coloraxis": {
           "colorbar": {
            "outlinewidth": 0,
            "ticks": ""
           }
          },
          "colorscale": {
           "diverging": [
            [
             0,
             "#8e0152"
            ],
            [
             0.1,
             "#c51b7d"
            ],
            [
             0.2,
             "#de77ae"
            ],
            [
             0.3,
             "#f1b6da"
            ],
            [
             0.4,
             "#fde0ef"
            ],
            [
             0.5,
             "#f7f7f7"
            ],
            [
             0.6,
             "#e6f5d0"
            ],
            [
             0.7,
             "#b8e186"
            ],
            [
             0.8,
             "#7fbc41"
            ],
            [
             0.9,
             "#4d9221"
            ],
            [
             1,
             "#276419"
            ]
           ],
           "sequential": [
            [
             0,
             "#0d0887"
            ],
            [
             0.1111111111111111,
             "#46039f"
            ],
            [
             0.2222222222222222,
             "#7201a8"
            ],
            [
             0.3333333333333333,
             "#9c179e"
            ],
            [
             0.4444444444444444,
             "#bd3786"
            ],
            [
             0.5555555555555556,
             "#d8576b"
            ],
            [
             0.6666666666666666,
             "#ed7953"
            ],
            [
             0.7777777777777778,
             "#fb9f3a"
            ],
            [
             0.8888888888888888,
             "#fdca26"
            ],
            [
             1,
             "#f0f921"
            ]
           ],
           "sequentialminus": [
            [
             0,
             "#0d0887"
            ],
            [
             0.1111111111111111,
             "#46039f"
            ],
            [
             0.2222222222222222,
             "#7201a8"
            ],
            [
             0.3333333333333333,
             "#9c179e"
            ],
            [
             0.4444444444444444,
             "#bd3786"
            ],
            [
             0.5555555555555556,
             "#d8576b"
            ],
            [
             0.6666666666666666,
             "#ed7953"
            ],
            [
             0.7777777777777778,
             "#fb9f3a"
            ],
            [
             0.8888888888888888,
             "#fdca26"
            ],
            [
             1,
             "#f0f921"
            ]
           ]
          },
          "colorway": [
           "#636efa",
           "#EF553B",
           "#00cc96",
           "#ab63fa",
           "#FFA15A",
           "#19d3f3",
           "#FF6692",
           "#B6E880",
           "#FF97FF",
           "#FECB52"
          ],
          "font": {
           "color": "#2a3f5f"
          },
          "geo": {
           "bgcolor": "white",
           "lakecolor": "white",
           "landcolor": "#E5ECF6",
           "showlakes": true,
           "showland": true,
           "subunitcolor": "white"
          },
          "hoverlabel": {
           "align": "left"
          },
          "hovermode": "closest",
          "mapbox": {
           "style": "light"
          },
          "paper_bgcolor": "white",
          "plot_bgcolor": "#E5ECF6",
          "polar": {
           "angularaxis": {
            "gridcolor": "white",
            "linecolor": "white",
            "ticks": ""
           },
           "bgcolor": "#E5ECF6",
           "radialaxis": {
            "gridcolor": "white",
            "linecolor": "white",
            "ticks": ""
           }
          },
          "scene": {
           "xaxis": {
            "backgroundcolor": "#E5ECF6",
            "gridcolor": "white",
            "gridwidth": 2,
            "linecolor": "white",
            "showbackground": true,
            "ticks": "",
            "zerolinecolor": "white"
           },
           "yaxis": {
            "backgroundcolor": "#E5ECF6",
            "gridcolor": "white",
            "gridwidth": 2,
            "linecolor": "white",
            "showbackground": true,
            "ticks": "",
            "zerolinecolor": "white"
           },
           "zaxis": {
            "backgroundcolor": "#E5ECF6",
            "gridcolor": "white",
            "gridwidth": 2,
            "linecolor": "white",
            "showbackground": true,
            "ticks": "",
            "zerolinecolor": "white"
           }
          },
          "shapedefaults": {
           "line": {
            "color": "#2a3f5f"
           }
          },
          "ternary": {
           "aaxis": {
            "gridcolor": "white",
            "linecolor": "white",
            "ticks": ""
           },
           "baxis": {
            "gridcolor": "white",
            "linecolor": "white",
            "ticks": ""
           },
           "bgcolor": "#E5ECF6",
           "caxis": {
            "gridcolor": "white",
            "linecolor": "white",
            "ticks": ""
           }
          },
          "title": {
           "x": 0.05
          },
          "xaxis": {
           "automargin": true,
           "gridcolor": "white",
           "linecolor": "white",
           "ticks": "",
           "title": {
            "standoff": 15
           },
           "zerolinecolor": "white",
           "zerolinewidth": 2
          },
          "yaxis": {
           "automargin": true,
           "gridcolor": "white",
           "linecolor": "white",
           "ticks": "",
           "title": {
            "standoff": 15
           },
           "zerolinecolor": "white",
           "zerolinewidth": 2
          }
         }
        },
        "title": {
         "text": "Historic sales by month"
        },
        "width": 800,
        "xaxis": {
         "anchor": "y",
         "domain": [
          0,
          1
         ],
         "title": {
          "text": ""
         }
        },
        "xaxis2": {
         "anchor": "y2",
         "domain": [
          0,
          1
         ],
         "matches": "x",
         "showticklabels": false,
         "title": {
          "text": ""
         }
        },
        "xaxis3": {
         "anchor": "y3",
         "domain": [
          0,
          1
         ],
         "matches": "x",
         "showticklabels": false,
         "title": {
          "text": ""
         }
        },
        "xaxis4": {
         "anchor": "y4",
         "domain": [
          0,
          1
         ],
         "matches": "x",
         "showticklabels": false,
         "title": {
          "text": ""
         }
        },
        "yaxis": {
         "anchor": "x",
         "domain": [
          0,
          0.16
         ],
         "title": {
          "text": ""
         }
        },
        "yaxis2": {
         "anchor": "x2",
         "domain": [
          0.28,
          0.44000000000000006
         ],
         "matches": "y",
         "title": {
          "text": ""
         }
        },
        "yaxis3": {
         "anchor": "x3",
         "domain": [
          0.56,
          0.7200000000000001
         ],
         "matches": "y",
         "title": {
          "text": ""
         }
        },
        "yaxis4": {
         "anchor": "x4",
         "domain": [
          0.84,
          1
         ],
         "matches": "y",
         "title": {
          "text": ""
         }
        }
       }
      }
     },
     "metadata": {},
     "output_type": "display_data"
    }
   ],
   "source": [
    "# Build a stacked bar chart with sales on each year.\n",
    "\n",
    "fig = px.bar(data_frame=sales_by_month_df,\n",
    "             x='date',\n",
    "             y='total_sold',\n",
    "             facet_col='display_name',\n",
    "             facet_col_wrap=1,\n",
    "             color='fiscal_year',\n",
    "             width =800,\n",
    "             height=600,\n",
    "             facet_row_spacing=0.12,\n",
    "\n",
    "             color_discrete_sequence=custom_colors)\n",
    "\n",
    "fig.update_yaxes(title='')\n",
    "fig.update_xaxes(title='')\n",
    "\n",
    "fig.for_each_annotation(lambda a: a.update(text = a.text.split('=')[1]))\n",
    "\n",
    "fig.update_layout(\n",
    "    title='Historic sales by month',\n",
    "    legend_title_text='Fiscal year'\n",
    ")\n",
    "fig.show()"
   ]
  },
  {
   "cell_type": "markdown",
   "metadata": {},
   "source": [
    "When it comes to popularity, three of our four products are growing year after year. These are:  Dracula HDD, WereWolf NAS and Zion Saga.\n",
    "\n",
    "On the other hand, the Mforce Gen X has been dropping, and it appears that 2021 was it's weakest year."
   ]
  },
  {
   "cell_type": "markdown",
   "metadata": {},
   "source": [
    "---\n",
    "\n",
    "Now lets analyze their performance in different markets.\n",
    "\n",
    "First let's see which are our best performing markets."
   ]
  },
  {
   "cell_type": "code",
   "execution_count": 76,
   "metadata": {},
   "outputs": [
    {
     "data": {
      "text/html": [
       "<div>\n",
       "<style scoped>\n",
       "    .dataframe tbody tr th:only-of-type {\n",
       "        vertical-align: middle;\n",
       "    }\n",
       "\n",
       "    .dataframe tbody tr th {\n",
       "        vertical-align: top;\n",
       "    }\n",
       "\n",
       "    .dataframe thead th {\n",
       "        text-align: right;\n",
       "    }\n",
       "</style>\n",
       "<table border=\"1\" class=\"dataframe\">\n",
       "  <thead>\n",
       "    <tr style=\"text-align: right;\">\n",
       "      <th></th>\n",
       "      <th>market</th>\n",
       "      <th>active_since</th>\n",
       "      <th>units_sold</th>\n",
       "    </tr>\n",
       "  </thead>\n",
       "  <tbody>\n",
       "    <tr>\n",
       "      <th>0</th>\n",
       "      <td>India</td>\n",
       "      <td>2018</td>\n",
       "      <td>1087710</td>\n",
       "    </tr>\n",
       "    <tr>\n",
       "      <th>1</th>\n",
       "      <td>USA</td>\n",
       "      <td>2018</td>\n",
       "      <td>609825</td>\n",
       "    </tr>\n",
       "    <tr>\n",
       "      <th>2</th>\n",
       "      <td>South Korea</td>\n",
       "      <td>2018</td>\n",
       "      <td>341767</td>\n",
       "    </tr>\n",
       "    <tr>\n",
       "      <th>3</th>\n",
       "      <td>Canada</td>\n",
       "      <td>2018</td>\n",
       "      <td>197068</td>\n",
       "    </tr>\n",
       "    <tr>\n",
       "      <th>4</th>\n",
       "      <td>Philiphines</td>\n",
       "      <td>2018</td>\n",
       "      <td>191884</td>\n",
       "    </tr>\n",
       "  </tbody>\n",
       "</table>\n",
       "</div>"
      ],
      "text/plain": [
       "        market  active_since  units_sold\n",
       "0        India          2018     1087710\n",
       "1          USA          2018      609825\n",
       "2  South Korea          2018      341767\n",
       "3       Canada          2018      197068\n",
       "4  Philiphines          2018      191884"
      ]
     },
     "execution_count": 76,
     "metadata": {},
     "output_type": "execute_result"
    }
   ],
   "source": [
    "query = \"\"\"\n",
    "SELECT market, MIN(fiscal_year) AS active_since, SUM(sold_quantity) AS units_sold\n",
    "FROM fact_sales_monthly\n",
    "    JOIN dim_customer USING(customer_code)\n",
    "GROUP BY market\n",
    "ORDER BY units_sold DESC\n",
    "\"\"\"\n",
    "\n",
    "market_sales_df = pd.read_sql_query(query,con)\n",
    "market_sales_df.head(5)"
   ]
  },
  {
   "cell_type": "markdown",
   "metadata": {},
   "source": [
    "Now lets see what are these countries buying each year.\n"
   ]
  },
  {
   "cell_type": "code",
   "execution_count": 80,
   "metadata": {},
   "outputs": [
    {
     "data": {
      "text/html": [
       "<div>\n",
       "<style scoped>\n",
       "    .dataframe tbody tr th:only-of-type {\n",
       "        vertical-align: middle;\n",
       "    }\n",
       "\n",
       "    .dataframe tbody tr th {\n",
       "        vertical-align: top;\n",
       "    }\n",
       "\n",
       "    .dataframe thead th {\n",
       "        text-align: right;\n",
       "    }\n",
       "</style>\n",
       "<table border=\"1\" class=\"dataframe\">\n",
       "  <thead>\n",
       "    <tr style=\"text-align: right;\">\n",
       "      <th></th>\n",
       "      <th>market</th>\n",
       "      <th>display_name</th>\n",
       "      <th>y2018</th>\n",
       "      <th>y2019</th>\n",
       "      <th>y2020</th>\n",
       "      <th>y2021</th>\n",
       "      <th>y2022</th>\n",
       "    </tr>\n",
       "  </thead>\n",
       "  <tbody>\n",
       "    <tr>\n",
       "      <th>0</th>\n",
       "      <td>Canada</td>\n",
       "      <td>AQ Dracula HDD</td>\n",
       "      <td>1381.0</td>\n",
       "      <td>8788.0</td>\n",
       "      <td>13812</td>\n",
       "      <td>21592</td>\n",
       "      <td>18751</td>\n",
       "    </tr>\n",
       "    <tr>\n",
       "      <th>1</th>\n",
       "      <td>Canada</td>\n",
       "      <td>AQ Mforce Gen X</td>\n",
       "      <td>1594.0</td>\n",
       "      <td>6313.0</td>\n",
       "      <td>7351</td>\n",
       "      <td>3963</td>\n",
       "      <td>10305</td>\n",
       "    </tr>\n",
       "    <tr>\n",
       "      <th>2</th>\n",
       "      <td>Canada</td>\n",
       "      <td>AQ Werewolf NAS</td>\n",
       "      <td>NaN</td>\n",
       "      <td>4402.0</td>\n",
       "      <td>10718</td>\n",
       "      <td>15487</td>\n",
       "      <td>25928</td>\n",
       "    </tr>\n",
       "    <tr>\n",
       "      <th>3</th>\n",
       "      <td>Canada</td>\n",
       "      <td>AQ Zion Saga</td>\n",
       "      <td>NaN</td>\n",
       "      <td>NaN</td>\n",
       "      <td>3330</td>\n",
       "      <td>16307</td>\n",
       "      <td>27046</td>\n",
       "    </tr>\n",
       "    <tr>\n",
       "      <th>4</th>\n",
       "      <td>India</td>\n",
       "      <td>AQ Dracula HDD</td>\n",
       "      <td>32297.0</td>\n",
       "      <td>55794.0</td>\n",
       "      <td>65461</td>\n",
       "      <td>105492</td>\n",
       "      <td>92227</td>\n",
       "    </tr>\n",
       "    <tr>\n",
       "      <th>5</th>\n",
       "      <td>India</td>\n",
       "      <td>AQ Mforce Gen X</td>\n",
       "      <td>41166.0</td>\n",
       "      <td>43195.0</td>\n",
       "      <td>35742</td>\n",
       "      <td>22579</td>\n",
       "      <td>58272</td>\n",
       "    </tr>\n",
       "    <tr>\n",
       "      <th>6</th>\n",
       "      <td>India</td>\n",
       "      <td>AQ Werewolf NAS</td>\n",
       "      <td>NaN</td>\n",
       "      <td>27298.0</td>\n",
       "      <td>47626</td>\n",
       "      <td>80002</td>\n",
       "      <td>145650</td>\n",
       "    </tr>\n",
       "    <tr>\n",
       "      <th>7</th>\n",
       "      <td>India</td>\n",
       "      <td>AQ Zion Saga</td>\n",
       "      <td>NaN</td>\n",
       "      <td>NaN</td>\n",
       "      <td>17091</td>\n",
       "      <td>80703</td>\n",
       "      <td>137115</td>\n",
       "    </tr>\n",
       "    <tr>\n",
       "      <th>8</th>\n",
       "      <td>Philiphines</td>\n",
       "      <td>AQ Dracula HDD</td>\n",
       "      <td>2995.0</td>\n",
       "      <td>10590.0</td>\n",
       "      <td>13499</td>\n",
       "      <td>19218</td>\n",
       "      <td>17513</td>\n",
       "    </tr>\n",
       "    <tr>\n",
       "      <th>9</th>\n",
       "      <td>Philiphines</td>\n",
       "      <td>AQ Mforce Gen X</td>\n",
       "      <td>3570.0</td>\n",
       "      <td>7410.0</td>\n",
       "      <td>7673</td>\n",
       "      <td>3651</td>\n",
       "      <td>11135</td>\n",
       "    </tr>\n",
       "    <tr>\n",
       "      <th>10</th>\n",
       "      <td>Philiphines</td>\n",
       "      <td>AQ Werewolf NAS</td>\n",
       "      <td>NaN</td>\n",
       "      <td>5491.0</td>\n",
       "      <td>10784</td>\n",
       "      <td>14620</td>\n",
       "      <td>22663</td>\n",
       "    </tr>\n",
       "    <tr>\n",
       "      <th>11</th>\n",
       "      <td>Philiphines</td>\n",
       "      <td>AQ Zion Saga</td>\n",
       "      <td>NaN</td>\n",
       "      <td>NaN</td>\n",
       "      <td>3891</td>\n",
       "      <td>13303</td>\n",
       "      <td>23878</td>\n",
       "    </tr>\n",
       "    <tr>\n",
       "      <th>12</th>\n",
       "      <td>South Korea</td>\n",
       "      <td>AQ Dracula HDD</td>\n",
       "      <td>12501.0</td>\n",
       "      <td>18950.0</td>\n",
       "      <td>23220</td>\n",
       "      <td>29951</td>\n",
       "      <td>28422</td>\n",
       "    </tr>\n",
       "    <tr>\n",
       "      <th>13</th>\n",
       "      <td>South Korea</td>\n",
       "      <td>AQ Mforce Gen X</td>\n",
       "      <td>14877.0</td>\n",
       "      <td>15121.0</td>\n",
       "      <td>13654</td>\n",
       "      <td>6331</td>\n",
       "      <td>22963</td>\n",
       "    </tr>\n",
       "    <tr>\n",
       "      <th>14</th>\n",
       "      <td>South Korea</td>\n",
       "      <td>AQ Werewolf NAS</td>\n",
       "      <td>NaN</td>\n",
       "      <td>10010.0</td>\n",
       "      <td>17183</td>\n",
       "      <td>23584</td>\n",
       "      <td>37474</td>\n",
       "    </tr>\n",
       "    <tr>\n",
       "      <th>15</th>\n",
       "      <td>South Korea</td>\n",
       "      <td>AQ Zion Saga</td>\n",
       "      <td>NaN</td>\n",
       "      <td>NaN</td>\n",
       "      <td>5661</td>\n",
       "      <td>23917</td>\n",
       "      <td>37948</td>\n",
       "    </tr>\n",
       "    <tr>\n",
       "      <th>16</th>\n",
       "      <td>USA</td>\n",
       "      <td>AQ Dracula HDD</td>\n",
       "      <td>13836.0</td>\n",
       "      <td>28592.0</td>\n",
       "      <td>40571</td>\n",
       "      <td>62549</td>\n",
       "      <td>51220</td>\n",
       "    </tr>\n",
       "    <tr>\n",
       "      <th>17</th>\n",
       "      <td>USA</td>\n",
       "      <td>AQ Mforce Gen X</td>\n",
       "      <td>17006.0</td>\n",
       "      <td>21020.0</td>\n",
       "      <td>22696</td>\n",
       "      <td>12211</td>\n",
       "      <td>32714</td>\n",
       "    </tr>\n",
       "    <tr>\n",
       "      <th>18</th>\n",
       "      <td>USA</td>\n",
       "      <td>AQ Werewolf NAS</td>\n",
       "      <td>NaN</td>\n",
       "      <td>14251.0</td>\n",
       "      <td>31398</td>\n",
       "      <td>47940</td>\n",
       "      <td>81315</td>\n",
       "    </tr>\n",
       "    <tr>\n",
       "      <th>19</th>\n",
       "      <td>USA</td>\n",
       "      <td>AQ Zion Saga</td>\n",
       "      <td>NaN</td>\n",
       "      <td>NaN</td>\n",
       "      <td>11281</td>\n",
       "      <td>47593</td>\n",
       "      <td>73632</td>\n",
       "    </tr>\n",
       "  </tbody>\n",
       "</table>\n",
       "</div>"
      ],
      "text/plain": [
       "         market     display_name    y2018    y2019  y2020   y2021   y2022\n",
       "0        Canada   AQ Dracula HDD   1381.0   8788.0  13812   21592   18751\n",
       "1        Canada  AQ Mforce Gen X   1594.0   6313.0   7351    3963   10305\n",
       "2        Canada  AQ Werewolf NAS      NaN   4402.0  10718   15487   25928\n",
       "3        Canada     AQ Zion Saga      NaN      NaN   3330   16307   27046\n",
       "4         India   AQ Dracula HDD  32297.0  55794.0  65461  105492   92227\n",
       "5         India  AQ Mforce Gen X  41166.0  43195.0  35742   22579   58272\n",
       "6         India  AQ Werewolf NAS      NaN  27298.0  47626   80002  145650\n",
       "7         India     AQ Zion Saga      NaN      NaN  17091   80703  137115\n",
       "8   Philiphines   AQ Dracula HDD   2995.0  10590.0  13499   19218   17513\n",
       "9   Philiphines  AQ Mforce Gen X   3570.0   7410.0   7673    3651   11135\n",
       "10  Philiphines  AQ Werewolf NAS      NaN   5491.0  10784   14620   22663\n",
       "11  Philiphines     AQ Zion Saga      NaN      NaN   3891   13303   23878\n",
       "12  South Korea   AQ Dracula HDD  12501.0  18950.0  23220   29951   28422\n",
       "13  South Korea  AQ Mforce Gen X  14877.0  15121.0  13654    6331   22963\n",
       "14  South Korea  AQ Werewolf NAS      NaN  10010.0  17183   23584   37474\n",
       "15  South Korea     AQ Zion Saga      NaN      NaN   5661   23917   37948\n",
       "16          USA   AQ Dracula HDD  13836.0  28592.0  40571   62549   51220\n",
       "17          USA  AQ Mforce Gen X  17006.0  21020.0  22696   12211   32714\n",
       "18          USA  AQ Werewolf NAS      NaN  14251.0  31398   47940   81315\n",
       "19          USA     AQ Zion Saga      NaN      NaN  11281   47593   73632"
      ]
     },
     "execution_count": 80,
     "metadata": {},
     "output_type": "execute_result"
    }
   ],
   "source": [
    "top_markets = ', '.join(market_sales_df.head(5)['market'].apply(lambda x: f\"'{x}'\"))\n",
    "query = f\"\"\"\n",
    "CREATE VIEW IF NOT EXISTS top_market_sales AS\n",
    "SELECT market,\n",
    "    display_name,\n",
    "    SUM(CASE WHEN fiscal_year = 2018 THEN sold_quantity END) AS y2018,\n",
    "    SUM(CASE WHEN fiscal_year = 2019 THEN sold_quantity END) AS y2019,\n",
    "    SUM(CASE WHEN fiscal_year = 2020 THEN sold_quantity END) AS y2020,\n",
    "    SUM(CASE WHEN fiscal_year = 2021 THEN sold_quantity END) AS y2021,\n",
    "    SUM(CASE WHEN fiscal_year = 2022 THEN sold_quantity END) AS y2022\n",
    "FROM dim_customer\n",
    "    JOIN fact_sales_monthly USING(customer_code)\n",
    "    JOIN dim_product USING(product_code)\n",
    "WHERE market IN ({top_markets})\n",
    "GROUP BY market, product\n",
    "\"\"\"\n",
    "\n",
    "cursor.execute(query)\n",
    "pd.read_sql_query(\"SELECT * FROM top_market_sales\", con)"
   ]
  },
  {
   "cell_type": "markdown",
   "metadata": {},
   "source": [
    "We have the totals. Let's try to improve readability by changing it to change ratio compared to last year."
   ]
  },
  {
   "cell_type": "code",
   "execution_count": 81,
   "metadata": {},
   "outputs": [],
   "source": [
    "query=\"\"\"\n",
    "SELECT \n",
    "    market,\n",
    "    display_name,\n",
    "    (CAST(y2018 as float) / y2018) AS RY2018,\n",
    "    (CAST(y2019 as float) / (CASE WHEN y2018 IS NULL THEN y2019 ELSE y2018 END) ) AS RY2019,\n",
    "    (CAST(y2020 as float) / (CASE WHEN y2019 IS NULL THEN y2020 ELSE y2019 END) ) AS RY2020,\n",
    "    (CAST(y2021 as float) / (CASE WHEN y2020 IS NULL THEN y2021 ELSE y2020 END) ) AS RY2021,\n",
    "    (CAST(y2022 as float) / (CASE WHEN y2021 IS NULL THEN y2022 ELSE y2021 END) ) AS RY2022\n",
    "FROM\n",
    "    top_market_sales\n",
    "\"\"\"\n",
    "\n",
    "top_market_pop = pd.read_sql_query(query, con)"
   ]
  },
  {
   "cell_type": "code",
   "execution_count": 101,
   "metadata": {},
   "outputs": [],
   "source": [
    "query=\"\"\"\n",
    "SELECT \n",
    "    market || ': ' || display_name as ind,\n",
    "    (CAST(y2018 as float) / y2018) - 1 AS RY2018,\n",
    "    (CAST(y2019 as float) / (CASE WHEN y2018 IS NULL THEN y2019 ELSE y2018 END)) - 1 AS RY2019,\n",
    "    (CAST(y2020 as float) / (CASE WHEN y2019 IS NULL THEN y2020 ELSE y2019 END)) - 1 AS RY2020,\n",
    "    (CAST(y2021 as float) / (CASE WHEN y2020 IS NULL THEN y2021 ELSE y2020 END)) - 1 AS RY2021,\n",
    "    (CAST(y2022 as float) / (CASE WHEN y2021 IS NULL THEN y2022 ELSE y2021 END)) - 1 AS RY2022\n",
    "FROM\n",
    "    top_market_sales\n",
    "\"\"\"\n",
    "\n",
    "top_market_pop = pd.read_sql_query(query, con)"
   ]
  },
  {
   "cell_type": "code",
   "execution_count": 102,
   "metadata": {},
   "outputs": [],
   "source": [
    "top_market_pop.set_index('ind', drop=True, inplace=True);"
   ]
  },
  {
   "cell_type": "code",
   "execution_count": 103,
   "metadata": {},
   "outputs": [
    {
     "data": {
      "text/html": [
       "<div>\n",
       "<style scoped>\n",
       "    .dataframe tbody tr th:only-of-type {\n",
       "        vertical-align: middle;\n",
       "    }\n",
       "\n",
       "    .dataframe tbody tr th {\n",
       "        vertical-align: top;\n",
       "    }\n",
       "\n",
       "    .dataframe thead th {\n",
       "        text-align: right;\n",
       "    }\n",
       "</style>\n",
       "<table border=\"1\" class=\"dataframe\">\n",
       "  <thead>\n",
       "    <tr style=\"text-align: right;\">\n",
       "      <th></th>\n",
       "      <th>RY2018</th>\n",
       "      <th>RY2019</th>\n",
       "      <th>RY2020</th>\n",
       "      <th>RY2021</th>\n",
       "      <th>RY2022</th>\n",
       "    </tr>\n",
       "    <tr>\n",
       "      <th>ind</th>\n",
       "      <th></th>\n",
       "      <th></th>\n",
       "      <th></th>\n",
       "      <th></th>\n",
       "      <th></th>\n",
       "    </tr>\n",
       "  </thead>\n",
       "  <tbody>\n",
       "    <tr>\n",
       "      <th>Canada: AQ Dracula HDD</th>\n",
       "      <td>0.0</td>\n",
       "      <td>5.363505</td>\n",
       "      <td>0.571689</td>\n",
       "      <td>0.563278</td>\n",
       "      <td>-0.131577</td>\n",
       "    </tr>\n",
       "    <tr>\n",
       "      <th>Canada: AQ Mforce Gen X</th>\n",
       "      <td>0.0</td>\n",
       "      <td>2.960477</td>\n",
       "      <td>0.164423</td>\n",
       "      <td>-0.460890</td>\n",
       "      <td>1.600303</td>\n",
       "    </tr>\n",
       "    <tr>\n",
       "      <th>Canada: AQ Werewolf NAS</th>\n",
       "      <td>NaN</td>\n",
       "      <td>0.000000</td>\n",
       "      <td>1.434802</td>\n",
       "      <td>0.444952</td>\n",
       "      <td>0.674178</td>\n",
       "    </tr>\n",
       "    <tr>\n",
       "      <th>Canada: AQ Zion Saga</th>\n",
       "      <td>NaN</td>\n",
       "      <td>NaN</td>\n",
       "      <td>0.000000</td>\n",
       "      <td>3.896997</td>\n",
       "      <td>0.658552</td>\n",
       "    </tr>\n",
       "    <tr>\n",
       "      <th>India: AQ Dracula HDD</th>\n",
       "      <td>0.0</td>\n",
       "      <td>0.727529</td>\n",
       "      <td>0.173262</td>\n",
       "      <td>0.611524</td>\n",
       "      <td>-0.125744</td>\n",
       "    </tr>\n",
       "    <tr>\n",
       "      <th>India: AQ Mforce Gen X</th>\n",
       "      <td>0.0</td>\n",
       "      <td>0.049288</td>\n",
       "      <td>-0.172543</td>\n",
       "      <td>-0.368278</td>\n",
       "      <td>1.580805</td>\n",
       "    </tr>\n",
       "    <tr>\n",
       "      <th>India: AQ Werewolf NAS</th>\n",
       "      <td>NaN</td>\n",
       "      <td>0.000000</td>\n",
       "      <td>0.744670</td>\n",
       "      <td>0.679797</td>\n",
       "      <td>0.820579</td>\n",
       "    </tr>\n",
       "    <tr>\n",
       "      <th>India: AQ Zion Saga</th>\n",
       "      <td>NaN</td>\n",
       "      <td>NaN</td>\n",
       "      <td>0.000000</td>\n",
       "      <td>3.721959</td>\n",
       "      <td>0.699007</td>\n",
       "    </tr>\n",
       "    <tr>\n",
       "      <th>Philiphines: AQ Dracula HDD</th>\n",
       "      <td>0.0</td>\n",
       "      <td>2.535893</td>\n",
       "      <td>0.274693</td>\n",
       "      <td>0.423661</td>\n",
       "      <td>-0.088719</td>\n",
       "    </tr>\n",
       "    <tr>\n",
       "      <th>Philiphines: AQ Mforce Gen X</th>\n",
       "      <td>0.0</td>\n",
       "      <td>1.075630</td>\n",
       "      <td>0.035493</td>\n",
       "      <td>-0.524176</td>\n",
       "      <td>2.049849</td>\n",
       "    </tr>\n",
       "    <tr>\n",
       "      <th>Philiphines: AQ Werewolf NAS</th>\n",
       "      <td>NaN</td>\n",
       "      <td>0.000000</td>\n",
       "      <td>0.963941</td>\n",
       "      <td>0.355712</td>\n",
       "      <td>0.550137</td>\n",
       "    </tr>\n",
       "    <tr>\n",
       "      <th>Philiphines: AQ Zion Saga</th>\n",
       "      <td>NaN</td>\n",
       "      <td>NaN</td>\n",
       "      <td>0.000000</td>\n",
       "      <td>2.418915</td>\n",
       "      <td>0.794933</td>\n",
       "    </tr>\n",
       "    <tr>\n",
       "      <th>South Korea: AQ Dracula HDD</th>\n",
       "      <td>0.0</td>\n",
       "      <td>0.515879</td>\n",
       "      <td>0.225330</td>\n",
       "      <td>0.289879</td>\n",
       "      <td>-0.051050</td>\n",
       "    </tr>\n",
       "    <tr>\n",
       "      <th>South Korea: AQ Mforce Gen X</th>\n",
       "      <td>0.0</td>\n",
       "      <td>0.016401</td>\n",
       "      <td>-0.097017</td>\n",
       "      <td>-0.536326</td>\n",
       "      <td>2.627073</td>\n",
       "    </tr>\n",
       "    <tr>\n",
       "      <th>South Korea: AQ Werewolf NAS</th>\n",
       "      <td>NaN</td>\n",
       "      <td>0.000000</td>\n",
       "      <td>0.716583</td>\n",
       "      <td>0.372519</td>\n",
       "      <td>0.588959</td>\n",
       "    </tr>\n",
       "    <tr>\n",
       "      <th>South Korea: AQ Zion Saga</th>\n",
       "      <td>NaN</td>\n",
       "      <td>NaN</td>\n",
       "      <td>0.000000</td>\n",
       "      <td>3.224872</td>\n",
       "      <td>0.586654</td>\n",
       "    </tr>\n",
       "    <tr>\n",
       "      <th>USA: AQ Dracula HDD</th>\n",
       "      <td>0.0</td>\n",
       "      <td>1.066493</td>\n",
       "      <td>0.418963</td>\n",
       "      <td>0.541717</td>\n",
       "      <td>-0.181122</td>\n",
       "    </tr>\n",
       "    <tr>\n",
       "      <th>USA: AQ Mforce Gen X</th>\n",
       "      <td>0.0</td>\n",
       "      <td>0.236034</td>\n",
       "      <td>0.079734</td>\n",
       "      <td>-0.461976</td>\n",
       "      <td>1.679060</td>\n",
       "    </tr>\n",
       "    <tr>\n",
       "      <th>USA: AQ Werewolf NAS</th>\n",
       "      <td>NaN</td>\n",
       "      <td>0.000000</td>\n",
       "      <td>1.203214</td>\n",
       "      <td>0.526849</td>\n",
       "      <td>0.696183</td>\n",
       "    </tr>\n",
       "    <tr>\n",
       "      <th>USA: AQ Zion Saga</th>\n",
       "      <td>NaN</td>\n",
       "      <td>NaN</td>\n",
       "      <td>0.000000</td>\n",
       "      <td>3.218864</td>\n",
       "      <td>0.547118</td>\n",
       "    </tr>\n",
       "  </tbody>\n",
       "</table>\n",
       "</div>"
      ],
      "text/plain": [
       "                              RY2018    RY2019    RY2020    RY2021    RY2022\n",
       "ind                                                                         \n",
       "Canada: AQ Dracula HDD           0.0  5.363505  0.571689  0.563278 -0.131577\n",
       "Canada: AQ Mforce Gen X          0.0  2.960477  0.164423 -0.460890  1.600303\n",
       "Canada: AQ Werewolf NAS          NaN  0.000000  1.434802  0.444952  0.674178\n",
       "Canada: AQ Zion Saga             NaN       NaN  0.000000  3.896997  0.658552\n",
       "India: AQ Dracula HDD            0.0  0.727529  0.173262  0.611524 -0.125744\n",
       "India: AQ Mforce Gen X           0.0  0.049288 -0.172543 -0.368278  1.580805\n",
       "India: AQ Werewolf NAS           NaN  0.000000  0.744670  0.679797  0.820579\n",
       "India: AQ Zion Saga              NaN       NaN  0.000000  3.721959  0.699007\n",
       "Philiphines: AQ Dracula HDD      0.0  2.535893  0.274693  0.423661 -0.088719\n",
       "Philiphines: AQ Mforce Gen X     0.0  1.075630  0.035493 -0.524176  2.049849\n",
       "Philiphines: AQ Werewolf NAS     NaN  0.000000  0.963941  0.355712  0.550137\n",
       "Philiphines: AQ Zion Saga        NaN       NaN  0.000000  2.418915  0.794933\n",
       "South Korea: AQ Dracula HDD      0.0  0.515879  0.225330  0.289879 -0.051050\n",
       "South Korea: AQ Mforce Gen X     0.0  0.016401 -0.097017 -0.536326  2.627073\n",
       "South Korea: AQ Werewolf NAS     NaN  0.000000  0.716583  0.372519  0.588959\n",
       "South Korea: AQ Zion Saga        NaN       NaN  0.000000  3.224872  0.586654\n",
       "USA: AQ Dracula HDD              0.0  1.066493  0.418963  0.541717 -0.181122\n",
       "USA: AQ Mforce Gen X             0.0  0.236034  0.079734 -0.461976  1.679060\n",
       "USA: AQ Werewolf NAS             NaN  0.000000  1.203214  0.526849  0.696183\n",
       "USA: AQ Zion Saga                NaN       NaN  0.000000  3.218864  0.547118"
      ]
     },
     "execution_count": 103,
     "metadata": {},
     "output_type": "execute_result"
    }
   ],
   "source": [
    "top_market_pop"
   ]
  },
  {
   "cell_type": "code",
   "execution_count": 104,
   "metadata": {},
   "outputs": [
    {
     "name": "stderr",
     "output_type": "stream",
     "text": [
      "/home/adrian/anaconda3/envs/final_project/lib/python3.12/site-packages/seaborn/matrix.py:260: FutureWarning:\n",
      "\n",
      "Format strings passed to MaskedConstant are ignored, but in future may error or produce different behavior\n",
      "\n"
     ]
    },
    {
     "data": {
      "text/plain": [
       "<Axes: ylabel='ind'>"
      ]
     },
     "execution_count": 104,
     "metadata": {},
     "output_type": "execute_result"
    },
    {
     "data": {
      "image/png": "[encoded data removed]",
      "text/plain": [
       "<Figure size 1200x800 with 2 Axes>"
      ]
     },
     "metadata": {},
     "output_type": "display_data"
    }
   ],
   "source": [
    "plt.figure(figsize=(12,8))\n",
    "\n",
    "sns.heatmap(top_market_pop,\n",
    "            vmin=-0.8,\n",
    "            vmax=2,\n",
    "            center=0,\n",
    "            annot=True,\n",
    "            fmt='.2%',\n",
    "            linecolor='grey',\n",
    "            linewidths=1,\n",
    "\n",
    "            )\n",
    "\n"
   ]
  },
  {
   "cell_type": "code",
   "execution_count": null,
   "metadata": {},
   "outputs": [],
   "source": []
  }
 ],
 "metadata": {
  "kernelspec": {
   "display_name": "Tripleten",
   "language": "python",
   "name": "python3"
  },
  "language_info": {
   "codemirror_mode": {
    "name": "ipython",
    "version": 3
   },
   "file_extension": ".py",
   "mimetype": "text/x-python",
   "name": "python",
   "nbconvert_exporter": "python",
   "pygments_lexer": "ipython3",
   "version": "3.12.3"
  }
 },
 "nbformat": 4,
 "nbformat_minor": 2
}

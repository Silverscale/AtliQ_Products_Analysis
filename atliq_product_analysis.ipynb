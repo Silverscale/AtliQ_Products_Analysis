{
 "cells": [
  {
   "cell_type": "markdown",
   "metadata": {},
   "source": [
    "# AtliQ Products Analysis"
   ]
  },
  {
   "cell_type": "markdown",
   "metadata": {},
   "source": [
    "## Contents\n",
    "\n",
    "1. [Introduction](#introduction)\n",
    "2. [Data loading and preprocessing](#data-loading-and-preprocessing)\n",
    "3. [Analysis]\n",
    "    1. [Finding the bestsellers]\n",
    "    2. [Popularity across time and markets]\n",
    "    3. [Variant sales]\n",
    "    4. [Division sales]\n",
    "    5. [Product margin]\n",
    "    6. [Price vs cost]\n",
    "4. [Conclusion]\n"
   ]
  },
  {
   "cell_type": "markdown",
   "metadata": {},
   "source": [
    "## Introduction"
   ]
  },
  {
   "cell_type": "markdown",
   "metadata": {},
   "source": [
    "Our team has been commissioned by AtliQ Hardware to conduct a thorough analysis of their product portfolio and sales data.\n",
    "\n",
    "As a prominent computer hardware producer in India, AtliQ is keen on enhancing their understanding of product performance. This analysis aims to identify top-selling products, uncover trends, and develop strategies to optimize sales and market share."
   ]
  },
  {
   "cell_type": "markdown",
   "metadata": {},
   "source": [
    "The primary objective of this research is to analyze AtliQ Hardware's product portfolio and sales data to better understand product performance and identify strategies for optimizing sales. We aim to answer these key questions:\n",
    "- Which items are the bestsellers?\n",
    "- How has popularity changed over time/across markets?\n",
    "- Are there some variants that contribute a disproportionate amount to the product sales?\n",
    "- Are some channels responsible for a large portion of a division’s sales?\n",
    "- What are the products with the best/worst margin?\n",
    "- Is gross price keeping up with manufacturing costs?\n",
    "\n",
    "Through this analysis, our goal is to provide AtliQ Hardware with actionable insights and recommendations to help drive business growth."
   ]
  },
  {
   "cell_type": "markdown",
   "metadata": {},
   "source": [
    "## Data loading and Preprocessing"
   ]
  },
  {
   "cell_type": "markdown",
   "metadata": {},
   "source": [
    "These are the libraries that we are going to use for this project:"
   ]
  },
  {
   "cell_type": "code",
   "execution_count": 2,
   "metadata": {},
   "outputs": [],
   "source": [
    "import pandas as pd\n",
    "import sqlite3\n",
    "import os\n",
    "import requests\n",
    "import shutil"
   ]
  },
  {
   "cell_type": "markdown",
   "metadata": {},
   "source": [
    "We have access to an SQLite database with data on products, clients and sales. \n",
    "\n",
    "First let's check that it exists, and if doesn't, we'll download it."
   ]
  },
  {
   "cell_type": "code",
   "execution_count": 3,
   "metadata": {},
   "outputs": [],
   "source": [
    "# Local path to the Database\n",
    "db_directory_path = 'Data'\n",
    "db_file_path = os.path.join(db_directory_path, 'atliq_db.sqlite3')\n"
   ]
  },
  {
   "cell_type": "code",
   "execution_count": 4,
   "metadata": {},
   "outputs": [],
   "source": [
    "# Check if directory exists. If it doesn't, create it\n",
    "if not os.path.exists(db_directory_path):\n",
    "    os.makedirs(db_directory_path)\n"
   ]
  },
  {
   "cell_type": "code",
   "execution_count": 5,
   "metadata": {},
   "outputs": [
    {
     "name": "stdout",
     "output_type": "stream",
     "text": [
      "Database not found. Downloading the file...\n",
      "Database downloaded successfully!\n"
     ]
    }
   ],
   "source": [
    "# Check if file exists. If it doesn't, download it\n",
    "if not os.path.exists(db_file_path):\n",
    "    print('Database not found. Downloading the file...')\n",
    "\n",
    "    db_url = 'https://practicum-content.s3.us-west-1.amazonaws.com/data-eng/databases/atliq_db.sqlite3'\n",
    "    \n",
    "    response = requests.get(db_url)\n",
    "    with open(db_file_path, 'wb') as f:\n",
    "        f.write(response.content)\n",
    "    \n",
    "    print('Database downloaded successfully!')\n",
    "else:\n",
    "    print('Database found.')\n"
   ]
  },
  {
   "cell_type": "markdown",
   "metadata": {},
   "source": [
    "We have our database. But we don't want to directly change the raw data, and we will be working directly with the database as much as possible. So we'll make a copy and modify that instead."
   ]
  },
  {
   "cell_type": "code",
   "execution_count": 6,
   "metadata": {},
   "outputs": [
    {
     "name": "stdout",
     "output_type": "stream",
     "text": [
      "Database duplicated.\n"
     ]
    }
   ],
   "source": [
    "# Check if the copy exists\n",
    "work_db_path = os.path.join(db_directory_path, 'atliq_db_processed.sqlite3')\n",
    "\n",
    "work_db_found = False\n",
    "if os.path.exists(work_db_path):\n",
    "    work_db_found = True\n",
    "    print('Previous copy found.')\n",
    "else:\n",
    "    shutil.copyfile(db_file_path, work_db_path)\n",
    "    print('Database duplicated.')\n"
   ]
  },
  {
   "cell_type": "markdown",
   "metadata": {},
   "source": [
    "We can now connect to our working copy and start processing it. If we found that the copy already exists, we can assume that it is already processed, and we can skip those steps."
   ]
  },
  {
   "cell_type": "code",
   "execution_count": 7,
   "metadata": {},
   "outputs": [],
   "source": [
    "# Connect to the DB\n",
    "con = sqlite3.connect(work_db_path)"
   ]
  },
  {
   "cell_type": "markdown",
   "metadata": {},
   "source": [
    "First let's check that we have access to the tables that we are supposed to."
   ]
  },
  {
   "cell_type": "code",
   "execution_count": 8,
   "metadata": {},
   "outputs": [
    {
     "name": "stdout",
     "output_type": "stream",
     "text": [
      "('dim_customer',)\n",
      "('dim_product',)\n",
      "('fact_pre_discount',)\n",
      "('fact_manufacturing_cost',)\n",
      "('fact_gross_price',)\n",
      "('fact_sales_monthly',)\n"
     ]
    }
   ],
   "source": [
    "# Check all tables\n",
    "cursor = con.cursor()\n",
    "cursor.execute(\"SELECT name FROM sqlite_master WHERE type='table';\")\n",
    "print(*cursor.fetchall(), sep='\\n')"
   ]
  },
  {
   "cell_type": "markdown",
   "metadata": {},
   "source": [
    "Lets check for missing values. We can't load the whole tables into pandas, so we'll have to rely only on SQL queries.\n",
    "\n",
    "Lets build a function to help us, similar to pandas info()."
   ]
  },
  {
   "cell_type": "code",
   "execution_count": 9,
   "metadata": {},
   "outputs": [],
   "source": [
    "# Find Null values in a column\n",
    "def count_nulls_in_column(column: str, table: str):\n",
    "    query = f\"\"\"\n",
    "    SELECT COUNT(*)\n",
    "    FROM {table}\n",
    "    WHERE {column} IS NULL\n",
    "    \"\"\"\n",
    "\n",
    "    cursor.execute(query)\n",
    "    return cursor.fetchone()[0]"
   ]
  },
  {
   "cell_type": "code",
   "execution_count": 10,
   "metadata": {},
   "outputs": [],
   "source": [
    "# Get all the column names from a table\n",
    "def get_column_names(table: str):\n",
    "    query = f\"\"\"\n",
    "    PRAGMA table_info({table}) \n",
    "    \"\"\"\n",
    "\n",
    "    cursor.execute(query)\n",
    "    result = cursor.fetchall()\n",
    "    name_pos_in_row = 1\n",
    "\n",
    "    column_names = []\n",
    "    for row in result:\n",
    "        column_names.append(row[name_pos_in_row])\n",
    "\n",
    "    return column_names"
   ]
  },
  {
   "cell_type": "code",
   "execution_count": 11,
   "metadata": {},
   "outputs": [],
   "source": [
    "# Check missing values in all columns of the table\n",
    "def check_nulls(table: str):\n",
    "    column_names = get_column_names(table)\n",
    "    null_counts = []\n",
    "    for column in column_names:\n",
    "        null_counts.append((column, count_nulls_in_column(column, table)))\n",
    "\n",
    "    return null_counts"
   ]
  },
  {
   "cell_type": "code",
   "execution_count": 29,
   "metadata": {},
   "outputs": [],
   "source": [
    "def table_schema(table: str):\n",
    "    query = f\"\"\"\n",
    "    PRAGMA table_info({table})\n",
    "    \"\"\"\n",
    "\n",
    "    return pd.read_sql_query(query, con)[['name', 'type', 'pk']]\n"
   ]
  },
  {
   "cell_type": "code",
   "execution_count": 30,
   "metadata": {},
   "outputs": [
    {
     "data": {
      "text/html": [
       "<div>\n",
       "<style scoped>\n",
       "    .dataframe tbody tr th:only-of-type {\n",
       "        vertical-align: middle;\n",
       "    }\n",
       "\n",
       "    .dataframe tbody tr th {\n",
       "        vertical-align: top;\n",
       "    }\n",
       "\n",
       "    .dataframe thead th {\n",
       "        text-align: right;\n",
       "    }\n",
       "</style>\n",
       "<table border=\"1\" class=\"dataframe\">\n",
       "  <thead>\n",
       "    <tr style=\"text-align: right;\">\n",
       "      <th></th>\n",
       "      <th>name</th>\n",
       "      <th>type</th>\n",
       "      <th>pk</th>\n",
       "    </tr>\n",
       "  </thead>\n",
       "  <tbody>\n",
       "    <tr>\n",
       "      <th>0</th>\n",
       "      <td>customer_code</td>\n",
       "      <td>INTEGER</td>\n",
       "      <td>0</td>\n",
       "    </tr>\n",
       "    <tr>\n",
       "      <th>1</th>\n",
       "      <td>customer</td>\n",
       "      <td>TEXT</td>\n",
       "      <td>0</td>\n",
       "    </tr>\n",
       "    <tr>\n",
       "      <th>2</th>\n",
       "      <td>platform</td>\n",
       "      <td>TEXT</td>\n",
       "      <td>0</td>\n",
       "    </tr>\n",
       "    <tr>\n",
       "      <th>3</th>\n",
       "      <td>channel</td>\n",
       "      <td>TEXT</td>\n",
       "      <td>0</td>\n",
       "    </tr>\n",
       "    <tr>\n",
       "      <th>4</th>\n",
       "      <td>market</td>\n",
       "      <td>TEXT</td>\n",
       "      <td>0</td>\n",
       "    </tr>\n",
       "    <tr>\n",
       "      <th>5</th>\n",
       "      <td>sub_zone</td>\n",
       "      <td>TEXT</td>\n",
       "      <td>0</td>\n",
       "    </tr>\n",
       "    <tr>\n",
       "      <th>6</th>\n",
       "      <td>region</td>\n",
       "      <td>TEXT</td>\n",
       "      <td>0</td>\n",
       "    </tr>\n",
       "  </tbody>\n",
       "</table>\n",
       "</div>"
      ],
      "text/plain": [
       "            name     type  pk\n",
       "0  customer_code  INTEGER   0\n",
       "1       customer     TEXT   0\n",
       "2       platform     TEXT   0\n",
       "3        channel     TEXT   0\n",
       "4         market     TEXT   0\n",
       "5       sub_zone     TEXT   0\n",
       "6         region     TEXT   0"
      ]
     },
     "execution_count": 30,
     "metadata": {},
     "output_type": "execute_result"
    }
   ],
   "source": [
    "table_schema('dim_customer')"
   ]
  },
  {
   "cell_type": "markdown",
   "metadata": {},
   "source": [
    "Now lets check were do we have some null values."
   ]
  },
  {
   "cell_type": "code",
   "execution_count": 13,
   "metadata": {},
   "outputs": [
    {
     "name": "stdout",
     "output_type": "stream",
     "text": [
      "('customer_code', 0)\n",
      "('customer', 0)\n",
      "('platform', 0)\n",
      "('channel', 0)\n",
      "('market', 0)\n",
      "('sub_zone', 0)\n",
      "('region', 0)\n"
     ]
    }
   ],
   "source": [
    "print(*check_nulls('dim_customer'), sep='\\n')"
   ]
  },
  {
   "cell_type": "code",
   "execution_count": 14,
   "metadata": {},
   "outputs": [
    {
     "name": "stdout",
     "output_type": "stream",
     "text": [
      "('product_code', 0)\n",
      "('division', 0)\n",
      "('segment', 0)\n",
      "('category', 0)\n",
      "('product', 0)\n",
      "('variant', 0)\n"
     ]
    }
   ],
   "source": [
    "print(*check_nulls('dim_product'), sep='\\n')"
   ]
  },
  {
   "cell_type": "code",
   "execution_count": 15,
   "metadata": {},
   "outputs": [
    {
     "name": "stdout",
     "output_type": "stream",
     "text": [
      "('customer_code', 0)\n",
      "('fiscal_year', 0)\n",
      "('pre_invoice_discount_pct', 0)\n"
     ]
    }
   ],
   "source": [
    "print(*check_nulls('fact_pre_discount'), sep='\\n')"
   ]
  },
  {
   "cell_type": "code",
   "execution_count": 16,
   "metadata": {},
   "outputs": [
    {
     "name": "stdout",
     "output_type": "stream",
     "text": [
      "('product_code', 0)\n",
      "('cost_year', 0)\n",
      "('manufacturing_cost', 0)\n"
     ]
    }
   ],
   "source": [
    "print(*check_nulls('fact_manufacturing_cost'), sep='\\n')"
   ]
  },
  {
   "cell_type": "code",
   "execution_count": 17,
   "metadata": {},
   "outputs": [
    {
     "name": "stdout",
     "output_type": "stream",
     "text": [
      "('product_code', 0)\n",
      "('fiscal_year', 0)\n",
      "('gross_price', 0)\n"
     ]
    }
   ],
   "source": [
    "print(*check_nulls('fact_gross_price'), sep='\\n')"
   ]
  },
  {
   "cell_type": "code",
   "execution_count": 18,
   "metadata": {},
   "outputs": [
    {
     "name": "stdout",
     "output_type": "stream",
     "text": [
      "('date', 0)\n",
      "('product_code', 0)\n",
      "('customer_code', 1)\n",
      "('sold_quantity', 1)\n",
      "('fiscal_year', 1)\n"
     ]
    }
   ],
   "source": [
    "print(*check_nulls('fact_sales_monthly'), sep='\\n')"
   ]
  },
  {
   "cell_type": "code",
   "execution_count": 19,
   "metadata": {},
   "outputs": [
    {
     "name": "stdout",
     "output_type": "stream",
     "text": [
      "('2019-06-01', 'A0', None, None, None)\n"
     ]
    }
   ],
   "source": [
    "query='''\n",
    "SELECT *\n",
    "FROM fact_sales_monthly\n",
    "WHERE fiscal_year IS NULL\n",
    "'''\n",
    "\n",
    "cursor.execute(query)\n",
    "print(*cursor.fetchall(), sep='\\n')"
   ]
  },
  {
   "cell_type": "markdown",
   "metadata": {},
   "source": [
    "There is only one row with missing values in the whole Database. It's for product `A0` during `June 2019`. It could mean that this product didn't get any sales that month. Let's see some more info about it."
   ]
  },
  {
   "cell_type": "code",
   "execution_count": 20,
   "metadata": {},
   "outputs": [
    {
     "name": "stdout",
     "output_type": "stream",
     "text": [
      "('2019-06-01', 'A0', None, None, None)\n"
     ]
    }
   ],
   "source": [
    "# Look for other sales of this product\n",
    "query='''\n",
    "SELECT *\n",
    "FROM fact_sales_monthly\n",
    "WHERE product_code = \"A0\"\n",
    "'''\n",
    "\n",
    "cursor.execute(query)\n",
    "print(*cursor.fetchall(), sep='\\n')"
   ]
  },
  {
   "cell_type": "markdown",
   "metadata": {},
   "source": [
    "There are no other record of sales of this product."
   ]
  },
  {
   "cell_type": "code",
   "execution_count": 21,
   "metadata": {},
   "outputs": [
    {
     "name": "stdout",
     "output_type": "stream",
     "text": [
      "\n"
     ]
    }
   ],
   "source": [
    "# What product is this\n",
    "query='''\n",
    "SELECT *\n",
    "FROM dim_product\n",
    "WHERE product_code = \"A0\"\n",
    "'''\n",
    "\n",
    "cursor.execute(query)\n",
    "print(*cursor.fetchall(), sep='\\n')"
   ]
  },
  {
   "cell_type": "markdown",
   "metadata": {},
   "source": [
    "This product doesn't exist. We can delete this row."
   ]
  },
  {
   "cell_type": "code",
   "execution_count": 22,
   "metadata": {},
   "outputs": [
    {
     "name": "stdout",
     "output_type": "stream",
     "text": [
      "\n"
     ]
    }
   ],
   "source": [
    "# What product is this\n",
    "query='''\n",
    "DELETE \n",
    "FROM fact_sales_monthly\n",
    "WHERE product_code = \"A0\"\n",
    "'''\n",
    "\n",
    "cursor.execute(query)\n",
    "print(*cursor.fetchall(), sep='\\n')\n",
    "\n",
    "con.commit()\n"
   ]
  },
  {
   "cell_type": "code",
   "execution_count": 12,
   "metadata": {},
   "outputs": [
    {
     "data": {
      "text/html": [
       "<div>\n",
       "<style scoped>\n",
       "    .dataframe tbody tr th:only-of-type {\n",
       "        vertical-align: middle;\n",
       "    }\n",
       "\n",
       "    .dataframe tbody tr th {\n",
       "        vertical-align: top;\n",
       "    }\n",
       "\n",
       "    .dataframe thead th {\n",
       "        text-align: right;\n",
       "    }\n",
       "</style>\n",
       "<table border=\"1\" class=\"dataframe\">\n",
       "  <thead>\n",
       "    <tr style=\"text-align: right;\">\n",
       "      <th></th>\n",
       "      <th>type</th>\n",
       "      <th>name</th>\n",
       "      <th>tbl_name</th>\n",
       "      <th>rootpage</th>\n",
       "      <th>sql</th>\n",
       "    </tr>\n",
       "  </thead>\n",
       "  <tbody>\n",
       "    <tr>\n",
       "      <th>0</th>\n",
       "      <td>table</td>\n",
       "      <td>dim_customer</td>\n",
       "      <td>dim_customer</td>\n",
       "      <td>2</td>\n",
       "      <td>CREATE TABLE \"dim_customer\" (\"customer_code\" i...</td>\n",
       "    </tr>\n",
       "    <tr>\n",
       "      <th>1</th>\n",
       "      <td>table</td>\n",
       "      <td>dim_product</td>\n",
       "      <td>dim_product</td>\n",
       "      <td>7</td>\n",
       "      <td>CREATE TABLE \"dim_product\" (\"product_code\" tex...</td>\n",
       "    </tr>\n",
       "    <tr>\n",
       "      <th>2</th>\n",
       "      <td>table</td>\n",
       "      <td>fact_pre_discount</td>\n",
       "      <td>fact_pre_discount</td>\n",
       "      <td>16</td>\n",
       "      <td>CREATE TABLE \"fact_pre_discount\" (\"customer_co...</td>\n",
       "    </tr>\n",
       "    <tr>\n",
       "      <th>3</th>\n",
       "      <td>table</td>\n",
       "      <td>fact_manufacturing_cost</td>\n",
       "      <td>fact_manufacturing_cost</td>\n",
       "      <td>23</td>\n",
       "      <td>CREATE TABLE \"fact_manufacturing_cost\" (\"produ...</td>\n",
       "    </tr>\n",
       "    <tr>\n",
       "      <th>4</th>\n",
       "      <td>table</td>\n",
       "      <td>fact_gross_price</td>\n",
       "      <td>fact_gross_price</td>\n",
       "      <td>33</td>\n",
       "      <td>CREATE TABLE \"fact_gross_price\" (\"product_code...</td>\n",
       "    </tr>\n",
       "    <tr>\n",
       "      <th>5</th>\n",
       "      <td>table</td>\n",
       "      <td>fact_sales_monthly</td>\n",
       "      <td>fact_sales_monthly</td>\n",
       "      <td>43</td>\n",
       "      <td>CREATE TABLE \"fact_sales_monthly\" (\"date\" text...</td>\n",
       "    </tr>\n",
       "  </tbody>\n",
       "</table>\n",
       "</div>"
      ],
      "text/plain": [
       "    type                     name                 tbl_name  rootpage  \\\n",
       "0  table             dim_customer             dim_customer         2   \n",
       "1  table              dim_product              dim_product         7   \n",
       "2  table        fact_pre_discount        fact_pre_discount        16   \n",
       "3  table  fact_manufacturing_cost  fact_manufacturing_cost        23   \n",
       "4  table         fact_gross_price         fact_gross_price        33   \n",
       "5  table       fact_sales_monthly       fact_sales_monthly        43   \n",
       "\n",
       "                                                 sql  \n",
       "0  CREATE TABLE \"dim_customer\" (\"customer_code\" i...  \n",
       "1  CREATE TABLE \"dim_product\" (\"product_code\" tex...  \n",
       "2  CREATE TABLE \"fact_pre_discount\" (\"customer_co...  \n",
       "3  CREATE TABLE \"fact_manufacturing_cost\" (\"produ...  \n",
       "4  CREATE TABLE \"fact_gross_price\" (\"product_code...  \n",
       "5  CREATE TABLE \"fact_sales_monthly\" (\"date\" text...  "
      ]
     },
     "execution_count": 12,
     "metadata": {},
     "output_type": "execute_result"
    }
   ],
   "source": [
    "query=\"\"\"\n",
    "SELECT *\n",
    "FROM sqlite_schema\n",
    "\n",
    "\"\"\"\n",
    "\n",
    "df = pd.read_sql_query(query, con)\n",
    "df"
   ]
  },
  {
   "cell_type": "code",
   "execution_count": 32,
   "metadata": {},
   "outputs": [
    {
     "data": {
      "text/html": [
       "<div>\n",
       "<style scoped>\n",
       "    .dataframe tbody tr th:only-of-type {\n",
       "        vertical-align: middle;\n",
       "    }\n",
       "\n",
       "    .dataframe tbody tr th {\n",
       "        vertical-align: top;\n",
       "    }\n",
       "\n",
       "    .dataframe thead th {\n",
       "        text-align: right;\n",
       "    }\n",
       "</style>\n",
       "<table border=\"1\" class=\"dataframe\">\n",
       "  <thead>\n",
       "    <tr style=\"text-align: right;\">\n",
       "      <th></th>\n",
       "      <th>name</th>\n",
       "      <th>type</th>\n",
       "      <th>pk</th>\n",
       "    </tr>\n",
       "  </thead>\n",
       "  <tbody>\n",
       "    <tr>\n",
       "      <th>0</th>\n",
       "      <td>customer_code</td>\n",
       "      <td>INTEGER</td>\n",
       "      <td>0</td>\n",
       "    </tr>\n",
       "    <tr>\n",
       "      <th>1</th>\n",
       "      <td>customer</td>\n",
       "      <td>TEXT</td>\n",
       "      <td>0</td>\n",
       "    </tr>\n",
       "    <tr>\n",
       "      <th>2</th>\n",
       "      <td>platform</td>\n",
       "      <td>TEXT</td>\n",
       "      <td>0</td>\n",
       "    </tr>\n",
       "    <tr>\n",
       "      <th>3</th>\n",
       "      <td>channel</td>\n",
       "      <td>TEXT</td>\n",
       "      <td>0</td>\n",
       "    </tr>\n",
       "    <tr>\n",
       "      <th>4</th>\n",
       "      <td>market</td>\n",
       "      <td>TEXT</td>\n",
       "      <td>0</td>\n",
       "    </tr>\n",
       "    <tr>\n",
       "      <th>5</th>\n",
       "      <td>sub_zone</td>\n",
       "      <td>TEXT</td>\n",
       "      <td>0</td>\n",
       "    </tr>\n",
       "    <tr>\n",
       "      <th>6</th>\n",
       "      <td>region</td>\n",
       "      <td>TEXT</td>\n",
       "      <td>0</td>\n",
       "    </tr>\n",
       "  </tbody>\n",
       "</table>\n",
       "</div>"
      ],
      "text/plain": [
       "            name     type  pk\n",
       "0  customer_code  INTEGER   0\n",
       "1       customer     TEXT   0\n",
       "2       platform     TEXT   0\n",
       "3        channel     TEXT   0\n",
       "4         market     TEXT   0\n",
       "5       sub_zone     TEXT   0\n",
       "6         region     TEXT   0"
      ]
     },
     "metadata": {},
     "output_type": "display_data"
    },
    {
     "data": {
      "text/html": [
       "<div>\n",
       "<style scoped>\n",
       "    .dataframe tbody tr th:only-of-type {\n",
       "        vertical-align: middle;\n",
       "    }\n",
       "\n",
       "    .dataframe tbody tr th {\n",
       "        vertical-align: top;\n",
       "    }\n",
       "\n",
       "    .dataframe thead th {\n",
       "        text-align: right;\n",
       "    }\n",
       "</style>\n",
       "<table border=\"1\" class=\"dataframe\">\n",
       "  <thead>\n",
       "    <tr style=\"text-align: right;\">\n",
       "      <th></th>\n",
       "      <th>name</th>\n",
       "      <th>type</th>\n",
       "      <th>pk</th>\n",
       "    </tr>\n",
       "  </thead>\n",
       "  <tbody>\n",
       "    <tr>\n",
       "      <th>0</th>\n",
       "      <td>customer_code</td>\n",
       "      <td>INTEGER</td>\n",
       "      <td>0</td>\n",
       "    </tr>\n",
       "    <tr>\n",
       "      <th>1</th>\n",
       "      <td>fiscal_year</td>\n",
       "      <td>INTEGER</td>\n",
       "      <td>0</td>\n",
       "    </tr>\n",
       "    <tr>\n",
       "      <th>2</th>\n",
       "      <td>pre_invoice_discount_pct</td>\n",
       "      <td>float</td>\n",
       "      <td>0</td>\n",
       "    </tr>\n",
       "  </tbody>\n",
       "</table>\n",
       "</div>"
      ],
      "text/plain": [
       "                       name     type  pk\n",
       "0             customer_code  INTEGER   0\n",
       "1               fiscal_year  INTEGER   0\n",
       "2  pre_invoice_discount_pct    float   0"
      ]
     },
     "metadata": {},
     "output_type": "display_data"
    },
    {
     "data": {
      "text/html": [
       "<div>\n",
       "<style scoped>\n",
       "    .dataframe tbody tr th:only-of-type {\n",
       "        vertical-align: middle;\n",
       "    }\n",
       "\n",
       "    .dataframe tbody tr th {\n",
       "        vertical-align: top;\n",
       "    }\n",
       "\n",
       "    .dataframe thead th {\n",
       "        text-align: right;\n",
       "    }\n",
       "</style>\n",
       "<table border=\"1\" class=\"dataframe\">\n",
       "  <thead>\n",
       "    <tr style=\"text-align: right;\">\n",
       "      <th></th>\n",
       "      <th>name</th>\n",
       "      <th>type</th>\n",
       "      <th>pk</th>\n",
       "    </tr>\n",
       "  </thead>\n",
       "  <tbody>\n",
       "    <tr>\n",
       "      <th>0</th>\n",
       "      <td>product_code</td>\n",
       "      <td>TEXT</td>\n",
       "      <td>0</td>\n",
       "    </tr>\n",
       "    <tr>\n",
       "      <th>1</th>\n",
       "      <td>cost_year</td>\n",
       "      <td>INTEGER</td>\n",
       "      <td>0</td>\n",
       "    </tr>\n",
       "    <tr>\n",
       "      <th>2</th>\n",
       "      <td>manufacturing_cost</td>\n",
       "      <td>float</td>\n",
       "      <td>0</td>\n",
       "    </tr>\n",
       "  </tbody>\n",
       "</table>\n",
       "</div>"
      ],
      "text/plain": [
       "                 name     type  pk\n",
       "0        product_code     TEXT   0\n",
       "1           cost_year  INTEGER   0\n",
       "2  manufacturing_cost    float   0"
      ]
     },
     "metadata": {},
     "output_type": "display_data"
    },
    {
     "data": {
      "text/html": [
       "<div>\n",
       "<style scoped>\n",
       "    .dataframe tbody tr th:only-of-type {\n",
       "        vertical-align: middle;\n",
       "    }\n",
       "\n",
       "    .dataframe tbody tr th {\n",
       "        vertical-align: top;\n",
       "    }\n",
       "\n",
       "    .dataframe thead th {\n",
       "        text-align: right;\n",
       "    }\n",
       "</style>\n",
       "<table border=\"1\" class=\"dataframe\">\n",
       "  <thead>\n",
       "    <tr style=\"text-align: right;\">\n",
       "      <th></th>\n",
       "      <th>name</th>\n",
       "      <th>type</th>\n",
       "      <th>pk</th>\n",
       "    </tr>\n",
       "  </thead>\n",
       "  <tbody>\n",
       "    <tr>\n",
       "      <th>0</th>\n",
       "      <td>product_code</td>\n",
       "      <td>TEXT</td>\n",
       "      <td>0</td>\n",
       "    </tr>\n",
       "    <tr>\n",
       "      <th>1</th>\n",
       "      <td>fiscal_year</td>\n",
       "      <td>INTEGER</td>\n",
       "      <td>0</td>\n",
       "    </tr>\n",
       "    <tr>\n",
       "      <th>2</th>\n",
       "      <td>gross_price</td>\n",
       "      <td>float</td>\n",
       "      <td>0</td>\n",
       "    </tr>\n",
       "  </tbody>\n",
       "</table>\n",
       "</div>"
      ],
      "text/plain": [
       "           name     type  pk\n",
       "0  product_code     TEXT   0\n",
       "1   fiscal_year  INTEGER   0\n",
       "2   gross_price    float   0"
      ]
     },
     "metadata": {},
     "output_type": "display_data"
    },
    {
     "data": {
      "text/html": [
       "<div>\n",
       "<style scoped>\n",
       "    .dataframe tbody tr th:only-of-type {\n",
       "        vertical-align: middle;\n",
       "    }\n",
       "\n",
       "    .dataframe tbody tr th {\n",
       "        vertical-align: top;\n",
       "    }\n",
       "\n",
       "    .dataframe thead th {\n",
       "        text-align: right;\n",
       "    }\n",
       "</style>\n",
       "<table border=\"1\" class=\"dataframe\">\n",
       "  <thead>\n",
       "    <tr style=\"text-align: right;\">\n",
       "      <th></th>\n",
       "      <th>name</th>\n",
       "      <th>type</th>\n",
       "      <th>pk</th>\n",
       "    </tr>\n",
       "  </thead>\n",
       "  <tbody>\n",
       "    <tr>\n",
       "      <th>0</th>\n",
       "      <td>date</td>\n",
       "      <td>TEXT</td>\n",
       "      <td>0</td>\n",
       "    </tr>\n",
       "    <tr>\n",
       "      <th>1</th>\n",
       "      <td>product_code</td>\n",
       "      <td>TEXT</td>\n",
       "      <td>0</td>\n",
       "    </tr>\n",
       "    <tr>\n",
       "      <th>2</th>\n",
       "      <td>customer_code</td>\n",
       "      <td>INTEGER</td>\n",
       "      <td>0</td>\n",
       "    </tr>\n",
       "    <tr>\n",
       "      <th>3</th>\n",
       "      <td>sold_quantity</td>\n",
       "      <td>INTEGER</td>\n",
       "      <td>0</td>\n",
       "    </tr>\n",
       "    <tr>\n",
       "      <th>4</th>\n",
       "      <td>fiscal_year</td>\n",
       "      <td>INTEGER</td>\n",
       "      <td>0</td>\n",
       "    </tr>\n",
       "  </tbody>\n",
       "</table>\n",
       "</div>"
      ],
      "text/plain": [
       "            name     type  pk\n",
       "0           date     TEXT   0\n",
       "1   product_code     TEXT   0\n",
       "2  customer_code  INTEGER   0\n",
       "3  sold_quantity  INTEGER   0\n",
       "4    fiscal_year  INTEGER   0"
      ]
     },
     "metadata": {},
     "output_type": "display_data"
    }
   ],
   "source": [
    "display(table_schema('dim_customer'))\n",
    "display(table_schema('fact_pre_discount'))\n",
    "display(table_schema('fact_manufacturing_cost'))\n",
    "display(table_schema('fact_gross_price'))\n",
    "display(table_schema('fact_sales_monthly'))"
   ]
  },
  {
   "cell_type": "code",
   "execution_count": null,
   "metadata": {},
   "outputs": [],
   "source": []
  }
 ],
 "metadata": {
  "kernelspec": {
   "display_name": "Tripleten",
   "language": "python",
   "name": "python3"
  },
  "language_info": {
   "codemirror_mode": {
    "name": "ipython",
    "version": 3
   },
   "file_extension": ".py",
   "mimetype": "text/x-python",
   "name": "python",
   "nbconvert_exporter": "python",
   "pygments_lexer": "ipython3",
   "version": "3.12.3"
  }
 },
 "nbformat": 4,
 "nbformat_minor": 2
}

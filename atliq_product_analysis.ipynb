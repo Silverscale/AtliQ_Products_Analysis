{
 "cells": [
  {
   "cell_type": "markdown",
   "metadata": {},
   "source": [
    "# AtliQ Products Analysis"
   ]
  },
  {
   "cell_type": "markdown",
   "metadata": {},
   "source": [
    "## Contents\n",
    "\n",
    "1. [Introduction](#introduction)\n",
    "2. [Data loading and preprocessing](#data-loading-and-preprocessing)\n",
    "    - [Import libraries](#libraries)\n",
    "    - [Load/Download database](#loaddownload-database)\n",
    "    - [Helper functions](#helper-functions)\n",
    "    - [Basic tables info](#basic-tables-info)\n",
    "    - [Missing values](#missing-values)\n",
    "    - [Duplicates](#duplicates)\n",
    "    - [Other](#other)\n",
    "3. [Analysis]\n",
    "    1. [Finding the bestsellers]\n",
    "    2. [Popularity across time and markets]\n",
    "    3. [Variant sales]\n",
    "    4. [Division sales]\n",
    "    5. [Product margin]\n",
    "    6. [Price vs cost]\n",
    "4. [Conclusion]\n"
   ]
  },
  {
   "cell_type": "markdown",
   "metadata": {},
   "source": [
    "## Introduction"
   ]
  },
  {
   "cell_type": "markdown",
   "metadata": {},
   "source": [
    "Our team has been commissioned by AtliQ Hardware to conduct a thorough analysis of their product portfolio and sales data.\n",
    "\n",
    "As a prominent computer hardware producer in India, AtliQ is keen on enhancing their understanding of product performance. This analysis aims to identify top-selling products, uncover trends, and develop strategies to optimize sales and market share."
   ]
  },
  {
   "cell_type": "markdown",
   "metadata": {},
   "source": [
    "The primary objective of this research is to analyze AtliQ Hardware's product portfolio and sales data to better understand product performance and identify strategies for optimizing sales. We aim to answer these key questions:\n",
    "- Which items are the bestsellers?\n",
    "- How has popularity changed over time/across markets?\n",
    "- Are there some variants that contribute a disproportionate amount to the product sales?\n",
    "- Are some channels responsible for a large portion of a division’s sales?\n",
    "- What are the products with the best/worst margin?\n",
    "- Is gross price keeping up with manufacturing costs?\n",
    "\n",
    "Through this analysis, our goal is to provide AtliQ Hardware with actionable insights and recommendations to help drive business growth."
   ]
  },
  {
   "cell_type": "markdown",
   "metadata": {},
   "source": [
    "[Back to Contents](#contents)"
   ]
  },
  {
   "cell_type": "markdown",
   "metadata": {},
   "source": [
    "## Data loading and Preprocessing"
   ]
  },
  {
   "cell_type": "markdown",
   "metadata": {},
   "source": [
    "### Libraries\n",
    "These are the libraries that we are going to use for this project:"
   ]
  },
  {
   "cell_type": "code",
   "execution_count": 1,
   "metadata": {},
   "outputs": [],
   "source": [
    "import pandas as pd\n",
    "import sqlite3\n",
    "import os\n",
    "import requests\n",
    "import shutil"
   ]
  },
  {
   "cell_type": "markdown",
   "metadata": {},
   "source": [
    "[Back to Contents](#contents)"
   ]
  },
  {
   "cell_type": "markdown",
   "metadata": {},
   "source": [
    "### Load/Download database"
   ]
  },
  {
   "cell_type": "markdown",
   "metadata": {},
   "source": [
    "We have access to an SQLite database with data on products, clients and sales. \n",
    "\n",
    "First let's check that it exists, and if doesn't, we'll download it."
   ]
  },
  {
   "cell_type": "code",
   "execution_count": 2,
   "metadata": {},
   "outputs": [],
   "source": [
    "# Local path to the Database\n",
    "db_directory_path = 'Data'\n",
    "db_file_path = os.path.join(db_directory_path, 'atliq_db.sqlite3')\n"
   ]
  },
  {
   "cell_type": "code",
   "execution_count": 3,
   "metadata": {},
   "outputs": [],
   "source": [
    "# Check if directory exists. If it doesn't, create it\n",
    "if not os.path.exists(db_directory_path):\n",
    "    os.makedirs(db_directory_path)\n"
   ]
  },
  {
   "cell_type": "code",
   "execution_count": 4,
   "metadata": {},
   "outputs": [
    {
     "name": "stdout",
     "output_type": "stream",
     "text": [
      "Database found.\n"
     ]
    }
   ],
   "source": [
    "# Check if file exists. If it doesn't, download it\n",
    "if not os.path.exists(db_file_path):\n",
    "    print('Database not found. Downloading the file...')\n",
    "\n",
    "    db_url = 'https://practicum-content.s3.us-west-1.amazonaws.com/data-eng/databases/atliq_db.sqlite3'\n",
    "    \n",
    "    response = requests.get(db_url)\n",
    "    with open(db_file_path, 'wb') as f:\n",
    "        f.write(response.content)\n",
    "    \n",
    "    print('Database downloaded successfully!')\n",
    "else:\n",
    "    print('Database found.')\n"
   ]
  },
  {
   "cell_type": "markdown",
   "metadata": {},
   "source": [
    "We have our database. But we don't want to directly change the raw data, and we will be working directly with the database as much as possible. So we'll make a copy and modify that instead."
   ]
  },
  {
   "cell_type": "code",
   "execution_count": 5,
   "metadata": {},
   "outputs": [
    {
     "name": "stdout",
     "output_type": "stream",
     "text": [
      "Previous copy found.\n"
     ]
    }
   ],
   "source": [
    "# Check if the copy exists\n",
    "work_db_path = os.path.join(db_directory_path, 'atliq_db_processed.sqlite3')\n",
    "\n",
    "work_db_found = False\n",
    "if os.path.exists(work_db_path):\n",
    "    work_db_found = True\n",
    "    print('Previous copy found.')\n",
    "else:\n",
    "    shutil.copyfile(db_file_path, work_db_path)\n",
    "    print('Database duplicated.')\n"
   ]
  },
  {
   "cell_type": "markdown",
   "metadata": {},
   "source": [
    "We can now connect to our working copy and start processing it. If we found that the copy already exists, we can assume that it is already processed, and we can skip those steps."
   ]
  },
  {
   "cell_type": "code",
   "execution_count": 6,
   "metadata": {},
   "outputs": [],
   "source": [
    "# Connect to the DB\n",
    "con = sqlite3.connect(work_db_path)"
   ]
  },
  {
   "cell_type": "markdown",
   "metadata": {},
   "source": [
    "Let's check that we have access to the tables that we are supposed to."
   ]
  },
  {
   "cell_type": "code",
   "execution_count": 7,
   "metadata": {},
   "outputs": [
    {
     "name": "stdout",
     "output_type": "stream",
     "text": [
      "('dim_customer',)\n",
      "('dim_product',)\n",
      "('fact_pre_discount',)\n",
      "('fact_manufacturing_cost',)\n",
      "('fact_gross_price',)\n",
      "('fact_sales_monthly',)\n"
     ]
    }
   ],
   "source": [
    "# Check all tables\n",
    "cursor = con.cursor()\n",
    "cursor.execute(\"SELECT name FROM sqlite_master WHERE type='table';\")\n",
    "print(*cursor.fetchall(), sep='\\n')"
   ]
  },
  {
   "cell_type": "markdown",
   "metadata": {},
   "source": [
    "[Back to contents](#contents)"
   ]
  },
  {
   "cell_type": "markdown",
   "metadata": {},
   "source": [
    "### Helper functions"
   ]
  },
  {
   "cell_type": "markdown",
   "metadata": {},
   "source": [
    "Lets check for missing values. We can't load the whole tables into pandas, so we'll have to rely only on SQL queries.\n",
    "\n",
    "Lets build a function to help us, similar to pandas info().\n",
    "\n",
    "We want to display the following:\n",
    "- Table name\n",
    "- Row count\n",
    "- Column info, including name, type, null count, and Primary Key status."
   ]
  },
  {
   "cell_type": "code",
   "execution_count": 8,
   "metadata": {},
   "outputs": [],
   "source": [
    "# Count rows in the table\n",
    "def row_count(table: str):\n",
    "    query = \"\"\"\n",
    "    SELECT COUNT(*)\n",
    "    from fact_sales_monthly\n",
    "    \"\"\"\n",
    "\n",
    "    cursor.execute(query)\n",
    "    return cursor.fetchone()[0]"
   ]
  },
  {
   "cell_type": "code",
   "execution_count": 9,
   "metadata": {},
   "outputs": [],
   "source": [
    "# Find Null values in a column\n",
    "def count_nulls_in_column(column: str, table: str):\n",
    "    query = f\"\"\"\n",
    "    SELECT COUNT(*)\n",
    "    FROM {table}\n",
    "    WHERE {column} IS NULL\n",
    "    \"\"\"\n",
    "\n",
    "    cursor.execute(query)\n",
    "    return cursor.fetchone()[0]"
   ]
  },
  {
   "cell_type": "code",
   "execution_count": 10,
   "metadata": {},
   "outputs": [],
   "source": [
    "# Get all the column names from a table\n",
    "def get_column_names(table: str):\n",
    "    query = f\"\"\"\n",
    "    PRAGMA table_info({table}) \n",
    "    \"\"\"\n",
    "\n",
    "    cursor.execute(query)\n",
    "    result = cursor.fetchall()\n",
    "    name_pos_in_row = 1\n",
    "\n",
    "    column_names = []\n",
    "    for row in result:\n",
    "        column_names.append(row[name_pos_in_row])\n",
    "\n",
    "    return column_names"
   ]
  },
  {
   "cell_type": "code",
   "execution_count": 11,
   "metadata": {},
   "outputs": [],
   "source": [
    "# Check missing values in all columns of the table\n",
    "def check_nulls(table: str):\n",
    "    column_names = get_column_names(table)\n",
    "    null_counts = []\n",
    "    for column in column_names:\n",
    "        null_counts.append((column, count_nulls_in_column(column, table)))\n",
    "\n",
    "    return null_counts"
   ]
  },
  {
   "cell_type": "code",
   "execution_count": 12,
   "metadata": {},
   "outputs": [],
   "source": [
    "def table_schema(table: str):\n",
    "    query = f\"\"\"\n",
    "    PRAGMA table_info({table})\n",
    "    \"\"\"\n",
    "\n",
    "    return pd.read_sql_query(query, con)[['name', 'type', 'pk']]\n"
   ]
  },
  {
   "cell_type": "code",
   "execution_count": 13,
   "metadata": {},
   "outputs": [],
   "source": [
    "def get_table_info(table: str):\n",
    "    print(f'Table: {table}')\n",
    "    print(f'Rows: {row_count(table)}')\n",
    "    null_count = check_nulls(table)\n",
    "    schema = table_schema(table)\n",
    "    schema['nulls'] = [t[1] for t in null_count]\n",
    "    display(schema)"
   ]
  },
  {
   "cell_type": "markdown",
   "metadata": {},
   "source": [
    "To find duplicates, we'll compare the row count of a regular `SELECT` vs a `SELECT DISTINCT`, using relevant columns for each table."
   ]
  },
  {
   "cell_type": "code",
   "execution_count": 14,
   "metadata": {},
   "outputs": [],
   "source": [
    "def count_duplicates(table: str, list_cols: list, verbose=True):\n",
    "\n",
    "    columns = ', '.join(list_cols)\n",
    "\n",
    "    query = f\"\"\"\n",
    "    SELECT COUNT(*)\n",
    "    FROM {table}\n",
    "    \"\"\"\n",
    "    cursor.execute(query)\n",
    "    sel = cursor.fetchone()[0]\n",
    "\n",
    "    query = f\"\"\"\n",
    "    SELECT DISTINCT COUNT(*)\n",
    "    FROM (\n",
    "        SELECT DISTINCT {columns}\n",
    "        FROM {table}\n",
    "    )\n",
    "    \"\"\"\n",
    "    cursor.execute(query)\n",
    "    dis = cursor.fetchone()[0]\n",
    "    duplicate_count = sel - dis\n",
    "\n",
    "    if verbose:\n",
    "        print(f'Table: {table}')\n",
    "        print(f'Duplicates found: {duplicate_count}')\n",
    "    return(duplicate_count)\n"
   ]
  },
  {
   "cell_type": "markdown",
   "metadata": {},
   "source": [
    "[Back to Contents](#contents)"
   ]
  },
  {
   "cell_type": "markdown",
   "metadata": {},
   "source": [
    "### Basic tables info"
   ]
  },
  {
   "cell_type": "markdown",
   "metadata": {},
   "source": [
    "With our function ready, lets check the info on our tables."
   ]
  },
  {
   "cell_type": "code",
   "execution_count": 15,
   "metadata": {},
   "outputs": [
    {
     "name": "stdout",
     "output_type": "stream",
     "text": [
      "Table: dim_customer\n",
      "Rows: 67250\n"
     ]
    },
    {
     "data": {
      "text/html": [
       "<div>\n",
       "<style scoped>\n",
       "    .dataframe tbody tr th:only-of-type {\n",
       "        vertical-align: middle;\n",
       "    }\n",
       "\n",
       "    .dataframe tbody tr th {\n",
       "        vertical-align: top;\n",
       "    }\n",
       "\n",
       "    .dataframe thead th {\n",
       "        text-align: right;\n",
       "    }\n",
       "</style>\n",
       "<table border=\"1\" class=\"dataframe\">\n",
       "  <thead>\n",
       "    <tr style=\"text-align: right;\">\n",
       "      <th></th>\n",
       "      <th>name</th>\n",
       "      <th>type</th>\n",
       "      <th>pk</th>\n",
       "      <th>nulls</th>\n",
       "    </tr>\n",
       "  </thead>\n",
       "  <tbody>\n",
       "    <tr>\n",
       "      <th>0</th>\n",
       "      <td>customer_code</td>\n",
       "      <td>INTEGER</td>\n",
       "      <td>0</td>\n",
       "      <td>0</td>\n",
       "    </tr>\n",
       "    <tr>\n",
       "      <th>1</th>\n",
       "      <td>customer</td>\n",
       "      <td>TEXT</td>\n",
       "      <td>0</td>\n",
       "      <td>0</td>\n",
       "    </tr>\n",
       "    <tr>\n",
       "      <th>2</th>\n",
       "      <td>platform</td>\n",
       "      <td>TEXT</td>\n",
       "      <td>0</td>\n",
       "      <td>0</td>\n",
       "    </tr>\n",
       "    <tr>\n",
       "      <th>3</th>\n",
       "      <td>channel</td>\n",
       "      <td>TEXT</td>\n",
       "      <td>0</td>\n",
       "      <td>0</td>\n",
       "    </tr>\n",
       "    <tr>\n",
       "      <th>4</th>\n",
       "      <td>market</td>\n",
       "      <td>TEXT</td>\n",
       "      <td>0</td>\n",
       "      <td>0</td>\n",
       "    </tr>\n",
       "    <tr>\n",
       "      <th>5</th>\n",
       "      <td>sub_zone</td>\n",
       "      <td>TEXT</td>\n",
       "      <td>0</td>\n",
       "      <td>0</td>\n",
       "    </tr>\n",
       "    <tr>\n",
       "      <th>6</th>\n",
       "      <td>region</td>\n",
       "      <td>TEXT</td>\n",
       "      <td>0</td>\n",
       "      <td>0</td>\n",
       "    </tr>\n",
       "  </tbody>\n",
       "</table>\n",
       "</div>"
      ],
      "text/plain": [
       "            name     type  pk  nulls\n",
       "0  customer_code  INTEGER   0      0\n",
       "1       customer     TEXT   0      0\n",
       "2       platform     TEXT   0      0\n",
       "3        channel     TEXT   0      0\n",
       "4         market     TEXT   0      0\n",
       "5       sub_zone     TEXT   0      0\n",
       "6         region     TEXT   0      0"
      ]
     },
     "metadata": {},
     "output_type": "display_data"
    }
   ],
   "source": [
    "get_table_info('dim_customer')"
   ]
  },
  {
   "cell_type": "code",
   "execution_count": 16,
   "metadata": {},
   "outputs": [
    {
     "name": "stdout",
     "output_type": "stream",
     "text": [
      "Table: dim_product\n",
      "Rows: 67250\n"
     ]
    },
    {
     "data": {
      "text/html": [
       "<div>\n",
       "<style scoped>\n",
       "    .dataframe tbody tr th:only-of-type {\n",
       "        vertical-align: middle;\n",
       "    }\n",
       "\n",
       "    .dataframe tbody tr th {\n",
       "        vertical-align: top;\n",
       "    }\n",
       "\n",
       "    .dataframe thead th {\n",
       "        text-align: right;\n",
       "    }\n",
       "</style>\n",
       "<table border=\"1\" class=\"dataframe\">\n",
       "  <thead>\n",
       "    <tr style=\"text-align: right;\">\n",
       "      <th></th>\n",
       "      <th>name</th>\n",
       "      <th>type</th>\n",
       "      <th>pk</th>\n",
       "      <th>nulls</th>\n",
       "    </tr>\n",
       "  </thead>\n",
       "  <tbody>\n",
       "    <tr>\n",
       "      <th>0</th>\n",
       "      <td>product_code</td>\n",
       "      <td>TEXT</td>\n",
       "      <td>0</td>\n",
       "      <td>0</td>\n",
       "    </tr>\n",
       "    <tr>\n",
       "      <th>1</th>\n",
       "      <td>division</td>\n",
       "      <td>TEXT</td>\n",
       "      <td>0</td>\n",
       "      <td>0</td>\n",
       "    </tr>\n",
       "    <tr>\n",
       "      <th>2</th>\n",
       "      <td>segment</td>\n",
       "      <td>TEXT</td>\n",
       "      <td>0</td>\n",
       "      <td>0</td>\n",
       "    </tr>\n",
       "    <tr>\n",
       "      <th>3</th>\n",
       "      <td>category</td>\n",
       "      <td>TEXT</td>\n",
       "      <td>0</td>\n",
       "      <td>0</td>\n",
       "    </tr>\n",
       "    <tr>\n",
       "      <th>4</th>\n",
       "      <td>product</td>\n",
       "      <td>TEXT</td>\n",
       "      <td>0</td>\n",
       "      <td>0</td>\n",
       "    </tr>\n",
       "    <tr>\n",
       "      <th>5</th>\n",
       "      <td>variant</td>\n",
       "      <td>TEXT</td>\n",
       "      <td>0</td>\n",
       "      <td>0</td>\n",
       "    </tr>\n",
       "  </tbody>\n",
       "</table>\n",
       "</div>"
      ],
      "text/plain": [
       "           name  type  pk  nulls\n",
       "0  product_code  TEXT   0      0\n",
       "1      division  TEXT   0      0\n",
       "2       segment  TEXT   0      0\n",
       "3      category  TEXT   0      0\n",
       "4       product  TEXT   0      0\n",
       "5       variant  TEXT   0      0"
      ]
     },
     "metadata": {},
     "output_type": "display_data"
    }
   ],
   "source": [
    "get_table_info('dim_product')"
   ]
  },
  {
   "cell_type": "code",
   "execution_count": 17,
   "metadata": {},
   "outputs": [
    {
     "name": "stdout",
     "output_type": "stream",
     "text": [
      "Table: fact_pre_discount\n",
      "Rows: 67250\n"
     ]
    },
    {
     "data": {
      "text/html": [
       "<div>\n",
       "<style scoped>\n",
       "    .dataframe tbody tr th:only-of-type {\n",
       "        vertical-align: middle;\n",
       "    }\n",
       "\n",
       "    .dataframe tbody tr th {\n",
       "        vertical-align: top;\n",
       "    }\n",
       "\n",
       "    .dataframe thead th {\n",
       "        text-align: right;\n",
       "    }\n",
       "</style>\n",
       "<table border=\"1\" class=\"dataframe\">\n",
       "  <thead>\n",
       "    <tr style=\"text-align: right;\">\n",
       "      <th></th>\n",
       "      <th>name</th>\n",
       "      <th>type</th>\n",
       "      <th>pk</th>\n",
       "      <th>nulls</th>\n",
       "    </tr>\n",
       "  </thead>\n",
       "  <tbody>\n",
       "    <tr>\n",
       "      <th>0</th>\n",
       "      <td>customer_code</td>\n",
       "      <td>INTEGER</td>\n",
       "      <td>0</td>\n",
       "      <td>0</td>\n",
       "    </tr>\n",
       "    <tr>\n",
       "      <th>1</th>\n",
       "      <td>fiscal_year</td>\n",
       "      <td>INTEGER</td>\n",
       "      <td>0</td>\n",
       "      <td>0</td>\n",
       "    </tr>\n",
       "    <tr>\n",
       "      <th>2</th>\n",
       "      <td>pre_invoice_discount_pct</td>\n",
       "      <td>float</td>\n",
       "      <td>0</td>\n",
       "      <td>0</td>\n",
       "    </tr>\n",
       "  </tbody>\n",
       "</table>\n",
       "</div>"
      ],
      "text/plain": [
       "                       name     type  pk  nulls\n",
       "0             customer_code  INTEGER   0      0\n",
       "1               fiscal_year  INTEGER   0      0\n",
       "2  pre_invoice_discount_pct    float   0      0"
      ]
     },
     "metadata": {},
     "output_type": "display_data"
    }
   ],
   "source": [
    "get_table_info('fact_pre_discount')"
   ]
  },
  {
   "cell_type": "code",
   "execution_count": 18,
   "metadata": {},
   "outputs": [
    {
     "name": "stdout",
     "output_type": "stream",
     "text": [
      "Table: fact_manufacturing_cost\n",
      "Rows: 67250\n"
     ]
    },
    {
     "data": {
      "text/html": [
       "<div>\n",
       "<style scoped>\n",
       "    .dataframe tbody tr th:only-of-type {\n",
       "        vertical-align: middle;\n",
       "    }\n",
       "\n",
       "    .dataframe tbody tr th {\n",
       "        vertical-align: top;\n",
       "    }\n",
       "\n",
       "    .dataframe thead th {\n",
       "        text-align: right;\n",
       "    }\n",
       "</style>\n",
       "<table border=\"1\" class=\"dataframe\">\n",
       "  <thead>\n",
       "    <tr style=\"text-align: right;\">\n",
       "      <th></th>\n",
       "      <th>name</th>\n",
       "      <th>type</th>\n",
       "      <th>pk</th>\n",
       "      <th>nulls</th>\n",
       "    </tr>\n",
       "  </thead>\n",
       "  <tbody>\n",
       "    <tr>\n",
       "      <th>0</th>\n",
       "      <td>product_code</td>\n",
       "      <td>TEXT</td>\n",
       "      <td>0</td>\n",
       "      <td>0</td>\n",
       "    </tr>\n",
       "    <tr>\n",
       "      <th>1</th>\n",
       "      <td>cost_year</td>\n",
       "      <td>INTEGER</td>\n",
       "      <td>0</td>\n",
       "      <td>0</td>\n",
       "    </tr>\n",
       "    <tr>\n",
       "      <th>2</th>\n",
       "      <td>manufacturing_cost</td>\n",
       "      <td>float</td>\n",
       "      <td>0</td>\n",
       "      <td>0</td>\n",
       "    </tr>\n",
       "  </tbody>\n",
       "</table>\n",
       "</div>"
      ],
      "text/plain": [
       "                 name     type  pk  nulls\n",
       "0        product_code     TEXT   0      0\n",
       "1           cost_year  INTEGER   0      0\n",
       "2  manufacturing_cost    float   0      0"
      ]
     },
     "metadata": {},
     "output_type": "display_data"
    }
   ],
   "source": [
    "get_table_info('fact_manufacturing_cost')"
   ]
  },
  {
   "cell_type": "code",
   "execution_count": 19,
   "metadata": {},
   "outputs": [
    {
     "name": "stdout",
     "output_type": "stream",
     "text": [
      "Table: fact_gross_price\n",
      "Rows: 67250\n"
     ]
    },
    {
     "data": {
      "text/html": [
       "<div>\n",
       "<style scoped>\n",
       "    .dataframe tbody tr th:only-of-type {\n",
       "        vertical-align: middle;\n",
       "    }\n",
       "\n",
       "    .dataframe tbody tr th {\n",
       "        vertical-align: top;\n",
       "    }\n",
       "\n",
       "    .dataframe thead th {\n",
       "        text-align: right;\n",
       "    }\n",
       "</style>\n",
       "<table border=\"1\" class=\"dataframe\">\n",
       "  <thead>\n",
       "    <tr style=\"text-align: right;\">\n",
       "      <th></th>\n",
       "      <th>name</th>\n",
       "      <th>type</th>\n",
       "      <th>pk</th>\n",
       "      <th>nulls</th>\n",
       "    </tr>\n",
       "  </thead>\n",
       "  <tbody>\n",
       "    <tr>\n",
       "      <th>0</th>\n",
       "      <td>product_code</td>\n",
       "      <td>TEXT</td>\n",
       "      <td>0</td>\n",
       "      <td>0</td>\n",
       "    </tr>\n",
       "    <tr>\n",
       "      <th>1</th>\n",
       "      <td>fiscal_year</td>\n",
       "      <td>INTEGER</td>\n",
       "      <td>0</td>\n",
       "      <td>0</td>\n",
       "    </tr>\n",
       "    <tr>\n",
       "      <th>2</th>\n",
       "      <td>gross_price</td>\n",
       "      <td>float</td>\n",
       "      <td>0</td>\n",
       "      <td>0</td>\n",
       "    </tr>\n",
       "  </tbody>\n",
       "</table>\n",
       "</div>"
      ],
      "text/plain": [
       "           name     type  pk  nulls\n",
       "0  product_code     TEXT   0      0\n",
       "1   fiscal_year  INTEGER   0      0\n",
       "2   gross_price    float   0      0"
      ]
     },
     "metadata": {},
     "output_type": "display_data"
    }
   ],
   "source": [
    "get_table_info('fact_gross_price')"
   ]
  },
  {
   "cell_type": "code",
   "execution_count": 20,
   "metadata": {},
   "outputs": [
    {
     "name": "stdout",
     "output_type": "stream",
     "text": [
      "Table: fact_sales_monthly\n",
      "Rows: 67250\n"
     ]
    },
    {
     "data": {
      "text/html": [
       "<div>\n",
       "<style scoped>\n",
       "    .dataframe tbody tr th:only-of-type {\n",
       "        vertical-align: middle;\n",
       "    }\n",
       "\n",
       "    .dataframe tbody tr th {\n",
       "        vertical-align: top;\n",
       "    }\n",
       "\n",
       "    .dataframe thead th {\n",
       "        text-align: right;\n",
       "    }\n",
       "</style>\n",
       "<table border=\"1\" class=\"dataframe\">\n",
       "  <thead>\n",
       "    <tr style=\"text-align: right;\">\n",
       "      <th></th>\n",
       "      <th>name</th>\n",
       "      <th>type</th>\n",
       "      <th>pk</th>\n",
       "      <th>nulls</th>\n",
       "    </tr>\n",
       "  </thead>\n",
       "  <tbody>\n",
       "    <tr>\n",
       "      <th>0</th>\n",
       "      <td>date</td>\n",
       "      <td>TEXT</td>\n",
       "      <td>0</td>\n",
       "      <td>0</td>\n",
       "    </tr>\n",
       "    <tr>\n",
       "      <th>1</th>\n",
       "      <td>product_code</td>\n",
       "      <td>TEXT</td>\n",
       "      <td>0</td>\n",
       "      <td>0</td>\n",
       "    </tr>\n",
       "    <tr>\n",
       "      <th>2</th>\n",
       "      <td>customer_code</td>\n",
       "      <td>INTEGER</td>\n",
       "      <td>0</td>\n",
       "      <td>0</td>\n",
       "    </tr>\n",
       "    <tr>\n",
       "      <th>3</th>\n",
       "      <td>sold_quantity</td>\n",
       "      <td>INTEGER</td>\n",
       "      <td>0</td>\n",
       "      <td>0</td>\n",
       "    </tr>\n",
       "    <tr>\n",
       "      <th>4</th>\n",
       "      <td>fiscal_year</td>\n",
       "      <td>INTEGER</td>\n",
       "      <td>0</td>\n",
       "      <td>0</td>\n",
       "    </tr>\n",
       "  </tbody>\n",
       "</table>\n",
       "</div>"
      ],
      "text/plain": [
       "            name     type  pk  nulls\n",
       "0           date     TEXT   0      0\n",
       "1   product_code     TEXT   0      0\n",
       "2  customer_code  INTEGER   0      0\n",
       "3  sold_quantity  INTEGER   0      0\n",
       "4    fiscal_year  INTEGER   0      0"
      ]
     },
     "metadata": {},
     "output_type": "display_data"
    }
   ],
   "source": [
    "get_table_info('fact_sales_monthly')"
   ]
  },
  {
   "cell_type": "markdown",
   "metadata": {},
   "source": [
    "There is only one missing value in the whole database. \n",
    "\n",
    "Curiously, none of the tables have primary keys declared. "
   ]
  },
  {
   "cell_type": "markdown",
   "metadata": {},
   "source": [
    "[Back to contents](#contents)"
   ]
  },
  {
   "cell_type": "markdown",
   "metadata": {},
   "source": [
    "### Missing values"
   ]
  },
  {
   "cell_type": "markdown",
   "metadata": {},
   "source": [
    "There is only one row with missing values in the whole Database. Let's print that row."
   ]
  },
  {
   "cell_type": "code",
   "execution_count": 21,
   "metadata": {},
   "outputs": [
    {
     "name": "stdout",
     "output_type": "stream",
     "text": [
      "\n"
     ]
    }
   ],
   "source": [
    "query='''\n",
    "SELECT *\n",
    "FROM fact_sales_monthly\n",
    "WHERE fiscal_year IS NULL\n",
    "'''\n",
    "\n",
    "cursor.execute(query)\n",
    "print(*cursor.fetchall(), sep='\\n')"
   ]
  },
  {
   "cell_type": "markdown",
   "metadata": {},
   "source": [
    "It's for product `A0` during `June 2019`. It could mean that this product didn't get any sales that month. Let's see some more info about it."
   ]
  },
  {
   "cell_type": "code",
   "execution_count": 22,
   "metadata": {},
   "outputs": [
    {
     "name": "stdout",
     "output_type": "stream",
     "text": [
      "\n"
     ]
    }
   ],
   "source": [
    "# Look for other sales of this product\n",
    "query='''\n",
    "SELECT *\n",
    "FROM fact_sales_monthly\n",
    "WHERE product_code = \"A0\"\n",
    "'''\n",
    "\n",
    "cursor.execute(query)\n",
    "print(*cursor.fetchall(), sep='\\n')"
   ]
  },
  {
   "cell_type": "markdown",
   "metadata": {},
   "source": [
    "There are no other record of sales of this product."
   ]
  },
  {
   "cell_type": "code",
   "execution_count": 23,
   "metadata": {},
   "outputs": [
    {
     "name": "stdout",
     "output_type": "stream",
     "text": [
      "\n"
     ]
    }
   ],
   "source": [
    "# What product is this\n",
    "query='''\n",
    "SELECT *\n",
    "FROM dim_product\n",
    "WHERE product_code = \"A0\"\n",
    "'''\n",
    "\n",
    "cursor.execute(query)\n",
    "print(*cursor.fetchall(), sep='\\n')"
   ]
  },
  {
   "cell_type": "markdown",
   "metadata": {},
   "source": [
    "There is no register of this product in `dim_product`. It doesn't exist. We can delete this row."
   ]
  },
  {
   "cell_type": "code",
   "execution_count": 24,
   "metadata": {},
   "outputs": [
    {
     "name": "stdout",
     "output_type": "stream",
     "text": [
      "\n"
     ]
    }
   ],
   "source": [
    "# What product is this\n",
    "query='''\n",
    "DELETE \n",
    "FROM fact_sales_monthly\n",
    "WHERE product_code = \"A0\"\n",
    "'''\n",
    "\n",
    "cursor.execute(query)\n",
    "print(*cursor.fetchall(), sep='\\n')\n",
    "\n",
    "con.commit()"
   ]
  },
  {
   "cell_type": "markdown",
   "metadata": {},
   "source": [
    "[Back to Contents](#contents)"
   ]
  },
  {
   "cell_type": "markdown",
   "metadata": {},
   "source": [
    "### Duplicates"
   ]
  },
  {
   "cell_type": "markdown",
   "metadata": {},
   "source": [
    "The tables don't have Primary keys set up. That means it's possible that some of them have duplicated values in critical columns.\n",
    "\n",
    "We'll be examining various column combinations in each table. Unless we encounter a non-zero value, we'll proceed to the next one."
   ]
  },
  {
   "cell_type": "code",
   "execution_count": 25,
   "metadata": {},
   "outputs": [
    {
     "name": "stdout",
     "output_type": "stream",
     "text": [
      "Table: dim_customer\n",
      "Duplicates found: 0\n"
     ]
    }
   ],
   "source": [
    "# No duplicate customer codes\n",
    "table = 'dim_customer'\n",
    "columns = ['customer_code']\n",
    "count_duplicates(table, columns);"
   ]
  },
  {
   "cell_type": "code",
   "execution_count": 26,
   "metadata": {},
   "outputs": [
    {
     "name": "stdout",
     "output_type": "stream",
     "text": [
      "Table: dim_customer\n",
      "Duplicates found: 101\n"
     ]
    }
   ],
   "source": [
    "# Customer codes are unique to the ['customer', 'platform', 'channel', 'region'] combination\n",
    "table = 'dim_customer'\n",
    "columns = ['customer', 'platform', 'channel', 'region']\n",
    "count_duplicates(table, columns);"
   ]
  },
  {
   "cell_type": "markdown",
   "metadata": {},
   "source": [
    "We got duplicates here. It's possible that the batabase notes are mistaken and `customer_code` is given by market, instead of by region."
   ]
  },
  {
   "cell_type": "code",
   "execution_count": 27,
   "metadata": {},
   "outputs": [
    {
     "name": "stdout",
     "output_type": "stream",
     "text": [
      "Table: dim_customer\n",
      "Duplicates found: 0\n"
     ]
    }
   ],
   "source": [
    "# Check if adding 'market' to the previous query makes the results unique\n",
    "table = 'dim_customer'\n",
    "columns = ['customer', 'platform', 'channel', 'region', 'sub_zone', 'market']\n",
    "count_duplicates(table, columns);"
   ]
  },
  {
   "cell_type": "markdown",
   "metadata": {},
   "source": [
    "It seems to be the case. We can move on."
   ]
  },
  {
   "cell_type": "code",
   "execution_count": 28,
   "metadata": {},
   "outputs": [
    {
     "name": "stdout",
     "output_type": "stream",
     "text": [
      "Table: dim_product\n",
      "Duplicates found: 0\n"
     ]
    }
   ],
   "source": [
    "# No duplicate product_code\n",
    "table = 'dim_product'\n",
    "columns = ['product_code']\n",
    "count_duplicates(table, columns);"
   ]
  },
  {
   "cell_type": "code",
   "execution_count": 29,
   "metadata": {},
   "outputs": [
    {
     "name": "stdout",
     "output_type": "stream",
     "text": [
      "Table: dim_product\n",
      "Duplicates found: 0\n"
     ]
    }
   ],
   "source": [
    "# No duplicate variants for the same product\n",
    "table = 'dim_product'\n",
    "columns = ['product', 'variant']\n",
    "count_duplicates(table, columns);"
   ]
  },
  {
   "cell_type": "code",
   "execution_count": 30,
   "metadata": {},
   "outputs": [
    {
     "name": "stdout",
     "output_type": "stream",
     "text": [
      "Table: dim_product\n",
      "Duplicates found: 0\n"
     ]
    }
   ],
   "source": [
    "# No duplicate category for the same product variant\n",
    "table = 'dim_product'\n",
    "columns = ['category', 'product', 'variant']\n",
    "count_duplicates(table, columns);"
   ]
  },
  {
   "cell_type": "code",
   "execution_count": 31,
   "metadata": {},
   "outputs": [
    {
     "name": "stdout",
     "output_type": "stream",
     "text": [
      "Table: dim_product\n",
      "Duplicates found: 0\n"
     ]
    }
   ],
   "source": [
    "# No duplicate segment for the same category product variant\n",
    "table = 'dim_product'\n",
    "columns = ['segment', 'category', 'product', 'variant']\n",
    "count_duplicates(table, columns);"
   ]
  },
  {
   "cell_type": "code",
   "execution_count": 32,
   "metadata": {},
   "outputs": [
    {
     "name": "stdout",
     "output_type": "stream",
     "text": [
      "Table: dim_product\n",
      "Duplicates found: 0\n"
     ]
    }
   ],
   "source": [
    "# No duplicate division for the same category product variant\n",
    "table = 'dim_product'\n",
    "columns = ['division', 'segment', 'category', 'product', 'variant']\n",
    "count_duplicates(table, columns);"
   ]
  },
  {
   "cell_type": "code",
   "execution_count": 33,
   "metadata": {},
   "outputs": [
    {
     "name": "stdout",
     "output_type": "stream",
     "text": [
      "Table: dim_product\n",
      "Duplicates found: 0\n"
     ]
    }
   ],
   "source": [
    "# The combination ['product', 'category', 'variant', 'segment', 'division'] should be unique\n",
    "table = 'dim_product'\n",
    "columns = ['product', 'category', 'variant', 'segment', 'division']\n",
    "count_duplicates(table, columns);"
   ]
  },
  {
   "cell_type": "code",
   "execution_count": 34,
   "metadata": {},
   "outputs": [
    {
     "name": "stdout",
     "output_type": "stream",
     "text": [
      "Table: fact_pre_discount\n",
      "Duplicates found: 0\n"
     ]
    }
   ],
   "source": [
    "# Each customer_code should have only one discount per fiscal_year\n",
    "table = 'fact_pre_discount'\n",
    "columns = ['customer_code', 'fiscal_year']\n",
    "count_duplicates(table, columns);"
   ]
  },
  {
   "cell_type": "code",
   "execution_count": 35,
   "metadata": {},
   "outputs": [
    {
     "name": "stdout",
     "output_type": "stream",
     "text": [
      "Table: fact_manufacturing_cost\n",
      "Duplicates found: 0\n"
     ]
    }
   ],
   "source": [
    "# Each product_code should have only one cost per year\n",
    "table = 'fact_manufacturing_cost'\n",
    "columns = ['product_code', 'cost_year']\n",
    "count_duplicates(table, columns);"
   ]
  },
  {
   "cell_type": "code",
   "execution_count": 36,
   "metadata": {},
   "outputs": [
    {
     "name": "stdout",
     "output_type": "stream",
     "text": [
      "Table: fact_gross_price\n",
      "Duplicates found: 0\n"
     ]
    }
   ],
   "source": [
    "# Each product_code should have only one price per year\n",
    "table = 'fact_gross_price'\n",
    "columns = ['product_code', 'fiscal_year']\n",
    "count_duplicates(table, columns);"
   ]
  },
  {
   "cell_type": "code",
   "execution_count": 37,
   "metadata": {},
   "outputs": [
    {
     "name": "stdout",
     "output_type": "stream",
     "text": [
      "Table: fact_sales_monthly\n",
      "Duplicates found: 0\n"
     ]
    }
   ],
   "source": [
    "# The sales data should be aggrergated by customer, product and date.\n",
    "table = 'fact_sales_monthly'\n",
    "columns = ['date', 'product_code', 'customer_code']\n",
    "count_duplicates(table, columns);"
   ]
  },
  {
   "cell_type": "markdown",
   "metadata": {},
   "source": [
    "We only found duplicates in `dim_customer`, and they are easily explainable. There is nothing to fix here."
   ]
  },
  {
   "cell_type": "markdown",
   "metadata": {},
   "source": [
    "[Back to Contents](#contents)"
   ]
  },
  {
   "cell_type": "markdown",
   "metadata": {},
   "source": [
    "### Other"
   ]
  },
  {
   "cell_type": "markdown",
   "metadata": {},
   "source": [
    "We should check the consistency of the data that we have, and that it obeys the rules stated in the Database documentation."
   ]
  },
  {
   "cell_type": "markdown",
   "metadata": {},
   "source": [
    "Let's see if the time period is the same in all tables."
   ]
  },
  {
   "cell_type": "code",
   "execution_count": 38,
   "metadata": {},
   "outputs": [
    {
     "data": {
      "text/plain": [
       "(2018, 2022)"
      ]
     },
     "execution_count": 38,
     "metadata": {},
     "output_type": "execute_result"
    }
   ],
   "source": [
    "# Period for fact_pre_discount data\n",
    "query = \"\"\"\n",
    "SELECT MIN(fiscal_year), MAX(fiscal_year)\n",
    "FROM fact_pre_discount\n",
    "\"\"\"\n",
    "\n",
    "cursor.execute(query)\n",
    "cursor.fetchone()"
   ]
  },
  {
   "cell_type": "code",
   "execution_count": 39,
   "metadata": {},
   "outputs": [
    {
     "data": {
      "text/plain": [
       "(2018, 2022)"
      ]
     },
     "execution_count": 39,
     "metadata": {},
     "output_type": "execute_result"
    }
   ],
   "source": [
    "# Period for fact_manufacturing_cost data\n",
    "query = \"\"\"\n",
    "SELECT MIN(cost_year), MAX(cost_year)\n",
    "FROM fact_manufacturing_cost\n",
    "\"\"\"\n",
    "\n",
    "cursor.execute(query)\n",
    "cursor.fetchone()"
   ]
  },
  {
   "cell_type": "code",
   "execution_count": 40,
   "metadata": {},
   "outputs": [
    {
     "data": {
      "text/plain": [
       "(2018, 2022)"
      ]
     },
     "execution_count": 40,
     "metadata": {},
     "output_type": "execute_result"
    }
   ],
   "source": [
    "# Period for fact_gross_price data\n",
    "query = \"\"\"\n",
    "SELECT MIN(fiscal_year), MAX(fiscal_year)\n",
    "FROM fact_gross_price\n",
    "\"\"\"\n",
    "\n",
    "cursor.execute(query)\n",
    "cursor.fetchone()"
   ]
  },
  {
   "cell_type": "code",
   "execution_count": 41,
   "metadata": {},
   "outputs": [
    {
     "data": {
      "text/plain": [
       "(2018, 2022)"
      ]
     },
     "execution_count": 41,
     "metadata": {},
     "output_type": "execute_result"
    }
   ],
   "source": [
    "# Period for fact_sales_monthly data\n",
    "query = \"\"\"\n",
    "SELECT MIN(fiscal_year), MAX(fiscal_year)\n",
    "FROM fact_sales_monthly\n",
    "\"\"\"\n",
    "\n",
    "cursor.execute(query)\n",
    "cursor.fetchone()"
   ]
  },
  {
   "cell_type": "markdown",
   "metadata": {},
   "source": [
    "All data is from fiscal years `2018` to `2022`"
   ]
  },
  {
   "cell_type": "code",
   "execution_count": 42,
   "metadata": {},
   "outputs": [
    {
     "name": "stdout",
     "output_type": "stream",
     "text": [
      "('Brick & Mortar',)\n",
      "('E-Commerce',)\n"
     ]
    }
   ],
   "source": [
    "# dim_customer.platform should have 2 values\n",
    "query = \"\"\"\n",
    "SELECT DISTINCT platform\n",
    "FROM dim_customer\n",
    "\"\"\"\n",
    "cursor.execute(query)\n",
    "print(*cursor.fetchall(), sep=\"\\n\")"
   ]
  },
  {
   "cell_type": "code",
   "execution_count": 43,
   "metadata": {},
   "outputs": [
    {
     "name": "stdout",
     "output_type": "stream",
     "text": [
      "('Direct',)\n",
      "('Distributor',)\n",
      "('Retailer',)\n"
     ]
    }
   ],
   "source": [
    "# dim_customer.channel should have 3 values\n",
    "query = \"\"\"\n",
    "SELECT DISTINCT channel\n",
    "FROM dim_customer\n",
    "\"\"\"\n",
    "cursor.execute(query)\n",
    "print(*cursor.fetchall(), sep=\"\\n\")"
   ]
  },
  {
   "cell_type": "code",
   "execution_count": 54,
   "metadata": {},
   "outputs": [
    {
     "name": "stdout",
     "output_type": "stream",
     "text": [
      "Max platform count: 1\n"
     ]
    }
   ],
   "source": [
    "# Each dim_customer.customer_code should have 1 platform\n",
    "query = \"\"\"\n",
    "SELECT customer_code, count(platform) as platform_count\n",
    "FROM dim_customer\n",
    "GROUP BY customer_code\n",
    "ORDER BY platform_count DESC\n",
    "\"\"\"\n",
    "cursor.execute(query)\n",
    "print (f'Max platform count: {cursor.fetchone()[1]}')"
   ]
  },
  {
   "cell_type": "code",
   "execution_count": 59,
   "metadata": {},
   "outputs": [
    {
     "name": "stdout",
     "output_type": "stream",
     "text": [
      "Max sub zone count: 1\n"
     ]
    }
   ],
   "source": [
    "# Each dim_customer.market should have 1 sub-zone\n",
    "query = \"\"\"\n",
    "SELECT market, count(sub_zone) as sub_zone_count\n",
    "FROM (\n",
    "    SELECT DISTINCT market, sub_zone\n",
    "    FROM dim_customer\n",
    ")\n",
    "GROUP BY market\n",
    "ORDER BY sub_zone_count DESC\n",
    "\"\"\"\n",
    "cursor.execute(query)\n",
    "print (f'Max sub zone count: {cursor.fetchone()[1]}')"
   ]
  },
  {
   "cell_type": "code",
   "execution_count": 60,
   "metadata": {},
   "outputs": [
    {
     "name": "stdout",
     "output_type": "stream",
     "text": [
      "Max region count: 1\n"
     ]
    }
   ],
   "source": [
    "# Each dim_customer.market should have 1 region\n",
    "query = \"\"\"\n",
    "SELECT market, count(region) as region_count\n",
    "FROM (\n",
    "    SELECT DISTINCT market, region\n",
    "    FROM dim_customer\n",
    ")\n",
    "GROUP BY market\n",
    "ORDER BY region_count DESC\n",
    "\"\"\"\n",
    "cursor.execute(query)\n",
    "print (f'Max region count: {cursor.fetchone()[1]}')"
   ]
  },
  {
   "cell_type": "code",
   "execution_count": 61,
   "metadata": {},
   "outputs": [
    {
     "name": "stdout",
     "output_type": "stream",
     "text": [
      "('P & A',)\n",
      "('PC',)\n",
      "('N & S',)\n"
     ]
    }
   ],
   "source": [
    "# dim_product.division should have 3 values\n",
    "query = \"\"\"\n",
    "SELECT DISTINCT division\n",
    "FROM dim_product\n",
    "\"\"\"\n",
    "cursor.execute(query)\n",
    "print(*cursor.fetchall(), sep=\"\\n\")"
   ]
  },
  {
   "cell_type": "code",
   "execution_count": 62,
   "metadata": {},
   "outputs": [
    {
     "name": "stdout",
     "output_type": "stream",
     "text": [
      "('Peripherals',)\n",
      "('Accessories',)\n",
      "('Notebook',)\n",
      "('Desktop',)\n",
      "('Storage',)\n",
      "('Networking',)\n"
     ]
    }
   ],
   "source": [
    "# dim_product.segment should have 6 values\n",
    "query = \"\"\"\n",
    "SELECT DISTINCT segment\n",
    "FROM dim_product\n",
    "\"\"\"\n",
    "cursor.execute(query)\n",
    "print(*cursor.fetchall(), sep=\"\\n\")"
   ]
  },
  {
   "cell_type": "code",
   "execution_count": 63,
   "metadata": {},
   "outputs": [
    {
     "name": "stdout",
     "output_type": "stream",
     "text": [
      "(0.3099,)\n"
     ]
    }
   ],
   "source": [
    "# fact_pre_discount.pre_invoice_discount_pct should always be less than 1\n",
    "query = \"\"\"\n",
    "SELECT max(pre_invoice_discount_pct)\n",
    "FROM fact_pre_discount\n",
    "\"\"\"\n",
    "cursor.execute(query)\n",
    "print(*cursor.fetchall(), sep=\"\\n\")"
   ]
  },
  {
   "cell_type": "code",
   "execution_count": 64,
   "metadata": {},
   "outputs": [
    {
     "name": "stdout",
     "output_type": "stream",
     "text": [
      "(2018, '2017-09-01', '2018-08-01')\n",
      "(2019, '2018-09-01', '2019-08-01')\n",
      "(2020, '2019-09-01', '2020-08-01')\n",
      "(2021, '2020-09-01', '2021-08-01')\n",
      "(2022, '2021-09-01', '2021-12-01')\n"
     ]
    }
   ],
   "source": [
    "# fact_sales_monthly.date consistently assigns the same months to the right fiscal_year\n",
    "query= \"\"\"\n",
    "SELECT fiscal_year, MIN(date), MAX(date)\n",
    "FROM fact_sales_monthly\n",
    "GROUP BY fiscal_year\n",
    "\"\"\"\n",
    "cursor.execute(query)\n",
    "print(*cursor.fetchall(), sep=\"\\n\")"
   ]
  },
  {
   "cell_type": "markdown",
   "metadata": {},
   "source": [
    "There is only 3 months worth of data for fiscal year 2022, as opposed to the full 12 months for the rest of the fiscal years."
   ]
  },
  {
   "cell_type": "code",
   "execution_count": 65,
   "metadata": {},
   "outputs": [
    {
     "name": "stdout",
     "output_type": "stream",
     "text": [
      "(0,)\n"
     ]
    }
   ],
   "source": [
    "# fact_sales_monthly.sold_quantity should always be positive\n",
    "query= \"\"\"\n",
    "SELECT MIN(sold_quantity)\n",
    "FROM fact_sales_monthly\n",
    "\"\"\"\n",
    "cursor.execute(query)\n",
    "print(*cursor.fetchall(), sep=\"\\n\")"
   ]
  },
  {
   "cell_type": "code",
   "execution_count": 66,
   "metadata": {},
   "outputs": [
    {
     "name": "stdout",
     "output_type": "stream",
     "text": [
      "('2017-09-01', 'A0118150101', 70012042, 0, 2018)\n",
      "('2017-09-01', 'A0118150101', 70012043, 0, 2018)\n",
      "('2017-09-01', 'A0118150101', 90012033, 0, 2018)\n",
      "('2017-09-01', 'A0118150101', 90012034, 0, 2018)\n",
      "('2017-09-01', 'A0118150101', 90012035, 0, 2018)\n",
      "('2017-09-01', 'A0118150101', 90012037, 0, 2018)\n",
      "('2017-09-01', 'A0118150101', 90012038, 0, 2018)\n",
      "('2017-09-01', 'A0118150101', 90012039, 0, 2018)\n",
      "('2017-09-01', 'A0118150101', 90012041, 0, 2018)\n",
      "('2017-09-01', 'A0118150102', 70012042, 0, 2018)\n",
      "('2017-09-01', 'A0118150102', 70012043, 0, 2018)\n",
      "('2017-09-01', 'A0118150102', 90012033, 0, 2018)\n",
      "('2017-09-01', 'A0118150102', 90012034, 0, 2018)\n",
      "('2017-09-01', 'A0118150102', 90012035, 0, 2018)\n",
      "('2017-09-01', 'A0118150102', 90012037, 0, 2018)\n",
      "('2017-09-01', 'A0118150102', 90012038, 0, 2018)\n",
      "('2017-09-01', 'A0118150102', 90012039, 0, 2018)\n",
      "('2017-09-01', 'A0118150102', 90012041, 0, 2018)\n",
      "('2017-09-01', 'A0118150103', 70012042, 0, 2018)\n",
      "('2017-09-01', 'A0118150103', 70012043, 0, 2018)\n",
      "('2017-09-01', 'A0118150103', 90012033, 0, 2018)\n",
      "('2017-09-01', 'A0118150103', 90012034, 0, 2018)\n",
      "('2017-09-01', 'A0118150103', 90012035, 0, 2018)\n",
      "('2017-09-01', 'A0118150103', 90012037, 0, 2018)\n",
      "('2017-09-01', 'A0118150103', 90012038, 0, 2018)\n",
      "('2017-09-01', 'A0118150103', 90012039, 0, 2018)\n",
      "('2017-09-01', 'A0118150103', 90012041, 0, 2018)\n",
      "('2017-09-01', 'A0118150104', 70012042, 0, 2018)\n",
      "('2017-09-01', 'A0118150104', 70012043, 0, 2018)\n",
      "('2017-09-01', 'A0118150104', 90012033, 0, 2018)\n",
      "('2017-09-01', 'A0118150104', 90012034, 0, 2018)\n",
      "('2017-09-01', 'A0118150104', 90012035, 0, 2018)\n",
      "('2017-09-01', 'A0118150104', 90012037, 0, 2018)\n",
      "('2017-09-01', 'A0118150104', 90012038, 0, 2018)\n",
      "('2017-09-01', 'A0118150104', 90012039, 0, 2018)\n",
      "('2017-09-01', 'A0118150104', 90012041, 0, 2018)\n",
      "('2017-09-01', 'A0418150101', 70012042, 0, 2018)\n",
      "('2017-09-01', 'A0418150101', 70012043, 0, 2018)\n",
      "('2017-09-01', 'A0418150101', 90012033, 0, 2018)\n",
      "('2017-09-01', 'A0418150101', 90012034, 0, 2018)\n",
      "('2017-09-01', 'A0418150101', 90012035, 0, 2018)\n",
      "('2017-09-01', 'A0418150101', 90012037, 0, 2018)\n",
      "('2017-09-01', 'A0418150101', 90012038, 0, 2018)\n",
      "('2017-09-01', 'A0418150101', 90012039, 0, 2018)\n",
      "('2017-09-01', 'A0418150101', 90012041, 0, 2018)\n",
      "('2017-09-01', 'A0418150102', 70012042, 0, 2018)\n",
      "('2017-09-01', 'A0418150102', 70012043, 0, 2018)\n",
      "('2017-09-01', 'A0418150102', 90012033, 0, 2018)\n",
      "('2017-09-01', 'A0418150102', 90012034, 0, 2018)\n",
      "('2017-09-01', 'A0418150102', 90012035, 0, 2018)\n",
      "('2017-09-01', 'A0418150102', 90012037, 0, 2018)\n",
      "('2017-09-01', 'A0418150102', 90012038, 0, 2018)\n",
      "('2017-09-01', 'A0418150102', 90012039, 0, 2018)\n",
      "('2017-09-01', 'A0418150102', 90012041, 0, 2018)\n",
      "('2017-09-01', 'A0418150103', 70012042, 0, 2018)\n",
      "('2017-09-01', 'A0418150103', 70012043, 0, 2018)\n",
      "('2017-09-01', 'A0418150103', 90012033, 0, 2018)\n",
      "('2017-09-01', 'A0418150103', 90012034, 0, 2018)\n",
      "('2017-09-01', 'A0418150103', 90012035, 0, 2018)\n",
      "('2017-09-01', 'A0418150103', 90012037, 0, 2018)\n",
      "('2017-09-01', 'A0418150103', 90012038, 0, 2018)\n",
      "('2017-09-01', 'A0418150103', 90012039, 0, 2018)\n",
      "('2017-09-01', 'A0418150103', 90012041, 0, 2018)\n",
      "('2017-09-01', 'A0418150104', 70012042, 0, 2018)\n",
      "('2017-09-01', 'A0418150104', 70012043, 0, 2018)\n",
      "('2017-09-01', 'A0418150104', 90012033, 0, 2018)\n",
      "('2017-09-01', 'A0418150104', 90012034, 0, 2018)\n",
      "('2017-09-01', 'A0418150104', 90012035, 0, 2018)\n",
      "('2017-09-01', 'A0418150104', 90012037, 0, 2018)\n",
      "('2017-09-01', 'A0418150104', 90012038, 0, 2018)\n",
      "('2017-09-01', 'A0418150104', 90012039, 0, 2018)\n",
      "('2017-09-01', 'A0418150104', 90012041, 0, 2018)\n"
     ]
    }
   ],
   "source": [
    "query= \"\"\"\n",
    "SELECT *\n",
    "FROM fact_sales_monthly\n",
    "WHERE sold_quantity = 0\n",
    "\"\"\"\n",
    "cursor.execute(query)\n",
    "print(*cursor.fetchall(), sep=\"\\n\")"
   ]
  },
  {
   "cell_type": "code",
   "execution_count": null,
   "metadata": {},
   "outputs": [],
   "source": []
  }
 ],
 "metadata": {
  "kernelspec": {
   "display_name": "Tripleten",
   "language": "python",
   "name": "python3"
  },
  "language_info": {
   "codemirror_mode": {
    "name": "ipython",
    "version": 3
   },
   "file_extension": ".py",
   "mimetype": "text/x-python",
   "name": "python",
   "nbconvert_exporter": "python",
   "pygments_lexer": "ipython3",
   "version": "3.12.3"
  }
 },
 "nbformat": 4,
 "nbformat_minor": 2
}
